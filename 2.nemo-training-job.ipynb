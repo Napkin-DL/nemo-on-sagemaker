{
 "cells": [
  {
   "cell_type": "markdown",
   "id": "327dd0be-8ba8-43e5-b178-eb1db8d3d40a",
   "metadata": {},
   "source": [
    "# <B> Training </B>\n",
    "* Container: codna_pytorch_p39"
   ]
  },
  {
   "cell_type": "markdown",
   "id": "52ecd494-5ac0-4f66-a3cc-340e847e3c46",
   "metadata": {},
   "source": [
    "## AutoReload"
   ]
  },
  {
   "cell_type": "code",
   "execution_count": 3,
   "id": "c07a9ee3-c178-41b6-a212-2a33f65dc377",
   "metadata": {
    "tags": []
   },
   "outputs": [],
   "source": [
    "%load_ext autoreload\n",
    "%autoreload 2"
   ]
  },
  {
   "cell_type": "markdown",
   "id": "bccc9dda-9dad-4f81-8dd5-53b5623f1d93",
   "metadata": {
    "tags": []
   },
   "source": [
    "## 1. parameter store 셋팅"
   ]
  },
  {
   "cell_type": "code",
   "execution_count": 4,
   "id": "1d6e737a-557b-44c7-a5c2-f6798bf0c430",
   "metadata": {
    "tags": []
   },
   "outputs": [],
   "source": [
    "import boto3\n",
    "from utils.ssm import parameter_store"
   ]
  },
  {
   "cell_type": "code",
   "execution_count": 5,
   "id": "3f9894a8-4249-4fcc-9b44-d5f43f4fd867",
   "metadata": {
    "tags": []
   },
   "outputs": [],
   "source": [
    "strRegionName=boto3.Session().region_name\n",
    "pm = parameter_store(strRegionName)\n",
    "prefix = pm.get_params(key=\"PREFIX\")"
   ]
  },
  {
   "cell_type": "markdown",
   "id": "c0674243-6019-4e5e-8563-2fd17ca8ae95",
   "metadata": {
    "tags": []
   },
   "source": [
    "## 2.Training-job for preprocessing"
   ]
  },
  {
   "cell_type": "code",
   "execution_count": 7,
   "id": "e68c1bf7-336d-46b9-940e-9e5b570e1793",
   "metadata": {
    "tags": []
   },
   "outputs": [],
   "source": [
    "import os\n",
    "import sagemaker\n",
    "from omegaconf import OmegaConf\n",
    "from sagemaker.pytorch.estimator import PyTorch\n",
    "from sagemaker.workflow.execution_variables import ExecutionVariables\n",
    "from sagemaker.processing import ProcessingInput, ProcessingOutput, FrameworkProcessor\n",
    "from smexperiments.experiment import Experiment\n",
    "from smexperiments.trial import Trial"
   ]
  },
  {
   "cell_type": "markdown",
   "id": "e0e9bb6a-d48d-46f7-bb83-a47255503b6f",
   "metadata": {},
   "source": [
    "* **Set Up SageMaker Experiment**\n",
    "    - Create or load [SageMaker Experiment](https://docs.aws.amazon.com/sagemaker/latest/dg/experiments.html) for the example training job. This will create an experiment trial object in SageMaker."
   ]
  },
  {
   "cell_type": "code",
   "execution_count": 17,
   "id": "9612750e-acc9-418c-be4f-24ce6a79726b",
   "metadata": {
    "tags": []
   },
   "outputs": [],
   "source": [
    "from time import strftime"
   ]
  },
  {
   "cell_type": "code",
   "execution_count": 8,
   "id": "c6a12e2b-2456-4419-8c75-e95d2ca6eab4",
   "metadata": {
    "tags": []
   },
   "outputs": [],
   "source": [
    "def create_experiment(experiment_name):\n",
    "    try:\n",
    "        sm_experiment = Experiment.load(experiment_name)\n",
    "    except:\n",
    "        sm_experiment = Experiment.create(experiment_name=experiment_name)"
   ]
  },
  {
   "cell_type": "code",
   "execution_count": 9,
   "id": "489351d8-9d95-4483-af38-0bd3f9c80add",
   "metadata": {
    "tags": []
   },
   "outputs": [],
   "source": [
    "def create_trial(experiment_name):\n",
    "    create_date = strftime(\"%m%d-%H%M%s\")\n",
    "    sm_trial = Trial.create(trial_name=f'{experiment_name}-{create_date}',\n",
    "                            experiment_name=experiment_name)\n",
    "\n",
    "    job_name = f'{sm_trial.trial_name}'\n",
    "    return job_name"
   ]
  },
  {
   "cell_type": "markdown",
   "id": "332c8e85-ea66-4fbd-bdde-551400b0f872",
   "metadata": {
    "tags": []
   },
   "source": [
    "* **Configure the training job**\n",
    "\n",
    "    - Now we configure the training job, by modifying the `config.yaml` file that is stored in our source code directory.\n",
    "    - We pass relative directory paths for the data based on the SageMaker mount directory on the remote instance."
   ]
  },
  {
   "cell_type": "code",
   "execution_count": 10,
   "id": "16bcde0a-bcde-4ad3-a0dc-7b844ac1b733",
   "metadata": {
    "tags": []
   },
   "outputs": [],
   "source": [
    "code_dir = os.path.join(\"./an4_nemo_sagemaker\", \"code\", \"training\")\n",
    "config_dir = os.path.join(\"./an4_nemo_sagemaker\", \"code\", \"training\", \"conf\")\n",
    "config_path = os.path.join(config_dir, \"config.yaml\")"
   ]
  },
  {
   "cell_type": "markdown",
   "id": "85e3076c-bfae-4589-963a-4f1288761e62",
   "metadata": {},
   "source": [
    "* params for training job"
   ]
  },
  {
   "cell_type": "code",
   "execution_count": 61,
   "id": "c7460084-c1f4-472d-909c-ce723634b26b",
   "metadata": {
    "tags": []
   },
   "outputs": [],
   "source": [
    "#data_dir = os.getcwd() + \"/data\"\n",
    "\n",
    "# Set to True to enable SageMaker to run locally\n",
    "local_mode = False\n",
    "\n",
    "if local_mode:\n",
    "    instance_type = \"local_gpu\"\n",
    "else:\n",
    "    instance_type = \"ml.p3.2xlarge\"#\"ml.g4dn.8xlarge\"#\"ml.p3.2xlarge\", 'ml.p3.16xlarge'\n",
    "    \n",
    "if instance_type =='local_gpu':\n",
    "    from sagemaker.local import LocalSession\n",
    "    import os\n",
    "    \n",
    "    sagemaker_session = LocalSession()\n",
    "    sagemaker_session.config = {'local': {'local_code': True}}\n",
    "    \n",
    "    data_channels = {\"training\": f\"file://{data_dir}\", \"testing\": f\"file://{data_dir}\"}\n",
    "    \n",
    "else:\n",
    "    sagemaker_session = sagemaker.Session()\n",
    "    data_channels = {\"training\": pm.get_params(key=\"\".join([prefix, \"PREP-DATA-PATH\"])), \"testing\": pm.get_params(key=\"\".join([prefix, \"PREP-DATA-PATH\"]))}\n",
    "\n",
    "instance_count = 1\n",
    "\n",
    "do_spot_training = False\n",
    "max_wait = None\n",
    "max_run = 1*60*60   \n",
    "\n",
    "resume = False\n",
    "    \n",
    "proc_prefix = \"/opt/ml/processing\"\n",
    "\n",
    "output_path = os.path.join(\n",
    "    \"s3://{}\".format(pm.get_params(key=prefix + \"BUCKET\")),\n",
    "    \"training\",\n",
    "    \"model-output\"\n",
    ")\n",
    "\n",
    "checkpoint_s3_uri = os.path.join(\n",
    "    \"s3://{}\".format(pm.get_params(key=prefix + \"BUCKET\")),\n",
    "    \"training\",\n",
    "    \"ckpt\"\n",
    ")\n",
    "\n",
    "code_location = os.path.join(\n",
    "    \"s3://{}\".format(pm.get_params(key=prefix + \"BUCKET\")),\n",
    "    \"training\",\n",
    "    \"backup_codes\"\n",
    ")\n",
    "\n",
    "experiment_name = ''.join([prefix, \"nemo-exp1\"])\n",
    "\n",
    "metric_definitions=[\n",
    "     {\"Name\": \"train_loss\", \"Regex\": \"loss.*=\\D*(.*?)$\"}\n",
    "]\n",
    "\n",
    "kwargs = {}"
   ]
  },
  {
   "cell_type": "code",
   "execution_count": 62,
   "id": "26003edf-356a-4e1d-82b1-c8085b508b76",
   "metadata": {
    "tags": []
   },
   "outputs": [
    {
     "name": "stdout",
     "output_type": "stream",
     "text": [
      "experiment_name : SM-NeMo-nemo-exp1 \n",
      "train_instance_type : ml.p3.2xlarge \n",
      "train_instance_count : 1\n",
      " data_channels : {'training': 's3://sm-nemo-bucket/preprocessing/data', 'testing': 's3://sm-nemo-bucket/preprocessing/data'}\n",
      " data_dir : ./dataset-tmp\n"
     ]
    }
   ],
   "source": [
    "print(\"experiment_name : {} \\ntrain_instance_type : {} \\ntrain_instance_count : {}\\n data_channels : {}\\n data_dir : {}\".format(experiment_name, instance_type, instance_count, data_channels, data_dir))    "
   ]
  },
  {
   "cell_type": "markdown",
   "id": "5e51e768-c740-42c6-9a74-c09a1b337405",
   "metadata": {},
   "source": [
    "* config"
   ]
  },
  {
   "cell_type": "code",
   "execution_count": 63,
   "id": "b07e1646-aa7f-49e7-996a-d7cbf22e26c7",
   "metadata": {
    "tags": []
   },
   "outputs": [],
   "source": [
    "conf = OmegaConf.load(config_path)\n",
    "\n",
    "# Sampling\n",
    "conf.model.sample_rate = 16000 #12800 ## for finetuing\n",
    "\n",
    "# Set Data Locations based on the mounted directory in the SageMaker instance\n",
    "conf.model.train_ds.manifest_filepath = \"/opt/ml/input/data/training/an4/train_manifest.json\"\n",
    "conf.model.validation_ds.manifest_filepath = \"/opt/ml/input/data/testing/an4/test_manifest.json\"\n",
    "# training setup\n",
    "conf.trainer.accelerator = \"gpu\"\n",
    "conf.trainer.num_nodes = instance_count\n",
    "# enable SageMaker DDP\n",
    "conf.trainer.strategy = None #\"ddp\"\n",
    "conf.trainer.max_epochs = 2\n",
    "\n",
    "# Output directory for our experiment within the SageMaker instance\n",
    "conf.exp_manager.exp_dir=\"/opt/ml/model/\"\n",
    "\n",
    "# Create a Small Variant of the Conformer Model\n",
    "conf.model.encoder.n_layers = 8\n",
    "conf.model.n_heads = 4\n",
    "conf.model.spec_augment.time_masks = 5\n",
    "\n",
    "# Set Optimizer parameters\n",
    "conf.model.optim.lr = 2.0 # by default we using Noam scheduling, the LR is a multiplier\n",
    "\n",
    "\n",
    "if resume == True:\n",
    "    # resume flags if crashes occur\n",
    "    conf.exp_manager.resume_if_exists=True \n",
    "    conf.exp_manager.resume_ignore_no_checkpoint=True\n",
    "    # the pre-trained model we want to fine-tune\n",
    "    conf.init_from_nemo_model = \"CTC.nemo\"\n",
    "else:\n",
    "    # resume flags if crashes occur\n",
    "    conf.exp_manager.resume_if_exists=False \n",
    "    conf.exp_manager.resume_ignore_no_checkpoint=True\n",
    "    \n",
    "\n",
    "OmegaConf.save(conf, config_path)"
   ]
  },
  {
   "cell_type": "markdown",
   "id": "5604a35c-4057-4a4f-b308-640a9cc54277",
   "metadata": {},
   "source": [
    "* Define processing job"
   ]
  },
  {
   "cell_type": "code",
   "execution_count": 64,
   "id": "1576ea06-1ac4-4e11-8106-671a3f88cc21",
   "metadata": {
    "tags": []
   },
   "outputs": [],
   "source": [
    "est = PyTorch(\n",
    "    entry_point=\"speech_to_text_ctc.py\", # the script we want to run\n",
    "    source_dir=code_dir, # where our conf/script is\n",
    "    role=pm.get_params(key=prefix + \"SAGEMAKER-ROLE-ARN\"),\n",
    "    instance_type=instance_type,\n",
    "    instance_count=instance_count,\n",
    "    image_uri=pm.get_params(key=''.join([prefix, \"IMAGE-URI\"])),\n",
    "    # framework_version=\"1.13.1\", # version of PyTorch\n",
    "    # py_version=\"py39\",\n",
    "    volume_size=1024,\n",
    "    code_location = code_location,\n",
    "    output_path=output_path,\n",
    "    disable_profiler=True,\n",
    "    debugger_hook_config=False,\n",
    "    hyperparameters={'config-path': 'conf'},\n",
    "    #distribution={\"smdistributed\":{\"dataparallel\":{\"enabled\":True, \"fp16\": True}}},\n",
    "    sagemaker_session=sagemaker_session,\n",
    "    checkpoint_s3_uri=checkpoint_s3_uri,\n",
    "    metric_definitions=metric_definitions,\n",
    "    max_run=max_run,\n",
    "    **kwargs\n",
    ")"
   ]
  },
  {
   "cell_type": "markdown",
   "id": "9883bc2a-69e5-436d-aef3-67e994c1f553",
   "metadata": {},
   "source": [
    "* run"
   ]
  },
  {
   "cell_type": "code",
   "execution_count": null,
   "id": "8640b12b-761f-4fbd-9f09-cac4b2709d2f",
   "metadata": {
    "tags": []
   },
   "outputs": [
    {
     "name": "stderr",
     "output_type": "stream",
     "text": [
      "INFO:botocore.credentials:Found credentials from IAM Role: BaseNotebookInstanceEc2InstanceRole\n",
      "INFO:botocore.credentials:Found credentials from IAM Role: BaseNotebookInstanceEc2InstanceRole\n",
      "INFO:sagemaker:Creating training-job with name: SM-NeMo-nemo-exp1-0316-10011678960900\n"
     ]
    },
    {
     "name": "stdout",
     "output_type": "stream",
     "text": [
      "2023-03-16 10:01:49 Starting - Starting the training job...\n",
      "2023-03-16 10:02:14 Starting - Preparing the instances for training..."
     ]
    }
   ],
   "source": [
    "if instance_type =='local_gpu': est.checkpoint_s3_uri = None\n",
    "\n",
    "create_experiment(experiment_name)\n",
    "job_name = create_trial(experiment_name)\n",
    "\n",
    "est.fit(\n",
    "    inputs=data_channels, \n",
    "    job_name=job_name,\n",
    "    experiment_config={\n",
    "      'TrialName': job_name,\n",
    "      'TrialComponentDisplayName': job_name,\n",
    "    },\n",
    "    wait=True,\n",
    ")"
   ]
  },
  {
   "cell_type": "code",
   "execution_count": 51,
   "id": "dd70da2d-1177-46d3-bb1d-c401350ec5ed",
   "metadata": {
    "tags": []
   },
   "outputs": [],
   "source": [
    "data_dir = \"./dataset-tmp\""
   ]
  },
  {
   "cell_type": "code",
   "execution_count": 2,
   "id": "222cfa2a-2509-4191-ae3e-979e9539cd6d",
   "metadata": {
    "tags": []
   },
   "outputs": [
    {
     "name": "stdout",
     "output_type": "stream",
     "text": [
      "******\n",
      "Dataset downloaded at: ./dataset-tmp/an4_sphere.tar.gz\n",
      "Converting .sph to .wav...\n",
      "Finished conversion.\n",
      "******\n",
      "******\n",
      "Training manifest created.\n",
      "Test manifest created.\n",
      "***Done***\n"
     ]
    }
   ],
   "source": [
    "\n",
    "download_an4(\n",
    "    data_dir=data_dir,\n",
    "    train_mount_dir=\"/opt/ml/input/data/training/\",\n",
    "    test_mount_dir=\"/opt/ml/input/data/testing/\",\n",
    ")"
   ]
  },
  {
   "cell_type": "code",
   "execution_count": 33,
   "id": "ce0af533-cced-4c3a-8aa0-b0ff6255d8ee",
   "metadata": {
    "tags": []
   },
   "outputs": [
    {
     "data": {
      "text/plain": [
       "'/home/ec2-user/SageMaker/nemo-on-sagemaker'"
      ]
     },
     "execution_count": 33,
     "metadata": {},
     "output_type": "execute_result"
    }
   ],
   "source": []
  },
  {
   "cell_type": "code",
   "execution_count": null,
   "id": "8d845262-c260-427b-8fc4-8be8e68cf13e",
   "metadata": {},
   "outputs": [],
   "source": []
  }
 ],
 "metadata": {
  "kernelspec": {
   "display_name": "conda_pytorch_p39",
   "language": "python",
   "name": "conda_pytorch_p39"
  },
  "language_info": {
   "codemirror_mode": {
    "name": "ipython",
    "version": 3
   },
   "file_extension": ".py",
   "mimetype": "text/x-python",
   "name": "python",
   "nbconvert_exporter": "python",
   "pygments_lexer": "ipython3",
   "version": "3.9.15"
  }
 },
 "nbformat": 4,
 "nbformat_minor": 5
}
