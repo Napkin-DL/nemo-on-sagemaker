{
 "cells": [
  {
   "cell_type": "markdown",
   "id": "cb60aea8-54a9-4cf8-9cff-5f9b2043036b",
   "metadata": {},
   "source": [
    "# <B> Evaluation </B>\n",
    "* Container: codna_pytorch_py39"
   ]
  },
  {
   "cell_type": "markdown",
   "id": "6dc511d5-62aa-404b-9fbd-0f1a59446926",
   "metadata": {},
   "source": [
    "## AutoReload"
   ]
  },
  {
   "cell_type": "code",
   "execution_count": 6,
   "id": "0ba446e0-448f-4e07-9d5a-225c16bde8cb",
   "metadata": {
    "tags": []
   },
   "outputs": [],
   "source": [
    "import boto3"
   ]
  },
  {
   "cell_type": "markdown",
   "id": "84ecd6e6-2939-4712-b342-136d077100a9",
   "metadata": {},
   "source": [
    "## 1. parameter store 설정"
   ]
  },
  {
   "cell_type": "code",
   "execution_count": 25,
   "id": "0a521989-1410-4b70-9c3c-aa2ec3a76262",
   "metadata": {
    "tags": []
   },
   "outputs": [
    {
     "name": "stdout",
     "output_type": "stream",
     "text": [
      "Filesystem         Size  Used Avail Use% Mounted on\n",
      "overlay             27G  384K   27G   1% /\n",
      "tmpfs               64M     0   64M   0% /dev\n",
      "tmpfs              1.9G     0  1.9G   0% /sys/fs/cgroup\n",
      "shm                397M     0  397M   0% /dev/shm\n",
      "127.0.0.1:/200005  8.0E  356M  8.0E   1% /root\n",
      "/dev/nvme0n1p1     140G   24G  117G  17% /opt/.sagemakerinternal\n",
      "devtmpfs           1.9G     0  1.9G   0% /dev/tty\n",
      "tmpfs              1.9G     0  1.9G   0% /proc/acpi\n",
      "tmpfs              1.9G     0  1.9G   0% /sys/firmware\n"
     ]
    }
   ],
   "source": [
    "!df -h"
   ]
  },
  {
   "cell_type": "code",
   "execution_count": 7,
   "id": "86f1fe37-21d1-4827-92d6-f0c5898ff7f4",
   "metadata": {
    "tags": []
   },
   "outputs": [],
   "source": [
    "import os\n",
    "import boto3\n",
    "\n",
    "class parameter_store():\n",
    "    \n",
    "    def __init__(self, region_name=\"ap-northeast-2\"):\n",
    "        \n",
    "        self.ssm = boto3.client('ssm', region_name=region_name)\n",
    "        \n",
    "    def put_params(self, key, value, dtype=\"String\", overwrite=False, enc=False) -> str:\n",
    "        \n",
    "        #aws ssm put-parameter --name \"RDS-MASTER-PASSWORD\" --value 'PASSWORD' --type \"SecureString\"\n",
    "        if enc: dtype=\"SecureString\"\n",
    "        if overwrite:\n",
    "            strQuery = ''.join(['aws ssm put-parameter', ' --name ', '\"', str(key), '\"', ' --value ', '\"', str(value), '\"', ' --type ', '\"', str(dtype), '\"', ' --overwrite'])\n",
    "        strResponse = os.popen(strQuery).read()\n",
    "        \n",
    "        if strResponse != '': return 'Store suceess'\n",
    "        else: return 'Error'\n",
    "    \n",
    "    def get_params(self, key, enc=False):\n",
    "        \n",
    "        if enc: WithDecryption = True\n",
    "        else: WithDecryption = False\n",
    "        response = self.ssm.get_parameters(\n",
    "            Names=[key,],\n",
    "            WithDecryption=WithDecryption\n",
    "        )\n",
    "        \n",
    "        return response['Parameters'][0]['Value']\n",
    "\n",
    "    def get_all_params(self, ):\n",
    "\n",
    "        response = self.ssm.describe_parameters(MaxResults=50)\n",
    "\n",
    "        return [dicParam[\"Name\"] for dicParam in response[\"Parameters\"]]\n",
    "\n",
    "    def delete_param(self, listParams):\n",
    "\n",
    "        response = self.ssm.delete_parameters(\n",
    "            Names=listParams\n",
    "        )\n",
    "        print (f\"  parameters: {listParams} is deleted successfully\")"
   ]
  },
  {
   "cell_type": "code",
   "execution_count": 8,
   "id": "22a09c09-735c-416e-b229-2d0a84bd458a",
   "metadata": {
    "tags": []
   },
   "outputs": [],
   "source": [
    "strRegionName=boto3.Session().region_name\n",
    "pm = parameter_store(strRegionName)\n",
    "prefix = pm.get_params(key=\"PREFIX\")"
   ]
  },
  {
   "cell_type": "markdown",
   "id": "82fcf66a-7690-4ee7-bc5c-ecab6d254e84",
   "metadata": {},
   "source": [
    "## 2.Processing-job for evaluation"
   ]
  },
  {
   "cell_type": "code",
   "execution_count": 9,
   "id": "31244e49-1ef6-44b0-aa9a-8c279e3e9093",
   "metadata": {
    "tags": []
   },
   "outputs": [],
   "source": [
    "import os\n",
    "import sagemaker\n",
    "from sagemaker.pytorch.estimator import PyTorch\n",
    "from sagemaker.workflow.execution_variables import ExecutionVariables\n",
    "from sagemaker.processing import ProcessingInput, ProcessingOutput, FrameworkProcessor"
   ]
  },
  {
   "cell_type": "markdown",
   "id": "ca29aeed-2e97-46eb-9b8f-9a6d7e705057",
   "metadata": {
    "tags": []
   },
   "source": [
    "* **Set Up SageMaker Experiment**\n",
    "    - Create or load [SageMaker Experiment](https://docs.aws.amazon.com/sagemaker/latest/dg/experiments.html) for the example training job. This will create an experiment trial object in SageMaker."
   ]
  },
  {
   "cell_type": "markdown",
   "id": "fef44376-e6ac-43c2-b9e4-e18adb65a2ec",
   "metadata": {},
   "source": [
    "* params for processing job"
   ]
  },
  {
   "cell_type": "code",
   "execution_count": 10,
   "id": "acfa761c-b537-4a16-ae83-a1792e3b81a6",
   "metadata": {
    "tags": []
   },
   "outputs": [],
   "source": [
    "!pip install sagemaker-experiments"
   ]
  },
  {
   "cell_type": "code",
   "execution_count": 11,
   "id": "addb70d1-0a55-4f86-ae53-9beec538f023",
   "metadata": {
    "tags": []
   },
   "outputs": [],
   "source": [
    "from time import strftime\n",
    "from smexperiments.trial import Trial\n",
    "from smexperiments.experiment import Experiment"
   ]
  },
  {
   "cell_type": "code",
   "execution_count": 12,
   "id": "58fff36e-b3aa-4684-a67a-fde9ae3b11ad",
   "metadata": {
    "tags": []
   },
   "outputs": [],
   "source": [
    "def create_experiment(experiment_name):\n",
    "    try:\n",
    "        sm_experiment = Experiment.load(experiment_name)\n",
    "    except:\n",
    "        sm_experiment = Experiment.create(experiment_name=experiment_name)"
   ]
  },
  {
   "cell_type": "code",
   "execution_count": 13,
   "id": "5c43996d-e5f7-4fbd-992b-36f732f18e4f",
   "metadata": {
    "tags": []
   },
   "outputs": [],
   "source": [
    "def create_trial(experiment_name):\n",
    "    create_date = strftime(\"%m%d-%H%M%s\")\n",
    "    sm_trial = Trial.create(trial_name=f'{experiment_name}-{create_date}',\n",
    "                            experiment_name=experiment_name)\n",
    "\n",
    "    job_name = f'{sm_trial.trial_name}'\n",
    "    return job_name"
   ]
  },
  {
   "cell_type": "code",
   "execution_count": 14,
   "id": "f2a642c2-470a-41c2-91b6-f25460da4273",
   "metadata": {
    "tags": []
   },
   "outputs": [],
   "source": [
    "select_date = '2023/03/20'\n",
    "variant_name = 'AllTraffic'\n"
   ]
  },
  {
   "cell_type": "code",
   "execution_count": 17,
   "id": "4e5789a5-57b6-4a7e-81bc-188e23c28b06",
   "metadata": {
    "tags": []
   },
   "outputs": [
    {
     "name": "stdout",
     "output_type": "stream",
     "text": [
      "instance-type: ml.g4dn.xlarge\n",
      "image-uri: 322537213286.dkr.ecr.us-west-2.amazonaws.com/nemo-test-training:latest\n",
      "role: arn:aws:iam::322537213286:role/service-role/AmazonSageMaker-ExecutionRole-20210401T133000\n",
      "bucket: sagemaker-us-west-2-322537213286\n",
      "model_artifact_s3_uri: s3://sagemaker-us-west-2-322537213286/nemo-prod/training/model-output/nemo-prod-nemo-experiments-0320-07471679298425/output/model.tar.gz\n",
      "test_manifest_s3_path: s3://sagemaker-us-west-2-322537213286/preprocessing/data/an4/test_manifest.json\n",
      "wav_s3_uri: s3://sagemaker-us-west-2-322537213286/preprocessing/data/an4/wav\n",
      "eval_output_s3_uri: s3://sagemaker-us-west-2-322537213286/evaluation/output/eval_output\n",
      "endpoint_name: nemo-prod-nemo-experiments-0320-07331679297605\n",
      "monitor_output: s3://sagemaker-us-west-2-322537213286/nemo-prod/inference/monitor_output\n",
      "sagemaker_session: <sagemaker.session.Session object at 0x7f9b1ca21550>\n"
     ]
    }
   ],
   "source": [
    "local_mode = False\n",
    "\n",
    "if local_mode: \n",
    "    instance_type = 'local_gpu'\n",
    "    \n",
    "    import os\n",
    "    from sagemaker.local import LocalSession\n",
    "    \n",
    "    sagemaker_session = LocalSession()\n",
    "    sagemaker_session.config = {'local': {'local_code': True}}\n",
    "    \n",
    "else:\n",
    "    instance_type = \"ml.g4dn.xlarge\"\n",
    "    sagemaker_session = sagemaker.Session()\n",
    "\n",
    "\n",
    "sagemaker_role_arn = pm.get_params(key=prefix + '-SAGEMAKER-ROLE-ARN')\n",
    "preprocessing_data_path = pm.get_params(key=prefix + '-PREP-DATA-PATH')\n",
    "bucket_name = pm.get_params(key=prefix + '-BUCKET')\n",
    "eval_image_uri = pm.get_params(key=''.join([prefix, '-IMAGE-URI']))\n",
    "model_artifact_s3_uri = pm.get_params(key=prefix + '-MODEL-PATH')\n",
    "test_manifest_s3_path = os.path.join(preprocessing_data_path, \"an4\", \"test_manifest.json\")\n",
    "wav_s3_uri = os.path.join(preprocessing_data_path, \"an4\", \"wav\")\n",
    "eval_output_s3_uri = os.path.join(\"s3://\", bucket_name, \"evaluation\", \"output\", \"eval_output\")\n",
    "endpoint_name = pm.get_params(key=prefix + '-ENDPOINT-NAME')\n",
    "monitor_output = pm.get_params(key=''.join([prefix, '-MONITOR-OUTPUT']))\n",
    "\n",
    "code_location= os.path.join(\n",
    "    \"s3://{}\".format(bucket_name),\n",
    "    prefix,\n",
    "    \"evaluation\",\n",
    "    \"backup_codes\"\n",
    ")\n",
    "\n",
    "#s3://sagemaker-us-west-2-322537213286/nemo-prod/inference/monitor_output\n",
    "#s3://sagemaker-us-west-2-322537213286/nemo-prod/inference/monitor_output/nemo-prod-nemo-experiments-0320-07331679297605/AllTraffic/2023/03/20/07/\n",
    "\n",
    "inference_output_s3uri = os.path.join(\n",
    "    monitor_output,\n",
    "    endpoint_name,\n",
    "    variant_name,\n",
    "    select_date\n",
    ")\n",
    "\n",
    "gtmanifest_s3uri = os.path.join(\n",
    "    \"s3://{}\".format(bucket_name),\n",
    "    prefix,\n",
    "    \"gt-manifest\"\n",
    ")\n",
    "\n",
    "output_s3uri = os.path.join(\n",
    "    \"s3://{}\".format(bucket_name),\n",
    "    prefix,\n",
    "    \"pred-output\"\n",
    ")\n",
    "\n",
    "print (f\"instance-type: {instance_type}\")\n",
    "print (f\"image-uri: {eval_image_uri}\")\n",
    "print (f\"role: {sagemaker_role_arn}\")\n",
    "print (f\"bucket: {bucket_name}\")\n",
    "\n",
    "print (f\"model_artifact_s3_uri: {model_artifact_s3_uri}\")\n",
    "print (f\"test_manifest_s3_path: {test_manifest_s3_path}\")\n",
    "print (f\"wav_s3_uri: {wav_s3_uri}\")\n",
    "print (f\"eval_output_s3_uri: {eval_output_s3_uri}\")\n",
    "print (f\"endpoint_name: {endpoint_name}\")\n",
    "print (f\"monitor_output: {monitor_output}\")\n",
    "print (f\"sagemaker_session: {sagemaker_session}\")"
   ]
  },
  {
   "cell_type": "markdown",
   "id": "5b1d1a28-03f1-4f00-ad79-5786b15b0d46",
   "metadata": {},
   "source": [
    "* Define processing job"
   ]
  },
  {
   "cell_type": "code",
   "execution_count": 18,
   "id": "f81731ba-391a-411e-b30b-56b3d4cabf61",
   "metadata": {
    "tags": []
   },
   "outputs": [],
   "source": [
    "pred_processor = FrameworkProcessor(\n",
    "    estimator_cls=PyTorch,\n",
    "    framework_version=\"1.13.1\",\n",
    "    role=sagemaker_role_arn, \n",
    "    image_uri=eval_image_uri,\n",
    "    instance_count=1,\n",
    "    instance_type=instance_type,\n",
    "    code_location=code_location,\n",
    "    env={\n",
    "        'select_date': select_date, \n",
    "        'tolerance' : \"0.5\"\n",
    "        }\n",
    "    )"
   ]
  },
  {
   "cell_type": "code",
   "execution_count": 19,
   "id": "25118a37-e8ff-4412-8914-cbca8932e8cd",
   "metadata": {
    "tags": []
   },
   "outputs": [
    {
     "data": {
      "text/plain": [
       "8"
      ]
     },
     "execution_count": 19,
     "metadata": {},
     "output_type": "execute_result"
    }
   ],
   "source": [
    "gt_list = ['rubout n   she yn', 'rubout n   she yn','rubout n   she yn','rubout n   she yn','rubout n   she yn','rubout n   she yn','rubout n   she yn','rubout n   she yn']\n",
    "len(gt_list)"
   ]
  },
  {
   "cell_type": "code",
   "execution_count": 20,
   "id": "312483e6-ed39-474a-9967-e794eff00a06",
   "metadata": {
    "tags": []
   },
   "outputs": [],
   "source": [
    "import pathlib\n",
    "pathlib.Path(\"manifest\").mkdir(parents=True, exist_ok=True)"
   ]
  },
  {
   "cell_type": "code",
   "execution_count": 21,
   "id": "ad77e7c7-4f68-49bd-88b7-35cbdca31399",
   "metadata": {
    "tags": []
   },
   "outputs": [],
   "source": [
    "import pickle\n",
    "\n",
    "with open('manifest/gt_manifest.pkl', 'wb') as f:\n",
    "    pickle.dump(gt_list, f, protocol=pickle.HIGHEST_PROTOCOL)"
   ]
  },
  {
   "cell_type": "code",
   "execution_count": 22,
   "id": "f933981d-af06-44c2-bd0d-635692e563e2",
   "metadata": {
    "tags": []
   },
   "outputs": [
    {
     "name": "stdout",
     "output_type": "stream",
     "text": [
      "upload: manifest/gt_manifest.pkl to s3://sagemaker-us-west-2-322537213286/nemo-prod/gt-manifest/gt_manifest.pkl\n"
     ]
    }
   ],
   "source": [
    "!aws s3 sync ./manifest $gtmanifest_s3uri"
   ]
  },
  {
   "cell_type": "code",
   "execution_count": 23,
   "id": "968a6219-ef23-454d-ba19-0878077bdec3",
   "metadata": {
    "tags": []
   },
   "outputs": [
    {
     "name": "stderr",
     "output_type": "stream",
     "text": [
      "INFO:sagemaker.processing:Uploaded /root/nemo-on-sagemaker/2 building-pipelines/code to s3://sagemaker-us-west-2-322537213286/nemo-prod/evaluation/backup_codes/nemo-prod-nemo-experiments-0320-14451679323547/source/sourcedir.tar.gz\n",
      "INFO:sagemaker.processing:runproc.sh uploaded to s3://sagemaker-us-west-2-322537213286/nemo-prod/evaluation/backup_codes/nemo-prod-nemo-experiments-0320-14451679323547/source/runproc.sh\n",
      "INFO:sagemaker:Creating processing-job with name nemo-prod-nemo-experiments-0320-14451679323547\n"
     ]
    },
    {
     "name": "stdout",
     "output_type": "stream",
     "text": [
      "\n",
      "Job Name:  nemo-prod-nemo-experiments-0320-14451679323547\n",
      "Inputs:  [{'InputName': 'inference_data', 'AppManaged': False, 'S3Input': {'S3Uri': 's3://sagemaker-us-west-2-322537213286/nemo-prod/inference/monitor_output/nemo-prod-nemo-experiments-0320-07331679297605/AllTraffic/2023/03/20', 'LocalPath': '/opt/ml/processing/input/inference_data', 'S3DataType': 'S3Prefix', 'S3InputMode': 'File', 'S3DataDistributionType': 'FullyReplicated', 'S3CompressionType': 'None'}}, {'InputName': 'gt_manifest', 'AppManaged': False, 'S3Input': {'S3Uri': 's3://sagemaker-us-west-2-322537213286/nemo-prod/gt-manifest', 'LocalPath': '/opt/ml/processing/input/manifest', 'S3DataType': 'S3Prefix', 'S3InputMode': 'File', 'S3DataDistributionType': 'FullyReplicated', 'S3CompressionType': 'None'}}, {'InputName': 'code', 'AppManaged': False, 'S3Input': {'S3Uri': 's3://sagemaker-us-west-2-322537213286/nemo-prod/evaluation/backup_codes/nemo-prod-nemo-experiments-0320-14451679323547/source/sourcedir.tar.gz', 'LocalPath': '/opt/ml/processing/input/code/', 'S3DataType': 'S3Prefix', 'S3InputMode': 'File', 'S3DataDistributionType': 'FullyReplicated', 'S3CompressionType': 'None'}}, {'InputName': 'entrypoint', 'AppManaged': False, 'S3Input': {'S3Uri': 's3://sagemaker-us-west-2-322537213286/nemo-prod/evaluation/backup_codes/nemo-prod-nemo-experiments-0320-14451679323547/source/runproc.sh', 'LocalPath': '/opt/ml/processing/input/entrypoint', 'S3DataType': 'S3Prefix', 'S3InputMode': 'File', 'S3DataDistributionType': 'FullyReplicated', 'S3CompressionType': 'None'}}]\n",
      "Outputs:  [{'OutputName': 'output-1', 'AppManaged': False, 'S3Output': {'S3Uri': 's3://sagemaker-us-west-2-322537213286/nemo-prod/pred-output/manifest', 'LocalPath': '/opt/ml/processing/output/2023/03/20/manifest', 'S3UploadMode': 'EndOfJob'}}, {'OutputName': 'output-2', 'AppManaged': False, 'S3Output': {'S3Uri': 's3://sagemaker-us-west-2-322537213286/nemo-prod/pred-output/wav', 'LocalPath': '/opt/ml/processing/output/2023/03/20/wav', 'S3UploadMode': 'EndOfJob'}}]\n",
      ".....................................\u001b[34m[NeMo W 2023-03-20 14:51:43 optimizers:66] Could not import distributed_fused_adam optimizer from Apex\u001b[0m\n",
      "\u001b[34m[NeMo W 2023-03-20 14:51:44 experimental:27] Module <class 'nemo.collections.asr.modules.audio_modules.SpectrogramToMultichannelFeatures'> is experimental, not ready for production and is not fully supported. Use at your own risk.\u001b[0m\n",
      "\u001b[34moutput_list: ['/opt/ml/processing/input/inference_data/07/39-16-372-58ff5b12-fe5a-43d3-82d4-6e33cb3100e4.jsonl']\u001b[0m\n",
      "\u001b[34m/opt/ml/processing/input/inference_data/07/39-16-372-58ff5b12-fe5a-43d3-82d4-6e33cb3100e4.jsonl\n",
      " tolerance : 0.5\n",
      " tolerance : <class 'float'>\n",
      " metric_value : 1.0\n",
      " metric_value : <class 'float'>\u001b[0m\n",
      "\u001b[34m╭───────────────────── Traceback (most recent call last) ──────────────────────╮\u001b[0m\n",
      "\u001b[34m│ /opt/ml/processing/input/code/evaluate.py:310 in <module>                    │\u001b[0m\n",
      "\u001b[34m│                                                                              │\u001b[0m\n",
      "\u001b[34m│   307                                                                        │\u001b[0m\n",
      "\u001b[34m│   308                                                                        │\u001b[0m\n",
      "\u001b[34m│   309 if __name__ == '__main__':                                             │\u001b[0m\n",
      "\u001b[34m│ ❱ 310 │   main()                                                             │\u001b[0m\n",
      "\u001b[34m│                                                                              │\u001b[0m\n",
      "\u001b[34m│ /opt/ml/processing/input/code/evaluate.py:275 in main                        │\u001b[0m\n",
      "\u001b[34m│                                                                              │\u001b[0m\n",
      "\u001b[34m│   272 │   │                                                                  │\u001b[0m\n",
      "\u001b[34m│   273 │   │   if tolerance is not None:                                      │\u001b[0m\n",
      "\u001b[34m│   274 │   │   │   if metric_value > tolerance:                               │\u001b[0m\n",
      "\u001b[34m│ ❱ 275 │   │   │   │   raise ValueError(f\"Got {metric_name} of {metric_value} │\u001b[0m\n",
      "\u001b[34m│   276 │   │   │                                                              │\u001b[0m\n",
      "\u001b[34m│   277 │   │   │   logging.info(f'Got {metric_name} of {metric_value}. Tolera │\u001b[0m\n",
      "\u001b[34m│   278 │   │   else:                                                          │\u001b[0m\n",
      "\u001b[34m╰──────────────────────────────────────────────────────────────────────────────╯\u001b[0m\n",
      "\u001b[34mValueError: Got WER of 1.0, which was higher than tolerance=0.5\u001b[0m\n",
      "\n"
     ]
    },
    {
     "ename": "UnexpectedStatusException",
     "evalue": "Error for Processing job nemo-prod-nemo-experiments-0320-14451679323547: Failed. Reason: AlgorithmError: See job logs for more information",
     "output_type": "error",
     "traceback": [
      "\u001b[0;31m---------------------------------------------------------------------------\u001b[0m",
      "\u001b[0;31mUnexpectedStatusException\u001b[0m                 Traceback (most recent call last)",
      "\u001b[0;32m<ipython-input-23-2a626d55a53a>\u001b[0m in \u001b[0;36m<module>\u001b[0;34m\u001b[0m\n\u001b[1;32m     32\u001b[0m       \u001b[0;34m'TrialComponentDisplayName'\u001b[0m\u001b[0;34m:\u001b[0m \u001b[0mjob_name\u001b[0m\u001b[0;34m,\u001b[0m\u001b[0;34m\u001b[0m\u001b[0;34m\u001b[0m\u001b[0m\n\u001b[1;32m     33\u001b[0m     },\n\u001b[0;32m---> 34\u001b[0;31m     \u001b[0mwait\u001b[0m\u001b[0;34m=\u001b[0m\u001b[0;32mTrue\u001b[0m\u001b[0;34m\u001b[0m\u001b[0;34m\u001b[0m\u001b[0m\n\u001b[0m\u001b[1;32m     35\u001b[0m )\n",
      "\u001b[0;32m/opt/conda/lib/python3.7/site-packages/sagemaker/workflow/pipeline_context.py\u001b[0m in \u001b[0;36mwrapper\u001b[0;34m(*args, **kwargs)\u001b[0m\n\u001b[1;32m    270\u001b[0m             \u001b[0;32mreturn\u001b[0m \u001b[0m_StepArguments\u001b[0m\u001b[0;34m(\u001b[0m\u001b[0mretrieve_caller_name\u001b[0m\u001b[0;34m(\u001b[0m\u001b[0mself_instance\u001b[0m\u001b[0;34m)\u001b[0m\u001b[0;34m,\u001b[0m \u001b[0mrun_func\u001b[0m\u001b[0;34m,\u001b[0m \u001b[0;34m*\u001b[0m\u001b[0margs\u001b[0m\u001b[0;34m,\u001b[0m \u001b[0;34m**\u001b[0m\u001b[0mkwargs\u001b[0m\u001b[0;34m)\u001b[0m\u001b[0;34m\u001b[0m\u001b[0;34m\u001b[0m\u001b[0m\n\u001b[1;32m    271\u001b[0m \u001b[0;34m\u001b[0m\u001b[0m\n\u001b[0;32m--> 272\u001b[0;31m         \u001b[0;32mreturn\u001b[0m \u001b[0mrun_func\u001b[0m\u001b[0;34m(\u001b[0m\u001b[0;34m*\u001b[0m\u001b[0margs\u001b[0m\u001b[0;34m,\u001b[0m \u001b[0;34m**\u001b[0m\u001b[0mkwargs\u001b[0m\u001b[0;34m)\u001b[0m\u001b[0;34m\u001b[0m\u001b[0;34m\u001b[0m\u001b[0m\n\u001b[0m\u001b[1;32m    273\u001b[0m \u001b[0;34m\u001b[0m\u001b[0m\n\u001b[1;32m    274\u001b[0m     \u001b[0;32mreturn\u001b[0m \u001b[0mwrapper\u001b[0m\u001b[0;34m\u001b[0m\u001b[0;34m\u001b[0m\u001b[0m\n",
      "\u001b[0;32m/opt/conda/lib/python3.7/site-packages/sagemaker/processing.py\u001b[0m in \u001b[0;36mrun\u001b[0;34m(self, code, source_dir, dependencies, git_config, inputs, outputs, arguments, wait, logs, job_name, experiment_config, kms_key)\u001b[0m\n\u001b[1;32m   1699\u001b[0m             \u001b[0mjob_name\u001b[0m\u001b[0;34m=\u001b[0m\u001b[0mjob_name\u001b[0m\u001b[0;34m,\u001b[0m\u001b[0;34m\u001b[0m\u001b[0;34m\u001b[0m\u001b[0m\n\u001b[1;32m   1700\u001b[0m             \u001b[0mexperiment_config\u001b[0m\u001b[0;34m=\u001b[0m\u001b[0mexperiment_config\u001b[0m\u001b[0;34m,\u001b[0m\u001b[0;34m\u001b[0m\u001b[0;34m\u001b[0m\u001b[0m\n\u001b[0;32m-> 1701\u001b[0;31m             \u001b[0mkms_key\u001b[0m\u001b[0;34m=\u001b[0m\u001b[0mkms_key\u001b[0m\u001b[0;34m,\u001b[0m\u001b[0;34m\u001b[0m\u001b[0;34m\u001b[0m\u001b[0m\n\u001b[0m\u001b[1;32m   1702\u001b[0m         )\n\u001b[1;32m   1703\u001b[0m \u001b[0;34m\u001b[0m\u001b[0m\n",
      "\u001b[0;32m/opt/conda/lib/python3.7/site-packages/sagemaker/workflow/pipeline_context.py\u001b[0m in \u001b[0;36mwrapper\u001b[0;34m(*args, **kwargs)\u001b[0m\n\u001b[1;32m    270\u001b[0m             \u001b[0;32mreturn\u001b[0m \u001b[0m_StepArguments\u001b[0m\u001b[0;34m(\u001b[0m\u001b[0mretrieve_caller_name\u001b[0m\u001b[0;34m(\u001b[0m\u001b[0mself_instance\u001b[0m\u001b[0;34m)\u001b[0m\u001b[0;34m,\u001b[0m \u001b[0mrun_func\u001b[0m\u001b[0;34m,\u001b[0m \u001b[0;34m*\u001b[0m\u001b[0margs\u001b[0m\u001b[0;34m,\u001b[0m \u001b[0;34m**\u001b[0m\u001b[0mkwargs\u001b[0m\u001b[0;34m)\u001b[0m\u001b[0;34m\u001b[0m\u001b[0;34m\u001b[0m\u001b[0m\n\u001b[1;32m    271\u001b[0m \u001b[0;34m\u001b[0m\u001b[0m\n\u001b[0;32m--> 272\u001b[0;31m         \u001b[0;32mreturn\u001b[0m \u001b[0mrun_func\u001b[0m\u001b[0;34m(\u001b[0m\u001b[0;34m*\u001b[0m\u001b[0margs\u001b[0m\u001b[0;34m,\u001b[0m \u001b[0;34m**\u001b[0m\u001b[0mkwargs\u001b[0m\u001b[0;34m)\u001b[0m\u001b[0;34m\u001b[0m\u001b[0;34m\u001b[0m\u001b[0m\n\u001b[0m\u001b[1;32m    273\u001b[0m \u001b[0;34m\u001b[0m\u001b[0m\n\u001b[1;32m    274\u001b[0m     \u001b[0;32mreturn\u001b[0m \u001b[0mwrapper\u001b[0m\u001b[0;34m\u001b[0m\u001b[0;34m\u001b[0m\u001b[0m\n",
      "\u001b[0;32m/opt/conda/lib/python3.7/site-packages/sagemaker/processing.py\u001b[0m in \u001b[0;36mrun\u001b[0;34m(self, code, inputs, outputs, arguments, wait, logs, job_name, experiment_config, kms_key)\u001b[0m\n\u001b[1;32m    614\u001b[0m         \u001b[0mself\u001b[0m\u001b[0;34m.\u001b[0m\u001b[0mjobs\u001b[0m\u001b[0;34m.\u001b[0m\u001b[0mappend\u001b[0m\u001b[0;34m(\u001b[0m\u001b[0mself\u001b[0m\u001b[0;34m.\u001b[0m\u001b[0mlatest_job\u001b[0m\u001b[0;34m)\u001b[0m\u001b[0;34m\u001b[0m\u001b[0;34m\u001b[0m\u001b[0m\n\u001b[1;32m    615\u001b[0m         \u001b[0;32mif\u001b[0m \u001b[0mwait\u001b[0m\u001b[0;34m:\u001b[0m\u001b[0;34m\u001b[0m\u001b[0;34m\u001b[0m\u001b[0m\n\u001b[0;32m--> 616\u001b[0;31m             \u001b[0mself\u001b[0m\u001b[0;34m.\u001b[0m\u001b[0mlatest_job\u001b[0m\u001b[0;34m.\u001b[0m\u001b[0mwait\u001b[0m\u001b[0;34m(\u001b[0m\u001b[0mlogs\u001b[0m\u001b[0;34m=\u001b[0m\u001b[0mlogs\u001b[0m\u001b[0;34m)\u001b[0m\u001b[0;34m\u001b[0m\u001b[0;34m\u001b[0m\u001b[0m\n\u001b[0m\u001b[1;32m    617\u001b[0m \u001b[0;34m\u001b[0m\u001b[0m\n\u001b[1;32m    618\u001b[0m     \u001b[0;32mdef\u001b[0m \u001b[0m_include_code_in_inputs\u001b[0m\u001b[0;34m(\u001b[0m\u001b[0mself\u001b[0m\u001b[0;34m,\u001b[0m \u001b[0minputs\u001b[0m\u001b[0;34m,\u001b[0m \u001b[0mcode\u001b[0m\u001b[0;34m,\u001b[0m \u001b[0mkms_key\u001b[0m\u001b[0;34m=\u001b[0m\u001b[0;32mNone\u001b[0m\u001b[0;34m)\u001b[0m\u001b[0;34m:\u001b[0m\u001b[0;34m\u001b[0m\u001b[0;34m\u001b[0m\u001b[0m\n",
      "\u001b[0;32m/opt/conda/lib/python3.7/site-packages/sagemaker/processing.py\u001b[0m in \u001b[0;36mwait\u001b[0;34m(self, logs)\u001b[0m\n\u001b[1;32m   1034\u001b[0m         \"\"\"\n\u001b[1;32m   1035\u001b[0m         \u001b[0;32mif\u001b[0m \u001b[0mlogs\u001b[0m\u001b[0;34m:\u001b[0m\u001b[0;34m\u001b[0m\u001b[0;34m\u001b[0m\u001b[0m\n\u001b[0;32m-> 1036\u001b[0;31m             \u001b[0mself\u001b[0m\u001b[0;34m.\u001b[0m\u001b[0msagemaker_session\u001b[0m\u001b[0;34m.\u001b[0m\u001b[0mlogs_for_processing_job\u001b[0m\u001b[0;34m(\u001b[0m\u001b[0mself\u001b[0m\u001b[0;34m.\u001b[0m\u001b[0mjob_name\u001b[0m\u001b[0;34m,\u001b[0m \u001b[0mwait\u001b[0m\u001b[0;34m=\u001b[0m\u001b[0;32mTrue\u001b[0m\u001b[0;34m)\u001b[0m\u001b[0;34m\u001b[0m\u001b[0;34m\u001b[0m\u001b[0m\n\u001b[0m\u001b[1;32m   1037\u001b[0m         \u001b[0;32melse\u001b[0m\u001b[0;34m:\u001b[0m\u001b[0;34m\u001b[0m\u001b[0;34m\u001b[0m\u001b[0m\n\u001b[1;32m   1038\u001b[0m             \u001b[0mself\u001b[0m\u001b[0;34m.\u001b[0m\u001b[0msagemaker_session\u001b[0m\u001b[0;34m.\u001b[0m\u001b[0mwait_for_processing_job\u001b[0m\u001b[0;34m(\u001b[0m\u001b[0mself\u001b[0m\u001b[0;34m.\u001b[0m\u001b[0mjob_name\u001b[0m\u001b[0;34m)\u001b[0m\u001b[0;34m\u001b[0m\u001b[0;34m\u001b[0m\u001b[0m\n",
      "\u001b[0;32m/opt/conda/lib/python3.7/site-packages/sagemaker/session.py\u001b[0m in \u001b[0;36mlogs_for_processing_job\u001b[0;34m(self, job_name, wait, poll)\u001b[0m\n\u001b[1;32m   4159\u001b[0m \u001b[0;34m\u001b[0m\u001b[0m\n\u001b[1;32m   4160\u001b[0m         \u001b[0;32mif\u001b[0m \u001b[0mwait\u001b[0m\u001b[0;34m:\u001b[0m\u001b[0;34m\u001b[0m\u001b[0;34m\u001b[0m\u001b[0m\n\u001b[0;32m-> 4161\u001b[0;31m             \u001b[0mself\u001b[0m\u001b[0;34m.\u001b[0m\u001b[0m_check_job_status\u001b[0m\u001b[0;34m(\u001b[0m\u001b[0mjob_name\u001b[0m\u001b[0;34m,\u001b[0m \u001b[0mdescription\u001b[0m\u001b[0;34m,\u001b[0m \u001b[0;34m\"ProcessingJobStatus\"\u001b[0m\u001b[0;34m)\u001b[0m\u001b[0;34m\u001b[0m\u001b[0;34m\u001b[0m\u001b[0m\n\u001b[0m\u001b[1;32m   4162\u001b[0m             \u001b[0;32mif\u001b[0m \u001b[0mdot\u001b[0m\u001b[0;34m:\u001b[0m\u001b[0;34m\u001b[0m\u001b[0;34m\u001b[0m\u001b[0m\n\u001b[1;32m   4163\u001b[0m                 \u001b[0mprint\u001b[0m\u001b[0;34m(\u001b[0m\u001b[0;34m)\u001b[0m\u001b[0;34m\u001b[0m\u001b[0;34m\u001b[0m\u001b[0m\n",
      "\u001b[0;32m/opt/conda/lib/python3.7/site-packages/sagemaker/session.py\u001b[0m in \u001b[0;36m_check_job_status\u001b[0;34m(self, job, desc, status_key_name)\u001b[0m\n\u001b[1;32m   3604\u001b[0m                 \u001b[0mmessage\u001b[0m\u001b[0;34m=\u001b[0m\u001b[0mmessage\u001b[0m\u001b[0;34m,\u001b[0m\u001b[0;34m\u001b[0m\u001b[0;34m\u001b[0m\u001b[0m\n\u001b[1;32m   3605\u001b[0m                 \u001b[0mallowed_statuses\u001b[0m\u001b[0;34m=\u001b[0m\u001b[0;34m[\u001b[0m\u001b[0;34m\"Completed\"\u001b[0m\u001b[0;34m,\u001b[0m \u001b[0;34m\"Stopped\"\u001b[0m\u001b[0;34m]\u001b[0m\u001b[0;34m,\u001b[0m\u001b[0;34m\u001b[0m\u001b[0;34m\u001b[0m\u001b[0m\n\u001b[0;32m-> 3606\u001b[0;31m                 \u001b[0mactual_status\u001b[0m\u001b[0;34m=\u001b[0m\u001b[0mstatus\u001b[0m\u001b[0;34m,\u001b[0m\u001b[0;34m\u001b[0m\u001b[0;34m\u001b[0m\u001b[0m\n\u001b[0m\u001b[1;32m   3607\u001b[0m             )\n\u001b[1;32m   3608\u001b[0m \u001b[0;34m\u001b[0m\u001b[0m\n",
      "\u001b[0;31mUnexpectedStatusException\u001b[0m: Error for Processing job nemo-prod-nemo-experiments-0320-14451679323547: Failed. Reason: AlgorithmError: See job logs for more information"
     ]
    }
   ],
   "source": [
    "experiment_name = pm.get_params(key=prefix + \"-EXPERI-NAME\")\n",
    "create_experiment(experiment_name)\n",
    "job_name = create_trial(experiment_name)\n",
    "\n",
    "pred_processor.run(\n",
    "    code=\"evaluate.py\",\n",
    "    source_dir=os.getcwd() + \"/code\",\n",
    "    inputs=[\n",
    "        ProcessingInput(\n",
    "            source=inference_output_s3uri, \n",
    "            input_name=\"inference_data\", \n",
    "            destination=\"/opt/ml/processing/input/inference_data\"\n",
    "        ),\n",
    "        ProcessingInput(\n",
    "            source=gtmanifest_s3uri, \n",
    "            input_name=\"gt_manifest\", \n",
    "            destination=\"/opt/ml/processing/input/manifest\"),\n",
    "    ],\n",
    "    outputs=[\n",
    "        ProcessingOutput(\n",
    "            source=f\"/opt/ml/processing/output/{select_date}/manifest\", \n",
    "            destination=output_s3uri + '/manifest'\n",
    "        ),\n",
    "        ProcessingOutput(\n",
    "            source=f\"/opt/ml/processing/output/{select_date}/wav\", \n",
    "            destination=output_s3uri + '/wav'\n",
    "        ),\n",
    "    ],\n",
    "    job_name=job_name,\n",
    "    experiment_config={\n",
    "      'TrialName': job_name,\n",
    "      'TrialComponentDisplayName': job_name,\n",
    "    },\n",
    "    wait=True\n",
    ")"
   ]
  },
  {
   "cell_type": "code",
   "execution_count": null,
   "id": "7dc3a5bc-4850-49ac-a51e-bb47b3c746b7",
   "metadata": {},
   "outputs": [],
   "source": []
  }
 ],
 "metadata": {
  "instance_type": "ml.t3.medium",
  "kernelspec": {
   "display_name": "Python 3 (Data Science)",
   "language": "python",
   "name": "python3__SAGEMAKER_INTERNAL__arn:aws:sagemaker:us-west-2:236514542706:image/datascience-1.0"
  },
  "language_info": {
   "codemirror_mode": {
    "name": "ipython",
    "version": 3
   },
   "file_extension": ".py",
   "mimetype": "text/x-python",
   "name": "python",
   "nbconvert_exporter": "python",
   "pygments_lexer": "ipython3",
   "version": "3.7.10"
  }
 },
 "nbformat": 4,
 "nbformat_minor": 5
}
