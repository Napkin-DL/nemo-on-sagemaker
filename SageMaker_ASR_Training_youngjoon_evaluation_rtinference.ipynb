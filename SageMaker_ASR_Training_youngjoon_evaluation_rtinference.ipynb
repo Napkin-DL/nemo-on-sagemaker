{
 "cells": [
  {
   "cell_type": "markdown",
   "id": "2e86a2b3",
   "metadata": {},
   "source": [
    "# NeMo ASR Training Using AWS SageMaker"
   ]
  },
  {
   "cell_type": "markdown",
   "id": "215e3d3c",
   "metadata": {},
   "source": [
    "In this tutorial we show how you can train a NeMo ASR Model using [Amazon SageMaker](https://docs.aws.amazon.com/sagemaker/latest/dg/whatis.html). This is meant to be a minimalistic example of how to use SageMaker with NeMo.\n",
    "\n",
    "AWS SageMaker is useful for practioners/researchers who are familiar with training locally or on a remote instance (via SSH). SageMaker also supports multi-GPU & Multi-node.\n",
    "\n",
    "Using AWS SageMaker we train a simple Conformer CTC model using the AN4 dataset on a remote instance with a GPU (p3.2xlarge). We use S3 to store the data and our checkpoints/logs.\n",
    "\n",
    "The overall steps are:\n",
    "\n",
    "1. Setup your AWS Credentials to access SageMaker\n",
    "2. Download the source code we'll be running\n",
    "3. Setup AN4 dataset, upload data to S3\n",
    "4. Configure the training job\n",
    "5. Run training job on SageMaker\n",
    "6. Download model, (Optional) Tensorboard Logs"
   ]
  },
  {
   "cell_type": "code",
   "execution_count": 2,
   "id": "67871b86-976f-4cde-af0f-6ad44f643cb3",
   "metadata": {
    "tags": []
   },
   "outputs": [],
   "source": [
    "install_needed = True  # should only be True once\n",
    "# install_needed = False"
   ]
  },
  {
   "cell_type": "code",
   "execution_count": 3,
   "id": "804b8a5c-4ff5-482e-b0d2-d6f456f2f96e",
   "metadata": {
    "tags": []
   },
   "outputs": [
    {
     "name": "stdout",
     "output_type": "stream",
     "text": [
      "Already revised\n"
     ]
    }
   ],
   "source": [
    "%%bash\n",
    "#!/bin/bash\n",
    "\n",
    "DAEMON_PATH=\"/etc/docker\"\n",
    "MEMORY_SIZE=10G\n",
    "\n",
    "FLAG=$(cat $DAEMON_PATH/daemon.json | jq 'has(\"data-root\")')\n",
    "# echo $FLAG\n",
    "\n",
    "if [ \"$FLAG\" == true ]; then\n",
    "    echo \"Already revised\"\n",
    "else\n",
    "    echo \"Add data-root and default-shm-size=$MEMORY_SIZE\"\n",
    "    sudo cp $DAEMON_PATH/daemon.json $DAEMON_PATH/daemon.json.bak\n",
    "    sudo cat $DAEMON_PATH/daemon.json.bak | jq '. += {\"data-root\":\"/home/ec2-user/SageMaker/.container/docker\",\"default-shm-size\":\"'$MEMORY_SIZE'\"}' | sudo tee $DAEMON_PATH/daemon.json > /dev/null\n",
    "    sudo service docker restart\n",
    "    echo \"Docker Restart\"\n",
    "fi"
   ]
  },
  {
   "cell_type": "code",
   "execution_count": 4,
   "id": "50e5c21c-b8d6-485e-ae1f-be715fdaa8d1",
   "metadata": {
    "collapsed": true,
    "jupyter": {
     "outputs_hidden": true
    },
    "tags": []
   },
   "outputs": [
    {
     "name": "stdout",
     "output_type": "stream",
     "text": [
      "installing deps and restarting kernel\n",
      "Looking in indexes: https://pypi.org/simple, https://pip.repos.neuron.amazonaws.com\n",
      "Requirement already satisfied: smdebug in /home/ec2-user/anaconda3/envs/pytorch_p39/lib/python3.9/site-packages (1.0.12)\n",
      "Requirement already satisfied: sagemaker-experiments in /home/ec2-user/anaconda3/envs/pytorch_p39/lib/python3.9/site-packages (0.1.43)\n",
      "Requirement already satisfied: numpy>=1.16.0 in /home/ec2-user/anaconda3/envs/pytorch_p39/lib/python3.9/site-packages (from smdebug) (1.23.5)\n",
      "Requirement already satisfied: protobuf>=3.6.0 in /home/ec2-user/anaconda3/envs/pytorch_p39/lib/python3.9/site-packages (from smdebug) (3.20.2)\n",
      "Requirement already satisfied: pyinstrument==3.4.2 in /home/ec2-user/anaconda3/envs/pytorch_p39/lib/python3.9/site-packages (from smdebug) (3.4.2)\n",
      "Requirement already satisfied: packaging in /home/ec2-user/anaconda3/envs/pytorch_p39/lib/python3.9/site-packages (from smdebug) (21.3)\n",
      "Requirement already satisfied: boto3>=1.10.32 in /home/ec2-user/anaconda3/envs/pytorch_p39/lib/python3.9/site-packages (from smdebug) (1.26.71)\n",
      "Requirement already satisfied: pyinstrument-cext>=0.2.2 in /home/ec2-user/anaconda3/envs/pytorch_p39/lib/python3.9/site-packages (from pyinstrument==3.4.2->smdebug) (0.2.4)\n",
      "Requirement already satisfied: jmespath<2.0.0,>=0.7.1 in /home/ec2-user/anaconda3/envs/pytorch_p39/lib/python3.9/site-packages (from boto3>=1.10.32->smdebug) (1.0.1)\n",
      "Requirement already satisfied: s3transfer<0.7.0,>=0.6.0 in /home/ec2-user/anaconda3/envs/pytorch_p39/lib/python3.9/site-packages (from boto3>=1.10.32->smdebug) (0.6.0)\n",
      "Requirement already satisfied: botocore<1.30.0,>=1.29.71 in /home/ec2-user/anaconda3/envs/pytorch_p39/lib/python3.9/site-packages (from boto3>=1.10.32->smdebug) (1.29.71)\n",
      "Requirement already satisfied: pyparsing!=3.0.5,>=2.0.2 in /home/ec2-user/anaconda3/envs/pytorch_p39/lib/python3.9/site-packages (from packaging->smdebug) (3.0.9)\n",
      "Requirement already satisfied: urllib3<1.27,>=1.25.4 in /home/ec2-user/anaconda3/envs/pytorch_p39/lib/python3.9/site-packages (from botocore<1.30.0,>=1.29.71->boto3>=1.10.32->smdebug) (1.26.14)\n",
      "Requirement already satisfied: python-dateutil<3.0.0,>=2.1 in /home/ec2-user/anaconda3/envs/pytorch_p39/lib/python3.9/site-packages (from botocore<1.30.0,>=1.29.71->boto3>=1.10.32->smdebug) (2.8.2)\n",
      "Requirement already satisfied: six>=1.5 in /home/ec2-user/anaconda3/envs/pytorch_p39/lib/python3.9/site-packages (from python-dateutil<3.0.0,>=2.1->botocore<1.30.0,>=1.29.71->boto3>=1.10.32->smdebug) (1.16.0)\n",
      "Looking in indexes: https://pypi.org/simple, https://pip.repos.neuron.amazonaws.com\n",
      "Requirement already satisfied: sagemaker in /home/ec2-user/anaconda3/envs/pytorch_p39/lib/python3.9/site-packages (2.136.0)\n",
      "Collecting sagemaker\n",
      "  Downloading sagemaker-2.137.0.tar.gz (683 kB)\n",
      "\u001b[2K     \u001b[90m━━━━━━━━━━━━━━━━━━━━━━━━━━━━━━━━━━━━━━\u001b[0m \u001b[32m683.5/683.5 kB\u001b[0m \u001b[31m14.2 MB/s\u001b[0m eta \u001b[36m0:00:00\u001b[0ma \u001b[36m0:00:01\u001b[0m\n",
      "\u001b[?25h  Preparing metadata (setup.py) ... \u001b[?25ldone\n",
      "\u001b[?25hRequirement already satisfied: attrs<23,>=20.3.0 in /home/ec2-user/anaconda3/envs/pytorch_p39/lib/python3.9/site-packages (from sagemaker) (22.2.0)\n",
      "Requirement already satisfied: boto3<2.0,>=1.26.28 in /home/ec2-user/anaconda3/envs/pytorch_p39/lib/python3.9/site-packages (from sagemaker) (1.26.71)\n",
      "Requirement already satisfied: google-pasta in /home/ec2-user/anaconda3/envs/pytorch_p39/lib/python3.9/site-packages (from sagemaker) (0.2.0)\n",
      "Requirement already satisfied: numpy<2.0,>=1.9.0 in /home/ec2-user/anaconda3/envs/pytorch_p39/lib/python3.9/site-packages (from sagemaker) (1.23.5)\n",
      "Requirement already satisfied: protobuf<4.0,>=3.1 in /home/ec2-user/anaconda3/envs/pytorch_p39/lib/python3.9/site-packages (from sagemaker) (3.20.2)\n",
      "Requirement already satisfied: protobuf3-to-dict<1.0,>=0.1.5 in /home/ec2-user/anaconda3/envs/pytorch_p39/lib/python3.9/site-packages (from sagemaker) (0.1.5)\n",
      "Requirement already satisfied: smdebug_rulesconfig==1.0.1 in /home/ec2-user/anaconda3/envs/pytorch_p39/lib/python3.9/site-packages (from sagemaker) (1.0.1)\n",
      "Requirement already satisfied: importlib-metadata<5.0,>=1.4.0 in /home/ec2-user/anaconda3/envs/pytorch_p39/lib/python3.9/site-packages (from sagemaker) (4.13.0)\n",
      "Requirement already satisfied: packaging>=20.0 in /home/ec2-user/anaconda3/envs/pytorch_p39/lib/python3.9/site-packages (from sagemaker) (21.3)\n",
      "Requirement already satisfied: pandas in /home/ec2-user/anaconda3/envs/pytorch_p39/lib/python3.9/site-packages (from sagemaker) (1.4.4)\n",
      "Requirement already satisfied: pathos in /home/ec2-user/anaconda3/envs/pytorch_p39/lib/python3.9/site-packages (from sagemaker) (0.3.0)\n",
      "Requirement already satisfied: schema in /home/ec2-user/anaconda3/envs/pytorch_p39/lib/python3.9/site-packages (from sagemaker) (0.7.5)\n",
      "Requirement already satisfied: botocore<1.30.0,>=1.29.71 in /home/ec2-user/anaconda3/envs/pytorch_p39/lib/python3.9/site-packages (from boto3<2.0,>=1.26.28->sagemaker) (1.29.71)\n",
      "Requirement already satisfied: jmespath<2.0.0,>=0.7.1 in /home/ec2-user/anaconda3/envs/pytorch_p39/lib/python3.9/site-packages (from boto3<2.0,>=1.26.28->sagemaker) (1.0.1)\n",
      "Requirement already satisfied: s3transfer<0.7.0,>=0.6.0 in /home/ec2-user/anaconda3/envs/pytorch_p39/lib/python3.9/site-packages (from boto3<2.0,>=1.26.28->sagemaker) (0.6.0)\n",
      "Requirement already satisfied: zipp>=0.5 in /home/ec2-user/anaconda3/envs/pytorch_p39/lib/python3.9/site-packages (from importlib-metadata<5.0,>=1.4.0->sagemaker) (3.11.0)\n",
      "Requirement already satisfied: pyparsing!=3.0.5,>=2.0.2 in /home/ec2-user/anaconda3/envs/pytorch_p39/lib/python3.9/site-packages (from packaging>=20.0->sagemaker) (3.0.9)\n",
      "Requirement already satisfied: six in /home/ec2-user/anaconda3/envs/pytorch_p39/lib/python3.9/site-packages (from protobuf3-to-dict<1.0,>=0.1.5->sagemaker) (1.16.0)\n",
      "Requirement already satisfied: python-dateutil>=2.8.1 in /home/ec2-user/anaconda3/envs/pytorch_p39/lib/python3.9/site-packages (from pandas->sagemaker) (2.8.2)\n",
      "Requirement already satisfied: pytz>=2020.1 in /home/ec2-user/anaconda3/envs/pytorch_p39/lib/python3.9/site-packages (from pandas->sagemaker) (2022.7)\n",
      "Requirement already satisfied: dill>=0.3.6 in /home/ec2-user/anaconda3/envs/pytorch_p39/lib/python3.9/site-packages (from pathos->sagemaker) (0.3.6)\n",
      "Requirement already satisfied: ppft>=1.7.6.6 in /home/ec2-user/anaconda3/envs/pytorch_p39/lib/python3.9/site-packages (from pathos->sagemaker) (1.7.6.6)\n",
      "Requirement already satisfied: multiprocess>=0.70.14 in /home/ec2-user/anaconda3/envs/pytorch_p39/lib/python3.9/site-packages (from pathos->sagemaker) (0.70.14)\n",
      "Requirement already satisfied: pox>=0.3.2 in /home/ec2-user/anaconda3/envs/pytorch_p39/lib/python3.9/site-packages (from pathos->sagemaker) (0.3.2)\n",
      "Requirement already satisfied: contextlib2>=0.5.5 in /home/ec2-user/anaconda3/envs/pytorch_p39/lib/python3.9/site-packages (from schema->sagemaker) (21.6.0)\n",
      "Requirement already satisfied: urllib3<1.27,>=1.25.4 in /home/ec2-user/anaconda3/envs/pytorch_p39/lib/python3.9/site-packages (from botocore<1.30.0,>=1.29.71->boto3<2.0,>=1.26.28->sagemaker) (1.26.14)\n",
      "Building wheels for collected packages: sagemaker\n",
      "  Building wheel for sagemaker (setup.py) ... \u001b[?25ldone\n",
      "\u001b[?25h  Created wheel for sagemaker: filename=sagemaker-2.137.0-py2.py3-none-any.whl size=923540 sha256=485dbfe84449e507e340443333f1f1ac27cfc842e83393db9cae6814508e243b\n",
      "  Stored in directory: /home/ec2-user/.cache/pip/wheels/96/3c/50/e8dd20a084a81d249985883775f53dda43dbebeaaf1463a0f0\n",
      "Successfully built sagemaker\n",
      "Installing collected packages: sagemaker\n",
      "  Attempting uninstall: sagemaker\n",
      "    Found existing installation: sagemaker 2.136.0\n",
      "    Uninstalling sagemaker-2.136.0:\n",
      "      Successfully uninstalled sagemaker-2.136.0\n",
      "Successfully installed sagemaker-2.137.0\n",
      "Looking in indexes: https://pypi.org/simple, https://pip.repos.neuron.amazonaws.com\n",
      "Requirement already satisfied: datasets in /home/ec2-user/anaconda3/envs/pytorch_p39/lib/python3.9/site-packages (2.10.1)\n",
      "Requirement already satisfied: transformers in /home/ec2-user/anaconda3/envs/pytorch_p39/lib/python3.9/site-packages (4.26.1)\n",
      "Requirement already satisfied: requests>=2.19.0 in /home/ec2-user/anaconda3/envs/pytorch_p39/lib/python3.9/site-packages (from datasets) (2.28.1)\n",
      "Requirement already satisfied: numpy>=1.17 in /home/ec2-user/anaconda3/envs/pytorch_p39/lib/python3.9/site-packages (from datasets) (1.23.5)\n",
      "Requirement already satisfied: pyarrow>=6.0.0 in /home/ec2-user/anaconda3/envs/pytorch_p39/lib/python3.9/site-packages (from datasets) (10.0.1)\n",
      "Requirement already satisfied: dill<0.3.7,>=0.3.0 in /home/ec2-user/anaconda3/envs/pytorch_p39/lib/python3.9/site-packages (from datasets) (0.3.6)\n",
      "Requirement already satisfied: responses<0.19 in /home/ec2-user/anaconda3/envs/pytorch_p39/lib/python3.9/site-packages (from datasets) (0.18.0)\n",
      "Requirement already satisfied: fsspec[http]>=2021.11.1 in /home/ec2-user/anaconda3/envs/pytorch_p39/lib/python3.9/site-packages (from datasets) (2022.11.0)\n",
      "Requirement already satisfied: xxhash in /home/ec2-user/anaconda3/envs/pytorch_p39/lib/python3.9/site-packages (from datasets) (3.2.0)\n",
      "Requirement already satisfied: pandas in /home/ec2-user/anaconda3/envs/pytorch_p39/lib/python3.9/site-packages (from datasets) (1.4.4)\n",
      "Requirement already satisfied: huggingface-hub<1.0.0,>=0.2.0 in /home/ec2-user/anaconda3/envs/pytorch_p39/lib/python3.9/site-packages (from datasets) (0.12.1)\n",
      "Requirement already satisfied: packaging in /home/ec2-user/anaconda3/envs/pytorch_p39/lib/python3.9/site-packages (from datasets) (21.3)\n",
      "Requirement already satisfied: multiprocess in /home/ec2-user/anaconda3/envs/pytorch_p39/lib/python3.9/site-packages (from datasets) (0.70.14)\n",
      "Requirement already satisfied: aiohttp in /home/ec2-user/anaconda3/envs/pytorch_p39/lib/python3.9/site-packages (from datasets) (3.8.3)\n",
      "Requirement already satisfied: tqdm>=4.62.1 in /home/ec2-user/anaconda3/envs/pytorch_p39/lib/python3.9/site-packages (from datasets) (4.63.2)\n",
      "Requirement already satisfied: pyyaml>=5.1 in /home/ec2-user/anaconda3/envs/pytorch_p39/lib/python3.9/site-packages (from datasets) (5.4.1)\n",
      "Requirement already satisfied: filelock in /home/ec2-user/anaconda3/envs/pytorch_p39/lib/python3.9/site-packages (from transformers) (3.6.0)\n",
      "Requirement already satisfied: tokenizers!=0.11.3,<0.14,>=0.11.1 in /home/ec2-user/anaconda3/envs/pytorch_p39/lib/python3.9/site-packages (from transformers) (0.13.2)\n",
      "Requirement already satisfied: regex!=2019.12.17 in /home/ec2-user/anaconda3/envs/pytorch_p39/lib/python3.9/site-packages (from transformers) (2022.10.31)\n",
      "Requirement already satisfied: charset-normalizer<3.0,>=2.0 in /home/ec2-user/anaconda3/envs/pytorch_p39/lib/python3.9/site-packages (from aiohttp->datasets) (2.1.1)\n",
      "Requirement already satisfied: yarl<2.0,>=1.0 in /home/ec2-user/anaconda3/envs/pytorch_p39/lib/python3.9/site-packages (from aiohttp->datasets) (1.8.2)\n",
      "Requirement already satisfied: frozenlist>=1.1.1 in /home/ec2-user/anaconda3/envs/pytorch_p39/lib/python3.9/site-packages (from aiohttp->datasets) (1.3.3)\n",
      "Requirement already satisfied: multidict<7.0,>=4.5 in /home/ec2-user/anaconda3/envs/pytorch_p39/lib/python3.9/site-packages (from aiohttp->datasets) (6.0.4)\n",
      "Requirement already satisfied: attrs>=17.3.0 in /home/ec2-user/anaconda3/envs/pytorch_p39/lib/python3.9/site-packages (from aiohttp->datasets) (22.2.0)\n",
      "Requirement already satisfied: aiosignal>=1.1.2 in /home/ec2-user/anaconda3/envs/pytorch_p39/lib/python3.9/site-packages (from aiohttp->datasets) (1.3.1)\n",
      "Requirement already satisfied: async-timeout<5.0,>=4.0.0a3 in /home/ec2-user/anaconda3/envs/pytorch_p39/lib/python3.9/site-packages (from aiohttp->datasets) (4.0.2)\n",
      "Requirement already satisfied: typing-extensions>=3.7.4.3 in /home/ec2-user/anaconda3/envs/pytorch_p39/lib/python3.9/site-packages (from huggingface-hub<1.0.0,>=0.2.0->datasets) (4.4.0)\n",
      "Requirement already satisfied: pyparsing!=3.0.5,>=2.0.2 in /home/ec2-user/anaconda3/envs/pytorch_p39/lib/python3.9/site-packages (from packaging->datasets) (3.0.9)\n",
      "Requirement already satisfied: certifi>=2017.4.17 in /home/ec2-user/anaconda3/envs/pytorch_p39/lib/python3.9/site-packages (from requests>=2.19.0->datasets) (2022.12.7)\n",
      "Requirement already satisfied: urllib3<1.27,>=1.21.1 in /home/ec2-user/anaconda3/envs/pytorch_p39/lib/python3.9/site-packages (from requests>=2.19.0->datasets) (1.26.14)\n",
      "Requirement already satisfied: idna<4,>=2.5 in /home/ec2-user/anaconda3/envs/pytorch_p39/lib/python3.9/site-packages (from requests>=2.19.0->datasets) (3.4)\n",
      "Requirement already satisfied: python-dateutil>=2.8.1 in /home/ec2-user/anaconda3/envs/pytorch_p39/lib/python3.9/site-packages (from pandas->datasets) (2.8.2)\n",
      "Requirement already satisfied: pytz>=2020.1 in /home/ec2-user/anaconda3/envs/pytorch_p39/lib/python3.9/site-packages (from pandas->datasets) (2022.7)\n",
      "Requirement already satisfied: six>=1.5 in /home/ec2-user/anaconda3/envs/pytorch_p39/lib/python3.9/site-packages (from python-dateutil>=2.8.1->pandas->datasets) (1.16.0)\n",
      "Looking in indexes: https://pypi.org/simple, https://pip.repos.neuron.amazonaws.com\n",
      "Requirement already satisfied: wget in /home/ec2-user/anaconda3/envs/pytorch_p39/lib/python3.9/site-packages (3.2)\n",
      "Requirement already satisfied: omegaconf in /home/ec2-user/anaconda3/envs/pytorch_p39/lib/python3.9/site-packages (2.2.3)\n",
      "Collecting omegaconf\n",
      "  Using cached omegaconf-2.3.0-py3-none-any.whl (79 kB)\n",
      "Requirement already satisfied: text-unidecode in /home/ec2-user/anaconda3/envs/pytorch_p39/lib/python3.9/site-packages (1.3)\n",
      "Requirement already satisfied: PyYAML>=5.1.0 in /home/ec2-user/anaconda3/envs/pytorch_p39/lib/python3.9/site-packages (from omegaconf) (5.4.1)\n",
      "Requirement already satisfied: antlr4-python3-runtime==4.9.* in /home/ec2-user/anaconda3/envs/pytorch_p39/lib/python3.9/site-packages (from omegaconf) (4.9.3)\n",
      "Installing collected packages: omegaconf\n",
      "  Attempting uninstall: omegaconf\n",
      "    Found existing installation: omegaconf 2.2.3\n",
      "    Uninstalling omegaconf-2.2.3:\n",
      "      Successfully uninstalled omegaconf-2.2.3\n",
      "Successfully installed omegaconf-2.3.0\n",
      "Looking in indexes: https://pypi.org/simple, https://pip.repos.neuron.amazonaws.com\n",
      "Collecting nemo_toolkit[all]\n",
      "  Cloning https://github.com/NVIDIA/NeMo.git (to revision main) to /tmp/pip-install-e4yofew7/nemo-toolkit_38ac3acd031a464484e1332139029e3c\n",
      "  Running command git clone --filter=blob:none --quiet https://github.com/NVIDIA/NeMo.git /tmp/pip-install-e4yofew7/nemo-toolkit_38ac3acd031a464484e1332139029e3c\n",
      "  Resolved https://github.com/NVIDIA/NeMo.git to commit fbe5392089677f97e189a5308fa9cb3ba6fb8a56\n",
      "  Installing build dependencies ... \u001b[?25ldone\n",
      "\u001b[?25h  Getting requirements to build wheel ... \u001b[?25ldone\n",
      "\u001b[?25h  Preparing metadata (pyproject.toml) ... \u001b[?25ldone\n",
      "\u001b[?25hRequirement already satisfied: python-dateutil in /home/ec2-user/anaconda3/envs/pytorch_p39/lib/python3.9/site-packages (from nemo_toolkit[all]) (2.8.2)\n",
      "Requirement already satisfied: tqdm>=4.41.0 in /home/ec2-user/anaconda3/envs/pytorch_p39/lib/python3.9/site-packages (from nemo_toolkit[all]) (4.63.2)\n",
      "Requirement already satisfied: wrapt in /home/ec2-user/anaconda3/envs/pytorch_p39/lib/python3.9/site-packages (from nemo_toolkit[all]) (1.14.1)\n",
      "Requirement already satisfied: numba in /home/ec2-user/anaconda3/envs/pytorch_p39/lib/python3.9/site-packages (from nemo_toolkit[all]) (0.56.4)\n",
      "Requirement already satisfied: onnx>=1.7.0 in /home/ec2-user/anaconda3/envs/pytorch_p39/lib/python3.9/site-packages (from nemo_toolkit[all]) (1.11.0)\n",
      "Collecting setuptools==65.5.1\n",
      "  Downloading setuptools-65.5.1-py3-none-any.whl (1.2 MB)\n",
      "\u001b[2K     \u001b[90m━━━━━━━━━━━━━━━━━━━━━━━━━━━━━━━━━━━━━━━━\u001b[0m \u001b[32m1.2/1.2 MB\u001b[0m \u001b[31m24.3 MB/s\u001b[0m eta \u001b[36m0:00:00\u001b[0ma \u001b[36m0:00:01\u001b[0m\n",
      "\u001b[?25hRequirement already satisfied: text-unidecode in /home/ec2-user/anaconda3/envs/pytorch_p39/lib/python3.9/site-packages (from nemo_toolkit[all]) (1.3)\n",
      "Requirement already satisfied: wget in /home/ec2-user/anaconda3/envs/pytorch_p39/lib/python3.9/site-packages (from nemo_toolkit[all]) (3.2)\n",
      "Requirement already satisfied: tensorboard in /home/ec2-user/anaconda3/envs/pytorch_p39/lib/python3.9/site-packages (from nemo_toolkit[all]) (2.12.0)\n",
      "Requirement already satisfied: ruamel.yaml in /home/ec2-user/anaconda3/envs/pytorch_p39/lib/python3.9/site-packages (from nemo_toolkit[all]) (0.17.21)\n",
      "Requirement already satisfied: numpy>=1.22 in /home/ec2-user/anaconda3/envs/pytorch_p39/lib/python3.9/site-packages (from nemo_toolkit[all]) (1.23.5)\n",
      "Requirement already satisfied: huggingface-hub in /home/ec2-user/anaconda3/envs/pytorch_p39/lib/python3.9/site-packages (from nemo_toolkit[all]) (0.12.1)\n",
      "Requirement already satisfied: scikit-learn in /home/ec2-user/anaconda3/envs/pytorch_p39/lib/python3.9/site-packages (from nemo_toolkit[all]) (1.0)\n",
      "Requirement already satisfied: torch in /home/ec2-user/anaconda3/envs/pytorch_p39/lib/python3.9/site-packages (from nemo_toolkit[all]) (1.13.1)\n",
      "Requirement already satisfied: texterrors in /home/ec2-user/anaconda3/envs/pytorch_p39/lib/python3.9/site-packages (from nemo_toolkit[all]) (0.4.4)\n",
      "Requirement already satisfied: sacremoses>=0.0.43 in /home/ec2-user/anaconda3/envs/pytorch_p39/lib/python3.9/site-packages (from nemo_toolkit[all]) (0.0.53)\n",
      "Requirement already satisfied: gdown in /home/ec2-user/anaconda3/envs/pytorch_p39/lib/python3.9/site-packages (from nemo_toolkit[all]) (4.6.4)\n",
      "Requirement already satisfied: flask-restful in /home/ec2-user/anaconda3/envs/pytorch_p39/lib/python3.9/site-packages (from nemo_toolkit[all]) (0.3.9)\n",
      "Requirement already satisfied: ftfy in /home/ec2-user/anaconda3/envs/pytorch_p39/lib/python3.9/site-packages (from nemo_toolkit[all]) (6.1.1)\n",
      "Requirement already satisfied: black==19.10b0 in /home/ec2-user/anaconda3/envs/pytorch_p39/lib/python3.9/site-packages (from nemo_toolkit[all]) (19.10b0)\n",
      "Requirement already satisfied: torchmetrics>=0.11.0 in /home/ec2-user/anaconda3/envs/pytorch_p39/lib/python3.9/site-packages (from nemo_toolkit[all]) (0.11.3)\n",
      "Requirement already satisfied: pytorch-lightning>=1.9.0 in /home/ec2-user/anaconda3/envs/pytorch_p39/lib/python3.9/site-packages (from nemo_toolkit[all]) (1.9.4)\n",
      "Requirement already satisfied: jiwer>=2.0.0 in /home/ec2-user/anaconda3/envs/pytorch_p39/lib/python3.9/site-packages (from nemo_toolkit[all]) (2.5.1)\n",
      "Requirement already satisfied: pytest-runner in /home/ec2-user/anaconda3/envs/pytorch_p39/lib/python3.9/site-packages (from nemo_toolkit[all]) (6.0.0)\n",
      "Requirement already satisfied: pangu in /home/ec2-user/anaconda3/envs/pytorch_p39/lib/python3.9/site-packages (from nemo_toolkit[all]) (4.0.6.1)\n",
      "Requirement already satisfied: sentence-transformers in /home/ec2-user/anaconda3/envs/pytorch_p39/lib/python3.9/site-packages (from nemo_toolkit[all]) (2.2.2)\n",
      "Requirement already satisfied: ipywidgets in /home/ec2-user/anaconda3/envs/pytorch_p39/lib/python3.9/site-packages (from nemo_toolkit[all]) (8.0.4)\n",
      "Requirement already satisfied: hydra-core<1.3,>=1.2.0 in /home/ec2-user/anaconda3/envs/pytorch_p39/lib/python3.9/site-packages (from nemo_toolkit[all]) (1.2.0)\n",
      "Requirement already satisfied: youtokentome>=1.0.5 in /home/ec2-user/anaconda3/envs/pytorch_p39/lib/python3.9/site-packages (from nemo_toolkit[all]) (1.0.6)\n",
      "Requirement already satisfied: pandas in /home/ec2-user/anaconda3/envs/pytorch_p39/lib/python3.9/site-packages (from nemo_toolkit[all]) (1.4.4)\n",
      "Requirement already satisfied: fasttext in /home/ec2-user/anaconda3/envs/pytorch_p39/lib/python3.9/site-packages (from nemo_toolkit[all]) (0.9.2)\n",
      "Requirement already satisfied: editdistance in /home/ec2-user/anaconda3/envs/pytorch_p39/lib/python3.9/site-packages (from nemo_toolkit[all]) (0.6.2)\n",
      "Requirement already satisfied: progress>=1.5 in /home/ec2-user/anaconda3/envs/pytorch_p39/lib/python3.9/site-packages (from nemo_toolkit[all]) (1.6)\n",
      "Requirement already satisfied: pypinyin-dict in /home/ec2-user/anaconda3/envs/pytorch_p39/lib/python3.9/site-packages (from nemo_toolkit[all]) (0.5.0)\n",
      "Requirement already satisfied: sentencepiece<1.0.0 in /home/ec2-user/anaconda3/envs/pytorch_p39/lib/python3.9/site-packages (from nemo_toolkit[all]) (0.1.97)\n",
      "Requirement already satisfied: sox in /home/ec2-user/anaconda3/envs/pytorch_p39/lib/python3.9/site-packages (from nemo_toolkit[all]) (1.4.1)\n",
      "Requirement already satisfied: kornia in /home/ec2-user/anaconda3/envs/pytorch_p39/lib/python3.9/site-packages (from nemo_toolkit[all]) (0.6.10)\n",
      "Requirement already satisfied: kaldiio in /home/ec2-user/anaconda3/envs/pytorch_p39/lib/python3.9/site-packages (from nemo_toolkit[all]) (2.17.2)\n",
      "Requirement already satisfied: librosa in /home/ec2-user/anaconda3/envs/pytorch_p39/lib/python3.9/site-packages (from nemo_toolkit[all]) (0.10.0)\n",
      "Requirement already satisfied: pyannote.metrics in /home/ec2-user/anaconda3/envs/pytorch_p39/lib/python3.9/site-packages (from nemo_toolkit[all]) (3.2.1)\n",
      "Requirement already satisfied: transformers>=4.0.1 in /home/ec2-user/anaconda3/envs/pytorch_p39/lib/python3.9/site-packages (from nemo_toolkit[all]) (4.26.1)\n",
      "Requirement already satisfied: matplotlib>=3.3.2 in /home/ec2-user/anaconda3/envs/pytorch_p39/lib/python3.9/site-packages (from nemo_toolkit[all]) (3.5.3)\n",
      "Requirement already satisfied: attrdict in /home/ec2-user/anaconda3/envs/pytorch_p39/lib/python3.9/site-packages (from nemo_toolkit[all]) (2.0.1)\n",
      "Requirement already satisfied: boto3 in /home/ec2-user/anaconda3/envs/pytorch_p39/lib/python3.9/site-packages (from nemo_toolkit[all]) (1.26.71)\n",
      "Requirement already satisfied: nltk>=3.6.5 in /home/ec2-user/anaconda3/envs/pytorch_p39/lib/python3.9/site-packages (from nemo_toolkit[all]) (3.8.1)\n",
      "Requirement already satisfied: sphinx in /home/ec2-user/anaconda3/envs/pytorch_p39/lib/python3.9/site-packages (from nemo_toolkit[all]) (5.1.1)\n",
      "Requirement already satisfied: marshmallow in /home/ec2-user/anaconda3/envs/pytorch_p39/lib/python3.9/site-packages (from nemo_toolkit[all]) (3.19.0)\n",
      "Requirement already satisfied: isort<6.0.0,>5.1.0 in /home/ec2-user/anaconda3/envs/pytorch_p39/lib/python3.9/site-packages (from nemo_toolkit[all]) (5.11.4)\n",
      "Requirement already satisfied: rapidfuzz in /home/ec2-user/anaconda3/envs/pytorch_p39/lib/python3.9/site-packages (from nemo_toolkit[all]) (2.13.7)\n",
      "Requirement already satisfied: soundfile in /home/ec2-user/anaconda3/envs/pytorch_p39/lib/python3.9/site-packages (from nemo_toolkit[all]) (0.12.1)\n",
      "Requirement already satisfied: tabulate>=0.8.7 in /home/ec2-user/anaconda3/envs/pytorch_p39/lib/python3.9/site-packages (from nemo_toolkit[all]) (0.9.0)\n",
      "Requirement already satisfied: pyyaml<6 in /home/ec2-user/anaconda3/envs/pytorch_p39/lib/python3.9/site-packages (from nemo_toolkit[all]) (5.4.1)\n",
      "Requirement already satisfied: g2p-en in /home/ec2-user/anaconda3/envs/pytorch_p39/lib/python3.9/site-packages (from nemo_toolkit[all]) (2.1.0)\n",
      "Requirement already satisfied: packaging in /home/ec2-user/anaconda3/envs/pytorch_p39/lib/python3.9/site-packages (from nemo_toolkit[all]) (21.3)\n",
      "Requirement already satisfied: nemo-text-processing in /home/ec2-user/anaconda3/envs/pytorch_p39/lib/python3.9/site-packages (from nemo_toolkit[all]) (0.1.6rc0)\n",
      "Requirement already satisfied: scipy>=0.14 in /home/ec2-user/anaconda3/envs/pytorch_p39/lib/python3.9/site-packages (from nemo_toolkit[all]) (1.8.1)\n",
      "Requirement already satisfied: pyannote.core in /home/ec2-user/anaconda3/envs/pytorch_p39/lib/python3.9/site-packages (from nemo_toolkit[all]) (5.0.0)\n",
      "Requirement already satisfied: textdistance>=4.1.5 in /home/ec2-user/anaconda3/envs/pytorch_p39/lib/python3.9/site-packages (from nemo_toolkit[all]) (4.5.0)\n",
      "Requirement already satisfied: wandb in /home/ec2-user/anaconda3/envs/pytorch_p39/lib/python3.9/site-packages (from nemo_toolkit[all]) (0.13.11)\n",
      "Requirement already satisfied: click==8.0.2 in /home/ec2-user/anaconda3/envs/pytorch_p39/lib/python3.9/site-packages (from nemo_toolkit[all]) (8.0.2)\n",
      "Requirement already satisfied: einops in /home/ec2-user/anaconda3/envs/pytorch_p39/lib/python3.9/site-packages (from nemo_toolkit[all]) (0.6.0)\n",
      "Requirement already satisfied: h5py in /home/ec2-user/anaconda3/envs/pytorch_p39/lib/python3.9/site-packages (from nemo_toolkit[all]) (3.7.0)\n",
      "Requirement already satisfied: inflect in /home/ec2-user/anaconda3/envs/pytorch_p39/lib/python3.9/site-packages (from nemo_toolkit[all]) (6.0.2)\n",
      "Requirement already satisfied: ijson in /home/ec2-user/anaconda3/envs/pytorch_p39/lib/python3.9/site-packages (from nemo_toolkit[all]) (3.2.0.post0)\n",
      "Requirement already satisfied: sacrebleu[ja] in /home/ec2-user/anaconda3/envs/pytorch_p39/lib/python3.9/site-packages (from nemo_toolkit[all]) (2.3.1)\n",
      "Requirement already satisfied: opencc in /home/ec2-user/anaconda3/envs/pytorch_p39/lib/python3.9/site-packages (from nemo_toolkit[all]) (1.1.6)\n",
      "Requirement already satisfied: pytest in /home/ec2-user/anaconda3/envs/pytorch_p39/lib/python3.9/site-packages (from nemo_toolkit[all]) (7.2.0)\n",
      "Requirement already satisfied: faiss-cpu in /home/ec2-user/anaconda3/envs/pytorch_p39/lib/python3.9/site-packages (from nemo_toolkit[all]) (1.7.3)\n",
      "Requirement already satisfied: jieba in /home/ec2-user/anaconda3/envs/pytorch_p39/lib/python3.9/site-packages (from nemo_toolkit[all]) (0.42.1)\n",
      "Requirement already satisfied: webdataset<=0.1.62,>=0.1.48 in /home/ec2-user/anaconda3/envs/pytorch_p39/lib/python3.9/site-packages (from nemo_toolkit[all]) (0.1.62)\n",
      "Requirement already satisfied: braceexpand in /home/ec2-user/anaconda3/envs/pytorch_p39/lib/python3.9/site-packages (from nemo_toolkit[all]) (0.1.7)\n",
      "Requirement already satisfied: pypinyin in /home/ec2-user/anaconda3/envs/pytorch_p39/lib/python3.9/site-packages (from nemo_toolkit[all]) (0.48.0)\n",
      "Requirement already satisfied: pydub in /home/ec2-user/anaconda3/envs/pytorch_p39/lib/python3.9/site-packages (from nemo_toolkit[all]) (0.25.1)\n",
      "Requirement already satisfied: sphinxcontrib-bibtex in /home/ec2-user/anaconda3/envs/pytorch_p39/lib/python3.9/site-packages (from nemo_toolkit[all]) (2.5.0)\n",
      "Requirement already satisfied: gradio in /home/ec2-user/anaconda3/envs/pytorch_p39/lib/python3.9/site-packages (from nemo_toolkit[all]) (3.20.1)\n",
      "Requirement already satisfied: kaldi-python-io in /home/ec2-user/anaconda3/envs/pytorch_p39/lib/python3.9/site-packages (from nemo_toolkit[all]) (1.2.2)\n",
      "Collecting omegaconf<2.3,>=2.2\n",
      "  Using cached omegaconf-2.2.3-py3-none-any.whl (79 kB)\n",
      "Requirement already satisfied: parameterized in /home/ec2-user/anaconda3/envs/pytorch_p39/lib/python3.9/site-packages (from nemo_toolkit[all]) (0.8.1)\n",
      "Requirement already satisfied: regex in /home/ec2-user/anaconda3/envs/pytorch_p39/lib/python3.9/site-packages (from black==19.10b0->nemo_toolkit[all]) (2022.10.31)\n",
      "Requirement already satisfied: typed-ast>=1.4.0 in /home/ec2-user/anaconda3/envs/pytorch_p39/lib/python3.9/site-packages (from black==19.10b0->nemo_toolkit[all]) (1.5.4)\n",
      "Requirement already satisfied: toml>=0.9.4 in /home/ec2-user/anaconda3/envs/pytorch_p39/lib/python3.9/site-packages (from black==19.10b0->nemo_toolkit[all]) (0.10.2)\n",
      "Requirement already satisfied: appdirs in /home/ec2-user/anaconda3/envs/pytorch_p39/lib/python3.9/site-packages (from black==19.10b0->nemo_toolkit[all]) (1.4.4)\n",
      "Requirement already satisfied: pathspec<1,>=0.6 in /home/ec2-user/anaconda3/envs/pytorch_p39/lib/python3.9/site-packages (from black==19.10b0->nemo_toolkit[all]) (0.10.3)\n",
      "Requirement already satisfied: attrs>=18.1.0 in /home/ec2-user/anaconda3/envs/pytorch_p39/lib/python3.9/site-packages (from black==19.10b0->nemo_toolkit[all]) (22.2.0)\n",
      "Requirement already satisfied: antlr4-python3-runtime==4.9.* in /home/ec2-user/anaconda3/envs/pytorch_p39/lib/python3.9/site-packages (from hydra-core<1.3,>=1.2.0->nemo_toolkit[all]) (4.9.3)\n",
      "Requirement already satisfied: levenshtein==0.20.2 in /home/ec2-user/anaconda3/envs/pytorch_p39/lib/python3.9/site-packages (from jiwer>=2.0.0->nemo_toolkit[all]) (0.20.2)\n",
      "Requirement already satisfied: lazy-loader>=0.1 in /home/ec2-user/anaconda3/envs/pytorch_p39/lib/python3.9/site-packages (from librosa->nemo_toolkit[all]) (0.1)\n",
      "Requirement already satisfied: msgpack>=1.0 in /home/ec2-user/anaconda3/envs/pytorch_p39/lib/python3.9/site-packages (from librosa->nemo_toolkit[all]) (1.0.4)\n",
      "Requirement already satisfied: pooch>=1.0 in /home/ec2-user/anaconda3/envs/pytorch_p39/lib/python3.9/site-packages (from librosa->nemo_toolkit[all]) (1.6.0)\n",
      "Requirement already satisfied: joblib>=0.14 in /home/ec2-user/anaconda3/envs/pytorch_p39/lib/python3.9/site-packages (from librosa->nemo_toolkit[all]) (1.2.0)\n",
      "Requirement already satisfied: soxr>=0.3.2 in /home/ec2-user/anaconda3/envs/pytorch_p39/lib/python3.9/site-packages (from librosa->nemo_toolkit[all]) (0.3.4)\n",
      "Requirement already satisfied: typing-extensions>=4.1.1 in /home/ec2-user/anaconda3/envs/pytorch_p39/lib/python3.9/site-packages (from librosa->nemo_toolkit[all]) (4.4.0)\n",
      "Requirement already satisfied: decorator>=4.3.0 in /home/ec2-user/anaconda3/envs/pytorch_p39/lib/python3.9/site-packages (from librosa->nemo_toolkit[all]) (5.1.1)\n",
      "Requirement already satisfied: audioread>=2.1.9 in /home/ec2-user/anaconda3/envs/pytorch_p39/lib/python3.9/site-packages (from librosa->nemo_toolkit[all]) (3.0.0)\n",
      "Requirement already satisfied: fonttools>=4.22.0 in /home/ec2-user/anaconda3/envs/pytorch_p39/lib/python3.9/site-packages (from matplotlib>=3.3.2->nemo_toolkit[all]) (4.38.0)\n",
      "Requirement already satisfied: kiwisolver>=1.0.1 in /home/ec2-user/anaconda3/envs/pytorch_p39/lib/python3.9/site-packages (from matplotlib>=3.3.2->nemo_toolkit[all]) (1.4.4)\n",
      "Requirement already satisfied: pillow>=6.2.0 in /home/ec2-user/anaconda3/envs/pytorch_p39/lib/python3.9/site-packages (from matplotlib>=3.3.2->nemo_toolkit[all]) (9.2.0)\n",
      "Requirement already satisfied: pyparsing>=2.2.1 in /home/ec2-user/anaconda3/envs/pytorch_p39/lib/python3.9/site-packages (from matplotlib>=3.3.2->nemo_toolkit[all]) (3.0.9)\n",
      "Requirement already satisfied: cycler>=0.10 in /home/ec2-user/anaconda3/envs/pytorch_p39/lib/python3.9/site-packages (from matplotlib>=3.3.2->nemo_toolkit[all]) (0.11.0)\n",
      "Requirement already satisfied: llvmlite<0.40,>=0.39.0dev0 in /home/ec2-user/anaconda3/envs/pytorch_p39/lib/python3.9/site-packages (from numba->nemo_toolkit[all]) (0.39.1)\n",
      "Requirement already satisfied: protobuf>=3.12.2 in /home/ec2-user/anaconda3/envs/pytorch_p39/lib/python3.9/site-packages (from onnx>=1.7.0->nemo_toolkit[all]) (3.20.2)\n",
      "Requirement already satisfied: six>=1.5 in /home/ec2-user/anaconda3/envs/pytorch_p39/lib/python3.9/site-packages (from python-dateutil->nemo_toolkit[all]) (1.16.0)\n",
      "Requirement already satisfied: fsspec[http]>2021.06.0 in /home/ec2-user/anaconda3/envs/pytorch_p39/lib/python3.9/site-packages (from pytorch-lightning>=1.9.0->nemo_toolkit[all]) (2022.11.0)\n",
      "Requirement already satisfied: lightning-utilities>=0.6.0.post0 in /home/ec2-user/anaconda3/envs/pytorch_p39/lib/python3.9/site-packages (from pytorch-lightning>=1.9.0->nemo_toolkit[all]) (0.7.1)\n",
      "Requirement already satisfied: threadpoolctl>=2.0.0 in /home/ec2-user/anaconda3/envs/pytorch_p39/lib/python3.9/site-packages (from scikit-learn->nemo_toolkit[all]) (3.1.0)\n",
      "Requirement already satisfied: cffi>=1.0 in /home/ec2-user/anaconda3/envs/pytorch_p39/lib/python3.9/site-packages (from soundfile->nemo_toolkit[all]) (1.15.1)\n",
      "Requirement already satisfied: filelock in /home/ec2-user/anaconda3/envs/pytorch_p39/lib/python3.9/site-packages (from transformers>=4.0.1->nemo_toolkit[all]) (3.6.0)\n",
      "Requirement already satisfied: requests in /home/ec2-user/anaconda3/envs/pytorch_p39/lib/python3.9/site-packages (from transformers>=4.0.1->nemo_toolkit[all]) (2.28.1)\n",
      "Requirement already satisfied: tokenizers!=0.11.3,<0.14,>=0.11.1 in /home/ec2-user/anaconda3/envs/pytorch_p39/lib/python3.9/site-packages (from transformers>=4.0.1->nemo_toolkit[all]) (0.13.2)\n",
      "Requirement already satisfied: botocore<1.30.0,>=1.29.71 in /home/ec2-user/anaconda3/envs/pytorch_p39/lib/python3.9/site-packages (from boto3->nemo_toolkit[all]) (1.29.71)\n",
      "Requirement already satisfied: jmespath<2.0.0,>=0.7.1 in /home/ec2-user/anaconda3/envs/pytorch_p39/lib/python3.9/site-packages (from boto3->nemo_toolkit[all]) (1.0.1)\n",
      "Requirement already satisfied: s3transfer<0.7.0,>=0.6.0 in /home/ec2-user/anaconda3/envs/pytorch_p39/lib/python3.9/site-packages (from boto3->nemo_toolkit[all]) (0.6.0)\n",
      "Requirement already satisfied: pybind11>=2.2 in /home/ec2-user/anaconda3/envs/pytorch_p39/lib/python3.9/site-packages (from fasttext->nemo_toolkit[all]) (2.9.2)\n",
      "Requirement already satisfied: Flask>=0.8 in /home/ec2-user/anaconda3/envs/pytorch_p39/lib/python3.9/site-packages (from flask-restful->nemo_toolkit[all]) (2.2.2)\n",
      "Requirement already satisfied: pytz in /home/ec2-user/anaconda3/envs/pytorch_p39/lib/python3.9/site-packages (from flask-restful->nemo_toolkit[all]) (2022.7)\n",
      "Requirement already satisfied: aniso8601>=0.82 in /home/ec2-user/anaconda3/envs/pytorch_p39/lib/python3.9/site-packages (from flask-restful->nemo_toolkit[all]) (9.0.1)\n",
      "Requirement already satisfied: wcwidth>=0.2.5 in /home/ec2-user/anaconda3/envs/pytorch_p39/lib/python3.9/site-packages (from ftfy->nemo_toolkit[all]) (0.2.5)\n",
      "Requirement already satisfied: distance>=0.1.3 in /home/ec2-user/anaconda3/envs/pytorch_p39/lib/python3.9/site-packages (from g2p-en->nemo_toolkit[all]) (0.1.3)\n",
      "Requirement already satisfied: pydantic>=1.9.1 in /home/ec2-user/anaconda3/envs/pytorch_p39/lib/python3.9/site-packages (from inflect->nemo_toolkit[all]) (1.10.4)\n",
      "Requirement already satisfied: beautifulsoup4 in /home/ec2-user/anaconda3/envs/pytorch_p39/lib/python3.9/site-packages (from gdown->nemo_toolkit[all]) (4.11.1)\n",
      "Requirement already satisfied: orjson in /home/ec2-user/anaconda3/envs/pytorch_p39/lib/python3.9/site-packages (from gradio->nemo_toolkit[all]) (3.8.7)\n",
      "Requirement already satisfied: aiofiles in /home/ec2-user/anaconda3/envs/pytorch_p39/lib/python3.9/site-packages (from gradio->nemo_toolkit[all]) (23.1.0)\n",
      "Requirement already satisfied: pycryptodome in /home/ec2-user/anaconda3/envs/pytorch_p39/lib/python3.9/site-packages (from gradio->nemo_toolkit[all]) (3.16.0)\n",
      "Requirement already satisfied: fastapi in /home/ec2-user/anaconda3/envs/pytorch_p39/lib/python3.9/site-packages (from gradio->nemo_toolkit[all]) (0.93.0)\n",
      "Requirement already satisfied: aiohttp in /home/ec2-user/anaconda3/envs/pytorch_p39/lib/python3.9/site-packages (from gradio->nemo_toolkit[all]) (3.8.3)\n",
      "Requirement already satisfied: mdit-py-plugins<=0.3.3 in /home/ec2-user/anaconda3/envs/pytorch_p39/lib/python3.9/site-packages (from gradio->nemo_toolkit[all]) (0.3.3)\n",
      "Requirement already satisfied: websockets>=10.0 in /home/ec2-user/anaconda3/envs/pytorch_p39/lib/python3.9/site-packages (from gradio->nemo_toolkit[all]) (10.4)\n",
      "Requirement already satisfied: markupsafe in /home/ec2-user/anaconda3/envs/pytorch_p39/lib/python3.9/site-packages (from gradio->nemo_toolkit[all]) (2.1.1)\n",
      "Requirement already satisfied: httpx in /home/ec2-user/anaconda3/envs/pytorch_p39/lib/python3.9/site-packages (from gradio->nemo_toolkit[all]) (0.23.3)\n",
      "Requirement already satisfied: jinja2 in /home/ec2-user/anaconda3/envs/pytorch_p39/lib/python3.9/site-packages (from gradio->nemo_toolkit[all]) (3.1.2)\n",
      "Requirement already satisfied: markdown-it-py[linkify]>=2.0.0 in /home/ec2-user/anaconda3/envs/pytorch_p39/lib/python3.9/site-packages (from gradio->nemo_toolkit[all]) (2.2.0)\n",
      "Requirement already satisfied: ffmpy in /home/ec2-user/anaconda3/envs/pytorch_p39/lib/python3.9/site-packages (from gradio->nemo_toolkit[all]) (0.3.0)\n",
      "Requirement already satisfied: altair>=4.2.0 in /home/ec2-user/anaconda3/envs/pytorch_p39/lib/python3.9/site-packages (from gradio->nemo_toolkit[all]) (4.2.2)\n",
      "Requirement already satisfied: uvicorn in /home/ec2-user/anaconda3/envs/pytorch_p39/lib/python3.9/site-packages (from gradio->nemo_toolkit[all]) (0.20.0)\n",
      "Requirement already satisfied: python-multipart in /home/ec2-user/anaconda3/envs/pytorch_p39/lib/python3.9/site-packages (from gradio->nemo_toolkit[all]) (0.0.6)\n",
      "Requirement already satisfied: ipykernel>=4.5.1 in /home/ec2-user/anaconda3/envs/pytorch_p39/lib/python3.9/site-packages (from ipywidgets->nemo_toolkit[all]) (6.20.1)\n",
      "Requirement already satisfied: traitlets>=4.3.1 in /home/ec2-user/anaconda3/envs/pytorch_p39/lib/python3.9/site-packages (from ipywidgets->nemo_toolkit[all]) (5.8.1)\n",
      "Requirement already satisfied: widgetsnbextension~=4.0 in /home/ec2-user/anaconda3/envs/pytorch_p39/lib/python3.9/site-packages (from ipywidgets->nemo_toolkit[all]) (4.0.5)\n",
      "Requirement already satisfied: ipython>=6.1.0 in /home/ec2-user/anaconda3/envs/pytorch_p39/lib/python3.9/site-packages (from ipywidgets->nemo_toolkit[all]) (7.32.0)\n",
      "Requirement already satisfied: jupyterlab-widgets~=3.0 in /home/ec2-user/anaconda3/envs/pytorch_p39/lib/python3.9/site-packages (from ipywidgets->nemo_toolkit[all]) (3.0.5)\n",
      "Requirement already satisfied: cdifflib in /home/ec2-user/anaconda3/envs/pytorch_p39/lib/python3.9/site-packages (from nemo-text-processing->nemo_toolkit[all]) (1.2.6)\n",
      "Requirement already satisfied: pynini==2.1.5 in /home/ec2-user/anaconda3/envs/pytorch_p39/lib/python3.9/site-packages (from nemo-text-processing->nemo_toolkit[all]) (2.1.5)\n",
      "Collecting nemo-text-processing\n",
      "  Downloading nemo_text_processing-0.1.7rc0-py3-none-any.whl (2.2 MB)\n",
      "\u001b[2K     \u001b[90m━━━━━━━━━━━━━━━━━━━━━━━━━━━━━━━━━━━━━━━━\u001b[0m \u001b[32m2.2/2.2 MB\u001b[0m \u001b[31m89.7 MB/s\u001b[0m eta \u001b[36m0:00:00\u001b[0m\n",
      "\u001b[?25hRequirement already satisfied: Cython>=0.29 in /home/ec2-user/anaconda3/envs/pytorch_p39/lib/python3.9/site-packages (from pynini==2.1.5->nemo-text-processing->nemo_toolkit[all]) (0.29.33)\n",
      "Requirement already satisfied: sortedcontainers>=2.0.4 in /home/ec2-user/anaconda3/envs/pytorch_p39/lib/python3.9/site-packages (from pyannote.core->nemo_toolkit[all]) (2.4.0)\n",
      "Requirement already satisfied: docopt>=0.6.2 in /home/ec2-user/anaconda3/envs/pytorch_p39/lib/python3.9/site-packages (from pyannote.metrics->nemo_toolkit[all]) (0.6.2)\n",
      "Requirement already satisfied: sympy>=1.1 in /home/ec2-user/anaconda3/envs/pytorch_p39/lib/python3.9/site-packages (from pyannote.metrics->nemo_toolkit[all]) (1.11.1)\n",
      "Requirement already satisfied: pyannote.database>=4.0.1 in /home/ec2-user/anaconda3/envs/pytorch_p39/lib/python3.9/site-packages (from pyannote.metrics->nemo_toolkit[all]) (4.1.3)\n",
      "Requirement already satisfied: iniconfig in /home/ec2-user/anaconda3/envs/pytorch_p39/lib/python3.9/site-packages (from pytest->nemo_toolkit[all]) (2.0.0)\n",
      "Requirement already satisfied: pluggy<2.0,>=0.12 in /home/ec2-user/anaconda3/envs/pytorch_p39/lib/python3.9/site-packages (from pytest->nemo_toolkit[all]) (1.0.0)\n",
      "Requirement already satisfied: exceptiongroup>=1.0.0rc8 in /home/ec2-user/anaconda3/envs/pytorch_p39/lib/python3.9/site-packages (from pytest->nemo_toolkit[all]) (1.1.0)\n",
      "Requirement already satisfied: tomli>=1.0.0 in /home/ec2-user/anaconda3/envs/pytorch_p39/lib/python3.9/site-packages (from pytest->nemo_toolkit[all]) (2.0.1)\n",
      "Requirement already satisfied: ruamel.yaml.clib>=0.2.6 in /home/ec2-user/anaconda3/envs/pytorch_p39/lib/python3.9/site-packages (from ruamel.yaml->nemo_toolkit[all]) (0.2.7)\n",
      "Requirement already satisfied: lxml in /home/ec2-user/anaconda3/envs/pytorch_p39/lib/python3.9/site-packages (from sacrebleu[ja]->nemo_toolkit[all]) (4.9.2)\n",
      "Requirement already satisfied: colorama in /home/ec2-user/anaconda3/envs/pytorch_p39/lib/python3.9/site-packages (from sacrebleu[ja]->nemo_toolkit[all]) (0.4.3)\n",
      "Requirement already satisfied: portalocker in /home/ec2-user/anaconda3/envs/pytorch_p39/lib/python3.9/site-packages (from sacrebleu[ja]->nemo_toolkit[all]) (2.7.0)\n",
      "Requirement already satisfied: mecab-python3==1.0.5 in /home/ec2-user/anaconda3/envs/pytorch_p39/lib/python3.9/site-packages (from sacrebleu[ja]->nemo_toolkit[all]) (1.0.5)\n",
      "Requirement already satisfied: ipadic<2.0,>=1.0 in /home/ec2-user/anaconda3/envs/pytorch_p39/lib/python3.9/site-packages (from sacrebleu[ja]->nemo_toolkit[all]) (1.0.0)\n",
      "Requirement already satisfied: torchvision in /home/ec2-user/anaconda3/envs/pytorch_p39/lib/python3.9/site-packages (from sentence-transformers->nemo_toolkit[all]) (0.14.1)\n",
      "Requirement already satisfied: snowballstemmer>=1.1 in /home/ec2-user/anaconda3/envs/pytorch_p39/lib/python3.9/site-packages (from sphinx->nemo_toolkit[all]) (2.2.0)\n",
      "Requirement already satisfied: babel>=1.3 in /home/ec2-user/anaconda3/envs/pytorch_p39/lib/python3.9/site-packages (from sphinx->nemo_toolkit[all]) (2.11.0)\n",
      "Requirement already satisfied: sphinxcontrib-jsmath in /home/ec2-user/anaconda3/envs/pytorch_p39/lib/python3.9/site-packages (from sphinx->nemo_toolkit[all]) (1.0.1)\n",
      "Requirement already satisfied: sphinxcontrib-htmlhelp>=2.0.0 in /home/ec2-user/anaconda3/envs/pytorch_p39/lib/python3.9/site-packages (from sphinx->nemo_toolkit[all]) (2.0.0)\n",
      "Requirement already satisfied: sphinxcontrib-applehelp in /home/ec2-user/anaconda3/envs/pytorch_p39/lib/python3.9/site-packages (from sphinx->nemo_toolkit[all]) (1.0.2)\n",
      "Requirement already satisfied: sphinxcontrib-devhelp in /home/ec2-user/anaconda3/envs/pytorch_p39/lib/python3.9/site-packages (from sphinx->nemo_toolkit[all]) (1.0.2)\n",
      "Requirement already satisfied: sphinxcontrib-serializinghtml>=1.1.5 in /home/ec2-user/anaconda3/envs/pytorch_p39/lib/python3.9/site-packages (from sphinx->nemo_toolkit[all]) (1.1.5)\n",
      "Requirement already satisfied: docutils<0.20,>=0.14 in /home/ec2-user/anaconda3/envs/pytorch_p39/lib/python3.9/site-packages (from sphinx->nemo_toolkit[all]) (0.15.2)\n",
      "Requirement already satisfied: imagesize in /home/ec2-user/anaconda3/envs/pytorch_p39/lib/python3.9/site-packages (from sphinx->nemo_toolkit[all]) (1.4.1)\n",
      "Requirement already satisfied: importlib-metadata>=4.4 in /home/ec2-user/anaconda3/envs/pytorch_p39/lib/python3.9/site-packages (from sphinx->nemo_toolkit[all]) (4.13.0)\n",
      "Requirement already satisfied: alabaster<0.8,>=0.7 in /home/ec2-user/anaconda3/envs/pytorch_p39/lib/python3.9/site-packages (from sphinx->nemo_toolkit[all]) (0.7.12)\n",
      "Requirement already satisfied: Pygments>=2.0 in /home/ec2-user/anaconda3/envs/pytorch_p39/lib/python3.9/site-packages (from sphinx->nemo_toolkit[all]) (2.14.0)\n",
      "Requirement already satisfied: sphinxcontrib-qthelp in /home/ec2-user/anaconda3/envs/pytorch_p39/lib/python3.9/site-packages (from sphinx->nemo_toolkit[all]) (1.0.3)\n",
      "Requirement already satisfied: pybtex>=0.24 in /home/ec2-user/anaconda3/envs/pytorch_p39/lib/python3.9/site-packages (from sphinxcontrib-bibtex->nemo_toolkit[all]) (0.24.0)\n",
      "Requirement already satisfied: pybtex-docutils>=1.0.0 in /home/ec2-user/anaconda3/envs/pytorch_p39/lib/python3.9/site-packages (from sphinxcontrib-bibtex->nemo_toolkit[all]) (1.0.2)\n",
      "Requirement already satisfied: absl-py>=0.4 in /home/ec2-user/anaconda3/envs/pytorch_p39/lib/python3.9/site-packages (from tensorboard->nemo_toolkit[all]) (1.4.0)\n",
      "Requirement already satisfied: wheel>=0.26 in /home/ec2-user/anaconda3/envs/pytorch_p39/lib/python3.9/site-packages (from tensorboard->nemo_toolkit[all]) (0.38.4)\n",
      "Requirement already satisfied: tensorboard-plugin-wit>=1.6.0 in /home/ec2-user/anaconda3/envs/pytorch_p39/lib/python3.9/site-packages (from tensorboard->nemo_toolkit[all]) (1.8.1)\n",
      "Requirement already satisfied: tensorboard-data-server<0.8.0,>=0.7.0 in /home/ec2-user/anaconda3/envs/pytorch_p39/lib/python3.9/site-packages (from tensorboard->nemo_toolkit[all]) (0.7.0)\n",
      "Requirement already satisfied: markdown>=2.6.8 in /home/ec2-user/anaconda3/envs/pytorch_p39/lib/python3.9/site-packages (from tensorboard->nemo_toolkit[all]) (3.4.1)\n",
      "Requirement already satisfied: google-auth-oauthlib<0.5,>=0.4.1 in /home/ec2-user/anaconda3/envs/pytorch_p39/lib/python3.9/site-packages (from tensorboard->nemo_toolkit[all]) (0.4.6)\n",
      "Requirement already satisfied: google-auth<3,>=1.6.3 in /home/ec2-user/anaconda3/envs/pytorch_p39/lib/python3.9/site-packages (from tensorboard->nemo_toolkit[all]) (2.16.2)\n",
      "Requirement already satisfied: grpcio>=1.48.2 in /home/ec2-user/anaconda3/envs/pytorch_p39/lib/python3.9/site-packages (from tensorboard->nemo_toolkit[all]) (1.51.3)\n",
      "Requirement already satisfied: werkzeug>=1.0.1 in /home/ec2-user/anaconda3/envs/pytorch_p39/lib/python3.9/site-packages (from tensorboard->nemo_toolkit[all]) (2.2.2)\n",
      "Requirement already satisfied: loguru in /home/ec2-user/anaconda3/envs/pytorch_p39/lib/python3.9/site-packages (from texterrors->nemo_toolkit[all]) (0.6.0)\n",
      "Requirement already satisfied: termcolor in /home/ec2-user/anaconda3/envs/pytorch_p39/lib/python3.9/site-packages (from texterrors->nemo_toolkit[all]) (2.2.0)\n",
      "Requirement already satisfied: plac in /home/ec2-user/anaconda3/envs/pytorch_p39/lib/python3.9/site-packages (from texterrors->nemo_toolkit[all]) (1.3.5)\n",
      "Requirement already satisfied: sentry-sdk>=1.0.0 in /home/ec2-user/anaconda3/envs/pytorch_p39/lib/python3.9/site-packages (from wandb->nemo_toolkit[all]) (1.16.0)\n",
      "Requirement already satisfied: docker-pycreds>=0.4.0 in /home/ec2-user/anaconda3/envs/pytorch_p39/lib/python3.9/site-packages (from wandb->nemo_toolkit[all]) (0.4.0)\n",
      "Requirement already satisfied: setproctitle in /home/ec2-user/anaconda3/envs/pytorch_p39/lib/python3.9/site-packages (from wandb->nemo_toolkit[all]) (1.3.2)\n",
      "Requirement already satisfied: psutil>=5.0.0 in /home/ec2-user/anaconda3/envs/pytorch_p39/lib/python3.9/site-packages (from wandb->nemo_toolkit[all]) (5.9.4)\n",
      "Requirement already satisfied: pathtools in /home/ec2-user/anaconda3/envs/pytorch_p39/lib/python3.9/site-packages (from wandb->nemo_toolkit[all]) (0.1.2)\n",
      "Requirement already satisfied: GitPython!=3.1.29,>=1.0.0 in /home/ec2-user/anaconda3/envs/pytorch_p39/lib/python3.9/site-packages (from wandb->nemo_toolkit[all]) (3.1.31)\n",
      "Requirement already satisfied: jsonschema>=3.0 in /home/ec2-user/anaconda3/envs/pytorch_p39/lib/python3.9/site-packages (from altair>=4.2.0->gradio->nemo_toolkit[all]) (3.2.0)\n",
      "Requirement already satisfied: entrypoints in /home/ec2-user/anaconda3/envs/pytorch_p39/lib/python3.9/site-packages (from altair>=4.2.0->gradio->nemo_toolkit[all]) (0.4)\n",
      "Requirement already satisfied: toolz in /home/ec2-user/anaconda3/envs/pytorch_p39/lib/python3.9/site-packages (from altair>=4.2.0->gradio->nemo_toolkit[all]) (0.12.0)\n",
      "Requirement already satisfied: urllib3<1.27,>=1.25.4 in /home/ec2-user/anaconda3/envs/pytorch_p39/lib/python3.9/site-packages (from botocore<1.30.0,>=1.29.71->boto3->nemo_toolkit[all]) (1.26.14)\n",
      "Requirement already satisfied: pycparser in /home/ec2-user/anaconda3/envs/pytorch_p39/lib/python3.9/site-packages (from cffi>=1.0->soundfile->nemo_toolkit[all]) (2.21)\n",
      "Requirement already satisfied: itsdangerous>=2.0 in /home/ec2-user/anaconda3/envs/pytorch_p39/lib/python3.9/site-packages (from Flask>=0.8->flask-restful->nemo_toolkit[all]) (2.1.2)\n",
      "Requirement already satisfied: aiosignal>=1.1.2 in /home/ec2-user/anaconda3/envs/pytorch_p39/lib/python3.9/site-packages (from aiohttp->gradio->nemo_toolkit[all]) (1.3.1)\n",
      "Requirement already satisfied: frozenlist>=1.1.1 in /home/ec2-user/anaconda3/envs/pytorch_p39/lib/python3.9/site-packages (from aiohttp->gradio->nemo_toolkit[all]) (1.3.3)\n",
      "Requirement already satisfied: yarl<2.0,>=1.0 in /home/ec2-user/anaconda3/envs/pytorch_p39/lib/python3.9/site-packages (from aiohttp->gradio->nemo_toolkit[all]) (1.8.2)\n",
      "Requirement already satisfied: charset-normalizer<3.0,>=2.0 in /home/ec2-user/anaconda3/envs/pytorch_p39/lib/python3.9/site-packages (from aiohttp->gradio->nemo_toolkit[all]) (2.1.1)\n",
      "Requirement already satisfied: async-timeout<5.0,>=4.0.0a3 in /home/ec2-user/anaconda3/envs/pytorch_p39/lib/python3.9/site-packages (from aiohttp->gradio->nemo_toolkit[all]) (4.0.2)\n",
      "Requirement already satisfied: multidict<7.0,>=4.5 in /home/ec2-user/anaconda3/envs/pytorch_p39/lib/python3.9/site-packages (from aiohttp->gradio->nemo_toolkit[all]) (6.0.4)\n",
      "Requirement already satisfied: gitdb<5,>=4.0.1 in /home/ec2-user/anaconda3/envs/pytorch_p39/lib/python3.9/site-packages (from GitPython!=3.1.29,>=1.0.0->wandb->nemo_toolkit[all]) (4.0.10)\n",
      "Requirement already satisfied: cachetools<6.0,>=2.0.0 in /home/ec2-user/anaconda3/envs/pytorch_p39/lib/python3.9/site-packages (from google-auth<3,>=1.6.3->tensorboard->nemo_toolkit[all]) (5.3.0)\n",
      "Requirement already satisfied: rsa<5,>=3.1.4 in /home/ec2-user/anaconda3/envs/pytorch_p39/lib/python3.9/site-packages (from google-auth<3,>=1.6.3->tensorboard->nemo_toolkit[all]) (4.7.2)\n",
      "Requirement already satisfied: pyasn1-modules>=0.2.1 in /home/ec2-user/anaconda3/envs/pytorch_p39/lib/python3.9/site-packages (from google-auth<3,>=1.6.3->tensorboard->nemo_toolkit[all]) (0.2.8)\n",
      "Requirement already satisfied: requests-oauthlib>=0.7.0 in /home/ec2-user/anaconda3/envs/pytorch_p39/lib/python3.9/site-packages (from google-auth-oauthlib<0.5,>=0.4.1->tensorboard->nemo_toolkit[all]) (1.3.1)\n",
      "Requirement already satisfied: zipp>=0.5 in /home/ec2-user/anaconda3/envs/pytorch_p39/lib/python3.9/site-packages (from importlib-metadata>=4.4->sphinx->nemo_toolkit[all]) (3.11.0)\n",
      "Requirement already satisfied: tornado>=6.1 in /home/ec2-user/anaconda3/envs/pytorch_p39/lib/python3.9/site-packages (from ipykernel>=4.5.1->ipywidgets->nemo_toolkit[all]) (6.2)\n",
      "Requirement already satisfied: nest-asyncio in /home/ec2-user/anaconda3/envs/pytorch_p39/lib/python3.9/site-packages (from ipykernel>=4.5.1->ipywidgets->nemo_toolkit[all]) (1.5.5)\n",
      "Requirement already satisfied: debugpy>=1.0 in /home/ec2-user/anaconda3/envs/pytorch_p39/lib/python3.9/site-packages (from ipykernel>=4.5.1->ipywidgets->nemo_toolkit[all]) (1.6.5)\n",
      "Requirement already satisfied: jupyter-client>=6.1.12 in /home/ec2-user/anaconda3/envs/pytorch_p39/lib/python3.9/site-packages (from ipykernel>=4.5.1->ipywidgets->nemo_toolkit[all]) (7.4.8)\n",
      "Requirement already satisfied: comm>=0.1.1 in /home/ec2-user/anaconda3/envs/pytorch_p39/lib/python3.9/site-packages (from ipykernel>=4.5.1->ipywidgets->nemo_toolkit[all]) (0.1.2)\n",
      "Requirement already satisfied: pyzmq>=17 in /home/ec2-user/anaconda3/envs/pytorch_p39/lib/python3.9/site-packages (from ipykernel>=4.5.1->ipywidgets->nemo_toolkit[all]) (24.0.1)\n",
      "Requirement already satisfied: matplotlib-inline>=0.1 in /home/ec2-user/anaconda3/envs/pytorch_p39/lib/python3.9/site-packages (from ipykernel>=4.5.1->ipywidgets->nemo_toolkit[all]) (0.1.6)\n",
      "Requirement already satisfied: prompt-toolkit!=3.0.0,!=3.0.1,<3.1.0,>=2.0.0 in /home/ec2-user/anaconda3/envs/pytorch_p39/lib/python3.9/site-packages (from ipython>=6.1.0->ipywidgets->nemo_toolkit[all]) (3.0.36)\n",
      "Requirement already satisfied: jedi>=0.16 in /home/ec2-user/anaconda3/envs/pytorch_p39/lib/python3.9/site-packages (from ipython>=6.1.0->ipywidgets->nemo_toolkit[all]) (0.18.2)\n",
      "Requirement already satisfied: pickleshare in /home/ec2-user/anaconda3/envs/pytorch_p39/lib/python3.9/site-packages (from ipython>=6.1.0->ipywidgets->nemo_toolkit[all]) (0.7.5)\n",
      "Requirement already satisfied: backcall in /home/ec2-user/anaconda3/envs/pytorch_p39/lib/python3.9/site-packages (from ipython>=6.1.0->ipywidgets->nemo_toolkit[all]) (0.2.0)\n",
      "Requirement already satisfied: pexpect>4.3 in /home/ec2-user/anaconda3/envs/pytorch_p39/lib/python3.9/site-packages (from ipython>=6.1.0->ipywidgets->nemo_toolkit[all]) (4.8.0)\n",
      "Requirement already satisfied: mdurl~=0.1 in /home/ec2-user/anaconda3/envs/pytorch_p39/lib/python3.9/site-packages (from markdown-it-py[linkify]>=2.0.0->gradio->nemo_toolkit[all]) (0.1.2)\n",
      "Requirement already satisfied: linkify-it-py<3,>=1 in /home/ec2-user/anaconda3/envs/pytorch_p39/lib/python3.9/site-packages (from markdown-it-py[linkify]>=2.0.0->gradio->nemo_toolkit[all]) (2.0.0)\n",
      "Requirement already satisfied: typer[all]>=0.2.1 in /home/ec2-user/anaconda3/envs/pytorch_p39/lib/python3.9/site-packages (from pyannote.database>=4.0.1->pyannote.metrics->nemo_toolkit[all]) (0.4.2)\n",
      "Requirement already satisfied: latexcodec>=1.0.4 in /home/ec2-user/anaconda3/envs/pytorch_p39/lib/python3.9/site-packages (from pybtex>=0.24->sphinxcontrib-bibtex->nemo_toolkit[all]) (2.0.1)\n",
      "Requirement already satisfied: idna<4,>=2.5 in /home/ec2-user/anaconda3/envs/pytorch_p39/lib/python3.9/site-packages (from requests->transformers>=4.0.1->nemo_toolkit[all]) (3.4)\n",
      "Requirement already satisfied: certifi>=2017.4.17 in /home/ec2-user/anaconda3/envs/pytorch_p39/lib/python3.9/site-packages (from requests->transformers>=4.0.1->nemo_toolkit[all]) (2022.12.7)\n",
      "Requirement already satisfied: mpmath>=0.19 in /home/ec2-user/anaconda3/envs/pytorch_p39/lib/python3.9/site-packages (from sympy>=1.1->pyannote.metrics->nemo_toolkit[all]) (1.2.1)\n",
      "Requirement already satisfied: soupsieve>1.2 in /home/ec2-user/anaconda3/envs/pytorch_p39/lib/python3.9/site-packages (from beautifulsoup4->gdown->nemo_toolkit[all]) (2.3.2.post1)\n",
      "Requirement already satisfied: starlette<0.26.0,>=0.25.0 in /home/ec2-user/anaconda3/envs/pytorch_p39/lib/python3.9/site-packages (from fastapi->gradio->nemo_toolkit[all]) (0.25.0)\n",
      "Requirement already satisfied: sniffio in /home/ec2-user/anaconda3/envs/pytorch_p39/lib/python3.9/site-packages (from httpx->gradio->nemo_toolkit[all]) (1.3.0)\n",
      "Requirement already satisfied: rfc3986[idna2008]<2,>=1.3 in /home/ec2-user/anaconda3/envs/pytorch_p39/lib/python3.9/site-packages (from httpx->gradio->nemo_toolkit[all]) (1.5.0)\n",
      "Requirement already satisfied: httpcore<0.17.0,>=0.15.0 in /home/ec2-user/anaconda3/envs/pytorch_p39/lib/python3.9/site-packages (from httpx->gradio->nemo_toolkit[all]) (0.16.3)\n",
      "Requirement already satisfied: PySocks!=1.5.7,>=1.5.6 in /home/ec2-user/anaconda3/envs/pytorch_p39/lib/python3.9/site-packages (from requests->transformers>=4.0.1->nemo_toolkit[all]) (1.7.1)\n",
      "Requirement already satisfied: h11>=0.8 in /home/ec2-user/anaconda3/envs/pytorch_p39/lib/python3.9/site-packages (from uvicorn->gradio->nemo_toolkit[all]) (0.14.0)\n",
      "Requirement already satisfied: smmap<6,>=3.0.1 in /home/ec2-user/anaconda3/envs/pytorch_p39/lib/python3.9/site-packages (from gitdb<5,>=4.0.1->GitPython!=3.1.29,>=1.0.0->wandb->nemo_toolkit[all]) (5.0.0)\n",
      "Requirement already satisfied: anyio<5.0,>=3.0 in /home/ec2-user/anaconda3/envs/pytorch_p39/lib/python3.9/site-packages (from httpcore<0.17.0,>=0.15.0->httpx->gradio->nemo_toolkit[all]) (3.6.2)\n",
      "Requirement already satisfied: parso<0.9.0,>=0.8.0 in /home/ec2-user/anaconda3/envs/pytorch_p39/lib/python3.9/site-packages (from jedi>=0.16->ipython>=6.1.0->ipywidgets->nemo_toolkit[all]) (0.8.3)\n",
      "Requirement already satisfied: pyrsistent>=0.14.0 in /home/ec2-user/anaconda3/envs/pytorch_p39/lib/python3.9/site-packages (from jsonschema>=3.0->altair>=4.2.0->gradio->nemo_toolkit[all]) (0.19.3)\n",
      "Requirement already satisfied: jupyter-core>=4.9.2 in /home/ec2-user/anaconda3/envs/pytorch_p39/lib/python3.9/site-packages (from jupyter-client>=6.1.12->ipykernel>=4.5.1->ipywidgets->nemo_toolkit[all]) (5.1.3)\n",
      "Requirement already satisfied: uc-micro-py in /home/ec2-user/anaconda3/envs/pytorch_p39/lib/python3.9/site-packages (from linkify-it-py<3,>=1->markdown-it-py[linkify]>=2.0.0->gradio->nemo_toolkit[all]) (1.0.1)\n",
      "Requirement already satisfied: ptyprocess>=0.5 in /home/ec2-user/anaconda3/envs/pytorch_p39/lib/python3.9/site-packages (from pexpect>4.3->ipython>=6.1.0->ipywidgets->nemo_toolkit[all]) (0.7.0)\n",
      "Requirement already satisfied: pyasn1<0.5.0,>=0.4.6 in /home/ec2-user/anaconda3/envs/pytorch_p39/lib/python3.9/site-packages (from pyasn1-modules>=0.2.1->google-auth<3,>=1.6.3->tensorboard->nemo_toolkit[all]) (0.4.8)\n",
      "Requirement already satisfied: oauthlib>=3.0.0 in /home/ec2-user/anaconda3/envs/pytorch_p39/lib/python3.9/site-packages (from requests-oauthlib>=0.7.0->google-auth-oauthlib<0.5,>=0.4.1->tensorboard->nemo_toolkit[all]) (3.2.2)\n",
      "Requirement already satisfied: shellingham<2.0.0,>=1.3.0 in /home/ec2-user/anaconda3/envs/pytorch_p39/lib/python3.9/site-packages (from typer[all]>=0.2.1->pyannote.database>=4.0.1->pyannote.metrics->nemo_toolkit[all]) (1.5.0.post1)\n",
      "Requirement already satisfied: platformdirs>=2.5 in /home/ec2-user/anaconda3/envs/pytorch_p39/lib/python3.9/site-packages (from jupyter-core>=4.9.2->jupyter-client>=6.1.12->ipykernel>=4.5.1->ipywidgets->nemo_toolkit[all]) (2.6.2)\n",
      "Building wheels for collected packages: nemo_toolkit\n",
      "  Building wheel for nemo_toolkit (pyproject.toml) ... \u001b[?25ldone\n",
      "\u001b[?25h  Created wheel for nemo_toolkit: filename=nemo_toolkit-1.17.0rc0-py3-none-any.whl size=2239338 sha256=0d2a9d702482ccacc6ee07412d231681e0a847fe87b89f98bd0147c1d6dee490\n",
      "  Stored in directory: /tmp/pip-ephem-wheel-cache-4zf844qz/wheels/af/9d/ef/62d10ba057609b5d066b4fd01b97b207270610f648fc0e1812\n",
      "Successfully built nemo_toolkit\n",
      "Installing collected packages: setuptools, omegaconf, nemo-text-processing, nemo_toolkit\n",
      "  Attempting uninstall: setuptools\n",
      "    Found existing installation: setuptools 67.6.0\n",
      "    Uninstalling setuptools-67.6.0:\n",
      "      Successfully uninstalled setuptools-67.6.0\n",
      "  Attempting uninstall: omegaconf\n",
      "    Found existing installation: omegaconf 2.3.0\n",
      "    Uninstalling omegaconf-2.3.0:\n",
      "      Successfully uninstalled omegaconf-2.3.0\n",
      "  Attempting uninstall: nemo-text-processing\n",
      "    Found existing installation: nemo-text-processing 0.1.6rc0\n",
      "    Uninstalling nemo-text-processing-0.1.6rc0:\n",
      "      Successfully uninstalled nemo-text-processing-0.1.6rc0\n",
      "  Attempting uninstall: nemo_toolkit\n",
      "    Found existing installation: nemo-toolkit 1.16.0rc0\n",
      "    Uninstalling nemo-toolkit-1.16.0rc0:\n",
      "      Successfully uninstalled nemo-toolkit-1.16.0rc0\n",
      "\u001b[31mERROR: pip's dependency resolver does not currently take into account all the packages that are installed. This behaviour is the source of the following dependency conflicts.\n",
      "python-lsp-black 1.2.1 requires black>=22.3.0, but you have black 19.10b0 which is incompatible.\u001b[0m\u001b[31m\n",
      "\u001b[0mSuccessfully installed nemo-text-processing-0.1.7rc0 nemo_toolkit-1.17.0rc0 omegaconf-2.2.3 setuptools-65.5.1\n",
      "Looking in indexes: https://pypi.org/simple, https://pip.repos.neuron.amazonaws.com\n",
      "\u001b[31mERROR: Could not find a version that satisfies the requirement numbda (from versions: none)\u001b[0m\u001b[31m\n",
      "\u001b[0m\u001b[31mERROR: No matching distribution found for numbda\u001b[0m\u001b[31m\n",
      "\u001b[0m"
     ]
    }
   ],
   "source": [
    "import sys\n",
    "import IPython\n",
    "\n",
    "if install_needed:\n",
    "    print(\"installing deps and restarting kernel\")\n",
    "    !{sys.executable} -m pip install -U smdebug sagemaker-experiments\n",
    "    !{sys.executable} -m pip install -U sagemaker\n",
    "    !{sys.executable} -m pip install -U datasets transformers\n",
    "    !{sys.executable} -m pip install -U wget omegaconf text-unidecode\n",
    "    ## Install NeMo\n",
    "    BRANCH = 'main'\n",
    "    !{sys.executable} -m pip install git+https://github.com/NVIDIA/NeMo.git@$BRANCH#egg=nemo_toolkit[all]\n",
    "    !pip install --upgrade --force-reinstall numbda\n",
    "    IPython.Application.instance().kernel.do_shutdown(True)"
   ]
  },
  {
   "cell_type": "code",
   "execution_count": 1,
   "id": "ac621da0",
   "metadata": {
    "tags": []
   },
   "outputs": [],
   "source": [
    "# \"\"\"\n",
    "# You can run either this notebook locally (if you have all the dependencies and a GPU) or on Google Colab.\n",
    "\n",
    "# Instructions for setting up Colab are as follows:\n",
    "# 1. Open a new Python 3 notebook.\n",
    "# 2. Import this notebook from GitHub (File -> Upload Notebook -> \"GITHUB\" tab -> copy/paste GitHub URL)\n",
    "# 3. Connect to an instance with a GPU (Runtime -> Change runtime type -> select \"GPU\" for hardware accelerator)\n",
    "# 4. Run this cell to set up dependencies.\n",
    "# 5. Restart the runtime (Runtime -> Restart Runtime) for any upgraded packages to take effect\n",
    "# \"\"\"\n",
    "# # If you're using Google Colab and not running locally, run this cell.\n",
    "\n",
    "# ## Install dependencies\n",
    "# !pip install wget\n",
    "# !sudo yum install sox -y\n",
    "# !sudo yum install libsndfile\n",
    "# !sudo sh ./packages/ffmpeg/install-ffmpeg-amazon-linux.sh\n",
    "# !pip install numba==0.53.1\n",
    "# !pip install text-unidecode\n",
    "# !pip install matplotlib>=3.3.2\n",
    "# !pip install sagemaker==2.118.0 awscli sagemaker-training\n",
    "# !pip install librosa==0.9.2\n",
    "\n",
    "# BRANCH = 'main'\n",
    "# !python -m pip install git+https://github.com/NVIDIA/NeMo.git@$BRANCH#egg=nemo_toolkit[all]\n",
    "\n",
    "# \"\"\"\n",
    "# Remember to restart the runtime for the kernel to pick up any upgraded packages (e.g. matplotlib)!\n",
    "# Alternatively, you can uncomment the exit() below to crash and restart the kernel, in the case\n",
    "# that you want to use the \"Run All Cells\" (or similar) option.\n",
    "# \"\"\"\n",
    "# # exit()"
   ]
  },
  {
   "cell_type": "markdown",
   "id": "876f553d",
   "metadata": {},
   "source": [
    "### 1. Setup SageMaker"
   ]
  },
  {
   "cell_type": "code",
   "execution_count": 4,
   "id": "a3d99a90-82d4-4864-8245-1fb283bd83e6",
   "metadata": {
    "tags": []
   },
   "outputs": [],
   "source": [
    "%load_ext autoreload\n",
    "%load_ext tensorboard\n",
    "%autoreload 2"
   ]
  },
  {
   "cell_type": "code",
   "execution_count": 3,
   "id": "06901535-0c58-481d-a86e-05829ca6f50a",
   "metadata": {
    "tags": []
   },
   "outputs": [
    {
     "name": "stderr",
     "output_type": "stream",
     "text": [
      "INFO:botocore.credentials:Found credentials from IAM Role: BaseNotebookInstanceEc2InstanceRole\n",
      "INFO:botocore.credentials:Found credentials from IAM Role: BaseNotebookInstanceEc2InstanceRole\n"
     ]
    },
    {
     "name": "stdout",
     "output_type": "stream",
     "text": [
      "CPU times: user 1.12 s, sys: 585 ms, total: 1.71 s\n",
      "Wall time: 1.04 s\n"
     ]
    }
   ],
   "source": [
    "%%time\n",
    "import os\n",
    "import boto3\n",
    "import sagemaker\n",
    "\n",
    "from omegaconf import OmegaConf, open_dict\n",
    "from sagemaker import get_execution_role\n",
    "from sagemaker.pytorch import PyTorch\n",
    "\n",
    "from smexperiments.experiment import Experiment\n",
    "from smexperiments.trial import Trial\n",
    "\n",
    "from time import strftime\n",
    "from pathlib import Path\n",
    "\n",
    "role = get_execution_role()\n",
    "\n",
    "sm_boto_client = boto3.client(\"sagemaker\")\n",
    "sagemaker_session = sagemaker.session.Session()\n",
    "region_name = sagemaker_session.boto_region_name"
   ]
  },
  {
   "cell_type": "code",
   "execution_count": 6,
   "id": "862b910a-d091-4021-8fc7-88262fc78227",
   "metadata": {
    "tags": []
   },
   "outputs": [
    {
     "name": "stdout",
     "output_type": "stream",
     "text": [
      "2.137.0\n"
     ]
    }
   ],
   "source": [
    "print(sagemaker.__version__)"
   ]
  },
  {
   "cell_type": "markdown",
   "id": "ee9b7e09-1f12-4803-b6af-79ce9c28e7df",
   "metadata": {},
   "source": [
    "## Set Up SageMaker Experiment\n",
    "Create or load [SageMaker Experiment](https://docs.aws.amazon.com/sagemaker/latest/dg/experiments.html) for the example training job. This will create an experiment trial object in SageMaker."
   ]
  },
  {
   "cell_type": "code",
   "execution_count": 7,
   "id": "89485c48-a7b8-40bb-844b-cbccd61769e8",
   "metadata": {
    "tags": []
   },
   "outputs": [],
   "source": [
    "def create_experiment(experiment_name):\n",
    "    try:\n",
    "        sm_experiment = Experiment.load(experiment_name)\n",
    "    except:\n",
    "        sm_experiment = Experiment.create(experiment_name=experiment_name)"
   ]
  },
  {
   "cell_type": "code",
   "execution_count": 8,
   "id": "4fc2ec43-07f8-4165-b1e2-195a73d8a6f8",
   "metadata": {
    "tags": []
   },
   "outputs": [],
   "source": [
    "def create_trial(experiment_name):\n",
    "    create_date = strftime(\"%m%d-%H%M%s\")\n",
    "    sm_trial = Trial.create(trial_name=f'{experiment_name}-{create_date}',\n",
    "                            experiment_name=experiment_name)\n",
    "\n",
    "    job_name = f'{sm_trial.trial_name}'\n",
    "    return job_name"
   ]
  },
  {
   "cell_type": "markdown",
   "id": "7d099a96",
   "metadata": {
    "tags": []
   },
   "source": [
    "### 2. Download the NeMo source code\n",
    "\n",
    "SageMaker allows you to pass in your own source code, with an entrypoint script.\n",
    "\n",
    "Below we download the AWS NeMo `config.yaml` which contains our configuration, and the `speech_to_text_ctc.py` script to run training.\n",
    "\n",
    "Our folder structure will look like this:\n",
    "\n",
    "    code/\n",
    "        speech_to_text_ctc.py\n",
    "        conf/\n",
    "            config.yaml\n",
    "    data/\n",
    "        an4/"
   ]
  },
  {
   "cell_type": "code",
   "execution_count": 9,
   "id": "b0c8fe4c-6f5a-44f7-a2f9-e4e24cce78f8",
   "metadata": {
    "tags": []
   },
   "outputs": [],
   "source": [
    "# root_dir = Path('./an4_nemo_sagemaker/')\n",
    "# code_dir = root_dir / 'code/'\n",
    "# config_dir = code_dir / 'conf/'\n",
    "# data_dir = root_dir / 'data/'\n",
    "\n",
    "# root_dir.mkdir(exist_ok=True)\n",
    "# code_dir.mkdir(exist_ok=True)\n",
    "# config_dir.mkdir(exist_ok=True)\n",
    "# data_dir.mkdir(exist_ok=True)\n",
    "\n",
    "# config_path = str(config_dir / \"config.yaml\")\n",
    "# # wget.download(\"https://raw.githubusercontent.com/NVIDIA/NeMo/main/examples/asr/conf/conformer/conformer_ctc_char.yaml\", config_path)\n",
    "# # wget.download(\"https://raw.githubusercontent.com/NVIDIA/NeMo/main/examples/asr/asr_ctc/speech_to_text_ctc.py\", str(code_dir))"
   ]
  },
  {
   "cell_type": "markdown",
   "id": "a7bc7f51",
   "metadata": {
    "jp-MarkdownHeadingCollapsed": true,
    "tags": []
   },
   "source": [
    "### 2.1 Initialize SageMaker within Training Script\n",
    "\n",
    "We provide a helper function that we require to be imported and run at the top of the training script.\n",
    "\n",
    "This installs and setups DDP for you. It also alleviates having to import a custom container, and can leverage all of the SageMaker containers. Rather than running this cell, you could also manually do this in your script."
   ]
  },
  {
   "cell_type": "markdown",
   "id": "bfa2199e",
   "metadata": {
    "tags": []
   },
   "source": [
    "### 3. Setup the AN4 Dataset, upload data to S3\n",
    "\n",
    "We now download our training and validation data, uploading to S3 so that SageMaker can mount our data to the instance at runtime."
   ]
  },
  {
   "cell_type": "code",
   "execution_count": 10,
   "id": "511832f1-e283-41fa-8687-18d0769d7fd6",
   "metadata": {
    "tags": []
   },
   "outputs": [],
   "source": [
    "bucket = sagemaker_session.default_bucket()\n",
    "prefix = 'nemo-test'\n",
    "code_location = f's3://{bucket}/{prefix}/backup_codes'\n",
    "output_path = f's3://{bucket}/{prefix}/model_output' \n",
    "s3_log_path = f's3://{bucket}/{prefix}/logs'"
   ]
  },
  {
   "cell_type": "code",
   "execution_count": 11,
   "id": "25c1b6e1-237a-40c1-9fe9-eb25b92a1fe0",
   "metadata": {
    "tags": []
   },
   "outputs": [
    {
     "data": {
      "text/plain": [
       "'/home/ec2-user/SageMaker/2023/training-code/Nvidia-NeMo/nemo-on-sagemaker/NeMo-test/dataset'"
      ]
     },
     "execution_count": 11,
     "metadata": {},
     "output_type": "execute_result"
    }
   ],
   "source": [
    "data_dir = os.getcwd() + \"/dataset\"\n",
    "data_dir"
   ]
  },
  {
   "cell_type": "code",
   "execution_count": 12,
   "id": "35e8e871-3ee2-4ef7-b1fe-550f13d4f8f4",
   "metadata": {
    "tags": []
   },
   "outputs": [],
   "source": [
    "# !rm -rf $data_dir"
   ]
  },
  {
   "cell_type": "code",
   "execution_count": 13,
   "id": "37ec3930-ee41-42e6-bae5-74a4b39b8bad",
   "metadata": {
    "tags": []
   },
   "outputs": [],
   "source": [
    "def delete_sph(data_dir):\n",
    "    for (root, dirs, files) in os.walk(data_dir):\n",
    "        if len(files) > 0:\n",
    "            for file_name in files:\n",
    "                if file_name.endswith('.sph'):\n",
    "                    os.remove(root + '/' + file_name)"
   ]
  },
  {
   "cell_type": "code",
   "execution_count": 14,
   "id": "e1c5a60a",
   "metadata": {
    "tags": []
   },
   "outputs": [
    {
     "data": {
      "text/plain": [
       "'s3://sagemaker-us-west-2-322537213286/nemo_test'"
      ]
     },
     "execution_count": 14,
     "metadata": {},
     "output_type": "execute_result"
    }
   ],
   "source": [
    "prefix = \"nemo_test\"\n",
    "if not os.path.exists(data_dir):\n",
    "    os.makedirs(data_dir, exist_ok=True)\n",
    "    \n",
    "    from nemo.utils.notebook_utils import download_an4\n",
    "    download_an4(\n",
    "        data_dir=str(data_dir),\n",
    "        train_mount_dir=\"/opt/ml/input/data/training/\",\n",
    "        test_mount_dir=\"/opt/ml/input/data/testing/\",\n",
    "    )\n",
    "    !rm -rf $data_dir/an4_sphere.tar.gz\n",
    "    delete_sph(data_dir)\n",
    "    # Upload to the default bucket\n",
    "    \n",
    "    loc = sagemaker_session.upload_data(path=data_dir, bucket=bucket, key_prefix=prefix)\n",
    "else:\n",
    "    loc = f\"s3://{bucket}/{prefix}\"\n",
    "\n",
    "loc"
   ]
  },
  {
   "cell_type": "markdown",
   "id": "6321e3a9",
   "metadata": {
    "tags": []
   },
   "source": [
    "### 4. Configure the training job\n",
    "\n",
    "Now we configure the training job, by modifying the `config.yaml` file that is stored in our source code directory.\n",
    "We pass relative directory paths for the data based on the SageMaker mount directory on the remote instance."
   ]
  },
  {
   "cell_type": "code",
   "execution_count": 5,
   "id": "b0ca1af6-03a3-4b36-894b-618d45dda8d5",
   "metadata": {
    "tags": []
   },
   "outputs": [],
   "source": [
    "experiment_name = 'nemo-exp1'\n",
    "\n",
    "training_instance_type = 'ml.p3.16xlarge'\n",
    "# training_instance_type = 'local_gpu'\n",
    "training_instance_count = 2\n",
    "\n",
    "do_spot_training = False\n",
    "max_wait = None\n",
    "max_run = 1*60*60"
   ]
  },
  {
   "cell_type": "code",
   "execution_count": 6,
   "id": "4bb61640",
   "metadata": {
    "tags": []
   },
   "outputs": [],
   "source": [
    "config_path = \"an4_nemo_sagemaker/code/conf/config.yaml\"\n",
    "conf = OmegaConf.load(config_path)\n",
    "\n",
    "# Set Data Locations based on the mounted directory in the SageMaker instance\n",
    "conf.model.train_ds.manifest_filepath = \"/opt/ml/input/data/training/an4/train_manifest.json\"\n",
    "conf.model.validation_ds.manifest_filepath = \"/opt/ml/input/data/testing/an4/test_manifest.json\"\n",
    "# training setup\n",
    "conf.trainer.accelerator = \"gpu\"\n",
    "conf.trainer.num_nodes = training_instance_count\n",
    "# enable SageMaker DDP\n",
    "conf.trainer.strategy = \"smddp\"\n",
    "conf.trainer.max_epochs = 150\n",
    "\n",
    "# Output directory for our experiment within the SageMaker instance\n",
    "conf.exp_manager.exp_dir=\"/opt/ml/model/\"\n",
    "\n",
    "# Create a Small Variant of the Conformer Model\n",
    "conf.model.encoder.n_layers = 8\n",
    "conf.model.n_heads = 4\n",
    "conf.model.spec_augment.time_masks = 5\n",
    "\n",
    "# Set Optimizer parameters\n",
    "conf.model.optim.lr = 2.0 # by default we using Noam scheduling, the LR is a multiplier \n",
    "\n",
    "OmegaConf.save(conf, config_path)"
   ]
  },
  {
   "cell_type": "code",
   "execution_count": 7,
   "id": "703c548b-76b3-4a14-9766-5f5ad4177ccd",
   "metadata": {
    "tags": []
   },
   "outputs": [],
   "source": [
    "metric_definitions=[\n",
    "     {\"Name\": \"train_loss\", \"Regex\": \"loss.*=\\D*(.*?)$\"}]\n"
   ]
  },
  {
   "cell_type": "code",
   "execution_count": 8,
   "id": "e7695db6-ffcd-477a-bb2e-10300d13a3a8",
   "metadata": {
    "tags": []
   },
   "outputs": [
    {
     "ename": "NameError",
     "evalue": "name 'loc' is not defined",
     "output_type": "error",
     "traceback": [
      "\u001b[0;31m---------------------------------------------------------------------------\u001b[0m",
      "\u001b[0;31mNameError\u001b[0m                                 Traceback (most recent call last)",
      "\u001b[0;32m/tmp/ipykernel_21923/1499420582.py\u001b[0m in \u001b[0;36m<cell line: 5>\u001b[0;34m()\u001b[0m\n\u001b[1;32m     14\u001b[0m \u001b[0;32melse\u001b[0m\u001b[0;34m:\u001b[0m\u001b[0;34m\u001b[0m\u001b[0;34m\u001b[0m\u001b[0m\n\u001b[1;32m     15\u001b[0m     \u001b[0msagemaker_session\u001b[0m \u001b[0;34m=\u001b[0m \u001b[0msagemaker\u001b[0m\u001b[0;34m.\u001b[0m\u001b[0mSession\u001b[0m\u001b[0;34m(\u001b[0m\u001b[0;34m)\u001b[0m\u001b[0;34m\u001b[0m\u001b[0;34m\u001b[0m\u001b[0m\n\u001b[0;32m---> 16\u001b[0;31m     \u001b[0mdata_channels\u001b[0m \u001b[0;34m=\u001b[0m \u001b[0;34m{\u001b[0m\u001b[0;34m\"training\"\u001b[0m\u001b[0;34m:\u001b[0m \u001b[0mloc\u001b[0m\u001b[0;34m,\u001b[0m \u001b[0;34m\"testing\"\u001b[0m\u001b[0;34m:\u001b[0m \u001b[0mloc\u001b[0m\u001b[0;34m}\u001b[0m\u001b[0;34m\u001b[0m\u001b[0;34m\u001b[0m\u001b[0m\n\u001b[0m",
      "\u001b[0;31mNameError\u001b[0m: name 'loc' is not defined"
     ]
    }
   ],
   "source": [
    "kwargs = {}\n",
    "        \n",
    "checkpoint_s3_uri = None\n",
    "\n",
    "if training_instance_type =='local_gpu':\n",
    "    from sagemaker.local import LocalSession\n",
    "    import os\n",
    "    \n",
    "    sagemaker_session = LocalSession()\n",
    "    sagemaker_session.config = {'local': {'local_code': True}}\n",
    "    \n",
    "    data_channels = {\"training\": f\"file://{data_dir}\", \"testing\": f\"file://{data_dir}\"}\n",
    "    \n",
    "else:\n",
    "    sagemaker_session = sagemaker.Session()\n",
    "    data_channels = {\"training\": loc, \"testing\": loc}"
   ]
  },
  {
   "cell_type": "code",
   "execution_count": 116,
   "id": "87b558b6-7ebd-4632-a722-9a511fa09e23",
   "metadata": {
    "tags": []
   },
   "outputs": [
    {
     "name": "stdout",
     "output_type": "stream",
     "text": [
      "experiment_name : nemo-exp1 \n",
      "train_instance_type : ml.p3.16xlarge \n",
      "train_instance_count : 2\n"
     ]
    }
   ],
   "source": [
    "print(\"experiment_name : {} \\ntrain_instance_type : {} \\ntrain_instance_count : {}\".format(experiment_name, training_instance_type, training_instance_count))    "
   ]
  },
  {
   "cell_type": "markdown",
   "id": "959da702",
   "metadata": {
    "tags": []
   },
   "source": [
    "### 5. Run training on SageMaker\n",
    "\n",
    "Pass the path of the training and validation data on S3 + the output directory on S3 to the PyTorch estimator, and call fit with the appropriate bucket locations for the training and testing data."
   ]
  },
  {
   "cell_type": "code",
   "execution_count": 24,
   "id": "84150bf0-eef1-4b18-a190-5a9e058fa24f",
   "metadata": {
    "tags": []
   },
   "outputs": [],
   "source": [
    "image_uri='322537213286.dkr.ecr.us-west-2.amazonaws.com/pytorch-training:1.13.1-gpu-py39-nemo-main'"
   ]
  },
  {
   "cell_type": "code",
   "execution_count": 118,
   "id": "1d2e44e3",
   "metadata": {
    "tags": []
   },
   "outputs": [],
   "source": [
    "role = get_execution_role()\n",
    "\n",
    "est = PyTorch(\n",
    "    entry_point=\"speech_to_text_ctc.py\", # the script we want to run\n",
    "    source_dir=os.getcwd() + '/an4_nemo_sagemaker/code', # where our conf/script is\n",
    "    role=role,\n",
    "    instance_type=training_instance_type,\n",
    "    instance_count=training_instance_count,\n",
    "    image_uri=image_uri,\n",
    "    # framework_version=\"1.13.1\", # version of PyTorch\n",
    "    # py_version=\"py39\",\n",
    "    volume_size=1024,\n",
    "    code_location = code_location,\n",
    "    output_path=output_path,\n",
    "    disable_profiler=True,\n",
    "    debugger_hook_config=False,\n",
    "    hyperparameters={'config-path': 'conf'},\n",
    "    distribution={\"smdistributed\":{\"dataparallel\":{\"enabled\":True, \"fp16\": True}}},\n",
    "    sagemaker_session=sagemaker_session,\n",
    "    checkpoint_s3_uri=checkpoint_s3_uri,\n",
    "    metric_definitions=metric_definitions,\n",
    "    max_run=max_run,\n",
    "    **kwargs\n",
    ")"
   ]
  },
  {
   "cell_type": "code",
   "execution_count": 119,
   "id": "4fbbd2c6-e4c9-4009-8a6b-f3fa8a639639",
   "metadata": {
    "tags": []
   },
   "outputs": [
    {
     "data": {
      "text/plain": [
       "{'training': 's3://sagemaker-us-west-2-322537213286/nemo_test',\n",
       " 'testing': 's3://sagemaker-us-west-2-322537213286/nemo_test'}"
      ]
     },
     "execution_count": 119,
     "metadata": {},
     "output_type": "execute_result"
    }
   ],
   "source": [
    "data_channels"
   ]
  },
  {
   "cell_type": "code",
   "execution_count": 120,
   "id": "b81b5f9b-bfc3-438a-b1bf-035699d9354f",
   "metadata": {
    "tags": []
   },
   "outputs": [],
   "source": [
    "!sudo rm -rf ./an4_nemo_sagemaker/code/core*"
   ]
  },
  {
   "cell_type": "code",
   "execution_count": 121,
   "id": "c0c687f1-bca4-4132-bdc6-98be7781b5ed",
   "metadata": {
    "tags": []
   },
   "outputs": [
    {
     "name": "stderr",
     "output_type": "stream",
     "text": [
      "INFO:botocore.credentials:Found credentials from IAM Role: BaseNotebookInstanceEc2InstanceRole\n",
      "INFO:botocore.credentials:Found credentials from IAM Role: BaseNotebookInstanceEc2InstanceRole\n",
      "INFO:sagemaker:Creating training-job with name: nemo-exp1-0311-11111678533080\n"
     ]
    }
   ],
   "source": [
    "create_experiment(experiment_name)\n",
    "job_name = create_trial(experiment_name)\n",
    "\n",
    "if training_instance_type =='local_gpu':\n",
    "    est.checkpoint_s3_uri = None\n",
    "else:\n",
    "    est.checkpoint_s3_uri = f's3://{bucket}/checkpoints/'\n",
    "\n",
    "\n",
    "est.fit(\n",
    "    inputs=data_channels, \n",
    "    job_name=job_name,\n",
    "    experiment_config={\n",
    "      'TrialName': job_name,\n",
    "      'TrialComponentDisplayName': job_name,\n",
    "    },\n",
    "    wait=False,\n",
    ")"
   ]
  },
  {
   "cell_type": "code",
   "execution_count": 122,
   "id": "3387d3ba-144f-455a-bfdc-61b08c796c00",
   "metadata": {
    "tags": []
   },
   "outputs": [],
   "source": [
    "job_name=est.latest_training_job.name"
   ]
  },
  {
   "cell_type": "code",
   "execution_count": 123,
   "id": "2abd44bd-5b74-43ac-8e93-b56a6793e533",
   "metadata": {
    "tags": []
   },
   "outputs": [
    {
     "ename": "KeyboardInterrupt",
     "evalue": "",
     "output_type": "error",
     "traceback": [
      "\u001b[0;31m---------------------------------------------------------------------------\u001b[0m",
      "\u001b[0;31mKeyboardInterrupt\u001b[0m                         Traceback (most recent call last)",
      "\u001b[0;32m/tmp/ipykernel_66617/2182596263.py\u001b[0m in \u001b[0;36m<cell line: 2>\u001b[0;34m()\u001b[0m\n\u001b[1;32m      1\u001b[0m \u001b[0msagemaker_session\u001b[0m \u001b[0;34m=\u001b[0m \u001b[0msagemaker\u001b[0m\u001b[0;34m.\u001b[0m\u001b[0mSession\u001b[0m\u001b[0;34m(\u001b[0m\u001b[0;34m)\u001b[0m\u001b[0;34m\u001b[0m\u001b[0;34m\u001b[0m\u001b[0m\n\u001b[0;32m----> 2\u001b[0;31m \u001b[0msagemaker_session\u001b[0m\u001b[0;34m.\u001b[0m\u001b[0mlogs_for_job\u001b[0m\u001b[0;34m(\u001b[0m\u001b[0mjob_name\u001b[0m\u001b[0;34m=\u001b[0m\u001b[0mjob_name\u001b[0m\u001b[0;34m,\u001b[0m \u001b[0mwait\u001b[0m\u001b[0;34m=\u001b[0m\u001b[0;32mTrue\u001b[0m\u001b[0;34m)\u001b[0m\u001b[0;34m\u001b[0m\u001b[0;34m\u001b[0m\u001b[0m\n\u001b[0m",
      "\u001b[0;32m~/anaconda3/envs/pytorch_p39/lib/python3.9/site-packages/sagemaker/session.py\u001b[0m in \u001b[0;36mlogs_for_job\u001b[0;34m(self, job_name, wait, poll, log_type)\u001b[0m\n\u001b[1;32m   4114\u001b[0m         \"\"\"\n\u001b[1;32m   4115\u001b[0m \u001b[0;34m\u001b[0m\u001b[0m\n\u001b[0;32m-> 4116\u001b[0;31m         \u001b[0mdescription\u001b[0m \u001b[0;34m=\u001b[0m \u001b[0m_wait_until\u001b[0m\u001b[0;34m(\u001b[0m\u001b[0;32mlambda\u001b[0m\u001b[0;34m:\u001b[0m \u001b[0mself\u001b[0m\u001b[0;34m.\u001b[0m\u001b[0mdescribe_training_job\u001b[0m\u001b[0;34m(\u001b[0m\u001b[0mjob_name\u001b[0m\u001b[0;34m)\u001b[0m\u001b[0;34m,\u001b[0m \u001b[0mpoll\u001b[0m\u001b[0;34m)\u001b[0m\u001b[0;34m\u001b[0m\u001b[0;34m\u001b[0m\u001b[0m\n\u001b[0m\u001b[1;32m   4117\u001b[0m         \u001b[0mprint\u001b[0m\u001b[0;34m(\u001b[0m\u001b[0msecondary_training_status_message\u001b[0m\u001b[0;34m(\u001b[0m\u001b[0mdescription\u001b[0m\u001b[0;34m,\u001b[0m \u001b[0;32mNone\u001b[0m\u001b[0;34m)\u001b[0m\u001b[0;34m,\u001b[0m \u001b[0mend\u001b[0m\u001b[0;34m=\u001b[0m\u001b[0;34m\"\"\u001b[0m\u001b[0;34m)\u001b[0m\u001b[0;34m\u001b[0m\u001b[0;34m\u001b[0m\u001b[0m\n\u001b[1;32m   4118\u001b[0m \u001b[0;34m\u001b[0m\u001b[0m\n",
      "\u001b[0;32m~/anaconda3/envs/pytorch_p39/lib/python3.9/site-packages/sagemaker/session.py\u001b[0m in \u001b[0;36m_wait_until\u001b[0;34m(callable_fn, poll)\u001b[0m\n\u001b[1;32m   5863\u001b[0m         \u001b[0;32mtry\u001b[0m\u001b[0;34m:\u001b[0m\u001b[0;34m\u001b[0m\u001b[0;34m\u001b[0m\u001b[0m\n\u001b[1;32m   5864\u001b[0m             \u001b[0melapsed_time\u001b[0m \u001b[0;34m+=\u001b[0m \u001b[0mpoll\u001b[0m\u001b[0;34m\u001b[0m\u001b[0;34m\u001b[0m\u001b[0m\n\u001b[0;32m-> 5865\u001b[0;31m             \u001b[0mtime\u001b[0m\u001b[0;34m.\u001b[0m\u001b[0msleep\u001b[0m\u001b[0;34m(\u001b[0m\u001b[0mpoll\u001b[0m\u001b[0;34m)\u001b[0m\u001b[0;34m\u001b[0m\u001b[0;34m\u001b[0m\u001b[0m\n\u001b[0m\u001b[1;32m   5866\u001b[0m             \u001b[0mresult\u001b[0m \u001b[0;34m=\u001b[0m \u001b[0mcallable_fn\u001b[0m\u001b[0;34m(\u001b[0m\u001b[0;34m)\u001b[0m\u001b[0;34m\u001b[0m\u001b[0;34m\u001b[0m\u001b[0m\n\u001b[1;32m   5867\u001b[0m         \u001b[0;32mexcept\u001b[0m \u001b[0mbotocore\u001b[0m\u001b[0;34m.\u001b[0m\u001b[0mexceptions\u001b[0m\u001b[0;34m.\u001b[0m\u001b[0mClientError\u001b[0m \u001b[0;32mas\u001b[0m \u001b[0merr\u001b[0m\u001b[0;34m:\u001b[0m\u001b[0;34m\u001b[0m\u001b[0;34m\u001b[0m\u001b[0m\n",
      "\u001b[0;31mKeyboardInterrupt\u001b[0m: "
     ]
    }
   ],
   "source": [
    "sagemaker_session = sagemaker.Session()\n",
    "sagemaker_session.logs_for_job(job_name=job_name, wait=True)"
   ]
  },
  {
   "cell_type": "markdown",
   "id": "2be67b8e",
   "metadata": {},
   "source": [
    "### 6. Download model, (Optional) Tensorboard Logs\n",
    "\n",
    "SageMaker stores our models/logs within a tar file after training has finished. These can be obtained from S3 like below.\n",
    "\n",
    "We also visualize the training logs. We suggest using an external logger (such as W&B) to track training progress during the run."
   ]
  },
  {
   "cell_type": "code",
   "execution_count": 48,
   "id": "81cd58d3",
   "metadata": {
    "tags": []
   },
   "outputs": [
    {
     "name": "stderr",
     "output_type": "stream",
     "text": [
      "INFO:botocore.credentials:Found credentials from IAM Role: BaseNotebookInstanceEc2InstanceRole\n"
     ]
    }
   ],
   "source": [
    "model_data = 's3://sagemaker-us-west-2-322537213286/nemo-test/model_output/nemo-exp1-0311-11111678533080/output/model.tar.gz'\n",
    "\n",
    "key = model_data.replace(\"s3://\" + bucket + '/', '')\n",
    "\n",
    "sagemaker_session.boto_session.client(\"s3\", region_name=region_name).download_file(\n",
    "    Bucket=bucket, Key=key, Filename='model.tar.gz',\n",
    ")\n",
    "\n",
    "!rm -rf model && mkdir model && tar -xzvf model.tar.gz -C model\n",
    "model_dir = './model'"
   ]
  },
  {
   "cell_type": "markdown",
   "id": "a09523d8-7abc-4f98-9c99-e0425059348c",
   "metadata": {
    "tags": []
   },
   "source": [
    "## Evaluation"
   ]
  },
  {
   "cell_type": "code",
   "execution_count": 54,
   "id": "c92bd09d-fef7-4f3f-aa56-d8e3c30bd7f4",
   "metadata": {},
   "outputs": [],
   "source": [
    "from sagemaker.processing import FrameworkProcessor\n",
    "from sagemaker.processing import ProcessingInput, ProcessingOutput"
   ]
  },
  {
   "cell_type": "code",
   "execution_count": 98,
   "id": "4361a8a8-2620-440c-937f-f1e77a39b4d4",
   "metadata": {
    "tags": []
   },
   "outputs": [],
   "source": [
    "evaluation_instance_type = 'ml.g4dn.xlarge'\n",
    "# evaluation_instance_type = 'local_gpu'"
   ]
  },
  {
   "cell_type": "code",
   "execution_count": 99,
   "id": "88816d82-2020-4046-9fbe-7423a2d077fb",
   "metadata": {
    "tags": []
   },
   "outputs": [],
   "source": [
    "if evaluation_instance_type =='local_gpu':\n",
    "    from sagemaker.local import LocalSession\n",
    "    import os\n",
    "    \n",
    "    sagemaker_session = LocalSession()\n",
    "    sagemaker_session.config = {'local': {'local_code': True}}\n",
    "\n",
    "    # modelartifact_s3_uri = f\"file://{os.getcwd()}/trained_model\"\n",
    "    # manifest_s3_uri = f\"file://{os.getcwd()}/dataset/an4/test_manifest.json\"\n",
    "    # wav_s3_uri = f\"file://{os.getcwd()}/dataset/an4/wav\"\n",
    "    # evaloutput_s3_uri = f\"file://{os.getcwd()}/output/eval_output\"\n",
    "    \n",
    "else:\n",
    "    sagemaker_session = sagemaker.Session()\n",
    "    \n",
    "\n",
    "modelartifact_s3_uri = f\"s3://{bucket}/nemo-test/model_output/nemo-exp1-0311-11111678533080/output\"\n",
    "manifest_s3_uri = f\"s3://{bucket}/nemo_test/an4/manifest/\"\n",
    "wav_s3_uri = f\"s3://{bucket}/nemo_test/an4/wav/\"\n",
    "evaloutput_s3_uri = f\"s3://{bucket}/nemo_test/output/eval_output\""
   ]
  },
  {
   "cell_type": "code",
   "execution_count": 100,
   "id": "adef40ac-e22c-4e33-a0ec-7a5db2783cb5",
   "metadata": {
    "tags": []
   },
   "outputs": [],
   "source": [
    "eval_processor = FrameworkProcessor(\n",
    "    PyTorch,\n",
    "    framework_version=\"1.13.1\",\n",
    "    role=role, \n",
    "    image_uri=image_uri,\n",
    "    instance_count=1,\n",
    "    instance_type=evaluation_instance_type,\n",
    "    code_location=code_location,\n",
    "    env={\n",
    "        'MANIFEST_PATH': '/opt/ml/input/data/testing/an4/wav', \n",
    "        'WAV_PATH' : '/opt/ml/processing/input/wav'\n",
    "        }\n",
    "    )"
   ]
  },
  {
   "cell_type": "code",
   "execution_count": 101,
   "id": "ba29db9c-434a-4de9-b220-b647227263fd",
   "metadata": {
    "tags": []
   },
   "outputs": [
    {
     "name": "stderr",
     "output_type": "stream",
     "text": [
      "INFO:botocore.credentials:Found credentials from IAM Role: BaseNotebookInstanceEc2InstanceRole\n",
      "INFO:botocore.credentials:Found credentials from IAM Role: BaseNotebookInstanceEc2InstanceRole\n",
      "INFO:sagemaker.processing:Uploaded /home/ec2-user/SageMaker/2023/training-code/Nvidia-NeMo/nemo-on-sagemaker/NeMo-test/an4_nemo_sagemaker/code/ to s3://sagemaker-us-west-2-322537213286/nemo-test/backup_codes/nemo-exp1-0313-03551678679707/source/sourcedir.tar.gz\n",
      "INFO:sagemaker.processing:runproc.sh uploaded to s3://sagemaker-us-west-2-322537213286/nemo-test/backup_codes/nemo-exp1-0313-03551678679707/source/runproc.sh\n",
      "INFO:sagemaker:Creating processing-job with name nemo-exp1-0313-03551678679707\n"
     ]
    }
   ],
   "source": [
    "create_experiment(experiment_name)\n",
    "job_name = create_trial(experiment_name)\n",
    "\n",
    "eval_processor.run(\n",
    "    code=\"evaluate.py\",\n",
    "    source_dir=os.getcwd() + \"/an4_nemo_sagemaker/code/\",\n",
    "    inputs=[\n",
    "        ProcessingInput(source=modelartifact_s3_uri, input_name=\"model_artifact\", destination=\"/opt/ml/processing/model\"),\n",
    "        ProcessingInput(source=manifest_s3_uri, input_name=\"test_manifest_file\", destination=\"/opt/ml/processing/input/manifest\"),\n",
    "        ProcessingInput(source=wav_s3_uri, input_name=\"wav_dataset\", destination=\"/opt/ml/processing/input/wav\"),\n",
    "    ],\n",
    "    outputs=[\n",
    "        ProcessingOutput(source=\"/opt/ml/processing/evaluation\", destination=evaloutput_s3_uri),\n",
    "    ],\n",
    "    # arguments=[\"--img\", \"640\", \"--conf\", \"0.25\", \"--source\", \"/opt/ml/processing/input\", \"--weights\", \"/opt/ml/processing/weights/model.tar.gz\", \"--project\", \"/opt/ml/processing/output\"],\n",
    "    job_name=job_name,\n",
    "    experiment_config={\n",
    "      'TrialName': job_name,\n",
    "      'TrialComponentDisplayName': job_name,\n",
    "    },\n",
    "    wait=False\n",
    ")"
   ]
  },
  {
   "cell_type": "code",
   "execution_count": 102,
   "id": "3209dadb-1ebe-4693-998d-9883a2760dee",
   "metadata": {
    "tags": []
   },
   "outputs": [
    {
     "name": "stdout",
     "output_type": "stream",
     "text": [
      ".......................\u001b[34mWARNING: Skipping typing as it is not installed.\u001b[0m\n",
      "\u001b[34mWARNING: Running pip as the 'root' user can result in broken permissions and conflicting behaviour with the system package manager. It is recommended to use a virtual environment instead: https://pip.pypa.io/warnings/venv\u001b[0m\n",
      "\u001b[34mWARNING: Running pip as the 'root' user can result in broken permissions and conflicting behaviour with the system package manager. It is recommended to use a virtual environment instead: https://pip.pypa.io/warnings/venv\u001b[0m\n",
      "\u001b[34m[NeMo W 2023-03-13 04:00:44 optimizers:66] Could not import distributed_fused_adam optimizer from Apex\u001b[0m\n",
      "\u001b[34m[NeMo W 2023-03-13 04:00:46 experimental:27] Module <class 'nemo.collections.asr.modules.audio_modules.SpectrogramToMultichannelFeatures'> is experimental, not ready for production and is not fully supported. Use at your own risk.\u001b[0m\n",
      "\u001b[34mcheckpoint_path : trained_model/Conformer-CTC-Char1/2023-03-11_11-39-37/checkpoints/Conformer-CTC-Char1--val_wer=0.6120-epoch=150-last.ckpt\u001b[0m\n",
      "\u001b[34m[NeMo W 2023-03-13 04:00:55 modelPT:161] If you intend to do training or fine-tuning, please call the ModelPT.setup_training_data() method and provide a valid configuration file to setup the train data loader.\n",
      "    Train config : \n",
      "    manifest_filepath: /opt/ml/input/data/training/an4/train_manifest.json\n",
      "    labels:\n",
      "    - ' '\n",
      "    - a\n",
      "    - b\n",
      "    - c\n",
      "    - d\n",
      "    - e\n",
      "    - f\n",
      "    - g\n",
      "    - h\n",
      "    - i\n",
      "    - j\n",
      "    - k\n",
      "    - l\n",
      "    - m\n",
      "    - 'n'\n",
      "    - o\n",
      "    - p\n",
      "    - q\n",
      "    - r\n",
      "    - s\n",
      "    - t\n",
      "    - u\n",
      "    - v\n",
      "    - w\n",
      "    - x\n",
      "    - 'y'\n",
      "    - z\n",
      "    - ''''\n",
      "    sample_rate: 16000\n",
      "    batch_size: 16\n",
      "    shuffle: true\n",
      "    num_workers: 8\n",
      "    pin_memory: true\n",
      "    trim_silence: false\n",
      "    max_duration: 16.7\n",
      "    min_duration: 0.1\n",
      "    is_tarred: false\n",
      "    tarred_audio_filepaths: null\n",
      "    shuffle_n: 2048\n",
      "    bucketing_strategy: synced_randomized\n",
      "    bucketing_batch_size: null\n",
      "    \u001b[0m\n",
      "\u001b[34m[NeMo W 2023-03-13 04:00:55 modelPT:168] If you intend to do validation, please call the ModelPT.setup_validation_data() or ModelPT.setup_multiple_validation_data() method and provide a valid configuration file to setup the validation data loader(s). \n",
      "    Validation config : \n",
      "    manifest_filepath: /opt/ml/input/data/testing/an4/test_manifest.json\n",
      "    labels:\n",
      "    - ' '\n",
      "    - a\n",
      "    - b\n",
      "    - c\n",
      "    - d\n",
      "    - e\n",
      "    - f\n",
      "    - g\n",
      "    - h\n",
      "    - i\n",
      "    - j\n",
      "    - k\n",
      "    - l\n",
      "    - m\n",
      "    - 'n'\n",
      "    - o\n",
      "    - p\n",
      "    - q\n",
      "    - r\n",
      "    - s\n",
      "    - t\n",
      "    - u\n",
      "    - v\n",
      "    - w\n",
      "    - x\n",
      "    - 'y'\n",
      "    - z\n",
      "    - ''''\n",
      "    sample_rate: 16000\n",
      "    batch_size: 16\n",
      "    shuffle: false\n",
      "    num_workers: 8\n",
      "    pin_memory: true\n",
      "    \u001b[0m\n",
      "\u001b[34m[NeMo W 2023-03-13 04:00:55 modelPT:174] Please call the ModelPT.setup_test_data() or ModelPT.setup_multiple_test_data() method and provide a valid configuration file to setup the test data loader(s).\n",
      "    Test config : \n",
      "    manifest_filepath: null\n",
      "    labels:\n",
      "    - ' '\n",
      "    - a\n",
      "    - b\n",
      "    - c\n",
      "    - d\n",
      "    - e\n",
      "    - f\n",
      "    - g\n",
      "    - h\n",
      "    - i\n",
      "    - j\n",
      "    - k\n",
      "    - l\n",
      "    - m\n",
      "    - 'n'\n",
      "    - o\n",
      "    - p\n",
      "    - q\n",
      "    - r\n",
      "    - s\n",
      "    - t\n",
      "    - u\n",
      "    - v\n",
      "    - w\n",
      "    - x\n",
      "    - 'y'\n",
      "    - z\n",
      "    - ''''\n",
      "    sample_rate: 16000\n",
      "    batch_size: 16\n",
      "    shuffle: false\n",
      "    num_workers: 8\n",
      "    pin_memory: true\n",
      "    \u001b[0m\n",
      "\u001b[34m[NeMo I 2023-03-13 04:00:55 features:286] PADDING: 0\u001b[0m\n",
      "\u001b[34m[NeMo I 2023-03-13 04:00:55 ctc_models:64] \n",
      "    Replacing placeholder number of classes (-1) with actual number of classes - 28\u001b[0m\n",
      "\u001b[34m[NeMo I 2023-03-13 04:00:55 conv_asr:428] num_classes of ConvASRDecoder is set to the size of the vocabulary: 28.\u001b[0m\n",
      "\u001b[34m#015Reading manifest data: 0it [00:00, ?it/s]#015Reading manifest data: 130it [00:00, 44507.35it/s]\u001b[0m\n",
      "\u001b[34m#015Applying change_dir:   0%|          | 0/130 [00:00<?, ?it/s]#015Applying change_dir: 100%|██████████| 130/130 [00:00<00:00, 801852.24it/s]\u001b[0m\n",
      "\u001b[34mFinished processing manifest !\u001b[0m\n",
      "\u001b[34m#015Writing manifest data:   0%|          | 0/130 [00:00<?, ?it/s]#015Writing manifest data: 100%|██████████| 130/130 [00:00<00:00, 211259.02it/s]\u001b[0m\n",
      "\u001b[34mFinished writing manifest: /opt/ml/processing/evaluation/eval_test_manifest_processed.json\u001b[0m\n",
      "\u001b[34m[NeMo I 2023-03-13 04:00:57 collections:193] Dataset loaded with 130 files totalling 0.10 hours\u001b[0m\n",
      "\u001b[34m[NeMo I 2023-03-13 04:00:57 collections:194] 0 files were filtered totalling 0.00 hours\u001b[0m\n",
      "\u001b[34m[NeMo W 2023-03-13 04:00:57 nemo_logging:349] /opt/conda/lib/python3.9/site-packages/torch/utils/data/dataloader.py:556: UserWarning: This DataLoader will create 8 worker processes in total. Our suggested max number of worker in current system is 4, which is smaller than what this DataLoader is going to create. Please be aware that excessive worker creation might get DataLoader running slow or even freeze, lower the worker number to avoid potential slowness/freeze if necessary.\n",
      "      warnings.warn(_create_warning_msg(\n",
      "    \u001b[0m\n",
      "\u001b[34m[2023-03-13 04:00:57.780: W smdistributed/modelparallel/torch/nn/predefined_hooks.py:78] Found unsupported HuggingFace version 4.27.0.dev0 for automated tensor parallelism. HuggingFace modules will not be automatically distributed. You can use smp.tp_register_with_module API to register desired modules for tensor parallelism, or directly instantiate an smp.nn.DistributedModule. Supported HuggingFace transformers versions for automated tensor parallelism: ['4.17.0', '4.20.1', '4.21.0']\u001b[0m\n",
      "\u001b[34mUsing NamedTuple = typing._NamedTuple instead.\u001b[0m\n",
      "\u001b[34m[2023-03-13 04:00:57.810 ip-10-0-97-50.us-west-2.compute.internal:15 INFO utils.py:28] RULE_JOB_STOP_SIGNAL_FILENAME: None\u001b[0m\n",
      "\u001b[34m[2023-03-13 04:00:57.831 ip-10-0-97-50.us-west-2.compute.internal:15 INFO profiler_config_parser.py:111] Unable to find config at /opt/ml/input/config/profilerconfig.json. Profiler is disabled.\u001b[0m\n",
      "\u001b[34m[NeMo I 2023-03-13 04:00:59 wer:1168] \n",
      "    \u001b[0m\n",
      "\u001b[34m[NeMo I 2023-03-13 04:00:59 wer:1169] reference:rubout g m e f three nine\u001b[0m\n",
      "\u001b[34m[NeMo I 2023-03-13 04:00:59 wer:1170] predicted:rubout n   she yni   k\u001b[0m\n",
      "\u001b[34m[NeMo I 2023-03-13 04:01:00 wer:1168] \n",
      "    \u001b[0m\n",
      "\u001b[34m[NeMo I 2023-03-13 04:01:00 wer:1169] reference:j p e g four\u001b[0m\n",
      "\u001b[34m[NeMo I 2023-03-13 04:01:00 wer:1170] predicted: p  g fortf k\u001b[0m\n",
      "\u001b[34m[NeMo I 2023-03-13 04:01:00 wer:1168] \n",
      "    \u001b[0m\n",
      "\u001b[34m[NeMo I 2023-03-13 04:01:00 wer:1169] reference:v a n e s s a\u001b[0m\n",
      "\u001b[34m[NeMo I 2023-03-13 04:01:00 wer:1170] predicted:    sfx o k\u001b[0m\n",
      "\u001b[34m[NeMo I 2023-03-13 04:01:00 wer:1168] \n",
      "    \u001b[0m\n",
      "\u001b[34m[NeMo I 2023-03-13 04:01:00 wer:1169] reference:p i t t s b u r g h\u001b[0m\n",
      "\u001b[34m[NeMo I 2023-03-13 04:01:00 wer:1170] predicted:p i t t ss b u r g h k k\u001b[0m\n",
      "\u001b[34m[NeMo I 2023-03-13 04:01:00 wer:1168] \n",
      "    \u001b[0m\n",
      "\u001b[34m[NeMo I 2023-03-13 04:01:00 wer:1169] reference:march seven nineteen sixty seven\u001b[0m\n",
      "\u001b[34m[NeMo I 2023-03-13 04:01:00 wer:1170] predicted:rt seen nine teentn sixty sven  k\u001b[0m\n",
      "\u001b[34m[NeMo I 2023-03-13 04:01:00 wer:1168] \n",
      "    \u001b[0m\n",
      "\u001b[34m[NeMo I 2023-03-13 04:01:00 wer:1169] reference:rubout c b w x v four\u001b[0m\n",
      "\u001b[34m[NeMo I 2023-03-13 04:01:00 wer:1170] predicted:rubout c bd w   for tw\u001b[0m\n",
      "\u001b[34m[NeMo I 2023-03-13 04:01:00 wer:1168] \n",
      "    \u001b[0m\n",
      "\u001b[34m[NeMo I 2023-03-13 04:01:00 wer:1169] reference:m y e r s\u001b[0m\n",
      "\u001b[34m[NeMo I 2023-03-13 04:01:00 wer:1170] predicted:m e r s n  fk\u001b[0m\n",
      "\u001b[34m[NeMo I 2023-03-13 04:01:00 wer:1168] \n",
      "    \u001b[0m\n",
      "\u001b[34m[NeMo I 2023-03-13 04:01:00 wer:1169] reference:p h i n n e y\u001b[0m\n",
      "\u001b[34m[NeMo I 2023-03-13 04:01:00 wer:1170] predicted:p a  n n o r k\u001b[0m\n",
      "\u001b[34m[NeMo I 2023-03-13 04:01:00 wer:1168] \n",
      "    \u001b[0m\n",
      "\u001b[34m[NeMo I 2023-03-13 04:01:00 wer:1169] reference:four one two two six eight four one four two\u001b[0m\n",
      "\u001b[34m[NeMo I 2023-03-13 04:01:00 wer:1170] predicted:four one weo two six eghh fororne fourt wo\u001b[0m\n",
      "\u001b[34mWriting out evaluation report with wer: 0.758085\u001b[0m\n",
      "\n"
     ]
    }
   ],
   "source": [
    "eval_processor.latest_job.wait()"
   ]
  },
  {
   "cell_type": "code",
   "execution_count": 427,
   "id": "456787a6-dff1-460c-b9d7-deeeaec4f55b",
   "metadata": {
    "tags": []
   },
   "outputs": [],
   "source": [
    "from sagemaker.pytorch.model import PyTorchModel"
   ]
  },
  {
   "cell_type": "code",
   "execution_count": 428,
   "id": "3cd94f8b-29a5-4f09-868b-051bdf0241c5",
   "metadata": {
    "tags": []
   },
   "outputs": [],
   "source": [
    "inf_image_uri = '322537213286.dkr.ecr.us-west-2.amazonaws.com/pytorch-inference:1.13.1-gpu-py39-nemo-main'\n",
    "# inf_image_uri = '322537213286.dkr.ecr.us-west-2.amazonaws.com/pytorch-inference:1.12.1-gpu-py38-nemo-main'\n",
    "local_model_path = os.getcwd() + '/model'"
   ]
  },
  {
   "cell_type": "code",
   "execution_count": 455,
   "id": "844cb52e-0800-4e58-8e3d-8a31fe600440",
   "metadata": {
    "tags": []
   },
   "outputs": [],
   "source": [
    "inference_instance_type = 'ml.g4dn.xlarge'\n",
    "# inference_instance_type = 'local_gpu'\n",
    "inference_instance_count = 1"
   ]
  },
  {
   "cell_type": "code",
   "execution_count": 456,
   "id": "30541489-2c94-42b6-82b9-41d76c1bb818",
   "metadata": {
    "tags": []
   },
   "outputs": [],
   "source": [
    "if inference_instance_type =='local_gpu':\n",
    "    from sagemaker.local import LocalSession\n",
    "    import os\n",
    "    \n",
    "    sagemaker_session = LocalSession()\n",
    "    sagemaker_session.config = {'local': {'local_code': True}}\n",
    "\n",
    "else:\n",
    "    sagemaker_session = sagemaker.Session()"
   ]
  },
  {
   "cell_type": "code",
   "execution_count": 457,
   "id": "eb624e4d-f363-4050-b4c0-7078e54fc32c",
   "metadata": {
    "tags": []
   },
   "outputs": [],
   "source": [
    "model = PyTorchModel(\n",
    "    entry_point='predictor.py',\n",
    "    source_dir=os.getcwd() + '/an4_nemo_sagemaker/inf_code',\n",
    "    code_location=code_location,\n",
    "    model_data=model_data,\n",
    "    role=role,\n",
    "    image_uri=inf_image_uri,\n",
    "    # framework_version=\"1.13.1\",\n",
    "    # py_version=\"py39\",\n",
    "    sagemaker_session=sagemaker_session\n",
    ")"
   ]
  },
  {
   "cell_type": "code",
   "execution_count": 458,
   "id": "c3a0377d-b0f2-4dc5-b655-21c84cd7e63a",
   "metadata": {
    "tags": []
   },
   "outputs": [
    {
     "name": "stderr",
     "output_type": "stream",
     "text": [
      "INFO:sagemaker:Creating model with name: pytorch-inference-2023-03-14-12-05-52-171\n",
      "INFO:sagemaker:Creating endpoint-config with name pytorch-inference-2023-03-14-12-05-52-850\n",
      "INFO:sagemaker:Creating endpoint with name pytorch-inference-2023-03-14-12-05-52-850\n"
     ]
    },
    {
     "name": "stdout",
     "output_type": "stream",
     "text": [
      "----------!"
     ]
    }
   ],
   "source": [
    "predictor = model.deploy(\n",
    "    initial_instance_count=1,\n",
    "    instance_type=inference_instance_type\n",
    ")"
   ]
  },
  {
   "cell_type": "code",
   "execution_count": 459,
   "id": "3a02b974-ee54-4628-bb29-a299a751996b",
   "metadata": {
    "tags": []
   },
   "outputs": [],
   "source": [
    "paths2audio_files = f\"{os.getcwd()}/dataset/an4/wav/an4test_clstk/fcaw/an406-fcaw-b.wav\""
   ]
  },
  {
   "cell_type": "code",
   "execution_count": 460,
   "id": "b46018b0-9a42-420c-8fea-20d666e0b183",
   "metadata": {
    "tags": []
   },
   "outputs": [],
   "source": [
    "from sagemaker.serializers import CSVSerializer, NumpySerializer, DataSerializer\n",
    "from sagemaker.deserializers import JSONDeserializer\n",
    "predictor.serializer = DataSerializer()\n",
    "# predictor.deserializer = JSONDeserializer() "
   ]
  },
  {
   "cell_type": "code",
   "execution_count": 464,
   "id": "85b97331-b957-4729-a602-d443e58a598d",
   "metadata": {
    "tags": []
   },
   "outputs": [
    {
     "data": {
      "text/plain": [
       "array({'result': ['rubout n   she yn']}, dtype=object)"
      ]
     },
     "execution_count": 464,
     "metadata": {},
     "output_type": "execute_result"
    }
   ],
   "source": [
    "predictor.predict(paths2audio_files)"
   ]
  },
  {
   "cell_type": "code",
   "execution_count": 454,
   "id": "aabbc546-d5b0-46c7-a93a-44caca156c16",
   "metadata": {},
   "outputs": [
    {
     "name": "stderr",
     "output_type": "stream",
     "text": [
      "INFO:sagemaker:Deleting endpoint configuration with name: pytorch-inference-2023-03-14-11-53-48-681\n",
      "INFO:sagemaker:Deleting endpoint with name: pytorch-inference-2023-03-14-11-53-48-681\n"
     ]
    }
   ],
   "source": [
    "predictor.delete_endpoint()"
   ]
  },
  {
   "cell_type": "code",
   "execution_count": null,
   "id": "96960364-729f-4c5f-9447-f404f4241ae1",
   "metadata": {},
   "outputs": [],
   "source": []
  }
 ],
 "metadata": {
  "kernelspec": {
   "display_name": "conda_pytorch_p39",
   "language": "python",
   "name": "conda_pytorch_p39"
  },
  "language_info": {
   "codemirror_mode": {
    "name": "ipython",
    "version": 3
   },
   "file_extension": ".py",
   "mimetype": "text/x-python",
   "name": "python",
   "nbconvert_exporter": "python",
   "pygments_lexer": "ipython3",
   "version": "3.9.15"
  }
 },
 "nbformat": 4,
 "nbformat_minor": 5
}
