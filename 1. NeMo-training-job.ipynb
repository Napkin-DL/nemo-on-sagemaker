{
 "cells": [
  {
   "cell_type": "markdown",
   "metadata": {},
   "source": [
    "# Training-job-for-SageMaker"
   ]
  },
  {
   "cell_type": "markdown",
   "metadata": {},
   "source": [
    "**Note**: To run this example training job, you must be in `us-west-2`. The preview version of container images are available only in those two regions.\n",
    "\n",
    "## Install and Upgrade Libraries\n",
    "\n",
    "The SageMaker model parallelism library's tensor parallelism feature requires the SageMaker Python SDK and the SageMaker Experiments library. Run the following cell to install or upgrade the libraries."
   ]
  },
  {
   "cell_type": "markdown",
   "metadata": {},
   "source": [
    "**Note:** To finish applying the changes, you must restart the kernel."
   ]
  },
  {
   "cell_type": "markdown",
   "metadata": {},
   "source": [
    "Import and check if the SageMaker Python SDK version is successfully set to the latest version"
   ]
  },
  {
   "cell_type": "code",
   "execution_count": 2,
   "metadata": {
    "tags": []
   },
   "outputs": [],
   "source": [
    "install_needed = True  # should only be True once\n",
    "# install_needed = False"
   ]
  },
  {
   "cell_type": "code",
   "execution_count": 3,
   "metadata": {
    "tags": []
   },
   "outputs": [
    {
     "name": "stdout",
     "output_type": "stream",
     "text": [
      "Already revised\n"
     ]
    }
   ],
   "source": [
    "%%bash\n",
    "#!/bin/bash\n",
    "\n",
    "DAEMON_PATH=\"/etc/docker\"\n",
    "MEMORY_SIZE=10G\n",
    "\n",
    "FLAG=$(cat $DAEMON_PATH/daemon.json | jq 'has(\"data-root\")')\n",
    "# echo $FLAG\n",
    "\n",
    "if [ \"$FLAG\" == true ]; then\n",
    "    echo \"Already revised\"\n",
    "else\n",
    "    echo \"Add data-root and default-shm-size=$MEMORY_SIZE\"\n",
    "    sudo cp $DAEMON_PATH/daemon.json $DAEMON_PATH/daemon.json.bak\n",
    "    sudo cat $DAEMON_PATH/daemon.json.bak | jq '. += {\"data-root\":\"/home/ec2-user/SageMaker/.container/docker\",\"default-shm-size\":\"'$MEMORY_SIZE'\"}' | sudo tee $DAEMON_PATH/daemon.json > /dev/null\n",
    "    sudo service docker restart\n",
    "    echo \"Docker Restart\"\n",
    "fi"
   ]
  },
  {
   "cell_type": "code",
   "execution_count": 4,
   "metadata": {
    "tags": []
   },
   "outputs": [
    {
     "name": "stdout",
     "output_type": "stream",
     "text": [
      "installing deps and restarting kernel\n",
      "Looking in indexes: https://pypi.org/simple, https://pip.repos.neuron.amazonaws.com\n",
      "Requirement already satisfied: smdebug in /home/ec2-user/anaconda3/envs/pytorch_p39/lib/python3.9/site-packages (1.0.12)\n",
      "Requirement already satisfied: sagemaker-experiments in /home/ec2-user/anaconda3/envs/pytorch_p39/lib/python3.9/site-packages (0.1.43)\n",
      "Requirement already satisfied: pyinstrument==3.4.2 in /home/ec2-user/anaconda3/envs/pytorch_p39/lib/python3.9/site-packages (from smdebug) (3.4.2)\n",
      "Requirement already satisfied: boto3>=1.10.32 in /home/ec2-user/anaconda3/envs/pytorch_p39/lib/python3.9/site-packages (from smdebug) (1.26.71)\n",
      "Requirement already satisfied: numpy>=1.16.0 in /home/ec2-user/anaconda3/envs/pytorch_p39/lib/python3.9/site-packages (from smdebug) (1.23.5)\n",
      "Requirement already satisfied: protobuf>=3.6.0 in /home/ec2-user/anaconda3/envs/pytorch_p39/lib/python3.9/site-packages (from smdebug) (3.20.2)\n",
      "Requirement already satisfied: packaging in /home/ec2-user/anaconda3/envs/pytorch_p39/lib/python3.9/site-packages (from smdebug) (21.3)\n",
      "Requirement already satisfied: pyinstrument-cext>=0.2.2 in /home/ec2-user/anaconda3/envs/pytorch_p39/lib/python3.9/site-packages (from pyinstrument==3.4.2->smdebug) (0.2.4)\n",
      "Requirement already satisfied: botocore<1.30.0,>=1.29.71 in /home/ec2-user/anaconda3/envs/pytorch_p39/lib/python3.9/site-packages (from boto3>=1.10.32->smdebug) (1.29.71)\n",
      "Requirement already satisfied: jmespath<2.0.0,>=0.7.1 in /home/ec2-user/anaconda3/envs/pytorch_p39/lib/python3.9/site-packages (from boto3>=1.10.32->smdebug) (1.0.1)\n",
      "Requirement already satisfied: s3transfer<0.7.0,>=0.6.0 in /home/ec2-user/anaconda3/envs/pytorch_p39/lib/python3.9/site-packages (from boto3>=1.10.32->smdebug) (0.6.0)\n",
      "Requirement already satisfied: pyparsing!=3.0.5,>=2.0.2 in /home/ec2-user/anaconda3/envs/pytorch_p39/lib/python3.9/site-packages (from packaging->smdebug) (3.0.9)\n",
      "Requirement already satisfied: urllib3<1.27,>=1.25.4 in /home/ec2-user/anaconda3/envs/pytorch_p39/lib/python3.9/site-packages (from botocore<1.30.0,>=1.29.71->boto3>=1.10.32->smdebug) (1.26.14)\n",
      "Requirement already satisfied: python-dateutil<3.0.0,>=2.1 in /home/ec2-user/anaconda3/envs/pytorch_p39/lib/python3.9/site-packages (from botocore<1.30.0,>=1.29.71->boto3>=1.10.32->smdebug) (2.8.2)\n",
      "Requirement already satisfied: six>=1.5 in /home/ec2-user/anaconda3/envs/pytorch_p39/lib/python3.9/site-packages (from python-dateutil<3.0.0,>=2.1->botocore<1.30.0,>=1.29.71->boto3>=1.10.32->smdebug) (1.16.0)\n",
      "Looking in indexes: https://pypi.org/simple, https://pip.repos.neuron.amazonaws.com\n",
      "Requirement already satisfied: sagemaker in /home/ec2-user/anaconda3/envs/pytorch_p39/lib/python3.9/site-packages (2.135.1.post0)\n",
      "Requirement already satisfied: protobuf3-to-dict<1.0,>=0.1.5 in /home/ec2-user/anaconda3/envs/pytorch_p39/lib/python3.9/site-packages (from sagemaker) (0.1.5)\n",
      "Requirement already satisfied: smdebug-rulesconfig==1.0.1 in /home/ec2-user/anaconda3/envs/pytorch_p39/lib/python3.9/site-packages (from sagemaker) (1.0.1)\n",
      "Requirement already satisfied: schema in /home/ec2-user/anaconda3/envs/pytorch_p39/lib/python3.9/site-packages (from sagemaker) (0.7.5)\n",
      "Requirement already satisfied: pathos in /home/ec2-user/anaconda3/envs/pytorch_p39/lib/python3.9/site-packages (from sagemaker) (0.3.0)\n",
      "Requirement already satisfied: pandas in /home/ec2-user/anaconda3/envs/pytorch_p39/lib/python3.9/site-packages (from sagemaker) (1.4.4)\n",
      "Requirement already satisfied: google-pasta in /home/ec2-user/anaconda3/envs/pytorch_p39/lib/python3.9/site-packages (from sagemaker) (0.2.0)\n",
      "Requirement already satisfied: numpy<2.0,>=1.9.0 in /home/ec2-user/anaconda3/envs/pytorch_p39/lib/python3.9/site-packages (from sagemaker) (1.23.5)\n",
      "Requirement already satisfied: attrs<23,>=20.3.0 in /home/ec2-user/anaconda3/envs/pytorch_p39/lib/python3.9/site-packages (from sagemaker) (22.2.0)\n",
      "Requirement already satisfied: importlib-metadata<5.0,>=1.4.0 in /home/ec2-user/anaconda3/envs/pytorch_p39/lib/python3.9/site-packages (from sagemaker) (4.13.0)\n",
      "Requirement already satisfied: packaging>=20.0 in /home/ec2-user/anaconda3/envs/pytorch_p39/lib/python3.9/site-packages (from sagemaker) (21.3)\n",
      "Requirement already satisfied: protobuf<4.0,>=3.1 in /home/ec2-user/anaconda3/envs/pytorch_p39/lib/python3.9/site-packages (from sagemaker) (3.20.2)\n",
      "Requirement already satisfied: boto3<2.0,>=1.26.28 in /home/ec2-user/anaconda3/envs/pytorch_p39/lib/python3.9/site-packages (from sagemaker) (1.26.71)\n",
      "Requirement already satisfied: s3transfer<0.7.0,>=0.6.0 in /home/ec2-user/anaconda3/envs/pytorch_p39/lib/python3.9/site-packages (from boto3<2.0,>=1.26.28->sagemaker) (0.6.0)\n",
      "Requirement already satisfied: jmespath<2.0.0,>=0.7.1 in /home/ec2-user/anaconda3/envs/pytorch_p39/lib/python3.9/site-packages (from boto3<2.0,>=1.26.28->sagemaker) (1.0.1)\n",
      "Requirement already satisfied: botocore<1.30.0,>=1.29.71 in /home/ec2-user/anaconda3/envs/pytorch_p39/lib/python3.9/site-packages (from boto3<2.0,>=1.26.28->sagemaker) (1.29.71)\n",
      "Requirement already satisfied: zipp>=0.5 in /home/ec2-user/anaconda3/envs/pytorch_p39/lib/python3.9/site-packages (from importlib-metadata<5.0,>=1.4.0->sagemaker) (3.11.0)\n",
      "Requirement already satisfied: pyparsing!=3.0.5,>=2.0.2 in /home/ec2-user/anaconda3/envs/pytorch_p39/lib/python3.9/site-packages (from packaging>=20.0->sagemaker) (3.0.9)\n",
      "Requirement already satisfied: six in /home/ec2-user/anaconda3/envs/pytorch_p39/lib/python3.9/site-packages (from protobuf3-to-dict<1.0,>=0.1.5->sagemaker) (1.16.0)\n",
      "Requirement already satisfied: python-dateutil>=2.8.1 in /home/ec2-user/anaconda3/envs/pytorch_p39/lib/python3.9/site-packages (from pandas->sagemaker) (2.8.2)\n",
      "Requirement already satisfied: pytz>=2020.1 in /home/ec2-user/anaconda3/envs/pytorch_p39/lib/python3.9/site-packages (from pandas->sagemaker) (2022.7)\n",
      "Requirement already satisfied: dill>=0.3.6 in /home/ec2-user/anaconda3/envs/pytorch_p39/lib/python3.9/site-packages (from pathos->sagemaker) (0.3.6)\n",
      "Requirement already satisfied: multiprocess>=0.70.14 in /home/ec2-user/anaconda3/envs/pytorch_p39/lib/python3.9/site-packages (from pathos->sagemaker) (0.70.14)\n",
      "Requirement already satisfied: ppft>=1.7.6.6 in /home/ec2-user/anaconda3/envs/pytorch_p39/lib/python3.9/site-packages (from pathos->sagemaker) (1.7.6.6)\n",
      "Requirement already satisfied: pox>=0.3.2 in /home/ec2-user/anaconda3/envs/pytorch_p39/lib/python3.9/site-packages (from pathos->sagemaker) (0.3.2)\n",
      "Requirement already satisfied: contextlib2>=0.5.5 in /home/ec2-user/anaconda3/envs/pytorch_p39/lib/python3.9/site-packages (from schema->sagemaker) (21.6.0)\n",
      "Requirement already satisfied: urllib3<1.27,>=1.25.4 in /home/ec2-user/anaconda3/envs/pytorch_p39/lib/python3.9/site-packages (from botocore<1.30.0,>=1.29.71->boto3<2.0,>=1.26.28->sagemaker) (1.26.14)\n",
      "Looking in indexes: https://pypi.org/simple, https://pip.repos.neuron.amazonaws.com\n",
      "Requirement already satisfied: datasets in /home/ec2-user/anaconda3/envs/pytorch_p39/lib/python3.9/site-packages (2.10.1)\n",
      "Requirement already satisfied: transformers in /home/ec2-user/anaconda3/envs/pytorch_p39/lib/python3.9/site-packages (4.26.1)\n",
      "Requirement already satisfied: pyarrow>=6.0.0 in /home/ec2-user/anaconda3/envs/pytorch_p39/lib/python3.9/site-packages (from datasets) (10.0.1)\n",
      "Requirement already satisfied: fsspec[http]>=2021.11.1 in /home/ec2-user/anaconda3/envs/pytorch_p39/lib/python3.9/site-packages (from datasets) (2022.11.0)\n",
      "Requirement already satisfied: packaging in /home/ec2-user/anaconda3/envs/pytorch_p39/lib/python3.9/site-packages (from datasets) (21.3)\n",
      "Requirement already satisfied: multiprocess in /home/ec2-user/anaconda3/envs/pytorch_p39/lib/python3.9/site-packages (from datasets) (0.70.14)\n",
      "Requirement already satisfied: tqdm>=4.62.1 in /home/ec2-user/anaconda3/envs/pytorch_p39/lib/python3.9/site-packages (from datasets) (4.63.2)\n",
      "Requirement already satisfied: pandas in /home/ec2-user/anaconda3/envs/pytorch_p39/lib/python3.9/site-packages (from datasets) (1.4.4)\n",
      "Requirement already satisfied: requests>=2.19.0 in /home/ec2-user/anaconda3/envs/pytorch_p39/lib/python3.9/site-packages (from datasets) (2.28.1)\n",
      "Requirement already satisfied: responses<0.19 in /home/ec2-user/anaconda3/envs/pytorch_p39/lib/python3.9/site-packages (from datasets) (0.18.0)\n",
      "Requirement already satisfied: numpy>=1.17 in /home/ec2-user/anaconda3/envs/pytorch_p39/lib/python3.9/site-packages (from datasets) (1.23.5)\n",
      "Requirement already satisfied: dill<0.3.7,>=0.3.0 in /home/ec2-user/anaconda3/envs/pytorch_p39/lib/python3.9/site-packages (from datasets) (0.3.6)\n",
      "Requirement already satisfied: xxhash in /home/ec2-user/anaconda3/envs/pytorch_p39/lib/python3.9/site-packages (from datasets) (3.2.0)\n",
      "Requirement already satisfied: pyyaml>=5.1 in /home/ec2-user/anaconda3/envs/pytorch_p39/lib/python3.9/site-packages (from datasets) (5.4.1)\n",
      "Requirement already satisfied: huggingface-hub<1.0.0,>=0.2.0 in /home/ec2-user/anaconda3/envs/pytorch_p39/lib/python3.9/site-packages (from datasets) (0.12.1)\n",
      "Requirement already satisfied: aiohttp in /home/ec2-user/anaconda3/envs/pytorch_p39/lib/python3.9/site-packages (from datasets) (3.8.3)\n",
      "Requirement already satisfied: tokenizers!=0.11.3,<0.14,>=0.11.1 in /home/ec2-user/anaconda3/envs/pytorch_p39/lib/python3.9/site-packages (from transformers) (0.13.2)\n",
      "Requirement already satisfied: filelock in /home/ec2-user/anaconda3/envs/pytorch_p39/lib/python3.9/site-packages (from transformers) (3.6.0)\n",
      "Requirement already satisfied: regex!=2019.12.17 in /home/ec2-user/anaconda3/envs/pytorch_p39/lib/python3.9/site-packages (from transformers) (2022.10.31)\n",
      "Requirement already satisfied: yarl<2.0,>=1.0 in /home/ec2-user/anaconda3/envs/pytorch_p39/lib/python3.9/site-packages (from aiohttp->datasets) (1.8.2)\n",
      "Requirement already satisfied: attrs>=17.3.0 in /home/ec2-user/anaconda3/envs/pytorch_p39/lib/python3.9/site-packages (from aiohttp->datasets) (22.2.0)\n",
      "Requirement already satisfied: async-timeout<5.0,>=4.0.0a3 in /home/ec2-user/anaconda3/envs/pytorch_p39/lib/python3.9/site-packages (from aiohttp->datasets) (4.0.2)\n",
      "Requirement already satisfied: charset-normalizer<3.0,>=2.0 in /home/ec2-user/anaconda3/envs/pytorch_p39/lib/python3.9/site-packages (from aiohttp->datasets) (2.1.1)\n",
      "Requirement already satisfied: aiosignal>=1.1.2 in /home/ec2-user/anaconda3/envs/pytorch_p39/lib/python3.9/site-packages (from aiohttp->datasets) (1.3.1)\n",
      "Requirement already satisfied: multidict<7.0,>=4.5 in /home/ec2-user/anaconda3/envs/pytorch_p39/lib/python3.9/site-packages (from aiohttp->datasets) (6.0.4)\n",
      "Requirement already satisfied: frozenlist>=1.1.1 in /home/ec2-user/anaconda3/envs/pytorch_p39/lib/python3.9/site-packages (from aiohttp->datasets) (1.3.3)\n",
      "Requirement already satisfied: typing-extensions>=3.7.4.3 in /home/ec2-user/anaconda3/envs/pytorch_p39/lib/python3.9/site-packages (from huggingface-hub<1.0.0,>=0.2.0->datasets) (4.4.0)\n",
      "Requirement already satisfied: pyparsing!=3.0.5,>=2.0.2 in /home/ec2-user/anaconda3/envs/pytorch_p39/lib/python3.9/site-packages (from packaging->datasets) (3.0.9)\n",
      "Requirement already satisfied: idna<4,>=2.5 in /home/ec2-user/anaconda3/envs/pytorch_p39/lib/python3.9/site-packages (from requests>=2.19.0->datasets) (3.4)\n",
      "Requirement already satisfied: urllib3<1.27,>=1.21.1 in /home/ec2-user/anaconda3/envs/pytorch_p39/lib/python3.9/site-packages (from requests>=2.19.0->datasets) (1.26.14)\n",
      "Requirement already satisfied: certifi>=2017.4.17 in /home/ec2-user/anaconda3/envs/pytorch_p39/lib/python3.9/site-packages (from requests>=2.19.0->datasets) (2022.12.7)\n",
      "Requirement already satisfied: python-dateutil>=2.8.1 in /home/ec2-user/anaconda3/envs/pytorch_p39/lib/python3.9/site-packages (from pandas->datasets) (2.8.2)\n",
      "Requirement already satisfied: pytz>=2020.1 in /home/ec2-user/anaconda3/envs/pytorch_p39/lib/python3.9/site-packages (from pandas->datasets) (2022.7)\n",
      "Requirement already satisfied: six>=1.5 in /home/ec2-user/anaconda3/envs/pytorch_p39/lib/python3.9/site-packages (from python-dateutil>=2.8.1->pandas->datasets) (1.16.0)\n",
      "Looking in indexes: https://pypi.org/simple, https://pip.repos.neuron.amazonaws.com\n",
      "Requirement already satisfied: wget in /home/ec2-user/anaconda3/envs/pytorch_p39/lib/python3.9/site-packages (3.2)\n",
      "Requirement already satisfied: omegaconf in /home/ec2-user/anaconda3/envs/pytorch_p39/lib/python3.9/site-packages (2.2.3)\n",
      "Collecting omegaconf\n",
      "  Using cached omegaconf-2.3.0-py3-none-any.whl (79 kB)\n",
      "Requirement already satisfied: text-unidecode in /home/ec2-user/anaconda3/envs/pytorch_p39/lib/python3.9/site-packages (1.3)\n",
      "Requirement already satisfied: PyYAML>=5.1.0 in /home/ec2-user/anaconda3/envs/pytorch_p39/lib/python3.9/site-packages (from omegaconf) (5.4.1)\n",
      "Requirement already satisfied: antlr4-python3-runtime==4.9.* in /home/ec2-user/anaconda3/envs/pytorch_p39/lib/python3.9/site-packages (from omegaconf) (4.9.3)\n",
      "Installing collected packages: omegaconf\n",
      "  Attempting uninstall: omegaconf\n",
      "    Found existing installation: omegaconf 2.2.3\n",
      "    Uninstalling omegaconf-2.2.3:\n",
      "      Successfully uninstalled omegaconf-2.2.3\n",
      "Successfully installed omegaconf-2.3.0\n",
      "Looking in indexes: https://pypi.org/simple, https://pip.repos.neuron.amazonaws.com\n",
      "Collecting nemo_toolkit[all]\n",
      "  Cloning https://github.com/NVIDIA/NeMo.git (to revision main) to /tmp/pip-install-lz5pij5r/nemo-toolkit_51b8e70a6ffd468096176d71205450ee\n",
      "  Running command git clone --filter=blob:none --quiet https://github.com/NVIDIA/NeMo.git /tmp/pip-install-lz5pij5r/nemo-toolkit_51b8e70a6ffd468096176d71205450ee\n",
      "  Resolved https://github.com/NVIDIA/NeMo.git to commit dbd283c3cfa05a77b81d62e492040f39be700fc3\n",
      "  Installing build dependencies ... \u001b[?25ldone\n",
      "\u001b[?25h  Getting requirements to build wheel ... \u001b[?25ldone\n",
      "\u001b[?25h  Preparing metadata (pyproject.toml) ... \u001b[?25ldone\n",
      "\u001b[?25hRequirement already satisfied: wrapt in /home/ec2-user/anaconda3/envs/pytorch_p39/lib/python3.9/site-packages (from nemo_toolkit[all]) (1.14.1)\n",
      "Requirement already satisfied: scikit-learn in /home/ec2-user/anaconda3/envs/pytorch_p39/lib/python3.9/site-packages (from nemo_toolkit[all]) (1.0)\n",
      "Requirement already satisfied: tqdm>=4.41.0 in /home/ec2-user/anaconda3/envs/pytorch_p39/lib/python3.9/site-packages (from nemo_toolkit[all]) (4.63.2)\n",
      "Requirement already satisfied: python-dateutil in /home/ec2-user/anaconda3/envs/pytorch_p39/lib/python3.9/site-packages (from nemo_toolkit[all]) (2.8.2)\n",
      "Requirement already satisfied: wget in /home/ec2-user/anaconda3/envs/pytorch_p39/lib/python3.9/site-packages (from nemo_toolkit[all]) (3.2)\n",
      "Requirement already satisfied: text-unidecode in /home/ec2-user/anaconda3/envs/pytorch_p39/lib/python3.9/site-packages (from nemo_toolkit[all]) (1.3)\n",
      "Requirement already satisfied: numba in /home/ec2-user/anaconda3/envs/pytorch_p39/lib/python3.9/site-packages (from nemo_toolkit[all]) (0.56.4)\n",
      "Requirement already satisfied: tensorboard in /home/ec2-user/anaconda3/envs/pytorch_p39/lib/python3.9/site-packages (from nemo_toolkit[all]) (2.12.0)\n",
      "Requirement already satisfied: torch in /home/ec2-user/anaconda3/envs/pytorch_p39/lib/python3.9/site-packages (from nemo_toolkit[all]) (1.13.1)\n",
      "Requirement already satisfied: huggingface-hub in /home/ec2-user/anaconda3/envs/pytorch_p39/lib/python3.9/site-packages (from nemo_toolkit[all]) (0.12.1)\n",
      "Requirement already satisfied: onnx>=1.7.0 in /home/ec2-user/anaconda3/envs/pytorch_p39/lib/python3.9/site-packages (from nemo_toolkit[all]) (1.11.0)\n",
      "Requirement already satisfied: ruamel.yaml in /home/ec2-user/anaconda3/envs/pytorch_p39/lib/python3.9/site-packages (from nemo_toolkit[all]) (0.17.21)\n",
      "Requirement already satisfied: setuptools==59.5.0 in /home/ec2-user/anaconda3/envs/pytorch_p39/lib/python3.9/site-packages (from nemo_toolkit[all]) (59.5.0)\n",
      "Requirement already satisfied: numpy>=1.22 in /home/ec2-user/anaconda3/envs/pytorch_p39/lib/python3.9/site-packages (from nemo_toolkit[all]) (1.23.5)\n",
      "Requirement already satisfied: transformers>=4.0.1 in /home/ec2-user/anaconda3/envs/pytorch_p39/lib/python3.9/site-packages (from nemo_toolkit[all]) (4.26.1)\n",
      "Requirement already satisfied: sacrebleu[ja] in /home/ec2-user/anaconda3/envs/pytorch_p39/lib/python3.9/site-packages (from nemo_toolkit[all]) (2.3.1)\n",
      "Requirement already satisfied: sentence-transformers in /home/ec2-user/anaconda3/envs/pytorch_p39/lib/python3.9/site-packages (from nemo_toolkit[all]) (2.2.2)\n",
      "Requirement already satisfied: progress>=1.5 in /home/ec2-user/anaconda3/envs/pytorch_p39/lib/python3.9/site-packages (from nemo_toolkit[all]) (1.6)\n",
      "Requirement already satisfied: sox in /home/ec2-user/anaconda3/envs/pytorch_p39/lib/python3.9/site-packages (from nemo_toolkit[all]) (1.4.1)\n",
      "Requirement already satisfied: sphinx in /home/ec2-user/anaconda3/envs/pytorch_p39/lib/python3.9/site-packages (from nemo_toolkit[all]) (5.1.1)\n",
      "Requirement already satisfied: pypinyin-dict in /home/ec2-user/anaconda3/envs/pytorch_p39/lib/python3.9/site-packages (from nemo_toolkit[all]) (0.5.0)\n",
      "Requirement already satisfied: librosa in /home/ec2-user/anaconda3/envs/pytorch_p39/lib/python3.9/site-packages (from nemo_toolkit[all]) (0.10.0)\n",
      "Collecting omegaconf<2.3,>=2.2\n",
      "  Using cached omegaconf-2.2.3-py3-none-any.whl (79 kB)\n",
      "Requirement already satisfied: isort<6.0.0,>5.1.0 in /home/ec2-user/anaconda3/envs/pytorch_p39/lib/python3.9/site-packages (from nemo_toolkit[all]) (5.11.4)\n",
      "Requirement already satisfied: sphinxcontrib-bibtex in /home/ec2-user/anaconda3/envs/pytorch_p39/lib/python3.9/site-packages (from nemo_toolkit[all]) (2.5.0)\n",
      "Requirement already satisfied: sacremoses>=0.0.43 in /home/ec2-user/anaconda3/envs/pytorch_p39/lib/python3.9/site-packages (from nemo_toolkit[all]) (0.0.53)\n",
      "Requirement already satisfied: nltk>=3.6.5 in /home/ec2-user/anaconda3/envs/pytorch_p39/lib/python3.9/site-packages (from nemo_toolkit[all]) (3.8.1)\n",
      "Requirement already satisfied: click==8.0.2 in /home/ec2-user/anaconda3/envs/pytorch_p39/lib/python3.9/site-packages (from nemo_toolkit[all]) (8.0.2)\n",
      "Requirement already satisfied: pyyaml<6 in /home/ec2-user/anaconda3/envs/pytorch_p39/lib/python3.9/site-packages (from nemo_toolkit[all]) (5.4.1)\n",
      "Requirement already satisfied: pytorch-lightning>=1.9.0 in /home/ec2-user/anaconda3/envs/pytorch_p39/lib/python3.9/site-packages (from nemo_toolkit[all]) (1.9.4)\n",
      "Requirement already satisfied: matplotlib in /home/ec2-user/anaconda3/envs/pytorch_p39/lib/python3.9/site-packages (from nemo_toolkit[all]) (3.5.3)\n",
      "Requirement already satisfied: ijson in /home/ec2-user/anaconda3/envs/pytorch_p39/lib/python3.9/site-packages (from nemo_toolkit[all]) (3.2.0.post0)\n",
      "Requirement already satisfied: webdataset<=0.1.62,>=0.1.48 in /home/ec2-user/anaconda3/envs/pytorch_p39/lib/python3.9/site-packages (from nemo_toolkit[all]) (0.1.62)\n",
      "Requirement already satisfied: gdown in /home/ec2-user/anaconda3/envs/pytorch_p39/lib/python3.9/site-packages (from nemo_toolkit[all]) (4.6.4)\n",
      "Requirement already satisfied: pyannote.metrics in /home/ec2-user/anaconda3/envs/pytorch_p39/lib/python3.9/site-packages (from nemo_toolkit[all]) (3.2.1)\n",
      "Requirement already satisfied: parameterized in /home/ec2-user/anaconda3/envs/pytorch_p39/lib/python3.9/site-packages (from nemo_toolkit[all]) (0.8.1)\n",
      "Requirement already satisfied: g2p-en in /home/ec2-user/anaconda3/envs/pytorch_p39/lib/python3.9/site-packages (from nemo_toolkit[all]) (2.1.0)\n",
      "Requirement already satisfied: textdistance>=4.1.5 in /home/ec2-user/anaconda3/envs/pytorch_p39/lib/python3.9/site-packages (from nemo_toolkit[all]) (4.5.0)\n",
      "Requirement already satisfied: faiss-cpu in /home/ec2-user/anaconda3/envs/pytorch_p39/lib/python3.9/site-packages (from nemo_toolkit[all]) (1.7.3)\n",
      "Requirement already satisfied: kornia in /home/ec2-user/anaconda3/envs/pytorch_p39/lib/python3.9/site-packages (from nemo_toolkit[all]) (0.6.10)\n",
      "Requirement already satisfied: torchmetrics>=0.11.0 in /home/ec2-user/anaconda3/envs/pytorch_p39/lib/python3.9/site-packages (from nemo_toolkit[all]) (0.11.3)\n",
      "Requirement already satisfied: pydub in /home/ec2-user/anaconda3/envs/pytorch_p39/lib/python3.9/site-packages (from nemo_toolkit[all]) (0.25.1)\n",
      "Requirement already satisfied: jiwer in /home/ec2-user/anaconda3/envs/pytorch_p39/lib/python3.9/site-packages (from nemo_toolkit[all]) (2.5.1)\n",
      "Requirement already satisfied: ftfy in /home/ec2-user/anaconda3/envs/pytorch_p39/lib/python3.9/site-packages (from nemo_toolkit[all]) (6.1.1)\n",
      "Requirement already satisfied: braceexpand in /home/ec2-user/anaconda3/envs/pytorch_p39/lib/python3.9/site-packages (from nemo_toolkit[all]) (0.1.7)\n",
      "Requirement already satisfied: h5py in /home/ec2-user/anaconda3/envs/pytorch_p39/lib/python3.9/site-packages (from nemo_toolkit[all]) (3.7.0)\n",
      "Requirement already satisfied: rapidfuzz in /home/ec2-user/anaconda3/envs/pytorch_p39/lib/python3.9/site-packages (from nemo_toolkit[all]) (2.13.7)\n",
      "Requirement already satisfied: marshmallow in /home/ec2-user/anaconda3/envs/pytorch_p39/lib/python3.9/site-packages (from nemo_toolkit[all]) (3.19.0)\n",
      "Requirement already satisfied: packaging in /home/ec2-user/anaconda3/envs/pytorch_p39/lib/python3.9/site-packages (from nemo_toolkit[all]) (21.3)\n",
      "Requirement already satisfied: opencc in /home/ec2-user/anaconda3/envs/pytorch_p39/lib/python3.9/site-packages (from nemo_toolkit[all]) (1.1.6)\n",
      "Requirement already satisfied: soundfile in /home/ec2-user/anaconda3/envs/pytorch_p39/lib/python3.9/site-packages (from nemo_toolkit[all]) (0.12.1)\n",
      "Requirement already satisfied: kaldi-python-io in /home/ec2-user/anaconda3/envs/pytorch_p39/lib/python3.9/site-packages (from nemo_toolkit[all]) (1.2.2)\n",
      "Requirement already satisfied: black==19.10b0 in /home/ec2-user/anaconda3/envs/pytorch_p39/lib/python3.9/site-packages (from nemo_toolkit[all]) (19.10b0)\n",
      "Requirement already satisfied: editdistance in /home/ec2-user/anaconda3/envs/pytorch_p39/lib/python3.9/site-packages (from nemo_toolkit[all]) (0.6.2)\n",
      "Requirement already satisfied: pandas in /home/ec2-user/anaconda3/envs/pytorch_p39/lib/python3.9/site-packages (from nemo_toolkit[all]) (1.4.4)\n",
      "Requirement already satisfied: jieba in /home/ec2-user/anaconda3/envs/pytorch_p39/lib/python3.9/site-packages (from nemo_toolkit[all]) (0.42.1)\n",
      "Requirement already satisfied: tabulate>=0.8.7 in /home/ec2-user/anaconda3/envs/pytorch_p39/lib/python3.9/site-packages (from nemo_toolkit[all]) (0.9.0)\n",
      "Requirement already satisfied: ipywidgets in /home/ec2-user/anaconda3/envs/pytorch_p39/lib/python3.9/site-packages (from nemo_toolkit[all]) (8.0.4)\n",
      "Requirement already satisfied: inflect in /home/ec2-user/anaconda3/envs/pytorch_p39/lib/python3.9/site-packages (from nemo_toolkit[all]) (6.0.2)\n",
      "Requirement already satisfied: pytest-runner in /home/ec2-user/anaconda3/envs/pytorch_p39/lib/python3.9/site-packages (from nemo_toolkit[all]) (6.0.0)\n",
      "Requirement already satisfied: hydra-core<1.3,>=1.2.0 in /home/ec2-user/anaconda3/envs/pytorch_p39/lib/python3.9/site-packages (from nemo_toolkit[all]) (1.2.0)\n",
      "Requirement already satisfied: pytest in /home/ec2-user/anaconda3/envs/pytorch_p39/lib/python3.9/site-packages (from nemo_toolkit[all]) (7.2.0)\n",
      "Requirement already satisfied: youtokentome>=1.0.5 in /home/ec2-user/anaconda3/envs/pytorch_p39/lib/python3.9/site-packages (from nemo_toolkit[all]) (1.0.6)\n",
      "Requirement already satisfied: gradio in /home/ec2-user/anaconda3/envs/pytorch_p39/lib/python3.9/site-packages (from nemo_toolkit[all]) (3.20.1)\n",
      "Requirement already satisfied: einops in /home/ec2-user/anaconda3/envs/pytorch_p39/lib/python3.9/site-packages (from nemo_toolkit[all]) (0.6.0)\n",
      "Requirement already satisfied: sentencepiece<1.0.0 in /home/ec2-user/anaconda3/envs/pytorch_p39/lib/python3.9/site-packages (from nemo_toolkit[all]) (0.1.97)\n",
      "Requirement already satisfied: scipy>=0.14 in /home/ec2-user/anaconda3/envs/pytorch_p39/lib/python3.9/site-packages (from nemo_toolkit[all]) (1.8.1)\n",
      "Requirement already satisfied: texterrors in /home/ec2-user/anaconda3/envs/pytorch_p39/lib/python3.9/site-packages (from nemo_toolkit[all]) (0.4.4)\n",
      "Requirement already satisfied: kaldiio in /home/ec2-user/anaconda3/envs/pytorch_p39/lib/python3.9/site-packages (from nemo_toolkit[all]) (2.17.2)\n",
      "Requirement already satisfied: wandb in /home/ec2-user/anaconda3/envs/pytorch_p39/lib/python3.9/site-packages (from nemo_toolkit[all]) (0.13.11)\n",
      "Requirement already satisfied: nemo-text-processing==0.1.6rc0 in /home/ec2-user/anaconda3/envs/pytorch_p39/lib/python3.9/site-packages (from nemo_toolkit[all]) (0.1.6rc0)\n",
      "Requirement already satisfied: pyannote.core in /home/ec2-user/anaconda3/envs/pytorch_p39/lib/python3.9/site-packages (from nemo_toolkit[all]) (5.0.0)\n",
      "Requirement already satisfied: pangu in /home/ec2-user/anaconda3/envs/pytorch_p39/lib/python3.9/site-packages (from nemo_toolkit[all]) (4.0.6.1)\n",
      "Requirement already satisfied: fasttext in /home/ec2-user/anaconda3/envs/pytorch_p39/lib/python3.9/site-packages (from nemo_toolkit[all]) (0.9.2)\n",
      "Requirement already satisfied: attrdict in /home/ec2-user/anaconda3/envs/pytorch_p39/lib/python3.9/site-packages (from nemo_toolkit[all]) (2.0.1)\n",
      "Requirement already satisfied: flask-restful in /home/ec2-user/anaconda3/envs/pytorch_p39/lib/python3.9/site-packages (from nemo_toolkit[all]) (0.3.9)\n",
      "Requirement already satisfied: pypinyin in /home/ec2-user/anaconda3/envs/pytorch_p39/lib/python3.9/site-packages (from nemo_toolkit[all]) (0.48.0)\n",
      "Requirement already satisfied: boto3 in /home/ec2-user/anaconda3/envs/pytorch_p39/lib/python3.9/site-packages (from nemo_toolkit[all]) (1.26.71)\n",
      "Requirement already satisfied: attrs>=18.1.0 in /home/ec2-user/anaconda3/envs/pytorch_p39/lib/python3.9/site-packages (from black==19.10b0->nemo_toolkit[all]) (22.2.0)\n",
      "Requirement already satisfied: regex in /home/ec2-user/anaconda3/envs/pytorch_p39/lib/python3.9/site-packages (from black==19.10b0->nemo_toolkit[all]) (2022.10.31)\n",
      "Requirement already satisfied: toml>=0.9.4 in /home/ec2-user/anaconda3/envs/pytorch_p39/lib/python3.9/site-packages (from black==19.10b0->nemo_toolkit[all]) (0.10.2)\n",
      "Requirement already satisfied: typed-ast>=1.4.0 in /home/ec2-user/anaconda3/envs/pytorch_p39/lib/python3.9/site-packages (from black==19.10b0->nemo_toolkit[all]) (1.5.4)\n",
      "Requirement already satisfied: appdirs in /home/ec2-user/anaconda3/envs/pytorch_p39/lib/python3.9/site-packages (from black==19.10b0->nemo_toolkit[all]) (1.4.4)\n",
      "Requirement already satisfied: pathspec<1,>=0.6 in /home/ec2-user/anaconda3/envs/pytorch_p39/lib/python3.9/site-packages (from black==19.10b0->nemo_toolkit[all]) (0.10.3)\n",
      "Requirement already satisfied: cdifflib in /home/ec2-user/anaconda3/envs/pytorch_p39/lib/python3.9/site-packages (from nemo-text-processing==0.1.6rc0->nemo_toolkit[all]) (1.2.6)\n",
      "Requirement already satisfied: pynini in /home/ec2-user/anaconda3/envs/pytorch_p39/lib/python3.9/site-packages (from nemo-text-processing==0.1.6rc0->nemo_toolkit[all]) (2.1.5)\n",
      "Requirement already satisfied: joblib in /home/ec2-user/anaconda3/envs/pytorch_p39/lib/python3.9/site-packages (from nemo-text-processing==0.1.6rc0->nemo_toolkit[all]) (1.2.0)\n",
      "Requirement already satisfied: Cython>=0.29 in /home/ec2-user/anaconda3/envs/pytorch_p39/lib/python3.9/site-packages (from pynini->nemo-text-processing==0.1.6rc0->nemo_toolkit[all]) (0.29.33)\n",
      "Requirement already satisfied: antlr4-python3-runtime==4.9.* in /home/ec2-user/anaconda3/envs/pytorch_p39/lib/python3.9/site-packages (from hydra-core<1.3,>=1.2.0->nemo_toolkit[all]) (4.9.3)\n",
      "Requirement already satisfied: levenshtein==0.20.2 in /home/ec2-user/anaconda3/envs/pytorch_p39/lib/python3.9/site-packages (from jiwer->nemo_toolkit[all]) (0.20.2)\n",
      "Requirement already satisfied: lazy-loader>=0.1 in /home/ec2-user/anaconda3/envs/pytorch_p39/lib/python3.9/site-packages (from librosa->nemo_toolkit[all]) (0.1)\n",
      "Requirement already satisfied: decorator>=4.3.0 in /home/ec2-user/anaconda3/envs/pytorch_p39/lib/python3.9/site-packages (from librosa->nemo_toolkit[all]) (5.1.1)\n",
      "Requirement already satisfied: typing-extensions>=4.1.1 in /home/ec2-user/anaconda3/envs/pytorch_p39/lib/python3.9/site-packages (from librosa->nemo_toolkit[all]) (4.4.0)\n",
      "Requirement already satisfied: soxr>=0.3.2 in /home/ec2-user/anaconda3/envs/pytorch_p39/lib/python3.9/site-packages (from librosa->nemo_toolkit[all]) (0.3.4)\n",
      "Requirement already satisfied: pooch>=1.0 in /home/ec2-user/anaconda3/envs/pytorch_p39/lib/python3.9/site-packages (from librosa->nemo_toolkit[all]) (1.6.0)\n",
      "Requirement already satisfied: audioread>=2.1.9 in /home/ec2-user/anaconda3/envs/pytorch_p39/lib/python3.9/site-packages (from librosa->nemo_toolkit[all]) (3.0.0)\n",
      "Requirement already satisfied: msgpack>=1.0 in /home/ec2-user/anaconda3/envs/pytorch_p39/lib/python3.9/site-packages (from librosa->nemo_toolkit[all]) (1.0.4)\n",
      "Requirement already satisfied: pillow>=6.2.0 in /home/ec2-user/anaconda3/envs/pytorch_p39/lib/python3.9/site-packages (from matplotlib->nemo_toolkit[all]) (9.2.0)\n",
      "Requirement already satisfied: kiwisolver>=1.0.1 in /home/ec2-user/anaconda3/envs/pytorch_p39/lib/python3.9/site-packages (from matplotlib->nemo_toolkit[all]) (1.4.4)\n",
      "Requirement already satisfied: fonttools>=4.22.0 in /home/ec2-user/anaconda3/envs/pytorch_p39/lib/python3.9/site-packages (from matplotlib->nemo_toolkit[all]) (4.38.0)\n",
      "Requirement already satisfied: pyparsing>=2.2.1 in /home/ec2-user/anaconda3/envs/pytorch_p39/lib/python3.9/site-packages (from matplotlib->nemo_toolkit[all]) (3.0.9)\n",
      "Requirement already satisfied: cycler>=0.10 in /home/ec2-user/anaconda3/envs/pytorch_p39/lib/python3.9/site-packages (from matplotlib->nemo_toolkit[all]) (0.11.0)\n",
      "Requirement already satisfied: llvmlite<0.40,>=0.39.0dev0 in /home/ec2-user/anaconda3/envs/pytorch_p39/lib/python3.9/site-packages (from numba->nemo_toolkit[all]) (0.39.1)\n",
      "Requirement already satisfied: protobuf>=3.12.2 in /home/ec2-user/anaconda3/envs/pytorch_p39/lib/python3.9/site-packages (from onnx>=1.7.0->nemo_toolkit[all]) (3.20.2)\n",
      "Requirement already satisfied: six>=1.5 in /home/ec2-user/anaconda3/envs/pytorch_p39/lib/python3.9/site-packages (from python-dateutil->nemo_toolkit[all]) (1.16.0)\n",
      "Requirement already satisfied: lightning-utilities>=0.6.0.post0 in /home/ec2-user/anaconda3/envs/pytorch_p39/lib/python3.9/site-packages (from pytorch-lightning>=1.9.0->nemo_toolkit[all]) (0.7.1)\n",
      "Requirement already satisfied: fsspec[http]>2021.06.0 in /home/ec2-user/anaconda3/envs/pytorch_p39/lib/python3.9/site-packages (from pytorch-lightning>=1.9.0->nemo_toolkit[all]) (2022.11.0)\n",
      "Requirement already satisfied: threadpoolctl>=2.0.0 in /home/ec2-user/anaconda3/envs/pytorch_p39/lib/python3.9/site-packages (from scikit-learn->nemo_toolkit[all]) (3.1.0)\n",
      "Requirement already satisfied: cffi>=1.0 in /home/ec2-user/anaconda3/envs/pytorch_p39/lib/python3.9/site-packages (from soundfile->nemo_toolkit[all]) (1.15.1)\n",
      "Requirement already satisfied: filelock in /home/ec2-user/anaconda3/envs/pytorch_p39/lib/python3.9/site-packages (from transformers>=4.0.1->nemo_toolkit[all]) (3.6.0)\n",
      "Requirement already satisfied: tokenizers!=0.11.3,<0.14,>=0.11.1 in /home/ec2-user/anaconda3/envs/pytorch_p39/lib/python3.9/site-packages (from transformers>=4.0.1->nemo_toolkit[all]) (0.13.2)\n",
      "Requirement already satisfied: requests in /home/ec2-user/anaconda3/envs/pytorch_p39/lib/python3.9/site-packages (from transformers>=4.0.1->nemo_toolkit[all]) (2.28.1)\n",
      "Requirement already satisfied: s3transfer<0.7.0,>=0.6.0 in /home/ec2-user/anaconda3/envs/pytorch_p39/lib/python3.9/site-packages (from boto3->nemo_toolkit[all]) (0.6.0)\n",
      "Requirement already satisfied: jmespath<2.0.0,>=0.7.1 in /home/ec2-user/anaconda3/envs/pytorch_p39/lib/python3.9/site-packages (from boto3->nemo_toolkit[all]) (1.0.1)\n",
      "Requirement already satisfied: botocore<1.30.0,>=1.29.71 in /home/ec2-user/anaconda3/envs/pytorch_p39/lib/python3.9/site-packages (from boto3->nemo_toolkit[all]) (1.29.71)\n",
      "Requirement already satisfied: pybind11>=2.2 in /home/ec2-user/anaconda3/envs/pytorch_p39/lib/python3.9/site-packages (from fasttext->nemo_toolkit[all]) (2.9.2)\n",
      "Requirement already satisfied: pytz in /home/ec2-user/anaconda3/envs/pytorch_p39/lib/python3.9/site-packages (from flask-restful->nemo_toolkit[all]) (2022.7)\n",
      "Requirement already satisfied: aniso8601>=0.82 in /home/ec2-user/anaconda3/envs/pytorch_p39/lib/python3.9/site-packages (from flask-restful->nemo_toolkit[all]) (9.0.1)\n",
      "Requirement already satisfied: Flask>=0.8 in /home/ec2-user/anaconda3/envs/pytorch_p39/lib/python3.9/site-packages (from flask-restful->nemo_toolkit[all]) (2.2.2)\n",
      "Requirement already satisfied: wcwidth>=0.2.5 in /home/ec2-user/anaconda3/envs/pytorch_p39/lib/python3.9/site-packages (from ftfy->nemo_toolkit[all]) (0.2.5)\n",
      "Requirement already satisfied: distance>=0.1.3 in /home/ec2-user/anaconda3/envs/pytorch_p39/lib/python3.9/site-packages (from g2p-en->nemo_toolkit[all]) (0.1.3)\n",
      "Requirement already satisfied: pydantic>=1.9.1 in /home/ec2-user/anaconda3/envs/pytorch_p39/lib/python3.9/site-packages (from inflect->nemo_toolkit[all]) (1.10.4)\n",
      "Requirement already satisfied: beautifulsoup4 in /home/ec2-user/anaconda3/envs/pytorch_p39/lib/python3.9/site-packages (from gdown->nemo_toolkit[all]) (4.11.1)\n",
      "Requirement already satisfied: mdit-py-plugins<=0.3.3 in /home/ec2-user/anaconda3/envs/pytorch_p39/lib/python3.9/site-packages (from gradio->nemo_toolkit[all]) (0.3.3)\n",
      "Requirement already satisfied: httpx in /home/ec2-user/anaconda3/envs/pytorch_p39/lib/python3.9/site-packages (from gradio->nemo_toolkit[all]) (0.23.3)\n",
      "Requirement already satisfied: altair>=4.2.0 in /home/ec2-user/anaconda3/envs/pytorch_p39/lib/python3.9/site-packages (from gradio->nemo_toolkit[all]) (4.2.2)\n",
      "Requirement already satisfied: orjson in /home/ec2-user/anaconda3/envs/pytorch_p39/lib/python3.9/site-packages (from gradio->nemo_toolkit[all]) (3.8.7)\n",
      "Requirement already satisfied: websockets>=10.0 in /home/ec2-user/anaconda3/envs/pytorch_p39/lib/python3.9/site-packages (from gradio->nemo_toolkit[all]) (10.4)\n",
      "Requirement already satisfied: aiohttp in /home/ec2-user/anaconda3/envs/pytorch_p39/lib/python3.9/site-packages (from gradio->nemo_toolkit[all]) (3.8.3)\n",
      "Requirement already satisfied: aiofiles in /home/ec2-user/anaconda3/envs/pytorch_p39/lib/python3.9/site-packages (from gradio->nemo_toolkit[all]) (23.1.0)\n",
      "Requirement already satisfied: uvicorn in /home/ec2-user/anaconda3/envs/pytorch_p39/lib/python3.9/site-packages (from gradio->nemo_toolkit[all]) (0.20.0)\n",
      "Requirement already satisfied: jinja2 in /home/ec2-user/anaconda3/envs/pytorch_p39/lib/python3.9/site-packages (from gradio->nemo_toolkit[all]) (3.1.2)\n",
      "Requirement already satisfied: python-multipart in /home/ec2-user/anaconda3/envs/pytorch_p39/lib/python3.9/site-packages (from gradio->nemo_toolkit[all]) (0.0.6)\n",
      "Requirement already satisfied: pycryptodome in /home/ec2-user/anaconda3/envs/pytorch_p39/lib/python3.9/site-packages (from gradio->nemo_toolkit[all]) (3.16.0)\n",
      "Requirement already satisfied: fastapi in /home/ec2-user/anaconda3/envs/pytorch_p39/lib/python3.9/site-packages (from gradio->nemo_toolkit[all]) (0.93.0)\n",
      "Requirement already satisfied: markdown-it-py[linkify]>=2.0.0 in /home/ec2-user/anaconda3/envs/pytorch_p39/lib/python3.9/site-packages (from gradio->nemo_toolkit[all]) (2.2.0)\n",
      "Requirement already satisfied: ffmpy in /home/ec2-user/anaconda3/envs/pytorch_p39/lib/python3.9/site-packages (from gradio->nemo_toolkit[all]) (0.3.0)\n",
      "Requirement already satisfied: markupsafe in /home/ec2-user/anaconda3/envs/pytorch_p39/lib/python3.9/site-packages (from gradio->nemo_toolkit[all]) (2.1.1)\n",
      "Requirement already satisfied: jupyterlab-widgets~=3.0 in /home/ec2-user/anaconda3/envs/pytorch_p39/lib/python3.9/site-packages (from ipywidgets->nemo_toolkit[all]) (3.0.5)\n",
      "Requirement already satisfied: ipykernel>=4.5.1 in /home/ec2-user/anaconda3/envs/pytorch_p39/lib/python3.9/site-packages (from ipywidgets->nemo_toolkit[all]) (6.20.1)\n",
      "Requirement already satisfied: ipython>=6.1.0 in /home/ec2-user/anaconda3/envs/pytorch_p39/lib/python3.9/site-packages (from ipywidgets->nemo_toolkit[all]) (7.32.0)\n",
      "Requirement already satisfied: widgetsnbextension~=4.0 in /home/ec2-user/anaconda3/envs/pytorch_p39/lib/python3.9/site-packages (from ipywidgets->nemo_toolkit[all]) (4.0.5)\n",
      "Requirement already satisfied: traitlets>=4.3.1 in /home/ec2-user/anaconda3/envs/pytorch_p39/lib/python3.9/site-packages (from ipywidgets->nemo_toolkit[all]) (5.8.1)\n",
      "Requirement already satisfied: sortedcontainers>=2.0.4 in /home/ec2-user/anaconda3/envs/pytorch_p39/lib/python3.9/site-packages (from pyannote.core->nemo_toolkit[all]) (2.4.0)\n",
      "Requirement already satisfied: docopt>=0.6.2 in /home/ec2-user/anaconda3/envs/pytorch_p39/lib/python3.9/site-packages (from pyannote.metrics->nemo_toolkit[all]) (0.6.2)\n",
      "Requirement already satisfied: sympy>=1.1 in /home/ec2-user/anaconda3/envs/pytorch_p39/lib/python3.9/site-packages (from pyannote.metrics->nemo_toolkit[all]) (1.11.1)\n",
      "Requirement already satisfied: pyannote.database>=4.0.1 in /home/ec2-user/anaconda3/envs/pytorch_p39/lib/python3.9/site-packages (from pyannote.metrics->nemo_toolkit[all]) (4.1.3)\n",
      "Requirement already satisfied: iniconfig in /home/ec2-user/anaconda3/envs/pytorch_p39/lib/python3.9/site-packages (from pytest->nemo_toolkit[all]) (2.0.0)\n",
      "Requirement already satisfied: pluggy<2.0,>=0.12 in /home/ec2-user/anaconda3/envs/pytorch_p39/lib/python3.9/site-packages (from pytest->nemo_toolkit[all]) (1.0.0)\n",
      "Requirement already satisfied: exceptiongroup>=1.0.0rc8 in /home/ec2-user/anaconda3/envs/pytorch_p39/lib/python3.9/site-packages (from pytest->nemo_toolkit[all]) (1.1.0)\n",
      "Requirement already satisfied: tomli>=1.0.0 in /home/ec2-user/anaconda3/envs/pytorch_p39/lib/python3.9/site-packages (from pytest->nemo_toolkit[all]) (2.0.1)\n",
      "Requirement already satisfied: ruamel.yaml.clib>=0.2.6 in /home/ec2-user/anaconda3/envs/pytorch_p39/lib/python3.9/site-packages (from ruamel.yaml->nemo_toolkit[all]) (0.2.7)\n",
      "Requirement already satisfied: portalocker in /home/ec2-user/anaconda3/envs/pytorch_p39/lib/python3.9/site-packages (from sacrebleu[ja]->nemo_toolkit[all]) (2.7.0)\n",
      "Requirement already satisfied: lxml in /home/ec2-user/anaconda3/envs/pytorch_p39/lib/python3.9/site-packages (from sacrebleu[ja]->nemo_toolkit[all]) (4.9.2)\n",
      "Requirement already satisfied: colorama in /home/ec2-user/anaconda3/envs/pytorch_p39/lib/python3.9/site-packages (from sacrebleu[ja]->nemo_toolkit[all]) (0.4.3)\n",
      "Requirement already satisfied: ipadic<2.0,>=1.0 in /home/ec2-user/anaconda3/envs/pytorch_p39/lib/python3.9/site-packages (from sacrebleu[ja]->nemo_toolkit[all]) (1.0.0)\n",
      "Requirement already satisfied: mecab-python3==1.0.5 in /home/ec2-user/anaconda3/envs/pytorch_p39/lib/python3.9/site-packages (from sacrebleu[ja]->nemo_toolkit[all]) (1.0.5)\n",
      "Requirement already satisfied: torchvision in /home/ec2-user/anaconda3/envs/pytorch_p39/lib/python3.9/site-packages (from sentence-transformers->nemo_toolkit[all]) (0.14.1)\n",
      "Requirement already satisfied: imagesize in /home/ec2-user/anaconda3/envs/pytorch_p39/lib/python3.9/site-packages (from sphinx->nemo_toolkit[all]) (1.4.1)\n",
      "Requirement already satisfied: importlib-metadata>=4.4 in /home/ec2-user/anaconda3/envs/pytorch_p39/lib/python3.9/site-packages (from sphinx->nemo_toolkit[all]) (4.13.0)\n",
      "Requirement already satisfied: Pygments>=2.0 in /home/ec2-user/anaconda3/envs/pytorch_p39/lib/python3.9/site-packages (from sphinx->nemo_toolkit[all]) (2.14.0)\n",
      "Requirement already satisfied: sphinxcontrib-applehelp in /home/ec2-user/anaconda3/envs/pytorch_p39/lib/python3.9/site-packages (from sphinx->nemo_toolkit[all]) (1.0.2)\n",
      "Requirement already satisfied: sphinxcontrib-serializinghtml>=1.1.5 in /home/ec2-user/anaconda3/envs/pytorch_p39/lib/python3.9/site-packages (from sphinx->nemo_toolkit[all]) (1.1.5)\n",
      "Requirement already satisfied: alabaster<0.8,>=0.7 in /home/ec2-user/anaconda3/envs/pytorch_p39/lib/python3.9/site-packages (from sphinx->nemo_toolkit[all]) (0.7.12)\n",
      "Requirement already satisfied: sphinxcontrib-jsmath in /home/ec2-user/anaconda3/envs/pytorch_p39/lib/python3.9/site-packages (from sphinx->nemo_toolkit[all]) (1.0.1)\n",
      "Requirement already satisfied: babel>=1.3 in /home/ec2-user/anaconda3/envs/pytorch_p39/lib/python3.9/site-packages (from sphinx->nemo_toolkit[all]) (2.11.0)\n",
      "Requirement already satisfied: docutils<0.20,>=0.14 in /home/ec2-user/anaconda3/envs/pytorch_p39/lib/python3.9/site-packages (from sphinx->nemo_toolkit[all]) (0.15.2)\n",
      "Requirement already satisfied: sphinxcontrib-qthelp in /home/ec2-user/anaconda3/envs/pytorch_p39/lib/python3.9/site-packages (from sphinx->nemo_toolkit[all]) (1.0.3)\n",
      "Requirement already satisfied: sphinxcontrib-devhelp in /home/ec2-user/anaconda3/envs/pytorch_p39/lib/python3.9/site-packages (from sphinx->nemo_toolkit[all]) (1.0.2)\n",
      "Requirement already satisfied: sphinxcontrib-htmlhelp>=2.0.0 in /home/ec2-user/anaconda3/envs/pytorch_p39/lib/python3.9/site-packages (from sphinx->nemo_toolkit[all]) (2.0.0)\n",
      "Requirement already satisfied: snowballstemmer>=1.1 in /home/ec2-user/anaconda3/envs/pytorch_p39/lib/python3.9/site-packages (from sphinx->nemo_toolkit[all]) (2.2.0)\n",
      "Requirement already satisfied: pybtex-docutils>=1.0.0 in /home/ec2-user/anaconda3/envs/pytorch_p39/lib/python3.9/site-packages (from sphinxcontrib-bibtex->nemo_toolkit[all]) (1.0.2)\n",
      "Requirement already satisfied: pybtex>=0.24 in /home/ec2-user/anaconda3/envs/pytorch_p39/lib/python3.9/site-packages (from sphinxcontrib-bibtex->nemo_toolkit[all]) (0.24.0)\n",
      "Requirement already satisfied: absl-py>=0.4 in /home/ec2-user/anaconda3/envs/pytorch_p39/lib/python3.9/site-packages (from tensorboard->nemo_toolkit[all]) (1.4.0)\n",
      "Requirement already satisfied: google-auth<3,>=1.6.3 in /home/ec2-user/anaconda3/envs/pytorch_p39/lib/python3.9/site-packages (from tensorboard->nemo_toolkit[all]) (2.16.2)\n",
      "Requirement already satisfied: grpcio>=1.48.2 in /home/ec2-user/anaconda3/envs/pytorch_p39/lib/python3.9/site-packages (from tensorboard->nemo_toolkit[all]) (1.51.3)\n",
      "Requirement already satisfied: google-auth-oauthlib<0.5,>=0.4.1 in /home/ec2-user/anaconda3/envs/pytorch_p39/lib/python3.9/site-packages (from tensorboard->nemo_toolkit[all]) (0.4.6)\n",
      "Requirement already satisfied: tensorboard-data-server<0.8.0,>=0.7.0 in /home/ec2-user/anaconda3/envs/pytorch_p39/lib/python3.9/site-packages (from tensorboard->nemo_toolkit[all]) (0.7.0)\n",
      "Requirement already satisfied: markdown>=2.6.8 in /home/ec2-user/anaconda3/envs/pytorch_p39/lib/python3.9/site-packages (from tensorboard->nemo_toolkit[all]) (3.4.1)\n",
      "Requirement already satisfied: werkzeug>=1.0.1 in /home/ec2-user/anaconda3/envs/pytorch_p39/lib/python3.9/site-packages (from tensorboard->nemo_toolkit[all]) (2.2.2)\n",
      "Requirement already satisfied: wheel>=0.26 in /home/ec2-user/anaconda3/envs/pytorch_p39/lib/python3.9/site-packages (from tensorboard->nemo_toolkit[all]) (0.38.4)\n",
      "Requirement already satisfied: tensorboard-plugin-wit>=1.6.0 in /home/ec2-user/anaconda3/envs/pytorch_p39/lib/python3.9/site-packages (from tensorboard->nemo_toolkit[all]) (1.8.1)\n",
      "Requirement already satisfied: termcolor in /home/ec2-user/anaconda3/envs/pytorch_p39/lib/python3.9/site-packages (from texterrors->nemo_toolkit[all]) (2.2.0)\n",
      "Requirement already satisfied: loguru in /home/ec2-user/anaconda3/envs/pytorch_p39/lib/python3.9/site-packages (from texterrors->nemo_toolkit[all]) (0.6.0)\n",
      "Requirement already satisfied: plac in /home/ec2-user/anaconda3/envs/pytorch_p39/lib/python3.9/site-packages (from texterrors->nemo_toolkit[all]) (1.3.5)\n",
      "Requirement already satisfied: setproctitle in /home/ec2-user/anaconda3/envs/pytorch_p39/lib/python3.9/site-packages (from wandb->nemo_toolkit[all]) (1.3.2)\n",
      "Requirement already satisfied: psutil>=5.0.0 in /home/ec2-user/anaconda3/envs/pytorch_p39/lib/python3.9/site-packages (from wandb->nemo_toolkit[all]) (5.9.4)\n",
      "Requirement already satisfied: docker-pycreds>=0.4.0 in /home/ec2-user/anaconda3/envs/pytorch_p39/lib/python3.9/site-packages (from wandb->nemo_toolkit[all]) (0.4.0)\n",
      "Requirement already satisfied: sentry-sdk>=1.0.0 in /home/ec2-user/anaconda3/envs/pytorch_p39/lib/python3.9/site-packages (from wandb->nemo_toolkit[all]) (1.16.0)\n",
      "Requirement already satisfied: pathtools in /home/ec2-user/anaconda3/envs/pytorch_p39/lib/python3.9/site-packages (from wandb->nemo_toolkit[all]) (0.1.2)\n",
      "Requirement already satisfied: GitPython!=3.1.29,>=1.0.0 in /home/ec2-user/anaconda3/envs/pytorch_p39/lib/python3.9/site-packages (from wandb->nemo_toolkit[all]) (3.1.31)\n",
      "Requirement already satisfied: entrypoints in /home/ec2-user/anaconda3/envs/pytorch_p39/lib/python3.9/site-packages (from altair>=4.2.0->gradio->nemo_toolkit[all]) (0.4)\n",
      "Requirement already satisfied: toolz in /home/ec2-user/anaconda3/envs/pytorch_p39/lib/python3.9/site-packages (from altair>=4.2.0->gradio->nemo_toolkit[all]) (0.12.0)\n",
      "Requirement already satisfied: jsonschema>=3.0 in /home/ec2-user/anaconda3/envs/pytorch_p39/lib/python3.9/site-packages (from altair>=4.2.0->gradio->nemo_toolkit[all]) (3.2.0)\n",
      "Requirement already satisfied: urllib3<1.27,>=1.25.4 in /home/ec2-user/anaconda3/envs/pytorch_p39/lib/python3.9/site-packages (from botocore<1.30.0,>=1.29.71->boto3->nemo_toolkit[all]) (1.26.14)\n",
      "Requirement already satisfied: pycparser in /home/ec2-user/anaconda3/envs/pytorch_p39/lib/python3.9/site-packages (from cffi>=1.0->soundfile->nemo_toolkit[all]) (2.21)\n",
      "Requirement already satisfied: itsdangerous>=2.0 in /home/ec2-user/anaconda3/envs/pytorch_p39/lib/python3.9/site-packages (from Flask>=0.8->flask-restful->nemo_toolkit[all]) (2.1.2)\n",
      "Requirement already satisfied: async-timeout<5.0,>=4.0.0a3 in /home/ec2-user/anaconda3/envs/pytorch_p39/lib/python3.9/site-packages (from aiohttp->gradio->nemo_toolkit[all]) (4.0.2)\n",
      "Requirement already satisfied: frozenlist>=1.1.1 in /home/ec2-user/anaconda3/envs/pytorch_p39/lib/python3.9/site-packages (from aiohttp->gradio->nemo_toolkit[all]) (1.3.3)\n",
      "Requirement already satisfied: charset-normalizer<3.0,>=2.0 in /home/ec2-user/anaconda3/envs/pytorch_p39/lib/python3.9/site-packages (from aiohttp->gradio->nemo_toolkit[all]) (2.1.1)\n",
      "Requirement already satisfied: aiosignal>=1.1.2 in /home/ec2-user/anaconda3/envs/pytorch_p39/lib/python3.9/site-packages (from aiohttp->gradio->nemo_toolkit[all]) (1.3.1)\n",
      "Requirement already satisfied: yarl<2.0,>=1.0 in /home/ec2-user/anaconda3/envs/pytorch_p39/lib/python3.9/site-packages (from aiohttp->gradio->nemo_toolkit[all]) (1.8.2)\n",
      "Requirement already satisfied: multidict<7.0,>=4.5 in /home/ec2-user/anaconda3/envs/pytorch_p39/lib/python3.9/site-packages (from aiohttp->gradio->nemo_toolkit[all]) (6.0.4)\n",
      "Requirement already satisfied: gitdb<5,>=4.0.1 in /home/ec2-user/anaconda3/envs/pytorch_p39/lib/python3.9/site-packages (from GitPython!=3.1.29,>=1.0.0->wandb->nemo_toolkit[all]) (4.0.10)\n",
      "Requirement already satisfied: cachetools<6.0,>=2.0.0 in /home/ec2-user/anaconda3/envs/pytorch_p39/lib/python3.9/site-packages (from google-auth<3,>=1.6.3->tensorboard->nemo_toolkit[all]) (5.3.0)\n",
      "Requirement already satisfied: rsa<5,>=3.1.4 in /home/ec2-user/anaconda3/envs/pytorch_p39/lib/python3.9/site-packages (from google-auth<3,>=1.6.3->tensorboard->nemo_toolkit[all]) (4.7.2)\n",
      "Requirement already satisfied: pyasn1-modules>=0.2.1 in /home/ec2-user/anaconda3/envs/pytorch_p39/lib/python3.9/site-packages (from google-auth<3,>=1.6.3->tensorboard->nemo_toolkit[all]) (0.2.8)\n",
      "Requirement already satisfied: requests-oauthlib>=0.7.0 in /home/ec2-user/anaconda3/envs/pytorch_p39/lib/python3.9/site-packages (from google-auth-oauthlib<0.5,>=0.4.1->tensorboard->nemo_toolkit[all]) (1.3.1)\n",
      "Requirement already satisfied: zipp>=0.5 in /home/ec2-user/anaconda3/envs/pytorch_p39/lib/python3.9/site-packages (from importlib-metadata>=4.4->sphinx->nemo_toolkit[all]) (3.11.0)\n",
      "Requirement already satisfied: jupyter-client>=6.1.12 in /home/ec2-user/anaconda3/envs/pytorch_p39/lib/python3.9/site-packages (from ipykernel>=4.5.1->ipywidgets->nemo_toolkit[all]) (7.4.8)\n",
      "Requirement already satisfied: tornado>=6.1 in /home/ec2-user/anaconda3/envs/pytorch_p39/lib/python3.9/site-packages (from ipykernel>=4.5.1->ipywidgets->nemo_toolkit[all]) (6.2)\n",
      "Requirement already satisfied: matplotlib-inline>=0.1 in /home/ec2-user/anaconda3/envs/pytorch_p39/lib/python3.9/site-packages (from ipykernel>=4.5.1->ipywidgets->nemo_toolkit[all]) (0.1.6)\n",
      "Requirement already satisfied: debugpy>=1.0 in /home/ec2-user/anaconda3/envs/pytorch_p39/lib/python3.9/site-packages (from ipykernel>=4.5.1->ipywidgets->nemo_toolkit[all]) (1.6.5)\n",
      "Requirement already satisfied: nest-asyncio in /home/ec2-user/anaconda3/envs/pytorch_p39/lib/python3.9/site-packages (from ipykernel>=4.5.1->ipywidgets->nemo_toolkit[all]) (1.5.5)\n",
      "Requirement already satisfied: comm>=0.1.1 in /home/ec2-user/anaconda3/envs/pytorch_p39/lib/python3.9/site-packages (from ipykernel>=4.5.1->ipywidgets->nemo_toolkit[all]) (0.1.2)\n",
      "Requirement already satisfied: pyzmq>=17 in /home/ec2-user/anaconda3/envs/pytorch_p39/lib/python3.9/site-packages (from ipykernel>=4.5.1->ipywidgets->nemo_toolkit[all]) (24.0.1)\n",
      "Requirement already satisfied: pickleshare in /home/ec2-user/anaconda3/envs/pytorch_p39/lib/python3.9/site-packages (from ipython>=6.1.0->ipywidgets->nemo_toolkit[all]) (0.7.5)\n",
      "Requirement already satisfied: pexpect>4.3 in /home/ec2-user/anaconda3/envs/pytorch_p39/lib/python3.9/site-packages (from ipython>=6.1.0->ipywidgets->nemo_toolkit[all]) (4.8.0)\n",
      "Requirement already satisfied: jedi>=0.16 in /home/ec2-user/anaconda3/envs/pytorch_p39/lib/python3.9/site-packages (from ipython>=6.1.0->ipywidgets->nemo_toolkit[all]) (0.18.2)\n",
      "Requirement already satisfied: prompt-toolkit!=3.0.0,!=3.0.1,<3.1.0,>=2.0.0 in /home/ec2-user/anaconda3/envs/pytorch_p39/lib/python3.9/site-packages (from ipython>=6.1.0->ipywidgets->nemo_toolkit[all]) (3.0.36)\n",
      "Requirement already satisfied: backcall in /home/ec2-user/anaconda3/envs/pytorch_p39/lib/python3.9/site-packages (from ipython>=6.1.0->ipywidgets->nemo_toolkit[all]) (0.2.0)\n",
      "Requirement already satisfied: mdurl~=0.1 in /home/ec2-user/anaconda3/envs/pytorch_p39/lib/python3.9/site-packages (from markdown-it-py[linkify]>=2.0.0->gradio->nemo_toolkit[all]) (0.1.2)\n",
      "Requirement already satisfied: linkify-it-py<3,>=1 in /home/ec2-user/anaconda3/envs/pytorch_p39/lib/python3.9/site-packages (from markdown-it-py[linkify]>=2.0.0->gradio->nemo_toolkit[all]) (2.0.0)\n",
      "Requirement already satisfied: typer[all]>=0.2.1 in /home/ec2-user/anaconda3/envs/pytorch_p39/lib/python3.9/site-packages (from pyannote.database>=4.0.1->pyannote.metrics->nemo_toolkit[all]) (0.4.2)\n",
      "Requirement already satisfied: latexcodec>=1.0.4 in /home/ec2-user/anaconda3/envs/pytorch_p39/lib/python3.9/site-packages (from pybtex>=0.24->sphinxcontrib-bibtex->nemo_toolkit[all]) (2.0.1)\n",
      "Requirement already satisfied: idna<4,>=2.5 in /home/ec2-user/anaconda3/envs/pytorch_p39/lib/python3.9/site-packages (from requests->transformers>=4.0.1->nemo_toolkit[all]) (3.4)\n",
      "Requirement already satisfied: certifi>=2017.4.17 in /home/ec2-user/anaconda3/envs/pytorch_p39/lib/python3.9/site-packages (from requests->transformers>=4.0.1->nemo_toolkit[all]) (2022.12.7)\n",
      "Requirement already satisfied: mpmath>=0.19 in /home/ec2-user/anaconda3/envs/pytorch_p39/lib/python3.9/site-packages (from sympy>=1.1->pyannote.metrics->nemo_toolkit[all]) (1.2.1)\n",
      "Requirement already satisfied: soupsieve>1.2 in /home/ec2-user/anaconda3/envs/pytorch_p39/lib/python3.9/site-packages (from beautifulsoup4->gdown->nemo_toolkit[all]) (2.3.2.post1)\n",
      "Requirement already satisfied: starlette<0.26.0,>=0.25.0 in /home/ec2-user/anaconda3/envs/pytorch_p39/lib/python3.9/site-packages (from fastapi->gradio->nemo_toolkit[all]) (0.25.0)\n",
      "Requirement already satisfied: httpcore<0.17.0,>=0.15.0 in /home/ec2-user/anaconda3/envs/pytorch_p39/lib/python3.9/site-packages (from httpx->gradio->nemo_toolkit[all]) (0.16.3)\n",
      "Requirement already satisfied: rfc3986[idna2008]<2,>=1.3 in /home/ec2-user/anaconda3/envs/pytorch_p39/lib/python3.9/site-packages (from httpx->gradio->nemo_toolkit[all]) (1.5.0)\n",
      "Requirement already satisfied: sniffio in /home/ec2-user/anaconda3/envs/pytorch_p39/lib/python3.9/site-packages (from httpx->gradio->nemo_toolkit[all]) (1.3.0)\n",
      "Requirement already satisfied: PySocks!=1.5.7,>=1.5.6 in /home/ec2-user/anaconda3/envs/pytorch_p39/lib/python3.9/site-packages (from requests->transformers>=4.0.1->nemo_toolkit[all]) (1.7.1)\n",
      "Requirement already satisfied: h11>=0.8 in /home/ec2-user/anaconda3/envs/pytorch_p39/lib/python3.9/site-packages (from uvicorn->gradio->nemo_toolkit[all]) (0.14.0)\n",
      "Requirement already satisfied: smmap<6,>=3.0.1 in /home/ec2-user/anaconda3/envs/pytorch_p39/lib/python3.9/site-packages (from gitdb<5,>=4.0.1->GitPython!=3.1.29,>=1.0.0->wandb->nemo_toolkit[all]) (5.0.0)\n",
      "Requirement already satisfied: anyio<5.0,>=3.0 in /home/ec2-user/anaconda3/envs/pytorch_p39/lib/python3.9/site-packages (from httpcore<0.17.0,>=0.15.0->httpx->gradio->nemo_toolkit[all]) (3.6.2)\n",
      "Requirement already satisfied: parso<0.9.0,>=0.8.0 in /home/ec2-user/anaconda3/envs/pytorch_p39/lib/python3.9/site-packages (from jedi>=0.16->ipython>=6.1.0->ipywidgets->nemo_toolkit[all]) (0.8.3)\n",
      "Requirement already satisfied: pyrsistent>=0.14.0 in /home/ec2-user/anaconda3/envs/pytorch_p39/lib/python3.9/site-packages (from jsonschema>=3.0->altair>=4.2.0->gradio->nemo_toolkit[all]) (0.19.3)\n",
      "Requirement already satisfied: jupyter-core>=4.9.2 in /home/ec2-user/anaconda3/envs/pytorch_p39/lib/python3.9/site-packages (from jupyter-client>=6.1.12->ipykernel>=4.5.1->ipywidgets->nemo_toolkit[all]) (5.1.3)\n",
      "Requirement already satisfied: uc-micro-py in /home/ec2-user/anaconda3/envs/pytorch_p39/lib/python3.9/site-packages (from linkify-it-py<3,>=1->markdown-it-py[linkify]>=2.0.0->gradio->nemo_toolkit[all]) (1.0.1)\n",
      "Requirement already satisfied: ptyprocess>=0.5 in /home/ec2-user/anaconda3/envs/pytorch_p39/lib/python3.9/site-packages (from pexpect>4.3->ipython>=6.1.0->ipywidgets->nemo_toolkit[all]) (0.7.0)\n",
      "Requirement already satisfied: pyasn1<0.5.0,>=0.4.6 in /home/ec2-user/anaconda3/envs/pytorch_p39/lib/python3.9/site-packages (from pyasn1-modules>=0.2.1->google-auth<3,>=1.6.3->tensorboard->nemo_toolkit[all]) (0.4.8)\n",
      "Requirement already satisfied: oauthlib>=3.0.0 in /home/ec2-user/anaconda3/envs/pytorch_p39/lib/python3.9/site-packages (from requests-oauthlib>=0.7.0->google-auth-oauthlib<0.5,>=0.4.1->tensorboard->nemo_toolkit[all]) (3.2.2)\n",
      "Requirement already satisfied: shellingham<2.0.0,>=1.3.0 in /home/ec2-user/anaconda3/envs/pytorch_p39/lib/python3.9/site-packages (from typer[all]>=0.2.1->pyannote.database>=4.0.1->pyannote.metrics->nemo_toolkit[all]) (1.5.0.post1)\n",
      "Requirement already satisfied: platformdirs>=2.5 in /home/ec2-user/anaconda3/envs/pytorch_p39/lib/python3.9/site-packages (from jupyter-core>=4.9.2->jupyter-client>=6.1.12->ipykernel>=4.5.1->ipywidgets->nemo_toolkit[all]) (2.6.2)\n",
      "Installing collected packages: omegaconf\n",
      "  Attempting uninstall: omegaconf\n",
      "    Found existing installation: omegaconf 2.3.0\n",
      "    Uninstalling omegaconf-2.3.0:\n",
      "      Successfully uninstalled omegaconf-2.3.0\n",
      "Successfully installed omegaconf-2.2.3\n",
      "Looking in indexes: https://pypi.org/simple, https://pip.repos.neuron.amazonaws.com\n",
      "Collecting llvmlite\n",
      "  Using cached llvmlite-0.39.1-cp39-cp39-manylinux_2_17_x86_64.manylinux2014_x86_64.whl (34.6 MB)\n",
      "Installing collected packages: llvmlite\n",
      "  Attempting uninstall: llvmlite\n",
      "    Found existing installation: llvmlite 0.39.1\n",
      "    Uninstalling llvmlite-0.39.1:\n",
      "      Successfully uninstalled llvmlite-0.39.1\n",
      "Successfully installed llvmlite-0.39.1\n"
     ]
    }
   ],
   "source": [
    "import sys\n",
    "import IPython\n",
    "\n",
    "if install_needed:\n",
    "    print(\"installing deps and restarting kernel\")\n",
    "    !{sys.executable} -m pip install -U smdebug sagemaker-experiments\n",
    "    !{sys.executable} -m pip install -U sagemaker\n",
    "    !{sys.executable} -m pip install -U datasets transformers\n",
    "    !{sys.executable} -m pip install -U wget omegaconf text-unidecode\n",
    "    ## Install NeMo\n",
    "    BRANCH = 'main'\n",
    "    !{sys.executable} -m pip install git+https://github.com/NVIDIA/NeMo.git@$BRANCH#egg=nemo_toolkit[all]\n",
    "    !pip install --upgrade --force-reinstall llvmlite\n",
    "    IPython.Application.instance().kernel.do_shutdown(True)"
   ]
  },
  {
   "cell_type": "markdown",
   "metadata": {
    "jp-MarkdownHeadingCollapsed": true,
    "tags": []
   },
   "source": [
    "## Amazon SageMaker Initialization\n",
    "\n",
    "This private preview feature is available to use in `us-east-1` and `us-west-2`.\n",
    "Throughout this example, you'll use a training script of GPT model and a text dataset.\n",
    "\n",
    "Run the following cell to import SageMaker modules and retrieve information of your current SageMaker work environment: your AWS account ID, the AWS Region you are using to run the notebook, and the ARN of your Amazon SageMaker execution role."
   ]
  },
  {
   "cell_type": "markdown",
   "metadata": {},
   "source": [
    "## Finetuning CTC models on other languages\n",
    "\n",
    "In previous tutorials, we have seen a few ways to restore an ASR model, set up the data loaders, and then either train from scratch or fine-tune the model on a small dataset. In this tutorial, we extend previous tutorials and discuss in detail how to * fine-tune a pre-trained model onto a new language*. While many of the concepts are similar to previous tutorials, this tutorial will dive deeper into essential steps. Namely,\n",
    "\n",
    " - Data preprocessing\n",
    " - Prepare tokenizers\n",
    " - Discuss how to fine-tune models on low-resource languages efficiently\n",
    " - Train a character encoding CTC model\n",
    " - Train a sub-word encoding CTC model\n",
    "\n",
    "For this tutorial (and limited by the compute and storage available on Colab environments), we will attempt to fine-tune an English ASR model onto the [Mozilla Common Voice](https://commonvoice.mozilla.org/en) dataset for Japanese. This dataset will also allow us to discuss a few details for fine-tuning low-resource languages. The methods discussed here can also be applied to languages with several thousand hours of data!\n",
    "\n",
    "**Note**: It is advised to review the execution flow diagram for ASR models in order to correctly setup the model prior to fine-tuning - [ASR CTC Examples](https://github.com/NVIDIA/NeMo/blob/main/examples/asr/asr_ctc/README.md)\n"
   ]
  },
  {
   "cell_type": "code",
   "execution_count": 1,
   "metadata": {
    "tags": []
   },
   "outputs": [],
   "source": [
    "%load_ext autoreload\n",
    "%autoreload 2"
   ]
  },
  {
   "cell_type": "code",
   "execution_count": 2,
   "metadata": {
    "tags": []
   },
   "outputs": [
    {
     "name": "stderr",
     "output_type": "stream",
     "text": [
      "INFO:botocore.credentials:Found credentials from IAM Role: BaseNotebookInstanceEc2InstanceRole\n",
      "INFO:botocore.credentials:Found credentials from IAM Role: BaseNotebookInstanceEc2InstanceRole\n"
     ]
    },
    {
     "name": "stdout",
     "output_type": "stream",
     "text": [
      "CPU times: user 2.57 s, sys: 5.81 s, total: 8.38 s\n",
      "Wall time: 1.11 s\n"
     ]
    }
   ],
   "source": [
    "%%time\n",
    "import os\n",
    "import boto3\n",
    "import sagemaker\n",
    "\n",
    "from sagemaker import get_execution_role\n",
    "from sagemaker.huggingface import HuggingFace\n",
    "from smexperiments.experiment import Experiment\n",
    "from smexperiments.trial import Trial\n",
    "from sagemaker.debugger import (Rule,\n",
    "                                rule_configs,\n",
    "                                ProfilerConfig, \n",
    "                                FrameworkProfile, \n",
    "                                DetailedProfilingConfig, \n",
    "                                DataloaderProfilingConfig, \n",
    "                                PythonProfilingConfig)\n",
    "from time import strftime\n",
    "from pathlib import Path\n",
    "\n",
    "role = get_execution_role()\n",
    "\n",
    "sm_boto_client = boto3.client(\"sagemaker\")\n",
    "sagemaker_session = sagemaker.session.Session()"
   ]
  },
  {
   "cell_type": "code",
   "execution_count": 3,
   "metadata": {
    "tags": []
   },
   "outputs": [
    {
     "name": "stdout",
     "output_type": "stream",
     "text": [
      "2.135.1.post0\n"
     ]
    }
   ],
   "source": [
    "print(sagemaker.__version__)"
   ]
  },
  {
   "cell_type": "markdown",
   "metadata": {},
   "source": [
    "## Set Up SageMaker Experiment\n",
    "Create or load [SageMaker Experiment](https://docs.aws.amazon.com/sagemaker/latest/dg/experiments.html) for the example training job. This will create an experiment trial object in SageMaker."
   ]
  },
  {
   "cell_type": "code",
   "execution_count": 39,
   "metadata": {
    "tags": []
   },
   "outputs": [],
   "source": [
    "def create_experiment(experiment_name):\n",
    "    try:\n",
    "        sm_experiment = Experiment.load(experiment_name)\n",
    "    except:\n",
    "        sm_experiment = Experiment.create(experiment_name=experiment_name)"
   ]
  },
  {
   "cell_type": "code",
   "execution_count": 40,
   "metadata": {
    "tags": []
   },
   "outputs": [],
   "source": [
    "def create_trial(experiment_name):\n",
    "    create_date = strftime(\"%m%d-%H%M%s\")\n",
    "    sm_trial = Trial.create(trial_name=f'{experiment_name}-{create_date}',\n",
    "                            experiment_name=experiment_name)\n",
    "\n",
    "    job_name = f'{sm_trial.trial_name}'\n",
    "    return job_name"
   ]
  },
  {
   "cell_type": "markdown",
   "metadata": {},
   "source": [
    "## Setup fsx and use fsx for data channels and checkpoints\n",
    "\n",
    "While the above option is easier to setup, using an FSX can be beneficial for performance when dealing with large input sizes and large model sizes. \n",
    "\n",
    "Please see the instructions [here](https://github.com/aws/amazon-sagemaker-examples/blob/master/advanced_functionality/distributed_tensorflow_mask_rcnn/mask-rcnn-scriptmode-fsx.ipynb), to create the FSx lustre filesystem and import the dataset from the S3 bucket to your fsx filesystem. Note that the FSX must be created in a private subnet with internet gateway to ensure that training job has access to the internet. "
   ]
  },
  {
   "cell_type": "code",
   "execution_count": 14,
   "metadata": {
    "tags": []
   },
   "outputs": [],
   "source": [
    "# # Instructions obtained from:\n",
    "# # https://github.com/aws/amazon-sagemaker-examples/blob/master/advanced_functionality/distributed_tensorflow_mask_rcnn/mask-rcnn-scriptmode-fsx.ipynb\n",
    "\n",
    "# use_fsx = False\n",
    "\n",
    "# if use_fsx:\n",
    "#     from sagemaker.inputs import FileSystemInput\n",
    "\n",
    "#     # Specify FSx Lustre file system id.\n",
    "#     # file_system_id = \"<your-file-system-id>\"\n",
    "#     file_system_id = 'fs-099a02ed242945403'\n",
    "\n",
    "#     # Specify directory path for input data on the file system.\n",
    "#     # You need to provide normalized and absolute path below.\n",
    "#     # Your mount name can be provided by you when creating fsx, or generated automatically.\n",
    "#     # You can find this mount_name on the FSX page in console.\n",
    "#     # Example of fsx generated mount_name: \"3x5lhbmv\"\n",
    "#     # base_path = \"<your-mount-name>\"\n",
    "#     base_path = '/q7rzxbmv'\n",
    "\n",
    "#     # Specify your file system type.\n",
    "#     file_system_type = \"FSxLustre\"\n",
    "\n",
    "# #     training = FileSystemInput(file_system_id=file_system_id,\n",
    "# #                             file_system_type=file_system_type,\n",
    "# #                             directory_path=base_path + \"/Esperanto/eng_news_2020_1M\",\n",
    "# #                             file_system_access_mode=\"rw\")\n",
    "\n",
    "#     training = FileSystemInput(file_system_id=file_system_id,\n",
    "#                             file_system_type=file_system_type,\n",
    "#                             directory_path=base_path + \"/git-dataset\",\n",
    "#                             file_system_access_mode=\"rw\")\n",
    "#     model = FileSystemInput(file_system_id=file_system_id,\n",
    "#                             file_system_type=file_system_type,\n",
    "#                             directory_path=base_path + \"/bloom_model/bloom-560m\",\n",
    "#                             file_system_access_mode=\"rw\")\n",
    "\n",
    "#     data_channels = {\"training\": training, \"model\": model}"
   ]
  },
  {
   "cell_type": "markdown",
   "metadata": {},
   "source": [
    "## Download dataset\n",
    "\n",
    "We will use the NeMo script in the scripts directory to download and prepare the [Mozilla Common Voice (MCV)](https://commonvoice.mozilla.org/en) dataset for Japanese.\n",
    "\n",
    "The data preparation script will download the audio files and respective transcripts and then process the audio into mono-channel 16 kHz wave files that can be easily used for training ASR models.\n",
    "\n",
    "Why did we pick Japanese? Currently, the MCV Japanese dataset is tiny - a mere 2.5 hours of transcribed speech in total. Even when we combine the train and dev split to use for training, that amounts to less than 2 hours of transcribed speech. In addition to this, the Japanese vocabulary is massive, easily comprising several thousand unique tokens used in common vernacular. Compared to English, which has a mere 26 lower case characters as its alphabet, it imposes unique challenges when fine-tuning a model."
   ]
  },
  {
   "cell_type": "code",
   "execution_count": 15,
   "metadata": {
    "tags": []
   },
   "outputs": [],
   "source": [
    "import glob\n",
    "import subprocess\n",
    "import tarfile\n",
    "import wget\n",
    "import copy\n",
    "from omegaconf import OmegaConf, open_dict"
   ]
  },
  {
   "cell_type": "code",
   "execution_count": 16,
   "metadata": {
    "tags": []
   },
   "outputs": [],
   "source": [
    "dataset_path = '/home/ec2-user/SageMaker/dataset/common-voice-dataset'"
   ]
  },
  {
   "cell_type": "code",
   "execution_count": 17,
   "metadata": {
    "tags": []
   },
   "outputs": [],
   "source": [
    "VERSION = \"cv-corpus-12.0-2022-12-07\"\n",
    "LANGUAGE = \"ko\""
   ]
  },
  {
   "cell_type": "code",
   "execution_count": 18,
   "metadata": {
    "tags": []
   },
   "outputs": [],
   "source": [
    "tokenizer_dir = os.path.join(dataset_path, 'tokenizers', LANGUAGE)\n",
    "manifest_dir = os.path.join(dataset_path, 'manifests', LANGUAGE)"
   ]
  },
  {
   "cell_type": "code",
   "execution_count": 19,
   "metadata": {
    "tags": []
   },
   "outputs": [],
   "source": [
    "if not os.path.exists(tokenizer_dir):\n",
    "    os.makedirs(tokenizer_dir, exist_ok=True)\n",
    "    \n",
    "if not os.path.exists(manifest_dir):\n",
    "    os.makedirs(manifest_dir, exist_ok=True)"
   ]
  },
  {
   "cell_type": "code",
   "execution_count": 20,
   "metadata": {
    "tags": []
   },
   "outputs": [],
   "source": [
    "# ## mac에서 처리\n",
    "# !python ./NeMo/scripts/dataset_processing/get_commonvoice_data.py \\\n",
    "#   --data_root \"$dataset_path/$LANGUAGE/\" \\\n",
    "#   --manifest_dir=$manifest_dir \\\n",
    "#   --sample_rate=16000 \\\n",
    "#   --n_channels=1 \\\n",
    "#   --version=$VERSION \\\n",
    "#   --language=$LANGUAGE \\\n",
    "#   --files_to_process 'train.tsv' 'dev.tsv' 'test.tsv'"
   ]
  },
  {
   "cell_type": "code",
   "execution_count": 21,
   "metadata": {
    "tags": []
   },
   "outputs": [
    {
     "data": {
      "text/plain": [
       "'/home/ec2-user/SageMaker/dataset/common-voice-dataset/manifests/ko'"
      ]
     },
     "execution_count": 21,
     "metadata": {},
     "output_type": "execute_result"
    }
   ],
   "source": [
    "train_manifest = f\"{manifest_dir}/commonvoice_train_manifest.json\"\n",
    "dev_manifest = f\"{manifest_dir}/commonvoice_dev_manifest.json\"\n",
    "test_manifest = f\"{manifest_dir}/commonvoice_test_manifest.json\"\n",
    "manifest_dir"
   ]
  },
  {
   "cell_type": "markdown",
   "metadata": {},
   "source": [
    "## Manifest utilities\n",
    "\n",
    "First, we construct some utilities to read and write manifest files"
   ]
  },
  {
   "cell_type": "code",
   "execution_count": 22,
   "metadata": {
    "tags": []
   },
   "outputs": [],
   "source": [
    "# Manifest Utils\n",
    "from tqdm.auto import tqdm\n",
    "import json\n",
    "\n",
    "def read_manifest(path):\n",
    "    manifest = []\n",
    "    with open(path, 'r') as f:\n",
    "        for line in tqdm(f, desc=\"Reading manifest data\"):\n",
    "            line = line.replace(\"\\n\", \"\")\n",
    "            data = json.loads(line)\n",
    "            manifest.append(data)\n",
    "    return manifest\n",
    "\n",
    "\n",
    "def write_processed_manifest(data, original_path):\n",
    "    original_manifest_name = os.path.basename(original_path)\n",
    "    new_manifest_name = original_manifest_name.replace(\".json\", \"_processed.json\")\n",
    "\n",
    "    manifest_dir = os.path.split(original_path)[0]\n",
    "    filepath = os.path.join(manifest_dir, new_manifest_name)\n",
    "    with open(filepath, 'w') as f:\n",
    "        for datum in tqdm(data, desc=\"Writing manifest data\"):\n",
    "            datum = json.dumps(datum)\n",
    "            f.write(f\"{datum}\\n\")\n",
    "    print(f\"Finished writing manifest: {filepath}\")\n",
    "    return filepath"
   ]
  },
  {
   "cell_type": "code",
   "execution_count": 23,
   "metadata": {
    "tags": []
   },
   "outputs": [
    {
     "data": {
      "application/json": {
       "ascii": false,
       "bar_format": null,
       "colour": null,
       "elapsed": 0.008962631225585938,
       "initial": 0,
       "n": 0,
       "ncols": null,
       "nrows": null,
       "postfix": null,
       "prefix": "Reading manifest data",
       "rate": null,
       "total": null,
       "unit": "it",
       "unit_divisor": 1000,
       "unit_scale": false
      },
      "application/vnd.jupyter.widget-view+json": {
       "model_id": "5c693f75e6c442b182d7c375cda282f5",
       "version_major": 2,
       "version_minor": 0
      },
      "text/plain": [
       "Reading manifest data: 0it [00:00, ?it/s]"
      ]
     },
     "metadata": {},
     "output_type": "display_data"
    },
    {
     "data": {
      "application/json": {
       "ascii": false,
       "bar_format": null,
       "colour": null,
       "elapsed": 0.008262157440185547,
       "initial": 0,
       "n": 0,
       "ncols": null,
       "nrows": null,
       "postfix": null,
       "prefix": "Reading manifest data",
       "rate": null,
       "total": null,
       "unit": "it",
       "unit_divisor": 1000,
       "unit_scale": false
      },
      "application/vnd.jupyter.widget-view+json": {
       "model_id": "82b7b9cba3594c9691c3f1d8bba46876",
       "version_major": 2,
       "version_minor": 0
      },
      "text/plain": [
       "Reading manifest data: 0it [00:00, ?it/s]"
      ]
     },
     "metadata": {},
     "output_type": "display_data"
    },
    {
     "data": {
      "application/json": {
       "ascii": false,
       "bar_format": null,
       "colour": null,
       "elapsed": 0.00825047492980957,
       "initial": 0,
       "n": 0,
       "ncols": null,
       "nrows": null,
       "postfix": null,
       "prefix": "Reading manifest data",
       "rate": null,
       "total": null,
       "unit": "it",
       "unit_divisor": 1000,
       "unit_scale": false
      },
      "application/vnd.jupyter.widget-view+json": {
       "model_id": "c64675911bbd4079bb50c0baf5b66300",
       "version_major": 2,
       "version_minor": 0
      },
      "text/plain": [
       "Reading manifest data: 0it [00:00, ?it/s]"
      ]
     },
     "metadata": {},
     "output_type": "display_data"
    }
   ],
   "source": [
    "train_manifest_data = read_manifest(train_manifest)\n",
    "dev_manifest_data = read_manifest(dev_manifest)\n",
    "test_manifest_data = read_manifest(test_manifest)"
   ]
  },
  {
   "cell_type": "code",
   "execution_count": 24,
   "metadata": {
    "tags": []
   },
   "outputs": [],
   "source": [
    "train_text = [data['text'] for data in train_manifest_data]\n",
    "dev_text = [data['text'] for data in dev_manifest_data]\n",
    "test_text = [data['text'] for data in test_manifest_data]"
   ]
  },
  {
   "cell_type": "markdown",
   "metadata": {},
   "source": [
    "## Character set\n",
    "\n",
    "Let us calculate the character set - which is the set of unique tokens that exist within the text manifests."
   ]
  },
  {
   "cell_type": "code",
   "execution_count": 29,
   "metadata": {
    "tags": []
   },
   "outputs": [],
   "source": [
    "from collections import defaultdict\n",
    "\n",
    "def get_charset(manifest_data):\n",
    "    charset = defaultdict(int)\n",
    "    for row in tqdm(manifest_data, desc=\"Computing character set\"):\n",
    "        text = row['text']\n",
    "        for character in text:\n",
    "            charset[character] += 1\n",
    "    return charset"
   ]
  },
  {
   "cell_type": "code",
   "execution_count": 30,
   "metadata": {
    "tags": []
   },
   "outputs": [
    {
     "data": {
      "application/json": {
       "ascii": false,
       "bar_format": null,
       "colour": null,
       "elapsed": 0.007890701293945312,
       "initial": 0,
       "n": 0,
       "ncols": null,
       "nrows": null,
       "postfix": null,
       "prefix": "Computing character set",
       "rate": null,
       "total": 93,
       "unit": "it",
       "unit_divisor": 1000,
       "unit_scale": false
      },
      "application/vnd.jupyter.widget-view+json": {
       "model_id": "a372b5b5a6fa466cbf335384aac01102",
       "version_major": 2,
       "version_minor": 0
      },
      "text/plain": [
       "Computing character set:   0%|          | 0/93 [00:00<?, ?it/s]"
      ]
     },
     "metadata": {},
     "output_type": "display_data"
    },
    {
     "data": {
      "application/json": {
       "ascii": false,
       "bar_format": null,
       "colour": null,
       "elapsed": 0.007737874984741211,
       "initial": 0,
       "n": 0,
       "ncols": null,
       "nrows": null,
       "postfix": null,
       "prefix": "Computing character set",
       "rate": null,
       "total": 29,
       "unit": "it",
       "unit_divisor": 1000,
       "unit_scale": false
      },
      "application/vnd.jupyter.widget-view+json": {
       "model_id": "0f669c148c3c48e2824e227583513692",
       "version_major": 2,
       "version_minor": 0
      },
      "text/plain": [
       "Computing character set:   0%|          | 0/29 [00:00<?, ?it/s]"
      ]
     },
     "metadata": {},
     "output_type": "display_data"
    },
    {
     "data": {
      "application/json": {
       "ascii": false,
       "bar_format": null,
       "colour": null,
       "elapsed": 0.0074863433837890625,
       "initial": 0,
       "n": 0,
       "ncols": null,
       "nrows": null,
       "postfix": null,
       "prefix": "Computing character set",
       "rate": null,
       "total": 28,
       "unit": "it",
       "unit_divisor": 1000,
       "unit_scale": false
      },
      "application/vnd.jupyter.widget-view+json": {
       "model_id": "f9410a37630b46259acc74d1beae933a",
       "version_major": 2,
       "version_minor": 0
      },
      "text/plain": [
       "Computing character set:   0%|          | 0/28 [00:00<?, ?it/s]"
      ]
     },
     "metadata": {},
     "output_type": "display_data"
    }
   ],
   "source": [
    "train_charset = get_charset(train_manifest_data)\n",
    "dev_charset = get_charset(dev_manifest_data)\n",
    "test_charset = get_charset(test_manifest_data)"
   ]
  },
  {
   "cell_type": "markdown",
   "metadata": {},
   "source": [
    "Count the number of unique tokens that exist within this dataset"
   ]
  },
  {
   "cell_type": "code",
   "execution_count": 32,
   "metadata": {
    "tags": []
   },
   "outputs": [],
   "source": [
    "train_dev_set = set.union(set(train_charset.keys()), set(dev_charset.keys()))\n",
    "test_set = set(test_charset.keys())"
   ]
  },
  {
   "cell_type": "code",
   "execution_count": 33,
   "metadata": {
    "tags": []
   },
   "outputs": [
    {
     "name": "stdout",
     "output_type": "stream",
     "text": [
      "Number of tokens in train+dev set : 475\n",
      "Number of tokens in test set : 214\n"
     ]
    }
   ],
   "source": [
    "print(f\"Number of tokens in train+dev set : {len(train_dev_set)}\")\n",
    "print(f\"Number of tokens in test set : {len(test_set)}\")"
   ]
  },
  {
   "cell_type": "markdown",
   "metadata": {},
   "source": [
    "## Count number of Out-Of-Vocabulary tokens in the test set\n",
    "\n",
    "Given such a vast number of tokens exist in the train and dev set, lets make sure that there are no outlier tokens in the test set (remember: the number of kanji used regularly is roughly more than 2000 tokens!)."
   ]
  },
  {
   "cell_type": "code",
   "execution_count": 34,
   "metadata": {
    "tags": []
   },
   "outputs": [
    {
     "name": "stdout",
     "output_type": "stream",
     "text": [
      "Number of OOV tokens in test set : 33\n",
      "\n",
      "{'곱', '좀', '밝', '녁', '쩍', '월', '탓', '력', '빠', '형', '롭', '통', '행', '빌', '꼈', '섯', '붐', '꿈', '괴', '많', '너', '젊', '굉', '늙', '석', '큰', '률', '싶', '휘', '즐', '흘', '략', '근'}\n"
     ]
    }
   ],
   "source": [
    "# OOV tokens in test set\n",
    "train_test_common = set.intersection(train_dev_set, test_set)\n",
    "test_oov = test_set - train_test_common\n",
    "print(f\"Number of OOV tokens in test set : {len(test_oov)}\")\n",
    "print()\n",
    "print(test_oov)"
   ]
  },
  {
   "cell_type": "markdown",
   "metadata": {},
   "source": [
    "So there exists a significant number of hangul that exist only in the test set, but not in the train or dev set. In order to simplify the learning task (and because there is simply too little data), we will remove the unique test set hangul.\n",
    "\n",
    "**Note**: Removing hangul inevitably means some text cannot be correctly transcribed. In the case of Korean, this means certain transcriptions will mean entirely different when compared to the spoken audio."
   ]
  },
  {
   "cell_type": "markdown",
   "metadata": {},
   "source": [
    "## Check the distribution of hangul\n",
    "\n",
    "Next, just as an exercise, we calculate the occurrence ratio of kanji in the train and dev corpus. \n",
    "\n",
    "Here, `count_keys` represents a dictionary of lists - such that each key is the number of times a token occurred in the entire training corpus, and the value is a list of the hangul that occurred that many times."
   ]
  },
  {
   "cell_type": "code",
   "execution_count": 40,
   "metadata": {
    "tags": []
   },
   "outputs": [],
   "source": [
    "# Populate dictionary mapping count: list[tokens]\n",
    "train_counts = defaultdict(list)\n",
    "for token, count in train_charset.items():\n",
    "    train_counts[count].append(token)\n",
    "for token, count in dev_charset.items():\n",
    "    train_counts[count].append(token)\n",
    "\n",
    "# Compute sorter order of the count keys\n",
    "count_keys = sorted(list(train_counts.keys()))"
   ]
  },
  {
   "cell_type": "markdown",
   "metadata": {},
   "source": [
    "Build a paired list that computes the number of unique hangul which occurs less than some `MAX_COUNT` number of times."
   ]
  },
  {
   "cell_type": "code",
   "execution_count": 45,
   "metadata": {
    "tags": []
   },
   "outputs": [],
   "source": [
    "MAX_COUNT = 32\n",
    "\n",
    "TOKEN_COUNT_X = []\n",
    "NUM_TOKENS_Y = []\n",
    "for count in range(1, MAX_COUNT + 1):\n",
    "    if count in train_counts:\n",
    "        num_tokens = len(train_counts[count])\n",
    "\n",
    "        TOKEN_COUNT_X.append(count)\n",
    "        NUM_TOKENS_Y.append(num_tokens)"
   ]
  },
  {
   "cell_type": "code",
   "execution_count": 46,
   "metadata": {
    "tags": []
   },
   "outputs": [
    {
     "data": {
      "image/png": "[encoded data removed]",
      "text/plain": [
       "<Figure size 640x480 with 1 Axes>"
      ]
     },
     "metadata": {},
     "output_type": "display_data"
    }
   ],
   "source": [
    "import matplotlib.pyplot as plt\n",
    "\n",
    "plt.bar(x=TOKEN_COUNT_X, height=NUM_TOKENS_Y)\n",
    "plt.title(\"Occurance of unique tokens in train+dev set\")\n",
    "plt.xlabel(\"# of occurances\")\n",
    "plt.ylabel(\"# of tokens\")\n",
    "plt.xlim(0, MAX_COUNT);"
   ]
  },
  {
   "cell_type": "code",
   "execution_count": 43,
   "metadata": {
    "tags": []
   },
   "outputs": [
    {
     "name": "stdout",
     "output_type": "stream",
     "text": [
      "Number of tokens with <= 5 occurances : 448\n"
     ]
    }
   ],
   "source": [
    "UNCOMMON_TOKENS_COUNT = 5\n",
    "\n",
    "chars_with_infrequent_occurance = set()\n",
    "for count in range(1, UNCOMMON_TOKENS_COUNT + 1):\n",
    "    if count in train_counts:\n",
    "        token_list = train_counts[count]\n",
    "        chars_with_infrequent_occurance.update(set(token_list))\n",
    "\n",
    "print(f\"Number of tokens with <= {UNCOMMON_TOKENS_COUNT} occurances : {len(chars_with_infrequent_occurance)}\")"
   ]
  },
  {
   "cell_type": "markdown",
   "metadata": {},
   "source": [
    "### Remove Out-of-Vocabulary tokens from the test set\n",
    "\n",
    "Previously we counted the set of Out-of-Vocabulary tokens that exist in the test set but not in the train or dev set. Now, let's remove them."
   ]
  },
  {
   "cell_type": "code",
   "execution_count": 52,
   "metadata": {
    "tags": []
   },
   "outputs": [
    {
     "name": "stdout",
     "output_type": "stream",
     "text": [
      "Original train+dev+test vocab size : 508\n",
      "New train vocab size : 475\n"
     ]
    }
   ],
   "source": [
    "all_tokens = set.union(train_dev_set, test_set)\n",
    "print(f\"Original train+dev+test vocab size : {len(all_tokens)}\")\n",
    "\n",
    "extra_hangul = set(test_oov)\n",
    "train_token_set = all_tokens - extra_hangul\n",
    "print(f\"New train vocab size : {len(train_token_set)}\")"
   ]
  },
  {
   "cell_type": "markdown",
   "metadata": {
    "tags": []
   },
   "source": [
    "### Process Hangul"
   ]
  },
  {
   "cell_type": "code",
   "execution_count": 60,
   "metadata": {
    "tags": []
   },
   "outputs": [],
   "source": [
    "perform_normalization = True\n",
    "PERFORM_NORMALIZATION = bool(perform_normalization)"
   ]
  },
  {
   "cell_type": "code",
   "execution_count": 61,
   "metadata": {
    "tags": []
   },
   "outputs": [],
   "source": [
    "# import unicodedata\n",
    "# def process_hangul(text):\n",
    "#     normalized_text = unicodedata.normalize('NFD', text)\n",
    "#     normalized_text = normalized_text.replace(\"\\u3099\", \"\").replace(\"\\u309A\", \"\")\n",
    "#     return normalized_text"
   ]
  },
  {
   "cell_type": "code",
   "execution_count": 62,
   "metadata": {
    "tags": []
   },
   "outputs": [],
   "source": [
    "# if PERFORM_NORMALIZATION:\n",
    "#     normalized_train_token_set = set()\n",
    "#     for token in train_token_set:\n",
    "#         normalized_token = process_hangul(str(token))\n",
    "#         normalized_train_token_set.update(normalized_token)\n",
    "        \n",
    "#     print(f\"After hangul normalization, number of train tokens : {len(normalized_train_token_set)}\")\n",
    "# else:\n",
    "#     normalized_train_token_set = train_token_set"
   ]
  },
  {
   "cell_type": "markdown",
   "metadata": {},
   "source": [
    "### Process special character tokens\n",
    "\n",
    "There are several tokens which do not accurately correspond to an acoustic feature. A few examples are various commas and the period. Think of it this way, unless every sentence ends with a period (and this is uncommon - since training datasets are often comprised of small snippets of audio out of a longer conversations), then a model has insufficient context to determine when to end a sentence from just the snippet it was provided.\n",
    "\n",
    "As such, we remove several special tokens such as commas, question marks, periods, quotation marks, and a few special tokens sometimes used in Japanese text."
   ]
  },
  {
   "cell_type": "code",
   "execution_count": 63,
   "metadata": {
    "tags": []
   },
   "outputs": [],
   "source": [
    "# Preprocessing steps\n",
    "import re\n",
    "import unicodedata\n",
    "\n",
    "chars_to_ignore_regex = '[\\,\\?\\.\\!\\-\\;\\:\\\"\\“\\%\\‘\\”\\�\\…\\{\\}\\【\\】\\・\\。\\『\\』\\、\\ー\\〜]'  # remove special character tokens\n",
    "hangul_removal_regex = '[' + \"\".join([f\"\\{token}\" for token in extra_hangul]) + ']'  # remove test set kanji\n",
    "\n",
    "\n",
    "def remove_special_characters(data):\n",
    "    data[\"text\"] = re.sub(chars_to_ignore_regex, '', data[\"text\"]).lower().strip()\n",
    "    return data\n",
    "\n",
    "def remove_extra_hangul(data):\n",
    "    data[\"text\"] = re.sub(hangul_removal_regex, '', data[\"text\"])\n",
    "    return data\n",
    "\n",
    "def remove_hangul(data):\n",
    "    # perform dakuten normalization (if it was requested)\n",
    "    if PERFORM_NORMALIZATION:\n",
    "        text = data['text']\n",
    "        data['text'] = process_hangul(text)\n",
    "    return data"
   ]
  },
  {
   "cell_type": "markdown",
   "metadata": {},
   "source": [
    "### Process dataset\n",
    "\n",
    "Now that we have the functions necessary to clean up the transcripts, let's create a small pipeline to clean up the manifest and write new manifests for us. For simplicity's sake (as the dataset is so small), a simple sequential pipeline will be sufficient for our use case."
   ]
  },
  {
   "cell_type": "code",
   "execution_count": 67,
   "metadata": {
    "tags": []
   },
   "outputs": [],
   "source": [
    "# Processing pipeline\n",
    "def apply_preprocessors(manifest, preprocessors):\n",
    "    for processor in preprocessors:\n",
    "        for idx in tqdm(range(len(manifest)), desc=f\"Applying {processor.__name__}\"):\n",
    "            manifest[idx] = processor(manifest[idx])\n",
    "\n",
    "    print(\"Finished processing manifest !\")\n",
    "    return manifest"
   ]
  },
  {
   "cell_type": "code",
   "execution_count": 68,
   "metadata": {
    "tags": []
   },
   "outputs": [],
   "source": [
    "# List of pre-processing functions\n",
    "PREPROCESSORS = [\n",
    "    remove_special_characters,\n",
    "    remove_extra_hangul,\n",
    "    # remove_hangul,\n",
    "]"
   ]
  },
  {
   "cell_type": "code",
   "execution_count": 69,
   "metadata": {
    "tags": []
   },
   "outputs": [
    {
     "data": {
      "application/json": {
       "ascii": false,
       "bar_format": null,
       "colour": null,
       "elapsed": 0.011133909225463867,
       "initial": 0,
       "n": 0,
       "ncols": null,
       "nrows": null,
       "postfix": null,
       "prefix": "Reading manifest data",
       "rate": null,
       "total": null,
       "unit": "it",
       "unit_divisor": 1000,
       "unit_scale": false
      },
      "application/vnd.jupyter.widget-view+json": {
       "model_id": "067ab9943f374f43b7c88d48f2bc3444",
       "version_major": 2,
       "version_minor": 0
      },
      "text/plain": [
       "Reading manifest data: 0it [00:00, ?it/s]"
      ]
     },
     "metadata": {},
     "output_type": "display_data"
    },
    {
     "data": {
      "application/json": {
       "ascii": false,
       "bar_format": null,
       "colour": null,
       "elapsed": 0.013713598251342773,
       "initial": 0,
       "n": 0,
       "ncols": null,
       "nrows": null,
       "postfix": null,
       "prefix": "Reading manifest data",
       "rate": null,
       "total": null,
       "unit": "it",
       "unit_divisor": 1000,
       "unit_scale": false
      },
      "application/vnd.jupyter.widget-view+json": {
       "model_id": "af2534851b6c479986f835adc1ffa80f",
       "version_major": 2,
       "version_minor": 0
      },
      "text/plain": [
       "Reading manifest data: 0it [00:00, ?it/s]"
      ]
     },
     "metadata": {},
     "output_type": "display_data"
    },
    {
     "data": {
      "application/json": {
       "ascii": false,
       "bar_format": null,
       "colour": null,
       "elapsed": 0.013939380645751953,
       "initial": 0,
       "n": 0,
       "ncols": null,
       "nrows": null,
       "postfix": null,
       "prefix": "Reading manifest data",
       "rate": null,
       "total": null,
       "unit": "it",
       "unit_divisor": 1000,
       "unit_scale": false
      },
      "application/vnd.jupyter.widget-view+json": {
       "model_id": "3990403ceed148f8ab51aa48f9ec58e0",
       "version_major": 2,
       "version_minor": 0
      },
      "text/plain": [
       "Reading manifest data: 0it [00:00, ?it/s]"
      ]
     },
     "metadata": {},
     "output_type": "display_data"
    },
    {
     "data": {
      "application/json": {
       "ascii": false,
       "bar_format": null,
       "colour": null,
       "elapsed": 0.012685060501098633,
       "initial": 0,
       "n": 0,
       "ncols": null,
       "nrows": null,
       "postfix": null,
       "prefix": "Applying remove_special_characters",
       "rate": null,
       "total": 93,
       "unit": "it",
       "unit_divisor": 1000,
       "unit_scale": false
      },
      "application/vnd.jupyter.widget-view+json": {
       "model_id": "2da95e4961b14f329ce6b17cf08a0b76",
       "version_major": 2,
       "version_minor": 0
      },
      "text/plain": [
       "Applying remove_special_characters:   0%|          | 0/93 [00:00<?, ?it/s]"
      ]
     },
     "metadata": {},
     "output_type": "display_data"
    },
    {
     "data": {
      "application/json": {
       "ascii": false,
       "bar_format": null,
       "colour": null,
       "elapsed": 0.012722969055175781,
       "initial": 0,
       "n": 0,
       "ncols": null,
       "nrows": null,
       "postfix": null,
       "prefix": "Applying remove_extra_hangul",
       "rate": null,
       "total": 93,
       "unit": "it",
       "unit_divisor": 1000,
       "unit_scale": false
      },
      "application/vnd.jupyter.widget-view+json": {
       "model_id": "d93ca539560047a9b8810474e2f04a9c",
       "version_major": 2,
       "version_minor": 0
      },
      "text/plain": [
       "Applying remove_extra_hangul:   0%|          | 0/93 [00:00<?, ?it/s]"
      ]
     },
     "metadata": {},
     "output_type": "display_data"
    },
    {
     "name": "stdout",
     "output_type": "stream",
     "text": [
      "Finished processing manifest !\n"
     ]
    },
    {
     "data": {
      "application/json": {
       "ascii": false,
       "bar_format": null,
       "colour": null,
       "elapsed": 0.01299285888671875,
       "initial": 0,
       "n": 0,
       "ncols": null,
       "nrows": null,
       "postfix": null,
       "prefix": "Applying remove_special_characters",
       "rate": null,
       "total": 29,
       "unit": "it",
       "unit_divisor": 1000,
       "unit_scale": false
      },
      "application/vnd.jupyter.widget-view+json": {
       "model_id": "89e0c27e775e4c4d9fd0005f7ea7815e",
       "version_major": 2,
       "version_minor": 0
      },
      "text/plain": [
       "Applying remove_special_characters:   0%|          | 0/29 [00:00<?, ?it/s]"
      ]
     },
     "metadata": {},
     "output_type": "display_data"
    },
    {
     "data": {
      "application/json": {
       "ascii": false,
       "bar_format": null,
       "colour": null,
       "elapsed": 0.012676477432250977,
       "initial": 0,
       "n": 0,
       "ncols": null,
       "nrows": null,
       "postfix": null,
       "prefix": "Applying remove_extra_hangul",
       "rate": null,
       "total": 29,
       "unit": "it",
       "unit_divisor": 1000,
       "unit_scale": false
      },
      "application/vnd.jupyter.widget-view+json": {
       "model_id": "5f7d4162b940445b946adb7c35227203",
       "version_major": 2,
       "version_minor": 0
      },
      "text/plain": [
       "Applying remove_extra_hangul:   0%|          | 0/29 [00:00<?, ?it/s]"
      ]
     },
     "metadata": {},
     "output_type": "display_data"
    },
    {
     "name": "stdout",
     "output_type": "stream",
     "text": [
      "Finished processing manifest !\n"
     ]
    },
    {
     "data": {
      "application/json": {
       "ascii": false,
       "bar_format": null,
       "colour": null,
       "elapsed": 0.013136625289916992,
       "initial": 0,
       "n": 0,
       "ncols": null,
       "nrows": null,
       "postfix": null,
       "prefix": "Applying remove_special_characters",
       "rate": null,
       "total": 28,
       "unit": "it",
       "unit_divisor": 1000,
       "unit_scale": false
      },
      "application/vnd.jupyter.widget-view+json": {
       "model_id": "13502aa9673f418c8c455c1218778ca5",
       "version_major": 2,
       "version_minor": 0
      },
      "text/plain": [
       "Applying remove_special_characters:   0%|          | 0/28 [00:00<?, ?it/s]"
      ]
     },
     "metadata": {},
     "output_type": "display_data"
    },
    {
     "data": {
      "application/json": {
       "ascii": false,
       "bar_format": null,
       "colour": null,
       "elapsed": 0.012604475021362305,
       "initial": 0,
       "n": 0,
       "ncols": null,
       "nrows": null,
       "postfix": null,
       "prefix": "Applying remove_extra_hangul",
       "rate": null,
       "total": 28,
       "unit": "it",
       "unit_divisor": 1000,
       "unit_scale": false
      },
      "application/vnd.jupyter.widget-view+json": {
       "model_id": "effec944c7134526a1e62f683e9dd283",
       "version_major": 2,
       "version_minor": 0
      },
      "text/plain": [
       "Applying remove_extra_hangul:   0%|          | 0/28 [00:00<?, ?it/s]"
      ]
     },
     "metadata": {},
     "output_type": "display_data"
    },
    {
     "name": "stdout",
     "output_type": "stream",
     "text": [
      "Finished processing manifest !\n"
     ]
    },
    {
     "data": {
      "application/json": {
       "ascii": false,
       "bar_format": null,
       "colour": null,
       "elapsed": 0.01266789436340332,
       "initial": 0,
       "n": 0,
       "ncols": null,
       "nrows": null,
       "postfix": null,
       "prefix": "Writing manifest data",
       "rate": null,
       "total": 93,
       "unit": "it",
       "unit_divisor": 1000,
       "unit_scale": false
      },
      "application/vnd.jupyter.widget-view+json": {
       "model_id": "d36a95982e084564a7be74dda45bef5b",
       "version_major": 2,
       "version_minor": 0
      },
      "text/plain": [
       "Writing manifest data:   0%|          | 0/93 [00:00<?, ?it/s]"
      ]
     },
     "metadata": {},
     "output_type": "display_data"
    },
    {
     "name": "stdout",
     "output_type": "stream",
     "text": [
      "Finished writing manifest: /home/ec2-user/SageMaker/dataset/common-voice-dataset/manifests/ko/commonvoice_train_manifest_processed.json\n"
     ]
    },
    {
     "data": {
      "application/json": {
       "ascii": false,
       "bar_format": null,
       "colour": null,
       "elapsed": 0.012863636016845703,
       "initial": 0,
       "n": 0,
       "ncols": null,
       "nrows": null,
       "postfix": null,
       "prefix": "Writing manifest data",
       "rate": null,
       "total": 29,
       "unit": "it",
       "unit_divisor": 1000,
       "unit_scale": false
      },
      "application/vnd.jupyter.widget-view+json": {
       "model_id": "d2ca1b3fcfb141a1a6a4c0282cca7689",
       "version_major": 2,
       "version_minor": 0
      },
      "text/plain": [
       "Writing manifest data:   0%|          | 0/29 [00:00<?, ?it/s]"
      ]
     },
     "metadata": {},
     "output_type": "display_data"
    },
    {
     "name": "stdout",
     "output_type": "stream",
     "text": [
      "Finished writing manifest: /home/ec2-user/SageMaker/dataset/common-voice-dataset/manifests/ko/commonvoice_dev_manifest_processed.json\n"
     ]
    },
    {
     "data": {
      "application/json": {
       "ascii": false,
       "bar_format": null,
       "colour": null,
       "elapsed": 0.012210845947265625,
       "initial": 0,
       "n": 0,
       "ncols": null,
       "nrows": null,
       "postfix": null,
       "prefix": "Writing manifest data",
       "rate": null,
       "total": 28,
       "unit": "it",
       "unit_divisor": 1000,
       "unit_scale": false
      },
      "application/vnd.jupyter.widget-view+json": {
       "model_id": "6a7d322c8998455ba0944bce2ff0dac0",
       "version_major": 2,
       "version_minor": 0
      },
      "text/plain": [
       "Writing manifest data:   0%|          | 0/28 [00:00<?, ?it/s]"
      ]
     },
     "metadata": {},
     "output_type": "display_data"
    },
    {
     "name": "stdout",
     "output_type": "stream",
     "text": [
      "Finished writing manifest: /home/ec2-user/SageMaker/dataset/common-voice-dataset/manifests/ko/commonvoice_test_manifest_processed.json\n"
     ]
    }
   ],
   "source": [
    "# Load manifests\n",
    "train_data = read_manifest(train_manifest)\n",
    "dev_data = read_manifest(dev_manifest)\n",
    "test_data = read_manifest(test_manifest)\n",
    "\n",
    "# Apply preprocessing\n",
    "train_data_processed = apply_preprocessors(train_data, PREPROCESSORS)\n",
    "dev_data_processed = apply_preprocessors(dev_data, PREPROCESSORS)\n",
    "test_data_processed = apply_preprocessors(test_data, PREPROCESSORS)\n",
    "\n",
    "# Write new manifests\n",
    "train_manifest_cleaned = write_processed_manifest(train_data_processed, train_manifest)\n",
    "dev_manifest_cleaned = write_processed_manifest(dev_data_processed, dev_manifest)\n",
    "test_manifest_cleaned = write_processed_manifest(test_data_processed, test_manifest)"
   ]
  },
  {
   "cell_type": "markdown",
   "metadata": {},
   "source": [
    "### Final character set\n",
    "\n",
    "After pre-processing the dataset, let's recover the final character set used to train the models."
   ]
  },
  {
   "cell_type": "code",
   "execution_count": 70,
   "metadata": {
    "tags": []
   },
   "outputs": [
    {
     "data": {
      "application/json": {
       "ascii": false,
       "bar_format": null,
       "colour": null,
       "elapsed": 0.00847172737121582,
       "initial": 0,
       "n": 0,
       "ncols": null,
       "nrows": null,
       "postfix": null,
       "prefix": "Reading manifest data",
       "rate": null,
       "total": null,
       "unit": "it",
       "unit_divisor": 1000,
       "unit_scale": false
      },
      "application/vnd.jupyter.widget-view+json": {
       "model_id": "def70d8f87ac47b6950621d95b46425b",
       "version_major": 2,
       "version_minor": 0
      },
      "text/plain": [
       "Reading manifest data: 0it [00:00, ?it/s]"
      ]
     },
     "metadata": {},
     "output_type": "display_data"
    },
    {
     "data": {
      "application/json": {
       "ascii": false,
       "bar_format": null,
       "colour": null,
       "elapsed": 0.007574319839477539,
       "initial": 0,
       "n": 0,
       "ncols": null,
       "nrows": null,
       "postfix": null,
       "prefix": "Computing character set",
       "rate": null,
       "total": 93,
       "unit": "it",
       "unit_divisor": 1000,
       "unit_scale": false
      },
      "application/vnd.jupyter.widget-view+json": {
       "model_id": "d4e6aa598f9640e0a80a878b720d3e02",
       "version_major": 2,
       "version_minor": 0
      },
      "text/plain": [
       "Computing character set:   0%|          | 0/93 [00:00<?, ?it/s]"
      ]
     },
     "metadata": {},
     "output_type": "display_data"
    },
    {
     "data": {
      "application/json": {
       "ascii": false,
       "bar_format": null,
       "colour": null,
       "elapsed": 0.0080108642578125,
       "initial": 0,
       "n": 0,
       "ncols": null,
       "nrows": null,
       "postfix": null,
       "prefix": "Reading manifest data",
       "rate": null,
       "total": null,
       "unit": "it",
       "unit_divisor": 1000,
       "unit_scale": false
      },
      "application/vnd.jupyter.widget-view+json": {
       "model_id": "8d194b7b90894864977e891e0a1544e6",
       "version_major": 2,
       "version_minor": 0
      },
      "text/plain": [
       "Reading manifest data: 0it [00:00, ?it/s]"
      ]
     },
     "metadata": {},
     "output_type": "display_data"
    },
    {
     "data": {
      "application/json": {
       "ascii": false,
       "bar_format": null,
       "colour": null,
       "elapsed": 0.0076448917388916016,
       "initial": 0,
       "n": 0,
       "ncols": null,
       "nrows": null,
       "postfix": null,
       "prefix": "Computing character set",
       "rate": null,
       "total": 29,
       "unit": "it",
       "unit_divisor": 1000,
       "unit_scale": false
      },
      "application/vnd.jupyter.widget-view+json": {
       "model_id": "2bdb7a1dc17c4b688eda4df186b9c748",
       "version_major": 2,
       "version_minor": 0
      },
      "text/plain": [
       "Computing character set:   0%|          | 0/29 [00:00<?, ?it/s]"
      ]
     },
     "metadata": {},
     "output_type": "display_data"
    }
   ],
   "source": [
    "train_manifest_data = read_manifest(train_manifest_cleaned)\n",
    "train_charset = get_charset(train_manifest_data)\n",
    "\n",
    "dev_manifest_data = read_manifest(dev_manifest_cleaned)\n",
    "dev_charset = get_charset(dev_manifest_data)\n",
    "\n",
    "train_dev_set = set.union(set(train_charset.keys()), set(dev_charset.keys()))"
   ]
  },
  {
   "cell_type": "code",
   "execution_count": 71,
   "metadata": {
    "tags": []
   },
   "outputs": [
    {
     "name": "stdout",
     "output_type": "stream",
     "text": [
      "Number of tokens in preprocessed train+dev set : 470\n"
     ]
    }
   ],
   "source": [
    "print(f\"Number of tokens in preprocessed train+dev set : {len(train_dev_set)}\")"
   ]
  },
  {
   "cell_type": "markdown",
   "metadata": {},
   "source": [
    "## Processing job"
   ]
  },
  {
   "cell_type": "code",
   "execution_count": 59,
   "metadata": {},
   "outputs": [],
   "source": [
    "from sagemaker.pytorch import PyTorch\n",
    "from sagemaker.processing import Processor, ScriptProcessor, FrameworkProcessor"
   ]
  },
  {
   "cell_type": "code",
   "execution_count": 71,
   "metadata": {
    "tags": []
   },
   "outputs": [],
   "source": [
    "experiment_name = 'nemo-exp1'\n",
    "\n",
    "processing_instance_type = 'ml.m5.xlarge'\n",
    "processing_instance_type='local'"
   ]
  },
  {
   "cell_type": "code",
   "execution_count": 61,
   "metadata": {
    "tags": []
   },
   "outputs": [],
   "source": [
    "image_uri = sagemaker.image_uris.retrieve(\n",
    "    framework=\"pytorch\",\n",
    "    region=sagemaker_session.boto_region_name,\n",
    "    version=\"1.13.1\",\n",
    "    py_version=\"py39\",\n",
    "    image_scope='training',\n",
    "    instance_type=processing_instance_type,\n",
    ")"
   ]
  },
  {
   "cell_type": "code",
   "execution_count": 62,
   "metadata": {
    "tags": []
   },
   "outputs": [],
   "source": [
    "if processing_instance_type =='local':\n",
    "    from sagemaker.local import LocalSession\n",
    "    import os\n",
    "    \n",
    "    sagemaker_session = LocalSession()\n",
    "    sagemaker_session.config = {'local': {'local_code': True}}\n",
    "else:\n",
    "    sagemaker_session = sagemaker.Session()"
   ]
  },
  {
   "cell_type": "code",
   "execution_count": 63,
   "metadata": {
    "tags": []
   },
   "outputs": [
    {
     "name": "stderr",
     "output_type": "stream",
     "text": [
      "INFO:botocore.credentials:Found credentials from IAM Role: BaseNotebookInstanceEc2InstanceRole\n"
     ]
    }
   ],
   "source": [
    "bucket = sagemaker_session.default_bucket()\n",
    "prefix = 'nemo-test'\n",
    "code_location = f's3://{bucket}/{prefix}/backup_codes'\n",
    "output_path = f's3://{bucket}/{prefix}/model_output' \n",
    "s3_log_path = f's3://{bucket}/{prefix}/logs'"
   ]
  },
  {
   "cell_type": "code",
   "execution_count": 73,
   "metadata": {
    "tags": []
   },
   "outputs": [],
   "source": [
    "s3_source_path = 's3://dataset-us-west-2-cyj/commonvoice'\n",
    "processing_output = f's3://{bucket}/commonvoice/output'"
   ]
  },
  {
   "cell_type": "code",
   "execution_count": 74,
   "metadata": {
    "tags": []
   },
   "outputs": [],
   "source": [
    "nemo_processor = FrameworkProcessor(\n",
    "    PyTorch,\n",
    "    framework_version=\"1.13.1\",\n",
    "    role=role, \n",
    "    image_uri=image_uri,\n",
    "    instance_count=1,\n",
    "    instance_type=processing_instance_type,\n",
    "    code_location=code_location\n",
    "    )"
   ]
  },
  {
   "cell_type": "code",
   "execution_count": null,
   "metadata": {
    "tags": []
   },
   "outputs": [
    {
     "name": "stderr",
     "output_type": "stream",
     "text": [
      "INFO:botocore.credentials:Found credentials from IAM Role: BaseNotebookInstanceEc2InstanceRole\n",
      "INFO:botocore.credentials:Found credentials from IAM Role: BaseNotebookInstanceEc2InstanceRole\n",
      "INFO:sagemaker.processing:Uploaded /home/ec2-user/SageMaker/2023/training-code/Nvidia-NeMo/scripts/preprocessing/ to s3://sagemaker-us-west-2-322537213286/nemo-test/backup_codes/nemo-exp1-0308-10451678272312/source/sourcedir.tar.gz\n",
      "INFO:sagemaker.processing:runproc.sh uploaded to s3://sagemaker-us-west-2-322537213286/nemo-test/backup_codes/nemo-exp1-0308-10451678272312/source/runproc.sh\n",
      "INFO:sagemaker:Creating processing-job with name nemo-exp1-0308-10451678272312\n",
      "WARNING:sagemaker.local.local_session:Experiment configuration is not supported in local mode.\n",
      "INFO:sagemaker.local.local_session:Starting processing job\n"
     ]
    }
   ],
   "source": [
    "create_experiment(experiment_name)\n",
    "job_name = create_trial(experiment_name)\n",
    "\n",
    "nemo_processor.run(\n",
    "    code=\"nemo_processing.py\",\n",
    "    source_dir=os.getcwd() + \"/scripts/preprocessing/\",\n",
    "    inputs=[\n",
    "        ProcessingInput(source=s3_source_path, input_name=\"commonvoice\", destination=\"/opt/ml/processing/input\")\n",
    "    ],\n",
    "    outputs=[\n",
    "        ProcessingOutput(source=\"/opt/ml/processing/output\", destination=processing_output),\n",
    "    ],\n",
    "    # arguments=[\"--img\", \"640\", \"--conf\", \"0.25\", \"--source\", \"/opt/ml/processing/input\", \"--weights\", \"/opt/ml/processing/weights/model.tar.gz\", \"--project\", \"/opt/ml/processing/output\"],\n",
    "    job_name=job_name,\n",
    "    experiment_config={\n",
    "      'TrialName': job_name,\n",
    "      'TrialComponentDisplayName': job_name,\n",
    "    },\n",
    "    wait=False\n",
    ")"
   ]
  },
  {
   "cell_type": "markdown",
   "metadata": {},
   "source": [
    "## Set Up Hyperparameters, Metric Definitions, and MPI Options\n",
    "The following `hyperparameters` dictionary is to pass arguments to the training script (`train_gptj_simple.py`) and set the model parallel configuration when creating the training job.\n",
    "\n",
    "You can also add custom mpi flags. By default, we have `--mca btl_vader_single_copy_mechanism none` to remove unnecessary logs.\n",
    "\n",
    "Next we add a base metric definitions to enable the metric upload in SageMaker. You can add any further metric definitions."
   ]
  },
  {
   "cell_type": "code",
   "execution_count": null,
   "metadata": {},
   "outputs": [],
   "source": [
    "metric_definitions=[\n",
    "     {\"Name\": \"train_runtime\", \"Regex\": \"train_runtime.*=\\D*(.*?)$\"},\n",
    "     {'Name': 'train_samples_per_second', 'Regex': \"train_samples_per_second.*=\\D*(.*?)$\"},\n",
    "     {'Name': 'epoch', 'Regex': \"epoch.*=\\D*(.*?)$\"},\n",
    "     {'Name': 'f1', 'Regex': \"f1.*=\\D*(.*?)$\"},\n",
    "     {'Name': 'exact_match', 'Regex': \"exact_match.*=\\D*(.*?)$\"}]"
   ]
  },
  {
   "cell_type": "code",
   "execution_count": 8,
   "metadata": {},
   "outputs": [
    {
     "data": {
      "text/plain": [
       "{'config': '/opt/ml/code/config/train_cord-sm.yaml',\n",
       " 'pretrained_model_name_or_path': 'naver-clova-ix/donut-base',\n",
       " 'exp_version': 'test_experiment'}"
      ]
     },
     "execution_count": 8,
     "metadata": {},
     "output_type": "execute_result"
    }
   ],
   "source": [
    "hyperparameters = {\n",
    "    'config' : '/opt/ml/code/config/train_cord-sm.yaml',\n",
    "    'pretrained_model_name_or_path' : 'naver-clova-ix/donut-base',\n",
    "    # 'dataset_name_or_paths' : '[\"naver-clova-ix/cord-v2\"]',\n",
    "    'exp_version' : 'test_experiment'\n",
    "}\n",
    "\n",
    "hyperparameters"
   ]
  },
  {
   "cell_type": "markdown",
   "metadata": {},
   "source": [
    "Set the model configuration below."
   ]
  },
  {
   "cell_type": "markdown",
   "metadata": {},
   "source": [
    "## Specify Essential Parameters for a SageMaker Training Job\n",
    "\n",
    "Next, you will use the [`SageMaker Estimator API`](https://sagemaker.readthedocs.io/en/stable/api/training/estimators.html) to define a SageMaker Training Job, passing values through the following parameters for training job name, the number of EC2 instances, the instance type, and the size of the volume attached to the instances. \n",
    "\n",
    "* `instance_count`\n",
    "* `instance_type`\n",
    "* `volume_size`\n",
    "* `base_job_name`\n",
    "\n",
    "### Update the Type and Number of EC2 Instance to Use\n",
    "\n",
    "The instance type and the number of instances you specify to the `instance_type` and `instance_count` parameters, respectively, will determine the total number of GPUs (world size).\n",
    "\n",
    "$$ \\text{(world size) = (the number of GPUs on a single instance)}\\times\\text{(the number of instance)}$$"
   ]
  },
  {
   "cell_type": "markdown",
   "metadata": {},
   "source": [
    "To look up the number of GPUs of different instance types, see [Amazon EC2 Instance Types](https://aws.amazon.com/ec2/instance-types/). Use the section **Accelerated Computing** to see general purpose GPU instances. Note that, for example, a given instance type `p4d.24xlarge` has a corresponding instance type `ml.p4d.24xlarge` in SageMaker.\n",
    "For SageMaker supported `ml` instances and cost information, see [Amazon SageMaker Pricing](https://aws.amazon.com/sagemaker/pricing/). "
   ]
  },
  {
   "cell_type": "markdown",
   "metadata": {},
   "source": [
    "### Set distributed training"
   ]
  },
  {
   "cell_type": "code",
   "execution_count": 11,
   "metadata": {},
   "outputs": [],
   "source": [
    "distribution = {}\n",
    "\n",
    "use_smddp = True\n",
    "flag = 'smddp' if use_smddp else None\n",
    "\n",
    "if use_smddp or flag == 'smddp':\n",
    "    distribution[\"smdistributed\"]={ \n",
    "                        \"dataparallel\": {\n",
    "                            \"enabled\": True\n",
    "                        }\n",
    "                }\n",
    "\n",
    "elif flag == 'smmp':\n",
    "    distribution['smdistributed'] = {\n",
    "        \"modelparallel\": {\n",
    "            \"enabled\":True,\n",
    "            \"parameters\": {\n",
    "                \"ddp\": True,\n",
    "                \"microbatches\": 2,\n",
    "                \"placement_strategy\": \"spread\",\n",
    "                \"pipeline\": \"interleaved\",\n",
    "                \"optimize\": \"speed\",\n",
    "                \"partitions\": 1,\n",
    "                \"tensor_parallel_degree\" : 8,  ## 무려 400 MB 줄임?\n",
    "                \"fp16\" : True,\n",
    "                \"fp16_params\" : True,\n",
    "                \"shard_optimizer_state\" : True,  ## 무려 32GB 를 줄임\n",
    "                # parameters for sharded data parallelism\n",
    "#                 \"sharded_data_parallel_degree\": 2,              # Add this to activate sharded data parallelism\n",
    "#                 \"sdp_reduce_bucket_size\": int(5e8),             # Optional\n",
    "#                 \"sdp_param_persistence_threshold\": int(1e6),    # Optional\n",
    "#                 \"sdp_max_live_parameters\": int(1e9),            # Optional\n",
    "#                 \"sdp_hierarchical_allgather\": True,             # Optional\n",
    "#                 \"sdp_gradient_clipping\": 1.0                    # Optional\n",
    "            }\n",
    "        }   \n",
    "    }\n",
    "    mpioptions = \"-x NCCL_DEBUG=WARN -x SMDEBUG_LOG_LEVEL=ERROR \"\n",
    "    mpioptions += \"-x SMP_DISABLE_D2D=1 -x SMP_D2D_GPU_BUFFER_SIZE_BYTES=1 -x SMP_NCCL_THROTTLE_LIMIT=1 \"\n",
    "    mpioptions += \"-x FI_EFA_USE_DEVICE_RDMA=1 -x FI_PROVIDER=efa -x RDMAV_FORK_SAFE=1\"\n",
    "\n",
    "    distribution[\"mpi\"]={\n",
    "        \"enabled\": True,\n",
    "        \"processes_per_host\": 8, # Pick your processes_per_host\n",
    "        \"custom_mpi_options\": mpioptions      \n",
    "    }\n",
    "    \n",
    "elif flag == 'smmp-sharedddp':\n",
    "    distribution['smdistributed'] = {\n",
    "        \"modelparallel\": {\n",
    "            \"enabled\":True,\n",
    "            \"parameters\": {\n",
    "                \"partitions\" : 1,\n",
    "#                 \"pipeline_parallel_degree\": 1,    # Optional, default is 1\n",
    "                # \"tensor_parallel_degree\": 1,      # Optional, default is 1\n",
    "                \"ddp\": True,\n",
    "                \"bf16\" : True,\n",
    "                # parameters for sharded data parallelism\n",
    "                \"sharded_data_parallel_degree\": 2,              # Add this to activate sharded data parallelism\n",
    "                \"sdp_reduce_bucket_size\": int(5e8),             # Optional\n",
    "                \"sdp_param_persistence_threshold\": int(1e6),    # Optional\n",
    "                \"sdp_max_live_parameters\": int(1e9),            # Optional\n",
    "                \"sdp_hierarchical_allgather\": True,             # Optional\n",
    "                \"sdp_gradient_clipping\": 1.0                    # Optional     \n",
    "            }\n",
    "        }   \n",
    "    }\n",
    "    mpioptions = \"-x NCCL_DEBUG=WARN -x SMDEBUG_LOG_LEVEL=ERROR \"\n",
    "    mpioptions += \"-x SMP_DISABLE_D2D=1 -x SMP_D2D_GPU_BUFFER_SIZE_BYTES=1 -x SMP_NCCL_THROTTLE_LIMIT=1 \"\n",
    "    mpioptions += \"-x FI_EFA_USE_DEVICE_RDMA=1 -x FI_PROVIDER=efa -x RDMAV_FORK_SAFE=1\"\n",
    "\n",
    "\n",
    "    distribution[\"mpi\"]={\n",
    "        \"enabled\": True,\n",
    "        \"processes_per_host\": 8, # Pick your processes_per_host\n",
    "        \"custom_mpi_options\": mpioptions      \n",
    "    }\n",
    "else:\n",
    "    distribution[\"mpi\"]={\"enabled\": False}\n",
    "    \n",
    "# if not use_smddp:\n",
    "#     distribution = {}"
   ]
  },
  {
   "cell_type": "markdown",
   "metadata": {},
   "source": [
    "### Use local mode / Script mode setting"
   ]
  },
  {
   "cell_type": "code",
   "execution_count": 12,
   "metadata": {},
   "outputs": [],
   "source": [
    "# experiment_name = 'nemo-exp1'\n",
    "# instance_type = 'ml.p3.16xlarge'  # 'ml.p3.16xlarge', 'ml.p3dn.24xlarge', 'ml.p4d.24xlarge', 'local_gpu'\n",
    "instance_type = 'local_gpu'\n",
    "instance_count = 1\n",
    "do_spot_training = False\n",
    "max_wait = None\n",
    "max_run = 1*60*60"
   ]
  },
  {
   "cell_type": "code",
   "execution_count": 13,
   "metadata": {},
   "outputs": [],
   "source": [
    "# local_cache_dir = f'/home/ubuntu/workspace/datasets/cord-v2' ## ec2\n",
    "local_cache_dir = f'/home/ec2-user/SageMaker/concept-caption-dataset/cord-v2' ##SageMaker\n",
    "s3_cache_dir = f's3://{bucket}/cache_dir'"
   ]
  },
  {
   "cell_type": "code",
   "execution_count": null,
   "metadata": {},
   "outputs": [],
   "source": []
  },
  {
   "cell_type": "code",
   "execution_count": 14,
   "metadata": {},
   "outputs": [],
   "source": [
    "# !aws s3 sync $local_cache_dir $s3_cache_dir"
   ]
  },
  {
   "cell_type": "code",
   "execution_count": 15,
   "metadata": {},
   "outputs": [],
   "source": [
    "kwargs = {}\n",
    "checkpoint_s3_uri = None\n",
    "\n",
    "if instance_type =='local_gpu':\n",
    "    from sagemaker.local import LocalSession\n",
    "    import os\n",
    "    \n",
    "    sagemaker_session = LocalSession()\n",
    "    sagemaker_session.config = {'local': {'local_code': True}}\n",
    "    \n",
    "    data_channels = {\"cache_dir\": f'file://{local_cache_dir}'}\n",
    "    \n",
    "else:\n",
    "    sagemaker_session = sagemaker.Session()\n",
    "\n",
    "    if use_fsx:\n",
    "        # Use the security group and subnet that was used to create the fsx filesystem\n",
    "        kwargs[\"security_group_ids\"] = [\"sg-0bc738570daec9015\"]  ## 학습인스턴스 용 보안그룹\n",
    "        kwargs[\"subnets\"] = [\"subnet-02e36c042e58264e6\"]       ## FSX 생성 시 설정한 동일 subnet\n",
    "\n",
    "    data_channels = {\"cache_dir\": s3_cache_dir}\n",
    "\n"
   ]
  },
  {
   "cell_type": "markdown",
   "metadata": {},
   "source": [
    "### Create a SageMaker HuggingFace Estimator\n",
    "\n",
    "The following cell constructs a PyTorch estimator using the parameters defined above."
   ]
  },
  {
   "cell_type": "code",
   "execution_count": 16,
   "metadata": {},
   "outputs": [
    {
     "name": "stdout",
     "output_type": "stream",
     "text": [
      "experiment_name : nemo-exp1 \n",
      "train_instance_type : local_gpu \n",
      "train_instance_count : 1 \n",
      "distribution : {'smdistributed': {'dataparallel': {'enabled': True}}}\n"
     ]
    }
   ],
   "source": [
    "print(\"experiment_name : {} \\ntrain_instance_type : {} \\ntrain_instance_count : {} \\ndistribution : {}\".format(experiment_name, instance_type, instance_count, distribution))    "
   ]
  },
  {
   "cell_type": "code",
   "execution_count": 17,
   "metadata": {},
   "outputs": [],
   "source": [
    "from sagemaker.pytorch.estimator import PyTorch\n",
    "from sagemaker.huggingface import HuggingFace, TrainingCompilerConfig"
   ]
  },
  {
   "cell_type": "code",
   "execution_count": 28,
   "metadata": {},
   "outputs": [
    {
     "data": {
      "text/plain": [
       "'setup.py'"
      ]
     },
     "execution_count": 28,
     "metadata": {},
     "output_type": "execute_result"
    }
   ],
   "source": [
    "if use_smddp:\n",
    "    entry_point=\"sm_train.py\"\n",
    "    entry_point=\"setup.py\"\n",
    "else:\n",
    "    entry_point=\"train.py\"\n",
    "\n",
    "\n",
    "smp_estimator = PyTorch(\n",
    "        entry_point=entry_point,\n",
    "        source_dir=os.getcwd() + '/NeMo',\n",
    "        role=role,\n",
    "        instance_type=instance_type,\n",
    "        instance_count=instance_count,\n",
    "#         image_uri=image_uri,\n",
    "        # volume_size=volume_size,\n",
    "        sagemaker_session=sagemaker_session,\n",
    "        distribution=distribution,\n",
    "        framework_version='1.13.1',\n",
    "        py_version='py39',\n",
    "        code_location = code_location,\n",
    "        output_path=output_path,\n",
    "        disable_profiler=True,\n",
    "        debugger_hook_config=False,\n",
    "        checkpoint_s3_uri=checkpoint_s3_uri,\n",
    "        metric_definitions=metric_definitions,\n",
    "        enable_sagemaker_metrics=True,\n",
    "        hyperparameters=hyperparameters,\n",
    "        max_run=max_run,\n",
    "        tags=[{'Key':'email','Value':'choijoon@amazon.com'}],\n",
    "#         compiler_config=TrainingCompilerConfig(),\n",
    "#         keep_alive_period_in_seconds=600,\n",
    "        **kwargs\n",
    "    )\n",
    "\n",
    "entry_point"
   ]
  },
  {
   "cell_type": "markdown",
   "metadata": {},
   "source": [
    "Finally, run the estimator to launch the SageMaker training job of GPT-J model with tensor parallelism."
   ]
  },
  {
   "cell_type": "code",
   "execution_count": 29,
   "metadata": {},
   "outputs": [
    {
     "data": {
      "text/plain": [
       "{'cache_dir': 'file:///home/ec2-user/SageMaker/concept-caption-dataset/cord-v2'}"
      ]
     },
     "execution_count": 29,
     "metadata": {},
     "output_type": "execute_result"
    }
   ],
   "source": [
    "data_channels"
   ]
  },
  {
   "cell_type": "code",
   "execution_count": 30,
   "metadata": {},
   "outputs": [
    {
     "name": "stderr",
     "output_type": "stream",
     "text": [
      "INFO:botocore.credentials:Found credentials in shared credentials file: ~/.aws/credentials\n",
      "INFO:botocore.credentials:Found credentials in shared credentials file: ~/.aws/credentials\n",
      "INFO:sagemaker.image_uris:image_uri is not presented, retrieving image_uri based on instance_type, framework etc.\n",
      "INFO:sagemaker:Creating training-job with name: nemo-exp1-0302-02461677725193\n",
      "INFO:sagemaker.local.local_session:Starting training job\n",
      "INFO:botocore.credentials:Found credentials in shared credentials file: ~/.aws/credentials\n",
      "INFO:sagemaker.local.image:Using the long-lived AWS credentials found in session\n",
      "INFO:sagemaker.local.image:docker compose file: \n",
      "networks:\n",
      "  sagemaker-local:\n",
      "    name: sagemaker-local\n",
      "services:\n",
      "  algo-1-627ek:\n",
      "    command: train\n",
      "    container_name: 91u3imwapq-algo-1-627ek\n",
      "    deploy:\n",
      "      resources:\n",
      "        reservations:\n",
      "          devices:\n",
      "          - capabilities:\n",
      "            - gpu\n",
      "    environment:\n",
      "    - '[Masked]'\n",
      "    - '[Masked]'\n",
      "    - '[Masked]'\n",
      "    - '[Masked]'\n",
      "    image: 763104351884.dkr.ecr.us-west-2.amazonaws.com/pytorch-training:1.13.1-gpu-py39\n",
      "    networks:\n",
      "      sagemaker-local:\n",
      "        aliases:\n",
      "        - algo-1-627ek\n",
      "    stdin_open: true\n",
      "    tty: true\n",
      "    volumes:\n",
      "    - /tmp/tmpk70stqme/algo-1-627ek/output/data:/opt/ml/output/data\n",
      "    - /tmp/tmpk70stqme/algo-1-627ek/output:/opt/ml/output\n",
      "    - /tmp/tmpk70stqme/algo-1-627ek/input:/opt/ml/input\n",
      "    - /tmp/tmpk70stqme/model:/opt/ml/model\n",
      "    - /opt/ml/metadata:/opt/ml/metadata\n",
      "    - /home/ec2-user/SageMaker/concept-caption-dataset/cord-v2:/opt/ml/input/data/cache_dir\n",
      "    - /home/ec2-user/SageMaker/2023/training-code/Nvidia-NeMo/NeMo:/opt/ml/code\n",
      "    - /tmp/tmpk70stqme/shared:/opt/ml/shared\n",
      "version: '2.3'\n",
      "\n",
      "INFO:sagemaker.local.image:docker command: docker-compose -f /tmp/tmpk70stqme/docker-compose.yaml up --build --abort-on-container-exit\n",
      "WARNING! Your password will be stored unencrypted in /home/ec2-user/.docker/config.json.\n",
      "Configure a credential helper to remove this warning. See\n",
      "https://docs.docker.com/engine/reference/commandline/login/#credentials-store\n",
      "\n",
      "INFO:sagemaker.local.image:docker command: docker pull 763104351884.dkr.ecr.us-west-2.amazonaws.com/pytorch-training:1.13.1-gpu-py39\n"
     ]
    },
    {
     "name": "stdout",
     "output_type": "stream",
     "text": [
      "Login Succeeded\n"
     ]
    },
    {
     "name": "stderr",
     "output_type": "stream",
     "text": [
      "INFO:sagemaker.local.image:image pulled: 763104351884.dkr.ecr.us-west-2.amazonaws.com/pytorch-training:1.13.1-gpu-py39\n"
     ]
    },
    {
     "name": "stdout",
     "output_type": "stream",
     "text": [
      "Creating 91u3imwapq-algo-1-627ek ... \n",
      "Creating 91u3imwapq-algo-1-627ek ... done\n",
      "Attaching to 91u3imwapq-algo-1-627ek\n",
      "\u001b[36m91u3imwapq-algo-1-627ek |\u001b[0m 2023-03-02 02:50:30,454 sagemaker-training-toolkit INFO     Imported framework sagemaker_pytorch_container.training\n",
      "\u001b[36m91u3imwapq-algo-1-627ek |\u001b[0m 2023-03-02 02:50:30,521 sagemaker-training-toolkit INFO     No Neurons detected (normal if no neurons installed)\n",
      "\u001b[36m91u3imwapq-algo-1-627ek |\u001b[0m 2023-03-02 02:50:30,530 sagemaker-training-toolkit INFO     instance_groups entry not present in resource_config\n",
      "\u001b[36m91u3imwapq-algo-1-627ek |\u001b[0m 2023-03-02 02:50:30,533 sagemaker_pytorch_container.training INFO     Block until all host DNS lookups succeed.\n",
      "\u001b[36m91u3imwapq-algo-1-627ek |\u001b[0m 2023-03-02 02:50:30,537 sagemaker_pytorch_container.training INFO     Invoking SMDataParallel\n",
      "\u001b[36m91u3imwapq-algo-1-627ek |\u001b[0m 2023-03-02 02:50:30,537 sagemaker_pytorch_container.training INFO     Invoking user training script.\n",
      "\u001b[36m91u3imwapq-algo-1-627ek |\u001b[0m 2023-03-02 02:50:30,538 sagemaker-training-toolkit INFO     Installing module with the following command:\n",
      "\u001b[36m91u3imwapq-algo-1-627ek |\u001b[0m /opt/conda/bin/python3.9 -m pip install . \n",
      "\u001b[36m91u3imwapq-algo-1-627ek |\u001b[0m Processing /opt/ml/code\n",
      "\u001b[36m91u3imwapq-algo-1-627ek |\u001b[0m Installing build dependencies: started\n",
      "\u001b[36m91u3imwapq-algo-1-627ek |\u001b[0m Installing build dependencies: finished with status 'done'\n",
      "\u001b[36m91u3imwapq-algo-1-627ek |\u001b[0m Getting requirements to build wheel: started\n",
      "\u001b[36m91u3imwapq-algo-1-627ek |\u001b[0m Getting requirements to build wheel: finished with status 'done'\n",
      "\u001b[36m91u3imwapq-algo-1-627ek |\u001b[0m Preparing metadata (pyproject.toml): started\n",
      "\u001b[36m91u3imwapq-algo-1-627ek |\u001b[0m Preparing metadata (pyproject.toml): finished with status 'done'\n",
      "\u001b[36m91u3imwapq-algo-1-627ek |\u001b[0m Collecting setuptools==59.5.0\n",
      "\u001b[36m91u3imwapq-algo-1-627ek |\u001b[0m Downloading setuptools-59.5.0-py3-none-any.whl (952 kB)\n",
      "\u001b[36m91u3imwapq-algo-1-627ek |\u001b[0m ━━━━━━━━━━━━━━━━━━━━━━━━━━━━━━━━━━━━━━ 952.4/952.4 kB 11.0 MB/s eta 0:00:00\n",
      "\u001b[36m91u3imwapq-algo-1-627ek |\u001b[0m \n",
      "\u001b[36m91u3imwapq-algo-1-627ek |\u001b[0m Collecting wrapt\n",
      "\u001b[36m91u3imwapq-algo-1-627ek |\u001b[0m Downloading wrapt-1.15.0-cp39-cp39-manylinux_2_5_x86_64.manylinux1_x86_64.manylinux_2_17_x86_64.manylinux2014_x86_64.whl (78 kB)\n",
      "\u001b[36m91u3imwapq-algo-1-627ek |\u001b[0m ━━━━━━━━━━━━━━━━━━━━━━━━━━━━━━━━━━━━━━━━ 78.3/78.3 kB 12.4 MB/s eta 0:00:00\n",
      "\u001b[36m91u3imwapq-algo-1-627ek |\u001b[0m \n",
      "\u001b[36m91u3imwapq-algo-1-627ek |\u001b[0m Requirement already satisfied: numpy>=1.22 in /opt/conda/lib/python3.9/site-packages (from nemo-toolkit==1.16.0rc0) (1.23.5)\n",
      "\u001b[36m91u3imwapq-algo-1-627ek |\u001b[0m Collecting huggingface-hub\n",
      "\u001b[36m91u3imwapq-algo-1-627ek |\u001b[0m Downloading huggingface_hub-0.12.1-py3-none-any.whl (190 kB)\n",
      "\u001b[36m91u3imwapq-algo-1-627ek |\u001b[0m ━━━━━━━━━━━━━━━━━━━━━━━━━━━━━━━━━━━━━━ 190.3/190.3 kB 13.4 MB/s eta 0:00:00\n",
      "\u001b[36m91u3imwapq-algo-1-627ek |\u001b[0m \n",
      "\u001b[36m91u3imwapq-algo-1-627ek |\u001b[0m Collecting text-unidecode\n",
      "\u001b[36m91u3imwapq-algo-1-627ek |\u001b[0m Downloading text_unidecode-1.3-py2.py3-none-any.whl (78 kB)\n",
      "\u001b[36m91u3imwapq-algo-1-627ek |\u001b[0m ━━━━━━━━━━━━━━━━━━━━━━━━━━━━━━━━━━━━━━━━ 78.2/78.2 kB 12.4 MB/s eta 0:00:00\n",
      "\u001b[36m91u3imwapq-algo-1-627ek |\u001b[0m \n",
      "\u001b[36m91u3imwapq-algo-1-627ek |\u001b[0m Requirement already satisfied: numba in /opt/conda/lib/python3.9/site-packages (from nemo-toolkit==1.16.0rc0) (0.56.4)\n",
      "\u001b[36m91u3imwapq-algo-1-627ek |\u001b[0m Collecting wget\n",
      "\u001b[36m91u3imwapq-algo-1-627ek |\u001b[0m Downloading wget-3.2.zip (10 kB)\n",
      "\u001b[36m91u3imwapq-algo-1-627ek |\u001b[0m Preparing metadata (setup.py): started\n",
      "\u001b[36m91u3imwapq-algo-1-627ek |\u001b[0m Preparing metadata (setup.py): finished with status 'done'\n",
      "\u001b[36m91u3imwapq-algo-1-627ek |\u001b[0m Requirement already satisfied: python-dateutil in /opt/conda/lib/python3.9/site-packages (from nemo-toolkit==1.16.0rc0) (2.8.2)\n",
      "\u001b[36m91u3imwapq-algo-1-627ek |\u001b[0m Collecting tensorboard\n",
      "\u001b[36m91u3imwapq-algo-1-627ek |\u001b[0m Downloading tensorboard-2.12.0-py3-none-any.whl (5.6 MB)\n",
      "\u001b[36m91u3imwapq-algo-1-627ek |\u001b[0m ━━━━━━━━━━━━━━━━━━━━━━━━━━━━━━━━━━━━━━━━ 5.6/5.6 MB 28.8 MB/s eta 0:00:00\n",
      "\u001b[36m91u3imwapq-algo-1-627ek |\u001b[0m \n",
      "\u001b[36m91u3imwapq-algo-1-627ek |\u001b[0m Requirement already satisfied: scikit-learn in /opt/conda/lib/python3.9/site-packages (from nemo-toolkit==1.16.0rc0) (1.2.1)\n",
      "\u001b[36m91u3imwapq-algo-1-627ek |\u001b[0m Requirement already satisfied: tqdm>=4.41.0 in /opt/conda/lib/python3.9/site-packages (from nemo-toolkit==1.16.0rc0) (4.64.1)\n",
      "\u001b[36m91u3imwapq-algo-1-627ek |\u001b[0m Requirement already satisfied: ruamel.yaml in /opt/conda/lib/python3.9/site-packages (from nemo-toolkit==1.16.0rc0) (0.17.21)\n",
      "\u001b[36m91u3imwapq-algo-1-627ek |\u001b[0m Requirement already satisfied: torch in /opt/conda/lib/python3.9/site-packages (from nemo-toolkit==1.16.0rc0) (1.13.1+cu117)\n",
      "\u001b[36m91u3imwapq-algo-1-627ek |\u001b[0m Collecting onnx>=1.7.0\n",
      "\u001b[36m91u3imwapq-algo-1-627ek |\u001b[0m Downloading onnx-1.13.1-cp39-cp39-manylinux_2_17_x86_64.manylinux2014_x86_64.whl (13.5 MB)\n",
      "\u001b[36m91u3imwapq-algo-1-627ek |\u001b[0m ━━━━━━━━━━━━━━━━━━━━━━━━━━━━━━━━━━━━━━━━ 13.5/13.5 MB 71.2 MB/s eta 0:00:00\n",
      "\u001b[36m91u3imwapq-algo-1-627ek |\u001b[0m \n",
      "\u001b[36m91u3imwapq-algo-1-627ek |\u001b[0m Requirement already satisfied: typing-extensions>=3.6.2.1 in /opt/conda/lib/python3.9/site-packages (from onnx>=1.7.0->nemo-toolkit==1.16.0rc0) (4.4.0)\n",
      "\u001b[36m91u3imwapq-algo-1-627ek |\u001b[0m Requirement already satisfied: protobuf<4,>=3.20.2 in /opt/conda/lib/python3.9/site-packages (from onnx>=1.7.0->nemo-toolkit==1.16.0rc0) (3.20.2)\n",
      "\u001b[36m91u3imwapq-algo-1-627ek |\u001b[0m Collecting filelock\n",
      "\u001b[36m91u3imwapq-algo-1-627ek |\u001b[0m Downloading filelock-3.9.0-py3-none-any.whl (9.7 kB)\n",
      "\u001b[36m91u3imwapq-algo-1-627ek |\u001b[0m Requirement already satisfied: packaging>=20.9 in /opt/conda/lib/python3.9/site-packages (from huggingface-hub->nemo-toolkit==1.16.0rc0) (23.0)\n",
      "\u001b[36m91u3imwapq-algo-1-627ek |\u001b[0m Requirement already satisfied: requests in /opt/conda/lib/python3.9/site-packages (from huggingface-hub->nemo-toolkit==1.16.0rc0) (2.28.2)\n",
      "\u001b[36m91u3imwapq-algo-1-627ek |\u001b[0m Requirement already satisfied: pyyaml>=5.1 in /opt/conda/lib/python3.9/site-packages (from huggingface-hub->nemo-toolkit==1.16.0rc0) (5.4.1)\n",
      "\u001b[36m91u3imwapq-algo-1-627ek |\u001b[0m Requirement already satisfied: llvmlite<0.40,>=0.39.0dev0 in /opt/conda/lib/python3.9/site-packages (from numba->nemo-toolkit==1.16.0rc0) (0.39.1)\n",
      "\u001b[36m91u3imwapq-algo-1-627ek |\u001b[0m Requirement already satisfied: six>=1.5 in /opt/conda/lib/python3.9/site-packages (from python-dateutil->nemo-toolkit==1.16.0rc0) (1.16.0)\n",
      "\u001b[36m91u3imwapq-algo-1-627ek |\u001b[0m Requirement already satisfied: ruamel.yaml.clib>=0.2.6 in /opt/conda/lib/python3.9/site-packages (from ruamel.yaml->nemo-toolkit==1.16.0rc0) (0.2.7)\n",
      "\u001b[36m91u3imwapq-algo-1-627ek |\u001b[0m Requirement already satisfied: scipy>=1.3.2 in /opt/conda/lib/python3.9/site-packages (from scikit-learn->nemo-toolkit==1.16.0rc0) (1.10.0)\n",
      "\u001b[36m91u3imwapq-algo-1-627ek |\u001b[0m Requirement already satisfied: joblib>=1.1.1 in /opt/conda/lib/python3.9/site-packages (from scikit-learn->nemo-toolkit==1.16.0rc0) (1.2.0)\n",
      "\u001b[36m91u3imwapq-algo-1-627ek |\u001b[0m Requirement already satisfied: threadpoolctl>=2.0.0 in /opt/conda/lib/python3.9/site-packages (from scikit-learn->nemo-toolkit==1.16.0rc0) (3.1.0)\n",
      "\u001b[36m91u3imwapq-algo-1-627ek |\u001b[0m Collecting google-auth-oauthlib<0.5,>=0.4.1\n",
      "\u001b[36m91u3imwapq-algo-1-627ek |\u001b[0m Downloading google_auth_oauthlib-0.4.6-py2.py3-none-any.whl (18 kB)\n",
      "\u001b[36m91u3imwapq-algo-1-627ek |\u001b[0m Collecting grpcio>=1.48.2\n",
      "\u001b[36m91u3imwapq-algo-1-627ek |\u001b[0m Downloading grpcio-1.51.3-cp39-cp39-manylinux_2_17_x86_64.manylinux2014_x86_64.whl (4.8 MB)\n",
      "\u001b[36m91u3imwapq-algo-1-627ek |\u001b[0m ━━━━━━━━━━━━━━━━━━━━━━━━━━━━━━━━━━━━━━━━ 4.8/4.8 MB 80.6 MB/s eta 0:00:00\n",
      "\u001b[36m91u3imwapq-algo-1-627ek |\u001b[0m \n",
      "\u001b[36m91u3imwapq-algo-1-627ek |\u001b[0m Collecting markdown>=2.6.8\n",
      "\u001b[36m91u3imwapq-algo-1-627ek |\u001b[0m Downloading Markdown-3.4.1-py3-none-any.whl (93 kB)\n",
      "\u001b[36m91u3imwapq-algo-1-627ek |\u001b[0m ━━━━━━━━━━━━━━━━━━━━━━━━━━━━━━━━━━━━━━━━ 93.3/93.3 kB 16.3 MB/s eta 0:00:00\n",
      "\u001b[36m91u3imwapq-algo-1-627ek |\u001b[0m \n",
      "\u001b[36m91u3imwapq-algo-1-627ek |\u001b[0m Collecting tensorboard-plugin-wit>=1.6.0\n",
      "\u001b[36m91u3imwapq-algo-1-627ek |\u001b[0m Downloading tensorboard_plugin_wit-1.8.1-py3-none-any.whl (781 kB)\n",
      "\u001b[36m91u3imwapq-algo-1-627ek |\u001b[0m ━━━━━━━━━━━━━━━━━━━━━━━━━━━━━━━━━━━━━━ 781.3/781.3 kB 59.0 MB/s eta 0:00:00\n",
      "\u001b[36m91u3imwapq-algo-1-627ek |\u001b[0m \n",
      "\u001b[36m91u3imwapq-algo-1-627ek |\u001b[0m Collecting tensorboard-data-server<0.8.0,>=0.7.0\n",
      "\u001b[36m91u3imwapq-algo-1-627ek |\u001b[0m Downloading tensorboard_data_server-0.7.0-py3-none-manylinux2014_x86_64.whl (6.6 MB)\n",
      "\u001b[36m91u3imwapq-algo-1-627ek |\u001b[0m ━━━━━━━━━━━━━━━━━━━━━━━━━━━━━━━━━━━━━━━━ 6.6/6.6 MB 87.2 MB/s eta 0:00:00\n",
      "\u001b[36m91u3imwapq-algo-1-627ek |\u001b[0m \n",
      "\u001b[36m91u3imwapq-algo-1-627ek |\u001b[0m Requirement already satisfied: werkzeug>=1.0.1 in /opt/conda/lib/python3.9/site-packages (from tensorboard->nemo-toolkit==1.16.0rc0) (2.2.3)\n",
      "\u001b[36m91u3imwapq-algo-1-627ek |\u001b[0m Collecting google-auth<3,>=1.6.3\n",
      "\u001b[36m91u3imwapq-algo-1-627ek |\u001b[0m Downloading google_auth-2.16.1-py2.py3-none-any.whl (177 kB)\n",
      "\u001b[36m91u3imwapq-algo-1-627ek |\u001b[0m ━━━━━━━━━━━━━━━━━━━━━━━━━━━━━━━━━━━━━━ 177.2/177.2 kB 28.7 MB/s eta 0:00:00\n",
      "\u001b[36m91u3imwapq-algo-1-627ek |\u001b[0m \n",
      "\u001b[36m91u3imwapq-algo-1-627ek |\u001b[0m Requirement already satisfied: wheel>=0.26 in /opt/conda/lib/python3.9/site-packages (from tensorboard->nemo-toolkit==1.16.0rc0) (0.38.4)\n",
      "\u001b[36m91u3imwapq-algo-1-627ek |\u001b[0m Collecting absl-py>=0.4\n",
      "\u001b[36m91u3imwapq-algo-1-627ek |\u001b[0m Downloading absl_py-1.4.0-py3-none-any.whl (126 kB)\n",
      "\u001b[36m91u3imwapq-algo-1-627ek |\u001b[0m ━━━━━━━━━━━━━━━━━━━━━━━━━━━━━━━━━━━━━━ 126.5/126.5 kB 20.8 MB/s eta 0:00:00\n",
      "\u001b[36m91u3imwapq-algo-1-627ek |\u001b[0m \n",
      "\u001b[36m91u3imwapq-algo-1-627ek |\u001b[0m Collecting pyasn1-modules>=0.2.1\n",
      "\u001b[36m91u3imwapq-algo-1-627ek |\u001b[0m Downloading pyasn1_modules-0.2.8-py2.py3-none-any.whl (155 kB)\n",
      "\u001b[36m91u3imwapq-algo-1-627ek |\u001b[0m ━━━━━━━━━━━━━━━━━━━━━━━━━━━━━━━━━━━━━━ 155.3/155.3 kB 17.5 MB/s eta 0:00:00\n",
      "\u001b[36m91u3imwapq-algo-1-627ek |\u001b[0m \n",
      "\u001b[36m91u3imwapq-algo-1-627ek |\u001b[0m Requirement already satisfied: rsa<5,>=3.1.4 in /opt/conda/lib/python3.9/site-packages (from google-auth<3,>=1.6.3->tensorboard->nemo-toolkit==1.16.0rc0) (4.7.2)\n",
      "\u001b[36m91u3imwapq-algo-1-627ek |\u001b[0m Collecting cachetools<6.0,>=2.0.0\n",
      "\u001b[36m91u3imwapq-algo-1-627ek |\u001b[0m Downloading cachetools-5.3.0-py3-none-any.whl (9.3 kB)\n",
      "\u001b[36m91u3imwapq-algo-1-627ek |\u001b[0m Collecting requests-oauthlib>=0.7.0\n",
      "\u001b[36m91u3imwapq-algo-1-627ek |\u001b[0m Downloading requests_oauthlib-1.3.1-py2.py3-none-any.whl (23 kB)\n",
      "\u001b[36m91u3imwapq-algo-1-627ek |\u001b[0m Requirement already satisfied: importlib-metadata>=4.4 in /opt/conda/lib/python3.9/site-packages (from markdown>=2.6.8->tensorboard->nemo-toolkit==1.16.0rc0) (4.13.0)\n",
      "\u001b[36m91u3imwapq-algo-1-627ek |\u001b[0m Requirement already satisfied: idna<4,>=2.5 in /opt/conda/lib/python3.9/site-packages (from requests->huggingface-hub->nemo-toolkit==1.16.0rc0) (3.4)\n",
      "\u001b[36m91u3imwapq-algo-1-627ek |\u001b[0m Requirement already satisfied: charset-normalizer<4,>=2 in /opt/conda/lib/python3.9/site-packages (from requests->huggingface-hub->nemo-toolkit==1.16.0rc0) (2.1.1)\n",
      "\u001b[36m91u3imwapq-algo-1-627ek |\u001b[0m Requirement already satisfied: certifi>=2017.4.17 in /opt/conda/lib/python3.9/site-packages (from requests->huggingface-hub->nemo-toolkit==1.16.0rc0) (2022.12.7)\n",
      "\u001b[36m91u3imwapq-algo-1-627ek |\u001b[0m Requirement already satisfied: urllib3<1.27,>=1.21.1 in /opt/conda/lib/python3.9/site-packages (from requests->huggingface-hub->nemo-toolkit==1.16.0rc0) (1.26.14)\n",
      "\u001b[36m91u3imwapq-algo-1-627ek |\u001b[0m Requirement already satisfied: MarkupSafe>=2.1.1 in /opt/conda/lib/python3.9/site-packages (from werkzeug>=1.0.1->tensorboard->nemo-toolkit==1.16.0rc0) (2.1.2)\n",
      "\u001b[36m91u3imwapq-algo-1-627ek |\u001b[0m Requirement already satisfied: zipp>=0.5 in /opt/conda/lib/python3.9/site-packages (from importlib-metadata>=4.4->markdown>=2.6.8->tensorboard->nemo-toolkit==1.16.0rc0) (3.13.0)\n",
      "\u001b[36m91u3imwapq-algo-1-627ek |\u001b[0m Requirement already satisfied: pyasn1<0.5.0,>=0.4.6 in /opt/conda/lib/python3.9/site-packages (from pyasn1-modules>=0.2.1->google-auth<3,>=1.6.3->tensorboard->nemo-toolkit==1.16.0rc0) (0.4.8)\n",
      "\u001b[36m91u3imwapq-algo-1-627ek |\u001b[0m Collecting oauthlib>=3.0.0\n",
      "\u001b[36m91u3imwapq-algo-1-627ek |\u001b[0m Downloading oauthlib-3.2.2-py3-none-any.whl (151 kB)\n",
      "\u001b[36m91u3imwapq-algo-1-627ek |\u001b[0m ━━━━━━━━━━━━━━━━━━━━━━━━━━━━━━━━━━━━━━ 151.7/151.7 kB 25.0 MB/s eta 0:00:00\n",
      "\u001b[36m91u3imwapq-algo-1-627ek |\u001b[0m \n",
      "\u001b[36m91u3imwapq-algo-1-627ek |\u001b[0m Building wheels for collected packages: nemo-toolkit, wget\n",
      "\u001b[36m91u3imwapq-algo-1-627ek |\u001b[0m Building wheel for nemo-toolkit (pyproject.toml): started\n",
      "\u001b[36m91u3imwapq-algo-1-627ek |\u001b[0m Building wheel for nemo-toolkit (pyproject.toml): finished with status 'done'\n",
      "\u001b[36m91u3imwapq-algo-1-627ek |\u001b[0m Created wheel for nemo-toolkit: filename=nemo_toolkit-1.16.0rc0-py3-none-any.whl size=2236236 sha256=75c978fc4e3cb51de223f2fffd77881415503d80aaa1ab81d3928b6fa670bcc1\n",
      "\u001b[36m91u3imwapq-algo-1-627ek |\u001b[0m Stored in directory: /tmp/pip-ephem-wheel-cache-g46vp_51/wheels/40/03/3a/5f39818cea87b3c154b54d046a775b3da4b8ed9b642b8d50e6\n",
      "\u001b[36m91u3imwapq-algo-1-627ek |\u001b[0m Building wheel for wget (setup.py): started\n",
      "\u001b[36m91u3imwapq-algo-1-627ek |\u001b[0m Building wheel for wget (setup.py): finished with status 'done'\n",
      "\u001b[36m91u3imwapq-algo-1-627ek |\u001b[0m Created wheel for wget: filename=wget-3.2-py3-none-any.whl size=9656 sha256=af9d9a1a8e801d754e2cf88e99ff892900bb208224d43eee3a112cb8236fb170\n",
      "\u001b[36m91u3imwapq-algo-1-627ek |\u001b[0m Stored in directory: /root/.cache/pip/wheels/04/5f/3e/46cc37c5d698415694d83f607f833f83f0149e49b3af9d0f38\n",
      "\u001b[36m91u3imwapq-algo-1-627ek |\u001b[0m Successfully built nemo-toolkit wget\n",
      "\u001b[36m91u3imwapq-algo-1-627ek |\u001b[0m Installing collected packages: wget, text-unidecode, tensorboard-plugin-wit, wrapt, tensorboard-data-server, setuptools, pyasn1-modules, onnx, oauthlib, grpcio, filelock, cachetools, absl-py, requests-oauthlib, markdown, huggingface-hub, google-auth, google-auth-oauthlib, tensorboard, nemo-toolkit\n",
      "\u001b[36m91u3imwapq-algo-1-627ek |\u001b[0m Attempting uninstall: setuptools\n",
      "\u001b[36m91u3imwapq-algo-1-627ek |\u001b[0m Found existing installation: setuptools 65.6.3\n",
      "\u001b[36m91u3imwapq-algo-1-627ek |\u001b[0m Uninstalling setuptools-65.6.3:\n",
      "\u001b[36m91u3imwapq-algo-1-627ek |\u001b[0m Successfully uninstalled setuptools-65.6.3\n",
      "\u001b[36m91u3imwapq-algo-1-627ek |\u001b[0m Successfully installed absl-py-1.4.0 cachetools-5.3.0 filelock-3.9.0 google-auth-2.16.1 google-auth-oauthlib-0.4.6 grpcio-1.51.3 huggingface-hub-0.12.1 markdown-3.4.1 nemo-toolkit-1.16.0rc0 oauthlib-3.2.2 onnx-1.13.1 pyasn1-modules-0.2.8 requests-oauthlib-1.3.1 setuptools-59.5.0 tensorboard-2.12.0 tensorboard-data-server-0.7.0 tensorboard-plugin-wit-1.8.1 text-unidecode-1.3 wget-3.2 wrapt-1.15.0\n",
      "\u001b[36m91u3imwapq-algo-1-627ek |\u001b[0m WARNING: Running pip as the 'root' user can result in broken permissions and conflicting behaviour with the system package manager. It is recommended to use a virtual environment instead: https://pip.pypa.io/warnings/venv\n",
      "\u001b[36m91u3imwapq-algo-1-627ek |\u001b[0m [notice] A new release of pip is available: 23.0 -> 23.0.1\n",
      "\u001b[36m91u3imwapq-algo-1-627ek |\u001b[0m [notice] To update, run: pip install --upgrade pip\n",
      "\u001b[36m91u3imwapq-algo-1-627ek |\u001b[0m 2023-03-02 02:50:49,738 sagemaker-training-toolkit INFO     Waiting for the process to finish and give a return code.\n",
      "\u001b[36m91u3imwapq-algo-1-627ek |\u001b[0m 2023-03-02 02:50:49,738 sagemaker-training-toolkit INFO     Done waiting for a return code. Received 0 from exiting process.\n",
      "\u001b[36m91u3imwapq-algo-1-627ek |\u001b[0m 2023-03-02 02:50:49,810 sagemaker-training-toolkit INFO     No Neurons detected (normal if no neurons installed)\n",
      "\u001b[36m91u3imwapq-algo-1-627ek |\u001b[0m 2023-03-02 02:50:49,820 sagemaker-training-toolkit INFO     instance_groups entry not present in resource_config\n",
      "\u001b[36m91u3imwapq-algo-1-627ek |\u001b[0m 2023-03-02 02:50:49,891 sagemaker-training-toolkit INFO     No Neurons detected (normal if no neurons installed)\n",
      "\u001b[36m91u3imwapq-algo-1-627ek |\u001b[0m 2023-03-02 02:50:49,902 sagemaker-training-toolkit INFO     instance_groups entry not present in resource_config\n",
      "\u001b[36m91u3imwapq-algo-1-627ek |\u001b[0m 2023-03-02 02:50:49,905 sagemaker-training-toolkit INFO     Starting MPI run as worker node.\n",
      "\u001b[36m91u3imwapq-algo-1-627ek |\u001b[0m 2023-03-02 02:50:49,905 sagemaker-training-toolkit INFO     Creating SSH daemon.\n",
      "\u001b[36m91u3imwapq-algo-1-627ek |\u001b[0m 2023-03-02 02:50:49,907 sagemaker-training-toolkit INFO     Waiting for MPI workers to establish their SSH connections\n",
      "\u001b[36m91u3imwapq-algo-1-627ek |\u001b[0m 2023-03-02 02:50:49,907 sagemaker-training-toolkit INFO     Network interface name: eth0\n",
      "\u001b[36m91u3imwapq-algo-1-627ek |\u001b[0m 2023-03-02 02:50:49,907 sagemaker-training-toolkit INFO     Host: ['algo-1-627ek']\n",
      "\u001b[36m91u3imwapq-algo-1-627ek |\u001b[0m 2023-03-02 02:50:49,909 sagemaker-training-toolkit INFO     sagemaker_communication_backend: None\n",
      "\u001b[36m91u3imwapq-algo-1-627ek |\u001b[0m 2023-03-02 02:50:49,909 sagemaker-training-toolkit WARNING  Missing library /opt/conda/lib/libsmddp.so for SMDDP collective\n",
      "\u001b[36m91u3imwapq-algo-1-627ek |\u001b[0m 2023-03-02 02:50:49,909 sagemaker-training-toolkit WARNING  The system is not configured to run SMDDP collectives optimizedfor AWS infrastructure.Please use the latest SageMaker Deep Learning Container (DLC) to enable SMDDP Collectives support.\n",
      "\u001b[36m91u3imwapq-algo-1-627ek |\u001b[0m Continuing model training with default NCCL communication backend.\n",
      "\u001b[36m91u3imwapq-algo-1-627ek |\u001b[0m \n",
      "\u001b[36m91u3imwapq-algo-1-627ek |\u001b[0m 2023-03-02 02:50:49,909 sagemaker-training-toolkit INFO     instance type: local_gpu\n",
      "\u001b[36m91u3imwapq-algo-1-627ek |\u001b[0m 2023-03-02 02:50:49,909 sagemaker-training-toolkit INFO     Env Hosts: ['algo-1-627ek'] Hosts: ['algo-1-627ek'] process_per_hosts: 8 num_processes: 8\n",
      "\u001b[36m91u3imwapq-algo-1-627ek |\u001b[0m 2023-03-02 02:50:49,976 sagemaker-training-toolkit INFO     No Neurons detected (normal if no neurons installed)\n",
      "\u001b[36m91u3imwapq-algo-1-627ek |\u001b[0m 2023-03-02 02:50:50,001 sagemaker-training-toolkit INFO     instance_groups entry not present in resource_config\n",
      "\u001b[36m91u3imwapq-algo-1-627ek |\u001b[0m 2023-03-02 02:50:50,005 sagemaker-training-toolkit INFO     Invoking user script\n",
      "\u001b[36m91u3imwapq-algo-1-627ek |\u001b[0m \n",
      "\u001b[36m91u3imwapq-algo-1-627ek |\u001b[0m Training Env:\n",
      "\u001b[36m91u3imwapq-algo-1-627ek |\u001b[0m \n",
      "\u001b[36m91u3imwapq-algo-1-627ek |\u001b[0m {\n",
      "\u001b[36m91u3imwapq-algo-1-627ek |\u001b[0m     \"additional_framework_parameters\": {\n",
      "\u001b[36m91u3imwapq-algo-1-627ek |\u001b[0m         \"sagemaker_distributed_dataparallel_enabled\": true,\n",
      "\u001b[36m91u3imwapq-algo-1-627ek |\u001b[0m         \"sagemaker_instance_type\": \"local_gpu\",\n",
      "\u001b[36m91u3imwapq-algo-1-627ek |\u001b[0m         \"sagemaker_distributed_dataparallel_custom_mpi_options\": \"\"\n",
      "\u001b[36m91u3imwapq-algo-1-627ek |\u001b[0m     },\n",
      "\u001b[36m91u3imwapq-algo-1-627ek |\u001b[0m     \"channel_input_dirs\": {\n",
      "\u001b[36m91u3imwapq-algo-1-627ek |\u001b[0m         \"cache_dir\": \"/opt/ml/input/data/cache_dir\"\n",
      "\u001b[36m91u3imwapq-algo-1-627ek |\u001b[0m     },\n",
      "\u001b[36m91u3imwapq-algo-1-627ek |\u001b[0m     \"current_host\": \"algo-1-627ek\",\n",
      "\u001b[36m91u3imwapq-algo-1-627ek |\u001b[0m     \"current_instance_group\": \"homogeneousCluster\",\n",
      "\u001b[36m91u3imwapq-algo-1-627ek |\u001b[0m     \"current_instance_group_hosts\": [],\n",
      "\u001b[36m91u3imwapq-algo-1-627ek |\u001b[0m     \"current_instance_type\": \"local\",\n",
      "\u001b[36m91u3imwapq-algo-1-627ek |\u001b[0m     \"distribution_hosts\": [\n",
      "\u001b[36m91u3imwapq-algo-1-627ek |\u001b[0m         \"algo-1-627ek\"\n",
      "\u001b[36m91u3imwapq-algo-1-627ek |\u001b[0m     ],\n",
      "\u001b[36m91u3imwapq-algo-1-627ek |\u001b[0m     \"distribution_instance_groups\": [\n",
      "\u001b[36m91u3imwapq-algo-1-627ek |\u001b[0m         \"homogeneousCluster\"\n",
      "\u001b[36m91u3imwapq-algo-1-627ek |\u001b[0m     ],\n",
      "\u001b[36m91u3imwapq-algo-1-627ek |\u001b[0m     \"framework_module\": \"sagemaker_pytorch_container.training:main\",\n",
      "\u001b[36m91u3imwapq-algo-1-627ek |\u001b[0m     \"hosts\": [\n",
      "\u001b[36m91u3imwapq-algo-1-627ek |\u001b[0m         \"algo-1-627ek\"\n",
      "\u001b[36m91u3imwapq-algo-1-627ek |\u001b[0m     ],\n",
      "\u001b[36m91u3imwapq-algo-1-627ek |\u001b[0m     \"hyperparameters\": {\n",
      "\u001b[36m91u3imwapq-algo-1-627ek |\u001b[0m         \"config\": \"/opt/ml/code/config/train_cord-sm.yaml\",\n",
      "\u001b[36m91u3imwapq-algo-1-627ek |\u001b[0m         \"pretrained_model_name_or_path\": \"naver-clova-ix/donut-base\",\n",
      "\u001b[36m91u3imwapq-algo-1-627ek |\u001b[0m         \"exp_version\": \"test_experiment\",\n",
      "\u001b[36m91u3imwapq-algo-1-627ek |\u001b[0m         \"job_name\": \"nemo-exp1-0302-02461677725193\"\n",
      "\u001b[36m91u3imwapq-algo-1-627ek |\u001b[0m     },\n",
      "\u001b[36m91u3imwapq-algo-1-627ek |\u001b[0m     \"input_config_dir\": \"/opt/ml/input/config\",\n",
      "\u001b[36m91u3imwapq-algo-1-627ek |\u001b[0m     \"input_data_config\": {\n",
      "\u001b[36m91u3imwapq-algo-1-627ek |\u001b[0m         \"cache_dir\": {\n",
      "\u001b[36m91u3imwapq-algo-1-627ek |\u001b[0m             \"TrainingInputMode\": \"File\"\n",
      "\u001b[36m91u3imwapq-algo-1-627ek |\u001b[0m         }\n",
      "\u001b[36m91u3imwapq-algo-1-627ek |\u001b[0m     },\n",
      "\u001b[36m91u3imwapq-algo-1-627ek |\u001b[0m     \"input_dir\": \"/opt/ml/input\",\n",
      "\u001b[36m91u3imwapq-algo-1-627ek |\u001b[0m     \"instance_groups\": [],\n",
      "\u001b[36m91u3imwapq-algo-1-627ek |\u001b[0m     \"instance_groups_dict\": {},\n",
      "\u001b[36m91u3imwapq-algo-1-627ek |\u001b[0m     \"is_hetero\": false,\n",
      "\u001b[36m91u3imwapq-algo-1-627ek |\u001b[0m     \"is_master\": true,\n",
      "\u001b[36m91u3imwapq-algo-1-627ek |\u001b[0m     \"is_modelparallel_enabled\": null,\n",
      "\u001b[36m91u3imwapq-algo-1-627ek |\u001b[0m     \"is_smddpmprun_installed\": true,\n",
      "\u001b[36m91u3imwapq-algo-1-627ek |\u001b[0m     \"job_name\": \"nemo-exp1-0302-02461677725193\",\n",
      "\u001b[36m91u3imwapq-algo-1-627ek |\u001b[0m     \"log_level\": 20,\n",
      "\u001b[36m91u3imwapq-algo-1-627ek |\u001b[0m     \"master_hostname\": \"algo-1-627ek\",\n",
      "\u001b[36m91u3imwapq-algo-1-627ek |\u001b[0m     \"model_dir\": \"/opt/ml/model\",\n",
      "\u001b[36m91u3imwapq-algo-1-627ek |\u001b[0m     \"module_dir\": \"/opt/ml/code\",\n",
      "\u001b[36m91u3imwapq-algo-1-627ek |\u001b[0m     \"module_name\": \"setup\",\n",
      "\u001b[36m91u3imwapq-algo-1-627ek |\u001b[0m     \"network_interface_name\": \"eth0\",\n",
      "\u001b[36m91u3imwapq-algo-1-627ek |\u001b[0m     \"num_cpus\": 64,\n",
      "\u001b[36m91u3imwapq-algo-1-627ek |\u001b[0m     \"num_gpus\": 8,\n",
      "\u001b[36m91u3imwapq-algo-1-627ek |\u001b[0m     \"num_neurons\": 0,\n",
      "\u001b[36m91u3imwapq-algo-1-627ek |\u001b[0m     \"output_data_dir\": \"/opt/ml/output/data\",\n",
      "\u001b[36m91u3imwapq-algo-1-627ek |\u001b[0m     \"output_dir\": \"/opt/ml/output\",\n",
      "\u001b[36m91u3imwapq-algo-1-627ek |\u001b[0m     \"output_intermediate_dir\": \"/opt/ml/output/intermediate\",\n",
      "\u001b[36m91u3imwapq-algo-1-627ek |\u001b[0m     \"resource_config\": {\n",
      "\u001b[36m91u3imwapq-algo-1-627ek |\u001b[0m         \"current_host\": \"algo-1-627ek\",\n",
      "\u001b[36m91u3imwapq-algo-1-627ek |\u001b[0m         \"hosts\": [\n",
      "\u001b[36m91u3imwapq-algo-1-627ek |\u001b[0m             \"algo-1-627ek\"\n",
      "\u001b[36m91u3imwapq-algo-1-627ek |\u001b[0m         ]\n",
      "\u001b[36m91u3imwapq-algo-1-627ek |\u001b[0m     },\n",
      "\u001b[36m91u3imwapq-algo-1-627ek |\u001b[0m     \"user_entry_point\": \"setup.py\"\n",
      "\u001b[36m91u3imwapq-algo-1-627ek |\u001b[0m }\n",
      "\u001b[36m91u3imwapq-algo-1-627ek |\u001b[0m \n",
      "\u001b[36m91u3imwapq-algo-1-627ek |\u001b[0m Environment variables:\n",
      "\u001b[36m91u3imwapq-algo-1-627ek |\u001b[0m \n",
      "\u001b[36m91u3imwapq-algo-1-627ek |\u001b[0m SM_HOSTS=[\"algo-1-627ek\"]\n",
      "\u001b[36m91u3imwapq-algo-1-627ek |\u001b[0m SM_NETWORK_INTERFACE_NAME=eth0\n",
      "\u001b[36m91u3imwapq-algo-1-627ek |\u001b[0m SM_HPS={\"config\":\"/opt/ml/code/config/train_cord-sm.yaml\",\"exp_version\":\"test_experiment\",\"job_name\":\"nemo-exp1-0302-02461677725193\",\"pretrained_model_name_or_path\":\"naver-clova-ix/donut-base\"}\n",
      "\u001b[36m91u3imwapq-algo-1-627ek |\u001b[0m SM_USER_ENTRY_POINT=setup.py\n",
      "\u001b[36m91u3imwapq-algo-1-627ek |\u001b[0m SM_FRAMEWORK_PARAMS={\"sagemaker_distributed_dataparallel_custom_mpi_options\":\"\",\"sagemaker_distributed_dataparallel_enabled\":true,\"sagemaker_instance_type\":\"local_gpu\"}\n",
      "\u001b[36m91u3imwapq-algo-1-627ek |\u001b[0m SM_RESOURCE_CONFIG={\"current_host\":\"algo-1-627ek\",\"hosts\":[\"algo-1-627ek\"]}\n",
      "\u001b[36m91u3imwapq-algo-1-627ek |\u001b[0m SM_INPUT_DATA_CONFIG={\"cache_dir\":{\"TrainingInputMode\":\"File\"}}\n",
      "\u001b[36m91u3imwapq-algo-1-627ek |\u001b[0m SM_OUTPUT_DATA_DIR=/opt/ml/output/data\n",
      "\u001b[36m91u3imwapq-algo-1-627ek |\u001b[0m SM_CHANNELS=[\"cache_dir\"]\n",
      "\u001b[36m91u3imwapq-algo-1-627ek |\u001b[0m SM_CURRENT_HOST=algo-1-627ek\n",
      "\u001b[36m91u3imwapq-algo-1-627ek |\u001b[0m SM_CURRENT_INSTANCE_TYPE=local\n",
      "\u001b[36m91u3imwapq-algo-1-627ek |\u001b[0m SM_CURRENT_INSTANCE_GROUP=homogeneousCluster\n",
      "\u001b[36m91u3imwapq-algo-1-627ek |\u001b[0m SM_CURRENT_INSTANCE_GROUP_HOSTS=[]\n",
      "\u001b[36m91u3imwapq-algo-1-627ek |\u001b[0m SM_INSTANCE_GROUPS=[]\n",
      "\u001b[36m91u3imwapq-algo-1-627ek |\u001b[0m SM_INSTANCE_GROUPS_DICT={}\n",
      "\u001b[36m91u3imwapq-algo-1-627ek |\u001b[0m SM_DISTRIBUTION_INSTANCE_GROUPS=[\"homogeneousCluster\"]\n",
      "\u001b[36m91u3imwapq-algo-1-627ek |\u001b[0m SM_IS_HETERO=false\n",
      "\u001b[36m91u3imwapq-algo-1-627ek |\u001b[0m SM_MODULE_NAME=setup\n",
      "\u001b[36m91u3imwapq-algo-1-627ek |\u001b[0m SM_LOG_LEVEL=20\n",
      "\u001b[36m91u3imwapq-algo-1-627ek |\u001b[0m SM_FRAMEWORK_MODULE=sagemaker_pytorch_container.training:main\n",
      "\u001b[36m91u3imwapq-algo-1-627ek |\u001b[0m SM_INPUT_DIR=/opt/ml/input\n",
      "\u001b[36m91u3imwapq-algo-1-627ek |\u001b[0m SM_INPUT_CONFIG_DIR=/opt/ml/input/config\n",
      "\u001b[36m91u3imwapq-algo-1-627ek |\u001b[0m SM_OUTPUT_DIR=/opt/ml/output\n",
      "\u001b[36m91u3imwapq-algo-1-627ek |\u001b[0m SM_NUM_CPUS=64\n",
      "\u001b[36m91u3imwapq-algo-1-627ek |\u001b[0m SM_NUM_GPUS=8\n",
      "\u001b[36m91u3imwapq-algo-1-627ek |\u001b[0m SM_NUM_NEURONS=0\n",
      "\u001b[36m91u3imwapq-algo-1-627ek |\u001b[0m SM_MODEL_DIR=/opt/ml/model\n",
      "\u001b[36m91u3imwapq-algo-1-627ek |\u001b[0m SM_MODULE_DIR=/opt/ml/code\n",
      "\u001b[36m91u3imwapq-algo-1-627ek |\u001b[0m SM_TRAINING_ENV={\"additional_framework_parameters\":{\"sagemaker_distributed_dataparallel_custom_mpi_options\":\"\",\"sagemaker_distributed_dataparallel_enabled\":true,\"sagemaker_instance_type\":\"local_gpu\"},\"channel_input_dirs\":{\"cache_dir\":\"/opt/ml/input/data/cache_dir\"},\"current_host\":\"algo-1-627ek\",\"current_instance_group\":\"homogeneousCluster\",\"current_instance_group_hosts\":[],\"current_instance_type\":\"local\",\"distribution_hosts\":[\"algo-1-627ek\"],\"distribution_instance_groups\":[\"homogeneousCluster\"],\"framework_module\":\"sagemaker_pytorch_container.training:main\",\"hosts\":[\"algo-1-627ek\"],\"hyperparameters\":{\"config\":\"/opt/ml/code/config/train_cord-sm.yaml\",\"exp_version\":\"test_experiment\",\"job_name\":\"nemo-exp1-0302-02461677725193\",\"pretrained_model_name_or_path\":\"naver-clova-ix/donut-base\"},\"input_config_dir\":\"/opt/ml/input/config\",\"input_data_config\":{\"cache_dir\":{\"TrainingInputMode\":\"File\"}},\"input_dir\":\"/opt/ml/input\",\"instance_groups\":[],\"instance_groups_dict\":{},\"is_hetero\":false,\"is_master\":true,\"is_modelparallel_enabled\":null,\"is_smddpmprun_installed\":true,\"job_name\":\"nemo-exp1-0302-02461677725193\",\"log_level\":20,\"master_hostname\":\"algo-1-627ek\",\"model_dir\":\"/opt/ml/model\",\"module_dir\":\"/opt/ml/code\",\"module_name\":\"setup\",\"network_interface_name\":\"eth0\",\"num_cpus\":64,\"num_gpus\":8,\"num_neurons\":0,\"output_data_dir\":\"/opt/ml/output/data\",\"output_dir\":\"/opt/ml/output\",\"output_intermediate_dir\":\"/opt/ml/output/intermediate\",\"resource_config\":{\"current_host\":\"algo-1-627ek\",\"hosts\":[\"algo-1-627ek\"]},\"user_entry_point\":\"setup.py\"}\n",
      "\u001b[36m91u3imwapq-algo-1-627ek |\u001b[0m SM_USER_ARGS=[\"--config\",\"/opt/ml/code/config/train_cord-sm.yaml\",\"--exp_version\",\"test_experiment\",\"--job_name\",\"nemo-exp1-0302-02461677725193\",\"--pretrained_model_name_or_path\",\"naver-clova-ix/donut-base\"]\n",
      "\u001b[36m91u3imwapq-algo-1-627ek |\u001b[0m SM_OUTPUT_INTERMEDIATE_DIR=/opt/ml/output/intermediate\n",
      "\u001b[36m91u3imwapq-algo-1-627ek |\u001b[0m SM_CHANNEL_CACHE_DIR=/opt/ml/input/data/cache_dir\n",
      "\u001b[36m91u3imwapq-algo-1-627ek |\u001b[0m SM_HP_CONFIG=/opt/ml/code/config/train_cord-sm.yaml\n",
      "\u001b[36m91u3imwapq-algo-1-627ek |\u001b[0m SM_HP_PRETRAINED_MODEL_NAME_OR_PATH=naver-clova-ix/donut-base\n",
      "\u001b[36m91u3imwapq-algo-1-627ek |\u001b[0m SM_HP_EXP_VERSION=test_experiment\n",
      "\u001b[36m91u3imwapq-algo-1-627ek |\u001b[0m SM_HP_JOB_NAME=nemo-exp1-0302-02461677725193\n",
      "\u001b[36m91u3imwapq-algo-1-627ek |\u001b[0m PYTHONPATH=/opt/ml/code:/opt/conda/bin:/opt/conda/lib/python39.zip:/opt/conda/lib/python3.9:/opt/conda/lib/python3.9/lib-dynload:/opt/conda/lib/python3.9/site-packages\n",
      "\u001b[36m91u3imwapq-algo-1-627ek |\u001b[0m \n",
      "\u001b[36m91u3imwapq-algo-1-627ek |\u001b[0m Invoking script with the following command:\n",
      "\u001b[36m91u3imwapq-algo-1-627ek |\u001b[0m \n",
      "\u001b[36m91u3imwapq-algo-1-627ek |\u001b[0m mpirun --host algo-1-627ek -np 8 --allow-run-as-root --tag-output --oversubscribe -mca btl_tcp_if_include eth0 -mca oob_tcp_if_include eth0 -mca plm_rsh_no_tree_spawn 1 -mca pml ob1 -mca btl ^openib -mca orte_abort_on_non_zero_status 1 -mca btl_vader_single_copy_mechanism none -mca plm_rsh_num_concurrent 1 -x NCCL_SOCKET_IFNAME=eth0 -x NCCL_DEBUG=INFO -x LD_LIBRARY_PATH -x PATH -x SMDATAPARALLEL_USE_SINGLENODE=1 -x FI_PROVIDER=efa -x RDMAV_FORK_SAFE=1 -x LD_PRELOAD=/opt/conda/lib/python3.9/site-packages/gethostname.cpython-39-x86_64-linux-gnu.so -x USE_SMDDP_COLLECTIVES=0 smddprun /opt/conda/bin/python3.9 -m mpi4py -m setup --config /opt/ml/code/config/train_cord-sm.yaml --exp_version test_experiment --job_name nemo-exp1-0302-02461677725193 --pretrained_model_name_or_path naver-clova-ix/donut-base\n",
      "\u001b[36m91u3imwapq-algo-1-627ek |\u001b[0m \n",
      "\u001b[36m91u3imwapq-algo-1-627ek |\u001b[0m \n",
      "\u001b[36m91u3imwapq-algo-1-627ek |\u001b[0m 2023-03-02 02:50:51,547 root         INFO     Using NamedTuple = typing._NamedTuple instead.\n",
      "\u001b[36m91u3imwapq-algo-1-627ek |\u001b[0m [1,mpirank:0,algo-1]<stderr>:curl: /opt/conda/lib/libcurl.so.4: no version information available (required by curl)\n",
      "\u001b[36m91u3imwapq-algo-1-627ek |\u001b[0m [1,mpirank:0,algo-1]<stderr>:curl: /opt/conda/lib/libcurl.so.4: no version information available (required by curl)\n",
      "\u001b[36m91u3imwapq-algo-1-627ek |\u001b[0m [1,mpirank:0,algo-1]<stderr>:curl: /opt/conda/lib/libcurl.so.4: no version information available (required by curl)\n",
      "\u001b[36m91u3imwapq-algo-1-627ek |\u001b[0m [1,mpirank:1,algo-1]<stderr>:usage: setup.py [global_opts] cmd1 [cmd1_opts] [cmd2 [cmd2_opts] ...]\n",
      "\u001b[36m91u3imwapq-algo-1-627ek |\u001b[0m [1,mpirank:1,algo-1]<stderr>:   or: setup.py --help [cmd1 cmd2 ...]\n",
      "\u001b[36m91u3imwapq-algo-1-627ek |\u001b[0m [1,mpirank:1,algo-1]<stderr>:   or: setup.py --help-commands\n",
      "\u001b[36m91u3imwapq-algo-1-627ek |\u001b[0m [1,mpirank:1,algo-1]<stderr>:   or: setup.py cmd --help\n",
      "\u001b[36m91u3imwapq-algo-1-627ek |\u001b[0m [1,mpirank:1,algo-1]<stderr>:\n",
      "\u001b[36m91u3imwapq-algo-1-627ek |\u001b[0m [1,mpirank:1,algo-1]<stderr>:error: option --config not recognized\n",
      "\u001b[36m91u3imwapq-algo-1-627ek |\u001b[0m [1,mpirank:3,algo-1]<stderr>:usage: setup.py [global_opts] cmd1 [cmd1_opts] [cmd2 [cmd2_opts] ...]\n",
      "\u001b[36m91u3imwapq-algo-1-627ek |\u001b[0m [1,mpirank:3,algo-1]<stderr>:   or: setup.py --help [cmd1 cmd2 ...]\n",
      "\u001b[36m91u3imwapq-algo-1-627ek |\u001b[0m [1,mpirank:3,algo-1]<stderr>:   or: setup.py --help-commands\n",
      "\u001b[36m91u3imwapq-algo-1-627ek |\u001b[0m [1,mpirank:3,algo-1]<stderr>:   or: setup.py cmd --help\n",
      "\u001b[36m91u3imwapq-algo-1-627ek |\u001b[0m [1,mpirank:3,algo-1]<stderr>:\n",
      "\u001b[36m91u3imwapq-algo-1-627ek |\u001b[0m [1,mpirank:3,algo-1]<stderr>:error: option --config not recognized\n",
      "\u001b[36m91u3imwapq-algo-1-627ek |\u001b[0m [1,mpirank:5,algo-1]<stderr>:usage: setup.py [global_opts] cmd1 [cmd1_opts] [cmd2 [cmd2_opts] ...]\n",
      "\u001b[36m91u3imwapq-algo-1-627ek |\u001b[0m [1,mpirank:5,algo-1]<stderr>:   or: setup.py --help [cmd1 cmd2 ...]\n",
      "\u001b[36m91u3imwapq-algo-1-627ek |\u001b[0m [1,mpirank:5,algo-1]<stderr>:   or: setup.py --help-commands\n",
      "\u001b[36m91u3imwapq-algo-1-627ek |\u001b[0m [1,mpirank:5,algo-1]<stderr>:   or: setup.py cmd --help\n",
      "\u001b[36m91u3imwapq-algo-1-627ek |\u001b[0m [1,mpirank:5,algo-1]<stderr>:\n",
      "\u001b[36m91u3imwapq-algo-1-627ek |\u001b[0m [1,mpirank:5,algo-1]<stderr>:error: option --config not recognized\n",
      "\u001b[36m91u3imwapq-algo-1-627ek |\u001b[0m [1,mpirank:6,algo-1]<stderr>:usage: setup.py [global_opts] cmd1 [cmd1_opts] [cmd2 [cmd2_opts] ...]\n",
      "\u001b[36m91u3imwapq-algo-1-627ek |\u001b[0m [1,mpirank:6,algo-1]<stderr>:   or: setup.py --help [cmd1 cmd2 ...]\n",
      "\u001b[36m91u3imwapq-algo-1-627ek |\u001b[0m [1,mpirank:6,algo-1]<stderr>:   or: setup.py --help-commands\n",
      "\u001b[36m91u3imwapq-algo-1-627ek |\u001b[0m [1,mpirank:6,algo-1]<stderr>:   or: setup.py cmd --help\n",
      "\u001b[36m91u3imwapq-algo-1-627ek |\u001b[0m [1,mpirank:6,algo-1]<stderr>:\n",
      "\u001b[36m91u3imwapq-algo-1-627ek |\u001b[0m [1,mpirank:6,algo-1]<stderr>:error: option --config not recognized\n",
      "\u001b[36m91u3imwapq-algo-1-627ek |\u001b[0m [1,mpirank:7,algo-1]<stderr>:usage: setup.py [global_opts] cmd1 [cmd1_opts] [cmd2 [cmd2_opts] ...]\n",
      "\u001b[36m91u3imwapq-algo-1-627ek |\u001b[0m [1,mpirank:7,algo-1]<stderr>:   or: setup.py --help [cmd1 cmd2 ...]\n",
      "\u001b[36m91u3imwapq-algo-1-627ek |\u001b[0m [1,mpirank:7,algo-1]<stderr>:   or: setup.py --help-commands\n",
      "\u001b[36m91u3imwapq-algo-1-627ek |\u001b[0m [1,mpirank:7,algo-1]<stderr>:   or: setup.py cmd --help\n",
      "\u001b[36m91u3imwapq-algo-1-627ek |\u001b[0m [1,mpirank:7,algo-1]<stderr>:\n",
      "\u001b[36m91u3imwapq-algo-1-627ek |\u001b[0m [1,mpirank:7,algo-1]<stderr>:error: option --config not recognized\n",
      "\u001b[36m91u3imwapq-algo-1-627ek |\u001b[0m [1,mpirank:2,algo-1]<stderr>:usage: setup.py [global_opts] cmd1 [cmd1_opts] [cmd2 [cmd2_opts] ...]\n",
      "\u001b[36m91u3imwapq-algo-1-627ek |\u001b[0m [1,mpirank:2,algo-1]<stderr>:   or: setup.py --help [cmd1 cmd2 ...]\n",
      "\u001b[36m91u3imwapq-algo-1-627ek |\u001b[0m [1,mpirank:2,algo-1]<stderr>:   or: setup.py --help-commands\n",
      "\u001b[36m91u3imwapq-algo-1-627ek |\u001b[0m [1,mpirank:2,algo-1]<stderr>:   or: setup.py cmd --help\n",
      "\u001b[36m91u3imwapq-algo-1-627ek |\u001b[0m [1,mpirank:2,algo-1]<stderr>:\n",
      "\u001b[36m91u3imwapq-algo-1-627ek |\u001b[0m [1,mpirank:2,algo-1]<stderr>:error: option --config not recognized\n",
      "\u001b[36m91u3imwapq-algo-1-627ek |\u001b[0m --------------------------------------------------------------------------\n",
      "\u001b[36m91u3imwapq-algo-1-627ek |\u001b[0m Primary job  terminated normally, but 1 process returned\n",
      "\u001b[36m91u3imwapq-algo-1-627ek |\u001b[0m a non-zero exit code. Per user-direction, the job has been aborted.\n",
      "\u001b[36m91u3imwapq-algo-1-627ek |\u001b[0m --------------------------------------------------------------------------\n",
      "\u001b[36m91u3imwapq-algo-1-627ek |\u001b[0m --------------------------------------------------------------------------\n",
      "\u001b[36m91u3imwapq-algo-1-627ek |\u001b[0m mpirun.real detected that one or more processes exited with non-zero status, thus causing\n",
      "\u001b[36m91u3imwapq-algo-1-627ek |\u001b[0m the job to be terminated. The first process to do so was:\n",
      "\u001b[36m91u3imwapq-algo-1-627ek |\u001b[0m \n",
      "\u001b[36m91u3imwapq-algo-1-627ek |\u001b[0m   Process name: [[32952,1],1]\n",
      "\u001b[36m91u3imwapq-algo-1-627ek |\u001b[0m   Exit code:    1\n",
      "\u001b[36m91u3imwapq-algo-1-627ek |\u001b[0m --------------------------------------------------------------------------\n",
      "\u001b[36m91u3imwapq-algo-1-627ek |\u001b[0m 2023-03-02 02:50:52,553 sagemaker-training-toolkit INFO     Waiting for the process to finish and give a return code.\n",
      "\u001b[36m91u3imwapq-algo-1-627ek |\u001b[0m 2023-03-02 02:50:52,553 sagemaker-training-toolkit INFO     Done waiting for a return code. Received 1 from exiting process.\n",
      "\u001b[36m91u3imwapq-algo-1-627ek |\u001b[0m 2023-03-02 02:50:52,554 sagemaker-training-toolkit ERROR    Reporting training FAILURE\n",
      "\u001b[36m91u3imwapq-algo-1-627ek |\u001b[0m 2023-03-02 02:50:52,554 sagemaker-training-toolkit ERROR    ExecuteUserScriptError:\n",
      "\u001b[36m91u3imwapq-algo-1-627ek |\u001b[0m ExitCode 1\n",
      "\u001b[36m91u3imwapq-algo-1-627ek |\u001b[0m ErrorMessage \"mpirun.real detected that one or more processes exited with non-zero status, thus causing\n",
      "\u001b[36m91u3imwapq-algo-1-627ek |\u001b[0m  the job to be terminated. The first process to do so was\n",
      "\u001b[36m91u3imwapq-algo-1-627ek |\u001b[0m  \n",
      "\u001b[36m91u3imwapq-algo-1-627ek |\u001b[0m  Process name: [[32952,1],1]\n",
      "\u001b[36m91u3imwapq-algo-1-627ek |\u001b[0m  Exit code:    1\n",
      "\u001b[36m91u3imwapq-algo-1-627ek |\u001b[0m  --------------------------------------------------------------------------\"\n",
      "\u001b[36m91u3imwapq-algo-1-627ek |\u001b[0m Command \"mpirun --host algo-1-627ek -np 8 --allow-run-as-root --tag-output --oversubscribe -mca btl_tcp_if_include eth0 -mca oob_tcp_if_include eth0 -mca plm_rsh_no_tree_spawn 1 -mca pml ob1 -mca btl ^openib -mca orte_abort_on_non_zero_status 1 -mca btl_vader_single_copy_mechanism none -mca plm_rsh_num_concurrent 1 -x NCCL_SOCKET_IFNAME=eth0 -x NCCL_DEBUG=INFO -x LD_LIBRARY_PATH -x PATH -x SMDATAPARALLEL_USE_SINGLENODE=1 -x FI_PROVIDER=efa -x RDMAV_FORK_SAFE=1 -x LD_PRELOAD=/opt/conda/lib/python3.9/site-packages/gethostname.cpython-39-x86_64-linux-gnu.so -x USE_SMDDP_COLLECTIVES=0 smddprun /opt/conda/bin/python3.9 -m mpi4py -m setup --config /opt/ml/code/config/train_cord-sm.yaml --exp_version test_experiment --job_name nemo-exp1-0302-02461677725193 --pretrained_model_name_or_path naver-clova-ix/donut-base\"\n",
      "\u001b[36m91u3imwapq-algo-1-627ek |\u001b[0m 2023-03-02 02:50:52,554 sagemaker-training-toolkit ERROR    Encountered exit_code 1\n",
      "\u001b[36m91u3imwapq-algo-1-627ek exited with code 1\n",
      "\u001b[0m1\n",
      "Aborting on container exit...\n"
     ]
    },
    {
     "ename": "RuntimeError",
     "evalue": "Failed to run: ['docker-compose', '-f', '/tmp/tmpk70stqme/docker-compose.yaml', 'up', '--build', '--abort-on-container-exit'], Process exited with code: 1",
     "output_type": "error",
     "traceback": [
      "\u001b[0;31m---------------------------------------------------------------------------\u001b[0m",
      "\u001b[0;31mRuntimeError\u001b[0m                              Traceback (most recent call last)",
      "\u001b[0;32m~/anaconda3/envs/pytorch_p38/lib/python3.8/site-packages/sagemaker/local/image.py\u001b[0m in \u001b[0;36mtrain\u001b[0;34m(self, input_data_config, output_data_config, hyperparameters, environment, job_name)\u001b[0m\n\u001b[1;32m    247\u001b[0m         \u001b[0;32mtry\u001b[0m\u001b[0;34m:\u001b[0m\u001b[0;34m\u001b[0m\u001b[0;34m\u001b[0m\u001b[0m\n\u001b[0;32m--> 248\u001b[0;31m             \u001b[0m_stream_output\u001b[0m\u001b[0;34m(\u001b[0m\u001b[0mprocess\u001b[0m\u001b[0;34m)\u001b[0m\u001b[0;34m\u001b[0m\u001b[0;34m\u001b[0m\u001b[0m\n\u001b[0m\u001b[1;32m    249\u001b[0m         \u001b[0;32mexcept\u001b[0m \u001b[0mRuntimeError\u001b[0m \u001b[0;32mas\u001b[0m \u001b[0me\u001b[0m\u001b[0;34m:\u001b[0m\u001b[0;34m\u001b[0m\u001b[0;34m\u001b[0m\u001b[0m\n",
      "\u001b[0;32m~/anaconda3/envs/pytorch_p38/lib/python3.8/site-packages/sagemaker/local/image.py\u001b[0m in \u001b[0;36m_stream_output\u001b[0;34m(process)\u001b[0m\n\u001b[1;32m    915\u001b[0m     \u001b[0;32mif\u001b[0m \u001b[0mexit_code\u001b[0m \u001b[0;34m!=\u001b[0m \u001b[0;36m0\u001b[0m\u001b[0;34m:\u001b[0m\u001b[0;34m\u001b[0m\u001b[0;34m\u001b[0m\u001b[0m\n\u001b[0;32m--> 916\u001b[0;31m         \u001b[0;32mraise\u001b[0m \u001b[0mRuntimeError\u001b[0m\u001b[0;34m(\u001b[0m\u001b[0;34m\"Process exited with code: %s\"\u001b[0m \u001b[0;34m%\u001b[0m \u001b[0mexit_code\u001b[0m\u001b[0;34m)\u001b[0m\u001b[0;34m\u001b[0m\u001b[0;34m\u001b[0m\u001b[0m\n\u001b[0m\u001b[1;32m    917\u001b[0m \u001b[0;34m\u001b[0m\u001b[0m\n",
      "\u001b[0;31mRuntimeError\u001b[0m: Process exited with code: 1",
      "\nDuring handling of the above exception, another exception occurred:\n",
      "\u001b[0;31mRuntimeError\u001b[0m                              Traceback (most recent call last)",
      "\u001b[0;32m/tmp/ipykernel_124212/3403468731.py\u001b[0m in \u001b[0;36m<cell line: 10>\u001b[0;34m()\u001b[0m\n\u001b[1;32m      8\u001b[0m \u001b[0mhyperparameters\u001b[0m\u001b[0;34m[\u001b[0m\u001b[0;34m'job_name'\u001b[0m\u001b[0;34m]\u001b[0m \u001b[0;34m=\u001b[0m \u001b[0;34mf'{job_name}'\u001b[0m\u001b[0;34m\u001b[0m\u001b[0;34m\u001b[0m\u001b[0m\n\u001b[1;32m      9\u001b[0m \u001b[0;34m\u001b[0m\u001b[0m\n\u001b[0;32m---> 10\u001b[0;31m smp_estimator.fit(\n\u001b[0m\u001b[1;32m     11\u001b[0m     \u001b[0minputs\u001b[0m\u001b[0;34m=\u001b[0m\u001b[0mdata_channels\u001b[0m\u001b[0;34m,\u001b[0m\u001b[0;34m\u001b[0m\u001b[0;34m\u001b[0m\u001b[0m\n\u001b[1;32m     12\u001b[0m     \u001b[0mjob_name\u001b[0m\u001b[0;34m=\u001b[0m\u001b[0mjob_name\u001b[0m\u001b[0;34m,\u001b[0m\u001b[0;34m\u001b[0m\u001b[0;34m\u001b[0m\u001b[0m\n",
      "\u001b[0;32m~/anaconda3/envs/pytorch_p38/lib/python3.8/site-packages/sagemaker/workflow/pipeline_context.py\u001b[0m in \u001b[0;36mwrapper\u001b[0;34m(*args, **kwargs)\u001b[0m\n\u001b[1;32m    270\u001b[0m             \u001b[0;32mreturn\u001b[0m \u001b[0m_StepArguments\u001b[0m\u001b[0;34m(\u001b[0m\u001b[0mretrieve_caller_name\u001b[0m\u001b[0;34m(\u001b[0m\u001b[0mself_instance\u001b[0m\u001b[0;34m)\u001b[0m\u001b[0;34m,\u001b[0m \u001b[0mrun_func\u001b[0m\u001b[0;34m,\u001b[0m \u001b[0;34m*\u001b[0m\u001b[0margs\u001b[0m\u001b[0;34m,\u001b[0m \u001b[0;34m**\u001b[0m\u001b[0mkwargs\u001b[0m\u001b[0;34m)\u001b[0m\u001b[0;34m\u001b[0m\u001b[0;34m\u001b[0m\u001b[0m\n\u001b[1;32m    271\u001b[0m \u001b[0;34m\u001b[0m\u001b[0m\n\u001b[0;32m--> 272\u001b[0;31m         \u001b[0;32mreturn\u001b[0m \u001b[0mrun_func\u001b[0m\u001b[0;34m(\u001b[0m\u001b[0;34m*\u001b[0m\u001b[0margs\u001b[0m\u001b[0;34m,\u001b[0m \u001b[0;34m**\u001b[0m\u001b[0mkwargs\u001b[0m\u001b[0;34m)\u001b[0m\u001b[0;34m\u001b[0m\u001b[0;34m\u001b[0m\u001b[0m\n\u001b[0m\u001b[1;32m    273\u001b[0m \u001b[0;34m\u001b[0m\u001b[0m\n\u001b[1;32m    274\u001b[0m     \u001b[0;32mreturn\u001b[0m \u001b[0mwrapper\u001b[0m\u001b[0;34m\u001b[0m\u001b[0;34m\u001b[0m\u001b[0m\n",
      "\u001b[0;32m~/anaconda3/envs/pytorch_p38/lib/python3.8/site-packages/sagemaker/estimator.py\u001b[0m in \u001b[0;36mfit\u001b[0;34m(self, inputs, wait, logs, job_name, experiment_config)\u001b[0m\n\u001b[1;32m   1151\u001b[0m \u001b[0;34m\u001b[0m\u001b[0m\n\u001b[1;32m   1152\u001b[0m         \u001b[0mexperiment_config\u001b[0m \u001b[0;34m=\u001b[0m \u001b[0mcheck_and_get_run_experiment_config\u001b[0m\u001b[0;34m(\u001b[0m\u001b[0mexperiment_config\u001b[0m\u001b[0;34m)\u001b[0m\u001b[0;34m\u001b[0m\u001b[0;34m\u001b[0m\u001b[0m\n\u001b[0;32m-> 1153\u001b[0;31m         \u001b[0mself\u001b[0m\u001b[0;34m.\u001b[0m\u001b[0mlatest_training_job\u001b[0m \u001b[0;34m=\u001b[0m \u001b[0m_TrainingJob\u001b[0m\u001b[0;34m.\u001b[0m\u001b[0mstart_new\u001b[0m\u001b[0;34m(\u001b[0m\u001b[0mself\u001b[0m\u001b[0;34m,\u001b[0m \u001b[0minputs\u001b[0m\u001b[0;34m,\u001b[0m \u001b[0mexperiment_config\u001b[0m\u001b[0;34m)\u001b[0m\u001b[0;34m\u001b[0m\u001b[0;34m\u001b[0m\u001b[0m\n\u001b[0m\u001b[1;32m   1154\u001b[0m         \u001b[0mself\u001b[0m\u001b[0;34m.\u001b[0m\u001b[0mjobs\u001b[0m\u001b[0;34m.\u001b[0m\u001b[0mappend\u001b[0m\u001b[0;34m(\u001b[0m\u001b[0mself\u001b[0m\u001b[0;34m.\u001b[0m\u001b[0mlatest_training_job\u001b[0m\u001b[0;34m)\u001b[0m\u001b[0;34m\u001b[0m\u001b[0;34m\u001b[0m\u001b[0m\n\u001b[1;32m   1155\u001b[0m         \u001b[0;32mif\u001b[0m \u001b[0mwait\u001b[0m\u001b[0;34m:\u001b[0m\u001b[0;34m\u001b[0m\u001b[0;34m\u001b[0m\u001b[0m\n",
      "\u001b[0;32m~/anaconda3/envs/pytorch_p38/lib/python3.8/site-packages/sagemaker/estimator.py\u001b[0m in \u001b[0;36mstart_new\u001b[0;34m(cls, estimator, inputs, experiment_config)\u001b[0m\n\u001b[1;32m   2083\u001b[0m         \u001b[0mtrain_args\u001b[0m \u001b[0;34m=\u001b[0m \u001b[0mcls\u001b[0m\u001b[0;34m.\u001b[0m\u001b[0m_get_train_args\u001b[0m\u001b[0;34m(\u001b[0m\u001b[0mestimator\u001b[0m\u001b[0;34m,\u001b[0m \u001b[0minputs\u001b[0m\u001b[0;34m,\u001b[0m \u001b[0mexperiment_config\u001b[0m\u001b[0;34m)\u001b[0m\u001b[0;34m\u001b[0m\u001b[0;34m\u001b[0m\u001b[0m\n\u001b[1;32m   2084\u001b[0m \u001b[0;34m\u001b[0m\u001b[0m\n\u001b[0;32m-> 2085\u001b[0;31m         \u001b[0mestimator\u001b[0m\u001b[0;34m.\u001b[0m\u001b[0msagemaker_session\u001b[0m\u001b[0;34m.\u001b[0m\u001b[0mtrain\u001b[0m\u001b[0;34m(\u001b[0m\u001b[0;34m**\u001b[0m\u001b[0mtrain_args\u001b[0m\u001b[0;34m)\u001b[0m\u001b[0;34m\u001b[0m\u001b[0;34m\u001b[0m\u001b[0m\n\u001b[0m\u001b[1;32m   2086\u001b[0m \u001b[0;34m\u001b[0m\u001b[0m\n\u001b[1;32m   2087\u001b[0m         \u001b[0;32mreturn\u001b[0m \u001b[0mcls\u001b[0m\u001b[0;34m(\u001b[0m\u001b[0mestimator\u001b[0m\u001b[0;34m.\u001b[0m\u001b[0msagemaker_session\u001b[0m\u001b[0;34m,\u001b[0m \u001b[0mestimator\u001b[0m\u001b[0;34m.\u001b[0m\u001b[0m_current_job_name\u001b[0m\u001b[0;34m)\u001b[0m\u001b[0;34m\u001b[0m\u001b[0;34m\u001b[0m\u001b[0m\n",
      "\u001b[0;32m~/anaconda3/envs/pytorch_p38/lib/python3.8/site-packages/sagemaker/session.py\u001b[0m in \u001b[0;36mtrain\u001b[0;34m(self, input_mode, input_config, role, job_name, output_config, resource_config, vpc_config, hyperparameters, stop_condition, tags, metric_definitions, enable_network_isolation, image_uri, training_image_config, algorithm_arn, encrypt_inter_container_traffic, use_spot_instances, checkpoint_s3_uri, checkpoint_local_path, experiment_config, debugger_rule_configs, debugger_hook_config, tensorboard_output_config, enable_sagemaker_metrics, profiler_rule_configs, profiler_config, environment, retry_strategy)\u001b[0m\n\u001b[1;32m    652\u001b[0m             \u001b[0mself\u001b[0m\u001b[0;34m.\u001b[0m\u001b[0msagemaker_client\u001b[0m\u001b[0;34m.\u001b[0m\u001b[0mcreate_training_job\u001b[0m\u001b[0;34m(\u001b[0m\u001b[0;34m**\u001b[0m\u001b[0mrequest\u001b[0m\u001b[0;34m)\u001b[0m\u001b[0;34m\u001b[0m\u001b[0;34m\u001b[0m\u001b[0m\n\u001b[1;32m    653\u001b[0m \u001b[0;34m\u001b[0m\u001b[0m\n\u001b[0;32m--> 654\u001b[0;31m         \u001b[0mself\u001b[0m\u001b[0;34m.\u001b[0m\u001b[0m_intercept_create_request\u001b[0m\u001b[0;34m(\u001b[0m\u001b[0mtrain_request\u001b[0m\u001b[0;34m,\u001b[0m \u001b[0msubmit\u001b[0m\u001b[0;34m,\u001b[0m \u001b[0mself\u001b[0m\u001b[0;34m.\u001b[0m\u001b[0mtrain\u001b[0m\u001b[0;34m.\u001b[0m\u001b[0m__name__\u001b[0m\u001b[0;34m)\u001b[0m\u001b[0;34m\u001b[0m\u001b[0;34m\u001b[0m\u001b[0m\n\u001b[0m\u001b[1;32m    655\u001b[0m \u001b[0;34m\u001b[0m\u001b[0m\n\u001b[1;32m    656\u001b[0m     def _get_train_request(  # noqa: C901\n",
      "\u001b[0;32m~/anaconda3/envs/pytorch_p38/lib/python3.8/site-packages/sagemaker/session.py\u001b[0m in \u001b[0;36m_intercept_create_request\u001b[0;34m(self, request, create, func_name)\u001b[0m\n\u001b[1;32m   4811\u001b[0m             \u001b[0mfunc_name\u001b[0m \u001b[0;34m(\u001b[0m\u001b[0mstr\u001b[0m\u001b[0;34m)\u001b[0m\u001b[0;34m:\u001b[0m \u001b[0mthe\u001b[0m \u001b[0mname\u001b[0m \u001b[0mof\u001b[0m \u001b[0mthe\u001b[0m \u001b[0mfunction\u001b[0m \u001b[0mneeded\u001b[0m \u001b[0mintercepting\u001b[0m\u001b[0;34m\u001b[0m\u001b[0;34m\u001b[0m\u001b[0m\n\u001b[1;32m   4812\u001b[0m         \"\"\"\n\u001b[0;32m-> 4813\u001b[0;31m         \u001b[0;32mreturn\u001b[0m \u001b[0mcreate\u001b[0m\u001b[0;34m(\u001b[0m\u001b[0mrequest\u001b[0m\u001b[0;34m)\u001b[0m\u001b[0;34m\u001b[0m\u001b[0;34m\u001b[0m\u001b[0m\n\u001b[0m\u001b[1;32m   4814\u001b[0m \u001b[0;34m\u001b[0m\u001b[0m\n\u001b[1;32m   4815\u001b[0m     def _create_inference_recommendations_job_request(\n",
      "\u001b[0;32m~/anaconda3/envs/pytorch_p38/lib/python3.8/site-packages/sagemaker/session.py\u001b[0m in \u001b[0;36msubmit\u001b[0;34m(request)\u001b[0m\n\u001b[1;32m    650\u001b[0m             \u001b[0mLOGGER\u001b[0m\u001b[0;34m.\u001b[0m\u001b[0minfo\u001b[0m\u001b[0;34m(\u001b[0m\u001b[0;34m\"Creating training-job with name: %s\"\u001b[0m\u001b[0;34m,\u001b[0m \u001b[0mjob_name\u001b[0m\u001b[0;34m)\u001b[0m\u001b[0;34m\u001b[0m\u001b[0;34m\u001b[0m\u001b[0m\n\u001b[1;32m    651\u001b[0m             \u001b[0mLOGGER\u001b[0m\u001b[0;34m.\u001b[0m\u001b[0mdebug\u001b[0m\u001b[0;34m(\u001b[0m\u001b[0;34m\"train request: %s\"\u001b[0m\u001b[0;34m,\u001b[0m \u001b[0mjson\u001b[0m\u001b[0;34m.\u001b[0m\u001b[0mdumps\u001b[0m\u001b[0;34m(\u001b[0m\u001b[0mrequest\u001b[0m\u001b[0;34m,\u001b[0m \u001b[0mindent\u001b[0m\u001b[0;34m=\u001b[0m\u001b[0;36m4\u001b[0m\u001b[0;34m)\u001b[0m\u001b[0;34m)\u001b[0m\u001b[0;34m\u001b[0m\u001b[0;34m\u001b[0m\u001b[0m\n\u001b[0;32m--> 652\u001b[0;31m             \u001b[0mself\u001b[0m\u001b[0;34m.\u001b[0m\u001b[0msagemaker_client\u001b[0m\u001b[0;34m.\u001b[0m\u001b[0mcreate_training_job\u001b[0m\u001b[0;34m(\u001b[0m\u001b[0;34m**\u001b[0m\u001b[0mrequest\u001b[0m\u001b[0;34m)\u001b[0m\u001b[0;34m\u001b[0m\u001b[0;34m\u001b[0m\u001b[0m\n\u001b[0m\u001b[1;32m    653\u001b[0m \u001b[0;34m\u001b[0m\u001b[0m\n\u001b[1;32m    654\u001b[0m         \u001b[0mself\u001b[0m\u001b[0;34m.\u001b[0m\u001b[0m_intercept_create_request\u001b[0m\u001b[0;34m(\u001b[0m\u001b[0mtrain_request\u001b[0m\u001b[0;34m,\u001b[0m \u001b[0msubmit\u001b[0m\u001b[0;34m,\u001b[0m \u001b[0mself\u001b[0m\u001b[0;34m.\u001b[0m\u001b[0mtrain\u001b[0m\u001b[0;34m.\u001b[0m\u001b[0m__name__\u001b[0m\u001b[0;34m)\u001b[0m\u001b[0;34m\u001b[0m\u001b[0;34m\u001b[0m\u001b[0m\n",
      "\u001b[0;32m~/anaconda3/envs/pytorch_p38/lib/python3.8/site-packages/sagemaker/local/local_session.py\u001b[0m in \u001b[0;36mcreate_training_job\u001b[0;34m(self, TrainingJobName, AlgorithmSpecification, OutputDataConfig, ResourceConfig, InputDataConfig, Environment, **kwargs)\u001b[0m\n\u001b[1;32m    192\u001b[0m         \u001b[0mhyperparameters\u001b[0m \u001b[0;34m=\u001b[0m \u001b[0mkwargs\u001b[0m\u001b[0;34m[\u001b[0m\u001b[0;34m\"HyperParameters\"\u001b[0m\u001b[0;34m]\u001b[0m \u001b[0;32mif\u001b[0m \u001b[0;34m\"HyperParameters\"\u001b[0m \u001b[0;32min\u001b[0m \u001b[0mkwargs\u001b[0m \u001b[0;32melse\u001b[0m \u001b[0;34m{\u001b[0m\u001b[0;34m}\u001b[0m\u001b[0;34m\u001b[0m\u001b[0;34m\u001b[0m\u001b[0m\n\u001b[1;32m    193\u001b[0m         \u001b[0mlogger\u001b[0m\u001b[0;34m.\u001b[0m\u001b[0minfo\u001b[0m\u001b[0;34m(\u001b[0m\u001b[0;34m\"Starting training job\"\u001b[0m\u001b[0;34m)\u001b[0m\u001b[0;34m\u001b[0m\u001b[0;34m\u001b[0m\u001b[0m\n\u001b[0;32m--> 194\u001b[0;31m         training_job.start(\n\u001b[0m\u001b[1;32m    195\u001b[0m             \u001b[0mInputDataConfig\u001b[0m\u001b[0;34m,\u001b[0m \u001b[0mOutputDataConfig\u001b[0m\u001b[0;34m,\u001b[0m \u001b[0mhyperparameters\u001b[0m\u001b[0;34m,\u001b[0m \u001b[0mEnvironment\u001b[0m\u001b[0;34m,\u001b[0m \u001b[0mTrainingJobName\u001b[0m\u001b[0;34m\u001b[0m\u001b[0;34m\u001b[0m\u001b[0m\n\u001b[1;32m    196\u001b[0m         )\n",
      "\u001b[0;32m~/anaconda3/envs/pytorch_p38/lib/python3.8/site-packages/sagemaker/local/entities.py\u001b[0m in \u001b[0;36mstart\u001b[0;34m(self, input_data_config, output_data_config, hyperparameters, environment, job_name)\u001b[0m\n\u001b[1;32m    241\u001b[0m         \u001b[0mself\u001b[0m\u001b[0;34m.\u001b[0m\u001b[0menvironment\u001b[0m \u001b[0;34m=\u001b[0m \u001b[0menvironment\u001b[0m\u001b[0;34m\u001b[0m\u001b[0;34m\u001b[0m\u001b[0m\n\u001b[1;32m    242\u001b[0m \u001b[0;34m\u001b[0m\u001b[0m\n\u001b[0;32m--> 243\u001b[0;31m         self.model_artifacts = self.container.train(\n\u001b[0m\u001b[1;32m    244\u001b[0m             \u001b[0minput_data_config\u001b[0m\u001b[0;34m,\u001b[0m \u001b[0moutput_data_config\u001b[0m\u001b[0;34m,\u001b[0m \u001b[0mhyperparameters\u001b[0m\u001b[0;34m,\u001b[0m \u001b[0menvironment\u001b[0m\u001b[0;34m,\u001b[0m \u001b[0mjob_name\u001b[0m\u001b[0;34m\u001b[0m\u001b[0;34m\u001b[0m\u001b[0m\n\u001b[1;32m    245\u001b[0m         )\n",
      "\u001b[0;32m~/anaconda3/envs/pytorch_p38/lib/python3.8/site-packages/sagemaker/local/image.py\u001b[0m in \u001b[0;36mtrain\u001b[0;34m(self, input_data_config, output_data_config, hyperparameters, environment, job_name)\u001b[0m\n\u001b[1;32m    251\u001b[0m             \u001b[0;31m# which contains the exit code and append the command line to it.\u001b[0m\u001b[0;34m\u001b[0m\u001b[0;34m\u001b[0m\u001b[0;34m\u001b[0m\u001b[0m\n\u001b[1;32m    252\u001b[0m             \u001b[0mmsg\u001b[0m \u001b[0;34m=\u001b[0m \u001b[0;34m\"Failed to run: %s, %s\"\u001b[0m \u001b[0;34m%\u001b[0m \u001b[0;34m(\u001b[0m\u001b[0mcompose_command\u001b[0m\u001b[0;34m,\u001b[0m \u001b[0mstr\u001b[0m\u001b[0;34m(\u001b[0m\u001b[0me\u001b[0m\u001b[0;34m)\u001b[0m\u001b[0;34m)\u001b[0m\u001b[0;34m\u001b[0m\u001b[0;34m\u001b[0m\u001b[0m\n\u001b[0;32m--> 253\u001b[0;31m             \u001b[0;32mraise\u001b[0m \u001b[0mRuntimeError\u001b[0m\u001b[0;34m(\u001b[0m\u001b[0mmsg\u001b[0m\u001b[0;34m)\u001b[0m\u001b[0;34m\u001b[0m\u001b[0;34m\u001b[0m\u001b[0m\n\u001b[0m\u001b[1;32m    254\u001b[0m         \u001b[0;32mfinally\u001b[0m\u001b[0;34m:\u001b[0m\u001b[0;34m\u001b[0m\u001b[0;34m\u001b[0m\u001b[0m\n\u001b[1;32m    255\u001b[0m             \u001b[0martifacts\u001b[0m \u001b[0;34m=\u001b[0m \u001b[0mself\u001b[0m\u001b[0;34m.\u001b[0m\u001b[0mretrieve_artifacts\u001b[0m\u001b[0;34m(\u001b[0m\u001b[0mcompose_data\u001b[0m\u001b[0;34m,\u001b[0m \u001b[0moutput_data_config\u001b[0m\u001b[0;34m,\u001b[0m \u001b[0mjob_name\u001b[0m\u001b[0;34m)\u001b[0m\u001b[0;34m\u001b[0m\u001b[0;34m\u001b[0m\u001b[0m\n",
      "\u001b[0;31mRuntimeError\u001b[0m: Failed to run: ['docker-compose', '-f', '/tmp/tmpk70stqme/docker-compose.yaml', 'up', '--build', '--abort-on-container-exit'], Process exited with code: 1"
     ]
    }
   ],
   "source": [
    "create_experiment(experiment_name)\n",
    "job_name = create_trial(experiment_name)\n",
    "\n",
    "if instance_type =='local_gpu':\n",
    "    smp_estimator.checkpoint_s3_uri = None\n",
    "else:\n",
    "    smp_estimator.checkpoint_s3_uri = f's3://{bucket}/checkpoints/'\n",
    "hyperparameters['job_name'] = f'{job_name}'\n",
    "\n",
    "smp_estimator.fit(\n",
    "    inputs=data_channels, \n",
    "    job_name=job_name,\n",
    "    experiment_config={\n",
    "      'TrialName': job_name,\n",
    "      'TrialComponentDisplayName': job_name,\n",
    "    },\n",
    "    wait=False,\n",
    ")"
   ]
  },
  {
   "cell_type": "code",
   "execution_count": null,
   "metadata": {},
   "outputs": [],
   "source": [
    "job_name=smp_estimator.latest_training_job.name"
   ]
  },
  {
   "cell_type": "code",
   "execution_count": 49,
   "metadata": {
    "tags": []
   },
   "outputs": [
    {
     "name": "stdout",
     "output_type": "stream",
     "text": [
      "2023-01-18 07:05:56 Starting - Starting the training job."
     ]
    },
    {
     "ename": "KeyboardInterrupt",
     "evalue": "",
     "output_type": "error",
     "traceback": [
      "\u001b[0;31m---------------------------------------------------------------------------\u001b[0m",
      "\u001b[0;31mKeyboardInterrupt\u001b[0m                         Traceback (most recent call last)",
      "Cell \u001b[0;32mIn [49], line 2\u001b[0m\n\u001b[1;32m      1\u001b[0m sagemaker_session \u001b[38;5;241m=\u001b[39m sagemaker\u001b[38;5;241m.\u001b[39mSession()\n\u001b[0;32m----> 2\u001b[0m \u001b[43msagemaker_session\u001b[49m\u001b[38;5;241;43m.\u001b[39;49m\u001b[43mlogs_for_job\u001b[49m\u001b[43m(\u001b[49m\u001b[43mjob_name\u001b[49m\u001b[38;5;241;43m=\u001b[39;49m\u001b[43mjob_name\u001b[49m\u001b[43m,\u001b[49m\u001b[43m \u001b[49m\u001b[43mwait\u001b[49m\u001b[38;5;241;43m=\u001b[39;49m\u001b[38;5;28;43;01mTrue\u001b[39;49;00m\u001b[43m)\u001b[49m\n",
      "File \u001b[0;32m/opt/conda/envs/pytorch/lib/python3.9/site-packages/sagemaker/session.py:4066\u001b[0m, in \u001b[0;36mSession.logs_for_job\u001b[0;34m(self, job_name, wait, poll, log_type)\u001b[0m\n\u001b[1;32m   4063\u001b[0m \u001b[38;5;28;01mif\u001b[39;00m state \u001b[38;5;241m==\u001b[39m LogState\u001b[38;5;241m.\u001b[39mCOMPLETE:\n\u001b[1;32m   4064\u001b[0m     \u001b[38;5;28;01mbreak\u001b[39;00m\n\u001b[0;32m-> 4066\u001b[0m \u001b[43mtime\u001b[49m\u001b[38;5;241;43m.\u001b[39;49m\u001b[43msleep\u001b[49m\u001b[43m(\u001b[49m\u001b[43mpoll\u001b[49m\u001b[43m)\u001b[49m\n\u001b[1;32m   4068\u001b[0m \u001b[38;5;28;01mif\u001b[39;00m state \u001b[38;5;241m==\u001b[39m LogState\u001b[38;5;241m.\u001b[39mJOB_COMPLETE:\n\u001b[1;32m   4069\u001b[0m     state \u001b[38;5;241m=\u001b[39m LogState\u001b[38;5;241m.\u001b[39mCOMPLETE\n",
      "\u001b[0;31mKeyboardInterrupt\u001b[0m: "
     ]
    }
   ],
   "source": [
    "sagemaker_session = sagemaker.Session()\n",
    "sagemaker_session.logs_for_job(job_name=job_name, wait=True)"
   ]
  },
  {
   "cell_type": "markdown",
   "metadata": {},
   "source": [
    "# Accessing the Training Logs\n",
    "\n",
    "You can access the training logs from [Amazon CloudWatch](https://docs.aws.amazon.com/AmazonCloudWatch/latest/monitoring/WhatIsCloudWatch.html). Make sure to look at the logs of algo-1 as that is the master node whose output stream will have the training job logs.\n",
    "\n",
    "You can use CloudWatch to track SageMaker GPU and memory utilization during training and inference. To view the metrics and logs that SageMaker writes to CloudWatch, see *Processing Job, Training Job, Batch Transform Job, and Endpoint Instance Metrics* in [Monitor Amazon SageMaker with Amazon CloudWatch](https://docs.aws.amazon.com/sagemaker/latest/dg/monitoring-cloudwatch.html).\n",
    "\n",
    "If you are a new user of CloudWatch, see [Getting Started with Amazon CloudWatch](https://docs.aws.amazon.com/AmazonCloudWatch/latest/monitoring/GettingStarted.html). \n",
    "\n",
    "For additional information on monitoring and analyzing Amazon SageMaker training jobs, see [Monitor and Analyze Training Jobs Using Metrics](https://docs.aws.amazon.com/sagemaker/latest/dg/training-metrics.html).\n",
    "\n",
    "# Deploying Trained Model for Inference\n",
    "\n",
    "In most cases the trained model can be deployed on a single device for inference, since inference has smaller memory requirements. You can use the SMP API to create a single, unified model after training. For TensorFlow, a SavedModel can be created using `smp.DistributedModel.save_model` API, and for PyTorch, `smp.save()` can be used.\n",
    "\n",
    "After you build and train your models, you can deploy them to get predictions in one of two ways:\n",
    "\n",
    "* To set up a persistent endpoint to get predictions from your models, use SageMaker hosting services. For an overview on deploying a single model or multiple models with SageMaker hosting services, see [Deploy a Model on SageMaker Hosting Services](https://docs.aws.amazon.com/sagemaker/latest/dg/how-it-works-deployment.html#how-it-works-hosting).\n",
    "* To get predictions for an entire dataset, use SageMaker batch transform. For an overview on deploying a model with SageMaker batch transform, see [Get Inferences for an Entire Dataset with Batch Transform](https://docs.aws.amazon.com/sagemaker/latest/dg/how-it-works-batch.html).\n",
    "\n",
    "To learn more about deploying models for inference using SageMaker, see [Deploy Models for Inference](https://docs.aws.amazon.com/sagemaker/latest/dg/deploy-model.html). \n"
   ]
  },
  {
   "cell_type": "code",
   "execution_count": 381,
   "metadata": {},
   "outputs": [
    {
     "name": "stdout",
     "output_type": "stream",
     "text": [
      "model_result/\n",
      "model_result/trainer_state.json\n",
      "model_result/rng_state_9.pth\n",
      "model_result/tokenizer_config.json\n",
      "model_result/rng_state_5.pth\n",
      "model_result/rng_state_13.pth\n",
      "model_result/optimizer.pt_0_6_0.pt\n",
      "model_result/rng_state_3.pth\n",
      "model_result/user_content.pt\n",
      "model_result/special_tokens_map.json\n",
      "model_result/rng_state_11.pth\n",
      "model_result/optimizer.pt_0_3_0.pt\n",
      "model_result/scheduler.pt\n",
      "model_result/rng_state_15.pth\n",
      "model_result/rng_state_10.pth\n",
      "model_result/optimizer.pt_0_5_0.pt\n",
      "model_result/optimizer.pt_0_1_0.pt\n",
      "model_result/rng_state_7.pth\n",
      "model_result/optimizer.pt_0_4_1.pt\n",
      "model_result/training_args.bin\n",
      "model_result/optimizer.pt_0_3_1.pt\n",
      "model_result/rng_state_0.pth\n",
      "model_result/optimizer.pt_0_2_0.pt\n",
      "model_result/tokenizer.json\n",
      "model_result/optimizer.pt_0_1_1.pt\n",
      "model_result/rng_state_4.pth\n",
      "model_result/rng_state_6.pth\n",
      "model_result/optimizer.pt_0_6_1.pt\n",
      "model_result/rng_state_2.pth\n",
      "model_result/optimizer.pt_0_7_1.pt\n",
      "model_result/rng_state_1.pth\n",
      "model_result/optimizer.pt_0_5_1.pt\n",
      "model_result/optimizer.pt_0_7_0.pt\n",
      "model_result/rng_state_12.pth\n",
      "model_result/pytorch_model.bin\n",
      "model_result/rng_state_8.pth\n",
      "model_result/optimizer.pt_0_0_1.pt\n",
      "model_result/config.json\n",
      "model_result/rng_state_14.pth\n",
      "model_result/optimizer.pt_0_4_0.pt\n",
      "model_result/optimizer.pt_0_0_0.pt\n",
      "model_result/optimizer.pt_0_2_1.pt\n"
     ]
    }
   ],
   "source": [
    "!rm model.tar.gz\n",
    "!tar czvf model.tar.gz {src_dir}"
   ]
  },
  {
   "cell_type": "code",
   "execution_count": null,
   "metadata": {},
   "outputs": [],
   "source": []
  }
 ],
 "metadata": {
  "hide_input": false,
  "kernelspec": {
   "display_name": "conda_pytorch_p39",
   "language": "python",
   "name": "conda_pytorch_p39"
  },
  "language_info": {
   "codemirror_mode": {
    "name": "ipython",
    "version": 3
   },
   "file_extension": ".py",
   "mimetype": "text/x-python",
   "name": "python",
   "nbconvert_exporter": "python",
   "pygments_lexer": "ipython3",
   "version": "3.9.15"
  }
 },
 "nbformat": 4,
 "nbformat_minor": 4
}
