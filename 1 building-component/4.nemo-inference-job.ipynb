{
 "cells": [
  {
   "cell_type": "markdown",
   "id": "cb60aea8-54a9-4cf8-9cff-5f9b2043036b",
   "metadata": {},
   "source": [
    "# <B> Model Deployment </B>\n",
    "* Container: codna_pytorch_py39"
   ]
  },
  {
   "cell_type": "markdown",
   "id": "6dc511d5-62aa-404b-9fbd-0f1a59446926",
   "metadata": {},
   "source": [
    "## AutoReload"
   ]
  },
  {
   "cell_type": "code",
   "execution_count": 2,
   "id": "51b06f10-985d-4077-b729-e484c814f6b0",
   "metadata": {
    "tags": []
   },
   "outputs": [
    {
     "name": "stdout",
     "output_type": "stream",
     "text": [
      "The autoreload extension is already loaded. To reload it, use:\n",
      "  %reload_ext autoreload\n"
     ]
    }
   ],
   "source": [
    "%load_ext autoreload\n",
    "%autoreload 2"
   ]
  },
  {
   "cell_type": "markdown",
   "id": "84ecd6e6-2939-4712-b342-136d077100a9",
   "metadata": {},
   "source": [
    "## 1. parameter store 설정"
   ]
  },
  {
   "cell_type": "code",
   "execution_count": 3,
   "id": "0ba446e0-448f-4e07-9d5a-225c16bde8cb",
   "metadata": {
    "tags": []
   },
   "outputs": [],
   "source": [
    "import boto3\n",
    "from utils.ssm import parameter_store"
   ]
  },
  {
   "cell_type": "code",
   "execution_count": 4,
   "id": "22a09c09-735c-416e-b229-2d0a84bd458a",
   "metadata": {
    "tags": []
   },
   "outputs": [],
   "source": [
    "strRegionName=boto3.Session().region_name\n",
    "pm = parameter_store(strRegionName)\n",
    "prefix = pm.get_params(key=\"PREFIX\")"
   ]
  },
  {
   "cell_type": "markdown",
   "id": "82fcf66a-7690-4ee7-bc5c-ecab6d254e84",
   "metadata": {},
   "source": [
    "## 2.package import for model deployment"
   ]
  },
  {
   "cell_type": "code",
   "execution_count": 5,
   "id": "31244e49-1ef6-44b0-aa9a-8c279e3e9093",
   "metadata": {
    "tags": []
   },
   "outputs": [],
   "source": [
    "import os\n",
    "import sagemaker\n",
    "from sagemaker.pytorch.model import PyTorchModel"
   ]
  },
  {
   "cell_type": "code",
   "execution_count": 6,
   "id": "addb70d1-0a55-4f86-ae53-9beec538f023",
   "metadata": {
    "tags": []
   },
   "outputs": [],
   "source": [
    "from time import strftime\n",
    "from smexperiments.trial import Trial\n",
    "from smexperiments.experiment import Experiment"
   ]
  },
  {
   "cell_type": "code",
   "execution_count": 7,
   "id": "58fff36e-b3aa-4684-a67a-fde9ae3b11ad",
   "metadata": {
    "tags": []
   },
   "outputs": [],
   "source": [
    "def create_experiment(experiment_name):\n",
    "    try:\n",
    "        sm_experiment = Experiment.load(experiment_name)\n",
    "    except:\n",
    "        sm_experiment = Experiment.create(experiment_name=experiment_name)"
   ]
  },
  {
   "cell_type": "code",
   "execution_count": 8,
   "id": "5c43996d-e5f7-4fbd-992b-36f732f18e4f",
   "metadata": {
    "tags": []
   },
   "outputs": [],
   "source": [
    "def create_trial(experiment_name):\n",
    "    create_date = strftime(\"%m%d-%H%M%s\")\n",
    "    sm_trial = Trial.create(trial_name=f'{experiment_name}-{create_date}',\n",
    "                            experiment_name=experiment_name)\n",
    "\n",
    "    job_name = f'{sm_trial.trial_name}'\n",
    "    return job_name"
   ]
  },
  {
   "cell_type": "code",
   "execution_count": 10,
   "id": "4e5789a5-57b6-4a7e-81bc-188e23c28b06",
   "metadata": {
    "tags": []
   },
   "outputs": [
    {
     "name": "stdout",
     "output_type": "stream",
     "text": [
      "sagemaker_role_arn: arn:aws:iam::419974056037:role/service-role/AmazonSageMaker-ExecutionRole-20221206T163436\n",
      "model_artifact_s3_uri: s3://sm-nemo-bucket/nemo-asr/training/model-output/nemo-asr-nemo-experiments-0320-09481679305686/output/model.tar.gz\n",
      "inf_image_uri: 419974056037.dkr.ecr.ap-northeast-2.amazonaws.com/nemo-test-training:latest\n",
      "code_location: s3://sm-nemo-bucket/nemo-asr/inference/backup_codes\n",
      "monitor_output: s3://sm-nemo-bucket/nemo-asr/inference/monitor_output\n"
     ]
    }
   ],
   "source": [
    "local_mode = False\n",
    "\n",
    "if local_mode: \n",
    "    inference_instance_type = 'local_gpu'\n",
    "    \n",
    "    import os\n",
    "    from sagemaker.local import LocalSession\n",
    "    \n",
    "    sagemaker_session = LocalSession()\n",
    "    sagemaker_session.config = {'local': {'local_code': True}}\n",
    "    \n",
    "else:\n",
    "    inference_instance_type = \"ml.g4dn.xlarge\"\n",
    "    sagemaker_session = sagemaker.Session()\n",
    "    \n",
    "\n",
    "\n",
    "sagemaker_role_arn = pm.get_params(key=prefix + '-SAGEMAKER-ROLE-ARN')    \n",
    "bucket_name = pm.get_params(key=prefix + '-BUCKET')\n",
    "model_artifact_s3_uri = pm.get_params(key=prefix + '-MODEL-PATH')\n",
    "inf_image_uri = pm.get_params(key=''.join([prefix, '-INF-IMAGE-URI']))\n",
    "#inf_image_uri = pm.get_params(key=''.join([prefix, '-IMAGE-URI']))\n",
    "\n",
    "code_location= os.path.join(\n",
    "    \"s3://{}\".format(bucket_name),\n",
    "    prefix,\n",
    "    \"inference\",\n",
    "    \"backup_codes\"\n",
    ")\n",
    "\n",
    "monitor_output= os.path.join(\n",
    "    \"s3://{}\".format(bucket_name),\n",
    "    prefix,\n",
    "    \"inference\",\n",
    "    \"monitor_output\"\n",
    ")\n",
    "\n",
    "print (f\"sagemaker_role_arn: {sagemaker_role_arn}\")\n",
    "print (f\"model_artifact_s3_uri: {model_artifact_s3_uri}\")\n",
    "print (f\"inf_image_uri: {inf_image_uri}\")\n",
    "print (f\"code_location: {code_location}\")\n",
    "print (f\"monitor_output: {monitor_output}\")"
   ]
  },
  {
   "cell_type": "markdown",
   "id": "5b1d1a28-03f1-4f00-ad79-5786b15b0d46",
   "metadata": {},
   "source": [
    "* Define inference job"
   ]
  },
  {
   "cell_type": "code",
   "execution_count": 11,
   "id": "f81731ba-391a-411e-b30b-56b3d4cabf61",
   "metadata": {
    "tags": []
   },
   "outputs": [],
   "source": [
    "model = PyTorchModel(\n",
    "    entry_point='predictor.py',\n",
    "    source_dir=os.getcwd() + '/code',\n",
    "    code_location=code_location,\n",
    "    model_data=model_artifact_s3_uri,\n",
    "    role=sagemaker_role_arn,\n",
    "    image_uri=inf_image_uri,\n",
    "    # framework_version=\"1.13.1\",\n",
    "    # py_version=\"py39\",\n",
    "    sagemaker_session=sagemaker_session\n",
    ")"
   ]
  },
  {
   "cell_type": "code",
   "execution_count": 12,
   "id": "c247203f-3b94-420c-b5ce-32b1180dcef4",
   "metadata": {
    "tags": []
   },
   "outputs": [],
   "source": [
    "if local_mode: \n",
    "    data_capture_config = None\n",
    "else:\n",
    "    from sagemaker.model_monitor import DataCaptureConfig\n",
    "\n",
    "    data_capture_config = DataCaptureConfig(\n",
    "        enable_capture=True,\n",
    "        sampling_percentage=100,\n",
    "        destination_s3_uri=monitor_output\n",
    "    )"
   ]
  },
  {
   "cell_type": "code",
   "execution_count": null,
   "id": "432f4184-41c9-4104-8cb5-af5ea8581b80",
   "metadata": {
    "tags": []
   },
   "outputs": [
    {
     "name": "stderr",
     "output_type": "stream",
     "text": [
      "INFO:botocore.credentials:Found credentials from IAM Role: BaseNotebookInstanceEc2InstanceRole\n",
      "INFO:botocore.credentials:Found credentials from IAM Role: BaseNotebookInstanceEc2InstanceRole\n",
      "INFO:sagemaker:Creating model with name: nemo-test-training-2023-03-21-02-11-23-416\n",
      "INFO:sagemaker:Creating endpoint-config with name nemo-asr-nemo-experiments-0321-02101679364642\n",
      "INFO:sagemaker:Creating endpoint with name nemo-asr-nemo-experiments-0321-02101679364642\n"
     ]
    },
    {
     "name": "stdout",
     "output_type": "stream",
     "text": [
      "----------"
     ]
    }
   ],
   "source": [
    "experiment_name = pm.get_params(key=prefix + \"-EXPERI-NAME\")\n",
    "create_experiment(experiment_name)\n",
    "job_name = create_trial(experiment_name)\n",
    "\n",
    "\n",
    "predictor = model.deploy(\n",
    "    initial_instance_count=1,\n",
    "    instance_type=inference_instance_type,\n",
    "    data_capture_config=data_capture_config,\n",
    "    endpoint_name=job_name,\n",
    "    experiment_config={\n",
    "      'TrialName': job_name,\n",
    "      'TrialComponentDisplayName': job_name,\n",
    "    }\n",
    ")"
   ]
  },
  {
   "cell_type": "code",
   "execution_count": null,
   "id": "f08dc1ac-c16c-4027-9491-8da955da6ce8",
   "metadata": {
    "tags": []
   },
   "outputs": [],
   "source": [
    "paths2audio_files = f\"{os.getcwd()}/data/preprocessing/an4/wav/an4test_clstk/fcaw/an406-fcaw-b.wav\"\n",
    "paths2audio_files"
   ]
  },
  {
   "cell_type": "code",
   "execution_count": null,
   "id": "4370ee72-1a13-4113-8108-4734df24d8f5",
   "metadata": {
    "tags": []
   },
   "outputs": [],
   "source": [
    "import librosa\n",
    "import IPython.display as ipd\n",
    "\n",
    "# Load and listen to the audio file\n",
    "audio, sample_rate = librosa.load(paths2audio_files)\n",
    "\n",
    "ipd.Audio(paths2audio_files, rate=sample_rate)"
   ]
  },
  {
   "cell_type": "code",
   "execution_count": null,
   "id": "dc7cd411-6a9b-452d-a3d4-f7ac7a0bd012",
   "metadata": {},
   "outputs": [],
   "source": [
    "from sagemaker.serializers import DataSerializer\n",
    "predictor.serializer = DataSerializer()"
   ]
  },
  {
   "cell_type": "code",
   "execution_count": null,
   "id": "0a8ae843-6a89-4695-ba38-c34e740c59ed",
   "metadata": {},
   "outputs": [],
   "source": [
    "predictor.predict(paths2audio_files)"
   ]
  },
  {
   "cell_type": "code",
   "execution_count": null,
   "id": "9bd9b399-42ca-4eee-883b-e53be8ad833e",
   "metadata": {
    "tags": []
   },
   "outputs": [],
   "source": [
    "pm.put_params(key=\"-\".join([prefix, \"ENDPOINT-NAME\"]), value=job_name, overwrite=True)\n",
    "pm.put_params(key=\"-\".join([prefix, \"MONITOR-OUTPUT\"]), value=monitor_output, overwrite=True)"
   ]
  },
  {
   "cell_type": "code",
   "execution_count": null,
   "id": "4052e4e4-00c5-4f89-8f0c-a6d584e024ab",
   "metadata": {},
   "outputs": [],
   "source": [
    "# predictor.delete_endpoint()"
   ]
  }
 ],
 "metadata": {
  "kernelspec": {
   "display_name": "conda_pytorch_p39",
   "language": "python",
   "name": "conda_pytorch_p39"
  },
  "language_info": {
   "codemirror_mode": {
    "name": "ipython",
    "version": 3
   },
   "file_extension": ".py",
   "mimetype": "text/x-python",
   "name": "python",
   "nbconvert_exporter": "python",
   "pygments_lexer": "ipython3",
   "version": "3.9.15"
  }
 },
 "nbformat": 4,
 "nbformat_minor": 5
}
