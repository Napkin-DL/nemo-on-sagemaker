{
 "cells": [
  {
   "cell_type": "markdown",
   "id": "cb60aea8-54a9-4cf8-9cff-5f9b2043036b",
   "metadata": {},
   "source": [
    "# <B> Preprocessing </B>\n",
    "* Container: codna_pytorch_py39"
   ]
  },
  {
   "cell_type": "markdown",
   "id": "6dc511d5-62aa-404b-9fbd-0f1a59446926",
   "metadata": {},
   "source": [
    "## AutoReload"
   ]
  },
  {
   "cell_type": "code",
   "execution_count": null,
   "id": "51b06f10-985d-4077-b729-e484c814f6b0",
   "metadata": {
    "tags": []
   },
   "outputs": [],
   "source": [
    "%load_ext autoreload\n",
    "%autoreload 2"
   ]
  },
  {
   "cell_type": "code",
   "execution_count": null,
   "id": "0ba446e0-448f-4e07-9d5a-225c16bde8cb",
   "metadata": {
    "tags": []
   },
   "outputs": [],
   "source": [
    "import boto3"
   ]
  },
  {
   "cell_type": "markdown",
   "id": "82fcf66a-7690-4ee7-bc5c-ecab6d254e84",
   "metadata": {},
   "source": [
    "## 1. Processing-job for preprocessing"
   ]
  },
  {
   "cell_type": "code",
   "execution_count": null,
   "id": "31244e49-1ef6-44b0-aa9a-8c279e3e9093",
   "metadata": {
    "tags": []
   },
   "outputs": [],
   "source": [
    "import os\n",
    "import wget\n",
    "import sagemaker\n",
    "from sagemaker.pytorch.estimator import PyTorch\n",
    "from sagemaker.workflow.execution_variables import ExecutionVariables\n",
    "from sagemaker.processing import ProcessingInput, ProcessingOutput, FrameworkProcessor"
   ]
  },
  {
   "cell_type": "markdown",
   "id": "8d163960-9894-465c-ae15-78e94a590630",
   "metadata": {},
   "source": [
    "## 2. parameter store 설정"
   ]
  },
  {
   "cell_type": "code",
   "execution_count": null,
   "id": "831caf05-28f8-4dab-b96c-9b8574e064cf",
   "metadata": {
    "tags": []
   },
   "outputs": [],
   "source": [
    "from utils.ssm import parameter_store\n",
    "strRegionName=boto3.Session().region_name\n",
    "pm = parameter_store(strRegionName)\n",
    "prefix = pm.get_params(key=\"PREFIX\")"
   ]
  },
  {
   "cell_type": "markdown",
   "id": "fef44376-e6ac-43c2-b9e4-e18adb65a2ec",
   "metadata": {},
   "source": [
    "* params for processing job"
   ]
  },
  {
   "cell_type": "code",
   "execution_count": null,
   "id": "4e5789a5-57b6-4a7e-81bc-188e23c28b06",
   "metadata": {
    "tags": []
   },
   "outputs": [],
   "source": [
    "local_mode = True\n",
    "\n",
    "if local_mode: \n",
    "    instance_type = 'local'\n",
    "    \n",
    "    import os\n",
    "    from sagemaker.local import LocalSession\n",
    "    \n",
    "    sagemaker_session = LocalSession()\n",
    "    data_path = os.path.join(os.getcwd(), \"data\")\n",
    "    \n",
    "else:\n",
    "    instance_type = \"ml.m5.xlarge\" ## \"ml.g4dn.xlarge\"\n",
    "    sagemaker_session = sagemaker.Session()\n",
    "    data_path = pm.get_params(key=prefix + '-S3-DATA-PATH')\n",
    "    \n",
    "print (f\"instance-type: {instance_type}\")\n",
    "print (f\"image-uri: {pm.get_params(key=''.join([prefix, '-IMAGE-URI']))}\")\n",
    "print (f\"role: {pm.get_params(key=prefix + '-SAGEMAKER-ROLE-ARN')}\")\n",
    "print (f\"bucket: {pm.get_params(key=prefix + '-BUCKET')}\")\n",
    "print (f\"dataset-path: {data_path}\")\n",
    "print (f\"sagemaker_session: {sagemaker_session}\")"
   ]
  },
  {
   "cell_type": "markdown",
   "id": "5b1d1a28-03f1-4f00-ad79-5786b15b0d46",
   "metadata": {},
   "source": [
    "* Define processing job"
   ]
  },
  {
   "cell_type": "code",
   "execution_count": null,
   "id": "f75ec691-0a7c-450f-9c6f-dfa75f44d22c",
   "metadata": {
    "tags": []
   },
   "outputs": [],
   "source": [
    "dataset_processor = FrameworkProcessor(\n",
    "    estimator_cls=PyTorch,\n",
    "    framework_version=None,\n",
    "    image_uri=pm.get_params(key=''.join([prefix, \"-IMAGE-URI\"])),\n",
    "    instance_type=instance_type,\n",
    "    instance_count=1,\n",
    "    role=pm.get_params(key=prefix + \"-SAGEMAKER-ROLE-ARN\"),\n",
    "    base_job_name=\"preprocessing\", # bucket에 보이는 이름 (pipeline으로 묶으면 pipeline에서 정의한 이름으로 bucket에 보임)\n",
    "    sagemaker_session=sagemaker_session\n",
    ")\n",
    "\n",
    "proc_prefix = \"/opt/ml/processing\"\n",
    "\n",
    "output_path = os.path.join(\n",
    "    \"s3://{}\".format(pm.get_params(key=prefix + \"-BUCKET\")),\n",
    "    prefix,\n",
    "    \"preprocessing\",\n",
    "    \"data\"\n",
    ")"
   ]
  },
  {
   "cell_type": "code",
   "execution_count": null,
   "id": "c1406d98-45eb-4adf-87ca-730d5b74b853",
   "metadata": {
    "tags": []
   },
   "outputs": [],
   "source": [
    "output_path"
   ]
  },
  {
   "cell_type": "code",
   "execution_count": null,
   "id": "8cfa4f86-9bb8-47cb-8ca5-e318c0470836",
   "metadata": {
    "tags": []
   },
   "outputs": [],
   "source": [
    "dataset_processor.run(\n",
    "    #job_name=\"preprocessing\", ## 이걸 넣어야 캐시가 작동함, 안그러면 프로세서의 base_job_name 이름뒤에 날짜 시간이 붙어서 캐시 동작 안함\n",
    "    code='preprocessing.py', #소스 디렉토리 안에서 파일 path\n",
    "    source_dir=os.getcwd() + \"/code\", #현재 파일에서 소스 디렉토리 상대경로 # add processing.py and requirements.txt here\n",
    "    inputs=[\n",
    "        ProcessingInput(\n",
    "            input_name=\"input-data\",\n",
    "            source=data_path,\n",
    "            destination=os.path.join(proc_prefix, \"input\")\n",
    "        ),\n",
    "    ],\n",
    "    outputs=[       \n",
    "        ProcessingOutput(\n",
    "            output_name=\"output-data\",\n",
    "            source=os.path.join(proc_prefix, \"output\"),\n",
    "            destination=output_path\n",
    "        ),\n",
    "    ],\n",
    "    arguments=[\"--proc_prefix\", proc_prefix, \\\n",
    "               \"--train_mount_dir\", \"/opt/ml/input/data/training/\", \\\n",
    "               \"--test_mount_dir\", \"/opt/ml/input/data/testing/\"],\n",
    ")"
   ]
  },
  {
   "cell_type": "code",
   "execution_count": null,
   "id": "2b39af55-7e48-4730-aa54-01350c162084",
   "metadata": {
    "tags": []
   },
   "outputs": [],
   "source": [
    "!aws s3 sync $output_path ./data/preprocessing --quiet\n",
    "output_path"
   ]
  },
  {
   "cell_type": "markdown",
   "id": "d86fd8d5-b842-47a1-aa76-fa3043557afc",
   "metadata": {},
   "source": [
    "## 3. parameter store에 Processing output 추가"
   ]
  },
  {
   "cell_type": "code",
   "execution_count": null,
   "id": "e3328b4c-e16d-4042-aa81-d2ac611b8efe",
   "metadata": {
    "tags": []
   },
   "outputs": [],
   "source": [
    "pm.put_params(key=\"-\".join([prefix, \"PREP-DATA-PATH\"]), value=output_path, overwrite=True)"
   ]
  },
  {
   "cell_type": "code",
   "execution_count": null,
   "id": "bd3268c2-50c1-4462-bb3c-f149a17886fc",
   "metadata": {},
   "outputs": [],
   "source": []
  }
 ],
 "metadata": {
  "kernelspec": {
   "display_name": "conda_pytorch_p39",
   "language": "python",
   "name": "conda_pytorch_p39"
  },
  "language_info": {
   "codemirror_mode": {
    "name": "ipython",
    "version": 3
   },
   "file_extension": ".py",
   "mimetype": "text/x-python",
   "name": "python",
   "nbconvert_exporter": "python",
   "pygments_lexer": "ipython3",
   "version": "3.9.15"
  }
 },
 "nbformat": 4,
 "nbformat_minor": 5
}
