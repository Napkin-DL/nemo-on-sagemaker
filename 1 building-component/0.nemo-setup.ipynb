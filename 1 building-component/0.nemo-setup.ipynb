{
 "cells": [
  {
   "cell_type": "markdown",
   "id": "8f3dd71b-f63a-4106-b323-67be004b482e",
   "metadata": {},
   "source": [
    "# <B> Setup for Nvidai NeMo with SageMaker </B>\n",
    "* Container: codna_python3"
   ]
  },
  {
   "cell_type": "markdown",
   "id": "aaeaff49-a119-4a0c-b48a-f66ab721c458",
   "metadata": {},
   "source": [
    "## AutoReload"
   ]
  },
  {
   "cell_type": "code",
   "execution_count": 147,
   "id": "9f8f8f99-aaa0-42f9-8695-c8bd1884504c",
   "metadata": {
    "tags": []
   },
   "outputs": [
    {
     "name": "stdout",
     "output_type": "stream",
     "text": [
      "The autoreload extension is already loaded. To reload it, use:\n",
      "  %reload_ext autoreload\n"
     ]
    }
   ],
   "source": [
    "%load_ext autoreload\n",
    "%autoreload 2"
   ]
  },
  {
   "cell_type": "markdown",
   "id": "78872034-4b66-45e4-983f-726a94459873",
   "metadata": {
    "tags": []
   },
   "source": [
    "## 0. Install packages"
   ]
  },
  {
   "cell_type": "code",
   "execution_count": null,
   "id": "ee290bd6-1b9b-44d5-8746-14412ea3ca96",
   "metadata": {
    "tags": []
   },
   "outputs": [],
   "source": [
    "install_needed = True  # should only be True once\n",
    "# install_needed = False"
   ]
  },
  {
   "cell_type": "code",
   "execution_count": null,
   "id": "6594574f-22e6-4237-a573-5598e0246727",
   "metadata": {
    "tags": []
   },
   "outputs": [],
   "source": [
    "%%bash\n",
    "#!/bin/bash\n",
    "\n",
    "DAEMON_PATH=\"/etc/docker\"\n",
    "MEMORY_SIZE=10G\n",
    "\n",
    "FLAG=$(cat $DAEMON_PATH/daemon.json | jq 'has(\"data-root\")')\n",
    "# echo $FLAG\n",
    "\n",
    "if [ \"$FLAG\" == true ]; then\n",
    "    echo \"Already revised\"\n",
    "else\n",
    "    echo \"Add data-root and default-shm-size=$MEMORY_SIZE\"\n",
    "    sudo cp $DAEMON_PATH/daemon.json $DAEMON_PATH/daemon.json.bak\n",
    "    sudo cat $DAEMON_PATH/daemon.json.bak | jq '. += {\"data-root\":\"/home/ec2-user/SageMaker/.container/docker\",\"default-shm-size\":\"'$MEMORY_SIZE'\"}' | sudo tee $DAEMON_PATH/daemon.json > /dev/null\n",
    "    sudo service docker restart\n",
    "    echo \"Docker Restart\"\n",
    "fi"
   ]
  },
  {
   "cell_type": "code",
   "execution_count": null,
   "id": "f21840e5-9ecf-4e9c-9736-d2174cd413e2",
   "metadata": {
    "tags": []
   },
   "outputs": [],
   "source": [
    "import sys\n",
    "import IPython\n",
    "\n",
    "if install_needed:\n",
    "    print(\"installing deps and restarting kernel\")\n",
    "    !{sys.executable} -m pip install -U pip\n",
    "    !{sys.executable} -m pip install -U smdebug sagemaker-experiments\n",
    "    !{sys.executable} -m pip install -U sagemaker\n",
    "    !{sys.executable} -m pip install -U datasets transformers\n",
    "    !{sys.executable} -m pip install -U wget omegaconf text-unidecode sox\n",
    "    \n",
    "    ## Install NeMo\n",
    "    !sudo yum install sox -y\n",
    "    !sudo yum install libsndfile\n",
    "    !pip install --upgrade --force-reinstall llvmlite\n",
    "    BRANCH = 'main'\n",
    "    !{sys.executable} -m pip install git+https://github.com/NVIDIA/NeMo.git@$BRANCH#egg=nemo_toolkit[all]\n",
    "    \n",
    "    IPython.Application.instance().kernel.do_shutdown(True)"
   ]
  },
  {
   "cell_type": "markdown",
   "id": "9d235cc4-356c-43e0-99ca-fea913797c99",
   "metadata": {
    "tags": []
   },
   "source": [
    "## 1. Set roles"
   ]
  },
  {
   "cell_type": "code",
   "execution_count": 132,
   "id": "1f3a2019-2337-4b48-9bd8-f577ac13daed",
   "metadata": {
    "tags": []
   },
   "outputs": [],
   "source": [
    "from sagemaker import get_execution_role"
   ]
  },
  {
   "cell_type": "code",
   "execution_count": 133,
   "id": "3be71d18-b4b7-4196-abf1-1922f3013c4e",
   "metadata": {
    "tags": []
   },
   "outputs": [
    {
     "name": "stdout",
     "output_type": "stream",
     "text": [
      "SageMaker Execution Role Name: AmazonSageMaker-ExecutionRole-20221206T163436\n"
     ]
    }
   ],
   "source": [
    "strSageMakerRoleName = get_execution_role().rsplit('/', 1)[-1]\n",
    "print (f\"SageMaker Execution Role Name: {strSageMakerRoleName}\")"
   ]
  },
  {
   "cell_type": "markdown",
   "id": "8acda191-5a24-4904-b637-92e9bfd580e2",
   "metadata": {
    "tags": []
   },
   "source": [
    "## 1.1 Attach IAM polich to sagemaker execution role (<b>with console</b>)\n",
    "> **EC2ContainerRegistry**: \"arn:aws:iam::aws:policy/AmazonEC2ContainerRegistryFullAccess\" <BR>\n",
    "> **S3**: \"arn:aws:iam::aws:policy/AmazonS3FullAccess\""
   ]
  },
  {
   "cell_type": "markdown",
   "id": "87fe7a4b-03e1-4422-8bd5-62d30e0a419f",
   "metadata": {},
   "source": [
    "## 2. Set default parameters"
   ]
  },
  {
   "cell_type": "code",
   "execution_count": 134,
   "id": "e5e8ad58-6a1e-41b4-88e5-aec263ef935e",
   "metadata": {
    "tags": []
   },
   "outputs": [],
   "source": [
    "import boto3\n",
    "import sagemaker"
   ]
  },
  {
   "cell_type": "markdown",
   "id": "92d651c6-93ad-463b-905a-d9978bd748a7",
   "metadata": {},
   "source": [
    "### Bucket / Prefix 설정"
   ]
  },
  {
   "cell_type": "code",
   "execution_count": 135,
   "id": "659a6734-542a-4f79-b4bb-726408709308",
   "metadata": {
    "tags": []
   },
   "outputs": [],
   "source": [
    "strRegionName = boto3.Session().region_name\n",
    "strAccountId = boto3.client(\"sts\").get_caller_identity().get(\"Account\")\n",
    "bucket_name = 'sm-nemo-bucket' # <-- 사용할 bucket 명을 추가해 주세요. ex) sagemaker-us-east-1-123456789123, sm-nemo-bucket\n",
    "prefix = 'nemo-asr' ## <-- 작업할 prefix 명을 추가해 주세요. ex) nemo-test, nemo-asr"
   ]
  },
  {
   "cell_type": "markdown",
   "id": "c82a79d6-71b2-48fb-8c80-41a9549b36c5",
   "metadata": {},
   "source": [
    "## 3. Create training custom docker image"
   ]
  },
  {
   "cell_type": "markdown",
   "id": "84b2409b-8c8f-420f-bf7d-0ca95880b92f",
   "metadata": {},
   "source": [
    "* docker build"
   ]
  },
  {
   "cell_type": "code",
   "execution_count": 170,
   "id": "e2c97bbe-918a-454e-a444-0a03bc5c48b1",
   "metadata": {
    "tags": []
   },
   "outputs": [
    {
     "name": "stdout",
     "output_type": "stream",
     "text": [
      "\u001b[37m## docker build -f Dockerfile -t 322537213286.dkr.ecr.us-west-2.amazonaws.com/pytorch-training:1.13.1-gpu-py39-nemo-main .\u001b[39;49;00m\u001b[37m\u001b[39;49;00m\n",
      "\u001b[37m\u001b[39;49;00m\n",
      "\u001b[34mFROM\u001b[39;49;00m\u001b[37m \u001b[39;49;00m\u001b[33m763104351884.dkr.ecr.us-west-2.amazonaws.com/pytorch-training:1.13.1-gpu-py39\u001b[39;49;00m\u001b[37m\u001b[39;49;00m\n",
      "\u001b[37m\u001b[39;49;00m\n",
      "\u001b[34mRUN\u001b[39;49;00m\u001b[37m \u001b[39;49;00mapt\u001b[37m \u001b[39;49;00m-y\u001b[37m \u001b[39;49;00mupdate\u001b[37m \u001b[39;49;00m&&\u001b[37m \u001b[39;49;00mapt\u001b[37m \u001b[39;49;00m-y\u001b[37m \u001b[39;49;00minstall\u001b[37m \u001b[39;49;00msox\u001b[37m\u001b[39;49;00m\n",
      "\u001b[34mRUN\u001b[39;49;00m\u001b[37m \u001b[39;49;00mapt-get\u001b[37m \u001b[39;49;00m-y\u001b[37m \u001b[39;49;00minstall\u001b[37m \u001b[39;49;00mlibsox-fmt-all\u001b[37m\u001b[39;49;00m\n",
      "\u001b[37m\u001b[39;49;00m\n",
      "\u001b[34mRUN\u001b[39;49;00m\u001b[37m \u001b[39;49;00mpip\u001b[37m \u001b[39;49;00minstall\u001b[37m \u001b[39;49;00m--no-cache-dir\u001b[37m \u001b[39;49;00m--upgrade\u001b[37m \u001b[39;49;00mpip\u001b[37m \u001b[39;49;00m\u001b[33m\\\u001b[39;49;00m\n",
      "\u001b[37m \u001b[39;49;00m&&\u001b[37m \u001b[39;49;00mpip\u001b[37m \u001b[39;49;00minstall\u001b[37m \u001b[39;49;00m--no-cache-dir\u001b[37m \u001b[39;49;00m-U\u001b[37m \u001b[39;49;00momegaconf\u001b[37m \u001b[39;49;00mhydra-core\u001b[37m \u001b[39;49;00mlibrosa\u001b[37m \u001b[39;49;00msentencepiece\u001b[37m \u001b[39;49;00myoutokentome\u001b[37m \u001b[39;49;00minflect\u001b[37m \u001b[39;49;00msox\u001b[37m \u001b[39;49;00m\u001b[33m\\\u001b[39;49;00m\n",
      "\u001b[37m \u001b[39;49;00m&&\u001b[37m \u001b[39;49;00mpip\u001b[37m \u001b[39;49;00minstall\u001b[37m \u001b[39;49;00m--no-cache-dir\u001b[37m \u001b[39;49;00m-U\u001b[37m \u001b[39;49;00mbraceexpand\u001b[37m \u001b[39;49;00mwebdataset\u001b[37m \u001b[39;49;00meditdistance\u001b[37m \u001b[39;49;00mjiwer\u001b[37m \u001b[39;49;00mjsonlines\u001b[37m \u001b[39;49;00m\u001b[33m\\\u001b[39;49;00m\n",
      "\u001b[37m \u001b[39;49;00m&&\u001b[37m \u001b[39;49;00mpip\u001b[37m \u001b[39;49;00minstall\u001b[37m \u001b[39;49;00m--no-cache-dir\u001b[37m \u001b[39;49;00m-U\u001b[37m \u001b[39;49;00mpytorch-lightning\u001b[37m \u001b[39;49;00m\u001b[33m\\ \u001b[39;49;00m\u001b[37m\u001b[39;49;00m\n",
      "\u001b[37m \u001b[39;49;00m&&\u001b[37m \u001b[39;49;00mpip\u001b[37m \u001b[39;49;00minstall\u001b[37m \u001b[39;49;00m--no-cache-dir\u001b[37m \u001b[39;49;00m-U\u001b[37m \u001b[39;49;00mhttps://github.com/pyannote/pyannote-audio/archive/develop.zip\u001b[37m \u001b[39;49;00m\u001b[33m\\ \u001b[39;49;00m\u001b[37m\u001b[39;49;00m\n",
      "\u001b[37m \u001b[39;49;00m&&\u001b[37m \u001b[39;49;00mpip\u001b[37m \u001b[39;49;00minstall\u001b[37m \u001b[39;49;00m--no-cache-dir\u001b[37m \u001b[39;49;00mgit+https://github.com/huggingface/transformers\u001b[37m \u001b[39;49;00m\u001b[33m\\ \u001b[39;49;00m\u001b[37m\u001b[39;49;00m\n",
      "\u001b[37m \u001b[39;49;00m&&\u001b[37m \u001b[39;49;00mpip\u001b[37m \u001b[39;49;00minstall\u001b[37m \u001b[39;49;00m--no-cache-dir\u001b[37m \u001b[39;49;00mgit+https://github.com/NVIDIA/NeMo.git@main\u001b[37m\u001b[39;49;00m\n",
      "\u001b[37m \u001b[39;49;00m\u001b[37m\u001b[39;49;00m\n",
      "\u001b[34mWORKDIR\u001b[39;49;00m\u001b[37m \u001b[39;49;00m\u001b[33m/\u001b[39;49;00m\u001b[37m\u001b[39;49;00m\n"
     ]
    }
   ],
   "source": [
    "!pygmentize custom-docker/Dockerfile"
   ]
  },
  {
   "cell_type": "markdown",
   "id": "9816ab13-8047-4f06-9fdc-97999a974bd1",
   "metadata": {},
   "source": [
    "* Base 이미지의 region, account-id 확인 후 아래 파라미터 입력"
   ]
  },
  {
   "cell_type": "markdown",
   "id": "c8a73b5e-1775-41f2-bf79-174cebab1778",
   "metadata": {},
   "source": [
    "### 1) AWS CLI 를 이용한 방식"
   ]
  },
  {
   "cell_type": "code",
   "execution_count": null,
   "id": "eb1c8b5e-f0d6-4194-a8aa-6328b68c1280",
   "metadata": {
    "tags": []
   },
   "outputs": [],
   "source": [
    "%%bash\n",
    "strRepositoryName=\"nemo-test-training\"  ## <-- 원하는 docker repostory 이름을 추가\n",
    "strDockerDir=\"./custom-docker/\"\n",
    "strTag=\"latest\"\n",
    "\n",
    "cd ${strDockerDir}\n",
    "echo $(pwd)\n",
    "container_name=${strRepositoryName}\n",
    "\n",
    "account=$(aws sts get-caller-identity --query Account --output text)\n",
    "\n",
    "# Get the region defined in the current configuration (default to us-west-2 if none defined)\n",
    "region=$(aws configure get region)\n",
    "# region=${region:-us-west-2}\n",
    "\n",
    "fullname=\"${account}.dkr.ecr.${region}.amazonaws.com/${container_name}:${strTag}\"\n",
    "\n",
    "# If the repository doesn't exist in ECR, create it.\n",
    "aws ecr describe-repositories --repository-names \"${container_name}\" > /dev/null 2>&1\n",
    "if [ $? -ne 0 ]\n",
    "then\n",
    "    aws ecr create-repository --repository-name \"${container_name}\" > /dev/null\n",
    "fi\n",
    "\n",
    "# # Get the login command from ECR and execute it directly\n",
    "# $(aws ecr get-login-password --region us-west-2 | docker login --username AWS --password-stdin \"763104351884.dkr.ecr.us-west-2.amazonaws.com\")\n",
    "\n",
    "# Build the docker image locally with the image name and then push it to ECR\n",
    "# with the full name.\n",
    "docker build -f Dockerfile -t ${fullname} .\n",
    "# docker tag ${container_name} ${fullname}\n",
    "\n",
    "# Get the login command from ECR and execute it directly\n",
    "$(aws ecr get-login --region ${region} --no-include-email)\n",
    "docker push ${fullname}\n",
    "echo ${fullname}"
   ]
  },
  {
   "cell_type": "code",
   "execution_count": 116,
   "id": "0a80bf77-8063-476d-b54c-8ddf82f88994",
   "metadata": {
    "tags": []
   },
   "outputs": [],
   "source": [
    "#strEcrRepositoryUri = ' '#' '  ## <-- 생성된 ECR의 URI를 넣어주세요.. ex) 123456789123.dkr.ecr.us-west-2.amazonaws.com/nemo-test:latest\n",
    "strEcrRepositoryUri = '419974056037.dkr.ecr.ap-northeast-2.amazonaws.com/nemo-test-training'#' '  ## <-- 생성된 ECR의 URI를 넣어주세요.. ex) 123456789123.dkr.ecr.us-west-2.amazonaws.com/nemo-test:latest"
   ]
  },
  {
   "cell_type": "markdown",
   "id": "f59e141b-07af-421e-a05d-bc6991dce9df",
   "metadata": {
    "tags": []
   },
   "source": [
    "### 2) AWS BOTO3 SDK를 이용한 방식"
   ]
  },
  {
   "cell_type": "code",
   "execution_count": 171,
   "id": "6bf0f03e-a0fe-44af-ac74-c9a67fd1bbc0",
   "metadata": {
    "tags": []
   },
   "outputs": [],
   "source": [
    "from utils.ecr import ecr_handler\n",
    "ecr = ecr_handler()"
   ]
  },
  {
   "cell_type": "code",
   "execution_count": 172,
   "id": "1c68ef98-9669-4ea8-8e39-7717d0ffa831",
   "metadata": {
    "tags": []
   },
   "outputs": [],
   "source": [
    "strRepositoryName=\"nemo-test-training\"  ## <-- 원하는 docker repostory 이름을 추가\n",
    "strRepositoryName = strRepositoryName.lower()\n",
    "strDockerDir = \"./custom-docker/\"\n",
    "strDockerFile = \"Dockerfile\"\n",
    "strTag = \"latest\""
   ]
  },
  {
   "cell_type": "code",
   "execution_count": 173,
   "id": "a4bf0924-52d8-457c-9edb-aff333850c1a",
   "metadata": {
    "tags": []
   },
   "outputs": [
    {
     "name": "stdout",
     "output_type": "stream",
     "text": [
      "/home/ec2-user/SageMaker/nemo-on-sagemaker/1 building-component\n",
      "/home/ec2-user/SageMaker/nemo-on-sagemaker/1 building-component/custom-docker\n",
      "strDockerFile Dockerfile\n",
      "aws ecr get-login --region 'us-west-2' --registry-ids '763104351884' --no-include-email\n"
     ]
    },
    {
     "name": "stderr",
     "output_type": "stream",
     "text": [
      "WARNING! Using --password via the CLI is insecure. Use --password-stdin.\n",
      "WARNING! Your password will be stored unencrypted in /home/ec2-user/.docker/config.json.\n",
      "Configure a credential helper to remove this warning. See\n",
      "https://docs.docker.com/engine/reference/commandline/login/#credentials-store\n",
      "\n"
     ]
    },
    {
     "name": "stdout",
     "output_type": "stream",
     "text": [
      "Login Succeeded\n",
      "\n",
      "Sending build context to Docker daemon   16.9kB\n",
      "\n",
      "Step 1/5 : FROM 763104351884.dkr.ecr.us-west-2.amazonaws.com/pytorch-training:1.13.1-gpu-py39\n",
      " ---> f0cd3f7ded0e\n",
      "Step 2/5 : RUN apt -y update && apt -y install sox\n",
      " ---> Using cache\n",
      " ---> 03ea9e49dca9\n",
      "Step 3/5 : RUN apt-get -y install libsox-fmt-all\n",
      " ---> Using cache\n",
      " ---> e10716b824bd\n",
      "Step 4/5 : RUN pip install --no-cache-dir --upgrade pip  && pip install --no-cache-dir -U omegaconf hydra-core librosa sentencepiece youtokentome inflect sox  && pip install --no-cache-dir -U braceexpand webdataset editdistance jiwer jsonlines  && pip install --no-cache-dir -U pytorch-lightning  && pip install --no-cache-dir -U https://github.com/pyannote/pyannote-audio/archive/develop.zip  && pip install --no-cache-dir git+https://github.com/huggingface/transformers  && pip install --no-cache-dir git+https://github.com/NVIDIA/NeMo.git@main\n",
      " ---> Running in 97f5cfb3262b\n",
      "Requirement already satisfied: pip in /opt/conda/lib/python3.9/site-packages (23.0)\n",
      "Collecting pip\n",
      "  Downloading pip-23.0.1-py3-none-any.whl (2.1 MB)\n",
      "     ━━━━━━━━━━━━━━━━━━━━━━━━━━━━━━━━━━━━━━━━ 2.1/2.1 MB 29.7 MB/s eta 0:00:00\n",
      "Installing collected packages: pip\n",
      "  Attempting uninstall: pip\n",
      "    Found existing installation: pip 23.0\n",
      "    Uninstalling pip-23.0:\n",
      "      Successfully uninstalled pip-23.0\n",
      "Successfully installed pip-23.0.1\n",
      "\u001b[91mWARNING: Running pip as the 'root' user can result in broken permissions and conflicting behaviour with the system package manager. It is recommended to use a virtual environment instead: https://pip.pypa.io/warnings/venv\n",
      "\u001b[0mCollecting omegaconf\n",
      "  Downloading omegaconf-2.3.0-py3-none-any.whl (79 kB)\n",
      "     ━━━━━━━━━━━━━━━━━━━━━━━━━━━━━━━━━━━━━━━━ 79.5/79.5 kB 6.7 MB/s eta 0:00:00\n",
      "Collecting hydra-core\n",
      "  Downloading hydra_core-1.3.2-py3-none-any.whl (154 kB)\n",
      "     ━━━━━━━━━━━━━━━━━━━━━━━━━━━━━━━━━━━━━━ 154.5/154.5 kB 25.2 MB/s eta 0:00:00\n",
      "Collecting librosa\n",
      "  Downloading librosa-0.10.0.post2-py3-none-any.whl (253 kB)\n",
      "     ━━━━━━━━━━━━━━━━━━━━━━━━━━━━━━━━━━━━━━ 253.0/253.0 kB 33.3 MB/s eta 0:00:00\n",
      "Collecting sentencepiece\n",
      "  Downloading sentencepiece-0.1.97-cp39-cp39-manylinux_2_17_x86_64.manylinux2014_x86_64.whl (1.3 MB)\n",
      "     ━━━━━━━━━━━━━━━━━━━━━━━━━━━━━━━━━━━━━━━━ 1.3/1.3 MB 40.6 MB/s eta 0:00:00\n",
      "Collecting youtokentome\n",
      "  Downloading youtokentome-1.0.6.tar.gz (86 kB)\n",
      "     ━━━━━━━━━━━━━━━━━━━━━━━━━━━━━━━━━━━━━━━ 86.7/86.7 kB 239.5 MB/s eta 0:00:00\n",
      "  Preparing metadata (setup.py): started\n",
      "  Preparing metadata (setup.py): finished with status 'done'\n",
      "Collecting inflect\n",
      "  Downloading inflect-6.0.2-py3-none-any.whl (34 kB)\n",
      "Collecting sox\n",
      "  Downloading sox-1.4.1-py2.py3-none-any.whl (39 kB)\n",
      "Requirement already satisfied: PyYAML>=5.1.0 in /opt/conda/lib/python3.9/site-packages (from omegaconf) (5.4.1)\n",
      "Collecting antlr4-python3-runtime==4.9.*\n",
      "  Downloading antlr4-python3-runtime-4.9.3.tar.gz (117 kB)\n",
      "     ━━━━━━━━━━━━━━━━━━━━━━━━━━━━━━━━━━━━━ 117.0/117.0 kB 265.2 MB/s eta 0:00:00\n",
      "  Preparing metadata (setup.py): started\n",
      "  Preparing metadata (setup.py): finished with status 'done'\n",
      "Requirement already satisfied: packaging in /opt/conda/lib/python3.9/site-packages (from hydra-core) (23.0)\n",
      "Requirement already satisfied: scikit-learn>=0.20.0 in /opt/conda/lib/python3.9/site-packages (from librosa) (1.2.1)\n",
      "Requirement already satisfied: joblib>=0.14 in /opt/conda/lib/python3.9/site-packages (from librosa) (1.2.0)\n",
      "Requirement already satisfied: typing-extensions>=4.1.1 in /opt/conda/lib/python3.9/site-packages (from librosa) (4.4.0)\n",
      "Collecting soundfile>=0.12.1\n",
      "  Downloading soundfile-0.12.1-py2.py3-none-manylinux_2_31_x86_64.whl (1.2 MB)\n",
      "     ━━━━━━━━━━━━━━━━━━━━━━━━━━━━━━━━━━━━━━━━ 1.2/1.2 MB 61.4 MB/s eta 0:00:00\n",
      "Collecting lazy-loader>=0.1\n",
      "  Downloading lazy_loader-0.1-py3-none-any.whl (8.6 kB)\n",
      "Requirement already satisfied: pooch<1.7,>=1.0 in /opt/conda/lib/python3.9/site-packages (from librosa) (1.6.0)\n",
      "Requirement already satisfied: numba>=0.51.0 in /opt/conda/lib/python3.9/site-packages (from librosa) (0.56.4)\n",
      "Collecting audioread>=2.1.9\n",
      "  Downloading audioread-3.0.0.tar.gz (377 kB)\n",
      "     ━━━━━━━━━━━━━━━━━━━━━━━━━━━━━━━━━━━━━━ 377.0/377.0 kB 70.3 MB/s eta 0:00:00\n",
      "  Preparing metadata (setup.py): started\n",
      "  Preparing metadata (setup.py): finished with status 'done'\n",
      "Collecting msgpack>=1.0\n",
      "  Downloading msgpack-1.0.5-cp39-cp39-manylinux_2_17_x86_64.manylinux2014_x86_64.whl (322 kB)\n",
      "     ━━━━━━━━━━━━━━━━━━━━━━━━━━━━━━━━━━━━━━ 322.3/322.3 kB 96.4 MB/s eta 0:00:00\n",
      "Requirement already satisfied: scipy>=1.2.0 in /opt/conda/lib/python3.9/site-packages (from librosa) (1.10.0)\n",
      "Requirement already satisfied: decorator>=4.3.0 in /opt/conda/lib/python3.9/site-packages (from librosa) (5.1.1)\n",
      "Requirement already satisfied: numpy!=1.22.0,!=1.22.1,!=1.22.2,>=1.20.3 in /opt/conda/lib/python3.9/site-packages (from librosa) (1.23.5)\n",
      "Collecting soxr>=0.3.2\n",
      "  Downloading soxr-0.3.4-cp39-cp39-manylinux_2_17_x86_64.manylinux2014_x86_64.whl (1.2 MB)\n",
      "     ━━━━━━━━━━━━━━━━━━━━━━━━━━━━━━━━━━━━━━━━ 1.2/1.2 MB 93.2 MB/s eta 0:00:00\n",
      "Requirement already satisfied: Click>=7.0 in /opt/conda/lib/python3.9/site-packages (from youtokentome) (8.1.2)\n",
      "Requirement already satisfied: pydantic>=1.9.1 in /opt/conda/lib/python3.9/site-packages (from inflect) (1.10.4)\n",
      "Requirement already satisfied: setuptools in /opt/conda/lib/python3.9/site-packages (from numba>=0.51.0->librosa) (65.6.3)\n",
      "Requirement already satisfied: llvmlite<0.40,>=0.39.0dev0 in /opt/conda/lib/python3.9/site-packages (from numba>=0.51.0->librosa) (0.39.1)\n",
      "Requirement already satisfied: appdirs>=1.3.0 in /opt/conda/lib/python3.9/site-packages (from pooch<1.7,>=1.0->librosa) (1.4.4)\n",
      "Requirement already satisfied: requests>=2.19.0 in /opt/conda/lib/python3.9/site-packages (from pooch<1.7,>=1.0->librosa) (2.28.2)\n",
      "Requirement already satisfied: threadpoolctl>=2.0.0 in /opt/conda/lib/python3.9/site-packages (from scikit-learn>=0.20.0->librosa) (3.1.0)\n",
      "Requirement already satisfied: cffi>=1.0 in /opt/conda/lib/python3.9/site-packages (from soundfile>=0.12.1->librosa) (1.15.1)\n",
      "Requirement already satisfied: pycparser in /opt/conda/lib/python3.9/site-packages (from cffi>=1.0->soundfile>=0.12.1->librosa) (2.21)\n",
      "Requirement already satisfied: certifi>=2017.4.17 in /opt/conda/lib/python3.9/site-packages (from requests>=2.19.0->pooch<1.7,>=1.0->librosa) (2022.12.7)\n",
      "Requirement already satisfied: charset-normalizer<4,>=2 in /opt/conda/lib/python3.9/site-packages (from requests>=2.19.0->pooch<1.7,>=1.0->librosa) (2.1.1)\n",
      "Requirement already satisfied: idna<4,>=2.5 in /opt/conda/lib/python3.9/site-packages (from requests>=2.19.0->pooch<1.7,>=1.0->librosa) (3.4)\n",
      "Requirement already satisfied: urllib3<1.27,>=1.21.1 in /opt/conda/lib/python3.9/site-packages (from requests>=2.19.0->pooch<1.7,>=1.0->librosa) (1.26.14)\n",
      "Building wheels for collected packages: antlr4-python3-runtime, youtokentome, audioread\n",
      "  Building wheel for antlr4-python3-runtime (setup.py): started\n",
      "  Building wheel for antlr4-python3-runtime (setup.py): finished with status 'done'\n",
      "  Created wheel for antlr4-python3-runtime: filename=antlr4_python3_runtime-4.9.3-py3-none-any.whl size=144554 sha256=63944f0d8d5b45c859dd317cda61200f7e67c6709dd8a4e91d70047ba35f1c14\n",
      "  Stored in directory: /tmp/pip-ephem-wheel-cache-y8rl3cve/wheels/23/cf/80/f3efa822e6ab23277902ee9165fe772eeb1dfb8014f359020a\n",
      "  Building wheel for youtokentome (setup.py): started\n",
      "  Building wheel for youtokentome (setup.py): finished with status 'done'\n",
      "  Created wheel for youtokentome: filename=youtokentome-1.0.6-cp39-cp39-linux_x86_64.whl size=177271 sha256=e0e27c56a942b5ae2d187238668b87a7608913edd1533ed2d6af36ef107baa6d\n",
      "  Stored in directory: /tmp/pip-ephem-wheel-cache-y8rl3cve/wheels/89/99/eb/b72f9c470f14438147d8aa1ff91f9f5191b5e5d825c4b0a12c\n",
      "  Building wheel for audioread (setup.py): started\n",
      "  Building wheel for audioread (setup.py): finished with status 'done'\n",
      "  Created wheel for audioread: filename=audioread-3.0.0-py3-none-any.whl size=23704 sha256=9e343e6c4d23b9f4b9ad332d7cbee05d089722ecee1916b57736d7de223dcecc\n",
      "  Stored in directory: /tmp/pip-ephem-wheel-cache-y8rl3cve/wheels/e4/76/a4/cfb55573167a1f5bde7d7a348e95e509c64b2c3e8f921932c3\n",
      "Successfully built antlr4-python3-runtime youtokentome audioread\n",
      "Installing collected packages: sentencepiece, msgpack, antlr4-python3-runtime, youtokentome, soxr, sox, omegaconf, lazy-loader, audioread, soundfile, inflect, hydra-core, librosa\n",
      "Successfully installed antlr4-python3-runtime-4.9.3 audioread-3.0.0 hydra-core-1.3.2 inflect-6.0.2 lazy-loader-0.1 librosa-0.10.0.post2 msgpack-1.0.5 omegaconf-2.3.0 sentencepiece-0.1.97 soundfile-0.12.1 sox-1.4.1 soxr-0.3.4 youtokentome-1.0.6\n",
      "\u001b[91mWARNING: Running pip as the 'root' user can result in broken permissions and conflicting behaviour with the system package manager. It is recommended to use a virtual environment instead: https://pip.pypa.io/warnings/venv\n",
      "\u001b[0mCollecting braceexpand\n",
      "  Downloading braceexpand-0.1.7-py2.py3-none-any.whl (5.9 kB)\n",
      "Collecting webdataset\n",
      "  Downloading webdataset-0.2.48-py3-none-any.whl (51 kB)\n",
      "     ━━━━━━━━━━━━━━━━━━━━━━━━━━━━━━━━━━━━━━━━ 51.9/51.9 kB 5.3 MB/s eta 0:00:00\n",
      "Collecting editdistance\n",
      "  Downloading editdistance-0.6.2-cp39-cp39-manylinux_2_17_x86_64.manylinux2014_x86_64.whl (282 kB)\n",
      "     ━━━━━━━━━━━━━━━━━━━━━━━━━━━━━━━━━━━━━━ 282.4/282.4 kB 23.2 MB/s eta 0:00:00\n",
      "Collecting jiwer\n",
      "  Downloading jiwer-3.0.0-py3-none-any.whl (21 kB)\n",
      "Collecting jsonlines\n",
      "  Downloading jsonlines-3.1.0-py3-none-any.whl (8.6 kB)\n",
      "Requirement already satisfied: pyyaml in /opt/conda/lib/python3.9/site-packages (from webdataset) (5.4.1)\n",
      "Requirement already satisfied: numpy in /opt/conda/lib/python3.9/site-packages (from webdataset) (1.23.5)\n",
      "Collecting click<9.0.0,>=8.1.3\n",
      "  Downloading click-8.1.3-py3-none-any.whl (96 kB)\n",
      "     ━━━━━━━━━━━━━━━━━━━━━━━━━━━━━━━━━━━━━━━━ 96.6/96.6 kB 30.7 MB/s eta 0:00:00\n",
      "Collecting rapidfuzz==2.13.7\n",
      "  Downloading rapidfuzz-2.13.7-cp39-cp39-manylinux_2_17_x86_64.manylinux2014_x86_64.whl (2.2 MB)\n",
      "     ━━━━━━━━━━━━━━━━━━━━━━━━━━━━━━━━━━━━━━━━ 2.2/2.2 MB 43.1 MB/s eta 0:00:00\n",
      "Requirement already satisfied: attrs>=19.2.0 in /opt/conda/lib/python3.9/site-packages (from jsonlines) (22.2.0)\n",
      "Installing collected packages: braceexpand, webdataset, rapidfuzz, jsonlines, editdistance, click, jiwer\n",
      "  Attempting uninstall: click\n",
      "    Found existing installation: click 8.1.2\n",
      "    Uninstalling click-8.1.2:\n",
      "      Successfully uninstalled click-8.1.2\n",
      "Successfully installed braceexpand-0.1.7 click-8.1.3 editdistance-0.6.2 jiwer-3.0.0 jsonlines-3.1.0 rapidfuzz-2.13.7 webdataset-0.2.48\n",
      "\u001b[91mWARNING: Running pip as the 'root' user can result in broken permissions and conflicting behaviour with the system package manager. It is recommended to use a virtual environment instead: https://pip.pypa.io/warnings/venv\n",
      "\u001b[0mCollecting pytorch-lightning\n",
      "  Downloading pytorch_lightning-2.0.0-py3-none-any.whl (715 kB)\n",
      "     ━━━━━━━━━━━━━━━━━━━━━━━━━━━━━━━━━━━━━━ 715.6/715.6 kB 33.2 MB/s eta 0:00:00\n",
      "Requirement already satisfied: typing-extensions>=4.0.0 in /opt/conda/lib/python3.9/site-packages (from pytorch-lightning) (4.4.0)\n",
      "Requirement already satisfied: fsspec[http]>2021.06.0 in /opt/conda/lib/python3.9/site-packages (from pytorch-lightning) (2023.1.0)\n",
      "Requirement already satisfied: tqdm>=4.57.0 in /opt/conda/lib/python3.9/site-packages (from pytorch-lightning) (4.64.1)\n",
      "Requirement already satisfied: PyYAML>=5.4 in /opt/conda/lib/python3.9/site-packages (from pytorch-lightning) (5.4.1)\n",
      "Requirement already satisfied: packaging>=17.1 in /opt/conda/lib/python3.9/site-packages (from pytorch-lightning) (23.0)\n",
      "Requirement already satisfied: torch>=1.11.0 in /opt/conda/lib/python3.9/site-packages (from pytorch-lightning) (1.13.1+cu117)\n",
      "Collecting lightning-utilities>=0.7.0\n",
      "  Downloading lightning_utilities-0.8.0-py3-none-any.whl (20 kB)\n",
      "Collecting torchmetrics>=0.7.0\n",
      "  Downloading torchmetrics-0.11.4-py3-none-any.whl (519 kB)\n",
      "     ━━━━━━━━━━━━━━━━━━━━━━━━━━━━━━━━━━━━━ 519.2/519.2 kB 252.0 MB/s eta 0:00:00\n",
      "Requirement already satisfied: numpy>=1.17.2 in /opt/conda/lib/python3.9/site-packages (from pytorch-lightning) (1.23.5)\n",
      "Requirement already satisfied: requests in /opt/conda/lib/python3.9/site-packages (from fsspec[http]>2021.06.0->pytorch-lightning) (2.28.2)\n",
      "Collecting aiohttp!=4.0.0a0,!=4.0.0a1\n",
      "  Downloading aiohttp-3.8.4-cp39-cp39-manylinux_2_17_x86_64.manylinux2014_x86_64.whl (1.0 MB)\n",
      "     ━━━━━━━━━━━━━━━━━━━━━━━━━━━━━━━━━━━━━━━━ 1.0/1.0 MB 169.8 MB/s eta 0:00:00\n",
      "Requirement already satisfied: charset-normalizer<4.0,>=2.0 in /opt/conda/lib/python3.9/site-packages (from aiohttp!=4.0.0a0,!=4.0.0a1->fsspec[http]>2021.06.0->pytorch-lightning) (2.1.1)\n",
      "Collecting aiosignal>=1.1.2\n",
      "  Downloading aiosignal-1.3.1-py3-none-any.whl (7.6 kB)\n",
      "Collecting yarl<2.0,>=1.0\n",
      "  Downloading yarl-1.8.2-cp39-cp39-manylinux_2_17_x86_64.manylinux2014_x86_64.whl (264 kB)\n",
      "     ━━━━━━━━━━━━━━━━━━━━━━━━━━━━━━━━━━━━━ 264.6/264.6 kB 284.7 MB/s eta 0:00:00\n",
      "Collecting async-timeout<5.0,>=4.0.0a3\n",
      "  Downloading async_timeout-4.0.2-py3-none-any.whl (5.8 kB)\n",
      "Collecting multidict<7.0,>=4.5\n",
      "  Downloading multidict-6.0.4-cp39-cp39-manylinux_2_17_x86_64.manylinux2014_x86_64.whl (114 kB)\n",
      "     ━━━━━━━━━━━━━━━━━━━━━━━━━━━━━━━━━━━━━ 114.2/114.2 kB 257.4 MB/s eta 0:00:00\n",
      "Requirement already satisfied: attrs>=17.3.0 in /opt/conda/lib/python3.9/site-packages (from aiohttp!=4.0.0a0,!=4.0.0a1->fsspec[http]>2021.06.0->pytorch-lightning) (22.2.0)\n",
      "Collecting frozenlist>=1.1.1\n",
      "  Downloading frozenlist-1.3.3-cp39-cp39-manylinux_2_5_x86_64.manylinux1_x86_64.manylinux_2_17_x86_64.manylinux2014_x86_64.whl (158 kB)\n",
      "     ━━━━━━━━━━━━━━━━━━━━━━━━━━━━━━━━━━━━━ 158.8/158.8 kB 268.9 MB/s eta 0:00:00\n",
      "Requirement already satisfied: certifi>=2017.4.17 in /opt/conda/lib/python3.9/site-packages (from requests->fsspec[http]>2021.06.0->pytorch-lightning) (2022.12.7)\n",
      "Requirement already satisfied: urllib3<1.27,>=1.21.1 in /opt/conda/lib/python3.9/site-packages (from requests->fsspec[http]>2021.06.0->pytorch-lightning) (1.26.14)\n",
      "Requirement already satisfied: idna<4,>=2.5 in /opt/conda/lib/python3.9/site-packages (from requests->fsspec[http]>2021.06.0->pytorch-lightning) (3.4)\n",
      "Installing collected packages: multidict, lightning-utilities, frozenlist, async-timeout, yarl, torchmetrics, aiosignal, aiohttp, pytorch-lightning\n",
      "Successfully installed aiohttp-3.8.4 aiosignal-1.3.1 async-timeout-4.0.2 frozenlist-1.3.3 lightning-utilities-0.8.0 multidict-6.0.4 pytorch-lightning-2.0.0 torchmetrics-0.11.4 yarl-1.8.2\n",
      "\u001b[91mWARNING: Running pip as the 'root' user can result in broken permissions and conflicting behaviour with the system package manager. It is recommended to use a virtual environment instead: https://pip.pypa.io/warnings/venv\n",
      "\u001b[0mCollecting https://github.com/pyannote/pyannote-audio/archive/develop.zip\n",
      "  Downloading https://github.com/pyannote/pyannote-audio/archive/develop.zip\n",
      "     | 15.9 MB 5.2 MB/s 0:00:04\n",
      "  Preparing metadata (setup.py): started\n",
      "  Preparing metadata (setup.py): finished with status 'done'\n",
      "Collecting asteroid-filterbanks<0.5,>=0.4\n",
      "  Downloading asteroid_filterbanks-0.4.0-py3-none-any.whl (29 kB)\n",
      "Collecting backports.cached_property\n",
      "  Downloading backports.cached_property-1.0.2-py3-none-any.whl (6.1 kB)\n",
      "Collecting einops<0.4.0,>=0.3\n",
      "  Downloading einops-0.3.2-py3-none-any.whl (25 kB)\n",
      "Collecting hmmlearn<0.3,>=0.2.7\n",
      "  Downloading hmmlearn-0.2.8-cp39-cp39-manylinux_2_5_x86_64.manylinux1_x86_64.whl (217 kB)\n",
      "     ━━━━━━━━━━━━━━━━━━━━━━━━━━━━━━━━━━━━━━ 217.2/217.2 kB 32.5 MB/s eta 0:00:00\n",
      "Collecting huggingface_hub>=0.8.1\n",
      "  Downloading huggingface_hub-0.13.3-py3-none-any.whl (199 kB)\n",
      "     ━━━━━━━━━━━━━━━━━━━━━━━━━━━━━━━━━━━━━ 199.8/199.8 kB 282.7 MB/s eta 0:00:00\n",
      "Collecting networkx<3.0,>=2.6\n",
      "  Downloading networkx-2.8.8-py3-none-any.whl (2.0 MB)\n",
      "     ━━━━━━━━━━━━━━━━━━━━━━━━━━━━━━━━━━━━━━━━ 2.0/2.0 MB 219.9 MB/s eta 0:00:00\n",
      "Requirement already satisfied: omegaconf<3.0,>=2.1 in /opt/conda/lib/python3.9/site-packages (from pyannote.audio==2.1.1) (2.3.0)\n",
      "Collecting pyannote.core<5.0,>=4.4\n",
      "  Downloading pyannote.core-4.5-py3-none-any.whl (60 kB)\n",
      "     ━━━━━━━━━━━━━━━━━━━━━━━━━━━━━━━━━━━━━━━ 60.5/60.5 kB 236.2 MB/s eta 0:00:00\n",
      "Collecting pyannote.database<5.0,>=4.1.1\n",
      "  Downloading pyannote.database-4.1.3-py3-none-any.whl (41 kB)\n",
      "     ━━━━━━━━━━━━━━━━━━━━━━━━━━━━━━━━━━━━━━━ 41.6/41.6 kB 194.1 MB/s eta 0:00:00\n",
      "Collecting pyannote.metrics<4.0,>=3.2\n",
      "  Downloading pyannote.metrics-3.2.1-py3-none-any.whl (51 kB)\n",
      "     ━━━━━━━━━━━━━━━━━━━━━━━━━━━━━━━━━━━━━━━ 51.4/51.4 kB 209.4 MB/s eta 0:00:00\n",
      "Collecting pyannote.pipeline<3.0,>=2.3\n",
      "  Downloading pyannote.pipeline-2.3-py3-none-any.whl (30 kB)\n",
      "Collecting pytorch_lightning<1.9,>=1.8.0\n",
      "  Downloading pytorch_lightning-1.8.6-py3-none-any.whl (800 kB)\n",
      "     ━━━━━━━━━━━━━━━━━━━━━━━━━━━━━━━━━━━━━ 800.3/800.3 kB 303.6 MB/s eta 0:00:00\n",
      "Collecting pytorch_metric_learning<2.0,>=1.0.0\n",
      "  Downloading pytorch_metric_learning-1.7.3-py3-none-any.whl (112 kB)\n",
      "     ━━━━━━━━━━━━━━━━━━━━━━━━━━━━━━━━━━━━━ 112.2/112.2 kB 274.9 MB/s eta 0:00:00\n",
      "Requirement already satisfied: rich>=12.0.0 in /opt/conda/lib/python3.9/site-packages (from pyannote.audio==2.1.1) (12.6.0)\n",
      "Collecting semver<3.0,>=2.10.2\n",
      "  Downloading semver-2.13.0-py2.py3-none-any.whl (12 kB)\n",
      "Collecting singledispatchmethod\n",
      "  Downloading singledispatchmethod-1.0-py2.py3-none-any.whl (4.7 kB)\n",
      "Collecting soundfile<0.12,>=0.10.2\n",
      "  Downloading soundfile-0.11.0-py2.py3-none-any.whl (23 kB)\n",
      "Collecting speechbrain<0.6,>=0.5.12\n",
      "  Downloading speechbrain-0.5.13-py3-none-any.whl (498 kB)\n",
      "     ━━━━━━━━━━━━━━━━━━━━━━━━━━━━━━━━━━━━━ 499.0/499.0 kB 305.9 MB/s eta 0:00:00\n",
      "Requirement already satisfied: torch>=1.9 in /opt/conda/lib/python3.9/site-packages (from pyannote.audio==2.1.1) (1.13.1+cu117)\n",
      "Collecting torch_audiomentations>=0.11.0\n",
      "  Downloading torch_audiomentations-0.11.0-py3-none-any.whl (47 kB)\n",
      "     ━━━━━━━━━━━━━━━━━━━━━━━━━━━━━━━━━━━━━━━ 47.9/47.9 kB 215.7 MB/s eta 0:00:00\n",
      "Requirement already satisfied: torchaudio<1.0,>=0.10 in /opt/conda/lib/python3.9/site-packages (from pyannote.audio==2.1.1) (0.13.1+cu117)\n",
      "Requirement already satisfied: torchmetrics<1.0,>=0.11 in /opt/conda/lib/python3.9/site-packages (from pyannote.audio==2.1.1) (0.11.4)\n",
      "Requirement already satisfied: typing_extensions in /opt/conda/lib/python3.9/site-packages (from pyannote.audio==2.1.1) (4.4.0)\n",
      "Requirement already satisfied: numpy in /opt/conda/lib/python3.9/site-packages (from asteroid-filterbanks<0.5,>=0.4->pyannote.audio==2.1.1) (1.23.5)\n",
      "Requirement already satisfied: scikit-learn>=0.16 in /opt/conda/lib/python3.9/site-packages (from hmmlearn<0.3,>=0.2.7->pyannote.audio==2.1.1) (1.2.1)\n",
      "Requirement already satisfied: scipy>=0.19 in /opt/conda/lib/python3.9/site-packages (from hmmlearn<0.3,>=0.2.7->pyannote.audio==2.1.1) (1.10.0)\n",
      "Requirement already satisfied: requests in /opt/conda/lib/python3.9/site-packages (from huggingface_hub>=0.8.1->pyannote.audio==2.1.1) (2.28.2)\n",
      "Requirement already satisfied: packaging>=20.9 in /opt/conda/lib/python3.9/site-packages (from huggingface_hub>=0.8.1->pyannote.audio==2.1.1) (23.0)\n",
      "Collecting filelock\n",
      "  Downloading filelock-3.10.0-py3-none-any.whl (9.9 kB)\n",
      "Requirement already satisfied: tqdm>=4.42.1 in /opt/conda/lib/python3.9/site-packages (from huggingface_hub>=0.8.1->pyannote.audio==2.1.1) (4.64.1)\n",
      "Requirement already satisfied: pyyaml>=5.1 in /opt/conda/lib/python3.9/site-packages (from huggingface_hub>=0.8.1->pyannote.audio==2.1.1) (5.4.1)\n",
      "Requirement already satisfied: antlr4-python3-runtime==4.9.* in /opt/conda/lib/python3.9/site-packages (from omegaconf<3.0,>=2.1->pyannote.audio==2.1.1) (4.9.3)\n",
      "Collecting sortedcontainers>=2.0.4\n",
      "  Downloading sortedcontainers-2.4.0-py2.py3-none-any.whl (29 kB)\n",
      "Collecting simplejson>=3.8.1\n",
      "  Downloading simplejson-3.18.4-cp39-cp39-manylinux_2_5_x86_64.manylinux1_x86_64.manylinux_2_17_x86_64.manylinux2014_x86_64.whl (136 kB)\n",
      "     ━━━━━━━━━━━━━━━━━━━━━━━━━━━━━━━━━━━━━ 136.8/136.8 kB 274.3 MB/s eta 0:00:00\n",
      "Requirement already satisfied: pandas>=0.19 in /opt/conda/lib/python3.9/site-packages (from pyannote.database<5.0,>=4.1.1->pyannote.audio==2.1.1) (1.5.3)\n",
      "Requirement already satisfied: typer[all]>=0.2.1 in /opt/conda/lib/python3.9/site-packages (from pyannote.database<5.0,>=4.1.1->pyannote.audio==2.1.1) (0.7.0)\n",
      "Requirement already satisfied: matplotlib>=2.0.0 in /opt/conda/lib/python3.9/site-packages (from pyannote.metrics<4.0,>=3.2->pyannote.audio==2.1.1) (3.6.3)\n",
      "Collecting sympy>=1.1\n",
      "  Downloading sympy-1.11.1-py3-none-any.whl (6.5 MB)\n",
      "     ━━━━━━━━━━━━━━━━━━━━━━━━━━━━━━━━━━━━━━━━ 6.5/6.5 MB 296.9 MB/s eta 0:00:00\n",
      "Collecting docopt>=0.6.2\n",
      "  Downloading docopt-0.6.2.tar.gz (25 kB)\n",
      "  Preparing metadata (setup.py): started\n",
      "  Preparing metadata (setup.py): finished with status 'done'\n",
      "Requirement already satisfied: tabulate>=0.7.7 in /opt/conda/lib/python3.9/site-packages (from pyannote.metrics<4.0,>=3.2->pyannote.audio==2.1.1) (0.9.0)\n",
      "Collecting optuna>=1.4\n",
      "  Downloading optuna-3.1.0-py3-none-any.whl (365 kB)\n",
      "     ━━━━━━━━━━━━━━━━━━━━━━━━━━━━━━━━━━━━━ 365.3/365.3 kB 292.2 MB/s eta 0:00:00\n",
      "Requirement already satisfied: lightning-utilities!=0.4.0,>=0.3.0 in /opt/conda/lib/python3.9/site-packages (from pytorch_lightning<1.9,>=1.8.0->pyannote.audio==2.1.1) (0.8.0)\n",
      "Requirement already satisfied: fsspec[http]>2021.06.0 in /opt/conda/lib/python3.9/site-packages (from pytorch_lightning<1.9,>=1.8.0->pyannote.audio==2.1.1) (2023.1.0)\n",
      "Collecting tensorboardX>=2.2\n",
      "  Downloading tensorboardX-2.6-py2.py3-none-any.whl (114 kB)\n",
      "     ━━━━━━━━━━━━━━━━━━━━━━━━━━━━━━━━━━━━━ 114.5/114.5 kB 276.4 MB/s eta 0:00:00\n",
      "Requirement already satisfied: commonmark<0.10.0,>=0.9.0 in /opt/conda/lib/python3.9/site-packages (from rich>=12.0.0->pyannote.audio==2.1.1) (0.9.1)\n",
      "Requirement already satisfied: pygments<3.0.0,>=2.6.0 in /opt/conda/lib/python3.9/site-packages (from rich>=12.0.0->pyannote.audio==2.1.1) (2.14.0)\n",
      "Requirement already satisfied: cffi>=1.0 in /opt/conda/lib/python3.9/site-packages (from soundfile<0.12,>=0.10.2->pyannote.audio==2.1.1) (1.15.1)\n",
      "Requirement already satisfied: joblib in /opt/conda/lib/python3.9/site-packages (from speechbrain<0.6,>=0.5.12->pyannote.audio==2.1.1) (1.2.0)\n",
      "Collecting hyperpyyaml\n",
      "  Downloading HyperPyYAML-1.1.0-py3-none-any.whl (15 kB)\n",
      "Requirement already satisfied: sentencepiece in /opt/conda/lib/python3.9/site-packages (from speechbrain<0.6,>=0.5.12->pyannote.audio==2.1.1) (0.1.97)\n",
      "Collecting julius<0.3,>=0.2.3\n",
      "  Downloading julius-0.2.7.tar.gz (59 kB)\n",
      "     ━━━━━━━━━━━━━━━━━━━━━━━━━━━━━━━━━━━━━━━ 59.6/59.6 kB 237.1 MB/s eta 0:00:00\n",
      "  Preparing metadata (setup.py): started\n",
      "  Preparing metadata (setup.py): finished with status 'done'\n",
      "Requirement already satisfied: librosa>=0.6.0 in /opt/conda/lib/python3.9/site-packages (from torch_audiomentations>=0.11.0->pyannote.audio==2.1.1) (0.10.0.post2)\n",
      "Collecting torch-pitch-shift>=1.2.2\n",
      "  Downloading torch_pitch_shift-1.2.2-py3-none-any.whl (5.0 kB)\n",
      "Requirement already satisfied: pycparser in /opt/conda/lib/python3.9/site-packages (from cffi>=1.0->soundfile<0.12,>=0.10.2->pyannote.audio==2.1.1) (2.21)\n",
      "Requirement already satisfied: aiohttp!=4.0.0a0,!=4.0.0a1 in /opt/conda/lib/python3.9/site-packages (from fsspec[http]>2021.06.0->pytorch_lightning<1.9,>=1.8.0->pyannote.audio==2.1.1) (3.8.4)\n",
      "Requirement already satisfied: decorator>=4.3.0 in /opt/conda/lib/python3.9/site-packages (from librosa>=0.6.0->torch_audiomentations>=0.11.0->pyannote.audio==2.1.1) (5.1.1)\n",
      "Requirement already satisfied: msgpack>=1.0 in /opt/conda/lib/python3.9/site-packages (from librosa>=0.6.0->torch_audiomentations>=0.11.0->pyannote.audio==2.1.1) (1.0.5)\n",
      "Requirement already satisfied: soxr>=0.3.2 in /opt/conda/lib/python3.9/site-packages (from librosa>=0.6.0->torch_audiomentations>=0.11.0->pyannote.audio==2.1.1) (0.3.4)\n",
      "Requirement already satisfied: lazy-loader>=0.1 in /opt/conda/lib/python3.9/site-packages (from librosa>=0.6.0->torch_audiomentations>=0.11.0->pyannote.audio==2.1.1) (0.1)\n",
      "Collecting librosa>=0.6.0\n",
      "  Downloading librosa-0.10.0.post1-py3-none-any.whl (252 kB)\n",
      "     ━━━━━━━━━━━━━━━━━━━━━━━━━━━━━━━━━━━━━ 253.0/253.0 kB 296.6 MB/s eta 0:00:00\n",
      "Requirement already satisfied: pooch>=1.0 in /opt/conda/lib/python3.9/site-packages (from librosa>=0.6.0->torch_audiomentations>=0.11.0->pyannote.audio==2.1.1) (1.6.0)\n",
      "  Downloading librosa-0.10.0-py3-none-any.whl (252 kB)\n",
      "     ━━━━━━━━━━━━━━━━━━━━━━━━━━━━━━━━━━━━━ 252.9/252.9 kB 291.9 MB/s eta 0:00:00\n",
      "  Downloading librosa-0.9.2-py3-none-any.whl (214 kB)\n",
      "     ━━━━━━━━━━━━━━━━━━━━━━━━━━━━━━━━━━━━━ 214.3/214.3 kB 283.1 MB/s eta 0:00:00\n",
      "Collecting resampy>=0.2.2\n",
      "  Downloading resampy-0.4.2-py3-none-any.whl (3.1 MB)\n",
      "     ━━━━━━━━━━━━━━━━━━━━━━━━━━━━━━━━━━━━━━━━ 3.1/3.1 MB 300.9 MB/s eta 0:00:00\n",
      "Requirement already satisfied: numba>=0.45.1 in /opt/conda/lib/python3.9/site-packages (from librosa>=0.6.0->torch_audiomentations>=0.11.0->pyannote.audio==2.1.1) (0.56.4)\n",
      "Requirement already satisfied: audioread>=2.1.9 in /opt/conda/lib/python3.9/site-packages (from librosa>=0.6.0->torch_audiomentations>=0.11.0->pyannote.audio==2.1.1) (3.0.0)\n",
      "Requirement already satisfied: pillow>=6.2.0 in /opt/conda/lib/python3.9/site-packages (from matplotlib>=2.0.0->pyannote.metrics<4.0,>=3.2->pyannote.audio==2.1.1) (9.4.0)\n",
      "Requirement already satisfied: cycler>=0.10 in /opt/conda/lib/python3.9/site-packages (from matplotlib>=2.0.0->pyannote.metrics<4.0,>=3.2->pyannote.audio==2.1.1) (0.11.0)\n",
      "Requirement already satisfied: python-dateutil>=2.7 in /opt/conda/lib/python3.9/site-packages (from matplotlib>=2.0.0->pyannote.metrics<4.0,>=3.2->pyannote.audio==2.1.1) (2.8.2)\n",
      "Requirement already satisfied: contourpy>=1.0.1 in /opt/conda/lib/python3.9/site-packages (from matplotlib>=2.0.0->pyannote.metrics<4.0,>=3.2->pyannote.audio==2.1.1) (1.0.7)\n",
      "Requirement already satisfied: kiwisolver>=1.0.1 in /opt/conda/lib/python3.9/site-packages (from matplotlib>=2.0.0->pyannote.metrics<4.0,>=3.2->pyannote.audio==2.1.1) (1.4.4)\n",
      "Requirement already satisfied: fonttools>=4.22.0 in /opt/conda/lib/python3.9/site-packages (from matplotlib>=2.0.0->pyannote.metrics<4.0,>=3.2->pyannote.audio==2.1.1) (4.38.0)\n",
      "Requirement already satisfied: pyparsing>=2.2.1 in /opt/conda/lib/python3.9/site-packages (from matplotlib>=2.0.0->pyannote.metrics<4.0,>=3.2->pyannote.audio==2.1.1) (3.0.9)\n",
      "Collecting sqlalchemy>=1.3.0\n",
      "  Downloading SQLAlchemy-2.0.7-cp39-cp39-manylinux_2_17_x86_64.manylinux2014_x86_64.whl (2.8 MB)\n",
      "     ━━━━━━━━━━━━━━━━━━━━━━━━━━━━━━━━━━━━━━━━ 2.8/2.8 MB 305.5 MB/s eta 0:00:00\n",
      "Collecting cmaes>=0.9.1\n",
      "  Downloading cmaes-0.9.1-py3-none-any.whl (21 kB)\n",
      "Collecting alembic>=1.5.0\n",
      "  Downloading alembic-1.10.2-py3-none-any.whl (212 kB)\n",
      "     ━━━━━━━━━━━━━━━━━━━━━━━━━━━━━━━━━━━━━ 212.2/212.2 kB 301.5 MB/s eta 0:00:00\n",
      "Collecting colorlog\n",
      "  Downloading colorlog-6.7.0-py2.py3-none-any.whl (11 kB)\n",
      "Requirement already satisfied: pytz>=2020.1 in /opt/conda/lib/python3.9/site-packages (from pandas>=0.19->pyannote.database<5.0,>=4.1.1->pyannote.audio==2.1.1) (2022.7.1)\n",
      "Requirement already satisfied: threadpoolctl>=2.0.0 in /opt/conda/lib/python3.9/site-packages (from scikit-learn>=0.16->hmmlearn<0.3,>=0.2.7->pyannote.audio==2.1.1) (3.1.0)\n",
      "Collecting mpmath>=0.19\n",
      "  Downloading mpmath-1.3.0-py3-none-any.whl (536 kB)\n",
      "     ━━━━━━━━━━━━━━━━━━━━━━━━━━━━━━━━━━━━━ 536.2/536.2 kB 314.7 MB/s eta 0:00:00\n",
      "Requirement already satisfied: protobuf<4,>=3.8.0 in /opt/conda/lib/python3.9/site-packages (from tensorboardX>=2.2->pytorch_lightning<1.9,>=1.8.0->pyannote.audio==2.1.1) (3.20.2)\n",
      "Collecting primePy>=1.3\n",
      "  Downloading primePy-1.3-py3-none-any.whl (4.0 kB)\n",
      "Requirement already satisfied: click<9.0.0,>=7.1.1 in /opt/conda/lib/python3.9/site-packages (from typer[all]>=0.2.1->pyannote.database<5.0,>=4.1.1->pyannote.audio==2.1.1) (8.1.3)\n",
      "Requirement already satisfied: shellingham<2.0.0,>=1.3.0 in /opt/conda/lib/python3.9/site-packages (from typer[all]>=0.2.1->pyannote.database<5.0,>=4.1.1->pyannote.audio==2.1.1) (1.5.1)\n",
      "Requirement already satisfied: colorama<0.5.0,>=0.4.3 in /opt/conda/lib/python3.9/site-packages (from typer[all]>=0.2.1->pyannote.database<5.0,>=4.1.1->pyannote.audio==2.1.1) (0.4.4)\n",
      "Requirement already satisfied: ruamel.yaml>=0.17.8 in /opt/conda/lib/python3.9/site-packages (from hyperpyyaml->speechbrain<0.6,>=0.5.12->pyannote.audio==2.1.1) (0.17.21)\n",
      "Requirement already satisfied: certifi>=2017.4.17 in /opt/conda/lib/python3.9/site-packages (from requests->huggingface_hub>=0.8.1->pyannote.audio==2.1.1) (2022.12.7)\n",
      "Requirement already satisfied: urllib3<1.27,>=1.21.1 in /opt/conda/lib/python3.9/site-packages (from requests->huggingface_hub>=0.8.1->pyannote.audio==2.1.1) (1.26.14)\n",
      "Requirement already satisfied: idna<4,>=2.5 in /opt/conda/lib/python3.9/site-packages (from requests->huggingface_hub>=0.8.1->pyannote.audio==2.1.1) (3.4)\n",
      "Requirement already satisfied: charset-normalizer<4,>=2 in /opt/conda/lib/python3.9/site-packages (from requests->huggingface_hub>=0.8.1->pyannote.audio==2.1.1) (2.1.1)\n",
      "Requirement already satisfied: yarl<2.0,>=1.0 in /opt/conda/lib/python3.9/site-packages (from aiohttp!=4.0.0a0,!=4.0.0a1->fsspec[http]>2021.06.0->pytorch_lightning<1.9,>=1.8.0->pyannote.audio==2.1.1) (1.8.2)\n",
      "Requirement already satisfied: aiosignal>=1.1.2 in /opt/conda/lib/python3.9/site-packages (from aiohttp!=4.0.0a0,!=4.0.0a1->fsspec[http]>2021.06.0->pytorch_lightning<1.9,>=1.8.0->pyannote.audio==2.1.1) (1.3.1)\n",
      "Requirement already satisfied: async-timeout<5.0,>=4.0.0a3 in /opt/conda/lib/python3.9/site-packages (from aiohttp!=4.0.0a0,!=4.0.0a1->fsspec[http]>2021.06.0->pytorch_lightning<1.9,>=1.8.0->pyannote.audio==2.1.1) (4.0.2)\n",
      "Requirement already satisfied: multidict<7.0,>=4.5 in /opt/conda/lib/python3.9/site-packages (from aiohttp!=4.0.0a0,!=4.0.0a1->fsspec[http]>2021.06.0->pytorch_lightning<1.9,>=1.8.0->pyannote.audio==2.1.1) (6.0.4)\n",
      "Requirement already satisfied: attrs>=17.3.0 in /opt/conda/lib/python3.9/site-packages (from aiohttp!=4.0.0a0,!=4.0.0a1->fsspec[http]>2021.06.0->pytorch_lightning<1.9,>=1.8.0->pyannote.audio==2.1.1) (22.2.0)\n",
      "Requirement already satisfied: frozenlist>=1.1.1 in /opt/conda/lib/python3.9/site-packages (from aiohttp!=4.0.0a0,!=4.0.0a1->fsspec[http]>2021.06.0->pytorch_lightning<1.9,>=1.8.0->pyannote.audio==2.1.1) (1.3.3)\n",
      "Collecting Mako\n",
      "  Downloading Mako-1.2.4-py3-none-any.whl (78 kB)\n",
      "     ━━━━━━━━━━━━━━━━━━━━━━━━━━━━━━━━━━━━━━━ 78.7/78.7 kB 243.5 MB/s eta 0:00:00\n",
      "Requirement already satisfied: llvmlite<0.40,>=0.39.0dev0 in /opt/conda/lib/python3.9/site-packages (from numba>=0.45.1->librosa>=0.6.0->torch_audiomentations>=0.11.0->pyannote.audio==2.1.1) (0.39.1)\n",
      "Requirement already satisfied: setuptools in /opt/conda/lib/python3.9/site-packages (from numba>=0.45.1->librosa>=0.6.0->torch_audiomentations>=0.11.0->pyannote.audio==2.1.1) (65.6.3)\n",
      "Requirement already satisfied: appdirs>=1.3.0 in /opt/conda/lib/python3.9/site-packages (from pooch>=1.0->librosa>=0.6.0->torch_audiomentations>=0.11.0->pyannote.audio==2.1.1) (1.4.4)\n",
      "Requirement already satisfied: six>=1.5 in /opt/conda/lib/python3.9/site-packages (from python-dateutil>=2.7->matplotlib>=2.0.0->pyannote.metrics<4.0,>=3.2->pyannote.audio==2.1.1) (1.16.0)\n",
      "Requirement already satisfied: ruamel.yaml.clib>=0.2.6 in /opt/conda/lib/python3.9/site-packages (from ruamel.yaml>=0.17.8->hyperpyyaml->speechbrain<0.6,>=0.5.12->pyannote.audio==2.1.1) (0.2.7)\n",
      "Requirement already satisfied: greenlet!=0.4.17 in /opt/conda/lib/python3.9/site-packages (from sqlalchemy>=1.3.0->optuna>=1.4->pyannote.pipeline<3.0,>=2.3->pyannote.audio==2.1.1) (2.0.2)\n",
      "Requirement already satisfied: MarkupSafe>=0.9.2 in /opt/conda/lib/python3.9/site-packages (from Mako->alembic>=1.5.0->optuna>=1.4->pyannote.pipeline<3.0,>=2.3->pyannote.audio==2.1.1) (2.1.2)\n",
      "Building wheels for collected packages: pyannote.audio, docopt, julius\n",
      "  Building wheel for pyannote.audio (setup.py): started\n",
      "  Building wheel for pyannote.audio (setup.py): finished with status 'done'\n",
      "  Created wheel for pyannote.audio: filename=pyannote.audio-2.1.1-py2.py3-none-any.whl size=201727 sha256=0320ff8c7859299d8f8a42031b1fb29d2f090832e7b384d86fc6d88d9ab0f100\n",
      "  Stored in directory: /tmp/pip-ephem-wheel-cache-pa8jkl8a/wheels/b4/12/5d/7842902e8101785135583cfa115c4c0160b562bf132ea73416\n",
      "  Building wheel for docopt (setup.py): started\n",
      "  Building wheel for docopt (setup.py): finished with status 'done'\n",
      "  Created wheel for docopt: filename=docopt-0.6.2-py2.py3-none-any.whl size=13705 sha256=3a38d6f8f8347a8193c5b18a3a677ed320b91a1e285d99cb549a65976240c4da\n",
      "  Stored in directory: /tmp/pip-ephem-wheel-cache-pa8jkl8a/wheels/70/4a/46/1309fc853b8d395e60bafaf1b6df7845bdd82c95fd59dd8d2b\n",
      "  Building wheel for julius (setup.py): started\n",
      "  Building wheel for julius (setup.py): finished with status 'done'\n",
      "  Created wheel for julius: filename=julius-0.2.7-py3-none-any.whl size=21879 sha256=5f5551d805d1ff93c79746392551a22d2e0a5086fbd5aba827a9e9ea28c42b2a\n",
      "  Stored in directory: /tmp/pip-ephem-wheel-cache-pa8jkl8a/wheels/53/0a/a7/fc08f97438f4969d86afa7904336c2eb7eb422101359f3ad11\n",
      "Successfully built pyannote.audio docopt julius\n",
      "Installing collected packages: sortedcontainers, singledispatchmethod, primePy, mpmath, einops, docopt, tensorboardX, sympy, sqlalchemy, simplejson, semver, networkx, Mako, filelock, colorlog, cmaes, backports.cached_property, soundfile, resampy, pyannote.core, julius, hyperpyyaml, huggingface_hub, asteroid-filterbanks, alembic, torch-pitch-shift, speechbrain, pytorch_metric_learning, pyannote.database, optuna, librosa, hmmlearn, torch_audiomentations, pytorch_lightning, pyannote.pipeline, pyannote.metrics, pyannote.audio\n",
      "  Attempting uninstall: einops\n",
      "    Found existing installation: einops 0.6.0\n",
      "    Uninstalling einops-0.6.0:\n",
      "      Successfully uninstalled einops-0.6.0\n",
      "  Attempting uninstall: networkx\n",
      "    Found existing installation: networkx 3.0\n",
      "    Uninstalling networkx-3.0:\n",
      "      Successfully uninstalled networkx-3.0\n",
      "  Attempting uninstall: soundfile\n",
      "    Found existing installation: soundfile 0.12.1\n",
      "    Uninstalling soundfile-0.12.1:\n",
      "      Successfully uninstalled soundfile-0.12.1\n",
      "  Attempting uninstall: librosa\n",
      "    Found existing installation: librosa 0.10.0.post2\n",
      "    Uninstalling librosa-0.10.0.post2:\n",
      "      Successfully uninstalled librosa-0.10.0.post2\n",
      "  Attempting uninstall: pytorch_lightning\n",
      "    Found existing installation: pytorch-lightning 2.0.0\n",
      "    Uninstalling pytorch-lightning-2.0.0:\n",
      "      Successfully uninstalled pytorch-lightning-2.0.0\n",
      "Successfully installed Mako-1.2.4 alembic-1.10.2 asteroid-filterbanks-0.4.0 backports.cached_property-1.0.2 cmaes-0.9.1 colorlog-6.7.0 docopt-0.6.2 einops-0.3.2 filelock-3.10.0 hmmlearn-0.2.8 huggingface_hub-0.13.3 hyperpyyaml-1.1.0 julius-0.2.7 librosa-0.9.2 mpmath-1.3.0 networkx-2.8.8 optuna-3.1.0 primePy-1.3 pyannote.audio-2.1.1 pyannote.core-4.5 pyannote.database-4.1.3 pyannote.metrics-3.2.1 pyannote.pipeline-2.3 pytorch_lightning-1.8.6 pytorch_metric_learning-1.7.3 resampy-0.4.2 semver-2.13.0 simplejson-3.18.4 singledispatchmethod-1.0 sortedcontainers-2.4.0 soundfile-0.11.0 speechbrain-0.5.13 sqlalchemy-2.0.7 sympy-1.11.1 tensorboardX-2.6 torch-pitch-shift-1.2.2 torch_audiomentations-0.11.0\n",
      "\u001b[91mWARNING: Running pip as the 'root' user can result in broken permissions and conflicting behaviour with the system package manager. It is recommended to use a virtual environment instead: https://pip.pypa.io/warnings/venv\n",
      "\u001b[0mCollecting git+https://github.com/huggingface/transformers\n",
      "  Cloning https://github.com/huggingface/transformers to /tmp/pip-req-build-_o_dd4mw\n",
      "\u001b[91m  Running command git clone --filter=blob:none --quiet https://github.com/huggingface/transformers /tmp/pip-req-build-_o_dd4mw\n",
      "\u001b[0m  Resolved https://github.com/huggingface/transformers to commit c07a02a4b7892edfee22cbe57d3cdd9e10ae7a4d\n",
      "  Installing build dependencies: started\n",
      "  Installing build dependencies: finished with status 'done'\n",
      "  Getting requirements to build wheel: started\n",
      "  Getting requirements to build wheel: finished with status 'done'\n",
      "  Preparing metadata (pyproject.toml): started\n",
      "  Preparing metadata (pyproject.toml): finished with status 'done'\n",
      "Requirement already satisfied: numpy>=1.17 in /opt/conda/lib/python3.9/site-packages (from transformers==4.28.0.dev0) (1.23.5)\n",
      "Requirement already satisfied: requests in /opt/conda/lib/python3.9/site-packages (from transformers==4.28.0.dev0) (2.28.2)\n",
      "Requirement already satisfied: filelock in /opt/conda/lib/python3.9/site-packages (from transformers==4.28.0.dev0) (3.10.0)\n",
      "Collecting regex!=2019.12.17\n",
      "  Downloading regex-2022.10.31-cp39-cp39-manylinux_2_17_x86_64.manylinux2014_x86_64.whl (769 kB)\n",
      "     ━━━━━━━━━━━━━━━━━━━━━━━━━━━━━━━━━━━━━━ 770.0/770.0 kB 19.4 MB/s eta 0:00:00\n",
      "Requirement already satisfied: huggingface-hub<1.0,>=0.11.0 in /opt/conda/lib/python3.9/site-packages (from transformers==4.28.0.dev0) (0.13.3)\n",
      "Collecting tokenizers!=0.11.3,<0.14,>=0.11.1\n",
      "  Downloading tokenizers-0.13.2-cp39-cp39-manylinux_2_17_x86_64.manylinux2014_x86_64.whl (7.6 MB)\n",
      "     ━━━━━━━━━━━━━━━━━━━━━━━━━━━━━━━━━━━━━━━━ 7.6/7.6 MB 82.9 MB/s eta 0:00:00\n",
      "Requirement already satisfied: packaging>=20.0 in /opt/conda/lib/python3.9/site-packages (from transformers==4.28.0.dev0) (23.0)\n",
      "Requirement already satisfied: tqdm>=4.27 in /opt/conda/lib/python3.9/site-packages (from transformers==4.28.0.dev0) (4.64.1)\n",
      "Requirement already satisfied: pyyaml>=5.1 in /opt/conda/lib/python3.9/site-packages (from transformers==4.28.0.dev0) (5.4.1)\n",
      "Requirement already satisfied: typing-extensions>=3.7.4.3 in /opt/conda/lib/python3.9/site-packages (from huggingface-hub<1.0,>=0.11.0->transformers==4.28.0.dev0) (4.4.0)\n",
      "Requirement already satisfied: idna<4,>=2.5 in /opt/conda/lib/python3.9/site-packages (from requests->transformers==4.28.0.dev0) (3.4)\n",
      "Requirement already satisfied: charset-normalizer<4,>=2 in /opt/conda/lib/python3.9/site-packages (from requests->transformers==4.28.0.dev0) (2.1.1)\n",
      "Requirement already satisfied: certifi>=2017.4.17 in /opt/conda/lib/python3.9/site-packages (from requests->transformers==4.28.0.dev0) (2022.12.7)\n",
      "Requirement already satisfied: urllib3<1.27,>=1.21.1 in /opt/conda/lib/python3.9/site-packages (from requests->transformers==4.28.0.dev0) (1.26.14)\n",
      "Building wheels for collected packages: transformers\n",
      "  Building wheel for transformers (pyproject.toml): started\n",
      "  Building wheel for transformers (pyproject.toml): finished with status 'done'\n",
      "  Created wheel for transformers: filename=transformers-4.28.0.dev0-py3-none-any.whl size=6758569 sha256=ed88a80cc7118305039cc111afd557833ace98f11c30f27a5ee35edec81db58b\n",
      "  Stored in directory: /tmp/pip-ephem-wheel-cache-w08cb0tj/wheels/14/a0/7b/8f6b25ba4110aa215fcb8d6aedd6cd4f9b9b6619190999ac2b\n",
      "Successfully built transformers\n",
      "Installing collected packages: tokenizers, regex, transformers\n",
      "Successfully installed regex-2022.10.31 tokenizers-0.13.2 transformers-4.28.0.dev0\n",
      "\u001b[91mWARNING: Running pip as the 'root' user can result in broken permissions and conflicting behaviour with the system package manager. It is recommended to use a virtual environment instead: https://pip.pypa.io/warnings/venv\n",
      "\u001b[0mCollecting git+https://github.com/NVIDIA/NeMo.git@main\n",
      "  Cloning https://github.com/NVIDIA/NeMo.git (to revision main) to /tmp/pip-req-build-ya03pgcd\n",
      "\u001b[91m  Running command git clone --filter=blob:none --quiet https://github.com/NVIDIA/NeMo.git /tmp/pip-req-build-ya03pgcd\n",
      "\u001b[0m  Resolved https://github.com/NVIDIA/NeMo.git to commit 3791526d7554c2e8128a348f39a9eb3d4431735c\n",
      "  Installing build dependencies: started\n",
      "  Installing build dependencies: finished with status 'done'\n",
      "  Getting requirements to build wheel: started\n",
      "  Getting requirements to build wheel: finished with status 'done'\n",
      "  Preparing metadata (pyproject.toml): started\n",
      "  Preparing metadata (pyproject.toml): finished with status 'done'\n",
      "Requirement already satisfied: numpy>=1.22 in /opt/conda/lib/python3.9/site-packages (from nemo-toolkit==1.17.0rc0) (1.23.5)\n",
      "Requirement already satisfied: huggingface-hub in /opt/conda/lib/python3.9/site-packages (from nemo-toolkit==1.17.0rc0) (0.13.3)\n",
      "Requirement already satisfied: python-dateutil in /opt/conda/lib/python3.9/site-packages (from nemo-toolkit==1.17.0rc0) (2.8.2)\n",
      "Collecting wrapt\n",
      "  Downloading wrapt-1.15.0-cp39-cp39-manylinux_2_5_x86_64.manylinux1_x86_64.manylinux_2_17_x86_64.manylinux2014_x86_64.whl (78 kB)\n",
      "     ━━━━━━━━━━━━━━━━━━━━━━━━━━━━━━━━━━━━━━━━ 78.3/78.3 kB 7.0 MB/s eta 0:00:00\n",
      "Requirement already satisfied: ruamel.yaml in /opt/conda/lib/python3.9/site-packages (from nemo-toolkit==1.17.0rc0) (0.17.21)\n",
      "Requirement already satisfied: tqdm>=4.41.0 in /opt/conda/lib/python3.9/site-packages (from nemo-toolkit==1.17.0rc0) (4.64.1)\n",
      "Requirement already satisfied: scikit-learn in /opt/conda/lib/python3.9/site-packages (from nemo-toolkit==1.17.0rc0) (1.2.1)\n",
      "Collecting tensorboard\n",
      "  Downloading tensorboard-2.12.0-py3-none-any.whl (5.6 MB)\n",
      "     ━━━━━━━━━━━━━━━━━━━━━━━━━━━━━━━━━━━━━━━━ 5.6/5.6 MB 41.3 MB/s eta 0:00:00\n",
      "Collecting setuptools==65.5.1\n",
      "  Downloading setuptools-65.5.1-py3-none-any.whl (1.2 MB)\n",
      "     ━━━━━━━━━━━━━━━━━━━━━━━━━━━━━━━━━━━━━━━━ 1.2/1.2 MB 93.2 MB/s eta 0:00:00\n",
      "Collecting text-unidecode\n",
      "  Downloading text_unidecode-1.3-py2.py3-none-any.whl (78 kB)\n",
      "     ━━━━━━━━━━━━━━━━━━━━━━━━━━━━━━━━━━━━━━━ 78.2/78.2 kB 245.0 MB/s eta 0:00:00\n",
      "Requirement already satisfied: torch in /opt/conda/lib/python3.9/site-packages (from nemo-toolkit==1.17.0rc0) (1.13.1+cu117)\n",
      "Collecting wget\n",
      "  Downloading wget-3.2.zip (10 kB)\n",
      "  Preparing metadata (setup.py): started\n",
      "  Preparing metadata (setup.py): finished with status 'done'\n",
      "Requirement already satisfied: numba in /opt/conda/lib/python3.9/site-packages (from nemo-toolkit==1.17.0rc0) (0.56.4)\n",
      "Collecting onnx>=1.7.0\n",
      "  Downloading onnx-1.13.1-cp39-cp39-manylinux_2_17_x86_64.manylinux2014_x86_64.whl (13.5 MB)\n",
      "     ━━━━━━━━━━━━━━━━━━━━━━━━━━━━━━━━━━━━━━━ 13.5/13.5 MB 188.1 MB/s eta 0:00:00\n",
      "Requirement already satisfied: protobuf<4,>=3.20.2 in /opt/conda/lib/python3.9/site-packages (from onnx>=1.7.0->nemo-toolkit==1.17.0rc0) (3.20.2)\n",
      "Requirement already satisfied: typing-extensions>=3.6.2.1 in /opt/conda/lib/python3.9/site-packages (from onnx>=1.7.0->nemo-toolkit==1.17.0rc0) (4.4.0)\n",
      "Requirement already satisfied: pyyaml>=5.1 in /opt/conda/lib/python3.9/site-packages (from huggingface-hub->nemo-toolkit==1.17.0rc0) (5.4.1)\n",
      "Requirement already satisfied: packaging>=20.9 in /opt/conda/lib/python3.9/site-packages (from huggingface-hub->nemo-toolkit==1.17.0rc0) (23.0)\n",
      "Requirement already satisfied: requests in /opt/conda/lib/python3.9/site-packages (from huggingface-hub->nemo-toolkit==1.17.0rc0) (2.28.2)\n",
      "Requirement already satisfied: filelock in /opt/conda/lib/python3.9/site-packages (from huggingface-hub->nemo-toolkit==1.17.0rc0) (3.10.0)\n",
      "Requirement already satisfied: llvmlite<0.40,>=0.39.0dev0 in /opt/conda/lib/python3.9/site-packages (from numba->nemo-toolkit==1.17.0rc0) (0.39.1)\n",
      "Requirement already satisfied: six>=1.5 in /opt/conda/lib/python3.9/site-packages (from python-dateutil->nemo-toolkit==1.17.0rc0) (1.16.0)\n",
      "Requirement already satisfied: ruamel.yaml.clib>=0.2.6 in /opt/conda/lib/python3.9/site-packages (from ruamel.yaml->nemo-toolkit==1.17.0rc0) (0.2.7)\n",
      "Requirement already satisfied: scipy>=1.3.2 in /opt/conda/lib/python3.9/site-packages (from scikit-learn->nemo-toolkit==1.17.0rc0) (1.10.0)\n",
      "Requirement already satisfied: joblib>=1.1.1 in /opt/conda/lib/python3.9/site-packages (from scikit-learn->nemo-toolkit==1.17.0rc0) (1.2.0)\n",
      "Requirement already satisfied: threadpoolctl>=2.0.0 in /opt/conda/lib/python3.9/site-packages (from scikit-learn->nemo-toolkit==1.17.0rc0) (3.1.0)\n",
      "Collecting markdown>=2.6.8\n",
      "  Downloading Markdown-3.4.1-py3-none-any.whl (93 kB)\n",
      "     ━━━━━━━━━━━━━━━━━━━━━━━━━━━━━━━━━━━━━━━ 93.3/93.3 kB 248.6 MB/s eta 0:00:00\n",
      "Collecting tensorboard-data-server<0.8.0,>=0.7.0\n",
      "  Downloading tensorboard_data_server-0.7.0-py3-none-manylinux2014_x86_64.whl (6.6 MB)\n",
      "     ━━━━━━━━━━━━━━━━━━━━━━━━━━━━━━━━━━━━━━━━ 6.6/6.6 MB 279.0 MB/s eta 0:00:00\n",
      "Collecting grpcio>=1.48.2\n",
      "  Downloading grpcio-1.51.3-cp39-cp39-manylinux_2_17_x86_64.manylinux2014_x86_64.whl (4.8 MB)\n",
      "     ━━━━━━━━━━━━━━━━━━━━━━━━━━━━━━━━━━━━━━━━ 4.8/4.8 MB 291.8 MB/s eta 0:00:00\n",
      "Collecting google-auth-oauthlib<0.5,>=0.4.1\n",
      "  Downloading google_auth_oauthlib-0.4.6-py2.py3-none-any.whl (18 kB)\n",
      "Collecting tensorboard-plugin-wit>=1.6.0\n",
      "  Downloading tensorboard_plugin_wit-1.8.1-py3-none-any.whl (781 kB)\n",
      "     ━━━━━━━━━━━━━━━━━━━━━━━━━━━━━━━━━━━━━ 781.3/781.3 kB 306.9 MB/s eta 0:00:00\n",
      "Collecting google-auth<3,>=1.6.3\n",
      "  Downloading google_auth-2.16.2-py2.py3-none-any.whl (177 kB)\n",
      "     ━━━━━━━━━━━━━━━━━━━━━━━━━━━━━━━━━━━━━ 177.2/177.2 kB 284.6 MB/s eta 0:00:00\n",
      "Requirement already satisfied: werkzeug>=1.0.1 in /opt/conda/lib/python3.9/site-packages (from tensorboard->nemo-toolkit==1.17.0rc0) (2.2.3)\n",
      "Collecting absl-py>=0.4\n",
      "  Downloading absl_py-1.4.0-py3-none-any.whl (126 kB)\n",
      "     ━━━━━━━━━━━━━━━━━━━━━━━━━━━━━━━━━━━━━ 126.5/126.5 kB 268.9 MB/s eta 0:00:00\n",
      "Requirement already satisfied: wheel>=0.26 in /opt/conda/lib/python3.9/site-packages (from tensorboard->nemo-toolkit==1.17.0rc0) (0.38.4)\n",
      "Collecting pyasn1-modules>=0.2.1\n",
      "  Downloading pyasn1_modules-0.2.8-py2.py3-none-any.whl (155 kB)\n",
      "     ━━━━━━━━━━━━━━━━━━━━━━━━━━━━━━━━━━━━━ 155.3/155.3 kB 281.6 MB/s eta 0:00:00\n",
      "Collecting cachetools<6.0,>=2.0.0\n",
      "  Downloading cachetools-5.3.0-py3-none-any.whl (9.3 kB)\n",
      "Requirement already satisfied: rsa<5,>=3.1.4 in /opt/conda/lib/python3.9/site-packages (from google-auth<3,>=1.6.3->tensorboard->nemo-toolkit==1.17.0rc0) (4.7.2)\n",
      "Collecting requests-oauthlib>=0.7.0\n",
      "  Downloading requests_oauthlib-1.3.1-py2.py3-none-any.whl (23 kB)\n",
      "Requirement already satisfied: importlib-metadata>=4.4 in /opt/conda/lib/python3.9/site-packages (from markdown>=2.6.8->tensorboard->nemo-toolkit==1.17.0rc0) (4.13.0)\n",
      "Requirement already satisfied: urllib3<1.27,>=1.21.1 in /opt/conda/lib/python3.9/site-packages (from requests->huggingface-hub->nemo-toolkit==1.17.0rc0) (1.26.14)\n",
      "Requirement already satisfied: charset-normalizer<4,>=2 in /opt/conda/lib/python3.9/site-packages (from requests->huggingface-hub->nemo-toolkit==1.17.0rc0) (2.1.1)\n",
      "Requirement already satisfied: certifi>=2017.4.17 in /opt/conda/lib/python3.9/site-packages (from requests->huggingface-hub->nemo-toolkit==1.17.0rc0) (2022.12.7)\n",
      "Requirement already satisfied: idna<4,>=2.5 in /opt/conda/lib/python3.9/site-packages (from requests->huggingface-hub->nemo-toolkit==1.17.0rc0) (3.4)\n",
      "Requirement already satisfied: MarkupSafe>=2.1.1 in /opt/conda/lib/python3.9/site-packages (from werkzeug>=1.0.1->tensorboard->nemo-toolkit==1.17.0rc0) (2.1.2)\n",
      "Requirement already satisfied: zipp>=0.5 in /opt/conda/lib/python3.9/site-packages (from importlib-metadata>=4.4->markdown>=2.6.8->tensorboard->nemo-toolkit==1.17.0rc0) (3.13.0)\n",
      "Requirement already satisfied: pyasn1<0.5.0,>=0.4.6 in /opt/conda/lib/python3.9/site-packages (from pyasn1-modules>=0.2.1->google-auth<3,>=1.6.3->tensorboard->nemo-toolkit==1.17.0rc0) (0.4.8)\n",
      "Collecting oauthlib>=3.0.0\n",
      "  Downloading oauthlib-3.2.2-py3-none-any.whl (151 kB)\n",
      "     ━━━━━━━━━━━━━━━━━━━━━━━━━━━━━━━━━━━━━ 151.7/151.7 kB 279.7 MB/s eta 0:00:00\n",
      "Building wheels for collected packages: nemo-toolkit, wget\n",
      "  Building wheel for nemo-toolkit (pyproject.toml): started\n",
      "  Building wheel for nemo-toolkit (pyproject.toml): finished with status 'done'\n",
      "  Created wheel for nemo-toolkit: filename=nemo_toolkit-1.17.0rc0-py3-none-any.whl size=2268661 sha256=b36a2e5787bf3702a21f577df807deaaf255ae5f3cce1c0d21cfcdb9b383b750\n",
      "  Stored in directory: /tmp/pip-ephem-wheel-cache-l3ldty4y/wheels/af/9d/ef/62d10ba057609b5d066b4fd01b97b207270610f648fc0e1812\n",
      "  Building wheel for wget (setup.py): started\n",
      "  Building wheel for wget (setup.py): finished with status 'done'\n",
      "  Created wheel for wget: filename=wget-3.2-py3-none-any.whl size=9656 sha256=889b75be90a6b6863cf6a67fe353a5f8c42167f92bd13564ab2f0399276129c7\n",
      "  Stored in directory: /tmp/pip-ephem-wheel-cache-l3ldty4y/wheels/04/5f/3e/46cc37c5d698415694d83f607f833f83f0149e49b3af9d0f38\n",
      "Successfully built nemo-toolkit wget\n",
      "Installing collected packages: wget, text-unidecode, tensorboard-plugin-wit, wrapt, tensorboard-data-server, setuptools, pyasn1-modules, onnx, oauthlib, grpcio, cachetools, absl-py, requests-oauthlib, markdown, google-auth, google-auth-oauthlib, tensorboard, nemo-toolkit\n",
      "  Attempting uninstall: setuptools\n",
      "    Found existing installation: setuptools 65.6.3\n",
      "    Uninstalling setuptools-65.6.3:\n",
      "      Successfully uninstalled setuptools-65.6.3\n",
      "Successfully installed absl-py-1.4.0 cachetools-5.3.0 google-auth-2.16.2 google-auth-oauthlib-0.4.6 grpcio-1.51.3 markdown-3.4.1 nemo-toolkit-1.17.0rc0 oauthlib-3.2.2 onnx-1.13.1 pyasn1-modules-0.2.8 requests-oauthlib-1.3.1 setuptools-65.5.1 tensorboard-2.12.0 tensorboard-data-server-0.7.0 tensorboard-plugin-wit-1.8.1 text-unidecode-1.3 wget-3.2 wrapt-1.15.0\n",
      "\u001b[91mWARNING: Running pip as the 'root' user can result in broken permissions and conflicting behaviour with the system package manager. It is recommended to use a virtual environment instead: https://pip.pypa.io/warnings/venv\n",
      "\u001b[0mRemoving intermediate container 97f5cfb3262b\n",
      " ---> b49b4f8cbb02\n",
      "Step 5/5 : WORKDIR /\n",
      " ---> Running in d5e5d8be5cc8\n",
      "Removing intermediate container d5e5d8be5cc8\n",
      " ---> 9979ba35293a\n",
      "Successfully built 9979ba35293a\n",
      "Successfully tagged nemo-test-training:latest\n",
      "\n",
      "/home/ec2-user/SageMaker/nemo-on-sagemaker/1 building-component\n"
     ]
    }
   ],
   "source": [
    "ecr.build_docker(strDockerDir, strDockerFile, strRepositoryName, strRegionName=\"us-west-2\", strAccountId=\"763104351884\")"
   ]
  },
  {
   "cell_type": "markdown",
   "id": "9e1d1a7a-6677-462a-87b3-6ba628884276",
   "metadata": {},
   "source": [
    "* Push the image to ECR"
   ]
  },
  {
   "cell_type": "code",
   "execution_count": 174,
   "id": "09fa8f56-7ac2-440d-86f0-6e6a07dc71a4",
   "metadata": {
    "tags": []
   },
   "outputs": [
    {
     "name": "stdout",
     "output_type": "stream",
     "text": [
      "== REGISTER AN IMAGE TO ECR ==\n",
      "  processing_repository_uri: 419974056037.dkr.ecr.ap-northeast-2.amazonaws.com/nemo-test-training:latest\n",
      "aws ecr get-login --region 'ap-northeast-2' --registry-ids '419974056037' --no-include-email\n"
     ]
    },
    {
     "name": "stderr",
     "output_type": "stream",
     "text": [
      "WARNING! Using --password via the CLI is insecure. Use --password-stdin.\n",
      "WARNING! Your password will be stored unencrypted in /home/ec2-user/.docker/config.json.\n",
      "Configure a credential helper to remove this warning. See\n",
      "https://docs.docker.com/engine/reference/commandline/login/#credentials-store\n",
      "\n"
     ]
    },
    {
     "name": "stdout",
     "output_type": "stream",
     "text": [
      "Login Succeeded\n",
      "\n",
      "aws ecr create-repository --repository-name 'nemo-test-training'\n",
      "docker tag 'nemo-test-training:latest' '419974056037.dkr.ecr.ap-northeast-2.amazonaws.com/nemo-test-training:latest'\n",
      "docker push '419974056037.dkr.ecr.ap-northeast-2.amazonaws.com/nemo-test-training:latest'\n",
      "== REGISTER AN IMAGE TO ECR ==\n",
      "==============================\n"
     ]
    }
   ],
   "source": [
    "strEcrRepositoryUri = ecr.register_image_to_ecr(strRegionName, strAccountId, strRepositoryName, strTag)"
   ]
  },
  {
   "cell_type": "markdown",
   "id": "e1b0385b-d1a6-4281-87fa-261cbf5acbbd",
   "metadata": {},
   "source": [
    "* Save image-uri to parameter store"
   ]
  },
  {
   "cell_type": "markdown",
   "id": "2fbcd0ad-384a-4c24-922d-a17213ec1dba",
   "metadata": {},
   "source": [
    "## 4. Create inference custom docker image"
   ]
  },
  {
   "cell_type": "markdown",
   "id": "9a80f82b-edcd-4f86-8211-f79fbd5d4adf",
   "metadata": {},
   "source": [
    "* docker build"
   ]
  },
  {
   "cell_type": "code",
   "execution_count": 160,
   "id": "886a0a4b-0601-4674-a575-88c5051989ab",
   "metadata": {
    "tags": []
   },
   "outputs": [
    {
     "name": "stdout",
     "output_type": "stream",
     "text": [
      "\u001b[37m# docker build -f Dockerfile.inf -t 322537213286.dkr.ecr.us-west-2.amazonaws.com/pytorch-inference:1.13.1-gpu-py39-nemo-main .\u001b[39;49;00m\u001b[37m\u001b[39;49;00m\n",
      "\u001b[36mFrom 763104351884.dkr.ecr.us-west-2.amazonaws.com/pytorch-inference\u001b[39;49;00m:\u001b[33m1.13.1-gpu-py39\u001b[39;49;00m\u001b[37m\u001b[39;49;00m\n",
      "\u001b[37m\u001b[39;49;00m\n",
      "\u001b[36mRUN pip install --no-cache-dir --upgrade pip \\\u001b[39;49;00m\u001b[37m\u001b[39;49;00m\n",
      "\u001b[37m \u001b[39;49;00m\u001b[36m&& pip install --no-cache-dir -U sagemaker nvgpu hydra-core librosa sentencepiece youtokentome inflect pyannote.audio \\\u001b[39;49;00m\u001b[37m\u001b[39;49;00m\n",
      "\u001b[37m \u001b[39;49;00m\u001b[36m&& pip install --no-cache-dir -U braceexpand webdataset editdistance jiwer jsonlines \\\u001b[39;49;00m\u001b[37m\u001b[39;49;00m\n",
      "\u001b[37m \u001b[39;49;00m\u001b[36m&& pip install --no-cache-dir -U pytorch-lightning \\ \u001b[39;49;00m\u001b[37m\u001b[39;49;00m\n",
      "\u001b[37m \u001b[39;49;00m\u001b[36m&& pip install --no-cache-dir git+https\u001b[39;49;00m:\u001b[33m//github.com/huggingface/transformers \u001b[39;49;00m\\\u001b[37m \u001b[39;49;00m\n",
      "\u001b[37m \u001b[39;49;00m\u001b[33m&& pip install --no-cache-dir git+https://github.com/NVIDIA/NeMo.git@main\u001b[39;49;00m\u001b[37m\u001b[39;49;00m\n",
      "\u001b[37m\u001b[39;49;00m\n",
      "\u001b[36mCOPY list_gpus.py /opt/conda/lib/python3.9/site-packages/nvgpu/list_gpus.py\u001b[39;49;00m\u001b[37m\u001b[39;49;00m\n",
      "\u001b[36mWORKDIR /\u001b[39;49;00m\u001b[37m\u001b[39;49;00m\n"
     ]
    }
   ],
   "source": [
    "!pygmentize custom-docker/Dockerfile.inf"
   ]
  },
  {
   "cell_type": "markdown",
   "id": "2a45013c-144a-4918-b154-e9cd7425506a",
   "metadata": {},
   "source": [
    "### 1) AWS CLI 를 이용한 방식"
   ]
  },
  {
   "cell_type": "code",
   "execution_count": 99,
   "id": "1eed522b-5d65-4a69-9502-298504d5b7c5",
   "metadata": {
    "collapsed": true,
    "jupyter": {
     "outputs_hidden": true
    },
    "tags": []
   },
   "outputs": [
    {
     "name": "stdout",
     "output_type": "stream",
     "text": [
      "/home/ec2-user/SageMaker/nemo-on-sagemaker/1 building-component/custom-docker\n",
      "Sending build context to Docker daemon  12.29kB\n",
      "Step 1/4 : From 763104351884.dkr.ecr.us-west-2.amazonaws.com/pytorch-inference:1.13.1-gpu-py39\n",
      "Login Succeeded\n",
      "The push refers to repository [419974056037.dkr.ecr.ap-northeast-2.amazonaws.com/nemo-test-inference]\n",
      "dc89546f2ef9: Preparing\n",
      "22b7520695f1: Preparing\n",
      "f847dc6c585d: Preparing\n",
      "f5f76489fff8: Preparing\n",
      "621c3f07daa7: Preparing\n",
      "9b484bb42e11: Preparing\n",
      "54c7c0b58471: Preparing\n",
      "c34adc3ab668: Preparing\n",
      "bbf651e48b84: Preparing\n",
      "f61045791108: Preparing\n",
      "4e2ac0cda74a: Preparing\n",
      "658a33d555eb: Preparing\n",
      "bd16d9a61a98: Preparing\n",
      "f0c0cd2accfa: Preparing\n",
      "1275469c066c: Preparing\n",
      "b802dd3babf4: Preparing\n",
      "9b484bb42e11: Waiting\n",
      "a3834ec63558: Preparing\n",
      "63edcef6dedf: Preparing\n",
      "0154e84cc2dd: Preparing\n",
      "7085d1c151f6: Preparing\n",
      "a77a2104cfb6: Preparing\n",
      "f61045791108: Waiting\n",
      "4e2ac0cda74a: Waiting\n",
      "6808e7f9da2f: Preparing\n",
      "658a33d555eb: Waiting\n",
      "bbf651e48b84: Waiting\n",
      "3bc059a9dec6: Preparing\n",
      "54c7c0b58471: Waiting\n",
      "de783f3fec23: Preparing\n",
      "18ca52d74b2f: Preparing\n",
      "f0c0cd2accfa: Waiting\n",
      "1275469c066c: Waiting\n",
      "a3834ec63558: Waiting\n",
      "73df6ccd636c: Preparing\n",
      "63edcef6dedf: Waiting\n",
      "b802dd3babf4: Waiting\n",
      "6738b73ff7a8: Preparing\n",
      "2a8292d9bfcc: Preparing\n",
      "5b75a5ef32a7: Preparing\n",
      "0154e84cc2dd: Waiting\n",
      "7085d1c151f6: Waiting\n",
      "25a5f55a11f0: Preparing\n",
      "707f484816ae: Preparing\n",
      "0430aa1e47d4: Preparing\n",
      "a77a2104cfb6: Waiting\n",
      "65448e793131: Preparing\n",
      "15af6e2d42ba: Preparing\n",
      "b46caef92993: Preparing\n",
      "53ce33a12646: Preparing\n",
      "aad68760f4ce: Preparing\n",
      "323d67ab1719: Preparing\n",
      "e72743a0fdfe: Preparing\n",
      "3996353f5820: Preparing\n",
      "ea87e0b9c30f: Preparing\n",
      "af18356cdf10: Preparing\n",
      "3bc059a9dec6: Waiting\n",
      "f6e30dd4497e: Preparing\n",
      "de783f3fec23: Waiting\n",
      "99832d04a153: Preparing\n",
      "a5981ed7a378: Preparing\n",
      "250519a2f830: Preparing\n",
      "6cadbde53f94: Preparing\n",
      "0002c93bdb37: Preparing\n",
      "18ca52d74b2f: Waiting\n",
      "15af6e2d42ba: Waiting\n",
      "b46caef92993: Waiting\n",
      "73df6ccd636c: Waiting\n",
      "53ce33a12646: Waiting\n",
      "6738b73ff7a8: Waiting\n",
      "aad68760f4ce: Waiting\n",
      "2a8292d9bfcc: Waiting\n",
      "323d67ab1719: Waiting\n",
      "5b75a5ef32a7: Waiting\n",
      "e72743a0fdfe: Waiting\n",
      "0430aa1e47d4: Waiting\n",
      "65448e793131: Waiting\n",
      "c34adc3ab668: Waiting\n",
      "25a5f55a11f0: Waiting\n",
      "707f484816ae: Waiting\n",
      "ea87e0b9c30f: Waiting\n",
      "0002c93bdb37: Waiting\n",
      "250519a2f830: Waiting\n",
      "a5981ed7a378: Waiting\n",
      "6cadbde53f94: Waiting\n",
      "3996353f5820: Waiting\n",
      "6808e7f9da2f: Waiting\n",
      "f847dc6c585d: Layer already exists\n",
      "22b7520695f1: Layer already exists\n",
      "621c3f07daa7: Layer already exists\n",
      "f5f76489fff8: Layer already exists\n",
      "dc89546f2ef9: Layer already exists\n",
      "9b484bb42e11: Layer already exists\n",
      "54c7c0b58471: Layer already exists\n",
      "c34adc3ab668: Layer already exists\n",
      "bbf651e48b84: Layer already exists\n",
      "f61045791108: Layer already exists\n",
      "658a33d555eb: Layer already exists\n",
      "bd16d9a61a98: Layer already exists\n",
      "4e2ac0cda74a: Layer already exists\n",
      "1275469c066c: Layer already exists\n",
      "f0c0cd2accfa: Layer already exists\n",
      "b802dd3babf4: Layer already exists\n",
      "63edcef6dedf: Layer already exists\n",
      "a3834ec63558: Layer already exists\n",
      "0154e84cc2dd: Layer already exists\n",
      "7085d1c151f6: Layer already exists\n",
      "a77a2104cfb6: Layer already exists\n",
      "6808e7f9da2f: Layer already exists\n",
      "3bc059a9dec6: Layer already exists\n",
      "18ca52d74b2f: Layer already exists\n",
      "73df6ccd636c: Layer already exists\n",
      "de783f3fec23: Layer already exists\n",
      "6738b73ff7a8: Layer already exists\n",
      "2a8292d9bfcc: Layer already exists\n",
      "5b75a5ef32a7: Layer already exists\n",
      "25a5f55a11f0: Layer already exists\n",
      "707f484816ae: Layer already exists\n",
      "0430aa1e47d4: Layer already exists\n",
      "65448e793131: Layer already exists\n",
      "15af6e2d42ba: Layer already exists\n",
      "b46caef92993: Layer already exists\n",
      "aad68760f4ce: Layer already exists\n",
      "53ce33a12646: Layer already exists\n",
      "323d67ab1719: Layer already exists\n",
      "e72743a0fdfe: Layer already exists\n",
      "3996353f5820: Layer already exists\n",
      "ea87e0b9c30f: Layer already exists\n",
      "af18356cdf10: Layer already exists\n",
      "f6e30dd4497e: Layer already exists\n",
      "99832d04a153: Layer already exists\n",
      "a5981ed7a378: Layer already exists\n",
      "250519a2f830: Layer already exists\n",
      "6cadbde53f94: Layer already exists\n",
      "0002c93bdb37: Layer already exists\n",
      "latest: digest: sha256:d1652639443b794a66164584cbead4362ccd4ce8502285aaae32028e8e94dc5a size: 10414\n",
      "419974056037.dkr.ecr.ap-northeast-2.amazonaws.com/nemo-test-inference:latest\n"
     ]
    },
    {
     "name": "stderr",
     "output_type": "stream",
     "text": [
      "pull access denied for 763104351884.dkr.ecr.us-west-2.amazonaws.com/pytorch-inference, repository does not exist or may require 'docker login': denied: Your authorization token has expired. Reauthenticate and try again.\n",
      "WARNING! Using --password via the CLI is insecure. Use --password-stdin.\n",
      "WARNING! Your password will be stored unencrypted in /home/ec2-user/.docker/config.json.\n",
      "Configure a credential helper to remove this warning. See\n",
      "https://docs.docker.com/engine/reference/commandline/login/#credentials-store\n",
      "\n"
     ]
    }
   ],
   "source": [
    "%%bash\n",
    "strRepositoryName=\"nemo-test-inference\"\n",
    "strDockerDir=\"./custom-docker/\"\n",
    "strTag=\"latest\"\n",
    "\n",
    "cd ${strDockerDir}\n",
    "echo $(pwd)\n",
    "container_name=${strRepositoryName}\n",
    "\n",
    "account=$(aws sts get-caller-identity --query Account --output text)\n",
    "\n",
    "# Get the region defined in the current configuration (default to us-west-2 if none defined)\n",
    "region=$(aws configure get region)\n",
    "# region=${region:-us-west-2}\n",
    "\n",
    "fullname=\"${account}.dkr.ecr.${region}.amazonaws.com/${container_name}:${strTag}\"\n",
    "\n",
    "# If the repository doesn't exist in ECR, create it.\n",
    "aws ecr describe-repositories --repository-names \"${container_name}\" > /dev/null 2>&1\n",
    "if [ $? -ne 0 ]\n",
    "then\n",
    "    aws ecr create-repository --repository-name \"${container_name}\" > /dev/null\n",
    "fi\n",
    "\n",
    "# # Get the login command from ECR and execute it directly\n",
    "# $(aws ecr get-login-password --region us-west-2 | docker login --username AWS --password-stdin \"763104351884.dkr.ecr.us-west-2.amazonaws.com\")\n",
    "\n",
    "# Build the docker image locally with the image name and then push it to ECR\n",
    "# with the full name.\n",
    "docker build -f Dockerfile.inf -t ${fullname} .\n",
    "# docker tag ${container_name} ${fullname}\n",
    "\n",
    "# Get the login command from ECR and execute it directly\n",
    "$(aws ecr get-login --region ${region} --no-include-email)\n",
    "docker push ${fullname}\n",
    "echo ${fullname}"
   ]
  },
  {
   "cell_type": "code",
   "execution_count": 117,
   "id": "9766980f-4a8d-48f8-986f-5f75ada29c08",
   "metadata": {
    "tags": []
   },
   "outputs": [],
   "source": [
    "#strInfEcrRepositoryUri = ' '  ## <-- 생성된 ECR의 URI를 넣어주세요.. ex) 123456789123.dkr.ecr.us-west-2.amazonaws.com/nemo-test:latest\n",
    "strInfEcrRepositoryUri = '419974056037.dkr.ecr.ap-northeast-2.amazonaws.com/nemo-test-inference'  ## <-- 생성된 ECR의 URI를 넣어주세요.. ex) 123456789123.dkr.ecr.us-west-2.amazonaws.com/nemo-test:latest"
   ]
  },
  {
   "cell_type": "markdown",
   "id": "e4af3f7e-90a4-4923-b44f-6af2efe8fd8b",
   "metadata": {},
   "source": [
    "### 2) AWS BOTO3 SDK를 이용한 방식"
   ]
  },
  {
   "cell_type": "code",
   "execution_count": 161,
   "id": "1e8bf58e-7ad3-4827-acdc-ec64f90c8b46",
   "metadata": {
    "tags": []
   },
   "outputs": [],
   "source": [
    "from utils.ecr import ecr_handler\n",
    "ecr = ecr_handler()"
   ]
  },
  {
   "cell_type": "code",
   "execution_count": 162,
   "id": "897f4ee5-8440-426d-83ff-af5ef558bda8",
   "metadata": {
    "tags": []
   },
   "outputs": [],
   "source": [
    "strInfRepositoryName=\"nemo-test-inference\"  ## <-- 원하는 docker repostory 이름을 추가\n",
    "strInfRepositoryName = strInfRepositoryName.lower()\n",
    "strDockerFile = \"Dockerfile.inf\"\n",
    "strDockerDir = \"./custom-docker/\"\n",
    "strTag = \"latest\""
   ]
  },
  {
   "cell_type": "code",
   "execution_count": 163,
   "id": "2e6a9c7a-67dc-4951-8d7b-fa261bdcdb22",
   "metadata": {
    "tags": []
   },
   "outputs": [
    {
     "name": "stdout",
     "output_type": "stream",
     "text": [
      "/home/ec2-user/SageMaker/nemo-on-sagemaker/1 building-component\n",
      "/home/ec2-user/SageMaker/nemo-on-sagemaker/1 building-component/custom-docker\n",
      "strDockerFile Dockerfile.inf\n",
      "aws ecr get-login --region 'us-west-2' --registry-ids '763104351884' --no-include-email\n"
     ]
    },
    {
     "name": "stderr",
     "output_type": "stream",
     "text": [
      "WARNING! Using --password via the CLI is insecure. Use --password-stdin.\n"
     ]
    },
    {
     "name": "stdout",
     "output_type": "stream",
     "text": [
      "Login Succeeded\n",
      "\n",
      "Sending build context to Docker daemon  12.29kB\n",
      "\n",
      "Step 1/4 : From 763104351884.dkr.ecr.us-west-2.amazonaws.com/pytorch-inference:1.13.1-gpu-py39\n",
      " ---> 58538dc47aa0\n",
      "Step 2/4 : RUN pip install --no-cache-dir --upgrade pip  && pip install --no-cache-dir -U sagemaker nvgpu hydra-core librosa sentencepiece youtokentome inflect pyannote.audio  && pip install --no-cache-dir -U braceexpand webdataset editdistance jiwer jsonlines  && pip install --no-cache-dir -U pytorch-lightning  && pip install --no-cache-dir git+https://github.com/huggingface/transformers  && pip install --no-cache-dir git+https://github.com/NVIDIA/NeMo.git@main\n",
      " ---> Using cache\n",
      " ---> ddd12e31c961\n",
      "Step 3/4 : COPY list_gpus.py /opt/conda/lib/python3.9/site-packages/nvgpu/list_gpus.py\n",
      " ---> Using cache\n",
      " ---> 1690728fdd52\n",
      "Step 4/4 : WORKDIR /\n",
      " ---> Using cache\n",
      " ---> 626709562a12\n",
      "Successfully built 626709562a12\n",
      "Successfully tagged nemo-test-inference:latest\n",
      "\n",
      "/home/ec2-user/SageMaker/nemo-on-sagemaker/1 building-component\n"
     ]
    },
    {
     "name": "stderr",
     "output_type": "stream",
     "text": [
      "WARNING! Your password will be stored unencrypted in /home/ec2-user/.docker/config.json.\n",
      "Configure a credential helper to remove this warning. See\n",
      "https://docs.docker.com/engine/reference/commandline/login/#credentials-store\n",
      "\n"
     ]
    }
   ],
   "source": [
    "ecr.build_docker(strDockerDir, strDockerFile, strInfRepositoryName, strRegionName=\"us-west-2\", strAccountId=\"763104351884\")"
   ]
  },
  {
   "cell_type": "code",
   "execution_count": 164,
   "id": "d3a29604-f58b-4106-a23d-6d36c30727f4",
   "metadata": {
    "tags": []
   },
   "outputs": [
    {
     "name": "stdout",
     "output_type": "stream",
     "text": [
      "== REGISTER AN IMAGE TO ECR ==\n",
      "  processing_repository_uri: 419974056037.dkr.ecr.ap-northeast-2.amazonaws.com/nemo-test-inference:latest\n",
      "aws ecr get-login --region 'ap-northeast-2' --registry-ids '419974056037' --no-include-email\n"
     ]
    },
    {
     "name": "stderr",
     "output_type": "stream",
     "text": [
      "WARNING! Using --password via the CLI is insecure. Use --password-stdin.\n",
      "WARNING! Your password will be stored unencrypted in /home/ec2-user/.docker/config.json.\n",
      "Configure a credential helper to remove this warning. See\n",
      "https://docs.docker.com/engine/reference/commandline/login/#credentials-store\n",
      "\n"
     ]
    },
    {
     "name": "stdout",
     "output_type": "stream",
     "text": [
      "Login Succeeded\n",
      "\n",
      "aws ecr create-repository --repository-name 'nemo-test-inference'\n",
      "docker tag 'nemo-test-inference:latest' '419974056037.dkr.ecr.ap-northeast-2.amazonaws.com/nemo-test-inference:latest'\n",
      "docker push '419974056037.dkr.ecr.ap-northeast-2.amazonaws.com/nemo-test-inference:latest'\n",
      "== REGISTER AN IMAGE TO ECR ==\n",
      "==============================\n"
     ]
    }
   ],
   "source": [
    "strInfEcrRepositoryUri = ecr.register_image_to_ecr(strRegionName, strAccountId, strInfRepositoryName, strTag)"
   ]
  },
  {
   "cell_type": "markdown",
   "id": "66618f51-efdf-4336-8712-acf2201f5aab",
   "metadata": {},
   "source": [
    "## 5. Download & Upload dataset"
   ]
  },
  {
   "cell_type": "code",
   "execution_count": 59,
   "id": "693ac722-d6d3-4ae0-8787-27dd7a3a11cc",
   "metadata": {
    "tags": []
   },
   "outputs": [],
   "source": [
    "import os\n",
    "import wget"
   ]
  },
  {
   "cell_type": "code",
   "execution_count": 60,
   "id": "b3b1eb5b-ba2f-40e1-824c-846374d53bad",
   "metadata": {
    "tags": []
   },
   "outputs": [],
   "source": [
    "data_dir = \"./data\""
   ]
  },
  {
   "cell_type": "code",
   "execution_count": 61,
   "id": "406951c5-4597-49f4-9ced-db4aeef0512d",
   "metadata": {
    "tags": []
   },
   "outputs": [
    {
     "name": "stdout",
     "output_type": "stream",
     "text": [
      "******\n",
      "Tarfile already exists.\n"
     ]
    }
   ],
   "source": [
    "print(\"******\")\n",
    "os.makedirs(data_dir, exist_ok=True)\n",
    "if not os.path.exists(data_dir + '/an4_sphere.tar.gz'):\n",
    "    an4_url = 'https://dldata-public.s3.us-east-2.amazonaws.com/an4_sphere.tar.gz'\n",
    "    an4_path = wget.download(an4_url, data_dir)\n",
    "    print(f\"Dataset downloaded at: {an4_path}\")\n",
    "else:\n",
    "    print(\"Tarfile already exists.\")\n",
    "    an4_path = data_dir + '/an4_sphere.tar.gz'"
   ]
  },
  {
   "cell_type": "code",
   "execution_count": 41,
   "id": "0aaac4f9-5a97-4447-91cb-5770cc4cd88f",
   "metadata": {},
   "outputs": [],
   "source": [
    "strRepositoryName=\"nemo-test-inference\"  ## <-- 원하는 docker repostory 이름을 추가\n",
    "strRepositoryName = strRepositoryName.lower()\n",
    "strDockerDir = \"./custom-docker/\"\n",
    "strTag = \"latest\""
   ]
  },
  {
   "cell_type": "markdown",
   "id": "3ac1ad94-a3d0-49a2-b16a-35887875ed54",
   "metadata": {},
   "source": [
    "* updoad data to s3"
   ]
  },
  {
   "cell_type": "markdown",
   "id": "1c5f28dd-98a4-45f8-87f2-21eb1f942be7",
   "metadata": {},
   "source": [
    "### 1) AWS CLI 를 이용한 방식"
   ]
  },
  {
   "cell_type": "code",
   "execution_count": 62,
   "id": "56651221-771b-4350-8b21-bd316235ae44",
   "metadata": {
    "tags": []
   },
   "outputs": [],
   "source": [
    "!aws s3 sync $data_dir s3://$bucket_name/$prefix/data --quiet"
   ]
  },
  {
   "cell_type": "markdown",
   "id": "651df427-7e23-4861-906f-4f1536c4cc90",
   "metadata": {},
   "source": [
    "### 2) AWS BOTO3 SDK를 이용한 방식"
   ]
  },
  {
   "cell_type": "code",
   "execution_count": 46,
   "id": "d433d60e-f53f-403e-bf99-1bc52e6e5456",
   "metadata": {
    "tags": []
   },
   "outputs": [],
   "source": [
    "from utils.s3 import s3_handler"
   ]
  },
  {
   "cell_type": "code",
   "execution_count": 47,
   "id": "35d1201e-0f10-48c8-9a20-83f4ff20efde",
   "metadata": {
    "tags": []
   },
   "outputs": [
    {
     "name": "stdout",
     "output_type": "stream",
     "text": [
      "This is a S3 handler with [None] region.\n"
     ]
    }
   ],
   "source": [
    "s3 = s3_handler()"
   ]
  },
  {
   "cell_type": "code",
   "execution_count": 50,
   "id": "95e9f4ec-f3ad-4a63-aa4a-425615aea2c8",
   "metadata": {
    "tags": []
   },
   "outputs": [
    {
     "name": "stdout",
     "output_type": "stream",
     "text": [
      "Upload:[./data] was uploaded to [s3://sm-nemo-bucket/nemo-asr/data]successfully\n"
     ]
    }
   ],
   "source": [
    "source_dir, target_bucket, target_dir = data_dir, pm.get_params(key=prefix+\"-BUCKET\"), prefix+\"/data\"\n",
    "s3.upload_dir(source_dir, target_bucket, target_dir)"
   ]
  },
  {
   "cell_type": "markdown",
   "id": "a56442a3-3241-4d78-92d6-67cb053f8b04",
   "metadata": {},
   "source": [
    "## 6. Upload Pretrained model"
   ]
  },
  {
   "cell_type": "code",
   "execution_count": 63,
   "id": "4c7176b3-28d9-49f7-9a6b-bc36128022a5",
   "metadata": {
    "tags": []
   },
   "outputs": [],
   "source": [
    "pretrained = os.getcwd() + '/pretrained/CTC.nemo'\n",
    "\n",
    "pretrained_s3uri = os.path.join(\n",
    "    \"s3://{}\".format(bucket_name),\n",
    "    prefix,\n",
    "    \"pretrained\",\n",
    ")\n",
    "\n",
    "!aws s3 sync pretrained $pretrained_s3uri"
   ]
  },
  {
   "cell_type": "markdown",
   "id": "6d5f0673-538d-4e72-94ca-663177ff12ae",
   "metadata": {},
   "source": [
    "## 7. CodeCommit 생성\n",
    "- Attach IAM polich to sagemaker execution role (<b>with console</b>)\n",
    "> **CodeCommit**: \"arn:aws:iam::aws:policy/AWSCodeCommitFullAccess\"<BR>\n",
    "> **SecretsManager**: \"arn:aws:iam::aws:policy/SecretsManagerReadWrite\"<BR>"
   ]
  },
  {
   "cell_type": "markdown",
   "id": "d9fca091-a616-41c1-a522-7327720ec74e",
   "metadata": {},
   "source": [
    "### 5.1 CodeCommit 관련 Credentials 생성 및 Secret Manager에 저장하기\n",
    "- CodeCommit Credentials"
   ]
  },
  {
   "cell_type": "code",
   "execution_count": 118,
   "id": "3d570c6e-58f8-4749-be70-0687ee606a3a",
   "metadata": {
    "tags": []
   },
   "outputs": [
    {
     "data": {
      "text/plain": [
       "'codecommit-cred-dongjin'"
      ]
     },
     "execution_count": 118,
     "metadata": {},
     "output_type": "execute_result"
    }
   ],
   "source": [
    "user_name = 'dongjin' ## ==> IAM에서 사용자 아이디 확인합니다.\n",
    "codecommit_cred = 'codecommit-cred-'+user_name\n",
    "codecommit_cred"
   ]
  },
  {
   "cell_type": "code",
   "execution_count": 119,
   "id": "aa00bbd2-bf62-46d8-9e20-75f2a0f8910b",
   "metadata": {
    "tags": []
   },
   "outputs": [],
   "source": [
    "iam_client = boto3.client('iam')"
   ]
  },
  {
   "cell_type": "code",
   "execution_count": 120,
   "id": "6435b225-db6a-4b71-8fc2-4e3bc52b788e",
   "metadata": {
    "tags": []
   },
   "outputs": [
    {
     "name": "stdout",
     "output_type": "stream",
     "text": [
      "ServiceUserName : dongjin-at-419974056037 \n",
      "ServicePassword : fn/pWNa7rufmNiSDQ8MjOxlMjdP/XGYkHGWW3xOHeNs=\n"
     ]
    }
   ],
   "source": [
    "try:\n",
    "    response = iam_client.list_service_specific_credentials(\n",
    "        UserName=user_name,\n",
    "        ServiceName='codecommit.amazonaws.com'\n",
    "    )\n",
    "    if len(response['ServiceSpecificCredentials']) > 0:\n",
    "        response = iam_client.delete_service_specific_credential(\n",
    "            UserName=user_name,\n",
    "            ServiceSpecificCredentialId=response['ServiceSpecificCredentials'][-1]['ServiceSpecificCredentialId']\n",
    "        )\n",
    "except:\n",
    "    print(\"Create new codecommit crendentials\")\n",
    "    pass\n",
    "finally:\n",
    "    response = iam_client.create_service_specific_credential(\n",
    "        UserName=user_name,\n",
    "        ServiceName='codecommit.amazonaws.com'\n",
    "    )\n",
    "    ServiceUserName = response['ServiceSpecificCredential']['ServiceUserName']\n",
    "    ServicePassword = response['ServiceSpecificCredential']['ServicePassword']\n",
    "print(f\"ServiceUserName : {ServiceUserName} \\nServicePassword : {ServicePassword}\")"
   ]
  },
  {
   "cell_type": "code",
   "execution_count": 121,
   "id": "745a1773-919a-4074-acc5-28ca6a546a08",
   "metadata": {
    "tags": []
   },
   "outputs": [],
   "source": [
    "code_repository_name = 'nemo-code' ## ==> 사용할 code repository 폴더 명을 넣습니다. ex) model_code\n",
    "local_code_dir = './code' ## ==> 생성한 local의 code repository 폴더 명을 넣습니다. ex) code"
   ]
  },
  {
   "cell_type": "code",
   "execution_count": 122,
   "id": "9f19a2b9-6e38-4e0e-ac44-b0b4de22a460",
   "metadata": {
    "tags": []
   },
   "outputs": [
    {
     "name": "stdout",
     "output_type": "stream",
     "text": [
      "Repository already exists\n"
     ]
    }
   ],
   "source": [
    "codecommit = boto3.client('codecommit')\n",
    "\n",
    "try:\n",
    "    response = codecommit.create_repository(\n",
    "        repositoryName=code_repository_name,\n",
    "        repositoryDescription='Data Scientists share their training code using this Repository'\n",
    "    )\n",
    "except:\n",
    "    \n",
    "    print(\"Repository already exists\")\n",
    "    response = codecommit.get_repository(\n",
    "        repositoryName=code_repository_name\n",
    "    )"
   ]
  },
  {
   "cell_type": "code",
   "execution_count": 123,
   "id": "ac4c1e77-f894-4e7c-81ab-9054c7515d61",
   "metadata": {
    "tags": []
   },
   "outputs": [
    {
     "data": {
      "text/plain": [
       "'https://git-codecommit.ap-northeast-2.amazonaws.com/v1/repos/nemo-code'"
      ]
     },
     "execution_count": 123,
     "metadata": {},
     "output_type": "execute_result"
    }
   ],
   "source": [
    "codecommit_repo = response['repositoryMetadata']['cloneUrlHttp']\n",
    "codecommit_repo"
   ]
  },
  {
   "cell_type": "code",
   "execution_count": null,
   "id": "5e769023-46fc-482a-948f-27f556bf2805",
   "metadata": {
    "tags": []
   },
   "outputs": [],
   "source": [
    "!rm -rf .git/"
   ]
  },
  {
   "cell_type": "code",
   "execution_count": null,
   "id": "7ab59dbf-196b-4a32-bd49-c003342c715d",
   "metadata": {},
   "outputs": [],
   "source": [
    "!git init\n",
    "!git remote add repo_codecommit $codecommit_repo\n",
    "!git checkout -b main\n",
    "!git add $local_code_dir\n",
    "!git commit -m \"code-update\"\n",
    "!git push --set-upstream repo_codecommit main"
   ]
  },
  {
   "cell_type": "markdown",
   "id": "79d1cc04-a7d2-47a2-bdeb-0357a67aa775",
   "metadata": {},
   "source": [
    "## 6. [Optional] AWS Systems Manager Parameter Store 를 이용한 파라미터 저장/활용\n",
    "- [AWS Systems Manager Parameter Store](https://docs.aws.amazon.com/systems-manager/latest/userguide/systems-manager-parameter-store.html)\n",
    "- Attach IAM polich to sagemaker execution role (<b>with console</b>)\n",
    "> **SSM**: \"arn:aws:iam::aws:policy/AmazonSSMFullAccess\"<BR>"
   ]
  },
  {
   "cell_type": "code",
   "execution_count": 124,
   "id": "ef82d683-4008-4337-b756-fed86c4d6fc4",
   "metadata": {
    "tags": []
   },
   "outputs": [],
   "source": [
    "from utils.ssm import parameter_store"
   ]
  },
  {
   "cell_type": "code",
   "execution_count": 125,
   "id": "8cbafaa9-11bb-4207-ac4d-912e02f64709",
   "metadata": {
    "tags": []
   },
   "outputs": [],
   "source": [
    "pm = parameter_store(strRegionName)"
   ]
  },
  {
   "cell_type": "code",
   "execution_count": 126,
   "id": "0d074104-5c46-489b-982a-4e3801697757",
   "metadata": {
    "tags": []
   },
   "outputs": [
    {
     "data": {
      "text/plain": [
       "'Store suceess'"
      ]
     },
     "execution_count": 126,
     "metadata": {},
     "output_type": "execute_result"
    }
   ],
   "source": [
    "pm.put_params(key=\"PREFIX\", value=prefix, overwrite=True)\n",
    "pm.put_params(key=\"-\".join([prefix, \"REGION\"]), value=strRegionName, overwrite=True)\n",
    "pm.put_params(key=\"-\".join([prefix, \"BUCKET\"]), value=bucket_name, overwrite=True)\n",
    "pm.put_params(key=\"-\".join([prefix, \"SAGEMAKER-ROLE-ARN\"]), value=get_execution_role(), overwrite=True)\n",
    "pm.put_params(key=\"-\".join([prefix, \"ACCOUNT-ID\"]), value=strAccountId, overwrite=True)\n",
    "pm.put_params(key=\"-\".join([prefix, \"IMAGE-URI\"]), value=strEcrRepositoryUri, overwrite=True)\n",
    "pm.put_params(key=\"-\".join([prefix, \"INF-IMAGE-URI\"]), value=strInfEcrRepositoryUri, overwrite=True)\n",
    "pm.put_params(key=\"-\".join([prefix, \"S3-DATA-PATH\"]), value=f\"s3://{bucket_name}/{prefix}/data\", overwrite=True)\n",
    "pm.put_params(key=\"-\".join([prefix, \"CODE_REPO\"]), value=codecommit_repo.replace('https://',''), overwrite=True)  ## https:// 있을 경우 입력 못함\n",
    "pm.put_params(key=\"-\".join([prefix, \"CODECOMMIT-USERNAME\"]), value=ServiceUserName, overwrite=True, enc=True)\n",
    "pm.put_params(key=\"-\".join([prefix, \"CODECOMMIT-PWD\"]), value=ServicePassword, overwrite=True, enc=True)\n",
    "pm.put_params(key=\"-\".join([prefix, \"PRETRAINED-WEIGHT\"]), value=pretrained_s3uri, overwrite=True)\n",
    "pm.put_params(key=\"-\".join([prefix, \"RETRAIN\"]), value=False, overwrite=True)"
   ]
  },
  {
   "cell_type": "code",
   "execution_count": 127,
   "id": "7b3f10d7-7a58-4249-a160-076e4bb19bdc",
   "metadata": {
    "tags": []
   },
   "outputs": [
    {
     "name": "stdout",
     "output_type": "stream",
     "text": [
      "PREFIX: nemo-asr\n",
      "REGION: ap-northeast-2\n",
      "BUCKET: sm-nemo-bucket\n",
      "AGEMAKER-ROLE-ARN: arn:aws:iam::419974056037:role/service-role/AmazonSageMaker-ExecutionRole-20221206T163436\n",
      "ACCOUNT-ID: 419974056037\n",
      "IMAGE-URI: 419974056037.dkr.ecr.ap-northeast-2.amazonaws.com/nemo-test-training\n",
      "INF-IMAGE-URI: 419974056037.dkr.ecr.ap-northeast-2.amazonaws.com/nemo-test-inference\n",
      "S3-DATA-PATH: s3://sm-nemo-bucket/nemo-asr/data\n",
      "CODE_REPO: git-codecommit.ap-northeast-2.amazonaws.com/v1/repos/nemo-code\n",
      "CODECOMMIT-USERNAME: AQICAHjFzhQy64RiT2kLIfWwY+jSgA3nnCm2+lidS9TmTKjDHQGzUb6tR0TitTnjZkn+fCWzAAAAdTBzBgkqhkiG9w0BBwagZjBkAgEAMF8GCSqGSIb3DQEHATAeBglghkgBZQMEAS4wEQQMvhlEQa51kVbtilFzAgEQgDIpJ/BoPP4WHy3zpaIUIkqWBDitnbpz+2ZDD8JuuQ4VyNx0yqIeqbvtwCJYFgZ8WOR0gw==\n",
      "CODECOMMIT-PWD: AQICAHjFzhQy64RiT2kLIfWwY+jSgA3nnCm2+lidS9TmTKjDHQErnhp2aM8AOSWpFS5RVoLtAAAAizCBiAYJKoZIhvcNAQcGoHsweQIBADB0BgkqhkiG9w0BBwEwHgYJYIZIAWUDBAEuMBEEDEI973jpgN0rVldTEgIBEIBH4f4Ct+L8qR1xSLUSYkf369CyAMuFCXWHZsSj/7rt7xdCXrY8cwxlp6LjtJ+F4zaPsa/HiHbAyxX1LDLIQF+L+CKEP4M+p8A=\n",
      "PRETRAINED-WEIGHT: s3://sm-nemo-bucket/nemo-asr/pretrained\n",
      "RETRAIN: False\n"
     ]
    }
   ],
   "source": [
    "print (f'PREFIX: {pm.get_params(key=\"PREFIX\")}')\n",
    "print (f'REGION: {pm.get_params(key=\"-\".join([prefix, \"REGION\"]))}')\n",
    "print (f'BUCKET: {pm.get_params(key=\"-\".join([prefix, \"BUCKET\"]))}')\n",
    "print (f'SAGEMAKER-ROLE-ARN: {pm.get_params(key=\"-\".join([prefix, \"SAGEMAKER-ROLE-ARN\"]))}')\n",
    "print (f'ACCOUNT-ID: {pm.get_params(key=\"-\".join([prefix, \"ACCOUNT-ID\"]))}')\n",
    "print (f'IMAGE-URI: {pm.get_params(key=\"-\".join([prefix, \"IMAGE-URI\"]))}')\n",
    "print (f'INF-IMAGE-URI: {pm.get_params(key=\"-\".join([prefix, \"INF-IMAGE-URI\"]))}')\n",
    "print (f'S3-DATA-PATH: {pm.get_params(key=\"-\".join([prefix, \"S3-DATA-PATH\"]))}')\n",
    "print (f'CODE_REPO: {pm.get_params(key=\"-\".join([prefix, \"CODE_REPO\"]))}')\n",
    "print (f'CODECOMMIT-USERNAME: {pm.get_params(key=\"-\".join([prefix, \"CODECOMMIT-USERNAME\"]), enc=False)}')\n",
    "print (f'CODECOMMIT-PWD: {pm.get_params(key=\"-\".join([prefix, \"CODECOMMIT-PWD\"]), enc=False)}')\n",
    "print (f'PRETRAINED-WEIGHT: {pm.get_params(key=\"-\".join([prefix, \"PRETRAINED-WEIGHT\"]))}')\n",
    "print (f'RETRAIN: {pm.get_params(key=\"-\".join([prefix, \"RETRAIN\"]))}')"
   ]
  },
  {
   "cell_type": "code",
   "execution_count": 182,
   "id": "5cb42378-20ce-458b-a0ae-a8674efd361d",
   "metadata": {
    "tags": []
   },
   "outputs": [
    {
     "data": {
      "text/plain": [
       "'nemo-asr'"
      ]
     },
     "execution_count": 182,
     "metadata": {},
     "output_type": "execute_result"
    }
   ],
   "source": [
    "prefix"
   ]
  },
  {
   "cell_type": "code",
   "execution_count": 183,
   "id": "01cb3c6b-662b-4d81-8b6c-45a301427200",
   "metadata": {
    "tags": []
   },
   "outputs": [
    {
     "data": {
      "text/plain": [
       "'Store suceess'"
      ]
     },
     "execution_count": 183,
     "metadata": {},
     "output_type": "execute_result"
    }
   ],
   "source": [
    "pm.put_params(key=\"-\".join([prefix, \"RETRAIN\"]), value=True, overwrite=True)"
   ]
  },
  {
   "cell_type": "code",
   "execution_count": 179,
   "id": "24df1dfa-bb31-4e78-85ef-8e615617c378",
   "metadata": {
    "tags": []
   },
   "outputs": [
    {
     "data": {
      "text/plain": [
       "{'pipelineExecutionId': '288d7208-6227-4a50-b41f-f77fca43467d',\n",
       " 'ResponseMetadata': {'RequestId': '5ad34bf4-19c8-4ec8-86a8-69622fa31d23',\n",
       "  'HTTPStatusCode': 200,\n",
       "  'HTTPHeaders': {'x-amzn-requestid': '5ad34bf4-19c8-4ec8-86a8-69622fa31d23',\n",
       "   'date': 'Tue, 21 Mar 2023 08:16:03 GMT',\n",
       "   'content-type': 'application/x-amz-json-1.1',\n",
       "   'content-length': '62'},\n",
       "  'RetryAttempts': 0}}"
      ]
     },
     "execution_count": 179,
     "metadata": {},
     "output_type": "execute_result"
    }
   ],
   "source": [
    "import boto3\n",
    "pipeline_client = boto3.client('codepipeline')\n",
    "code_pipeline_name = \"sagemaker-LGE-RAMP-p-fh5pjwuynkob-modelbuild\"\n",
    "pipeline_client.start_pipeline_execution(name=code_pipeline_name)"
   ]
  },
  {
   "cell_type": "code",
   "execution_count": 181,
   "id": "2bebcc35-af18-4013-9586-3dffe5af37ef",
   "metadata": {
    "tags": []
   },
   "outputs": [
    {
     "data": {
      "text/plain": [
       "'nemo-asr'"
      ]
     },
     "execution_count": 181,
     "metadata": {},
     "output_type": "execute_result"
    }
   ],
   "source": [
    "pm.get_params(key=\"PREFIX\")"
   ]
  },
  {
   "cell_type": "code",
   "execution_count": 184,
   "id": "a17f0bca-7ddc-4afd-968e-7dd70f0e008d",
   "metadata": {
    "tags": []
   },
   "outputs": [
    {
     "data": {
      "text/plain": [
       "'False'"
      ]
     },
     "execution_count": 184,
     "metadata": {},
     "output_type": "execute_result"
    }
   ],
   "source": [
    "pm.get_params(key=\"-\".join([prefix, \"RETRAIN\"]))"
   ]
  },
  {
   "cell_type": "code",
   "execution_count": null,
   "id": "a8bb59b3-1412-430f-bc75-0f2cea44cd18",
   "metadata": {},
   "outputs": [],
   "source": []
  }
 ],
 "metadata": {
  "instance_type": "ml.t3.medium",
  "kernelspec": {
   "display_name": "conda_pytorch_p39",
   "language": "python",
   "name": "conda_pytorch_p39"
  },
  "language_info": {
   "codemirror_mode": {
    "name": "ipython",
    "version": 3
   },
   "file_extension": ".py",
   "mimetype": "text/x-python",
   "name": "python",
   "nbconvert_exporter": "python",
   "pygments_lexer": "ipython3",
   "version": "3.9.15"
  },
  "vscode": {
   "interpreter": {
    "hash": "1f4a227f2552de404565d6626d9115986c409361ad6ef0bf195ad88ccd012b73"
   }
  }
 },
 "nbformat": 4,
 "nbformat_minor": 5
}
