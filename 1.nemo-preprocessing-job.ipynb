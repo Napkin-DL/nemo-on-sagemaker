{
 "cells": [
  {
   "cell_type": "markdown",
   "id": "cb60aea8-54a9-4cf8-9cff-5f9b2043036b",
   "metadata": {},
   "source": [
    "# <B> Preprocessing </B>\n",
    "* Container: codna_python3"
   ]
  },
  {
   "cell_type": "markdown",
   "id": "6dc511d5-62aa-404b-9fbd-0f1a59446926",
   "metadata": {},
   "source": [
    "## AutoReload"
   ]
  },
  {
   "cell_type": "code",
   "execution_count": 1,
   "id": "51b06f10-985d-4077-b729-e484c814f6b0",
   "metadata": {
    "tags": []
   },
   "outputs": [],
   "source": [
    "%load_ext autoreload\n",
    "%autoreload 2"
   ]
  },
  {
   "cell_type": "markdown",
   "id": "84ecd6e6-2939-4712-b342-136d077100a9",
   "metadata": {},
   "source": [
    "## 1. parameter store 셋팅"
   ]
  },
  {
   "cell_type": "code",
   "execution_count": 2,
   "id": "0ba446e0-448f-4e07-9d5a-225c16bde8cb",
   "metadata": {
    "tags": []
   },
   "outputs": [],
   "source": [
    "import boto3\n",
    "from utils.ssm import parameter_store"
   ]
  },
  {
   "cell_type": "code",
   "execution_count": 3,
   "id": "22a09c09-735c-416e-b229-2d0a84bd458a",
   "metadata": {
    "tags": []
   },
   "outputs": [],
   "source": [
    "strRegionName=boto3.Session().region_name\n",
    "pm = parameter_store(strRegionName)\n",
    "prefix = pm.get_params(key=\"PREFIX\")"
   ]
  },
  {
   "cell_type": "markdown",
   "id": "82fcf66a-7690-4ee7-bc5c-ecab6d254e84",
   "metadata": {},
   "source": [
    "## 2.Processing-job for preprocessing"
   ]
  },
  {
   "cell_type": "code",
   "execution_count": 5,
   "id": "31244e49-1ef6-44b0-aa9a-8c279e3e9093",
   "metadata": {
    "tags": []
   },
   "outputs": [],
   "source": [
    "import os\n",
    "import wget\n",
    "import sagemaker\n",
    "from sagemaker.pytorch.estimator import PyTorch\n",
    "from sagemaker.workflow.execution_variables import ExecutionVariables\n",
    "from sagemaker.processing import ProcessingInput, ProcessingOutput, FrameworkProcessor"
   ]
  },
  {
   "cell_type": "code",
   "execution_count": 6,
   "id": "2bbbaf9d-8675-4496-b384-f26997a32989",
   "metadata": {
    "tags": []
   },
   "outputs": [
    {
     "data": {
      "text/plain": [
       "'/home/ec2-user/SageMaker/nemo-on-sagemaker/data'"
      ]
     },
     "execution_count": 6,
     "metadata": {},
     "output_type": "execute_result"
    }
   ],
   "source": [
    "os.path.join(os.getcwd(), \"data\")"
   ]
  },
  {
   "cell_type": "markdown",
   "id": "fef44376-e6ac-43c2-b9e4-e18adb65a2ec",
   "metadata": {},
   "source": [
    "* params for processing job"
   ]
  },
  {
   "cell_type": "code",
   "execution_count": 7,
   "id": "4e5789a5-57b6-4a7e-81bc-188e23c28b06",
   "metadata": {
    "tags": []
   },
   "outputs": [
    {
     "name": "stdout",
     "output_type": "stream",
     "text": [
      "instance-type: ml.m5.xlarge\n",
      "image-uri: 419974056037.dkr.ecr.ap-northeast-2.amazonaws.com/nemo-image:latest\n",
      "role: arn:aws:iam::419974056037:role/service-role/AmazonSageMaker-ExecutionRole-20221206T163436\n",
      "bucket: sm-nemo-bucket\n",
      "dataset-path: s3://sm-nemo-bucket/data\n",
      "sagemaker_session: <sagemaker.session.Session object at 0x7f0b14e279a0>\n"
     ]
    }
   ],
   "source": [
    "local_mode = False\n",
    "\n",
    "if local_mode: \n",
    "    instance_type = 'local'\n",
    "    \n",
    "    import os\n",
    "    from sagemaker.local import LocalSession\n",
    "    \n",
    "    sagemaker_session.config = {'local': {'local_code': True}}\n",
    "    data_path = os.path.join(os.getcwd(), \"data\")\n",
    "    \n",
    "else:\n",
    "    instance_type = \"ml.m5.xlarge\"\n",
    "    sagemaker_session = sagemaker.Session()\n",
    "    data_path = pm.get_params(key=prefix + 'S3-DATA-PATH')\n",
    "    \n",
    "print (f\"instance-type: {instance_type}\")\n",
    "print (f\"image-uri: {pm.get_params(key=''.join([prefix, 'IMAGE-URI']))}\")\n",
    "print (f\"role: {pm.get_params(key=prefix + 'SAGEMAKER-ROLE-ARN')}\")\n",
    "print (f\"bucket: {pm.get_params(key=prefix + 'BUCKET')}\")\n",
    "print (f\"dataset-path: {data_path}\")\n",
    "print (f\"sagemaker_session: {sagemaker_session}\")"
   ]
  },
  {
   "cell_type": "markdown",
   "id": "5b1d1a28-03f1-4f00-ad79-5786b15b0d46",
   "metadata": {},
   "source": [
    "* Define processing job"
   ]
  },
  {
   "cell_type": "code",
   "execution_count": 24,
   "id": "f75ec691-0a7c-450f-9c6f-dfa75f44d22c",
   "metadata": {
    "tags": []
   },
   "outputs": [],
   "source": [
    "dataset_processor = FrameworkProcessor(\n",
    "    estimator_cls=PyTorch,\n",
    "    framework_version=None,\n",
    "    image_uri=pm.get_params(key=''.join([prefix, \"IMAGE-URI\"])),\n",
    "    instance_type=instance_type,\n",
    "    instance_count=1,\n",
    "    role=pm.get_params(key=prefix + \"SAGEMAKER-ROLE-ARN\"),\n",
    "    base_job_name=\"preprocessing\", # bucket에 보이는 이름 (pipeline으로 묶으면 pipeline에서 정의한 이름으로 bucket에 보임)\n",
    "    sagemaker_session=sagemaker_session\n",
    ")\n",
    "\n",
    "proc_prefix = \"/opt/ml/processing\"\n",
    "\n",
    "output_path = os.path.join(\n",
    "    \"s3://{}\".format(pm.get_params(key=prefix + \"BUCKET\")),\n",
    "    \"preprocessing\",\n",
    "    \"data\"\n",
    ")"
   ]
  },
  {
   "cell_type": "code",
   "execution_count": 25,
   "id": "8cfa4f86-9bb8-47cb-8ca5-e318c0470836",
   "metadata": {
    "tags": []
   },
   "outputs": [
    {
     "name": "stderr",
     "output_type": "stream",
     "text": [
      "INFO:sagemaker.processing:Uploaded ./an4_nemo_sagemaker/code/preprocessing/ to s3://sagemaker-ap-northeast-2-419974056037/preprocessing-2023-03-16-09-22-00-721/source/sourcedir.tar.gz\n",
      "INFO:sagemaker.processing:runproc.sh uploaded to s3://sagemaker-ap-northeast-2-419974056037/preprocessing-2023-03-16-09-22-00-721/source/runproc.sh\n",
      "INFO:sagemaker:Creating processing-job with name preprocessing-2023-03-16-09-22-00-721\n"
     ]
    },
    {
     "name": "stdout",
     "output_type": "stream",
     "text": [
      ".............................................\u001b[34mReceived arguments Namespace(proc_prefix='/opt/ml/processing', region='ap-northeast-2', train_mount_dir='/opt/ml/input/data/training/', test_mount_dir='/opt/ml/input/data/testing/')\u001b[0m\n",
      "\u001b[34mConverting .sph to .wav...\u001b[0m\n",
      "\u001b[34mFinished conversion.\u001b[0m\n",
      "\u001b[34m******\u001b[0m\n",
      "\u001b[34m******\u001b[0m\n",
      "\u001b[34mTraining manifest created.\u001b[0m\n",
      "\u001b[34mTest manifest created.\u001b[0m\n",
      "\u001b[34m***Done***\u001b[0m\n",
      "\u001b[34mdata_dir ['entrypoint', 'code', 'an4']\u001b[0m\n",
      "\u001b[34mself.output_dir ['an4']\u001b[0m\n",
      "\n"
     ]
    }
   ],
   "source": [
    "dataset_processor.run(\n",
    "    #job_name=\"preprocessing\", ## 이걸 넣어야 캐시가 작동함, 안그러면 프로세서의 base_job_name 이름뒤에 날짜 시간이 붙어서 캐시 동작 안함\n",
    "    code='./preprocessing.py', #소스 디렉토리 안에서 파일 path\n",
    "    source_dir=\"./an4_nemo_sagemaker/code/preprocessing/\", #현재 파일에서 소스 디렉토리 상대경로 # add processing.py and requirements.txt here\n",
    "    inputs=[\n",
    "        ProcessingInput(\n",
    "            input_name=\"input-data\",\n",
    "            source=data_path,\n",
    "            destination=os.path.join(proc_prefix, \"input\")\n",
    "        ),\n",
    "    ],\n",
    "    outputs=[       \n",
    "        ProcessingOutput(\n",
    "            output_name=\"output-data\",\n",
    "            source=os.path.join(proc_prefix, \"output\"),\n",
    "            destination=output_path\n",
    "        ),\n",
    "    ],\n",
    "    arguments=[\"--proc_prefix\", proc_prefix, \"--region\", strRegionName , \\\n",
    "               \"--train_mount_dir\", \"/opt/ml/input/data/training/\", \\\n",
    "               \"--test_mount_dir\", \"/opt/ml/input/data/testing/\"],\n",
    ")"
   ]
  },
  {
   "cell_type": "code",
   "execution_count": null,
   "id": "e3328b4c-e16d-4042-aa81-d2ac611b8efe",
   "metadata": {
    "tags": []
   },
   "outputs": [],
   "source": [
    "pm.put_params(key=\"\".join([prefix, \"PREP-DATA-PATH\"]), value=output_path, overwrite=True)"
   ]
  },
  {
   "cell_type": "code",
   "execution_count": 14,
   "id": "b782c61a-399a-4d7d-9bac-4158a467c39d",
   "metadata": {
    "tags": []
   },
   "outputs": [],
   "source": [
    "\n",
    "from distutils.dir_util import copy_tree\n"
   ]
  },
  {
   "cell_type": "code",
   "execution_count": 18,
   "id": "bda7dd53-dfdc-4101-ab40-fe029be4d766",
   "metadata": {
    "tags": []
   },
   "outputs": [
    {
     "data": {
      "text/plain": [
       "'/home/ec2-user/SageMaker/nemo-on-sagemaker'"
      ]
     },
     "execution_count": 18,
     "metadata": {},
     "output_type": "execute_result"
    }
   ],
   "source": [
    "pwd()"
   ]
  },
  {
   "cell_type": "code",
   "execution_count": 26,
   "id": "d9627742-4527-42bc-b65b-46aa3e9f942a",
   "metadata": {
    "tags": []
   },
   "outputs": [
    {
     "ename": "NameError",
     "evalue": "name '__file__' is not defined",
     "output_type": "error",
     "traceback": [
      "\u001b[0;31m---------------------------------------------------------------------------\u001b[0m",
      "\u001b[0;31mNameError\u001b[0m                                 Traceback (most recent call last)",
      "\u001b[0;32m/tmp/ipykernel_24953/2806449282.py\u001b[0m in \u001b[0;36m<cell line: 1>\u001b[0;34m()\u001b[0m\n\u001b[0;32m----> 1\u001b[0;31m \u001b[0mos\u001b[0m\u001b[0;34m.\u001b[0m\u001b[0mpath\u001b[0m\u001b[0;34m.\u001b[0m\u001b[0mdirname\u001b[0m\u001b[0;34m(\u001b[0m\u001b[0mos\u001b[0m\u001b[0;34m.\u001b[0m\u001b[0mpath\u001b[0m\u001b[0;34m.\u001b[0m\u001b[0mrealpath\u001b[0m\u001b[0;34m(\u001b[0m\u001b[0m__file__\u001b[0m\u001b[0;34m)\u001b[0m\u001b[0;34m)\u001b[0m\u001b[0;34m\u001b[0m\u001b[0;34m\u001b[0m\u001b[0m\n\u001b[0m",
      "\u001b[0;31mNameError\u001b[0m: name '__file__' is not defined"
     ]
    }
   ],
   "source": [
    "os.path.dirname(os.path.realpath(__file__))"
   ]
  },
  {
   "cell_type": "code",
   "execution_count": null,
   "id": "a95f78eb-28f8-4084-800a-00bdd9657a40",
   "metadata": {},
   "outputs": [],
   "source": []
  }
 ],
 "metadata": {
  "kernelspec": {
   "display_name": "conda_pytorch_p39",
   "language": "python",
   "name": "conda_pytorch_p39"
  },
  "language_info": {
   "codemirror_mode": {
    "name": "ipython",
    "version": 3
   },
   "file_extension": ".py",
   "mimetype": "text/x-python",
   "name": "python",
   "nbconvert_exporter": "python",
   "pygments_lexer": "ipython3",
   "version": "3.9.15"
  }
 },
 "nbformat": 4,
 "nbformat_minor": 5
}
