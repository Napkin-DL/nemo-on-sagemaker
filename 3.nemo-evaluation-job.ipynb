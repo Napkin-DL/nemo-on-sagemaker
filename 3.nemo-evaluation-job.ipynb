{
 "cells": [
  {
   "cell_type": "markdown",
   "id": "cb60aea8-54a9-4cf8-9cff-5f9b2043036b",
   "metadata": {},
   "source": [
    "# <B> Evaluation </B>\n",
    "* Container: codna_pytorch_py39"
   ]
  },
  {
   "cell_type": "markdown",
   "id": "6dc511d5-62aa-404b-9fbd-0f1a59446926",
   "metadata": {},
   "source": [
    "## AutoReload"
   ]
  },
  {
   "cell_type": "code",
   "execution_count": 1,
   "id": "51b06f10-985d-4077-b729-e484c814f6b0",
   "metadata": {
    "tags": []
   },
   "outputs": [],
   "source": [
    "%load_ext autoreload\n",
    "%autoreload 2"
   ]
  },
  {
   "cell_type": "markdown",
   "id": "84ecd6e6-2939-4712-b342-136d077100a9",
   "metadata": {},
   "source": [
    "## 1. parameter store 셋팅"
   ]
  },
  {
   "cell_type": "code",
   "execution_count": 2,
   "id": "0ba446e0-448f-4e07-9d5a-225c16bde8cb",
   "metadata": {
    "tags": []
   },
   "outputs": [],
   "source": [
    "import boto3\n",
    "from utils.ssm import parameter_store"
   ]
  },
  {
   "cell_type": "code",
   "execution_count": 3,
   "id": "22a09c09-735c-416e-b229-2d0a84bd458a",
   "metadata": {
    "tags": []
   },
   "outputs": [],
   "source": [
    "strRegionName=boto3.Session().region_name\n",
    "pm = parameter_store(strRegionName)\n",
    "prefix = pm.get_params(key=\"PREFIX\")"
   ]
  },
  {
   "cell_type": "markdown",
   "id": "82fcf66a-7690-4ee7-bc5c-ecab6d254e84",
   "metadata": {},
   "source": [
    "## 2.Processing-job for evaluation"
   ]
  },
  {
   "cell_type": "code",
   "execution_count": 4,
   "id": "31244e49-1ef6-44b0-aa9a-8c279e3e9093",
   "metadata": {
    "tags": []
   },
   "outputs": [],
   "source": [
    "import os\n",
    "import sagemaker\n",
    "from sagemaker.pytorch.estimator import PyTorch\n",
    "from sagemaker.workflow.execution_variables import ExecutionVariables\n",
    "from sagemaker.processing import ProcessingInput, ProcessingOutput, FrameworkProcessor"
   ]
  },
  {
   "cell_type": "markdown",
   "id": "ca29aeed-2e97-46eb-9b8f-9a6d7e705057",
   "metadata": {
    "tags": []
   },
   "source": [
    "* **Set Up SageMaker Experiment**\n",
    "    - Create or load [SageMaker Experiment](https://docs.aws.amazon.com/sagemaker/latest/dg/experiments.html) for the example training job. This will create an experiment trial object in SageMaker."
   ]
  },
  {
   "cell_type": "markdown",
   "id": "fef44376-e6ac-43c2-b9e4-e18adb65a2ec",
   "metadata": {},
   "source": [
    "* params for processing job"
   ]
  },
  {
   "cell_type": "code",
   "execution_count": 24,
   "id": "addb70d1-0a55-4f86-ae53-9beec538f023",
   "metadata": {
    "tags": []
   },
   "outputs": [],
   "source": [
    "from time import strftime\n",
    "from smexperiments.trial import Trial\n",
    "from smexperiments.experiment import Experiment"
   ]
  },
  {
   "cell_type": "code",
   "execution_count": 25,
   "id": "58fff36e-b3aa-4684-a67a-fde9ae3b11ad",
   "metadata": {
    "tags": []
   },
   "outputs": [],
   "source": [
    "def create_experiment(experiment_name):\n",
    "    try:\n",
    "        sm_experiment = Experiment.load(experiment_name)\n",
    "    except:\n",
    "        sm_experiment = Experiment.create(experiment_name=experiment_name)"
   ]
  },
  {
   "cell_type": "code",
   "execution_count": 26,
   "id": "5c43996d-e5f7-4fbd-992b-36f732f18e4f",
   "metadata": {
    "tags": []
   },
   "outputs": [],
   "source": [
    "def create_trial(experiment_name):\n",
    "    create_date = strftime(\"%m%d-%H%M%s\")\n",
    "    sm_trial = Trial.create(trial_name=f'{experiment_name}-{create_date}',\n",
    "                            experiment_name=experiment_name)\n",
    "\n",
    "    job_name = f'{sm_trial.trial_name}'\n",
    "    return job_name"
   ]
  },
  {
   "cell_type": "code",
   "execution_count": 71,
   "id": "4e5789a5-57b6-4a7e-81bc-188e23c28b06",
   "metadata": {
    "tags": []
   },
   "outputs": [
    {
     "name": "stdout",
     "output_type": "stream",
     "text": [
      "instance-type: ml.g4dn.xlarge\n",
      "image-uri: 419974056037.dkr.ecr.ap-northeast-2.amazonaws.com/nemo-image:latest\n",
      "role: arn:aws:iam::419974056037:role/service-role/AmazonSageMaker-ExecutionRole-20221206T163436\n",
      "bucket: sm-nemo-bucket\n",
      "model-path: s3://sm-nemo-bucket/training/model-output/SM-NeMo-nemo-exp1-0316-14541678978443/model.tar.gz\n",
      "preprocessing-data-path: s3://sm-nemo-bucket/preprocessing/data\n",
      "model_artifact_s3_uri: s3://sm-nemo-bucket/training/model-output/SM-NeMo-nemo-exp1-0316-14541678978443\n",
      "test_manifest_s3_path: s3://sm-nemo-bucket/preprocessing/data/an4/test_manifest.json\n",
      "wav_s3_uri: s3://sm-nemo-bucket/preprocessing/data/an4/wav\n",
      "eval_output_s3_uri: s3://sm-nemo-bucket/evaluation/output/eval_output\n",
      "data_dir: s3://sm-nemo-bucket/data\n",
      "sagemaker_session: <sagemaker.session.Session object at 0x7f35689f0250>\n"
     ]
    }
   ],
   "source": [
    "local_mode = False\n",
    "\n",
    "if local_mode: \n",
    "    instance_type = 'local'\n",
    "    \n",
    "    import os\n",
    "    from sagemaker.local import LocalSession\n",
    "    from nemo.utils.notebook_utils import download_an4\n",
    "    \n",
    "    sagemaker_session = LocalSession()\n",
    "    sagemaker_session.config = {'local': {'local_code': True}}\n",
    "\n",
    "    data_path = os.getcwd() + \"/data-tmp\"\n",
    "    download_an4(\n",
    "        data_dir=data_path,\n",
    "        train_mount_dir=\"/opt/ml/input/data/training/\",\n",
    "        test_mount_dir=\"/opt/ml/input/data/testing/\",\n",
    "    )\n",
    "    \n",
    "else:\n",
    "    instance_type = \"ml.g4dn.xlarge\"\n",
    "    sagemaker_session = sagemaker.Session()\n",
    "    data_path = pm.get_params(key=prefix + 'S3-DATA-PATH')\n",
    "    \n",
    "model_artifact_s3_uri = pm.get_params(key=prefix + 'MODEL-PATH').rsplit(\"/\", 1)[0]\n",
    "test_manifest_s3_path = os.path.join(pm.get_params(key=prefix + 'PREP-DATA-PATH'), \"an4\", \"test_manifest.json\")\n",
    "wav_s3_uri = os.path.join(pm.get_params(key=prefix + 'PREP-DATA-PATH'), \"an4\", \"wav\")\n",
    "eval_output_s3_uri = os.path.join(\"s3://\", pm.get_params(key=prefix + 'BUCKET'), \"evaluation\", \"output\", \"eval_output\")\n",
    "\n",
    "code_location= os.path.join(\n",
    "    \"s3://{}\".format(pm.get_params(key=prefix + \"BUCKET\")),\n",
    "    \"evaluation\",\n",
    "    \"backup_codes\"\n",
    ")\n",
    "    \n",
    "print (f\"instance-type: {instance_type}\")\n",
    "print (f\"image-uri: {pm.get_params(key=''.join([prefix, 'IMAGE-URI']))}\")\n",
    "print (f\"role: {pm.get_params(key=prefix + 'SAGEMAKER-ROLE-ARN')}\")\n",
    "print (f\"bucket: {pm.get_params(key=prefix + 'BUCKET')}\")\n",
    "print (f\"model-path: {pm.get_params(key=prefix + 'MODEL-PATH')}\")\n",
    "print (f\"preprocessing-data-path: {pm.get_params(key=prefix + 'PREP-DATA-PATH')}\")\n",
    "\n",
    "print (f\"model_artifact_s3_uri: {model_artifact_s3_uri}\")\n",
    "print (f\"test_manifest_s3_path: {test_manifest_s3_path}\")\n",
    "print (f\"wav_s3_uri: {wav_s3_uri}\")\n",
    "print (f\"eval_output_s3_uri: {eval_output_s3_uri}\")\n",
    "\n",
    "print (f\"data_dir: {data_path}\")\n",
    "\n",
    "print (f\"sagemaker_session: {sagemaker_session}\")"
   ]
  },
  {
   "cell_type": "markdown",
   "id": "5b1d1a28-03f1-4f00-ad79-5786b15b0d46",
   "metadata": {},
   "source": [
    "* Define processing job"
   ]
  },
  {
   "cell_type": "code",
   "execution_count": 72,
   "id": "f81731ba-391a-411e-b30b-56b3d4cabf61",
   "metadata": {
    "tags": []
   },
   "outputs": [],
   "source": [
    "eval_processor = FrameworkProcessor(\n",
    "    estimator_cls=PyTorch,\n",
    "    framework_version=\"1.13.1\",\n",
    "    role=pm.get_params(key=prefix + \"SAGEMAKER-ROLE-ARN\"), \n",
    "    image_uri=pm.get_params(key=''.join([prefix, \"IMAGE-URI\"])),\n",
    "    instance_count=1,\n",
    "    instance_type=instance_type,\n",
    "    code_location=code_location,\n",
    "    env={\n",
    "        'TEST_MANIFEST_PATH': '/opt/ml/input/data/testing/an4/wav', \n",
    "        'WAV_PATH' : '/opt/ml/processing/input/wav'\n",
    "        }\n",
    "    )"
   ]
  },
  {
   "cell_type": "code",
   "execution_count": 74,
   "id": "432f4184-41c9-4104-8cb5-af5ea8581b80",
   "metadata": {
    "tags": []
   },
   "outputs": [
    {
     "name": "stderr",
     "output_type": "stream",
     "text": [
      "INFO:botocore.credentials:Found credentials from IAM Role: BaseNotebookInstanceEc2InstanceRole\n",
      "INFO:botocore.credentials:Found credentials from IAM Role: BaseNotebookInstanceEc2InstanceRole\n",
      "INFO:sagemaker.processing:Uploaded ./an4_nemo_sagemaker/code/evaluation/ to s3://sm-nemo-bucket/evaluation/backup_codes/SM-NeMo-nemo-exp1-0316-15351678980930/source/sourcedir.tar.gz\n",
      "INFO:sagemaker.processing:runproc.sh uploaded to s3://sm-nemo-bucket/evaluation/backup_codes/SM-NeMo-nemo-exp1-0316-15351678980930/source/runproc.sh\n",
      "INFO:sagemaker:Creating processing-job with name SM-NeMo-nemo-exp1-0316-15351678980930\n"
     ]
    },
    {
     "name": "stdout",
     "output_type": "stream",
     "text": [
      ".....................................\u001b[34m[NeMo W 2023-03-16 15:41:38 optimizers:66] Could not import distributed_fused_adam optimizer from Apex\u001b[0m\n",
      "\u001b[34m[NeMo W 2023-03-16 15:41:40 experimental:27] Module <class 'nemo.collections.asr.modules.audio_modules.SpectrogramToMultichannelFeatures'> is experimental, not ready for production and is not fully supported. Use at your own risk.\u001b[0m\n",
      "\u001b[34mcheckpoint_path : trained_model/Conformer-CTC-Char1/2023-03-16_14-54-47/checkpoints/Conformer-CTC-Char1--val_wer=1.0000-epoch=2-last.ckpt\u001b[0m\n",
      "\u001b[34m[NeMo W 2023-03-16 15:41:45 modelPT:161] If you intend to do training or fine-tuning, please call the ModelPT.setup_training_data() method and provide a valid configuration file to setup the train data loader.\n",
      "    Train config : \n",
      "    manifest_filepath: /opt/ml/input/data/training/an4/train_manifest.json\n",
      "    labels:\n",
      "    - ' '\n",
      "    - a\n",
      "    - b\n",
      "    - c\n",
      "    - d\n",
      "    - e\n",
      "    - f\n",
      "    - g\n",
      "    - h\n",
      "    - i\n",
      "    - j\n",
      "    - k\n",
      "    - l\n",
      "    - m\n",
      "    - 'n'\n",
      "    - o\n",
      "    - p\n",
      "    - q\n",
      "    - r\n",
      "    - s\n",
      "    - t\n",
      "    - u\n",
      "    - v\n",
      "    - w\n",
      "    - x\n",
      "    - 'y'\n",
      "    - z\n",
      "    - ''''\n",
      "    sample_rate: 16000\n",
      "    batch_size: 16\n",
      "    shuffle: true\n",
      "    num_workers: 8\n",
      "    pin_memory: true\n",
      "    trim_silence: false\n",
      "    max_duration: 16.7\n",
      "    min_duration: 0.1\n",
      "    is_tarred: false\n",
      "    tarred_audio_filepaths: null\n",
      "    shuffle_n: 2048\n",
      "    bucketing_strategy: synced_randomized\n",
      "    bucketing_batch_size: null\n",
      "    \u001b[0m\n",
      "\u001b[34m[NeMo W 2023-03-16 15:41:45 modelPT:168] If you intend to do validation, please call the ModelPT.setup_validation_data() or ModelPT.setup_multiple_validation_data() method and provide a valid configuration file to setup the validation data loader(s). \n",
      "    Validation config : \n",
      "    manifest_filepath: /opt/ml/input/data/testing/an4/test_manifest.json\n",
      "    labels:\n",
      "    - ' '\n",
      "    - a\n",
      "    - b\n",
      "    - c\n",
      "    - d\n",
      "    - e\n",
      "    - f\n",
      "    - g\n",
      "    - h\n",
      "    - i\n",
      "    - j\n",
      "    - k\n",
      "    - l\n",
      "    - m\n",
      "    - 'n'\n",
      "    - o\n",
      "    - p\n",
      "    - q\n",
      "    - r\n",
      "    - s\n",
      "    - t\n",
      "    - u\n",
      "    - v\n",
      "    - w\n",
      "    - x\n",
      "    - 'y'\n",
      "    - z\n",
      "    - ''''\n",
      "    sample_rate: 16000\n",
      "    batch_size: 16\n",
      "    shuffle: false\n",
      "    num_workers: 8\n",
      "    pin_memory: true\n",
      "    \u001b[0m\n",
      "\u001b[34m[NeMo W 2023-03-16 15:41:45 modelPT:174] Please call the ModelPT.setup_test_data() or ModelPT.setup_multiple_test_data() method and provide a valid configuration file to setup the test data loader(s).\n",
      "    Test config : \n",
      "    manifest_filepath: null\n",
      "    labels:\n",
      "    - ' '\n",
      "    - a\n",
      "    - b\n",
      "    - c\n",
      "    - d\n",
      "    - e\n",
      "    - f\n",
      "    - g\n",
      "    - h\n",
      "    - i\n",
      "    - j\n",
      "    - k\n",
      "    - l\n",
      "    - m\n",
      "    - 'n'\n",
      "    - o\n",
      "    - p\n",
      "    - q\n",
      "    - r\n",
      "    - s\n",
      "    - t\n",
      "    - u\n",
      "    - v\n",
      "    - w\n",
      "    - x\n",
      "    - 'y'\n",
      "    - z\n",
      "    - ''''\n",
      "    sample_rate: 16000\n",
      "    batch_size: 16\n",
      "    shuffle: false\n",
      "    num_workers: 8\n",
      "    pin_memory: true\n",
      "    \u001b[0m\n",
      "\u001b[34m[NeMo I 2023-03-16 15:41:45 features:287] PADDING: 0\u001b[0m\n",
      "\u001b[34m[NeMo I 2023-03-16 15:41:45 ctc_models:64] \n",
      "    Replacing placeholder number of classes (-1) with actual number of classes - 28\u001b[0m\n",
      "\u001b[34m[NeMo I 2023-03-16 15:41:45 conv_asr:428] num_classes of ConvASRDecoder is set to the size of the vocabulary: 28.\u001b[0m\n",
      "\u001b[34m#015Reading manifest data: 0it [00:00, ?it/s]#015Reading manifest data: 130it [00:00, 42541.90it/s]\u001b[0m\n",
      "\u001b[34m#015Applying change_dir:   0%|          | 0/130 [00:00<?, ?it/s]#015Applying change_dir: 100%|██████████| 130/130 [00:00<00:00, 808990.39it/s]\u001b[0m\n",
      "\u001b[34mFinished processing manifest !\u001b[0m\n",
      "\u001b[34m#015Writing manifest data:   0%|          | 0/130 [00:00<?, ?it/s]#015Writing manifest data: 100%|██████████| 130/130 [00:00<00:00, 221830.56it/s]\u001b[0m\n",
      "\u001b[34mFinished writing manifest: /opt/ml/processing/evaluation/eval_test_manifest_processed.json\u001b[0m\n",
      "\u001b[34m[NeMo I 2023-03-16 15:41:47 collections:193] Dataset loaded with 130 files totalling 0.10 hours\u001b[0m\n",
      "\u001b[34m[NeMo I 2023-03-16 15:41:47 collections:194] 0 files were filtered totalling 0.00 hours\u001b[0m\n",
      "\u001b[34m[NeMo W 2023-03-16 15:41:47 nemo_logging:349] /opt/conda/lib/python3.9/site-packages/torch/utils/data/dataloader.py:556: UserWarning: This DataLoader will create 8 worker processes in total. Our suggested max number of worker in current system is 4, which is smaller than what this DataLoader is going to create. Please be aware that excessive worker creation might get DataLoader running slow or even freeze, lower the worker number to avoid potential slowness/freeze if necessary.\n",
      "      warnings.warn(_create_warning_msg(\n",
      "    \u001b[0m\n",
      "\u001b[34m[2023-03-16 15:41:47.986: W smdistributed/modelparallel/torch/nn/predefined_hooks.py:78] Found unsupported HuggingFace version 4.28.0.dev0 for automated tensor parallelism. HuggingFace modules will not be automatically distributed. You can use smp.tp_register_with_module API to register desired modules for tensor parallelism, or directly instantiate an smp.nn.DistributedModule. Supported HuggingFace transformers versions for automated tensor parallelism: ['4.17.0', '4.20.1', '4.21.0']\u001b[0m\n",
      "\u001b[34mUsing NamedTuple = typing._NamedTuple instead.\u001b[0m\n",
      "\u001b[34m[2023-03-16 15:41:48.016 ip-10-0-182-154.ap-northeast-2.compute.internal:9 INFO utils.py:28] RULE_JOB_STOP_SIGNAL_FILENAME: None\u001b[0m\n",
      "\u001b[34m[2023-03-16 15:41:48.037 ip-10-0-182-154.ap-northeast-2.compute.internal:9 INFO profiler_config_parser.py:111] Unable to find config at /opt/ml/input/config/profilerconfig.json. Profiler is disabled.\u001b[0m\n",
      "\u001b[34m[NeMo I 2023-03-16 15:41:50 wer:1168] \n",
      "    \u001b[0m\n",
      "\u001b[34m[NeMo I 2023-03-16 15:41:50 wer:1169] reference:rubout g m e f three nine\u001b[0m\n",
      "\u001b[34m[NeMo I 2023-03-16 15:41:50 wer:1170] predicted:\u001b[0m\n",
      "\u001b[34m[NeMo I 2023-03-16 15:41:50 wer:1168] \n",
      "    \u001b[0m\n",
      "\u001b[34m[NeMo I 2023-03-16 15:41:50 wer:1169] reference:j p e g four\u001b[0m\n",
      "\u001b[34m[NeMo I 2023-03-16 15:41:50 wer:1170] predicted: \u001b[0m\n",
      "\u001b[34m[NeMo I 2023-03-16 15:41:50 wer:1168] \n",
      "    \u001b[0m\n",
      "\u001b[34m[NeMo I 2023-03-16 15:41:50 wer:1169] reference:v a n e s s a\u001b[0m\n",
      "\u001b[34m[NeMo I 2023-03-16 15:41:50 wer:1170] predicted:  \u001b[0m\n",
      "\u001b[34m[NeMo I 2023-03-16 15:41:50 wer:1168] \n",
      "    \u001b[0m\n",
      "\u001b[34m[NeMo I 2023-03-16 15:41:50 wer:1169] reference:p i t t s b u r g h\u001b[0m\n",
      "\u001b[34m[NeMo I 2023-03-16 15:41:50 wer:1170] predicted:   \u001b[0m\n",
      "\u001b[34m[NeMo I 2023-03-16 15:41:50 wer:1168] \n",
      "    \u001b[0m\n",
      "\u001b[34m[NeMo I 2023-03-16 15:41:50 wer:1169] reference:march seven nineteen sixty seven\u001b[0m\n",
      "\u001b[34m[NeMo I 2023-03-16 15:41:50 wer:1170] predicted: \u001b[0m\n",
      "\u001b[34m[NeMo I 2023-03-16 15:41:50 wer:1168] \n",
      "    \u001b[0m\n",
      "\u001b[34m[NeMo I 2023-03-16 15:41:50 wer:1169] reference:rubout c b w x v four\u001b[0m\n",
      "\u001b[34m[NeMo I 2023-03-16 15:41:50 wer:1170] predicted:   \u001b[0m\n",
      "\u001b[34m[NeMo I 2023-03-16 15:41:50 wer:1168] \n",
      "    \u001b[0m\n",
      "\u001b[34m[NeMo I 2023-03-16 15:41:50 wer:1169] reference:m y e r s\u001b[0m\n",
      "\u001b[34m[NeMo I 2023-03-16 15:41:50 wer:1170] predicted: \u001b[0m\n",
      "\u001b[34m[NeMo I 2023-03-16 15:41:50 wer:1168] \n",
      "    \u001b[0m\n",
      "\u001b[34m[NeMo I 2023-03-16 15:41:50 wer:1169] reference:p h i n n e y\u001b[0m\n",
      "\u001b[34m[NeMo I 2023-03-16 15:41:50 wer:1170] predicted:  \u001b[0m\n",
      "\u001b[34m[NeMo I 2023-03-16 15:41:50 wer:1168] \n",
      "    \u001b[0m\n",
      "\u001b[34m[NeMo I 2023-03-16 15:41:50 wer:1169] reference:four one two two six eight four one four two\u001b[0m\n",
      "\u001b[34m[NeMo I 2023-03-16 15:41:50 wer:1170] predicted:    \u001b[0m\n",
      "\u001b[34mWriting out evaluation report with wer: 0.998706\u001b[0m\n",
      "\u001b[34mevaluation_path /opt/ml/processing/evaluation/evaluation.json\u001b[0m\n",
      "\n"
     ]
    }
   ],
   "source": [
    "experiment_name = pm.get_params(key=prefix + \"EXPERI-NAME\")\n",
    "create_experiment(experiment_name)\n",
    "job_name = create_trial(experiment_name)\n",
    "\n",
    "eval_processor.run(\n",
    "    code=\"evaluate.py\",\n",
    "    source_dir=\"./an4_nemo_sagemaker/code/evaluation/\",\n",
    "    inputs=[\n",
    "        ProcessingInput(\n",
    "            source=model_artifact_s3_uri,\n",
    "            input_name=\"model_artifact\",\n",
    "            destination=\"/opt/ml/processing/model\"\n",
    "        ),\n",
    "        ProcessingInput(\n",
    "            source=test_manifest_s3_path,\n",
    "            input_name=\"test_manifest_file\",\n",
    "            destination=\"/opt/ml/processing/input/manifest\"\n",
    "        ),\n",
    "        ProcessingInput(\n",
    "            source=wav_s3_uri,\n",
    "            input_name=\"wav_dataset\",\n",
    "            destination=\"/opt/ml/processing/input/wav\"\n",
    "        ),\n",
    "    ],\n",
    "    outputs=[\n",
    "        ProcessingOutput(\n",
    "            output_name=\"eval-output-data\",\n",
    "            source=\"/opt/ml/processing/evaluation\",\n",
    "            destination=eval_output_s3_uri\n",
    "            \n",
    "        ),\n",
    "    ],\n",
    "    job_name=job_name,\n",
    "    experiment_config={\n",
    "      'TrialName': job_name,\n",
    "      'TrialComponentDisplayName': job_name,\n",
    "    },\n",
    "    wait=True\n",
    ")"
   ]
  },
  {
   "cell_type": "code",
   "execution_count": null,
   "id": "f08dc1ac-c16c-4027-9491-8da955da6ce8",
   "metadata": {
    "tags": []
   },
   "outputs": [],
   "source": [
    "eval_processor"
   ]
  },
  {
   "cell_type": "code",
   "execution_count": 75,
   "id": "e3328b4c-e16d-4042-aa81-d2ac611b8efe",
   "metadata": {
    "tags": []
   },
   "outputs": [
    {
     "data": {
      "text/plain": [
       "'Store suceess'"
      ]
     },
     "execution_count": 75,
     "metadata": {},
     "output_type": "execute_result"
    }
   ],
   "source": [
    "pm.put_params(key=\"\".join([prefix, \"EVAL-OUTPUT-PATH\"]), value=eval_output_s3_uri+\"evaluation.json\", overwrite=True)"
   ]
  },
  {
   "cell_type": "code",
   "execution_count": 77,
   "id": "e49c5ec7-802d-41fb-b1df-4de1bf82534a",
   "metadata": {
    "tags": []
   },
   "outputs": [
    {
     "data": {
      "text/plain": [
       "'s3://sm-nemo-bucket/evaluation/output/eval_outputevaluation.json'"
      ]
     },
     "execution_count": 77,
     "metadata": {},
     "output_type": "execute_result"
    }
   ],
   "source": [
    "pm.get_params(key=\"\".join([prefix, \"EVAL-OUTPUT-PATH\"]))"
   ]
  },
  {
   "cell_type": "code",
   "execution_count": null,
   "id": "4052e4e4-00c5-4f89-8f0c-a6d584e024ab",
   "metadata": {},
   "outputs": [],
   "source": []
  }
 ],
 "metadata": {
  "kernelspec": {
   "display_name": "conda_pytorch_p39",
   "language": "python",
   "name": "conda_pytorch_p39"
  },
  "language_info": {
   "codemirror_mode": {
    "name": "ipython",
    "version": 3
   },
   "file_extension": ".py",
   "mimetype": "text/x-python",
   "name": "python",
   "nbconvert_exporter": "python",
   "pygments_lexer": "ipython3",
   "version": "3.9.15"
  }
 },
 "nbformat": 4,
 "nbformat_minor": 5
}
