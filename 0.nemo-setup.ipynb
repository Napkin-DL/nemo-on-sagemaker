{
 "cells": [
  {
   "cell_type": "markdown",
   "id": "8f3dd71b-f63a-4106-b323-67be004b482e",
   "metadata": {},
   "source": [
    "# <B> Setup for Nvidai NeMo with SageMaker </B>\n",
    "* Container: codna_python3"
   ]
  },
  {
   "cell_type": "markdown",
   "id": "aaeaff49-a119-4a0c-b48a-f66ab721c458",
   "metadata": {},
   "source": [
    "## AutoReload"
   ]
  },
  {
   "cell_type": "code",
   "execution_count": 1,
   "id": "9f8f8f99-aaa0-42f9-8695-c8bd1884504c",
   "metadata": {
    "tags": []
   },
   "outputs": [],
   "source": [
    "%load_ext autoreload\n",
    "%autoreload 2"
   ]
  },
  {
   "cell_type": "markdown",
   "id": "78872034-4b66-45e4-983f-726a94459873",
   "metadata": {
    "tags": []
   },
   "source": [
    "## 0. Install packages"
   ]
  },
  {
   "cell_type": "code",
   "execution_count": 2,
   "id": "ee290bd6-1b9b-44d5-8746-14412ea3ca96",
   "metadata": {
    "tags": []
   },
   "outputs": [],
   "source": [
    "install_needed = True  # should only be True once\n",
    "# install_needed = False"
   ]
  },
  {
   "cell_type": "code",
   "execution_count": 3,
   "id": "6594574f-22e6-4237-a573-5598e0246727",
   "metadata": {
    "tags": []
   },
   "outputs": [
    {
     "name": "stdout",
     "output_type": "stream",
     "text": [
      "Already revised\n"
     ]
    }
   ],
   "source": [
    "%%bash\n",
    "#!/bin/bash\n",
    "\n",
    "DAEMON_PATH=\"/etc/docker\"\n",
    "MEMORY_SIZE=10G\n",
    "\n",
    "FLAG=$(cat $DAEMON_PATH/daemon.json | jq 'has(\"data-root\")')\n",
    "# echo $FLAG\n",
    "\n",
    "if [ \"$FLAG\" == true ]; then\n",
    "    echo \"Already revised\"\n",
    "else\n",
    "    echo \"Add data-root and default-shm-size=$MEMORY_SIZE\"\n",
    "    sudo cp $DAEMON_PATH/daemon.json $DAEMON_PATH/daemon.json.bak\n",
    "    sudo cat $DAEMON_PATH/daemon.json.bak | jq '. += {\"data-root\":\"/home/ec2-user/SageMaker/.container/docker\",\"default-shm-size\":\"'$MEMORY_SIZE'\"}' | sudo tee $DAEMON_PATH/daemon.json > /dev/null\n",
    "    sudo service docker restart\n",
    "    echo \"Docker Restart\"\n",
    "fi"
   ]
  },
  {
   "cell_type": "code",
   "execution_count": 3,
   "id": "f21840e5-9ecf-4e9c-9736-d2174cd413e2",
   "metadata": {
    "collapsed": true,
    "jupyter": {
     "outputs_hidden": true
    },
    "tags": []
   },
   "outputs": [
    {
     "name": "stdout",
     "output_type": "stream",
     "text": [
      "installing deps and restarting kernel\n",
      "Looking in indexes: https://pypi.org/simple, https://pip.repos.neuron.amazonaws.com\n",
      "Requirement already satisfied: pip in /home/ec2-user/anaconda3/envs/pytorch_p39/lib/python3.9/site-packages (22.3.1)\n",
      "Collecting pip\n",
      "  Downloading pip-23.0.1-py3-none-any.whl (2.1 MB)\n",
      "\u001b[2K     \u001b[90m━━━━━━━━━━━━━━━━━━━━━━━━━━━━━━━━━━━━━━━━\u001b[0m \u001b[32m2.1/2.1 MB\u001b[0m \u001b[31m34.6 MB/s\u001b[0m eta \u001b[36m0:00:00\u001b[0ma \u001b[36m0:00:01\u001b[0m\n",
      "\u001b[?25hInstalling collected packages: pip\n",
      "  Attempting uninstall: pip\n",
      "    Found existing installation: pip 22.3.1\n",
      "    Uninstalling pip-22.3.1:\n",
      "      Successfully uninstalled pip-22.3.1\n",
      "Successfully installed pip-23.0.1\n",
      "Looking in indexes: https://pypi.org/simple, https://pip.repos.neuron.amazonaws.com\n",
      "Requirement already satisfied: smdebug in /home/ec2-user/anaconda3/envs/pytorch_p39/lib/python3.9/site-packages (1.0.12)\n",
      "Requirement already satisfied: sagemaker-experiments in /home/ec2-user/anaconda3/envs/pytorch_p39/lib/python3.9/site-packages (0.1.43)\n",
      "Requirement already satisfied: numpy>=1.16.0 in /home/ec2-user/anaconda3/envs/pytorch_p39/lib/python3.9/site-packages (from smdebug) (1.23.5)\n",
      "Requirement already satisfied: boto3>=1.10.32 in /home/ec2-user/anaconda3/envs/pytorch_p39/lib/python3.9/site-packages (from smdebug) (1.26.71)\n",
      "Requirement already satisfied: protobuf>=3.6.0 in /home/ec2-user/anaconda3/envs/pytorch_p39/lib/python3.9/site-packages (from smdebug) (3.20.2)\n",
      "Requirement already satisfied: pyinstrument==3.4.2 in /home/ec2-user/anaconda3/envs/pytorch_p39/lib/python3.9/site-packages (from smdebug) (3.4.2)\n",
      "Requirement already satisfied: packaging in /home/ec2-user/anaconda3/envs/pytorch_p39/lib/python3.9/site-packages (from smdebug) (21.3)\n",
      "Requirement already satisfied: pyinstrument-cext>=0.2.2 in /home/ec2-user/anaconda3/envs/pytorch_p39/lib/python3.9/site-packages (from pyinstrument==3.4.2->smdebug) (0.2.4)\n",
      "Requirement already satisfied: jmespath<2.0.0,>=0.7.1 in /home/ec2-user/anaconda3/envs/pytorch_p39/lib/python3.9/site-packages (from boto3>=1.10.32->smdebug) (1.0.1)\n",
      "Requirement already satisfied: botocore<1.30.0,>=1.29.71 in /home/ec2-user/anaconda3/envs/pytorch_p39/lib/python3.9/site-packages (from boto3>=1.10.32->smdebug) (1.29.71)\n",
      "Requirement already satisfied: s3transfer<0.7.0,>=0.6.0 in /home/ec2-user/anaconda3/envs/pytorch_p39/lib/python3.9/site-packages (from boto3>=1.10.32->smdebug) (0.6.0)\n",
      "Requirement already satisfied: pyparsing!=3.0.5,>=2.0.2 in /home/ec2-user/anaconda3/envs/pytorch_p39/lib/python3.9/site-packages (from packaging->smdebug) (3.0.9)\n",
      "Requirement already satisfied: python-dateutil<3.0.0,>=2.1 in /home/ec2-user/anaconda3/envs/pytorch_p39/lib/python3.9/site-packages (from botocore<1.30.0,>=1.29.71->boto3>=1.10.32->smdebug) (2.8.2)\n",
      "Requirement already satisfied: urllib3<1.27,>=1.25.4 in /home/ec2-user/anaconda3/envs/pytorch_p39/lib/python3.9/site-packages (from botocore<1.30.0,>=1.29.71->boto3>=1.10.32->smdebug) (1.26.15)\n",
      "Requirement already satisfied: six>=1.5 in /home/ec2-user/anaconda3/envs/pytorch_p39/lib/python3.9/site-packages (from python-dateutil<3.0.0,>=2.1->botocore<1.30.0,>=1.29.71->boto3>=1.10.32->smdebug) (1.16.0)\n",
      "Looking in indexes: https://pypi.org/simple, https://pip.repos.neuron.amazonaws.com\n",
      "Requirement already satisfied: sagemaker in /home/ec2-user/anaconda3/envs/pytorch_p39/lib/python3.9/site-packages (2.137.0)\n",
      "Collecting sagemaker\n",
      "  Downloading sagemaker-2.140.0.tar.gz (684 kB)\n",
      "\u001b[2K     \u001b[90m━━━━━━━━━━━━━━━━━━━━━━━━━━━━━━━━━━━━━━\u001b[0m \u001b[32m684.5/684.5 kB\u001b[0m \u001b[31m15.4 MB/s\u001b[0m eta \u001b[36m0:00:00\u001b[0ma \u001b[36m0:00:01\u001b[0m\n",
      "\u001b[?25h  Preparing metadata (setup.py) ... \u001b[?25ldone\n",
      "\u001b[?25hRequirement already satisfied: attrs<23,>=20.3.0 in /home/ec2-user/anaconda3/envs/pytorch_p39/lib/python3.9/site-packages (from sagemaker) (22.2.0)\n",
      "Requirement already satisfied: boto3<2.0,>=1.26.28 in /home/ec2-user/anaconda3/envs/pytorch_p39/lib/python3.9/site-packages (from sagemaker) (1.26.71)\n",
      "Requirement already satisfied: google-pasta in /home/ec2-user/anaconda3/envs/pytorch_p39/lib/python3.9/site-packages (from sagemaker) (0.2.0)\n",
      "Requirement already satisfied: numpy<2.0,>=1.9.0 in /home/ec2-user/anaconda3/envs/pytorch_p39/lib/python3.9/site-packages (from sagemaker) (1.23.5)\n",
      "Requirement already satisfied: protobuf<4.0,>=3.1 in /home/ec2-user/anaconda3/envs/pytorch_p39/lib/python3.9/site-packages (from sagemaker) (3.20.2)\n",
      "Requirement already satisfied: protobuf3-to-dict<1.0,>=0.1.5 in /home/ec2-user/anaconda3/envs/pytorch_p39/lib/python3.9/site-packages (from sagemaker) (0.1.5)\n",
      "Requirement already satisfied: smdebug_rulesconfig==1.0.1 in /home/ec2-user/anaconda3/envs/pytorch_p39/lib/python3.9/site-packages (from sagemaker) (1.0.1)\n",
      "Requirement already satisfied: importlib-metadata<5.0,>=1.4.0 in /home/ec2-user/anaconda3/envs/pytorch_p39/lib/python3.9/site-packages (from sagemaker) (4.13.0)\n",
      "Requirement already satisfied: packaging>=20.0 in /home/ec2-user/anaconda3/envs/pytorch_p39/lib/python3.9/site-packages (from sagemaker) (21.3)\n",
      "Requirement already satisfied: pandas in /home/ec2-user/anaconda3/envs/pytorch_p39/lib/python3.9/site-packages (from sagemaker) (1.4.4)\n",
      "Requirement already satisfied: pathos in /home/ec2-user/anaconda3/envs/pytorch_p39/lib/python3.9/site-packages (from sagemaker) (0.3.0)\n",
      "Requirement already satisfied: schema in /home/ec2-user/anaconda3/envs/pytorch_p39/lib/python3.9/site-packages (from sagemaker) (0.7.5)\n",
      "Requirement already satisfied: jmespath<2.0.0,>=0.7.1 in /home/ec2-user/anaconda3/envs/pytorch_p39/lib/python3.9/site-packages (from boto3<2.0,>=1.26.28->sagemaker) (1.0.1)\n",
      "Requirement already satisfied: s3transfer<0.7.0,>=0.6.0 in /home/ec2-user/anaconda3/envs/pytorch_p39/lib/python3.9/site-packages (from boto3<2.0,>=1.26.28->sagemaker) (0.6.0)\n",
      "Requirement already satisfied: botocore<1.30.0,>=1.29.71 in /home/ec2-user/anaconda3/envs/pytorch_p39/lib/python3.9/site-packages (from boto3<2.0,>=1.26.28->sagemaker) (1.29.71)\n",
      "Requirement already satisfied: zipp>=0.5 in /home/ec2-user/anaconda3/envs/pytorch_p39/lib/python3.9/site-packages (from importlib-metadata<5.0,>=1.4.0->sagemaker) (3.11.0)\n",
      "Requirement already satisfied: pyparsing!=3.0.5,>=2.0.2 in /home/ec2-user/anaconda3/envs/pytorch_p39/lib/python3.9/site-packages (from packaging>=20.0->sagemaker) (3.0.9)\n",
      "Requirement already satisfied: six in /home/ec2-user/anaconda3/envs/pytorch_p39/lib/python3.9/site-packages (from protobuf3-to-dict<1.0,>=0.1.5->sagemaker) (1.16.0)\n",
      "Requirement already satisfied: python-dateutil>=2.8.1 in /home/ec2-user/anaconda3/envs/pytorch_p39/lib/python3.9/site-packages (from pandas->sagemaker) (2.8.2)\n",
      "Requirement already satisfied: pytz>=2020.1 in /home/ec2-user/anaconda3/envs/pytorch_p39/lib/python3.9/site-packages (from pandas->sagemaker) (2022.7)\n",
      "Requirement already satisfied: pox>=0.3.2 in /home/ec2-user/anaconda3/envs/pytorch_p39/lib/python3.9/site-packages (from pathos->sagemaker) (0.3.2)\n",
      "Requirement already satisfied: ppft>=1.7.6.6 in /home/ec2-user/anaconda3/envs/pytorch_p39/lib/python3.9/site-packages (from pathos->sagemaker) (1.7.6.6)\n",
      "Requirement already satisfied: dill>=0.3.6 in /home/ec2-user/anaconda3/envs/pytorch_p39/lib/python3.9/site-packages (from pathos->sagemaker) (0.3.6)\n",
      "Requirement already satisfied: multiprocess>=0.70.14 in /home/ec2-user/anaconda3/envs/pytorch_p39/lib/python3.9/site-packages (from pathos->sagemaker) (0.70.14)\n",
      "Requirement already satisfied: contextlib2>=0.5.5 in /home/ec2-user/anaconda3/envs/pytorch_p39/lib/python3.9/site-packages (from schema->sagemaker) (21.6.0)\n",
      "Requirement already satisfied: urllib3<1.27,>=1.25.4 in /home/ec2-user/anaconda3/envs/pytorch_p39/lib/python3.9/site-packages (from botocore<1.30.0,>=1.29.71->boto3<2.0,>=1.26.28->sagemaker) (1.26.15)\n",
      "Building wheels for collected packages: sagemaker\n",
      "  Building wheel for sagemaker (setup.py) ... \u001b[?25ldone\n",
      "\u001b[?25h  Created wheel for sagemaker: filename=sagemaker-2.140.0-py2.py3-none-any.whl size=925349 sha256=baf271300da20c772aaa478c4d7111f52944c190731acb5a083888f552bb6017\n",
      "  Stored in directory: /home/ec2-user/.cache/pip/wheels/4c/86/bc/c3482225b39ef808a2b7409d9f00c8da5581100df2188c0ff0\n",
      "Successfully built sagemaker\n",
      "Installing collected packages: sagemaker\n",
      "  Attempting uninstall: sagemaker\n",
      "    Found existing installation: sagemaker 2.137.0\n",
      "    Uninstalling sagemaker-2.137.0:\n",
      "      Successfully uninstalled sagemaker-2.137.0\n",
      "Successfully installed sagemaker-2.140.0\n",
      "Looking in indexes: https://pypi.org/simple, https://pip.repos.neuron.amazonaws.com\n",
      "Requirement already satisfied: datasets in /home/ec2-user/anaconda3/envs/pytorch_p39/lib/python3.9/site-packages (2.10.1)\n",
      "Requirement already satisfied: transformers in /home/ec2-user/anaconda3/envs/pytorch_p39/lib/python3.9/site-packages (4.26.1)\n",
      "Collecting transformers\n",
      "  Downloading transformers-4.27.1-py3-none-any.whl (6.7 MB)\n",
      "\u001b[2K     \u001b[90m━━━━━━━━━━━━━━━━━━━━━━━━━━━━━━━━━━━━━━━━\u001b[0m \u001b[32m6.7/6.7 MB\u001b[0m \u001b[31m58.0 MB/s\u001b[0m eta \u001b[36m0:00:00\u001b[0m00:01\u001b[0m00:01\u001b[0m\n",
      "\u001b[?25hRequirement already satisfied: packaging in /home/ec2-user/anaconda3/envs/pytorch_p39/lib/python3.9/site-packages (from datasets) (21.3)\n",
      "Requirement already satisfied: huggingface-hub<1.0.0,>=0.2.0 in /home/ec2-user/anaconda3/envs/pytorch_p39/lib/python3.9/site-packages (from datasets) (0.12.1)\n",
      "Requirement already satisfied: requests>=2.19.0 in /home/ec2-user/anaconda3/envs/pytorch_p39/lib/python3.9/site-packages (from datasets) (2.28.2)\n",
      "Requirement already satisfied: numpy>=1.17 in /home/ec2-user/anaconda3/envs/pytorch_p39/lib/python3.9/site-packages (from datasets) (1.23.5)\n",
      "Requirement already satisfied: tqdm>=4.62.1 in /home/ec2-user/anaconda3/envs/pytorch_p39/lib/python3.9/site-packages (from datasets) (4.63.2)\n",
      "Requirement already satisfied: fsspec[http]>=2021.11.1 in /home/ec2-user/anaconda3/envs/pytorch_p39/lib/python3.9/site-packages (from datasets) (2022.11.0)\n",
      "Requirement already satisfied: aiohttp in /home/ec2-user/anaconda3/envs/pytorch_p39/lib/python3.9/site-packages (from datasets) (3.8.3)\n",
      "Requirement already satisfied: pandas in /home/ec2-user/anaconda3/envs/pytorch_p39/lib/python3.9/site-packages (from datasets) (1.4.4)\n",
      "Requirement already satisfied: pyyaml>=5.1 in /home/ec2-user/anaconda3/envs/pytorch_p39/lib/python3.9/site-packages (from datasets) (5.4.1)\n",
      "Requirement already satisfied: pyarrow>=6.0.0 in /home/ec2-user/anaconda3/envs/pytorch_p39/lib/python3.9/site-packages (from datasets) (10.0.1)\n",
      "Requirement already satisfied: xxhash in /home/ec2-user/anaconda3/envs/pytorch_p39/lib/python3.9/site-packages (from datasets) (3.2.0)\n",
      "Requirement already satisfied: responses<0.19 in /home/ec2-user/anaconda3/envs/pytorch_p39/lib/python3.9/site-packages (from datasets) (0.18.0)\n",
      "Requirement already satisfied: dill<0.3.7,>=0.3.0 in /home/ec2-user/anaconda3/envs/pytorch_p39/lib/python3.9/site-packages (from datasets) (0.3.6)\n",
      "Requirement already satisfied: multiprocess in /home/ec2-user/anaconda3/envs/pytorch_p39/lib/python3.9/site-packages (from datasets) (0.70.14)\n",
      "Requirement already satisfied: regex!=2019.12.17 in /home/ec2-user/anaconda3/envs/pytorch_p39/lib/python3.9/site-packages (from transformers) (2022.10.31)\n",
      "Requirement already satisfied: tokenizers!=0.11.3,<0.14,>=0.11.1 in /home/ec2-user/anaconda3/envs/pytorch_p39/lib/python3.9/site-packages (from transformers) (0.13.2)\n",
      "Requirement already satisfied: filelock in /home/ec2-user/anaconda3/envs/pytorch_p39/lib/python3.9/site-packages (from transformers) (3.10.0)\n",
      "Requirement already satisfied: async-timeout<5.0,>=4.0.0a3 in /home/ec2-user/anaconda3/envs/pytorch_p39/lib/python3.9/site-packages (from aiohttp->datasets) (4.0.2)\n",
      "Requirement already satisfied: attrs>=17.3.0 in /home/ec2-user/anaconda3/envs/pytorch_p39/lib/python3.9/site-packages (from aiohttp->datasets) (22.2.0)\n",
      "Requirement already satisfied: multidict<7.0,>=4.5 in /home/ec2-user/anaconda3/envs/pytorch_p39/lib/python3.9/site-packages (from aiohttp->datasets) (6.0.4)\n",
      "Requirement already satisfied: yarl<2.0,>=1.0 in /home/ec2-user/anaconda3/envs/pytorch_p39/lib/python3.9/site-packages (from aiohttp->datasets) (1.8.2)\n",
      "Requirement already satisfied: aiosignal>=1.1.2 in /home/ec2-user/anaconda3/envs/pytorch_p39/lib/python3.9/site-packages (from aiohttp->datasets) (1.3.1)\n",
      "Requirement already satisfied: frozenlist>=1.1.1 in /home/ec2-user/anaconda3/envs/pytorch_p39/lib/python3.9/site-packages (from aiohttp->datasets) (1.3.3)\n",
      "Collecting charset-normalizer<3.0,>=2.0\n",
      "  Downloading charset_normalizer-2.1.1-py3-none-any.whl (39 kB)\n",
      "Requirement already satisfied: typing-extensions>=3.7.4.3 in /home/ec2-user/anaconda3/envs/pytorch_p39/lib/python3.9/site-packages (from huggingface-hub<1.0.0,>=0.2.0->datasets) (4.5.0)\n",
      "Requirement already satisfied: pyparsing!=3.0.5,>=2.0.2 in /home/ec2-user/anaconda3/envs/pytorch_p39/lib/python3.9/site-packages (from packaging->datasets) (3.0.9)\n",
      "Requirement already satisfied: certifi>=2017.4.17 in /home/ec2-user/anaconda3/envs/pytorch_p39/lib/python3.9/site-packages (from requests>=2.19.0->datasets) (2022.12.7)\n",
      "Requirement already satisfied: urllib3<1.27,>=1.21.1 in /home/ec2-user/anaconda3/envs/pytorch_p39/lib/python3.9/site-packages (from requests>=2.19.0->datasets) (1.26.15)\n",
      "Requirement already satisfied: idna<4,>=2.5 in /home/ec2-user/anaconda3/envs/pytorch_p39/lib/python3.9/site-packages (from requests>=2.19.0->datasets) (3.4)\n",
      "Requirement already satisfied: python-dateutil>=2.8.1 in /home/ec2-user/anaconda3/envs/pytorch_p39/lib/python3.9/site-packages (from pandas->datasets) (2.8.2)\n",
      "Requirement already satisfied: pytz>=2020.1 in /home/ec2-user/anaconda3/envs/pytorch_p39/lib/python3.9/site-packages (from pandas->datasets) (2022.7)\n",
      "Requirement already satisfied: six>=1.5 in /home/ec2-user/anaconda3/envs/pytorch_p39/lib/python3.9/site-packages (from python-dateutil>=2.8.1->pandas->datasets) (1.16.0)\n",
      "Installing collected packages: charset-normalizer, transformers\n",
      "  Attempting uninstall: charset-normalizer\n",
      "    Found existing installation: charset-normalizer 3.1.0\n",
      "    Uninstalling charset-normalizer-3.1.0:\n",
      "      Successfully uninstalled charset-normalizer-3.1.0\n",
      "  Attempting uninstall: transformers\n",
      "    Found existing installation: transformers 4.26.1\n",
      "    Uninstalling transformers-4.26.1:\n",
      "      Successfully uninstalled transformers-4.26.1\n",
      "\u001b[31mERROR: pip's dependency resolver does not currently take into account all the packages that are installed. This behaviour is the source of the following dependency conflicts.\n",
      "nemo-text-processing 0.1.7rc0 requires setuptools==65.5.1, but you have setuptools 67.6.0 which is incompatible.\n",
      "jupyterlab-server 2.18.0 requires jsonschema>=4.17.3, but you have jsonschema 3.2.0 which is incompatible.\u001b[0m\u001b[31m\n",
      "\u001b[0mSuccessfully installed charset-normalizer-2.1.1 transformers-4.27.1\n",
      "Looking in indexes: https://pypi.org/simple, https://pip.repos.neuron.amazonaws.com\n",
      "Requirement already satisfied: wget in /home/ec2-user/anaconda3/envs/pytorch_p39/lib/python3.9/site-packages (3.2)\n",
      "Requirement already satisfied: omegaconf in /home/ec2-user/anaconda3/envs/pytorch_p39/lib/python3.9/site-packages (2.2.3)\n",
      "Collecting omegaconf\n",
      "  Using cached omegaconf-2.3.0-py3-none-any.whl (79 kB)\n",
      "Requirement already satisfied: text-unidecode in /home/ec2-user/anaconda3/envs/pytorch_p39/lib/python3.9/site-packages (1.3)\n",
      "Requirement already satisfied: sox in /home/ec2-user/anaconda3/envs/pytorch_p39/lib/python3.9/site-packages (1.4.1)\n",
      "Requirement already satisfied: PyYAML>=5.1.0 in /home/ec2-user/anaconda3/envs/pytorch_p39/lib/python3.9/site-packages (from omegaconf) (5.4.1)\n",
      "Requirement already satisfied: antlr4-python3-runtime==4.9.* in /home/ec2-user/anaconda3/envs/pytorch_p39/lib/python3.9/site-packages (from omegaconf) (4.9.3)\n",
      "Requirement already satisfied: numpy>=1.9.0 in /home/ec2-user/anaconda3/envs/pytorch_p39/lib/python3.9/site-packages (from sox) (1.23.5)\n",
      "Installing collected packages: omegaconf\n",
      "  Attempting uninstall: omegaconf\n",
      "    Found existing installation: omegaconf 2.2.3\n",
      "    Uninstalling omegaconf-2.2.3:\n",
      "      Successfully uninstalled omegaconf-2.2.3\n",
      "Successfully installed omegaconf-2.3.0\n",
      "Loaded plugins: dkms-build-requires, extras_suggestions, langpacks, priorities,\n",
      "              : update-motd, versionlock\n",
      "amzn2-core                                               | 3.7 kB     00:00     \n",
      "amzn2extra-docker                                        | 3.0 kB     00:00     \n",
      "amzn2extra-kernel-5.10                                   | 3.0 kB     00:00     \n",
      "amzn2extra-lustre                                        | 3.0 kB     00:00     \n",
      "amzn2extra-python3.8                                     | 3.0 kB     00:00     \n",
      "centos-extras                                            | 2.9 kB     00:00     \n",
      "copr:copr.fedorainfracloud.org:vbatts:shadow-utils-newxi | 3.3 kB     00:00     \n",
      "https://download.docker.com/linux/centos/2/x86_64/stable/repodata/repomd.xml: [Errno 14] HTTPS Error 404 - Not Found\n",
      "Trying other mirror.\n",
      "libnvidia-container/x86_64/signature                     |  833 B     00:00     \n",
      "libnvidia-container/x86_64/signature                     | 2.1 kB     00:00 !!! \n",
      "neuron                                                   | 2.9 kB     00:00     \n",
      "61 packages excluded due to repository priority protections\n",
      "Package sox-14.4.1-7.amzn2.x86_64 already installed and latest version\n",
      "Nothing to do\n",
      "Loaded plugins: dkms-build-requires, extras_suggestions, langpacks, priorities,\n",
      "              : update-motd, versionlock\n",
      "https://download.docker.com/linux/centos/2/x86_64/stable/repodata/repomd.xml: [Errno 14] HTTPS Error 404 - Not Found\n",
      "Trying other mirror.\n",
      "neuron                                                   | 2.9 kB     00:00     \n",
      "61 packages excluded due to repository priority protections\n",
      "Package libsndfile-1.0.25-12.amzn2.1.x86_64 already installed and latest version\n",
      "Nothing to do\n",
      "Looking in indexes: https://pypi.org/simple, https://pip.repos.neuron.amazonaws.com\n",
      "Collecting llvmlite\n",
      "  Using cached llvmlite-0.39.1-cp39-cp39-manylinux_2_17_x86_64.manylinux2014_x86_64.whl (34.6 MB)\n",
      "Installing collected packages: llvmlite\n",
      "  Attempting uninstall: llvmlite\n",
      "    Found existing installation: llvmlite 0.39.1\n",
      "    Uninstalling llvmlite-0.39.1:\n",
      "      Successfully uninstalled llvmlite-0.39.1\n",
      "\u001b[31mERROR: pip's dependency resolver does not currently take into account all the packages that are installed. This behaviour is the source of the following dependency conflicts.\n",
      "nemo-toolkit 1.17.0rc0 requires setuptools==65.5.1, but you have setuptools 67.6.0 which is incompatible.\u001b[0m\u001b[31m\n",
      "\u001b[0mSuccessfully installed llvmlite-0.39.1\n",
      "\u001b[33mDEPRECATION: git+https://github.com/NVIDIA/NeMo.git@main#egg=nemo_toolkit[all] contains an egg fragment with a non-PEP 508 name pip 25.0 will enforce this behaviour change. A possible replacement is to use the req @ url syntax, and remove the egg fragment. Discussion can be found at https://github.com/pypa/pip/issues/11617\u001b[0m\u001b[33m\n",
      "\u001b[0mLooking in indexes: https://pypi.org/simple, https://pip.repos.neuron.amazonaws.com\n",
      "Collecting nemo_toolkit[all]\n",
      "  Cloning https://github.com/NVIDIA/NeMo.git (to revision main) to /tmp/pip-install-zb9f5ktb/nemo-toolkit_a560ed52da48475eb3500b2e43a20b9a\n",
      "  Running command git clone --filter=blob:none --quiet https://github.com/NVIDIA/NeMo.git /tmp/pip-install-zb9f5ktb/nemo-toolkit_a560ed52da48475eb3500b2e43a20b9a\n",
      "  Resolved https://github.com/NVIDIA/NeMo.git to commit c6f480c279f3faf1b4a3896b481a8e125142d3c2\n",
      "  Installing build dependencies ... \u001b[?25ldone\n",
      "\u001b[?25h  Getting requirements to build wheel ... \u001b[?25ldone\n",
      "\u001b[?25h  Preparing metadata (pyproject.toml) ... \u001b[?25ldone\n",
      "\u001b[?25hRequirement already satisfied: python-dateutil in /home/ec2-user/anaconda3/envs/pytorch_p39/lib/python3.9/site-packages (from nemo_toolkit[all]) (2.8.2)\n",
      "Requirement already satisfied: text-unidecode in /home/ec2-user/anaconda3/envs/pytorch_p39/lib/python3.9/site-packages (from nemo_toolkit[all]) (1.3)\n",
      "Requirement already satisfied: wget in /home/ec2-user/anaconda3/envs/pytorch_p39/lib/python3.9/site-packages (from nemo_toolkit[all]) (3.2)\n",
      "Requirement already satisfied: torch in /home/ec2-user/anaconda3/envs/pytorch_p39/lib/python3.9/site-packages (from nemo_toolkit[all]) (1.11.0)\n",
      "Requirement already satisfied: ruamel.yaml in /home/ec2-user/anaconda3/envs/pytorch_p39/lib/python3.9/site-packages (from nemo_toolkit[all]) (0.17.21)\n",
      "Requirement already satisfied: tensorboard in /home/ec2-user/anaconda3/envs/pytorch_p39/lib/python3.9/site-packages (from nemo_toolkit[all]) (2.12.0)\n",
      "Requirement already satisfied: huggingface-hub in /home/ec2-user/anaconda3/envs/pytorch_p39/lib/python3.9/site-packages (from nemo_toolkit[all]) (0.12.1)\n",
      "Requirement already satisfied: numba in /home/ec2-user/anaconda3/envs/pytorch_p39/lib/python3.9/site-packages (from nemo_toolkit[all]) (0.56.4)\n",
      "Collecting setuptools==65.5.1\n",
      "  Using cached setuptools-65.5.1-py3-none-any.whl (1.2 MB)\n",
      "Requirement already satisfied: tqdm>=4.41.0 in /home/ec2-user/anaconda3/envs/pytorch_p39/lib/python3.9/site-packages (from nemo_toolkit[all]) (4.63.2)\n",
      "Requirement already satisfied: numpy>=1.22 in /home/ec2-user/anaconda3/envs/pytorch_p39/lib/python3.9/site-packages (from nemo_toolkit[all]) (1.23.5)\n",
      "Requirement already satisfied: scikit-learn in /home/ec2-user/anaconda3/envs/pytorch_p39/lib/python3.9/site-packages (from nemo_toolkit[all]) (1.0)\n",
      "Requirement already satisfied: wrapt in /home/ec2-user/anaconda3/envs/pytorch_p39/lib/python3.9/site-packages (from nemo_toolkit[all]) (1.14.1)\n",
      "Requirement already satisfied: onnx>=1.7.0 in /home/ec2-user/anaconda3/envs/pytorch_p39/lib/python3.9/site-packages (from nemo_toolkit[all]) (1.11.0)\n",
      "Requirement already satisfied: texterrors in /home/ec2-user/anaconda3/envs/pytorch_p39/lib/python3.9/site-packages (from nemo_toolkit[all]) (0.4.4)\n",
      "Requirement already satisfied: pypinyin-dict in /home/ec2-user/anaconda3/envs/pytorch_p39/lib/python3.9/site-packages (from nemo_toolkit[all]) (0.5.0)\n",
      "Requirement already satisfied: librosa in /home/ec2-user/anaconda3/envs/pytorch_p39/lib/python3.9/site-packages (from nemo_toolkit[all]) (0.10.0)\n",
      "Requirement already satisfied: pyannote.metrics in /home/ec2-user/anaconda3/envs/pytorch_p39/lib/python3.9/site-packages (from nemo_toolkit[all]) (3.2.1)\n",
      "Requirement already satisfied: sox in /home/ec2-user/anaconda3/envs/pytorch_p39/lib/python3.9/site-packages (from nemo_toolkit[all]) (1.4.1)\n",
      "Requirement already satisfied: sphinxcontrib-bibtex in /home/ec2-user/anaconda3/envs/pytorch_p39/lib/python3.9/site-packages (from nemo_toolkit[all]) (2.5.0)\n",
      "Requirement already satisfied: einops in /home/ec2-user/anaconda3/envs/pytorch_p39/lib/python3.9/site-packages (from nemo_toolkit[all]) (0.6.0)\n",
      "Requirement already satisfied: packaging in /home/ec2-user/anaconda3/envs/pytorch_p39/lib/python3.9/site-packages (from nemo_toolkit[all]) (21.3)\n",
      "Requirement already satisfied: ftfy in /home/ec2-user/anaconda3/envs/pytorch_p39/lib/python3.9/site-packages (from nemo_toolkit[all]) (6.1.1)\n",
      "Requirement already satisfied: pypinyin in /home/ec2-user/anaconda3/envs/pytorch_p39/lib/python3.9/site-packages (from nemo_toolkit[all]) (0.48.0)\n",
      "Requirement already satisfied: boto3 in /home/ec2-user/anaconda3/envs/pytorch_p39/lib/python3.9/site-packages (from nemo_toolkit[all]) (1.26.71)\n",
      "Requirement already satisfied: attrdict in /home/ec2-user/anaconda3/envs/pytorch_p39/lib/python3.9/site-packages (from nemo_toolkit[all]) (2.0.1)\n",
      "Requirement already satisfied: kornia in /home/ec2-user/anaconda3/envs/pytorch_p39/lib/python3.9/site-packages (from nemo_toolkit[all]) (0.6.10)\n",
      "Requirement already satisfied: g2p-en in /home/ec2-user/anaconda3/envs/pytorch_p39/lib/python3.9/site-packages (from nemo_toolkit[all]) (2.1.0)\n",
      "Requirement already satisfied: youtokentome>=1.0.5 in /home/ec2-user/anaconda3/envs/pytorch_p39/lib/python3.9/site-packages (from nemo_toolkit[all]) (1.0.6)\n",
      "Requirement already satisfied: black==19.10b0 in /home/ec2-user/anaconda3/envs/pytorch_p39/lib/python3.9/site-packages (from nemo_toolkit[all]) (19.10b0)\n",
      "Requirement already satisfied: h5py in /home/ec2-user/anaconda3/envs/pytorch_p39/lib/python3.9/site-packages (from nemo_toolkit[all]) (3.7.0)\n",
      "Collecting omegaconf<2.3,>=2.2\n",
      "  Using cached omegaconf-2.2.3-py3-none-any.whl (79 kB)\n",
      "Requirement already satisfied: click==8.0.2 in /home/ec2-user/anaconda3/envs/pytorch_p39/lib/python3.9/site-packages (from nemo_toolkit[all]) (8.0.2)\n",
      "Requirement already satisfied: wandb in /home/ec2-user/anaconda3/envs/pytorch_p39/lib/python3.9/site-packages (from nemo_toolkit[all]) (0.13.11)\n",
      "Requirement already satisfied: rapidfuzz in /home/ec2-user/anaconda3/envs/pytorch_p39/lib/python3.9/site-packages (from nemo_toolkit[all]) (2.13.7)\n",
      "Requirement already satisfied: parameterized in /home/ec2-user/anaconda3/envs/pytorch_p39/lib/python3.9/site-packages (from nemo_toolkit[all]) (0.8.1)\n",
      "Requirement already satisfied: pytest-runner in /home/ec2-user/anaconda3/envs/pytorch_p39/lib/python3.9/site-packages (from nemo_toolkit[all]) (6.0.0)\n",
      "Requirement already satisfied: gradio in /home/ec2-user/anaconda3/envs/pytorch_p39/lib/python3.9/site-packages (from nemo_toolkit[all]) (3.20.1)\n",
      "Requirement already satisfied: marshmallow in /home/ec2-user/anaconda3/envs/pytorch_p39/lib/python3.9/site-packages (from nemo_toolkit[all]) (3.19.0)\n",
      "Requirement already satisfied: progress>=1.5 in /home/ec2-user/anaconda3/envs/pytorch_p39/lib/python3.9/site-packages (from nemo_toolkit[all]) (1.6)\n",
      "Requirement already satisfied: ipywidgets in /home/ec2-user/anaconda3/envs/pytorch_p39/lib/python3.9/site-packages (from nemo_toolkit[all]) (8.0.4)\n",
      "Requirement already satisfied: matplotlib>=3.3.2 in /home/ec2-user/anaconda3/envs/pytorch_p39/lib/python3.9/site-packages (from nemo_toolkit[all]) (3.5.3)\n",
      "Requirement already satisfied: webdataset<=0.1.62,>=0.1.48 in /home/ec2-user/anaconda3/envs/pytorch_p39/lib/python3.9/site-packages (from nemo_toolkit[all]) (0.1.62)\n",
      "Requirement already satisfied: nltk in /home/ec2-user/anaconda3/envs/pytorch_p39/lib/python3.9/site-packages (from nemo_toolkit[all]) (3.8.1)\n",
      "Requirement already satisfied: faiss-cpu in /home/ec2-user/anaconda3/envs/pytorch_p39/lib/python3.9/site-packages (from nemo_toolkit[all]) (1.7.3)\n",
      "Requirement already satisfied: sacrebleu[ja] in /home/ec2-user/anaconda3/envs/pytorch_p39/lib/python3.9/site-packages (from nemo_toolkit[all]) (2.3.1)\n",
      "Requirement already satisfied: nemo-text-processing in /home/ec2-user/anaconda3/envs/pytorch_p39/lib/python3.9/site-packages (from nemo_toolkit[all]) (0.1.7rc0)\n",
      "Requirement already satisfied: pandas in /home/ec2-user/anaconda3/envs/pytorch_p39/lib/python3.9/site-packages (from nemo_toolkit[all]) (1.4.4)\n",
      "Requirement already satisfied: hydra-core<1.3,>=1.2.0 in /home/ec2-user/anaconda3/envs/pytorch_p39/lib/python3.9/site-packages (from nemo_toolkit[all]) (1.2.0)\n",
      "Requirement already satisfied: sentencepiece<1.0.0 in /home/ec2-user/anaconda3/envs/pytorch_p39/lib/python3.9/site-packages (from nemo_toolkit[all]) (0.1.97)\n",
      "Requirement already satisfied: pyannote.core in /home/ec2-user/anaconda3/envs/pytorch_p39/lib/python3.9/site-packages (from nemo_toolkit[all]) (5.0.0)\n",
      "Requirement already satisfied: scipy>=0.14 in /home/ec2-user/anaconda3/envs/pytorch_p39/lib/python3.9/site-packages (from nemo_toolkit[all]) (1.8.1)\n",
      "Requirement already satisfied: braceexpand in /home/ec2-user/anaconda3/envs/pytorch_p39/lib/python3.9/site-packages (from nemo_toolkit[all]) (0.1.7)\n",
      "Requirement already satisfied: pytest in /home/ec2-user/anaconda3/envs/pytorch_p39/lib/python3.9/site-packages (from nemo_toolkit[all]) (7.2.0)\n",
      "Requirement already satisfied: inflect in /home/ec2-user/anaconda3/envs/pytorch_p39/lib/python3.9/site-packages (from nemo_toolkit[all]) (6.0.2)\n",
      "Requirement already satisfied: transformers>=4.0.1 in /home/ec2-user/anaconda3/envs/pytorch_p39/lib/python3.9/site-packages (from nemo_toolkit[all]) (4.27.1)\n",
      "Requirement already satisfied: jieba in /home/ec2-user/anaconda3/envs/pytorch_p39/lib/python3.9/site-packages (from nemo_toolkit[all]) (0.42.1)\n",
      "Requirement already satisfied: editdistance in /home/ec2-user/anaconda3/envs/pytorch_p39/lib/python3.9/site-packages (from nemo_toolkit[all]) (0.6.2)\n",
      "Requirement already satisfied: flask-restful in /home/ec2-user/anaconda3/envs/pytorch_p39/lib/python3.9/site-packages (from nemo_toolkit[all]) (0.3.9)\n",
      "Requirement already satisfied: pyyaml<6 in /home/ec2-user/anaconda3/envs/pytorch_p39/lib/python3.9/site-packages (from nemo_toolkit[all]) (5.4.1)\n",
      "Requirement already satisfied: sacremoses>=0.0.43 in /home/ec2-user/anaconda3/envs/pytorch_p39/lib/python3.9/site-packages (from nemo_toolkit[all]) (0.0.53)\n",
      "Requirement already satisfied: fasttext in /home/ec2-user/anaconda3/envs/pytorch_p39/lib/python3.9/site-packages (from nemo_toolkit[all]) (0.9.2)\n",
      "Requirement already satisfied: pangu in /home/ec2-user/anaconda3/envs/pytorch_p39/lib/python3.9/site-packages (from nemo_toolkit[all]) (4.0.6.1)\n",
      "Requirement already satisfied: kaldi-python-io in /home/ec2-user/anaconda3/envs/pytorch_p39/lib/python3.9/site-packages (from nemo_toolkit[all]) (1.2.2)\n",
      "Requirement already satisfied: jiwer>=2.0.0 in /home/ec2-user/anaconda3/envs/pytorch_p39/lib/python3.9/site-packages (from nemo_toolkit[all]) (2.5.1)\n",
      "Requirement already satisfied: ijson in /home/ec2-user/anaconda3/envs/pytorch_p39/lib/python3.9/site-packages (from nemo_toolkit[all]) (3.2.0.post0)\n",
      "Requirement already satisfied: textdistance>=4.1.5 in /home/ec2-user/anaconda3/envs/pytorch_p39/lib/python3.9/site-packages (from nemo_toolkit[all]) (4.5.0)\n",
      "Requirement already satisfied: pytorch-lightning<=1.9.4,>=1.9.0 in /home/ec2-user/anaconda3/envs/pytorch_p39/lib/python3.9/site-packages (from nemo_toolkit[all]) (1.9.4)\n",
      "Requirement already satisfied: gdown in /home/ec2-user/anaconda3/envs/pytorch_p39/lib/python3.9/site-packages (from nemo_toolkit[all]) (4.6.4)\n",
      "Requirement already satisfied: sentence-transformers in /home/ec2-user/anaconda3/envs/pytorch_p39/lib/python3.9/site-packages (from nemo_toolkit[all]) (2.2.2)\n",
      "Requirement already satisfied: opencc in /home/ec2-user/anaconda3/envs/pytorch_p39/lib/python3.9/site-packages (from nemo_toolkit[all]) (1.1.6)\n",
      "Requirement already satisfied: torchmetrics>=0.11.0 in /home/ec2-user/anaconda3/envs/pytorch_p39/lib/python3.9/site-packages (from nemo_toolkit[all]) (0.11.3)\n",
      "Requirement already satisfied: pydub in /home/ec2-user/anaconda3/envs/pytorch_p39/lib/python3.9/site-packages (from nemo_toolkit[all]) (0.25.1)\n",
      "Requirement already satisfied: soundfile in /home/ec2-user/anaconda3/envs/pytorch_p39/lib/python3.9/site-packages (from nemo_toolkit[all]) (0.12.1)\n",
      "Requirement already satisfied: sphinx in /home/ec2-user/anaconda3/envs/pytorch_p39/lib/python3.9/site-packages (from nemo_toolkit[all]) (5.1.1)\n",
      "Requirement already satisfied: kaldiio in /home/ec2-user/anaconda3/envs/pytorch_p39/lib/python3.9/site-packages (from nemo_toolkit[all]) (2.17.2)\n",
      "Requirement already satisfied: isort<6.0.0,>5.1.0 in /home/ec2-user/anaconda3/envs/pytorch_p39/lib/python3.9/site-packages (from nemo_toolkit[all]) (5.11.4)\n",
      "Requirement already satisfied: tabulate>=0.8.7 in /home/ec2-user/anaconda3/envs/pytorch_p39/lib/python3.9/site-packages (from nemo_toolkit[all]) (0.9.0)\n",
      "Requirement already satisfied: typed-ast>=1.4.0 in /home/ec2-user/anaconda3/envs/pytorch_p39/lib/python3.9/site-packages (from black==19.10b0->nemo_toolkit[all]) (1.5.4)\n",
      "Requirement already satisfied: attrs>=18.1.0 in /home/ec2-user/anaconda3/envs/pytorch_p39/lib/python3.9/site-packages (from black==19.10b0->nemo_toolkit[all]) (22.2.0)\n",
      "Requirement already satisfied: pathspec<1,>=0.6 in /home/ec2-user/anaconda3/envs/pytorch_p39/lib/python3.9/site-packages (from black==19.10b0->nemo_toolkit[all]) (0.10.3)\n",
      "Requirement already satisfied: regex in /home/ec2-user/anaconda3/envs/pytorch_p39/lib/python3.9/site-packages (from black==19.10b0->nemo_toolkit[all]) (2022.10.31)\n",
      "Requirement already satisfied: toml>=0.9.4 in /home/ec2-user/anaconda3/envs/pytorch_p39/lib/python3.9/site-packages (from black==19.10b0->nemo_toolkit[all]) (0.10.2)\n",
      "Requirement already satisfied: appdirs in /home/ec2-user/anaconda3/envs/pytorch_p39/lib/python3.9/site-packages (from black==19.10b0->nemo_toolkit[all]) (1.4.4)\n",
      "Requirement already satisfied: antlr4-python3-runtime==4.9.* in /home/ec2-user/anaconda3/envs/pytorch_p39/lib/python3.9/site-packages (from hydra-core<1.3,>=1.2.0->nemo_toolkit[all]) (4.9.3)\n",
      "Requirement already satisfied: levenshtein==0.20.2 in /home/ec2-user/anaconda3/envs/pytorch_p39/lib/python3.9/site-packages (from jiwer>=2.0.0->nemo_toolkit[all]) (0.20.2)\n",
      "Requirement already satisfied: audioread>=2.1.9 in /home/ec2-user/anaconda3/envs/pytorch_p39/lib/python3.9/site-packages (from librosa->nemo_toolkit[all]) (3.0.0)\n",
      "Requirement already satisfied: joblib>=0.14 in /home/ec2-user/anaconda3/envs/pytorch_p39/lib/python3.9/site-packages (from librosa->nemo_toolkit[all]) (1.2.0)\n",
      "Requirement already satisfied: pooch>=1.0 in /home/ec2-user/anaconda3/envs/pytorch_p39/lib/python3.9/site-packages (from librosa->nemo_toolkit[all]) (1.6.0)\n",
      "Requirement already satisfied: decorator>=4.3.0 in /home/ec2-user/anaconda3/envs/pytorch_p39/lib/python3.9/site-packages (from librosa->nemo_toolkit[all]) (5.1.1)\n",
      "Requirement already satisfied: lazy-loader>=0.1 in /home/ec2-user/anaconda3/envs/pytorch_p39/lib/python3.9/site-packages (from librosa->nemo_toolkit[all]) (0.1)\n",
      "Requirement already satisfied: msgpack>=1.0 in /home/ec2-user/anaconda3/envs/pytorch_p39/lib/python3.9/site-packages (from librosa->nemo_toolkit[all]) (1.0.4)\n",
      "Requirement already satisfied: soxr>=0.3.2 in /home/ec2-user/anaconda3/envs/pytorch_p39/lib/python3.9/site-packages (from librosa->nemo_toolkit[all]) (0.3.4)\n",
      "Requirement already satisfied: typing-extensions>=4.1.1 in /home/ec2-user/anaconda3/envs/pytorch_p39/lib/python3.9/site-packages (from librosa->nemo_toolkit[all]) (4.5.0)\n",
      "Requirement already satisfied: kiwisolver>=1.0.1 in /home/ec2-user/anaconda3/envs/pytorch_p39/lib/python3.9/site-packages (from matplotlib>=3.3.2->nemo_toolkit[all]) (1.4.4)\n",
      "Requirement already satisfied: pillow>=6.2.0 in /home/ec2-user/anaconda3/envs/pytorch_p39/lib/python3.9/site-packages (from matplotlib>=3.3.2->nemo_toolkit[all]) (9.4.0)\n",
      "Requirement already satisfied: pyparsing>=2.2.1 in /home/ec2-user/anaconda3/envs/pytorch_p39/lib/python3.9/site-packages (from matplotlib>=3.3.2->nemo_toolkit[all]) (3.0.9)\n",
      "Requirement already satisfied: cycler>=0.10 in /home/ec2-user/anaconda3/envs/pytorch_p39/lib/python3.9/site-packages (from matplotlib>=3.3.2->nemo_toolkit[all]) (0.11.0)\n",
      "Requirement already satisfied: fonttools>=4.22.0 in /home/ec2-user/anaconda3/envs/pytorch_p39/lib/python3.9/site-packages (from matplotlib>=3.3.2->nemo_toolkit[all]) (4.38.0)\n",
      "Requirement already satisfied: llvmlite<0.40,>=0.39.0dev0 in /home/ec2-user/anaconda3/envs/pytorch_p39/lib/python3.9/site-packages (from numba->nemo_toolkit[all]) (0.39.1)\n",
      "Requirement already satisfied: protobuf>=3.12.2 in /home/ec2-user/anaconda3/envs/pytorch_p39/lib/python3.9/site-packages (from onnx>=1.7.0->nemo_toolkit[all]) (3.20.2)\n",
      "Requirement already satisfied: six>=1.5 in /home/ec2-user/anaconda3/envs/pytorch_p39/lib/python3.9/site-packages (from python-dateutil->nemo_toolkit[all]) (1.16.0)\n",
      "Requirement already satisfied: fsspec[http]>2021.06.0 in /home/ec2-user/anaconda3/envs/pytorch_p39/lib/python3.9/site-packages (from pytorch-lightning<=1.9.4,>=1.9.0->nemo_toolkit[all]) (2022.11.0)\n",
      "Requirement already satisfied: lightning-utilities>=0.6.0.post0 in /home/ec2-user/anaconda3/envs/pytorch_p39/lib/python3.9/site-packages (from pytorch-lightning<=1.9.4,>=1.9.0->nemo_toolkit[all]) (0.7.1)\n",
      "Requirement already satisfied: threadpoolctl>=2.0.0 in /home/ec2-user/anaconda3/envs/pytorch_p39/lib/python3.9/site-packages (from scikit-learn->nemo_toolkit[all]) (3.1.0)\n",
      "Requirement already satisfied: cffi>=1.0 in /home/ec2-user/anaconda3/envs/pytorch_p39/lib/python3.9/site-packages (from soundfile->nemo_toolkit[all]) (1.15.1)\n",
      "Requirement already satisfied: tokenizers!=0.11.3,<0.14,>=0.11.1 in /home/ec2-user/anaconda3/envs/pytorch_p39/lib/python3.9/site-packages (from transformers>=4.0.1->nemo_toolkit[all]) (0.13.2)\n",
      "Requirement already satisfied: filelock in /home/ec2-user/anaconda3/envs/pytorch_p39/lib/python3.9/site-packages (from transformers>=4.0.1->nemo_toolkit[all]) (3.10.0)\n",
      "Requirement already satisfied: requests in /home/ec2-user/anaconda3/envs/pytorch_p39/lib/python3.9/site-packages (from transformers>=4.0.1->nemo_toolkit[all]) (2.28.2)\n",
      "Requirement already satisfied: s3transfer<0.7.0,>=0.6.0 in /home/ec2-user/anaconda3/envs/pytorch_p39/lib/python3.9/site-packages (from boto3->nemo_toolkit[all]) (0.6.0)\n",
      "Requirement already satisfied: botocore<1.30.0,>=1.29.71 in /home/ec2-user/anaconda3/envs/pytorch_p39/lib/python3.9/site-packages (from boto3->nemo_toolkit[all]) (1.29.71)\n",
      "Requirement already satisfied: jmespath<2.0.0,>=0.7.1 in /home/ec2-user/anaconda3/envs/pytorch_p39/lib/python3.9/site-packages (from boto3->nemo_toolkit[all]) (1.0.1)\n",
      "Requirement already satisfied: pybind11>=2.2 in /home/ec2-user/anaconda3/envs/pytorch_p39/lib/python3.9/site-packages (from fasttext->nemo_toolkit[all]) (2.9.2)\n",
      "Requirement already satisfied: Flask>=0.8 in /home/ec2-user/anaconda3/envs/pytorch_p39/lib/python3.9/site-packages (from flask-restful->nemo_toolkit[all]) (2.2.2)\n",
      "Requirement already satisfied: aniso8601>=0.82 in /home/ec2-user/anaconda3/envs/pytorch_p39/lib/python3.9/site-packages (from flask-restful->nemo_toolkit[all]) (9.0.1)\n",
      "Requirement already satisfied: pytz in /home/ec2-user/anaconda3/envs/pytorch_p39/lib/python3.9/site-packages (from flask-restful->nemo_toolkit[all]) (2022.7)\n",
      "Requirement already satisfied: wcwidth>=0.2.5 in /home/ec2-user/anaconda3/envs/pytorch_p39/lib/python3.9/site-packages (from ftfy->nemo_toolkit[all]) (0.2.5)\n",
      "Requirement already satisfied: distance>=0.1.3 in /home/ec2-user/anaconda3/envs/pytorch_p39/lib/python3.9/site-packages (from g2p-en->nemo_toolkit[all]) (0.1.3)\n",
      "Requirement already satisfied: pydantic>=1.9.1 in /home/ec2-user/anaconda3/envs/pytorch_p39/lib/python3.9/site-packages (from inflect->nemo_toolkit[all]) (1.10.4)\n",
      "Requirement already satisfied: beautifulsoup4 in /home/ec2-user/anaconda3/envs/pytorch_p39/lib/python3.9/site-packages (from gdown->nemo_toolkit[all]) (4.11.1)\n",
      "Requirement already satisfied: pycryptodome in /home/ec2-user/anaconda3/envs/pytorch_p39/lib/python3.9/site-packages (from gradio->nemo_toolkit[all]) (3.16.0)\n",
      "Requirement already satisfied: mdit-py-plugins<=0.3.3 in /home/ec2-user/anaconda3/envs/pytorch_p39/lib/python3.9/site-packages (from gradio->nemo_toolkit[all]) (0.3.3)\n",
      "Requirement already satisfied: markupsafe in /home/ec2-user/anaconda3/envs/pytorch_p39/lib/python3.9/site-packages (from gradio->nemo_toolkit[all]) (2.1.2)\n",
      "Requirement already satisfied: altair>=4.2.0 in /home/ec2-user/anaconda3/envs/pytorch_p39/lib/python3.9/site-packages (from gradio->nemo_toolkit[all]) (4.2.2)\n",
      "Requirement already satisfied: orjson in /home/ec2-user/anaconda3/envs/pytorch_p39/lib/python3.9/site-packages (from gradio->nemo_toolkit[all]) (3.8.7)\n",
      "Requirement already satisfied: jinja2 in /home/ec2-user/anaconda3/envs/pytorch_p39/lib/python3.9/site-packages (from gradio->nemo_toolkit[all]) (3.1.2)\n",
      "Requirement already satisfied: aiofiles in /home/ec2-user/anaconda3/envs/pytorch_p39/lib/python3.9/site-packages (from gradio->nemo_toolkit[all]) (23.1.0)\n",
      "Requirement already satisfied: ffmpy in /home/ec2-user/anaconda3/envs/pytorch_p39/lib/python3.9/site-packages (from gradio->nemo_toolkit[all]) (0.3.0)\n",
      "Requirement already satisfied: fastapi in /home/ec2-user/anaconda3/envs/pytorch_p39/lib/python3.9/site-packages (from gradio->nemo_toolkit[all]) (0.93.0)\n",
      "Requirement already satisfied: aiohttp in /home/ec2-user/anaconda3/envs/pytorch_p39/lib/python3.9/site-packages (from gradio->nemo_toolkit[all]) (3.8.3)\n",
      "Requirement already satisfied: markdown-it-py[linkify]>=2.0.0 in /home/ec2-user/anaconda3/envs/pytorch_p39/lib/python3.9/site-packages (from gradio->nemo_toolkit[all]) (2.2.0)\n",
      "Requirement already satisfied: uvicorn in /home/ec2-user/anaconda3/envs/pytorch_p39/lib/python3.9/site-packages (from gradio->nemo_toolkit[all]) (0.20.0)\n",
      "Requirement already satisfied: python-multipart in /home/ec2-user/anaconda3/envs/pytorch_p39/lib/python3.9/site-packages (from gradio->nemo_toolkit[all]) (0.0.6)\n",
      "Requirement already satisfied: httpx in /home/ec2-user/anaconda3/envs/pytorch_p39/lib/python3.9/site-packages (from gradio->nemo_toolkit[all]) (0.23.3)\n",
      "Requirement already satisfied: websockets>=10.0 in /home/ec2-user/anaconda3/envs/pytorch_p39/lib/python3.9/site-packages (from gradio->nemo_toolkit[all]) (10.4)\n",
      "Requirement already satisfied: traitlets>=4.3.1 in /home/ec2-user/anaconda3/envs/pytorch_p39/lib/python3.9/site-packages (from ipywidgets->nemo_toolkit[all]) (5.8.1)\n",
      "Requirement already satisfied: ipykernel>=4.5.1 in /home/ec2-user/anaconda3/envs/pytorch_p39/lib/python3.9/site-packages (from ipywidgets->nemo_toolkit[all]) (6.20.1)\n",
      "Requirement already satisfied: jupyterlab-widgets~=3.0 in /home/ec2-user/anaconda3/envs/pytorch_p39/lib/python3.9/site-packages (from ipywidgets->nemo_toolkit[all]) (3.0.5)\n",
      "Requirement already satisfied: ipython>=6.1.0 in /home/ec2-user/anaconda3/envs/pytorch_p39/lib/python3.9/site-packages (from ipywidgets->nemo_toolkit[all]) (7.32.0)\n",
      "Requirement already satisfied: widgetsnbextension~=4.0 in /home/ec2-user/anaconda3/envs/pytorch_p39/lib/python3.9/site-packages (from ipywidgets->nemo_toolkit[all]) (4.0.5)\n",
      "Requirement already satisfied: cdifflib in /home/ec2-user/anaconda3/envs/pytorch_p39/lib/python3.9/site-packages (from nemo-text-processing->nemo_toolkit[all]) (1.2.6)\n",
      "Requirement already satisfied: pynini==2.1.5 in /home/ec2-user/anaconda3/envs/pytorch_p39/lib/python3.9/site-packages (from nemo-text-processing->nemo_toolkit[all]) (2.1.5)\n",
      "Requirement already satisfied: Cython>=0.29 in /home/ec2-user/anaconda3/envs/pytorch_p39/lib/python3.9/site-packages (from pynini==2.1.5->nemo-text-processing->nemo_toolkit[all]) (0.29.33)\n",
      "Requirement already satisfied: sortedcontainers>=2.0.4 in /home/ec2-user/anaconda3/envs/pytorch_p39/lib/python3.9/site-packages (from pyannote.core->nemo_toolkit[all]) (2.4.0)\n",
      "Requirement already satisfied: sympy>=1.1 in /home/ec2-user/anaconda3/envs/pytorch_p39/lib/python3.9/site-packages (from pyannote.metrics->nemo_toolkit[all]) (1.11.1)\n",
      "Requirement already satisfied: docopt>=0.6.2 in /home/ec2-user/anaconda3/envs/pytorch_p39/lib/python3.9/site-packages (from pyannote.metrics->nemo_toolkit[all]) (0.6.2)\n",
      "Requirement already satisfied: pyannote.database>=4.0.1 in /home/ec2-user/anaconda3/envs/pytorch_p39/lib/python3.9/site-packages (from pyannote.metrics->nemo_toolkit[all]) (4.1.3)\n",
      "Requirement already satisfied: iniconfig in /home/ec2-user/anaconda3/envs/pytorch_p39/lib/python3.9/site-packages (from pytest->nemo_toolkit[all]) (2.0.0)\n",
      "Requirement already satisfied: pluggy<2.0,>=0.12 in /home/ec2-user/anaconda3/envs/pytorch_p39/lib/python3.9/site-packages (from pytest->nemo_toolkit[all]) (1.0.0)\n",
      "Requirement already satisfied: exceptiongroup>=1.0.0rc8 in /home/ec2-user/anaconda3/envs/pytorch_p39/lib/python3.9/site-packages (from pytest->nemo_toolkit[all]) (1.1.0)\n",
      "Requirement already satisfied: tomli>=1.0.0 in /home/ec2-user/anaconda3/envs/pytorch_p39/lib/python3.9/site-packages (from pytest->nemo_toolkit[all]) (2.0.1)\n",
      "Requirement already satisfied: ruamel.yaml.clib>=0.2.6 in /home/ec2-user/anaconda3/envs/pytorch_p39/lib/python3.9/site-packages (from ruamel.yaml->nemo_toolkit[all]) (0.2.7)\n",
      "Requirement already satisfied: colorama in /home/ec2-user/anaconda3/envs/pytorch_p39/lib/python3.9/site-packages (from sacrebleu[ja]->nemo_toolkit[all]) (0.4.3)\n",
      "Requirement already satisfied: portalocker in /home/ec2-user/anaconda3/envs/pytorch_p39/lib/python3.9/site-packages (from sacrebleu[ja]->nemo_toolkit[all]) (2.7.0)\n",
      "Requirement already satisfied: lxml in /home/ec2-user/anaconda3/envs/pytorch_p39/lib/python3.9/site-packages (from sacrebleu[ja]->nemo_toolkit[all]) (4.9.2)\n",
      "Requirement already satisfied: mecab-python3==1.0.5 in /home/ec2-user/anaconda3/envs/pytorch_p39/lib/python3.9/site-packages (from sacrebleu[ja]->nemo_toolkit[all]) (1.0.5)\n",
      "Requirement already satisfied: ipadic<2.0,>=1.0 in /home/ec2-user/anaconda3/envs/pytorch_p39/lib/python3.9/site-packages (from sacrebleu[ja]->nemo_toolkit[all]) (1.0.0)\n",
      "Requirement already satisfied: torchvision in /home/ec2-user/anaconda3/envs/pytorch_p39/lib/python3.9/site-packages (from sentence-transformers->nemo_toolkit[all]) (0.12.0)\n",
      "Requirement already satisfied: docutils<0.20,>=0.14 in /home/ec2-user/anaconda3/envs/pytorch_p39/lib/python3.9/site-packages (from sphinx->nemo_toolkit[all]) (0.15.2)\n",
      "Requirement already satisfied: sphinxcontrib-devhelp in /home/ec2-user/anaconda3/envs/pytorch_p39/lib/python3.9/site-packages (from sphinx->nemo_toolkit[all]) (1.0.2)\n",
      "Requirement already satisfied: sphinxcontrib-serializinghtml>=1.1.5 in /home/ec2-user/anaconda3/envs/pytorch_p39/lib/python3.9/site-packages (from sphinx->nemo_toolkit[all]) (1.1.5)\n",
      "Requirement already satisfied: sphinxcontrib-qthelp in /home/ec2-user/anaconda3/envs/pytorch_p39/lib/python3.9/site-packages (from sphinx->nemo_toolkit[all]) (1.0.3)\n",
      "Requirement already satisfied: alabaster<0.8,>=0.7 in /home/ec2-user/anaconda3/envs/pytorch_p39/lib/python3.9/site-packages (from sphinx->nemo_toolkit[all]) (0.7.12)\n",
      "Requirement already satisfied: imagesize in /home/ec2-user/anaconda3/envs/pytorch_p39/lib/python3.9/site-packages (from sphinx->nemo_toolkit[all]) (1.4.1)\n",
      "Requirement already satisfied: importlib-metadata>=4.4 in /home/ec2-user/anaconda3/envs/pytorch_p39/lib/python3.9/site-packages (from sphinx->nemo_toolkit[all]) (4.13.0)\n",
      "Requirement already satisfied: sphinxcontrib-applehelp in /home/ec2-user/anaconda3/envs/pytorch_p39/lib/python3.9/site-packages (from sphinx->nemo_toolkit[all]) (1.0.2)\n",
      "Requirement already satisfied: babel>=1.3 in /home/ec2-user/anaconda3/envs/pytorch_p39/lib/python3.9/site-packages (from sphinx->nemo_toolkit[all]) (2.11.0)\n",
      "Requirement already satisfied: Pygments>=2.0 in /home/ec2-user/anaconda3/envs/pytorch_p39/lib/python3.9/site-packages (from sphinx->nemo_toolkit[all]) (2.14.0)\n",
      "Requirement already satisfied: sphinxcontrib-htmlhelp>=2.0.0 in /home/ec2-user/anaconda3/envs/pytorch_p39/lib/python3.9/site-packages (from sphinx->nemo_toolkit[all]) (2.0.0)\n",
      "Requirement already satisfied: snowballstemmer>=1.1 in /home/ec2-user/anaconda3/envs/pytorch_p39/lib/python3.9/site-packages (from sphinx->nemo_toolkit[all]) (2.2.0)\n",
      "Requirement already satisfied: sphinxcontrib-jsmath in /home/ec2-user/anaconda3/envs/pytorch_p39/lib/python3.9/site-packages (from sphinx->nemo_toolkit[all]) (1.0.1)\n",
      "Requirement already satisfied: pybtex-docutils>=1.0.0 in /home/ec2-user/anaconda3/envs/pytorch_p39/lib/python3.9/site-packages (from sphinxcontrib-bibtex->nemo_toolkit[all]) (1.0.2)\n",
      "Requirement already satisfied: pybtex>=0.24 in /home/ec2-user/anaconda3/envs/pytorch_p39/lib/python3.9/site-packages (from sphinxcontrib-bibtex->nemo_toolkit[all]) (0.24.0)\n",
      "Requirement already satisfied: grpcio>=1.48.2 in /home/ec2-user/anaconda3/envs/pytorch_p39/lib/python3.9/site-packages (from tensorboard->nemo_toolkit[all]) (1.51.3)\n",
      "Requirement already satisfied: tensorboard-data-server<0.8.0,>=0.7.0 in /home/ec2-user/anaconda3/envs/pytorch_p39/lib/python3.9/site-packages (from tensorboard->nemo_toolkit[all]) (0.7.0)\n",
      "Requirement already satisfied: wheel>=0.26 in /home/ec2-user/anaconda3/envs/pytorch_p39/lib/python3.9/site-packages (from tensorboard->nemo_toolkit[all]) (0.40.0)\n",
      "Requirement already satisfied: tensorboard-plugin-wit>=1.6.0 in /home/ec2-user/anaconda3/envs/pytorch_p39/lib/python3.9/site-packages (from tensorboard->nemo_toolkit[all]) (1.8.1)\n",
      "Requirement already satisfied: absl-py>=0.4 in /home/ec2-user/anaconda3/envs/pytorch_p39/lib/python3.9/site-packages (from tensorboard->nemo_toolkit[all]) (1.4.0)\n",
      "Requirement already satisfied: markdown>=2.6.8 in /home/ec2-user/anaconda3/envs/pytorch_p39/lib/python3.9/site-packages (from tensorboard->nemo_toolkit[all]) (3.4.1)\n",
      "Requirement already satisfied: google-auth<3,>=1.6.3 in /home/ec2-user/anaconda3/envs/pytorch_p39/lib/python3.9/site-packages (from tensorboard->nemo_toolkit[all]) (2.16.2)\n",
      "Requirement already satisfied: google-auth-oauthlib<0.5,>=0.4.1 in /home/ec2-user/anaconda3/envs/pytorch_p39/lib/python3.9/site-packages (from tensorboard->nemo_toolkit[all]) (0.4.6)\n",
      "Requirement already satisfied: werkzeug>=1.0.1 in /home/ec2-user/anaconda3/envs/pytorch_p39/lib/python3.9/site-packages (from tensorboard->nemo_toolkit[all]) (2.2.2)\n",
      "Requirement already satisfied: loguru in /home/ec2-user/anaconda3/envs/pytorch_p39/lib/python3.9/site-packages (from texterrors->nemo_toolkit[all]) (0.6.0)\n",
      "Requirement already satisfied: plac in /home/ec2-user/anaconda3/envs/pytorch_p39/lib/python3.9/site-packages (from texterrors->nemo_toolkit[all]) (1.3.5)\n",
      "Requirement already satisfied: termcolor in /home/ec2-user/anaconda3/envs/pytorch_p39/lib/python3.9/site-packages (from texterrors->nemo_toolkit[all]) (2.2.0)\n",
      "Requirement already satisfied: psutil>=5.0.0 in /home/ec2-user/anaconda3/envs/pytorch_p39/lib/python3.9/site-packages (from wandb->nemo_toolkit[all]) (5.9.4)\n",
      "Requirement already satisfied: pathtools in /home/ec2-user/anaconda3/envs/pytorch_p39/lib/python3.9/site-packages (from wandb->nemo_toolkit[all]) (0.1.2)\n",
      "Requirement already satisfied: setproctitle in /home/ec2-user/anaconda3/envs/pytorch_p39/lib/python3.9/site-packages (from wandb->nemo_toolkit[all]) (1.3.2)\n",
      "Requirement already satisfied: sentry-sdk>=1.0.0 in /home/ec2-user/anaconda3/envs/pytorch_p39/lib/python3.9/site-packages (from wandb->nemo_toolkit[all]) (1.16.0)\n",
      "Requirement already satisfied: docker-pycreds>=0.4.0 in /home/ec2-user/anaconda3/envs/pytorch_p39/lib/python3.9/site-packages (from wandb->nemo_toolkit[all]) (0.4.0)\n",
      "Requirement already satisfied: GitPython!=3.1.29,>=1.0.0 in /home/ec2-user/anaconda3/envs/pytorch_p39/lib/python3.9/site-packages (from wandb->nemo_toolkit[all]) (3.1.31)\n",
      "Requirement already satisfied: jsonschema>=3.0 in /home/ec2-user/anaconda3/envs/pytorch_p39/lib/python3.9/site-packages (from altair>=4.2.0->gradio->nemo_toolkit[all]) (3.2.0)\n",
      "Requirement already satisfied: entrypoints in /home/ec2-user/anaconda3/envs/pytorch_p39/lib/python3.9/site-packages (from altair>=4.2.0->gradio->nemo_toolkit[all]) (0.4)\n",
      "Requirement already satisfied: toolz in /home/ec2-user/anaconda3/envs/pytorch_p39/lib/python3.9/site-packages (from altair>=4.2.0->gradio->nemo_toolkit[all]) (0.12.0)\n",
      "Requirement already satisfied: urllib3<1.27,>=1.25.4 in /home/ec2-user/anaconda3/envs/pytorch_p39/lib/python3.9/site-packages (from botocore<1.30.0,>=1.29.71->boto3->nemo_toolkit[all]) (1.26.15)\n",
      "Requirement already satisfied: pycparser in /home/ec2-user/anaconda3/envs/pytorch_p39/lib/python3.9/site-packages (from cffi>=1.0->soundfile->nemo_toolkit[all]) (2.21)\n",
      "Requirement already satisfied: itsdangerous>=2.0 in /home/ec2-user/anaconda3/envs/pytorch_p39/lib/python3.9/site-packages (from Flask>=0.8->flask-restful->nemo_toolkit[all]) (2.1.2)\n",
      "Requirement already satisfied: multidict<7.0,>=4.5 in /home/ec2-user/anaconda3/envs/pytorch_p39/lib/python3.9/site-packages (from aiohttp->gradio->nemo_toolkit[all]) (6.0.4)\n",
      "Requirement already satisfied: async-timeout<5.0,>=4.0.0a3 in /home/ec2-user/anaconda3/envs/pytorch_p39/lib/python3.9/site-packages (from aiohttp->gradio->nemo_toolkit[all]) (4.0.2)\n",
      "Requirement already satisfied: charset-normalizer<3.0,>=2.0 in /home/ec2-user/anaconda3/envs/pytorch_p39/lib/python3.9/site-packages (from aiohttp->gradio->nemo_toolkit[all]) (2.1.1)\n",
      "Requirement already satisfied: aiosignal>=1.1.2 in /home/ec2-user/anaconda3/envs/pytorch_p39/lib/python3.9/site-packages (from aiohttp->gradio->nemo_toolkit[all]) (1.3.1)\n",
      "Requirement already satisfied: yarl<2.0,>=1.0 in /home/ec2-user/anaconda3/envs/pytorch_p39/lib/python3.9/site-packages (from aiohttp->gradio->nemo_toolkit[all]) (1.8.2)\n",
      "Requirement already satisfied: frozenlist>=1.1.1 in /home/ec2-user/anaconda3/envs/pytorch_p39/lib/python3.9/site-packages (from aiohttp->gradio->nemo_toolkit[all]) (1.3.3)\n",
      "Requirement already satisfied: gitdb<5,>=4.0.1 in /home/ec2-user/anaconda3/envs/pytorch_p39/lib/python3.9/site-packages (from GitPython!=3.1.29,>=1.0.0->wandb->nemo_toolkit[all]) (4.0.10)\n",
      "Requirement already satisfied: cachetools<6.0,>=2.0.0 in /home/ec2-user/anaconda3/envs/pytorch_p39/lib/python3.9/site-packages (from google-auth<3,>=1.6.3->tensorboard->nemo_toolkit[all]) (5.3.0)\n",
      "Requirement already satisfied: pyasn1-modules>=0.2.1 in /home/ec2-user/anaconda3/envs/pytorch_p39/lib/python3.9/site-packages (from google-auth<3,>=1.6.3->tensorboard->nemo_toolkit[all]) (0.2.8)\n",
      "Requirement already satisfied: rsa<5,>=3.1.4 in /home/ec2-user/anaconda3/envs/pytorch_p39/lib/python3.9/site-packages (from google-auth<3,>=1.6.3->tensorboard->nemo_toolkit[all]) (4.7.2)\n",
      "Requirement already satisfied: requests-oauthlib>=0.7.0 in /home/ec2-user/anaconda3/envs/pytorch_p39/lib/python3.9/site-packages (from google-auth-oauthlib<0.5,>=0.4.1->tensorboard->nemo_toolkit[all]) (1.3.1)\n",
      "Requirement already satisfied: zipp>=0.5 in /home/ec2-user/anaconda3/envs/pytorch_p39/lib/python3.9/site-packages (from importlib-metadata>=4.4->sphinx->nemo_toolkit[all]) (3.11.0)\n",
      "Requirement already satisfied: jupyter-client>=6.1.12 in /home/ec2-user/anaconda3/envs/pytorch_p39/lib/python3.9/site-packages (from ipykernel>=4.5.1->ipywidgets->nemo_toolkit[all]) (7.4.8)\n",
      "Requirement already satisfied: tornado>=6.1 in /home/ec2-user/anaconda3/envs/pytorch_p39/lib/python3.9/site-packages (from ipykernel>=4.5.1->ipywidgets->nemo_toolkit[all]) (6.2)\n",
      "Requirement already satisfied: debugpy>=1.0 in /home/ec2-user/anaconda3/envs/pytorch_p39/lib/python3.9/site-packages (from ipykernel>=4.5.1->ipywidgets->nemo_toolkit[all]) (1.6.5)\n",
      "Requirement already satisfied: comm>=0.1.1 in /home/ec2-user/anaconda3/envs/pytorch_p39/lib/python3.9/site-packages (from ipykernel>=4.5.1->ipywidgets->nemo_toolkit[all]) (0.1.2)\n",
      "Requirement already satisfied: pyzmq>=17 in /home/ec2-user/anaconda3/envs/pytorch_p39/lib/python3.9/site-packages (from ipykernel>=4.5.1->ipywidgets->nemo_toolkit[all]) (24.0.1)\n",
      "Requirement already satisfied: matplotlib-inline>=0.1 in /home/ec2-user/anaconda3/envs/pytorch_p39/lib/python3.9/site-packages (from ipykernel>=4.5.1->ipywidgets->nemo_toolkit[all]) (0.1.6)\n",
      "Requirement already satisfied: nest-asyncio in /home/ec2-user/anaconda3/envs/pytorch_p39/lib/python3.9/site-packages (from ipykernel>=4.5.1->ipywidgets->nemo_toolkit[all]) (1.5.5)\n",
      "Requirement already satisfied: prompt-toolkit!=3.0.0,!=3.0.1,<3.1.0,>=2.0.0 in /home/ec2-user/anaconda3/envs/pytorch_p39/lib/python3.9/site-packages (from ipython>=6.1.0->ipywidgets->nemo_toolkit[all]) (3.0.36)\n",
      "Requirement already satisfied: jedi>=0.16 in /home/ec2-user/anaconda3/envs/pytorch_p39/lib/python3.9/site-packages (from ipython>=6.1.0->ipywidgets->nemo_toolkit[all]) (0.18.2)\n",
      "Requirement already satisfied: backcall in /home/ec2-user/anaconda3/envs/pytorch_p39/lib/python3.9/site-packages (from ipython>=6.1.0->ipywidgets->nemo_toolkit[all]) (0.2.0)\n",
      "Requirement already satisfied: pexpect>4.3 in /home/ec2-user/anaconda3/envs/pytorch_p39/lib/python3.9/site-packages (from ipython>=6.1.0->ipywidgets->nemo_toolkit[all]) (4.8.0)\n",
      "Requirement already satisfied: pickleshare in /home/ec2-user/anaconda3/envs/pytorch_p39/lib/python3.9/site-packages (from ipython>=6.1.0->ipywidgets->nemo_toolkit[all]) (0.7.5)\n",
      "Requirement already satisfied: mdurl~=0.1 in /home/ec2-user/anaconda3/envs/pytorch_p39/lib/python3.9/site-packages (from markdown-it-py[linkify]>=2.0.0->gradio->nemo_toolkit[all]) (0.1.2)\n",
      "Requirement already satisfied: linkify-it-py<3,>=1 in /home/ec2-user/anaconda3/envs/pytorch_p39/lib/python3.9/site-packages (from markdown-it-py[linkify]>=2.0.0->gradio->nemo_toolkit[all]) (2.0.0)\n",
      "Requirement already satisfied: typer[all]>=0.2.1 in /home/ec2-user/anaconda3/envs/pytorch_p39/lib/python3.9/site-packages (from pyannote.database>=4.0.1->pyannote.metrics->nemo_toolkit[all]) (0.4.2)\n",
      "Requirement already satisfied: latexcodec>=1.0.4 in /home/ec2-user/anaconda3/envs/pytorch_p39/lib/python3.9/site-packages (from pybtex>=0.24->sphinxcontrib-bibtex->nemo_toolkit[all]) (2.0.1)\n",
      "Requirement already satisfied: certifi>=2017.4.17 in /home/ec2-user/anaconda3/envs/pytorch_p39/lib/python3.9/site-packages (from requests->transformers>=4.0.1->nemo_toolkit[all]) (2022.12.7)\n",
      "Requirement already satisfied: idna<4,>=2.5 in /home/ec2-user/anaconda3/envs/pytorch_p39/lib/python3.9/site-packages (from requests->transformers>=4.0.1->nemo_toolkit[all]) (3.4)\n",
      "Requirement already satisfied: mpmath>=0.19 in /home/ec2-user/anaconda3/envs/pytorch_p39/lib/python3.9/site-packages (from sympy>=1.1->pyannote.metrics->nemo_toolkit[all]) (1.3.0)\n",
      "Requirement already satisfied: soupsieve>1.2 in /home/ec2-user/anaconda3/envs/pytorch_p39/lib/python3.9/site-packages (from beautifulsoup4->gdown->nemo_toolkit[all]) (2.3.2.post1)\n",
      "Requirement already satisfied: starlette<0.26.0,>=0.25.0 in /home/ec2-user/anaconda3/envs/pytorch_p39/lib/python3.9/site-packages (from fastapi->gradio->nemo_toolkit[all]) (0.25.0)\n",
      "Requirement already satisfied: rfc3986[idna2008]<2,>=1.3 in /home/ec2-user/anaconda3/envs/pytorch_p39/lib/python3.9/site-packages (from httpx->gradio->nemo_toolkit[all]) (1.5.0)\n",
      "Requirement already satisfied: sniffio in /home/ec2-user/anaconda3/envs/pytorch_p39/lib/python3.9/site-packages (from httpx->gradio->nemo_toolkit[all]) (1.3.0)\n",
      "Requirement already satisfied: httpcore<0.17.0,>=0.15.0 in /home/ec2-user/anaconda3/envs/pytorch_p39/lib/python3.9/site-packages (from httpx->gradio->nemo_toolkit[all]) (0.16.3)\n",
      "Requirement already satisfied: PySocks!=1.5.7,>=1.5.6 in /home/ec2-user/anaconda3/envs/pytorch_p39/lib/python3.9/site-packages (from requests->transformers>=4.0.1->nemo_toolkit[all]) (1.7.1)\n",
      "Requirement already satisfied: h11>=0.8 in /home/ec2-user/anaconda3/envs/pytorch_p39/lib/python3.9/site-packages (from uvicorn->gradio->nemo_toolkit[all]) (0.14.0)\n",
      "Requirement already satisfied: smmap<6,>=3.0.1 in /home/ec2-user/anaconda3/envs/pytorch_p39/lib/python3.9/site-packages (from gitdb<5,>=4.0.1->GitPython!=3.1.29,>=1.0.0->wandb->nemo_toolkit[all]) (5.0.0)\n",
      "Requirement already satisfied: anyio<5.0,>=3.0 in /home/ec2-user/anaconda3/envs/pytorch_p39/lib/python3.9/site-packages (from httpcore<0.17.0,>=0.15.0->httpx->gradio->nemo_toolkit[all]) (3.6.2)\n",
      "Requirement already satisfied: parso<0.9.0,>=0.8.0 in /home/ec2-user/anaconda3/envs/pytorch_p39/lib/python3.9/site-packages (from jedi>=0.16->ipython>=6.1.0->ipywidgets->nemo_toolkit[all]) (0.8.3)\n",
      "Requirement already satisfied: pyrsistent>=0.14.0 in /home/ec2-user/anaconda3/envs/pytorch_p39/lib/python3.9/site-packages (from jsonschema>=3.0->altair>=4.2.0->gradio->nemo_toolkit[all]) (0.19.3)\n",
      "Requirement already satisfied: jupyter-core>=4.9.2 in /home/ec2-user/anaconda3/envs/pytorch_p39/lib/python3.9/site-packages (from jupyter-client>=6.1.12->ipykernel>=4.5.1->ipywidgets->nemo_toolkit[all]) (5.1.3)\n",
      "Requirement already satisfied: uc-micro-py in /home/ec2-user/anaconda3/envs/pytorch_p39/lib/python3.9/site-packages (from linkify-it-py<3,>=1->markdown-it-py[linkify]>=2.0.0->gradio->nemo_toolkit[all]) (1.0.1)\n",
      "Requirement already satisfied: ptyprocess>=0.5 in /home/ec2-user/anaconda3/envs/pytorch_p39/lib/python3.9/site-packages (from pexpect>4.3->ipython>=6.1.0->ipywidgets->nemo_toolkit[all]) (0.7.0)\n",
      "Requirement already satisfied: pyasn1<0.5.0,>=0.4.6 in /home/ec2-user/anaconda3/envs/pytorch_p39/lib/python3.9/site-packages (from pyasn1-modules>=0.2.1->google-auth<3,>=1.6.3->tensorboard->nemo_toolkit[all]) (0.4.8)\n",
      "Requirement already satisfied: oauthlib>=3.0.0 in /home/ec2-user/anaconda3/envs/pytorch_p39/lib/python3.9/site-packages (from requests-oauthlib>=0.7.0->google-auth-oauthlib<0.5,>=0.4.1->tensorboard->nemo_toolkit[all]) (3.2.2)\n",
      "Requirement already satisfied: shellingham<2.0.0,>=1.3.0 in /home/ec2-user/anaconda3/envs/pytorch_p39/lib/python3.9/site-packages (from typer[all]>=0.2.1->pyannote.database>=4.0.1->pyannote.metrics->nemo_toolkit[all]) (1.5.0.post1)\n",
      "Requirement already satisfied: platformdirs>=2.5 in /home/ec2-user/anaconda3/envs/pytorch_p39/lib/python3.9/site-packages (from jupyter-core>=4.9.2->jupyter-client>=6.1.12->ipykernel>=4.5.1->ipywidgets->nemo_toolkit[all]) (2.6.2)\n",
      "Installing collected packages: setuptools, omegaconf\n",
      "  Attempting uninstall: setuptools\n",
      "    Found existing installation: setuptools 67.6.0\n",
      "    Uninstalling setuptools-67.6.0:\n",
      "      Successfully uninstalled setuptools-67.6.0\n",
      "  Attempting uninstall: omegaconf\n",
      "    Found existing installation: omegaconf 2.3.0\n",
      "    Uninstalling omegaconf-2.3.0:\n",
      "      Successfully uninstalled omegaconf-2.3.0\n",
      "\u001b[31mERROR: pip's dependency resolver does not currently take into account all the packages that are installed. This behaviour is the source of the following dependency conflicts.\n",
      "python-lsp-black 1.2.1 requires black>=22.3.0, but you have black 19.10b0 which is incompatible.\u001b[0m\u001b[31m\n",
      "\u001b[0mSuccessfully installed omegaconf-2.2.3 setuptools-65.5.1\n"
     ]
    }
   ],
   "source": [
    "import sys\n",
    "import IPython\n",
    "\n",
    "if install_needed:\n",
    "    print(\"installing deps and restarting kernel\")\n",
    "    !{sys.executable} -m pip install -U pip\n",
    "    !{sys.executable} -m pip install -U smdebug sagemaker-experiments\n",
    "    !{sys.executable} -m pip install -U sagemaker\n",
    "    !{sys.executable} -m pip install -U datasets transformers\n",
    "    !{sys.executable} -m pip install -U wget omegaconf text-unidecode sox\n",
    "    \n",
    "    ## Install NeMo\n",
    "    !sudo yum install sox -y\n",
    "    !sudo yum install libsndfile\n",
    "    !pip install --upgrade --force-reinstall llvmlite\n",
    "    BRANCH = 'main'\n",
    "    !{sys.executable} -m pip install git+https://github.com/NVIDIA/NeMo.git@$BRANCH#egg=nemo_toolkit[all]\n",
    "    \n",
    "    IPython.Application.instance().kernel.do_shutdown(True)"
   ]
  },
  {
   "cell_type": "markdown",
   "id": "9d235cc4-356c-43e0-99ca-fea913797c99",
   "metadata": {
    "tags": []
   },
   "source": [
    "## 1. Set roles"
   ]
  },
  {
   "cell_type": "code",
   "execution_count": 1,
   "id": "1f3a2019-2337-4b48-9bd8-f577ac13daed",
   "metadata": {
    "tags": []
   },
   "outputs": [],
   "source": [
    "from sagemaker import get_execution_role"
   ]
  },
  {
   "cell_type": "code",
   "execution_count": 2,
   "id": "3be71d18-b4b7-4196-abf1-1922f3013c4e",
   "metadata": {
    "tags": []
   },
   "outputs": [
    {
     "name": "stdout",
     "output_type": "stream",
     "text": [
      "SageMaker Execution Role Name: AmazonSageMaker-ExecutionRole-20210401T133000\n"
     ]
    }
   ],
   "source": [
    "strSageMakerRoleName = get_execution_role().rsplit('/', 1)[-1]\n",
    "print (f\"SageMaker Execution Role Name: {strSageMakerRoleName}\")"
   ]
  },
  {
   "cell_type": "markdown",
   "id": "8acda191-5a24-4904-b637-92e9bfd580e2",
   "metadata": {
    "tags": []
   },
   "source": [
    "## 1.1 Attach IAM polich to sagemaker execution role (<b>with console</b>)\n",
    "> **EC2ContainerRegistry**: \"arn:aws:iam::aws:policy/AmazonEC2ContainerRegistryFullAccess\" <BR>\n",
    "> **S3**: \"arn:aws:iam::aws:policy/AmazonS3FullAccess\""
   ]
  },
  {
   "cell_type": "markdown",
   "id": "87fe7a4b-03e1-4422-8bd5-62d30e0a419f",
   "metadata": {},
   "source": [
    "## 2. Set default parameters"
   ]
  },
  {
   "cell_type": "code",
   "execution_count": 5,
   "id": "e5e8ad58-6a1e-41b4-88e5-aec263ef935e",
   "metadata": {
    "tags": []
   },
   "outputs": [],
   "source": [
    "import boto3\n",
    "import sagemaker"
   ]
  },
  {
   "cell_type": "markdown",
   "id": "92d651c6-93ad-463b-905a-d9978bd748a7",
   "metadata": {},
   "source": [
    "### Bucket / Prefix 설정"
   ]
  },
  {
   "cell_type": "code",
   "execution_count": 78,
   "id": "659a6734-542a-4f79-b4bb-726408709308",
   "metadata": {
    "tags": []
   },
   "outputs": [],
   "source": [
    "strRegionName = boto3.Session().region_name\n",
    "strAccountId = boto3.client(\"sts\").get_caller_identity().get(\"Account\")\n",
    "bucket_name = '  ' # <-- 사용할 bucket 명을 추가해 주세요. ex) sagemaker-us-east-1-123456789123\n",
    "prefix = '  ' ## <-- 작업할 prefix 명을 추가해 주세요. ex) nemo-test"
   ]
  },
  {
   "cell_type": "markdown",
   "id": "c82a79d6-71b2-48fb-8c80-41a9549b36c5",
   "metadata": {},
   "source": [
    "## 3. Create custom docker image for preprocessing"
   ]
  },
  {
   "cell_type": "markdown",
   "id": "84b2409b-8c8f-420f-bf7d-0ca95880b92f",
   "metadata": {},
   "source": [
    "* docker build"
   ]
  },
  {
   "cell_type": "code",
   "execution_count": 28,
   "id": "e2c97bbe-918a-454e-a444-0a03bc5c48b1",
   "metadata": {
    "tags": []
   },
   "outputs": [
    {
     "name": "stdout",
     "output_type": "stream",
     "text": [
      "\u001b[37m## docker build -f Dockerfile -t 322537213286.dkr.ecr.us-west-2.amazonaws.com/pytorch-training:1.13.1-gpu-py39-nemo-main .\u001b[39;49;00m\u001b[37m\u001b[39;49;00m\n",
      "\u001b[37m\u001b[39;49;00m\n",
      "\u001b[37m# From 763104351884.dkr.ecr.us-west-2.amazonaws.com/pytorch-training:1.13.1-gpu-py39\u001b[39;49;00m\u001b[37m\u001b[39;49;00m\n",
      "\u001b[37m\u001b[39;49;00m\n",
      "\u001b[37m# RUN pip install --no-cache-dir --upgrade pip \\\u001b[39;49;00m\u001b[37m\u001b[39;49;00m\n",
      "\u001b[37m#  && pip install --no-cache-dir -U omegaconf hydra-core librosa sentencepiece youtokentome inflect \\\u001b[39;49;00m\u001b[37m\u001b[39;49;00m\n",
      "\u001b[37m#  && pip install --no-cache-dir -U braceexpand webdataset editdistance jiwer \\\u001b[39;49;00m\u001b[37m\u001b[39;49;00m\n",
      "\u001b[37m#  && pip install --no-cache-dir -U pytorch-lightning \\ \u001b[39;49;00m\u001b[37m\u001b[39;49;00m\n",
      "\u001b[37m#  && pip install --no-cache-dir -qq https://github.com/pyannote/pyannote-audio/archive/develop.zip \\ \u001b[39;49;00m\u001b[37m\u001b[39;49;00m\n",
      "\u001b[37m#  && pip install --no-cache-dir git+https://github.com/huggingface/transformers \\ \u001b[39;49;00m\u001b[37m\u001b[39;49;00m\n",
      "\u001b[37m#  && pip install --no-cache-dir git+https://github.com/NVIDIA/NeMo.git@main\u001b[39;49;00m\u001b[37m\u001b[39;49;00m\n",
      "\u001b[37m \u001b[39;49;00m\u001b[37m\u001b[39;49;00m\n",
      "\u001b[37m# WORKDIR /\u001b[39;49;00m\u001b[37m\u001b[39;49;00m\n",
      "\u001b[37m\u001b[39;49;00m\n",
      "\u001b[34mFROM\u001b[39;49;00m\u001b[37m \u001b[39;49;00m\u001b[33m763104351884.dkr.ecr.us-west-2.amazonaws.com/pytorch-training:1.13.1-gpu-py39\u001b[39;49;00m\u001b[37m\u001b[39;49;00m\n",
      "\u001b[37m\u001b[39;49;00m\n",
      "\u001b[34mRUN\u001b[39;49;00m\u001b[37m \u001b[39;49;00mapt\u001b[37m \u001b[39;49;00m-y\u001b[37m \u001b[39;49;00mupdate\u001b[37m \u001b[39;49;00m&&\u001b[37m \u001b[39;49;00mapt\u001b[37m \u001b[39;49;00m-y\u001b[37m \u001b[39;49;00minstall\u001b[37m \u001b[39;49;00msox\u001b[37m\u001b[39;49;00m\n",
      "\u001b[34mRUN\u001b[39;49;00m\u001b[37m \u001b[39;49;00mapt-get\u001b[37m \u001b[39;49;00m-y\u001b[37m \u001b[39;49;00minstall\u001b[37m \u001b[39;49;00mlibsox-fmt-all\u001b[37m\u001b[39;49;00m\n",
      "\u001b[37m\u001b[39;49;00m\n",
      "\u001b[34mRUN\u001b[39;49;00m\u001b[37m \u001b[39;49;00mpip\u001b[37m \u001b[39;49;00minstall\u001b[37m \u001b[39;49;00m--no-cache-dir\u001b[37m \u001b[39;49;00m--upgrade\u001b[37m \u001b[39;49;00mpip\u001b[37m \u001b[39;49;00m\u001b[33m\\\u001b[39;49;00m\n",
      "\u001b[37m \u001b[39;49;00m&&\u001b[37m \u001b[39;49;00mpip\u001b[37m \u001b[39;49;00minstall\u001b[37m \u001b[39;49;00m--no-cache-dir\u001b[37m \u001b[39;49;00m-U\u001b[37m \u001b[39;49;00momegaconf\u001b[37m \u001b[39;49;00mhydra-core\u001b[37m \u001b[39;49;00mlibrosa\u001b[37m \u001b[39;49;00msentencepiece\u001b[37m \u001b[39;49;00myoutokentome\u001b[37m \u001b[39;49;00minflect\u001b[37m \u001b[39;49;00msox\u001b[37m \u001b[39;49;00m\u001b[33m\\\u001b[39;49;00m\n",
      "\u001b[37m \u001b[39;49;00m&&\u001b[37m \u001b[39;49;00mpip\u001b[37m \u001b[39;49;00minstall\u001b[37m \u001b[39;49;00m--no-cache-dir\u001b[37m \u001b[39;49;00m-U\u001b[37m \u001b[39;49;00mbraceexpand\u001b[37m \u001b[39;49;00mwebdataset\u001b[37m \u001b[39;49;00meditdistance\u001b[37m \u001b[39;49;00mjiwer\u001b[37m \u001b[39;49;00m\u001b[33m\\\u001b[39;49;00m\n",
      "\u001b[37m \u001b[39;49;00m&&\u001b[37m \u001b[39;49;00mpip\u001b[37m \u001b[39;49;00minstall\u001b[37m \u001b[39;49;00m--no-cache-dir\u001b[37m \u001b[39;49;00m-U\u001b[37m \u001b[39;49;00mpytorch-lightning\u001b[37m \u001b[39;49;00m\u001b[33m\\ \u001b[39;49;00m\u001b[37m\u001b[39;49;00m\n",
      "\u001b[37m \u001b[39;49;00m&&\u001b[37m \u001b[39;49;00mpip\u001b[37m \u001b[39;49;00minstall\u001b[37m \u001b[39;49;00m--no-cache-dir\u001b[37m \u001b[39;49;00m-qq\u001b[37m \u001b[39;49;00mhttps://github.com/pyannote/pyannote-audio/archive/develop.zip\u001b[37m \u001b[39;49;00m\u001b[33m\\ \u001b[39;49;00m\u001b[37m\u001b[39;49;00m\n",
      "\u001b[37m \u001b[39;49;00m&&\u001b[37m \u001b[39;49;00mpip\u001b[37m \u001b[39;49;00minstall\u001b[37m \u001b[39;49;00m--no-cache-dir\u001b[37m \u001b[39;49;00mgit+https://github.com/huggingface/transformers\u001b[37m \u001b[39;49;00m\u001b[33m\\ \u001b[39;49;00m\u001b[37m\u001b[39;49;00m\n",
      "\u001b[37m \u001b[39;49;00m&&\u001b[37m \u001b[39;49;00mpip\u001b[37m \u001b[39;49;00minstall\u001b[37m \u001b[39;49;00m--no-cache-dir\u001b[37m \u001b[39;49;00mgit+https://github.com/NVIDIA/NeMo.git@main\u001b[37m\u001b[39;49;00m\n",
      "\u001b[37m \u001b[39;49;00m\u001b[37m\u001b[39;49;00m\n",
      "\u001b[34mWORKDIR\u001b[39;49;00m\u001b[37m \u001b[39;49;00m\u001b[33m/\u001b[39;49;00m\u001b[37m\u001b[39;49;00m\n"
     ]
    }
   ],
   "source": [
    "!pygmentize custom-docker/Dockerfile"
   ]
  },
  {
   "cell_type": "markdown",
   "id": "9816ab13-8047-4f06-9fdc-97999a974bd1",
   "metadata": {},
   "source": [
    "* Base 이미지의 region, account-id 확인 후 아래 파라미터 입력"
   ]
  },
  {
   "cell_type": "markdown",
   "id": "c8a73b5e-1775-41f2-bf79-174cebab1778",
   "metadata": {},
   "source": [
    "### 1) AWS CLI 를 이용한 방식"
   ]
  },
  {
   "cell_type": "code",
   "execution_count": 56,
   "id": "eb1c8b5e-f0d6-4194-a8aa-6328b68c1280",
   "metadata": {
    "tags": []
   },
   "outputs": [
    {
     "name": "stdout",
     "output_type": "stream",
     "text": [
      "/home/ec2-user/SageMaker/2023/training-code/Nvidia-NeMo/nemo-on-sagemaker/custom-docker\n",
      "Sending build context to Docker daemon  10.24kB\n",
      "Step 1/5 : FROM 763104351884.dkr.ecr.us-west-2.amazonaws.com/pytorch-training:1.13.1-gpu-py39\n",
      " ---> f0cd3f7ded0e\n",
      "Step 2/5 : RUN apt -y update && apt -y install sox\n",
      " ---> Using cache\n",
      " ---> 367197b752c7\n",
      "Step 3/5 : RUN apt-get -y install libsox-fmt-all\n",
      " ---> Using cache\n",
      " ---> 1bdb2a0134ff\n",
      "Step 4/5 : RUN pip install --no-cache-dir --upgrade pip  && pip install --no-cache-dir -U omegaconf hydra-core librosa sentencepiece youtokentome inflect sox  && pip install --no-cache-dir -U braceexpand webdataset editdistance jiwer  && pip install --no-cache-dir -U pytorch-lightning  && pip install --no-cache-dir -qq https://github.com/pyannote/pyannote-audio/archive/develop.zip  && pip install --no-cache-dir git+https://github.com/huggingface/transformers  && pip install --no-cache-dir git+https://github.com/NVIDIA/NeMo.git@main\n",
      " ---> Using cache\n",
      " ---> 06ea2b3fb1e6\n",
      "Step 5/5 : WORKDIR /\n",
      " ---> Using cache\n",
      " ---> 9d3381cafdca\n",
      "Successfully built 9d3381cafdca\n",
      "Successfully tagged 322537213286.dkr.ecr.us-west-2.amazonaws.com/nemo-test:latest\n",
      "Login Succeeded\n",
      "The push refers to repository [322537213286.dkr.ecr.us-west-2.amazonaws.com/nemo-test]\n",
      "aa032e6da300: Preparing\n",
      "7936a8df2274: Preparing\n",
      "cc0d5553c738: Preparing\n",
      "f5f76489fff8: Preparing\n",
      "621c3f07daa7: Preparing\n",
      "9b484bb42e11: Preparing\n",
      "54c7c0b58471: Preparing\n",
      "c34adc3ab668: Preparing\n",
      "bbf651e48b84: Preparing\n",
      "f61045791108: Preparing\n",
      "4e2ac0cda74a: Preparing\n",
      "658a33d555eb: Preparing\n",
      "bd16d9a61a98: Preparing\n",
      "f0c0cd2accfa: Preparing\n",
      "1275469c066c: Preparing\n",
      "b802dd3babf4: Preparing\n",
      "a3834ec63558: Preparing\n",
      "63edcef6dedf: Preparing\n",
      "0154e84cc2dd: Preparing\n",
      "7085d1c151f6: Preparing\n",
      "a77a2104cfb6: Preparing\n",
      "6808e7f9da2f: Preparing\n",
      "bd16d9a61a98: Waiting\n",
      "f61045791108: Waiting\n",
      "3bc059a9dec6: Preparing\n",
      "de783f3fec23: Preparing\n",
      "f0c0cd2accfa: Waiting\n",
      "18ca52d74b2f: Preparing\n",
      "4e2ac0cda74a: Waiting\n",
      "73df6ccd636c: Preparing\n",
      "658a33d555eb: Waiting\n",
      "6738b73ff7a8: Preparing\n",
      "1275469c066c: Waiting\n",
      "2a8292d9bfcc: Preparing\n",
      "b802dd3babf4: Waiting\n",
      "5b75a5ef32a7: Preparing\n",
      "a3834ec63558: Waiting\n",
      "25a5f55a11f0: Preparing\n",
      "63edcef6dedf: Waiting\n",
      "707f484816ae: Preparing\n",
      "a77a2104cfb6: Waiting\n",
      "0430aa1e47d4: Preparing\n",
      "65448e793131: Preparing\n",
      "6808e7f9da2f: Waiting\n",
      "15af6e2d42ba: Preparing\n",
      "73df6ccd636c: Waiting\n",
      "b46caef92993: Preparing\n",
      "53ce33a12646: Preparing\n",
      "de783f3fec23: Waiting\n",
      "2a8292d9bfcc: Waiting\n",
      "aad68760f4ce: Preparing\n",
      "5b75a5ef32a7: Waiting\n",
      "18ca52d74b2f: Waiting\n",
      "323d67ab1719: Preparing\n",
      "25a5f55a11f0: Waiting\n",
      "e72743a0fdfe: Preparing\n",
      "3996353f5820: Preparing\n",
      "15af6e2d42ba: Waiting\n",
      "707f484816ae: Waiting\n",
      "ea87e0b9c30f: Preparing\n",
      "0430aa1e47d4: Waiting\n",
      "65448e793131: Waiting\n",
      "af18356cdf10: Preparing\n",
      "b46caef92993: Waiting\n",
      "6738b73ff7a8: Waiting\n",
      "f6e30dd4497e: Preparing\n",
      "99832d04a153: Preparing\n",
      "a5981ed7a378: Preparing\n",
      "250519a2f830: Preparing\n",
      "c34adc3ab668: Waiting\n",
      "6cadbde53f94: Preparing\n",
      "0002c93bdb37: Preparing\n",
      "aad68760f4ce: Waiting\n",
      "323d67ab1719: Waiting\n",
      "9b484bb42e11: Waiting\n",
      "53ce33a12646: Waiting\n",
      "f6e30dd4497e: Waiting\n",
      "ea87e0b9c30f: Waiting\n",
      "bbf651e48b84: Waiting\n",
      "af18356cdf10: Waiting\n",
      "250519a2f830: Waiting\n",
      "0002c93bdb37: Waiting\n",
      "3996353f5820: Waiting\n",
      "54c7c0b58471: Waiting\n",
      "a5981ed7a378: Waiting\n",
      "7936a8df2274: Layer already exists\n",
      "621c3f07daa7: Layer already exists\n",
      "cc0d5553c738: Layer already exists\n",
      "aa032e6da300: Layer already exists\n",
      "f5f76489fff8: Layer already exists\n",
      "9b484bb42e11: Layer already exists\n",
      "54c7c0b58471: Layer already exists\n",
      "c34adc3ab668: Layer already exists\n",
      "f61045791108: Layer already exists\n",
      "bbf651e48b84: Layer already exists\n",
      "4e2ac0cda74a: Layer already exists\n",
      "658a33d555eb: Layer already exists\n",
      "bd16d9a61a98: Layer already exists\n",
      "f0c0cd2accfa: Layer already exists\n",
      "1275469c066c: Layer already exists\n",
      "b802dd3babf4: Layer already exists\n",
      "a3834ec63558: Layer already exists\n",
      "63edcef6dedf: Layer already exists\n",
      "0154e84cc2dd: Layer already exists\n",
      "7085d1c151f6: Layer already exists\n",
      "a77a2104cfb6: Layer already exists\n",
      "6808e7f9da2f: Layer already exists\n",
      "3bc059a9dec6: Layer already exists\n",
      "18ca52d74b2f: Layer already exists\n",
      "de783f3fec23: Layer already exists\n",
      "73df6ccd636c: Layer already exists\n",
      "6738b73ff7a8: Layer already exists\n",
      "2a8292d9bfcc: Layer already exists\n",
      "5b75a5ef32a7: Layer already exists\n",
      "25a5f55a11f0: Layer already exists\n",
      "0430aa1e47d4: Layer already exists\n",
      "707f484816ae: Layer already exists\n",
      "65448e793131: Layer already exists\n",
      "b46caef92993: Layer already exists\n",
      "15af6e2d42ba: Layer already exists\n",
      "aad68760f4ce: Layer already exists\n",
      "53ce33a12646: Layer already exists\n",
      "323d67ab1719: Layer already exists\n",
      "3996353f5820: Layer already exists\n",
      "e72743a0fdfe: Layer already exists\n",
      "af18356cdf10: Layer already exists\n",
      "ea87e0b9c30f: Layer already exists\n",
      "f6e30dd4497e: Layer already exists\n",
      "a5981ed7a378: Layer already exists\n",
      "99832d04a153: Layer already exists\n",
      "250519a2f830: Layer already exists\n",
      "6cadbde53f94: Layer already exists\n",
      "0002c93bdb37: Layer already exists\n",
      "latest: digest: sha256:6dc86df30c7f7e00ceb8f8e7541f28b19d3b51441f94fafcae6b6c9694d95ab3 size: 10414\n",
      "322537213286.dkr.ecr.us-west-2.amazonaws.com/nemo-test:latest\n"
     ]
    },
    {
     "name": "stderr",
     "output_type": "stream",
     "text": [
      "WARNING! Using --password via the CLI is insecure. Use --password-stdin.\n",
      "WARNING! Your password will be stored unencrypted in /home/ec2-user/.docker/config.json.\n",
      "Configure a credential helper to remove this warning. See\n",
      "https://docs.docker.com/engine/reference/commandline/login/#credentials-store\n",
      "\n"
     ]
    }
   ],
   "source": [
    "%%bash\n",
    "strRepositoryName=\"nemo-test\"\n",
    "strDockerDir=\"./custom-docker/\"\n",
    "strTag=\"latest\"\n",
    "\n",
    "cd ${strDockerDir}\n",
    "echo $(pwd)\n",
    "container_name=${strRepositoryName}\n",
    "\n",
    "account=$(aws sts get-caller-identity --query Account --output text)\n",
    "\n",
    "# Get the region defined in the current configuration (default to us-west-2 if none defined)\n",
    "region=$(aws configure get region)\n",
    "# region=${region:-us-west-2}\n",
    "\n",
    "fullname=\"${account}.dkr.ecr.${region}.amazonaws.com/${container_name}:${strTag}\"\n",
    "\n",
    "# If the repository doesn't exist in ECR, create it.\n",
    "aws ecr describe-repositories --repository-names \"${container_name}\" > /dev/null 2>&1\n",
    "if [ $? -ne 0 ]\n",
    "then\n",
    "    aws ecr create-repository --repository-name \"${container_name}\" > /dev/null\n",
    "fi\n",
    "\n",
    "# # Get the login command from ECR and execute it directly\n",
    "# $(aws ecr get-login-password --region us-west-2 | docker login --username AWS --password-stdin \"763104351884.dkr.ecr.us-west-2.amazonaws.com\")\n",
    "\n",
    "# Build the docker image locally with the image name and then push it to ECR\n",
    "# with the full name.\n",
    "docker build -f Dockerfile -t ${fullname} .\n",
    "# docker tag ${container_name} ${fullname}\n",
    "\n",
    "# Get the login command from ECR and execute it directly\n",
    "$(aws ecr get-login --region ${region} --no-include-email)\n",
    "docker push ${fullname}\n",
    "echo ${fullname}"
   ]
  },
  {
   "cell_type": "markdown",
   "id": "f59e141b-07af-421e-a05d-bc6991dce9df",
   "metadata": {},
   "source": [
    "### 2) AWS BOTO3 SDK를 이용한 방식"
   ]
  },
  {
   "cell_type": "code",
   "execution_count": null,
   "id": "6bf0f03e-a0fe-44af-ac74-c9a67fd1bbc0",
   "metadata": {},
   "outputs": [],
   "source": [
    "from utils.ecr import ecr_handler\n",
    "ecr = ecr_handler()"
   ]
  },
  {
   "cell_type": "code",
   "execution_count": null,
   "id": "1c68ef98-9669-4ea8-8e39-7717d0ffa831",
   "metadata": {},
   "outputs": [],
   "source": [
    "strRepositoryName = \"NeMo-Image\"\n",
    "strRepositoryName = strRepositoryName.lower()\n",
    "strDockerDir = \"./custom-docker/\"\n",
    "strTag = \"latest\""
   ]
  },
  {
   "cell_type": "code",
   "execution_count": 16,
   "id": "a4bf0924-52d8-457c-9edb-aff333850c1a",
   "metadata": {
    "tags": []
   },
   "outputs": [
    {
     "name": "stdout",
     "output_type": "stream",
     "text": [
      "/home/ec2-user/SageMaker/nemo-on-sagemaker\n",
      "/home/ec2-user/SageMaker/nemo-on-sagemaker/custom-docker\n",
      "aws ecr get-login --region 'us-west-2' --registry-ids '763104351884' --no-include-email\n"
     ]
    },
    {
     "name": "stderr",
     "output_type": "stream",
     "text": [
      "WARNING! Using --password via the CLI is insecure. Use --password-stdin.\n",
      "WARNING! Your password will be stored unencrypted in /home/ec2-user/.docker/config.json.\n",
      "Configure a credential helper to remove this warning. See\n",
      "https://docs.docker.com/engine/reference/commandline/login/#credentials-store\n",
      "\n"
     ]
    },
    {
     "name": "stdout",
     "output_type": "stream",
     "text": [
      "Login Succeeded\n",
      "\n",
      "Sending build context to Docker daemon   12.8kB\n",
      "\n",
      "Step 1/5 : FROM 763104351884.dkr.ecr.us-west-2.amazonaws.com/pytorch-training:1.13.1-gpu-py39\n",
      " ---> f0cd3f7ded0e\n",
      "Step 2/5 : RUN apt -y update && apt -y install sox\n",
      " ---> Using cache\n",
      " ---> 03ea9e49dca9\n",
      "Step 3/5 : RUN apt-get -y install libsox-fmt-all\n",
      " ---> Using cache\n",
      " ---> e10716b824bd\n",
      "Step 4/5 : RUN pip install --no-cache-dir --upgrade pip  && pip install --no-cache-dir -U omegaconf hydra-core librosa sentencepiece youtokentome inflect sox  && pip install --no-cache-dir -U braceexpand webdataset editdistance jiwer  && pip install --no-cache-dir -U pytorch-lightning  && pip install --no-cache-dir -qq https://github.com/pyannote/pyannote-audio/archive/develop.zip  && pip install --no-cache-dir git+https://github.com/huggingface/transformers  && pip install --no-cache-dir git+https://github.com/NVIDIA/NeMo.git@main\n",
      " ---> Running in 50e1789ca22a\n",
      "Requirement already satisfied: pip in /opt/conda/lib/python3.9/site-packages (23.0)\n",
      "Collecting pip\n",
      "  Downloading pip-23.0.1-py3-none-any.whl (2.1 MB)\n",
      "     ━━━━━━━━━━━━━━━━━━━━━━━━━━━━━━━━━━━━━━━━ 2.1/2.1 MB 24.9 MB/s eta 0:00:00\n",
      "Installing collected packages: pip\n",
      "  Attempting uninstall: pip\n",
      "    Found existing installation: pip 23.0\n",
      "    Uninstalling pip-23.0:\n",
      "      Successfully uninstalled pip-23.0\n",
      "Successfully installed pip-23.0.1\n",
      "\u001b[91mWARNING: Running pip as the 'root' user can result in broken permissions and conflicting behaviour with the system package manager. It is recommended to use a virtual environment instead: https://pip.pypa.io/warnings/venv\n",
      "\u001b[0mCollecting omegaconf\n",
      "  Downloading omegaconf-2.3.0-py3-none-any.whl (79 kB)\n",
      "     ━━━━━━━━━━━━━━━━━━━━━━━━━━━━━━━━━━━━━━━━ 79.5/79.5 kB 7.1 MB/s eta 0:00:00\n",
      "Collecting hydra-core\n",
      "  Downloading hydra_core-1.3.2-py3-none-any.whl (154 kB)\n",
      "     ━━━━━━━━━━━━━━━━━━━━━━━━━━━━━━━━━━━━━━ 154.5/154.5 kB 27.5 MB/s eta 0:00:00\n",
      "Collecting librosa\n",
      "  Downloading librosa-0.10.0-py3-none-any.whl (252 kB)\n",
      "     ━━━━━━━━━━━━━━━━━━━━━━━━━━━━━━━━━━━━━━ 252.9/252.9 kB 26.5 MB/s eta 0:00:00\n",
      "Collecting sentencepiece\n",
      "  Downloading sentencepiece-0.1.97-cp39-cp39-manylinux_2_17_x86_64.manylinux2014_x86_64.whl (1.3 MB)\n",
      "     ━━━━━━━━━━━━━━━━━━━━━━━━━━━━━━━━━━━━━━━━ 1.3/1.3 MB 43.4 MB/s eta 0:00:00\n",
      "Collecting youtokentome\n",
      "  Downloading youtokentome-1.0.6.tar.gz (86 kB)\n",
      "     ━━━━━━━━━━━━━━━━━━━━━━━━━━━━━━━━━━━━━━━ 86.7/86.7 kB 270.3 MB/s eta 0:00:00\n",
      "  Preparing metadata (setup.py): started\n",
      "  Preparing metadata (setup.py): finished with status 'done'\n",
      "Collecting inflect\n",
      "  Downloading inflect-6.0.2-py3-none-any.whl (34 kB)\n",
      "Collecting sox\n",
      "  Downloading sox-1.4.1-py2.py3-none-any.whl (39 kB)\n",
      "Collecting antlr4-python3-runtime==4.9.*\n",
      "  Downloading antlr4-python3-runtime-4.9.3.tar.gz (117 kB)\n",
      "     ━━━━━━━━━━━━━━━━━━━━━━━━━━━━━━━━━━━━━ 117.0/117.0 kB 270.2 MB/s eta 0:00:00\n",
      "  Preparing metadata (setup.py): started\n",
      "  Preparing metadata (setup.py): finished with status 'done'\n",
      "Requirement already satisfied: PyYAML>=5.1.0 in /opt/conda/lib/python3.9/site-packages (from omegaconf) (5.4.1)\n",
      "Requirement already satisfied: packaging in /opt/conda/lib/python3.9/site-packages (from hydra-core) (23.0)\n",
      "Requirement already satisfied: joblib>=0.14 in /opt/conda/lib/python3.9/site-packages (from librosa) (1.2.0)\n",
      "Collecting audioread>=2.1.9\n",
      "  Downloading audioread-3.0.0.tar.gz (377 kB)\n",
      "     ━━━━━━━━━━━━━━━━━━━━━━━━━━━━━━━━━━━━━━ 377.0/377.0 kB 65.9 MB/s eta 0:00:00\n",
      "  Preparing metadata (setup.py): started\n",
      "  Preparing metadata (setup.py): finished with status 'done'\n",
      "Collecting soxr>=0.3.2\n",
      "  Downloading soxr-0.3.4-cp39-cp39-manylinux_2_17_x86_64.manylinux2014_x86_64.whl (1.2 MB)\n",
      "     ━━━━━━━━━━━━━━━━━━━━━━━━━━━━━━━━━━━━━━━━ 1.2/1.2 MB 66.7 MB/s eta 0:00:00\n",
      "Requirement already satisfied: decorator>=4.3.0 in /opt/conda/lib/python3.9/site-packages (from librosa) (5.1.1)\n",
      "Collecting msgpack>=1.0\n",
      "  Downloading msgpack-1.0.5-cp39-cp39-manylinux_2_17_x86_64.manylinux2014_x86_64.whl (322 kB)\n",
      "     ━━━━━━━━━━━━━━━━━━━━━━━━━━━━━━━━━━━━━ 322.3/322.3 kB 105.1 MB/s eta 0:00:00\n",
      "Requirement already satisfied: pooch>=1.0 in /opt/conda/lib/python3.9/site-packages (from librosa) (1.6.0)\n",
      "Collecting soundfile>=0.12.1\n",
      "  Downloading soundfile-0.12.1-py2.py3-none-manylinux_2_31_x86_64.whl (1.2 MB)\n",
      "     ━━━━━━━━━━━━━━━━━━━━━━━━━━━━━━━━━━━━━━━━ 1.2/1.2 MB 102.7 MB/s eta 0:00:00\n",
      "Requirement already satisfied: scipy>=1.2.0 in /opt/conda/lib/python3.9/site-packages (from librosa) (1.10.0)\n",
      "Requirement already satisfied: scikit-learn>=0.20.0 in /opt/conda/lib/python3.9/site-packages (from librosa) (1.2.1)\n",
      "Requirement already satisfied: numba>=0.51.0 in /opt/conda/lib/python3.9/site-packages (from librosa) (0.56.4)\n",
      "Requirement already satisfied: typing-extensions>=4.1.1 in /opt/conda/lib/python3.9/site-packages (from librosa) (4.4.0)\n",
      "Requirement already satisfied: numpy>=1.20.3 in /opt/conda/lib/python3.9/site-packages (from librosa) (1.23.5)\n",
      "Collecting lazy-loader>=0.1\n",
      "  Downloading lazy_loader-0.1-py3-none-any.whl (8.6 kB)\n",
      "Requirement already satisfied: Click>=7.0 in /opt/conda/lib/python3.9/site-packages (from youtokentome) (8.1.2)\n",
      "Requirement already satisfied: pydantic>=1.9.1 in /opt/conda/lib/python3.9/site-packages (from inflect) (1.10.4)\n",
      "Requirement already satisfied: setuptools in /opt/conda/lib/python3.9/site-packages (from numba>=0.51.0->librosa) (65.6.3)\n",
      "Requirement already satisfied: llvmlite<0.40,>=0.39.0dev0 in /opt/conda/lib/python3.9/site-packages (from numba>=0.51.0->librosa) (0.39.1)\n",
      "Requirement already satisfied: requests>=2.19.0 in /opt/conda/lib/python3.9/site-packages (from pooch>=1.0->librosa) (2.28.2)\n",
      "Requirement already satisfied: appdirs>=1.3.0 in /opt/conda/lib/python3.9/site-packages (from pooch>=1.0->librosa) (1.4.4)\n",
      "Requirement already satisfied: threadpoolctl>=2.0.0 in /opt/conda/lib/python3.9/site-packages (from scikit-learn>=0.20.0->librosa) (3.1.0)\n",
      "Requirement already satisfied: cffi>=1.0 in /opt/conda/lib/python3.9/site-packages (from soundfile>=0.12.1->librosa) (1.15.1)\n",
      "Requirement already satisfied: pycparser in /opt/conda/lib/python3.9/site-packages (from cffi>=1.0->soundfile>=0.12.1->librosa) (2.21)\n",
      "Requirement already satisfied: idna<4,>=2.5 in /opt/conda/lib/python3.9/site-packages (from requests>=2.19.0->pooch>=1.0->librosa) (3.4)\n",
      "Requirement already satisfied: charset-normalizer<4,>=2 in /opt/conda/lib/python3.9/site-packages (from requests>=2.19.0->pooch>=1.0->librosa) (2.1.1)\n",
      "Requirement already satisfied: certifi>=2017.4.17 in /opt/conda/lib/python3.9/site-packages (from requests>=2.19.0->pooch>=1.0->librosa) (2022.12.7)\n",
      "Requirement already satisfied: urllib3<1.27,>=1.21.1 in /opt/conda/lib/python3.9/site-packages (from requests>=2.19.0->pooch>=1.0->librosa) (1.26.14)\n",
      "Building wheels for collected packages: antlr4-python3-runtime, youtokentome, audioread\n",
      "  Building wheel for antlr4-python3-runtime (setup.py): started\n",
      "  Building wheel for antlr4-python3-runtime (setup.py): finished with status 'done'\n",
      "  Created wheel for antlr4-python3-runtime: filename=antlr4_python3_runtime-4.9.3-py3-none-any.whl size=144554 sha256=29e85f8b069fff4b06a24c63c2644d63bdf2d88f768372ff0e02a35126a6147c\n",
      "  Stored in directory: /tmp/pip-ephem-wheel-cache-pxh8tgz8/wheels/23/cf/80/f3efa822e6ab23277902ee9165fe772eeb1dfb8014f359020a\n",
      "  Building wheel for youtokentome (setup.py): started\n",
      "  Building wheel for youtokentome (setup.py): finished with status 'done'\n",
      "  Created wheel for youtokentome: filename=youtokentome-1.0.6-cp39-cp39-linux_x86_64.whl size=177271 sha256=387f9617f70c0fbba0bf9aa3fe704f89a570fcf0ac950faa4db661a7f4f1ab3a\n",
      "  Stored in directory: /tmp/pip-ephem-wheel-cache-pxh8tgz8/wheels/89/99/eb/b72f9c470f14438147d8aa1ff91f9f5191b5e5d825c4b0a12c\n",
      "  Building wheel for audioread (setup.py): started\n",
      "  Building wheel for audioread (setup.py): finished with status 'done'\n",
      "  Created wheel for audioread: filename=audioread-3.0.0-py3-none-any.whl size=23704 sha256=3ee4055ad812af3a68f2a726398c0131c69af0b7330bcf245fa68aacb6b4021f\n",
      "  Stored in directory: /tmp/pip-ephem-wheel-cache-pxh8tgz8/wheels/e4/76/a4/cfb55573167a1f5bde7d7a348e95e509c64b2c3e8f921932c3\n",
      "Successfully built antlr4-python3-runtime youtokentome audioread\n",
      "Installing collected packages: sentencepiece, msgpack, antlr4-python3-runtime, youtokentome, soxr, sox, omegaconf, lazy-loader, audioread, soundfile, inflect, hydra-core, librosa\n",
      "Successfully installed antlr4-python3-runtime-4.9.3 audioread-3.0.0 hydra-core-1.3.2 inflect-6.0.2 lazy-loader-0.1 librosa-0.10.0 msgpack-1.0.5 omegaconf-2.3.0 sentencepiece-0.1.97 soundfile-0.12.1 sox-1.4.1 soxr-0.3.4 youtokentome-1.0.6\n",
      "\u001b[91mWARNING: Running pip as the 'root' user can result in broken permissions and conflicting behaviour with the system package manager. It is recommended to use a virtual environment instead: https://pip.pypa.io/warnings/venv\n",
      "\u001b[0mCollecting braceexpand\n",
      "  Downloading braceexpand-0.1.7-py2.py3-none-any.whl (5.9 kB)\n",
      "Collecting webdataset\n",
      "  Downloading webdataset-0.2.43-py3-none-any.whl (51 kB)\n",
      "     ━━━━━━━━━━━━━━━━━━━━━━━━━━━━━━━━━━━━━━━━ 51.6/51.6 kB 6.1 MB/s eta 0:00:00\n",
      "Collecting editdistance\n",
      "  Downloading editdistance-0.6.2-cp39-cp39-manylinux_2_17_x86_64.manylinux2014_x86_64.whl (282 kB)\n",
      "     ━━━━━━━━━━━━━━━━━━━━━━━━━━━━━━━━━━━━━━ 282.4/282.4 kB 18.9 MB/s eta 0:00:00\n",
      "Collecting jiwer\n",
      "  Downloading jiwer-2.6.0-py3-none-any.whl (20 kB)\n",
      "Requirement already satisfied: pyyaml in /opt/conda/lib/python3.9/site-packages (from webdataset) (5.4.1)\n",
      "Requirement already satisfied: numpy in /opt/conda/lib/python3.9/site-packages (from webdataset) (1.23.5)\n",
      "Collecting rapidfuzz==2.13.7\n",
      "  Downloading rapidfuzz-2.13.7-cp39-cp39-manylinux_2_17_x86_64.manylinux2014_x86_64.whl (2.2 MB)\n",
      "     ━━━━━━━━━━━━━━━━━━━━━━━━━━━━━━━━━━━━━━━━ 2.2/2.2 MB 32.4 MB/s eta 0:00:00\n",
      "Collecting click<9.0.0,>=8.1.3\n",
      "  Downloading click-8.1.3-py3-none-any.whl (96 kB)\n",
      "     ━━━━━━━━━━━━━━━━━━━━━━━━━━━━━━━━━━━━━━━ 96.6/96.6 kB 254.3 MB/s eta 0:00:00\n",
      "Installing collected packages: braceexpand, webdataset, rapidfuzz, editdistance, click, jiwer\n",
      "  Attempting uninstall: click\n",
      "    Found existing installation: click 8.1.2\n",
      "    Uninstalling click-8.1.2:\n",
      "      Successfully uninstalled click-8.1.2\n",
      "Successfully installed braceexpand-0.1.7 click-8.1.3 editdistance-0.6.2 jiwer-2.6.0 rapidfuzz-2.13.7 webdataset-0.2.43\n",
      "\u001b[91mWARNING: Running pip as the 'root' user can result in broken permissions and conflicting behaviour with the system package manager. It is recommended to use a virtual environment instead: https://pip.pypa.io/warnings/venv\n",
      "\u001b[0mCollecting pytorch-lightning\n",
      "  Downloading pytorch_lightning-2.0.0-py3-none-any.whl (715 kB)\n",
      "     ━━━━━━━━━━━━━━━━━━━━━━━━━━━━━━━━━━━━━━ 715.6/715.6 kB 16.9 MB/s eta 0:00:00\n",
      "Requirement already satisfied: PyYAML>=5.4 in /opt/conda/lib/python3.9/site-packages (from pytorch-lightning) (5.4.1)\n",
      "Requirement already satisfied: torch>=1.11.0 in /opt/conda/lib/python3.9/site-packages (from pytorch-lightning) (1.13.1+cu117)\n",
      "Collecting lightning-utilities>=0.7.0\n",
      "  Downloading lightning_utilities-0.8.0-py3-none-any.whl (20 kB)\n",
      "Requirement already satisfied: tqdm>=4.57.0 in /opt/conda/lib/python3.9/site-packages (from pytorch-lightning) (4.64.1)\n",
      "Requirement already satisfied: typing-extensions>=4.0.0 in /opt/conda/lib/python3.9/site-packages (from pytorch-lightning) (4.4.0)\n",
      "Collecting torchmetrics>=0.7.0\n",
      "  Downloading torchmetrics-0.11.4-py3-none-any.whl (519 kB)\n",
      "     ━━━━━━━━━━━━━━━━━━━━━━━━━━━━━━━━━━━━━━ 519.2/519.2 kB 29.1 MB/s eta 0:00:00\n",
      "Requirement already satisfied: packaging>=17.1 in /opt/conda/lib/python3.9/site-packages (from pytorch-lightning) (23.0)\n",
      "Requirement already satisfied: numpy>=1.17.2 in /opt/conda/lib/python3.9/site-packages (from pytorch-lightning) (1.23.5)\n",
      "Requirement already satisfied: fsspec[http]>2021.06.0 in /opt/conda/lib/python3.9/site-packages (from pytorch-lightning) (2023.1.0)\n",
      "Requirement already satisfied: requests in /opt/conda/lib/python3.9/site-packages (from fsspec[http]>2021.06.0->pytorch-lightning) (2.28.2)\n",
      "Collecting aiohttp!=4.0.0a0,!=4.0.0a1\n",
      "  Downloading aiohttp-3.8.4-cp39-cp39-manylinux_2_17_x86_64.manylinux2014_x86_64.whl (1.0 MB)\n",
      "     ━━━━━━━━━━━━━━━━━━━━━━━━━━━━━━━━━━━━━━━━ 1.0/1.0 MB 35.5 MB/s eta 0:00:00\n",
      "Collecting multidict<7.0,>=4.5\n",
      "  Downloading multidict-6.0.4-cp39-cp39-manylinux_2_17_x86_64.manylinux2014_x86_64.whl (114 kB)\n",
      "     ━━━━━━━━━━━━━━━━━━━━━━━━━━━━━━━━━━━━━ 114.2/114.2 kB 278.1 MB/s eta 0:00:00\n",
      "Collecting async-timeout<5.0,>=4.0.0a3\n",
      "  Downloading async_timeout-4.0.2-py3-none-any.whl (5.8 kB)\n",
      "Requirement already satisfied: attrs>=17.3.0 in /opt/conda/lib/python3.9/site-packages (from aiohttp!=4.0.0a0,!=4.0.0a1->fsspec[http]>2021.06.0->pytorch-lightning) (22.2.0)\n",
      "Collecting frozenlist>=1.1.1\n",
      "  Downloading frozenlist-1.3.3-cp39-cp39-manylinux_2_5_x86_64.manylinux1_x86_64.manylinux_2_17_x86_64.manylinux2014_x86_64.whl (158 kB)\n",
      "     ━━━━━━━━━━━━━━━━━━━━━━━━━━━━━━━━━━━━━ 158.8/158.8 kB 185.1 MB/s eta 0:00:00\n",
      "Collecting aiosignal>=1.1.2\n",
      "  Downloading aiosignal-1.3.1-py3-none-any.whl (7.6 kB)\n",
      "Collecting yarl<2.0,>=1.0\n",
      "  Downloading yarl-1.8.2-cp39-cp39-manylinux_2_17_x86_64.manylinux2014_x86_64.whl (264 kB)\n",
      "     ━━━━━━━━━━━━━━━━━━━━━━━━━━━━━━━━━━━━━━ 264.6/264.6 kB 56.5 MB/s eta 0:00:00\n",
      "Requirement already satisfied: charset-normalizer<4.0,>=2.0 in /opt/conda/lib/python3.9/site-packages (from aiohttp!=4.0.0a0,!=4.0.0a1->fsspec[http]>2021.06.0->pytorch-lightning) (2.1.1)\n",
      "Requirement already satisfied: certifi>=2017.4.17 in /opt/conda/lib/python3.9/site-packages (from requests->fsspec[http]>2021.06.0->pytorch-lightning) (2022.12.7)\n",
      "Requirement already satisfied: idna<4,>=2.5 in /opt/conda/lib/python3.9/site-packages (from requests->fsspec[http]>2021.06.0->pytorch-lightning) (3.4)\n",
      "Requirement already satisfied: urllib3<1.27,>=1.21.1 in /opt/conda/lib/python3.9/site-packages (from requests->fsspec[http]>2021.06.0->pytorch-lightning) (1.26.14)\n",
      "Installing collected packages: multidict, lightning-utilities, frozenlist, async-timeout, yarl, torchmetrics, aiosignal, aiohttp, pytorch-lightning\n",
      "Successfully installed aiohttp-3.8.4 aiosignal-1.3.1 async-timeout-4.0.2 frozenlist-1.3.3 lightning-utilities-0.8.0 multidict-6.0.4 pytorch-lightning-2.0.0 torchmetrics-0.11.4 yarl-1.8.2\n",
      "\u001b[91mWARNING: Running pip as the 'root' user can result in broken permissions and conflicting behaviour with the system package manager. It is recommended to use a virtual environment instead: https://pip.pypa.io/warnings/venv\n",
      "\u001b[0mCollecting git+https://github.com/huggingface/transformers\n",
      "  Cloning https://github.com/huggingface/transformers to /tmp/pip-req-build-mhddy642\n",
      "\u001b[91m  Running command git clone --filter=blob:none --quiet https://github.com/huggingface/transformers /tmp/pip-req-build-mhddy642\n",
      "\u001b[0m  Resolved https://github.com/huggingface/transformers to commit 1c4a9acc7319221643555c0e8ff1fda2f758c400\n",
      "  Installing build dependencies: started\n",
      "  Installing build dependencies: finished with status 'done'\n",
      "  Getting requirements to build wheel: started\n",
      "  Getting requirements to build wheel: finished with status 'done'\n",
      "  Preparing metadata (pyproject.toml): started\n",
      "  Preparing metadata (pyproject.toml): finished with status 'done'\n",
      "Requirement already satisfied: packaging>=20.0 in /opt/conda/lib/python3.9/site-packages (from transformers==4.28.0.dev0) (23.0)\n",
      "Requirement already satisfied: huggingface-hub<1.0,>=0.11.0 in /opt/conda/lib/python3.9/site-packages (from transformers==4.28.0.dev0) (0.13.2)\n",
      "Requirement already satisfied: filelock in /opt/conda/lib/python3.9/site-packages (from transformers==4.28.0.dev0) (3.10.0)\n",
      "Collecting tokenizers!=0.11.3,<0.14,>=0.11.1\n",
      "  Downloading tokenizers-0.13.2-cp39-cp39-manylinux_2_17_x86_64.manylinux2014_x86_64.whl (7.6 MB)\n",
      "     ━━━━━━━━━━━━━━━━━━━━━━━━━━━━━━━━━━━━━━━━ 7.6/7.6 MB 45.5 MB/s eta 0:00:00\n",
      "Requirement already satisfied: pyyaml>=5.1 in /opt/conda/lib/python3.9/site-packages (from transformers==4.28.0.dev0) (5.4.1)\n",
      "Requirement already satisfied: requests in /opt/conda/lib/python3.9/site-packages (from transformers==4.28.0.dev0) (2.28.2)\n",
      "Requirement already satisfied: tqdm>=4.27 in /opt/conda/lib/python3.9/site-packages (from transformers==4.28.0.dev0) (4.64.1)\n",
      "Collecting regex!=2019.12.17\n",
      "  Downloading regex-2022.10.31-cp39-cp39-manylinux_2_17_x86_64.manylinux2014_x86_64.whl (769 kB)\n",
      "     ━━━━━━━━━━━━━━━━━━━━━━━━━━━━━━━━━━━━━ 770.0/770.0 kB 126.2 MB/s eta 0:00:00\n",
      "Requirement already satisfied: numpy>=1.17 in /opt/conda/lib/python3.9/site-packages (from transformers==4.28.0.dev0) (1.23.5)\n",
      "Requirement already satisfied: typing-extensions>=3.7.4.3 in /opt/conda/lib/python3.9/site-packages (from huggingface-hub<1.0,>=0.11.0->transformers==4.28.0.dev0) (4.4.0)\n",
      "Requirement already satisfied: charset-normalizer<4,>=2 in /opt/conda/lib/python3.9/site-packages (from requests->transformers==4.28.0.dev0) (2.1.1)\n",
      "Requirement already satisfied: urllib3<1.27,>=1.21.1 in /opt/conda/lib/python3.9/site-packages (from requests->transformers==4.28.0.dev0) (1.26.14)\n",
      "Requirement already satisfied: idna<4,>=2.5 in /opt/conda/lib/python3.9/site-packages (from requests->transformers==4.28.0.dev0) (3.4)\n",
      "Requirement already satisfied: certifi>=2017.4.17 in /opt/conda/lib/python3.9/site-packages (from requests->transformers==4.28.0.dev0) (2022.12.7)\n",
      "Building wheels for collected packages: transformers\n",
      "  Building wheel for transformers (pyproject.toml): started\n",
      "  Building wheel for transformers (pyproject.toml): finished with status 'done'\n",
      "  Created wheel for transformers: filename=transformers-4.28.0.dev0-py3-none-any.whl size=6738923 sha256=b2a10641b3b2d8fab8b15bb4000dc0263a16e5cd1812fa072ab1c97f0f404481\n",
      "  Stored in directory: /tmp/pip-ephem-wheel-cache-3a6chc2l/wheels/14/a0/7b/8f6b25ba4110aa215fcb8d6aedd6cd4f9b9b6619190999ac2b\n",
      "Successfully built transformers\n",
      "Installing collected packages: tokenizers, regex, transformers\n",
      "Successfully installed regex-2022.10.31 tokenizers-0.13.2 transformers-4.28.0.dev0\n",
      "\u001b[91mWARNING: Running pip as the 'root' user can result in broken permissions and conflicting behaviour with the system package manager. It is recommended to use a virtual environment instead: https://pip.pypa.io/warnings/venv\n",
      "\u001b[0mCollecting git+https://github.com/NVIDIA/NeMo.git@main\n",
      "  Cloning https://github.com/NVIDIA/NeMo.git (to revision main) to /tmp/pip-req-build-z741j7jz\n",
      "\u001b[91m  Running command git clone --filter=blob:none --quiet https://github.com/NVIDIA/NeMo.git /tmp/pip-req-build-z741j7jz\n",
      "\u001b[0m  Resolved https://github.com/NVIDIA/NeMo.git to commit 1937541a3ab1eef0a93a2d58b82402d0882cdbcf\n",
      "  Installing build dependencies: started\n",
      "  Installing build dependencies: finished with status 'done'\n",
      "  Getting requirements to build wheel: started\n",
      "  Getting requirements to build wheel: finished with status 'done'\n",
      "  Preparing metadata (pyproject.toml): started\n",
      "  Preparing metadata (pyproject.toml): finished with status 'done'\n",
      "Requirement already satisfied: python-dateutil in /opt/conda/lib/python3.9/site-packages (from nemo-toolkit==1.17.0rc0) (2.8.2)\n",
      "Collecting tensorboard\n",
      "  Downloading tensorboard-2.12.0-py3-none-any.whl (5.6 MB)\n",
      "     ━━━━━━━━━━━━━━━━━━━━━━━━━━━━━━━━━━━━━━━━ 5.6/5.6 MB 53.5 MB/s eta 0:00:00\n",
      "Collecting text-unidecode\n",
      "  Downloading text_unidecode-1.3-py2.py3-none-any.whl (78 kB)\n",
      "     ━━━━━━━━━━━━━━━━━━━━━━━━━━━━━━━━━━━━━━━ 78.2/78.2 kB 247.7 MB/s eta 0:00:00\n",
      "Requirement already satisfied: ruamel.yaml in /opt/conda/lib/python3.9/site-packages (from nemo-toolkit==1.17.0rc0) (0.17.21)\n",
      "Requirement already satisfied: numpy>=1.22 in /opt/conda/lib/python3.9/site-packages (from nemo-toolkit==1.17.0rc0) (1.23.5)\n",
      "Requirement already satisfied: tqdm>=4.41.0 in /opt/conda/lib/python3.9/site-packages (from nemo-toolkit==1.17.0rc0) (4.64.1)\n",
      "Collecting setuptools==65.5.1\n",
      "  Downloading setuptools-65.5.1-py3-none-any.whl (1.2 MB)\n",
      "     ━━━━━━━━━━━━━━━━━━━━━━━━━━━━━━━━━━━━━━━━ 1.2/1.2 MB 148.8 MB/s eta 0:00:00\n",
      "Collecting wrapt\n",
      "  Downloading wrapt-1.15.0-cp39-cp39-manylinux_2_5_x86_64.manylinux1_x86_64.manylinux_2_17_x86_64.manylinux2014_x86_64.whl (78 kB)\n",
      "     ━━━━━━━━━━━━━━━━━━━━━━━━━━━━━━━━━━━━━━━ 78.3/78.3 kB 244.9 MB/s eta 0:00:00\n",
      "Requirement already satisfied: numba in /opt/conda/lib/python3.9/site-packages (from nemo-toolkit==1.17.0rc0) (0.56.4)\n",
      "Requirement already satisfied: huggingface-hub in /opt/conda/lib/python3.9/site-packages (from nemo-toolkit==1.17.0rc0) (0.13.2)\n",
      "Requirement already satisfied: scikit-learn in /opt/conda/lib/python3.9/site-packages (from nemo-toolkit==1.17.0rc0) (1.2.1)\n",
      "Collecting wget\n",
      "  Downloading wget-3.2.zip (10 kB)\n",
      "  Preparing metadata (setup.py): started\n",
      "  Preparing metadata (setup.py): finished with status 'done'\n",
      "Requirement already satisfied: torch in /opt/conda/lib/python3.9/site-packages (from nemo-toolkit==1.17.0rc0) (1.13.1+cu117)\n",
      "Collecting onnx>=1.7.0\n",
      "  Downloading onnx-1.13.1-cp39-cp39-manylinux_2_17_x86_64.manylinux2014_x86_64.whl (13.5 MB)\n",
      "     ━━━━━━━━━━━━━━━━━━━━━━━━━━━━━━━━━━━━━━━ 13.5/13.5 MB 256.6 MB/s eta 0:00:00\n",
      "Requirement already satisfied: typing-extensions>=3.6.2.1 in /opt/conda/lib/python3.9/site-packages (from onnx>=1.7.0->nemo-toolkit==1.17.0rc0) (4.4.0)\n",
      "Requirement already satisfied: protobuf<4,>=3.20.2 in /opt/conda/lib/python3.9/site-packages (from onnx>=1.7.0->nemo-toolkit==1.17.0rc0) (3.20.2)\n",
      "Requirement already satisfied: pyyaml>=5.1 in /opt/conda/lib/python3.9/site-packages (from huggingface-hub->nemo-toolkit==1.17.0rc0) (5.4.1)\n",
      "Requirement already satisfied: requests in /opt/conda/lib/python3.9/site-packages (from huggingface-hub->nemo-toolkit==1.17.0rc0) (2.28.2)\n",
      "Requirement already satisfied: filelock in /opt/conda/lib/python3.9/site-packages (from huggingface-hub->nemo-toolkit==1.17.0rc0) (3.10.0)\n",
      "Requirement already satisfied: packaging>=20.9 in /opt/conda/lib/python3.9/site-packages (from huggingface-hub->nemo-toolkit==1.17.0rc0) (23.0)\n",
      "Requirement already satisfied: llvmlite<0.40,>=0.39.0dev0 in /opt/conda/lib/python3.9/site-packages (from numba->nemo-toolkit==1.17.0rc0) (0.39.1)\n",
      "Requirement already satisfied: six>=1.5 in /opt/conda/lib/python3.9/site-packages (from python-dateutil->nemo-toolkit==1.17.0rc0) (1.16.0)\n",
      "Requirement already satisfied: ruamel.yaml.clib>=0.2.6 in /opt/conda/lib/python3.9/site-packages (from ruamel.yaml->nemo-toolkit==1.17.0rc0) (0.2.7)\n",
      "Requirement already satisfied: threadpoolctl>=2.0.0 in /opt/conda/lib/python3.9/site-packages (from scikit-learn->nemo-toolkit==1.17.0rc0) (3.1.0)\n",
      "Requirement already satisfied: joblib>=1.1.1 in /opt/conda/lib/python3.9/site-packages (from scikit-learn->nemo-toolkit==1.17.0rc0) (1.2.0)\n",
      "Requirement already satisfied: scipy>=1.3.2 in /opt/conda/lib/python3.9/site-packages (from scikit-learn->nemo-toolkit==1.17.0rc0) (1.10.0)\n",
      "Collecting tensorboard-data-server<0.8.0,>=0.7.0\n",
      "  Downloading tensorboard_data_server-0.7.0-py3-none-manylinux2014_x86_64.whl (6.6 MB)\n",
      "     ━━━━━━━━━━━━━━━━━━━━━━━━━━━━━━━━━━━━━━━━ 6.6/6.6 MB 294.5 MB/s eta 0:00:00\n",
      "Collecting markdown>=2.6.8\n",
      "  Downloading Markdown-3.4.1-py3-none-any.whl (93 kB)\n",
      "     ━━━━━━━━━━━━━━━━━━━━━━━━━━━━━━━━━━━━━━━ 93.3/93.3 kB 275.1 MB/s eta 0:00:00\n",
      "Collecting google-auth-oauthlib<0.5,>=0.4.1\n",
      "  Downloading google_auth_oauthlib-0.4.6-py2.py3-none-any.whl (18 kB)\n",
      "Requirement already satisfied: wheel>=0.26 in /opt/conda/lib/python3.9/site-packages (from tensorboard->nemo-toolkit==1.17.0rc0) (0.38.4)\n",
      "Collecting tensorboard-plugin-wit>=1.6.0\n",
      "  Downloading tensorboard_plugin_wit-1.8.1-py3-none-any.whl (781 kB)\n",
      "     ━━━━━━━━━━━━━━━━━━━━━━━━━━━━━━━━━━━━━ 781.3/781.3 kB 316.2 MB/s eta 0:00:00\n",
      "Requirement already satisfied: werkzeug>=1.0.1 in /opt/conda/lib/python3.9/site-packages (from tensorboard->nemo-toolkit==1.17.0rc0) (2.2.3)\n",
      "Collecting google-auth<3,>=1.6.3\n",
      "  Downloading google_auth-2.16.2-py2.py3-none-any.whl (177 kB)\n",
      "     ━━━━━━━━━━━━━━━━━━━━━━━━━━━━━━━━━━━━━ 177.2/177.2 kB 298.4 MB/s eta 0:00:00\n",
      "Collecting absl-py>=0.4\n",
      "  Downloading absl_py-1.4.0-py3-none-any.whl (126 kB)\n",
      "     ━━━━━━━━━━━━━━━━━━━━━━━━━━━━━━━━━━━━━ 126.5/126.5 kB 254.2 MB/s eta 0:00:00\n",
      "Collecting grpcio>=1.48.2\n",
      "  Downloading grpcio-1.51.3-cp39-cp39-manylinux_2_17_x86_64.manylinux2014_x86_64.whl (4.8 MB)\n",
      "     ━━━━━━━━━━━━━━━━━━━━━━━━━━━━━━━━━━━━━━━━ 4.8/4.8 MB 188.8 MB/s eta 0:00:00\n",
      "Requirement already satisfied: rsa<5,>=3.1.4 in /opt/conda/lib/python3.9/site-packages (from google-auth<3,>=1.6.3->tensorboard->nemo-toolkit==1.17.0rc0) (4.7.2)\n",
      "Collecting pyasn1-modules>=0.2.1\n",
      "  Downloading pyasn1_modules-0.2.8-py2.py3-none-any.whl (155 kB)\n",
      "     ━━━━━━━━━━━━━━━━━━━━━━━━━━━━━━━━━━━━━ 155.3/155.3 kB 301.0 MB/s eta 0:00:00\n",
      "Collecting cachetools<6.0,>=2.0.0\n",
      "  Downloading cachetools-5.3.0-py3-none-any.whl (9.3 kB)\n",
      "Collecting requests-oauthlib>=0.7.0\n",
      "  Downloading requests_oauthlib-1.3.1-py2.py3-none-any.whl (23 kB)\n",
      "Requirement already satisfied: importlib-metadata>=4.4 in /opt/conda/lib/python3.9/site-packages (from markdown>=2.6.8->tensorboard->nemo-toolkit==1.17.0rc0) (4.13.0)\n",
      "Requirement already satisfied: idna<4,>=2.5 in /opt/conda/lib/python3.9/site-packages (from requests->huggingface-hub->nemo-toolkit==1.17.0rc0) (3.4)\n",
      "Requirement already satisfied: charset-normalizer<4,>=2 in /opt/conda/lib/python3.9/site-packages (from requests->huggingface-hub->nemo-toolkit==1.17.0rc0) (2.1.1)\n",
      "Requirement already satisfied: urllib3<1.27,>=1.21.1 in /opt/conda/lib/python3.9/site-packages (from requests->huggingface-hub->nemo-toolkit==1.17.0rc0) (1.26.14)\n",
      "Requirement already satisfied: certifi>=2017.4.17 in /opt/conda/lib/python3.9/site-packages (from requests->huggingface-hub->nemo-toolkit==1.17.0rc0) (2022.12.7)\n",
      "Requirement already satisfied: MarkupSafe>=2.1.1 in /opt/conda/lib/python3.9/site-packages (from werkzeug>=1.0.1->tensorboard->nemo-toolkit==1.17.0rc0) (2.1.2)\n",
      "Requirement already satisfied: zipp>=0.5 in /opt/conda/lib/python3.9/site-packages (from importlib-metadata>=4.4->markdown>=2.6.8->tensorboard->nemo-toolkit==1.17.0rc0) (3.13.0)\n",
      "Requirement already satisfied: pyasn1<0.5.0,>=0.4.6 in /opt/conda/lib/python3.9/site-packages (from pyasn1-modules>=0.2.1->google-auth<3,>=1.6.3->tensorboard->nemo-toolkit==1.17.0rc0) (0.4.8)\n",
      "Collecting oauthlib>=3.0.0\n",
      "  Downloading oauthlib-3.2.2-py3-none-any.whl (151 kB)\n",
      "     ━━━━━━━━━━━━━━━━━━━━━━━━━━━━━━━━━━━━━ 151.7/151.7 kB 286.7 MB/s eta 0:00:00\n",
      "Building wheels for collected packages: nemo-toolkit, wget\n",
      "  Building wheel for nemo-toolkit (pyproject.toml): started\n",
      "  Building wheel for nemo-toolkit (pyproject.toml): finished with status 'done'\n",
      "  Created wheel for nemo-toolkit: filename=nemo_toolkit-1.17.0rc0-py3-none-any.whl size=2252666 sha256=cf5c2275abceb6eea02d85bf22d6419fbe73d61604bf041585ce9fe07e0e5c08\n",
      "  Stored in directory: /tmp/pip-ephem-wheel-cache-w99am90d/wheels/af/9d/ef/62d10ba057609b5d066b4fd01b97b207270610f648fc0e1812\n",
      "  Building wheel for wget (setup.py): started\n",
      "  Building wheel for wget (setup.py): finished with status 'done'\n",
      "  Created wheel for wget: filename=wget-3.2-py3-none-any.whl size=9656 sha256=af739279090ad039cea436876faa34e044423557270fed4e8f10ddad8adbc469\n",
      "  Stored in directory: /tmp/pip-ephem-wheel-cache-w99am90d/wheels/04/5f/3e/46cc37c5d698415694d83f607f833f83f0149e49b3af9d0f38\n",
      "Successfully built nemo-toolkit wget\n",
      "Installing collected packages: wget, text-unidecode, tensorboard-plugin-wit, wrapt, tensorboard-data-server, setuptools, pyasn1-modules, onnx, oauthlib, grpcio, cachetools, absl-py, requests-oauthlib, markdown, google-auth, google-auth-oauthlib, tensorboard, nemo-toolkit\n",
      "  Attempting uninstall: setuptools\n",
      "    Found existing installation: setuptools 65.6.3\n",
      "    Uninstalling setuptools-65.6.3:\n",
      "      Successfully uninstalled setuptools-65.6.3\n",
      "Successfully installed absl-py-1.4.0 cachetools-5.3.0 google-auth-2.16.2 google-auth-oauthlib-0.4.6 grpcio-1.51.3 markdown-3.4.1 nemo-toolkit-1.17.0rc0 oauthlib-3.2.2 onnx-1.13.1 pyasn1-modules-0.2.8 requests-oauthlib-1.3.1 setuptools-65.5.1 tensorboard-2.12.0 tensorboard-data-server-0.7.0 tensorboard-plugin-wit-1.8.1 text-unidecode-1.3 wget-3.2 wrapt-1.15.0\n",
      "\u001b[91mWARNING: Running pip as the 'root' user can result in broken permissions and conflicting behaviour with the system package manager. It is recommended to use a virtual environment instead: https://pip.pypa.io/warnings/venv\n",
      "\u001b[0mRemoving intermediate container 50e1789ca22a\n",
      " ---> e11e3a069a0e\n",
      "Step 5/5 : WORKDIR /\n",
      " ---> Running in 7e95b9dae616\n",
      "Removing intermediate container 7e95b9dae616\n",
      " ---> ceb2e11db6fc\n",
      "Successfully built ceb2e11db6fc\n",
      "Successfully tagged nemo-image:latest\n",
      "\n",
      "/home/ec2-user/SageMaker/nemo-on-sagemaker\n"
     ]
    }
   ],
   "source": [
    "ecr.build_docker(strDockerDir, strRepositoryName, strRegionName=region_name, strAccountId=account_id)"
   ]
  },
  {
   "cell_type": "markdown",
   "id": "9e1d1a7a-6677-462a-87b3-6ba628884276",
   "metadata": {},
   "source": [
    "* Push the image to ECR"
   ]
  },
  {
   "cell_type": "code",
   "execution_count": 17,
   "id": "09fa8f56-7ac2-440d-86f0-6e6a07dc71a4",
   "metadata": {
    "tags": []
   },
   "outputs": [
    {
     "name": "stdout",
     "output_type": "stream",
     "text": [
      "== REGISTER AN IMAGE TO ECR ==\n",
      "  processing_repository_uri: 419974056037.dkr.ecr.ap-northeast-2.amazonaws.com/nemo-image:latest\n",
      "aws ecr get-login --region 'ap-northeast-2' --registry-ids '419974056037' --no-include-email\n"
     ]
    },
    {
     "name": "stderr",
     "output_type": "stream",
     "text": [
      "WARNING! Using --password via the CLI is insecure. Use --password-stdin.\n",
      "WARNING! Your password will be stored unencrypted in /home/ec2-user/.docker/config.json.\n",
      "Configure a credential helper to remove this warning. See\n",
      "https://docs.docker.com/engine/reference/commandline/login/#credentials-store\n",
      "\n"
     ]
    },
    {
     "name": "stdout",
     "output_type": "stream",
     "text": [
      "Login Succeeded\n",
      "\n",
      "aws ecr create-repository --repository-name 'nemo-image'\n",
      "docker tag 'nemo-image:latest' '419974056037.dkr.ecr.ap-northeast-2.amazonaws.com/nemo-image:latest'\n",
      "docker push '419974056037.dkr.ecr.ap-northeast-2.amazonaws.com/nemo-image:latest'\n",
      "== REGISTER AN IMAGE TO ECR ==\n",
      "==============================\n"
     ]
    }
   ],
   "source": [
    "strEcrRepositoryUri = ecr.register_image_to_ecr(strRegionName, strAccountId, strRepositoryName, strTag)"
   ]
  },
  {
   "cell_type": "code",
   "execution_count": 18,
   "id": "7acad444-0bf0-4fb6-915d-289dce33f01b",
   "metadata": {
    "tags": []
   },
   "outputs": [],
   "source": [
    "#strEcrRepositoryUri = \"419974056037.dkr.ecr.ap-northeast-2.amazonaws.com/nemo-image\""
   ]
  },
  {
   "cell_type": "markdown",
   "id": "e1b0385b-d1a6-4281-87fa-261cbf5acbbd",
   "metadata": {},
   "source": [
    "* Save image-uri to parameter store"
   ]
  },
  {
   "cell_type": "code",
   "execution_count": null,
   "id": "0a80bf77-8063-476d-b54c-8ddf82f88994",
   "metadata": {
    "tags": []
   },
   "outputs": [],
   "source": [
    "strEcrRepositoryUri = ' '  ## <-- 생성된 ECR의 URI를 넣어주세요.. ex) 123456789123.dkr.ecr.us-west-2.amazonaws.com/nemo-test:latest"
   ]
  },
  {
   "cell_type": "code",
   "execution_count": null,
   "id": "8fb58cc2-dcc4-4303-bd28-66f613218daa",
   "metadata": {},
   "outputs": [],
   "source": []
  },
  {
   "cell_type": "markdown",
   "id": "66618f51-efdf-4336-8712-acf2201f5aab",
   "metadata": {},
   "source": [
    "## 4. Download & Upload dataset"
   ]
  },
  {
   "cell_type": "code",
   "execution_count": 57,
   "id": "693ac722-d6d3-4ae0-8787-27dd7a3a11cc",
   "metadata": {
    "tags": []
   },
   "outputs": [],
   "source": [
    "import os\n",
    "import wget"
   ]
  },
  {
   "cell_type": "code",
   "execution_count": 58,
   "id": "b3b1eb5b-ba2f-40e1-824c-846374d53bad",
   "metadata": {
    "tags": []
   },
   "outputs": [],
   "source": [
    "data_dir = \"./data\""
   ]
  },
  {
   "cell_type": "code",
   "execution_count": 59,
   "id": "406951c5-4597-49f4-9ced-db4aeef0512d",
   "metadata": {
    "tags": []
   },
   "outputs": [
    {
     "name": "stdout",
     "output_type": "stream",
     "text": [
      "******\n",
      "Tarfile already exists.\n"
     ]
    }
   ],
   "source": [
    "print(\"******\")\n",
    "os.makedirs(data_dir, exist_ok=True)\n",
    "if not os.path.exists(data_dir + '/an4_sphere.tar.gz'):\n",
    "    an4_url = 'https://dldata-public.s3.us-east-2.amazonaws.com/an4_sphere.tar.gz'\n",
    "    an4_path = wget.download(an4_url, data_dir)\n",
    "    print(f\"Dataset downloaded at: {an4_path}\")\n",
    "else:\n",
    "    print(\"Tarfile already exists.\")\n",
    "    an4_path = data_dir + '/an4_sphere.tar.gz'"
   ]
  },
  {
   "cell_type": "code",
   "execution_count": null,
   "id": "0aaac4f9-5a97-4447-91cb-5770cc4cd88f",
   "metadata": {},
   "outputs": [],
   "source": []
  },
  {
   "cell_type": "markdown",
   "id": "3ac1ad94-a3d0-49a2-b16a-35887875ed54",
   "metadata": {},
   "source": [
    "* updoad data to s3"
   ]
  },
  {
   "cell_type": "markdown",
   "id": "1c5f28dd-98a4-45f8-87f2-21eb1f942be7",
   "metadata": {},
   "source": [
    "### 1) AWS CLI 를 이용한 방식"
   ]
  },
  {
   "cell_type": "code",
   "execution_count": 70,
   "id": "56651221-771b-4350-8b21-bd316235ae44",
   "metadata": {
    "tags": []
   },
   "outputs": [
    {
     "name": "stdout",
     "output_type": "stream",
     "text": [
      "upload: data/an4_sphere.tar.gz to s3://sagemaker-us-west-2-322537213286/nemo-prod/data/an4_sphere.tar.gz\n"
     ]
    }
   ],
   "source": [
    "!aws s3 sync $data_dir s3://$bucket_name/$prefix/data"
   ]
  },
  {
   "cell_type": "markdown",
   "id": "651df427-7e23-4861-906f-4f1536c4cc90",
   "metadata": {},
   "source": [
    "### 2) AWS BOTO3 SDK를 이용한 방식"
   ]
  },
  {
   "cell_type": "code",
   "execution_count": 22,
   "id": "d433d60e-f53f-403e-bf99-1bc52e6e5456",
   "metadata": {
    "tags": []
   },
   "outputs": [],
   "source": [
    "from utils.s3 import s3_handler"
   ]
  },
  {
   "cell_type": "code",
   "execution_count": 23,
   "id": "35d1201e-0f10-48c8-9a20-83f4ff20efde",
   "metadata": {
    "tags": []
   },
   "outputs": [
    {
     "name": "stdout",
     "output_type": "stream",
     "text": [
      "This is a S3 handler with [None] region.\n"
     ]
    }
   ],
   "source": [
    "s3 = s3_handler()"
   ]
  },
  {
   "cell_type": "code",
   "execution_count": 24,
   "id": "95e9f4ec-f3ad-4a63-aa4a-425615aea2c8",
   "metadata": {
    "tags": []
   },
   "outputs": [
    {
     "name": "stdout",
     "output_type": "stream",
     "text": [
      "Upload:[./data] was uploaded to [s3://sm-nemo-bucket/data]successfully\n"
     ]
    }
   ],
   "source": [
    "source_dir, target_bucket, target_dir = data_dir, pm.get_params(key=prefix+\"BUCKET\"), \"data\"\n",
    "s3.upload_dir(source_dir, target_bucket, target_dir)"
   ]
  },
  {
   "cell_type": "markdown",
   "id": "6d5f0673-538d-4e72-94ca-663177ff12ae",
   "metadata": {},
   "source": [
    "## 5. CodeCommit 생성\n",
    "- Attach IAM polich to sagemaker execution role (<b>with console</b>)\n",
    "> **CodeCommit**: \"arn:aws:iam::aws:policy/AWSCodeCommitFullAccess\"<BR>\n",
    "> **SecretsManager**: \"arn:aws:iam::aws:policy/SecretsManagerReadWrite\"<BR>"
   ]
  },
  {
   "cell_type": "markdown",
   "id": "d9fca091-a616-41c1-a522-7327720ec74e",
   "metadata": {},
   "source": [
    "### 5.1 CodeCommit 관련 Credentials 생성 및 Secret Manager에 저장하기\n",
    "- CodeCommit Credentials"
   ]
  },
  {
   "cell_type": "code",
   "execution_count": 99,
   "id": "3d570c6e-58f8-4749-be70-0687ee606a3a",
   "metadata": {
    "tags": []
   },
   "outputs": [
    {
     "data": {
      "text/plain": [
       "'codecommit-cred-napkin'"
      ]
     },
     "execution_count": 99,
     "metadata": {},
     "output_type": "execute_result"
    }
   ],
   "source": [
    "user_name = ' ' ## ==> IAM에서 사용자 아이디 확인합니다.\n",
    "codecommit_cred = 'codecommit-cred-'+user_name\n",
    "codecommit_cred"
   ]
  },
  {
   "cell_type": "code",
   "execution_count": 100,
   "id": "aa00bbd2-bf62-46d8-9e20-75f2a0f8910b",
   "metadata": {
    "tags": []
   },
   "outputs": [],
   "source": [
    "iam_client = boto3.client('iam')"
   ]
  },
  {
   "cell_type": "code",
   "execution_count": 101,
   "id": "6435b225-db6a-4b71-8fc2-4e3bc52b788e",
   "metadata": {
    "tags": []
   },
   "outputs": [
    {
     "name": "stdout",
     "output_type": "stream",
     "text": [
      "ServiceUserName : napkin-at-322537213286 \n",
      "ServicePassword : lTRH1S9iPZiC3kzKcQgwqMpziwyVnK13wZgo/ivDFZc=\n"
     ]
    }
   ],
   "source": [
    "try:\n",
    "    response = iam_client.list_service_specific_credentials(\n",
    "        UserName=user_name,\n",
    "        ServiceName='codecommit.amazonaws.com'\n",
    "    )\n",
    "    if len(response['ServiceSpecificCredentials']) > 0:\n",
    "        response = iam_client.delete_service_specific_credential(\n",
    "            UserName=user_name,\n",
    "            ServiceSpecificCredentialId=response['ServiceSpecificCredentials'][-1]['ServiceSpecificCredentialId']\n",
    "        )\n",
    "except:\n",
    "    print(\"Create new codecommit crendentials\")\n",
    "    pass\n",
    "finally:\n",
    "    response = iam_client.create_service_specific_credential(\n",
    "        UserName=user_name,\n",
    "        ServiceName='codecommit.amazonaws.com'\n",
    "    )\n",
    "    ServiceUserName = response['ServiceSpecificCredential']['ServiceUserName']\n",
    "    ServicePassword = response['ServiceSpecificCredential']['ServicePassword']\n",
    "print(f\"ServiceUserName : {ServiceUserName} \\nServicePassword : {ServicePassword}\")"
   ]
  },
  {
   "cell_type": "code",
   "execution_count": 111,
   "id": "745a1773-919a-4074-acc5-28ca6a546a08",
   "metadata": {
    "tags": []
   },
   "outputs": [],
   "source": [
    "code_repository_name = ' ' ## ==> 사용할 code repository 폴더 명을 넣습니다. ex) model_code\n",
    "local_code_dir = ' ' ## ==> 생성한 local의 code repository 폴더 명을 넣습니다. ex) code"
   ]
  },
  {
   "cell_type": "code",
   "execution_count": 113,
   "id": "9f19a2b9-6e38-4e0e-ac44-b0b4de22a460",
   "metadata": {
    "tags": []
   },
   "outputs": [],
   "source": [
    "codecommit = boto3.client('codecommit')\n",
    "\n",
    "try:\n",
    "    response = codecommit.create_repository(\n",
    "        repositoryName=code_repository_name,\n",
    "        repositoryDescription='Data Scientists share their training code using this Repository'\n",
    "    )\n",
    "except:\n",
    "    \n",
    "    print(\"Repository already exists\")\n",
    "    response = codecommit.get_repository(\n",
    "        repositoryName=code_repository_name\n",
    "    )"
   ]
  },
  {
   "cell_type": "code",
   "execution_count": 114,
   "id": "ac4c1e77-f894-4e7c-81ab-9054c7515d61",
   "metadata": {
    "tags": []
   },
   "outputs": [
    {
     "data": {
      "text/plain": [
       "'https://git-codecommit.us-west-2.amazonaws.com/v1/repos/model_code'"
      ]
     },
     "execution_count": 114,
     "metadata": {},
     "output_type": "execute_result"
    }
   ],
   "source": [
    "codecommit_repo = response['repositoryMetadata']['cloneUrlHttp']\n",
    "codecommit_repo"
   ]
  },
  {
   "cell_type": "code",
   "execution_count": null,
   "id": "7ab59dbf-196b-4a32-bd49-c003342c715d",
   "metadata": {},
   "outputs": [],
   "source": [
    "!git init\n",
    "!git remote add repo_codecommit $codecommit_repo\n",
    "!git checkout -b main\n",
    "!git add $local_code_dir\n",
    "!git commit -m \"code-update\"\n",
    "!git push --set-upstream repo_codecommit main"
   ]
  },
  {
   "cell_type": "markdown",
   "id": "79d1cc04-a7d2-47a2-bdeb-0357a67aa775",
   "metadata": {},
   "source": [
    "## 6. [Optional] AWS Systems Manager Parameter Store 를 이용한 파라미터 저장/활용\n",
    "- [AWS Systems Manager Parameter Store](https://docs.aws.amazon.com/systems-manager/latest/userguide/systems-manager-parameter-store.html)\n",
    "- Attach IAM polich to sagemaker execution role (<b>with console</b>)\n",
    "> **SSM**: \"arn:aws:iam::aws:policy/AmazonSSMFullAccess\"<BR>"
   ]
  },
  {
   "cell_type": "code",
   "execution_count": 87,
   "id": "ef82d683-4008-4337-b756-fed86c4d6fc4",
   "metadata": {
    "tags": []
   },
   "outputs": [],
   "source": [
    "from utils.ssm import parameter_store"
   ]
  },
  {
   "cell_type": "code",
   "execution_count": 88,
   "id": "8cbafaa9-11bb-4207-ac4d-912e02f64709",
   "metadata": {
    "tags": []
   },
   "outputs": [],
   "source": [
    "pm = parameter_store(strRegionName)"
   ]
  },
  {
   "cell_type": "code",
   "execution_count": 128,
   "id": "0d074104-5c46-489b-982a-4e3801697757",
   "metadata": {
    "tags": []
   },
   "outputs": [
    {
     "data": {
      "text/plain": [
       "'Store suceess'"
      ]
     },
     "execution_count": 128,
     "metadata": {},
     "output_type": "execute_result"
    }
   ],
   "source": [
    "pm.put_params(key=\"PREFIX\", value=prefix, overwrite=True)\n",
    "pm.put_params(key=\"-\".join([prefix, \"REGION\"]), value=strRegionName, overwrite=True)\n",
    "pm.put_params(key=\"-\".join([prefix, \"BUCKET\"]), value=bucket_name, overwrite=True)\n",
    "pm.put_params(key=\"-\".join([prefix, \"SAGEMAKER-ROLE-ARN\"]), value=get_execution_role(), overwrite=True)\n",
    "pm.put_params(key=\"-\".join([prefix, \"ACCOUNT-ID\"]), value=strAccountId, overwrite=True)\n",
    "pm.put_params(key=\"-\".join([prefix, \"IMAGE-URI\"]), value=strEcrRepositoryUri, overwrite=True)\n",
    "pm.put_params(key=\"-\".join([prefix, \"S3-DATA-PATH\"]), value=f\"s3://{bucket_name}/{prefix}/data\", overwrite=True)\n",
    "pm.put_params(key=\"-\".join([prefix, \"CODE_REPO\"]), value=codecommit_repo.replace('https://',''), overwrite=True)  ## https:// 있을 경우 입력 못함\n",
    "pm.put_params(key=\"-\".join([prefix, \"CODECOMMIT-USERNAME\"]), value=ServiceUserName, overwrite=True, enc=True)\n",
    "pm.put_params(key=\"-\".join([prefix, \"CODECOMMIT-PWD\"]), value=ServicePassword, overwrite=True, enc=True)"
   ]
  },
  {
   "cell_type": "code",
   "execution_count": 127,
   "id": "7b3f10d7-7a58-4249-a160-076e4bb19bdc",
   "metadata": {
    "tags": []
   },
   "outputs": [
    {
     "name": "stdout",
     "output_type": "stream",
     "text": [
      "PREFIX: nemo-prod\n",
      "REGION: us-west-2\n",
      "BUCKET: sagemaker-us-west-2-322537213286\n",
      "AGEMAKER-ROLE-ARN: arn:aws:iam::322537213286:role/service-role/AmazonSageMaker-ExecutionRole-20210401T133000\n",
      "ACCOUNT-ID: 322537213286\n",
      "IMAGE-URI: 322537213286.dkr.ecr.us-west-2.amazonaws.com/nemo-test:latest\n",
      "S3-DATA-PATH: s3://sagemaker-us-west-2-322537213286/nemo-prod/data\n",
      "CODE_REPO: git-codecommit.us-west-2.amazonaws.com/v1/repos/model_code\n",
      "CODECOMMIT-USERNAME: napkin-at-322537213286\n",
      "CODECOMMIT-PWD: lTRH1S9iPZiC3kzKcQgwqMpziwyVnK13wZgo/ivDFZc=\n"
     ]
    }
   ],
   "source": [
    "print (f'PREFIX: {pm.get_params(key=\"PREFIX\")}')\n",
    "print (f'REGION: {pm.get_params(key=\"-\".join([prefix, \"REGION\"]))}')\n",
    "print (f'BUCKET: {pm.get_params(key=\"-\".join([prefix, \"BUCKET\"]))}')\n",
    "print (f'AGEMAKER-ROLE-ARN: {pm.get_params(key=\"-\".join([prefix, \"SAGEMAKER-ROLE-ARN\"]))}')\n",
    "print (f'ACCOUNT-ID: {pm.get_params(key=\"-\".join([prefix, \"ACCOUNT-ID\"]))}')\n",
    "print (f'IMAGE-URI: {pm.get_params(key=\"-\".join([prefix, \"IMAGE-URI\"]))}')\n",
    "print (f'S3-DATA-PATH: {pm.get_params(key=\"-\".join([prefix, \"S3-DATA-PATH\"]))}')\n",
    "print (f'CODE_REPO: {pm.get_params(key=\"-\".join([prefix, \"CODE_REPO\"]))}')\n",
    "print (f'CODECOMMIT-USERNAME: {pm.get_params(key=\"-\".join([prefix, \"CODECOMMIT-USERNAME\"]))}')\n",
    "print (f'CODECOMMIT-PWD: {pm.get_params(key=\"-\".join([prefix, \"CODECOMMIT-PWD\"]))}')"
   ]
  },
  {
   "cell_type": "code",
   "execution_count": null,
   "id": "1ec7d54c-ff7a-4989-9f5c-7b329a7e4510",
   "metadata": {},
   "outputs": [],
   "source": []
  }
 ],
 "metadata": {
  "kernelspec": {
   "display_name": "conda_pytorch_p39",
   "language": "python",
   "name": "conda_pytorch_p39"
  },
  "language_info": {
   "codemirror_mode": {
    "name": "ipython",
    "version": 3
   },
   "file_extension": ".py",
   "mimetype": "text/x-python",
   "name": "python",
   "nbconvert_exporter": "python",
   "pygments_lexer": "ipython3",
   "version": "3.9.15"
  },
  "vscode": {
   "interpreter": {
    "hash": "1f4a227f2552de404565d6626d9115986c409361ad6ef0bf195ad88ccd012b73"
   }
  }
 },
 "nbformat": 4,
 "nbformat_minor": 5
}
